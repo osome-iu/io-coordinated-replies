{
 "cells": [
  {
   "cell_type": "markdown",
   "id": "e96f540d-3473-485d-9323-d9fd1953f5b0",
   "metadata": {},
   "source": [
    "#### **This note book tests the api**"
   ]
  },
  {
   "cell_type": "code",
   "execution_count": 2,
   "id": "34d7cd7d-fb46-416f-b7c3-f577112108c0",
   "metadata": {
    "tags": []
   },
   "outputs": [],
   "source": [
    "import pandas as pd\n",
    "import numpy as np\n",
    "\n",
    "import importlib\n",
    "\n",
    "#### packages\n",
    "import helper.strategy_helper as st_hp\n",
    "import helper.visualization as vz_hp\n",
    "import config.config as config_hp"
   ]
  },
  {
   "cell_type": "markdown",
   "id": "e8c24158-6b81-49b4-a98b-a69b59db5b56",
   "metadata": {
    "tags": []
   },
   "source": [
    "#### **Train Test Functions**"
   ]
  },
  {
   "cell_type": "code",
   "execution_count": 19,
   "id": "ddc3ea9c-d2ae-4c1a-9d57-d1f648f7dda3",
   "metadata": {
    "tags": []
   },
   "outputs": [],
   "source": [
    "from sklearn.metrics import classification_report\n",
    "from sklearn.preprocessing import StandardScaler\n",
    "from sklearn.decomposition import PCA\n",
    "from sklearn.model_selection import cross_val_score\n",
    "from sklearn.ensemble import RandomForestClassifier\n",
    "from sklearn.metrics import roc_curve\n",
    "from sklearn.metrics import roc_auc_score\n",
    "from sklearn.metrics import auc\n",
    "from sklearn.metrics import precision_recall_fscore_support\n",
    "import helper.strategy_helper as st_hp\n",
    "\n",
    "def train_model(df_filtered,\n",
    "                y_column,\n",
    "                campaign,\n",
    "                result\n",
    "               ):\n",
    "    '''\n",
    "    Train the model\n",
    "    :param df_filtered: Dataframe with features\n",
    "    :param y_column: target column\n",
    "    :param campaign: Name of campaign\n",
    "    :param result: Global result list\n",
    "\n",
    "    :return result, model, best_threshold\n",
    "    '''\n",
    "    total_data = len(df_filtered)\n",
    "    \n",
    "    df_filtered['tweet_label'] = df_filtered['tweet_label'].astype(int)\n",
    "    columns_not_include = ['poster_tweetid',\n",
    "                           'tweet_label', \n",
    "                          ]\n",
    "    \n",
    "    columns_to_keep = list(set(df_filtered.columns) - set(columns_not_include))\n",
    "\n",
    "    X = df_filtered[columns_to_keep]\n",
    "    y = df_filtered[y_column]\n",
    "    \n",
    "    #model\n",
    "    pos_label = 1\n",
    "    scorer = make_scorer(f1_score, pos_label=pos_label)\n",
    "    \n",
    "    from sklearn.ensemble import RandomForestClassifier\n",
    "    from sklearn.model_selection import TunedThresholdClassifierCV\n",
    "    from sklearn.pipeline import make_pipeline\n",
    "    from sklearn.model_selection import RepeatedStratifiedKFold\n",
    "    from sklearn.metrics import f1_score\n",
    "    \n",
    "    model = RandomForestClassifier(n_estimators=100, \n",
    "                                   random_state=42\n",
    "                                  )\n",
    "    model = make_pipeline(StandardScaler(), model)\n",
    "    cv = RepeatedStratifiedKFold(n_splits=10, n_repeats=1, random_state=42)\n",
    "    tuned_model = TunedThresholdClassifierCV(estimator=model,\n",
    "                                             scoring=scorer,\n",
    "                                             store_cv_results = False,\n",
    "                                             n_jobs=-1\n",
    "                                            )\n",
    "    \n",
    "    tuned_model.fit(X, y)\n",
    "    best_f1 = tuned_model.best_score_\n",
    "    best_threshold = tuned_model.best_threshold_\n",
    "    \n",
    "    \n",
    "    print(f'Best f1 for {campaign} :', best_f1)\n",
    "    print(f'Best threshold for {campaign} :',best_threshold)\n",
    "    \n",
    "    result.append([campaign, total_data, \n",
    "                   best_f1, best_threshold,\n",
    "                   None, 'train', campaign\n",
    "                  ])\n",
    "    \n",
    "    return result, tuned_model, best_threshold\n",
    "\n",
    "\n",
    "def test(df_test, model, threshold, y_column):\n",
    "    '''\n",
    "    Test the model\n",
    "    :param df_test: Dataframe with test data\n",
    "    :param model: Trained model\n",
    "    :param threshold: Threshold to use for the classification\n",
    "    :param y_column: target column\n",
    "    '''\n",
    "    \n",
    "    df_test['tweet_label'] = df_test['tweet_label'].astype(int)\n",
    "    \n",
    "    columns_not_include = ['poster_tweetid', 'tweet_label', \n",
    "                           'replier_userid', 'replier_label'\n",
    "                          ]\n",
    "    \n",
    "    columns_to_keep = list(set(df_test.columns) - set(columns_not_include))\n",
    "\n",
    "    X_test = df_test[columns_to_keep]\n",
    "    y_test = df_test[y_column]\n",
    "    \n",
    "    probabilities = model.predict_proba(X_test)[:, 1]\n",
    "\n",
    "    predictions = (probabilities >= threshold).astype(int)\n",
    "    \n",
    "    y_pred = model.predict(X_test)\n",
    "\n",
    "    prf_1 = precision_recall_fscore_support(y_test, \n",
    "                                predictions,\n",
    "                                average='binary',\n",
    "                                pos_label=1\n",
    "                               )    \n",
    "    \n",
    "    prf_0 = precision_recall_fscore_support(y_test, \n",
    "                                predictions,\n",
    "                                average='binary',\n",
    "                                pos_label=0\n",
    "                               )\n",
    "    \n",
    "    roc_auc = roc_auc_score(y_test, probabilities)\n",
    "    \n",
    "    print('ROC :', roc_auc)\n",
    "    \n",
    "    return prf_1, prf_0, roc_auc"
   ]
  },
  {
   "cell_type": "markdown",
   "id": "4b2b3677-1f9e-4b04-812b-039e5d6b62e4",
   "metadata": {},
   "source": [
    "#### **Get top 5 campaigns**"
   ]
  },
  {
   "cell_type": "code",
   "execution_count": 9,
   "id": "bc995c35-6b48-43e5-a22b-9c35d337b0dc",
   "metadata": {
    "tags": []
   },
   "outputs": [],
   "source": [
    "#All targeted tweets and their replies\n",
    "balanced_pos_conversation = './../data/balanced_positive_conversation.pkl.gz'\n",
    "\n",
    "df_pos = pd.read_pickle(balanced_pos_conversation)\n",
    "\n",
    "df_grp_camp = (df_pos\n",
    "               .groupby(['campaign'])['poster_tweetid']\n",
    "               .nunique(dropna=False)\n",
    "               .to_frame('count')\n",
    "               .reset_index()\n",
    "               .sort_values(by=['count'],\n",
    "                            ascending=False\n",
    "                           )\n",
    "               \n",
    "              )"
   ]
  },
  {
   "cell_type": "code",
   "execution_count": 10,
   "id": "2491b464-f3d4-4bd5-b0fd-4fae5fe13150",
   "metadata": {
    "tags": []
   },
   "outputs": [
    {
     "data": {
      "text/plain": [
       "20          serbia_022020\n",
       "19    saudi_arabia_112019\n",
       "23          turkey_052020\n",
       "8            egypt_022020\n",
       "18        sa_eg_ae_022020\n",
       "Name: campaign, dtype: object"
      ]
     },
     "execution_count": 10,
     "metadata": {},
     "output_type": "execute_result"
    }
   ],
   "source": [
    "df_grp_camp['campaign'].head()"
   ]
  },
  {
   "cell_type": "code",
   "execution_count": 11,
   "id": "ff574299-47ce-4dda-907e-e5552e9b3364",
   "metadata": {
    "tags": []
   },
   "outputs": [
    {
     "data": {
      "text/plain": [
       "['serbia_022020',\n",
       " 'saudi_arabia_112019',\n",
       " 'turkey_052020',\n",
       " 'egypt_022020',\n",
       " 'sa_eg_ae_022020']"
      ]
     },
     "execution_count": 11,
     "metadata": {},
     "output_type": "execute_result"
    }
   ],
   "source": [
    "list_campaign = df_grp_camp['campaign'].head().tolist()\n",
    "list_campaign "
   ]
  },
  {
   "cell_type": "markdown",
   "id": "a2d1b67a-8234-493d-8ca5-f3c1cd0a6f72",
   "metadata": {},
   "source": [
    "#### **Train test the models**"
   ]
  },
  {
   "cell_type": "code",
   "execution_count": null,
   "id": "b3867ab8-2a92-4134-a6b7-3447d7f025e7",
   "metadata": {
    "tags": []
   },
   "outputs": [],
   "source": [
    "import helper.stat_helper as stat_hp\n",
    "importlib.reload(stat_hp)\n",
    "import pickle\n",
    "from sklearn.metrics import make_scorer, precision_score, recall_score, f1_score, roc_auc_score\n",
    "from sklearn.model_selection import TunedThresholdClassifierCV\n",
    "from sklearn.pipeline import make_pipeline\n",
    "from sklearn.model_selection import RepeatedStratifiedKFold\n",
    "from sklearn.metrics import f1_score\n",
    "\n",
    "camp_stats = './../results'\n",
    "\n",
    "list_campaign = df_grp_camp.head()['campaign'].tolist()\n",
    "result =[]\n",
    "list_campaign.extend(['remain'])\n",
    "\n",
    "for campaign in list_campaign:\n",
    "    \n",
    "    print(f'****** Train on {campaign} ************')\n",
    "    \n",
    "    df_train = pd.read_pickle(f'{camp_stats}/tweet_classifier_{campaign}_features.pkl.gz')\n",
    "    \n",
    "    print(campaign)\n",
    "    \n",
    "    result, model, threshold = train_model(df_train, 'tweet_label',\n",
    "                                           campaign, result)\n",
    "    \n",
    "    with open(f'./../results/tweet_classifier_{campaign}_model.pkl', 'wb') as f:\n",
    "        pickle.dump(model, f)\n",
    "\n",
    "    \n",
    "    for camp_test in list_campaign:\n",
    "        if campaign == camp_test:\n",
    "            continue\n",
    "            \n",
    "        print(f'********* Test on {camp_test} *******************')\n",
    "        df_test = pd.read_pickle(f'{camp_stats}/tweet_classifier_{camp_test}_features.pkl.gz')\n",
    "        \n",
    "        total_data = len(df_test)\n",
    "        \n",
    "        print(df_test.loc[df_test['tweet_label'] == 1]['poster_tweetid'].nunique())\n",
    "        print(df_test.loc[df_test['tweet_label'] == 0]['poster_tweetid'].nunique())\n",
    "        print(df_test.info())\n",
    "        print(df_test['poster_tweetid'].nunique())\n",
    "        \n",
    "        # test\n",
    "        prf_1, prf_0, roc_auc = test(df_test, model,\n",
    "                                     threshold, 'tweet_label'\n",
    "                                    )\n",
    "        \n",
    "        result.append([camp_test, total_data, \n",
    "                       prf_1[2], threshold, \n",
    "                       prf_0[2], 'test', campaign,\n",
    "                      ])\n",
    "        \n",
    "        \n",
    "(pd.DataFrame(result,\n",
    "              columns=['campaign', 'total_data', \n",
    "                       'best_f1_1', 'threshold', \n",
    "                       'best_f1_0', 'type',\n",
    "                       'trainded_on'\n",
    "                      ]\n",
    "              )\n",
    ").to_pickle('./../results/tweet_classifier_train_test_cross_campaign.pkl.gz')"
   ]
  },
  {
   "cell_type": "markdown",
   "id": "d281729d-c7a7-48e3-9f50-851387d5e69e",
   "metadata": {
    "tags": []
   },
   "source": [
    "#### **Load the result**"
   ]
  },
  {
   "cell_type": "code",
   "execution_count": 3,
   "id": "f6edf175-f2dc-4c58-ad86-98efcb42879e",
   "metadata": {
    "tags": []
   },
   "outputs": [
    {
     "name": "stdout",
     "output_type": "stream",
     "text": [
      "********* Test on remaining *******************\n",
      "Index(['campaign', 'total_data', 'best_f1_1', 'threshold', 'best_f1_0', 'type',\n",
      "       'trainded_on'],\n",
      "      dtype='object')\n"
     ]
    }
   ],
   "source": [
    " print(f'********* Test on remaining *******************')\n",
    "df_test = pd.read_pickle('./../results/tweet_classifier_train_test_cross_campaign.pkl.gz')\n",
    "\n",
    "print(df_test.columns)"
   ]
  },
  {
   "cell_type": "markdown",
   "id": "ca48ea92-675f-4d53-89e6-d003090373ec",
   "metadata": {},
   "source": [
    "#### **Trained and tested on same campaign**\n",
    "\n",
    "remain == Others"
   ]
  },
  {
   "cell_type": "code",
   "execution_count": 4,
   "id": "c1324e4d-c50b-40af-a66b-f20199cc8632",
   "metadata": {
    "tags": []
   },
   "outputs": [
    {
     "data": {
      "text/html": [
       "<div>\n",
       "<style scoped>\n",
       "    .dataframe tbody tr th:only-of-type {\n",
       "        vertical-align: middle;\n",
       "    }\n",
       "\n",
       "    .dataframe tbody tr th {\n",
       "        vertical-align: top;\n",
       "    }\n",
       "\n",
       "    .dataframe thead th {\n",
       "        text-align: right;\n",
       "    }\n",
       "</style>\n",
       "<table border=\"1\" class=\"dataframe\">\n",
       "  <thead>\n",
       "    <tr style=\"text-align: right;\">\n",
       "      <th></th>\n",
       "      <th>campaign</th>\n",
       "      <th>best_f1_1</th>\n",
       "      <th>trainded_on</th>\n",
       "    </tr>\n",
       "  </thead>\n",
       "  <tbody>\n",
       "    <tr>\n",
       "      <th>0</th>\n",
       "      <td>serbia_022020</td>\n",
       "      <td>0.854742</td>\n",
       "      <td>serbia_022020</td>\n",
       "    </tr>\n",
       "    <tr>\n",
       "      <th>6</th>\n",
       "      <td>saudi_arabia_112019</td>\n",
       "      <td>0.764838</td>\n",
       "      <td>saudi_arabia_112019</td>\n",
       "    </tr>\n",
       "    <tr>\n",
       "      <th>12</th>\n",
       "      <td>turkey_052020</td>\n",
       "      <td>0.747362</td>\n",
       "      <td>turkey_052020</td>\n",
       "    </tr>\n",
       "    <tr>\n",
       "      <th>18</th>\n",
       "      <td>egypt_022020</td>\n",
       "      <td>0.657902</td>\n",
       "      <td>egypt_022020</td>\n",
       "    </tr>\n",
       "    <tr>\n",
       "      <th>24</th>\n",
       "      <td>sa_eg_ae_022020</td>\n",
       "      <td>0.732042</td>\n",
       "      <td>sa_eg_ae_022020</td>\n",
       "    </tr>\n",
       "    <tr>\n",
       "      <th>30</th>\n",
       "      <td>remain</td>\n",
       "      <td>0.748620</td>\n",
       "      <td>remain</td>\n",
       "    </tr>\n",
       "  </tbody>\n",
       "</table>\n",
       "</div>"
      ],
      "text/plain": [
       "               campaign  best_f1_1          trainded_on\n",
       "0         serbia_022020   0.854742        serbia_022020\n",
       "6   saudi_arabia_112019   0.764838  saudi_arabia_112019\n",
       "12        turkey_052020   0.747362        turkey_052020\n",
       "18         egypt_022020   0.657902         egypt_022020\n",
       "24      sa_eg_ae_022020   0.732042      sa_eg_ae_022020\n",
       "30               remain   0.748620               remain"
      ]
     },
     "execution_count": 4,
     "metadata": {},
     "output_type": "execute_result"
    }
   ],
   "source": [
    "df_train = df_test.loc[(df_test['type'] == 'train')]\n",
    "\n",
    "df_train[['campaign', 'best_f1_1', 'trainded_on' ]]"
   ]
  },
  {
   "cell_type": "markdown",
   "id": "506c4090-34c0-4a8a-9b0e-b8a2b1d59f59",
   "metadata": {},
   "source": [
    "#### **Trained on one campaign and tested on other**"
   ]
  },
  {
   "cell_type": "markdown",
   "id": "f1048939-88cc-4ea4-b0d6-b1c768142552",
   "metadata": {},
   "source": [
    "##### **Serbia**"
   ]
  },
  {
   "cell_type": "code",
   "execution_count": 7,
   "id": "4dac5e1c-f4f0-4a5f-9c9a-56ee99b7ac6a",
   "metadata": {},
   "outputs": [
    {
     "data": {
      "text/html": [
       "<div>\n",
       "<style scoped>\n",
       "    .dataframe tbody tr th:only-of-type {\n",
       "        vertical-align: middle;\n",
       "    }\n",
       "\n",
       "    .dataframe tbody tr th {\n",
       "        vertical-align: top;\n",
       "    }\n",
       "\n",
       "    .dataframe thead th {\n",
       "        text-align: right;\n",
       "    }\n",
       "</style>\n",
       "<table border=\"1\" class=\"dataframe\">\n",
       "  <thead>\n",
       "    <tr style=\"text-align: right;\">\n",
       "      <th></th>\n",
       "      <th>campaign</th>\n",
       "      <th>best_f1_1</th>\n",
       "      <th>trainded_on</th>\n",
       "    </tr>\n",
       "  </thead>\n",
       "  <tbody>\n",
       "    <tr>\n",
       "      <th>1</th>\n",
       "      <td>saudi_arabia_112019</td>\n",
       "      <td>0.547735</td>\n",
       "      <td>serbia_022020</td>\n",
       "    </tr>\n",
       "    <tr>\n",
       "      <th>2</th>\n",
       "      <td>turkey_052020</td>\n",
       "      <td>0.614035</td>\n",
       "      <td>serbia_022020</td>\n",
       "    </tr>\n",
       "    <tr>\n",
       "      <th>3</th>\n",
       "      <td>egypt_022020</td>\n",
       "      <td>0.564816</td>\n",
       "      <td>serbia_022020</td>\n",
       "    </tr>\n",
       "    <tr>\n",
       "      <th>4</th>\n",
       "      <td>sa_eg_ae_022020</td>\n",
       "      <td>0.527687</td>\n",
       "      <td>serbia_022020</td>\n",
       "    </tr>\n",
       "    <tr>\n",
       "      <th>5</th>\n",
       "      <td>remain</td>\n",
       "      <td>0.659993</td>\n",
       "      <td>serbia_022020</td>\n",
       "    </tr>\n",
       "  </tbody>\n",
       "</table>\n",
       "</div>"
      ],
      "text/plain": [
       "              campaign  best_f1_1    trainded_on\n",
       "1  saudi_arabia_112019   0.547735  serbia_022020\n",
       "2        turkey_052020   0.614035  serbia_022020\n",
       "3         egypt_022020   0.564816  serbia_022020\n",
       "4      sa_eg_ae_022020   0.527687  serbia_022020\n",
       "5               remain   0.659993  serbia_022020"
      ]
     },
     "execution_count": 7,
     "metadata": {},
     "output_type": "execute_result"
    }
   ],
   "source": [
    "df_train = df_test.loc[(df_test['type'] == 'test') & \\\n",
    "                       (\n",
    "    df_test['trainded_on'] == 'serbia_022020')]\n",
    "\n",
    "df_train[['campaign', 'best_f1_1', 'trainded_on' ]]"
   ]
  },
  {
   "cell_type": "markdown",
   "id": "971016cf-dcb9-425a-af5b-6e6cf94f5d7f",
   "metadata": {},
   "source": [
    "#### **saudi_arabia_112019**"
   ]
  },
  {
   "cell_type": "code",
   "execution_count": 8,
   "id": "e2a6a0c9-bd2f-4117-9cbe-9cd6a844ec8f",
   "metadata": {},
   "outputs": [
    {
     "data": {
      "text/html": [
       "<div>\n",
       "<style scoped>\n",
       "    .dataframe tbody tr th:only-of-type {\n",
       "        vertical-align: middle;\n",
       "    }\n",
       "\n",
       "    .dataframe tbody tr th {\n",
       "        vertical-align: top;\n",
       "    }\n",
       "\n",
       "    .dataframe thead th {\n",
       "        text-align: right;\n",
       "    }\n",
       "</style>\n",
       "<table border=\"1\" class=\"dataframe\">\n",
       "  <thead>\n",
       "    <tr style=\"text-align: right;\">\n",
       "      <th></th>\n",
       "      <th>campaign</th>\n",
       "      <th>best_f1_1</th>\n",
       "      <th>trainded_on</th>\n",
       "    </tr>\n",
       "  </thead>\n",
       "  <tbody>\n",
       "    <tr>\n",
       "      <th>7</th>\n",
       "      <td>serbia_022020</td>\n",
       "      <td>0.553689</td>\n",
       "      <td>saudi_arabia_112019</td>\n",
       "    </tr>\n",
       "    <tr>\n",
       "      <th>8</th>\n",
       "      <td>turkey_052020</td>\n",
       "      <td>0.531314</td>\n",
       "      <td>saudi_arabia_112019</td>\n",
       "    </tr>\n",
       "    <tr>\n",
       "      <th>9</th>\n",
       "      <td>egypt_022020</td>\n",
       "      <td>0.632082</td>\n",
       "      <td>saudi_arabia_112019</td>\n",
       "    </tr>\n",
       "    <tr>\n",
       "      <th>10</th>\n",
       "      <td>sa_eg_ae_022020</td>\n",
       "      <td>0.743740</td>\n",
       "      <td>saudi_arabia_112019</td>\n",
       "    </tr>\n",
       "    <tr>\n",
       "      <th>11</th>\n",
       "      <td>remain</td>\n",
       "      <td>0.682728</td>\n",
       "      <td>saudi_arabia_112019</td>\n",
       "    </tr>\n",
       "  </tbody>\n",
       "</table>\n",
       "</div>"
      ],
      "text/plain": [
       "           campaign  best_f1_1          trainded_on\n",
       "7     serbia_022020   0.553689  saudi_arabia_112019\n",
       "8     turkey_052020   0.531314  saudi_arabia_112019\n",
       "9      egypt_022020   0.632082  saudi_arabia_112019\n",
       "10  sa_eg_ae_022020   0.743740  saudi_arabia_112019\n",
       "11           remain   0.682728  saudi_arabia_112019"
      ]
     },
     "execution_count": 8,
     "metadata": {},
     "output_type": "execute_result"
    }
   ],
   "source": [
    "df_train = df_test.loc[(df_test['type'] == 'test') & \\\n",
    "                       (\n",
    "    df_test['trainded_on'] == 'saudi_arabia_112019')]\n",
    "\n",
    "df_train[['campaign', 'best_f1_1', 'trainded_on' ]]"
   ]
  },
  {
   "cell_type": "markdown",
   "id": "4941086b-34b9-4f6e-a167-cb0ee32eb973",
   "metadata": {},
   "source": [
    "##### **turkey_052020**"
   ]
  },
  {
   "cell_type": "code",
   "execution_count": 14,
   "id": "a124cb99-09ab-4bc5-9776-700f6020661f",
   "metadata": {},
   "outputs": [
    {
     "data": {
      "text/html": [
       "<div>\n",
       "<style scoped>\n",
       "    .dataframe tbody tr th:only-of-type {\n",
       "        vertical-align: middle;\n",
       "    }\n",
       "\n",
       "    .dataframe tbody tr th {\n",
       "        vertical-align: top;\n",
       "    }\n",
       "\n",
       "    .dataframe thead th {\n",
       "        text-align: right;\n",
       "    }\n",
       "</style>\n",
       "<table border=\"1\" class=\"dataframe\">\n",
       "  <thead>\n",
       "    <tr style=\"text-align: right;\">\n",
       "      <th></th>\n",
       "      <th>campaign</th>\n",
       "      <th>best_f1_1</th>\n",
       "      <th>trainded_on</th>\n",
       "    </tr>\n",
       "  </thead>\n",
       "  <tbody>\n",
       "    <tr>\n",
       "      <th>13</th>\n",
       "      <td>serbia_022020</td>\n",
       "      <td>0.615898</td>\n",
       "      <td>turkey_052020</td>\n",
       "    </tr>\n",
       "    <tr>\n",
       "      <th>14</th>\n",
       "      <td>saudi_arabia_112019</td>\n",
       "      <td>0.608516</td>\n",
       "      <td>turkey_052020</td>\n",
       "    </tr>\n",
       "    <tr>\n",
       "      <th>15</th>\n",
       "      <td>egypt_022020</td>\n",
       "      <td>0.632352</td>\n",
       "      <td>turkey_052020</td>\n",
       "    </tr>\n",
       "    <tr>\n",
       "      <th>16</th>\n",
       "      <td>sa_eg_ae_022020</td>\n",
       "      <td>0.651697</td>\n",
       "      <td>turkey_052020</td>\n",
       "    </tr>\n",
       "    <tr>\n",
       "      <th>17</th>\n",
       "      <td>remain</td>\n",
       "      <td>0.685958</td>\n",
       "      <td>turkey_052020</td>\n",
       "    </tr>\n",
       "  </tbody>\n",
       "</table>\n",
       "</div>"
      ],
      "text/plain": [
       "               campaign  best_f1_1    trainded_on\n",
       "13        serbia_022020   0.615898  turkey_052020\n",
       "14  saudi_arabia_112019   0.608516  turkey_052020\n",
       "15         egypt_022020   0.632352  turkey_052020\n",
       "16      sa_eg_ae_022020   0.651697  turkey_052020\n",
       "17               remain   0.685958  turkey_052020"
      ]
     },
     "execution_count": 14,
     "metadata": {},
     "output_type": "execute_result"
    }
   ],
   "source": [
    "df_train = df_test.loc[(df_test['type'] == 'test') & \\\n",
    "                       (\n",
    "    df_test['trainded_on'] == 'turkey_052020')]\n",
    "\n",
    "df_train[['campaign', 'best_f1_1', 'trainded_on' ]]"
   ]
  },
  {
   "cell_type": "markdown",
   "id": "b6473d80-0ebc-42e0-8340-129d155c853d",
   "metadata": {},
   "source": [
    "#### **egypt_022020**"
   ]
  },
  {
   "cell_type": "code",
   "execution_count": 15,
   "id": "33e3ba74-2316-453d-9bef-e5feb48ba586",
   "metadata": {},
   "outputs": [
    {
     "data": {
      "text/html": [
       "<div>\n",
       "<style scoped>\n",
       "    .dataframe tbody tr th:only-of-type {\n",
       "        vertical-align: middle;\n",
       "    }\n",
       "\n",
       "    .dataframe tbody tr th {\n",
       "        vertical-align: top;\n",
       "    }\n",
       "\n",
       "    .dataframe thead th {\n",
       "        text-align: right;\n",
       "    }\n",
       "</style>\n",
       "<table border=\"1\" class=\"dataframe\">\n",
       "  <thead>\n",
       "    <tr style=\"text-align: right;\">\n",
       "      <th></th>\n",
       "      <th>campaign</th>\n",
       "      <th>best_f1_1</th>\n",
       "      <th>trainded_on</th>\n",
       "    </tr>\n",
       "  </thead>\n",
       "  <tbody>\n",
       "    <tr>\n",
       "      <th>19</th>\n",
       "      <td>serbia_022020</td>\n",
       "      <td>0.436723</td>\n",
       "      <td>egypt_022020</td>\n",
       "    </tr>\n",
       "    <tr>\n",
       "      <th>20</th>\n",
       "      <td>saudi_arabia_112019</td>\n",
       "      <td>0.373896</td>\n",
       "      <td>egypt_022020</td>\n",
       "    </tr>\n",
       "    <tr>\n",
       "      <th>21</th>\n",
       "      <td>turkey_052020</td>\n",
       "      <td>0.367360</td>\n",
       "      <td>egypt_022020</td>\n",
       "    </tr>\n",
       "    <tr>\n",
       "      <th>22</th>\n",
       "      <td>sa_eg_ae_022020</td>\n",
       "      <td>0.386059</td>\n",
       "      <td>egypt_022020</td>\n",
       "    </tr>\n",
       "    <tr>\n",
       "      <th>23</th>\n",
       "      <td>remain</td>\n",
       "      <td>0.399060</td>\n",
       "      <td>egypt_022020</td>\n",
       "    </tr>\n",
       "  </tbody>\n",
       "</table>\n",
       "</div>"
      ],
      "text/plain": [
       "               campaign  best_f1_1   trainded_on\n",
       "19        serbia_022020   0.436723  egypt_022020\n",
       "20  saudi_arabia_112019   0.373896  egypt_022020\n",
       "21        turkey_052020   0.367360  egypt_022020\n",
       "22      sa_eg_ae_022020   0.386059  egypt_022020\n",
       "23               remain   0.399060  egypt_022020"
      ]
     },
     "execution_count": 15,
     "metadata": {},
     "output_type": "execute_result"
    }
   ],
   "source": [
    "df_train = df_test.loc[(df_test['type'] == 'test') & \\\n",
    "                       (\n",
    "    df_test['trainded_on'] == 'egypt_022020')]\n",
    "\n",
    "df_train[['campaign', 'best_f1_1', 'trainded_on' ]]"
   ]
  },
  {
   "cell_type": "markdown",
   "id": "fc5965ca-c04d-413b-8355-6e365455ffc6",
   "metadata": {},
   "source": [
    "##### **sa_eg_ae_022020**"
   ]
  },
  {
   "cell_type": "code",
   "execution_count": 16,
   "id": "cd564041-d0c0-4aa3-ad39-4b2276d1a943",
   "metadata": {},
   "outputs": [
    {
     "data": {
      "text/html": [
       "<div>\n",
       "<style scoped>\n",
       "    .dataframe tbody tr th:only-of-type {\n",
       "        vertical-align: middle;\n",
       "    }\n",
       "\n",
       "    .dataframe tbody tr th {\n",
       "        vertical-align: top;\n",
       "    }\n",
       "\n",
       "    .dataframe thead th {\n",
       "        text-align: right;\n",
       "    }\n",
       "</style>\n",
       "<table border=\"1\" class=\"dataframe\">\n",
       "  <thead>\n",
       "    <tr style=\"text-align: right;\">\n",
       "      <th></th>\n",
       "      <th>campaign</th>\n",
       "      <th>best_f1_1</th>\n",
       "      <th>trainded_on</th>\n",
       "    </tr>\n",
       "  </thead>\n",
       "  <tbody>\n",
       "    <tr>\n",
       "      <th>25</th>\n",
       "      <td>serbia_022020</td>\n",
       "      <td>0.475140</td>\n",
       "      <td>sa_eg_ae_022020</td>\n",
       "    </tr>\n",
       "    <tr>\n",
       "      <th>26</th>\n",
       "      <td>saudi_arabia_112019</td>\n",
       "      <td>0.580475</td>\n",
       "      <td>sa_eg_ae_022020</td>\n",
       "    </tr>\n",
       "    <tr>\n",
       "      <th>27</th>\n",
       "      <td>turkey_052020</td>\n",
       "      <td>0.571922</td>\n",
       "      <td>sa_eg_ae_022020</td>\n",
       "    </tr>\n",
       "    <tr>\n",
       "      <th>28</th>\n",
       "      <td>egypt_022020</td>\n",
       "      <td>0.606140</td>\n",
       "      <td>sa_eg_ae_022020</td>\n",
       "    </tr>\n",
       "    <tr>\n",
       "      <th>29</th>\n",
       "      <td>remain</td>\n",
       "      <td>0.482398</td>\n",
       "      <td>sa_eg_ae_022020</td>\n",
       "    </tr>\n",
       "  </tbody>\n",
       "</table>\n",
       "</div>"
      ],
      "text/plain": [
       "               campaign  best_f1_1      trainded_on\n",
       "25        serbia_022020   0.475140  sa_eg_ae_022020\n",
       "26  saudi_arabia_112019   0.580475  sa_eg_ae_022020\n",
       "27        turkey_052020   0.571922  sa_eg_ae_022020\n",
       "28         egypt_022020   0.606140  sa_eg_ae_022020\n",
       "29               remain   0.482398  sa_eg_ae_022020"
      ]
     },
     "execution_count": 16,
     "metadata": {},
     "output_type": "execute_result"
    }
   ],
   "source": [
    "df_train = df_test.loc[(df_test['type'] == 'test') & \\\n",
    "                       (\n",
    "    df_test['trainded_on'] == 'sa_eg_ae_022020')]\n",
    "\n",
    "df_train[['campaign', 'best_f1_1', 'trainded_on' ]]"
   ]
  },
  {
   "cell_type": "markdown",
   "id": "e08fc230-2bad-4d9c-9f09-88d9c8c5c058",
   "metadata": {},
   "source": [
    "#### **Remain**"
   ]
  },
  {
   "cell_type": "code",
   "execution_count": 17,
   "id": "0ed201e9-ea6d-46cf-a7c8-64625389faba",
   "metadata": {},
   "outputs": [
    {
     "data": {
      "text/html": [
       "<div>\n",
       "<style scoped>\n",
       "    .dataframe tbody tr th:only-of-type {\n",
       "        vertical-align: middle;\n",
       "    }\n",
       "\n",
       "    .dataframe tbody tr th {\n",
       "        vertical-align: top;\n",
       "    }\n",
       "\n",
       "    .dataframe thead th {\n",
       "        text-align: right;\n",
       "    }\n",
       "</style>\n",
       "<table border=\"1\" class=\"dataframe\">\n",
       "  <thead>\n",
       "    <tr style=\"text-align: right;\">\n",
       "      <th></th>\n",
       "      <th>campaign</th>\n",
       "      <th>best_f1_1</th>\n",
       "      <th>trainded_on</th>\n",
       "    </tr>\n",
       "  </thead>\n",
       "  <tbody>\n",
       "    <tr>\n",
       "      <th>31</th>\n",
       "      <td>serbia_022020</td>\n",
       "      <td>0.629570</td>\n",
       "      <td>remain</td>\n",
       "    </tr>\n",
       "    <tr>\n",
       "      <th>32</th>\n",
       "      <td>saudi_arabia_112019</td>\n",
       "      <td>0.596991</td>\n",
       "      <td>remain</td>\n",
       "    </tr>\n",
       "    <tr>\n",
       "      <th>33</th>\n",
       "      <td>turkey_052020</td>\n",
       "      <td>0.636496</td>\n",
       "      <td>remain</td>\n",
       "    </tr>\n",
       "    <tr>\n",
       "      <th>34</th>\n",
       "      <td>egypt_022020</td>\n",
       "      <td>0.561988</td>\n",
       "      <td>remain</td>\n",
       "    </tr>\n",
       "    <tr>\n",
       "      <th>35</th>\n",
       "      <td>sa_eg_ae_022020</td>\n",
       "      <td>0.521053</td>\n",
       "      <td>remain</td>\n",
       "    </tr>\n",
       "  </tbody>\n",
       "</table>\n",
       "</div>"
      ],
      "text/plain": [
       "               campaign  best_f1_1 trainded_on\n",
       "31        serbia_022020   0.629570      remain\n",
       "32  saudi_arabia_112019   0.596991      remain\n",
       "33        turkey_052020   0.636496      remain\n",
       "34         egypt_022020   0.561988      remain\n",
       "35      sa_eg_ae_022020   0.521053      remain"
      ]
     },
     "execution_count": 17,
     "metadata": {},
     "output_type": "execute_result"
    }
   ],
   "source": [
    "df_train = df_test.loc[(df_test['type'] == 'test') & \\\n",
    "                       (\n",
    "    df_test['trainded_on'] == 'remain')]\n",
    "\n",
    "df_train[['campaign', 'best_f1_1', 'trainded_on' ]]"
   ]
  },
  {
   "cell_type": "code",
   "execution_count": null,
   "id": "ccd4508f-ca3a-4aee-947d-44eae4cd2312",
   "metadata": {},
   "outputs": [],
   "source": []
  }
 ],
 "metadata": {
  "kernelspec": {
   "display_name": "Python 3 (ipykernel)",
   "language": "python",
   "name": "python3"
  },
  "language_info": {
   "codemirror_mode": {
    "name": "ipython",
    "version": 3
   },
   "file_extension": ".py",
   "mimetype": "text/x-python",
   "name": "python",
   "nbconvert_exporter": "python",
   "pygments_lexer": "ipython3",
   "version": "3.12.2"
  }
 },
 "nbformat": 4,
 "nbformat_minor": 5
}
