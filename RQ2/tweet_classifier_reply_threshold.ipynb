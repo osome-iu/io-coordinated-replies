{
 "cells": [
  {
   "cell_type": "markdown",
   "id": "3e1282cd-371b-4d3e-b9d1-54208c6f42a0",
   "metadata": {},
   "source": [
    "### **RQ2: This script test tweet classifier model with different IO reply threshold**"
   ]
  },
  {
   "cell_type": "code",
   "execution_count": 2,
   "id": "61a73c45-b166-4e76-8496-14e179177017",
   "metadata": {
    "tags": []
   },
   "outputs": [],
   "source": [
    "import pandas as pd\n",
    "import numpy as np\n",
    "import warnings\n",
    "\n",
    "import importlib\n",
    "\n",
    "#### packages\n",
    "import helper.strategy_helper as st\n",
    "import helper.visualization as viz_hp\n",
    "import config.config as config_hp\n",
    "import helper.stat_helper as stat_hp"
   ]
  },
  {
   "cell_type": "markdown",
   "id": "83702b58-7420-4bae-9400-66fa1b5da853",
   "metadata": {
    "tags": []
   },
   "source": [
    "### **Get tweet classifier features**"
   ]
  },
  {
   "cell_type": "code",
   "execution_count": 3,
   "id": "e36ca0c7-fa8d-479c-8c33-f86feae026e1",
   "metadata": {
    "tags": []
   },
   "outputs": [],
   "source": [
    "importlib.reload(stat_hp)\n",
    "\n",
    "import importlib\n",
    "\n",
    "tweet_features = './../data/tweet_classifier_features.pkl.gz'\n",
    "\n",
    "df_all_stat = pd.read_pickle(tweet_features)"
   ]
  },
  {
   "cell_type": "markdown",
   "id": "351c7836-ae25-484d-b743-b3d239834277",
   "metadata": {
    "tags": []
   },
   "source": [
    "### **Load all targeted and their replies**"
   ]
  },
  {
   "cell_type": "code",
   "execution_count": 4,
   "id": "59ddefec-ed16-4e49-b3d3-2128065913d9",
   "metadata": {
    "tags": []
   },
   "outputs": [
    {
     "name": "stdout",
     "output_type": "stream",
     "text": [
      "Index(['tweet_text', 'conversation_id', 'replier_tweetid', 'replier_userid',\n",
      "       'poster_userid', 'poster_tweetid', 'tweet_time', 'tweet_language',\n",
      "       'replier_label', 'year', 'campaign', 'tweet_label', 'tweet_time_year',\n",
      "       'common', 'id', 'username'],\n",
      "      dtype='object')\n"
     ]
    }
   ],
   "source": [
    "#All targeted tweets and their replies\n",
    "balanced_pos_conversation = './../data/balanced_positive_conversation.pkl.gz'\n",
    "\n",
    "df_pos = pd.read_pickle(balanced_pos_conversation)\n",
    "\n",
    "print(df_pos.columns)"
   ]
  },
  {
   "cell_type": "markdown",
   "id": "ef0c6192-9382-43c7-b586-117dadd92a86",
   "metadata": {
    "tags": []
   },
   "source": [
    "### **Count the number of replies from IO in each targeted tweet**"
   ]
  },
  {
   "cell_type": "code",
   "execution_count": 8,
   "id": "2e269024-d4fe-4fe1-9814-0f1779976ac8",
   "metadata": {
    "tags": []
   },
   "outputs": [],
   "source": [
    "df_pos_replier = df_pos.loc[df_pos['replier_label'] == 1]"
   ]
  },
  {
   "cell_type": "code",
   "execution_count": 9,
   "id": "3362091d-09c8-46d1-9f82-bb533f13458e",
   "metadata": {
    "tags": []
   },
   "outputs": [],
   "source": [
    "df_pos_grp = (df_pos_replier\n",
    "              .groupby(['poster_tweetid'])['replier_tweetid']\n",
    "              .size()\n",
    "              .to_frame('positive_replier_count')\n",
    "              .reset_index()\n",
    "             )"
   ]
  },
  {
   "cell_type": "code",
   "execution_count": 10,
   "id": "c60450ac-443b-4772-b95d-d00518084d88",
   "metadata": {
    "tags": []
   },
   "outputs": [
    {
     "data": {
      "text/plain": [
       "Index(['poster_tweetid', 'positive_replier_count'], dtype='object')"
      ]
     },
     "execution_count": 10,
     "metadata": {},
     "output_type": "execute_result"
    }
   ],
   "source": [
    "df_pos_grp.columns"
   ]
  },
  {
   "cell_type": "code",
   "execution_count": 11,
   "id": "df4dc2ca-3fe4-4eda-982a-ff5893804137",
   "metadata": {
    "tags": []
   },
   "outputs": [],
   "source": [
    "df_all_stat['poster_tweetid'] = df_all_stat['poster_tweetid'].astype(str)\n",
    "df_pos_grp['poster_tweetid'] = df_pos_grp['poster_tweetid'].astype(str)"
   ]
  },
  {
   "cell_type": "code",
   "execution_count": 12,
   "id": "51cf271b-7c51-4cae-a2c2-696a9f35b152",
   "metadata": {
    "tags": []
   },
   "outputs": [],
   "source": [
    "#### Add the number of IO replies that each tweet got to feature data\n",
    "\n",
    "df_all_stat = df_all_stat.merge(df_pos_grp,\n",
    "                  on='poster_tweetid',\n",
    "                  how='left'\n",
    "                 )"
   ]
  },
  {
   "cell_type": "markdown",
   "id": "a804f13c-3a09-4ee8-b45e-c726e4ed9f11",
   "metadata": {
    "tags": []
   },
   "source": [
    "### **Test with same posters**\n",
    "Task: See how the reply threshold affect the classification of targeted tweets <br />\n",
    "Things to be kept constant as the original setting: same poster in both + and - side <br />\n",
    "balanced dataset"
   ]
  },
  {
   "cell_type": "code",
   "execution_count": 15,
   "id": "13c5cce3-3b2b-4f5e-860f-8f1c2ea62bce",
   "metadata": {
    "tags": []
   },
   "outputs": [
    {
     "data": {
      "text/plain": [
       "True"
      ]
     },
     "execution_count": 15,
     "metadata": {},
     "output_type": "execute_result"
    }
   ],
   "source": [
    "'tweet_label' in df_all_stat.columns"
   ]
  },
  {
   "cell_type": "code",
   "execution_count": 17,
   "id": "af6c509a-1f95-4fd9-a969-7a842b1768b7",
   "metadata": {
    "tags": []
   },
   "outputs": [
    {
     "data": {
      "text/plain": [
       "array([1, 0])"
      ]
     },
     "execution_count": 17,
     "metadata": {},
     "output_type": "execute_result"
    }
   ],
   "source": [
    "df_all_stat['tweet_label'].unique()"
   ]
  },
  {
   "cell_type": "markdown",
   "id": "a6df9d12-e66a-40c7-9cd7-dab9d3343464",
   "metadata": {},
   "source": [
    "#### **Test how result change with threshold of reply from IO**"
   ]
  },
  {
   "cell_type": "code",
   "execution_count": 26,
   "id": "145630ca-b48d-4a6f-a360-4a4fe11c728f",
   "metadata": {
    "tags": []
   },
   "outputs": [
    {
     "name": "stdout",
     "output_type": "stream",
     "text": [
      "5  Total length : 7816\n",
      "True\n",
      "\n",
      " **** random ****\n",
      "Running Random Forest\n"
     ]
    },
    {
     "name": "stderr",
     "output_type": "stream",
     "text": [
      "/N/slate/potem/miniconda3/lib/python3.10/site-packages/sklearn/metrics/_scorer.py:610: FutureWarning: The `needs_threshold` and `needs_proba` parameter are deprecated in version 1.4 and will be removed in 1.6. You can either let `response_method` be `None` or set it to `predict` to preserve the same behaviour.\n",
      "  warnings.warn(\n"
     ]
    },
    {
     "name": "stdout",
     "output_type": "stream",
     "text": [
      "2911\n",
      "6  Total 0 : 2911\n",
      "6  Total 1:  2911\n",
      "6  Total length : 5822\n",
      "True\n",
      "\n",
      " **** random ****\n",
      "Running Random Forest\n"
     ]
    },
    {
     "name": "stderr",
     "output_type": "stream",
     "text": [
      "/N/slate/potem/miniconda3/lib/python3.10/site-packages/sklearn/metrics/_scorer.py:610: FutureWarning: The `needs_threshold` and `needs_proba` parameter are deprecated in version 1.4 and will be removed in 1.6. You can either let `response_method` be `None` or set it to `predict` to preserve the same behaviour.\n",
      "  warnings.warn(\n"
     ]
    },
    {
     "name": "stdout",
     "output_type": "stream",
     "text": [
      "2196\n",
      "7  Total 0 : 2196\n",
      "7  Total 1:  2196\n",
      "7  Total length : 4392\n",
      "True\n",
      "\n",
      " **** random ****\n",
      "Running Random Forest\n"
     ]
    },
    {
     "name": "stderr",
     "output_type": "stream",
     "text": [
      "/N/slate/potem/miniconda3/lib/python3.10/site-packages/sklearn/metrics/_scorer.py:610: FutureWarning: The `needs_threshold` and `needs_proba` parameter are deprecated in version 1.4 and will be removed in 1.6. You can either let `response_method` be `None` or set it to `predict` to preserve the same behaviour.\n",
      "  warnings.warn(\n"
     ]
    },
    {
     "name": "stdout",
     "output_type": "stream",
     "text": [
      "1725\n",
      "8  Total 0 : 1725\n",
      "8  Total 1:  1725\n",
      "8  Total length : 3450\n",
      "True\n",
      "\n",
      " **** random ****\n",
      "Running Random Forest\n"
     ]
    },
    {
     "name": "stderr",
     "output_type": "stream",
     "text": [
      "/N/slate/potem/miniconda3/lib/python3.10/site-packages/sklearn/metrics/_scorer.py:610: FutureWarning: The `needs_threshold` and `needs_proba` parameter are deprecated in version 1.4 and will be removed in 1.6. You can either let `response_method` be `None` or set it to `predict` to preserve the same behaviour.\n",
      "  warnings.warn(\n"
     ]
    },
    {
     "name": "stdout",
     "output_type": "stream",
     "text": [
      "1383\n",
      "9  Total 0 : 1383\n",
      "9  Total 1:  1383\n",
      "9  Total length : 2766\n",
      "True\n",
      "\n",
      " **** random ****\n",
      "Running Random Forest\n"
     ]
    },
    {
     "name": "stderr",
     "output_type": "stream",
     "text": [
      "/N/slate/potem/miniconda3/lib/python3.10/site-packages/sklearn/metrics/_scorer.py:610: FutureWarning: The `needs_threshold` and `needs_proba` parameter are deprecated in version 1.4 and will be removed in 1.6. You can either let `response_method` be `None` or set it to `predict` to preserve the same behaviour.\n",
      "  warnings.warn(\n"
     ]
    },
    {
     "name": "stdout",
     "output_type": "stream",
     "text": [
      "1126\n",
      "10  Total 0 : 1126\n",
      "10  Total 1:  1126\n",
      "10  Total length : 2252\n",
      "True\n",
      "\n",
      " **** random ****\n",
      "Running Random Forest\n"
     ]
    },
    {
     "name": "stderr",
     "output_type": "stream",
     "text": [
      "/N/slate/potem/miniconda3/lib/python3.10/site-packages/sklearn/metrics/_scorer.py:610: FutureWarning: The `needs_threshold` and `needs_proba` parameter are deprecated in version 1.4 and will be removed in 1.6. You can either let `response_method` be `None` or set it to `predict` to preserve the same behaviour.\n",
      "  warnings.warn(\n"
     ]
    },
    {
     "name": "stdout",
     "output_type": "stream",
     "text": [
      "939\n",
      "11  Total 0 : 939\n",
      "11  Total 1:  939\n",
      "11  Total length : 1878\n",
      "True\n",
      "\n",
      " **** random ****\n",
      "Running Random Forest\n"
     ]
    },
    {
     "name": "stderr",
     "output_type": "stream",
     "text": [
      "/N/slate/potem/miniconda3/lib/python3.10/site-packages/sklearn/metrics/_scorer.py:610: FutureWarning: The `needs_threshold` and `needs_proba` parameter are deprecated in version 1.4 and will be removed in 1.6. You can either let `response_method` be `None` or set it to `predict` to preserve the same behaviour.\n",
      "  warnings.warn(\n"
     ]
    },
    {
     "name": "stdout",
     "output_type": "stream",
     "text": [
      "814\n",
      "12  Total 0 : 814\n",
      "12  Total 1:  814\n",
      "12  Total length : 1628\n",
      "True\n",
      "\n",
      " **** random ****\n",
      "Running Random Forest\n"
     ]
    },
    {
     "name": "stderr",
     "output_type": "stream",
     "text": [
      "/N/slate/potem/miniconda3/lib/python3.10/site-packages/sklearn/metrics/_scorer.py:610: FutureWarning: The `needs_threshold` and `needs_proba` parameter are deprecated in version 1.4 and will be removed in 1.6. You can either let `response_method` be `None` or set it to `predict` to preserve the same behaviour.\n",
      "  warnings.warn(\n"
     ]
    },
    {
     "name": "stdout",
     "output_type": "stream",
     "text": [
      "707\n",
      "13  Total 0 : 707\n",
      "13  Total 1:  707\n",
      "13  Total length : 1414\n",
      "True\n",
      "\n",
      " **** random ****\n",
      "Running Random Forest\n"
     ]
    },
    {
     "name": "stderr",
     "output_type": "stream",
     "text": [
      "/N/slate/potem/miniconda3/lib/python3.10/site-packages/sklearn/metrics/_scorer.py:610: FutureWarning: The `needs_threshold` and `needs_proba` parameter are deprecated in version 1.4 and will be removed in 1.6. You can either let `response_method` be `None` or set it to `predict` to preserve the same behaviour.\n",
      "  warnings.warn(\n"
     ]
    },
    {
     "name": "stdout",
     "output_type": "stream",
     "text": [
      "614\n",
      "14  Total 0 : 614\n",
      "14  Total 1:  614\n",
      "14  Total length : 1228\n",
      "True\n",
      "\n",
      " **** random ****\n",
      "Running Random Forest\n"
     ]
    },
    {
     "name": "stderr",
     "output_type": "stream",
     "text": [
      "/N/slate/potem/miniconda3/lib/python3.10/site-packages/sklearn/metrics/_scorer.py:610: FutureWarning: The `needs_threshold` and `needs_proba` parameter are deprecated in version 1.4 and will be removed in 1.6. You can either let `response_method` be `None` or set it to `predict` to preserve the same behaviour.\n",
      "  warnings.warn(\n"
     ]
    },
    {
     "name": "stdout",
     "output_type": "stream",
     "text": [
      "536\n",
      "15  Total 0 : 536\n",
      "15  Total 1:  536\n",
      "15  Total length : 1072\n",
      "True\n",
      "\n",
      " **** random ****\n",
      "Running Random Forest\n"
     ]
    },
    {
     "name": "stderr",
     "output_type": "stream",
     "text": [
      "/N/slate/potem/miniconda3/lib/python3.10/site-packages/sklearn/metrics/_scorer.py:610: FutureWarning: The `needs_threshold` and `needs_proba` parameter are deprecated in version 1.4 and will be removed in 1.6. You can either let `response_method` be `None` or set it to `predict` to preserve the same behaviour.\n",
      "  warnings.warn(\n"
     ]
    },
    {
     "name": "stdout",
     "output_type": "stream",
     "text": [
      "486\n",
      "16  Total 0 : 486\n",
      "16  Total 1:  486\n",
      "16  Total length : 972\n",
      "True\n",
      "\n",
      " **** random ****\n",
      "Running Random Forest\n"
     ]
    },
    {
     "name": "stderr",
     "output_type": "stream",
     "text": [
      "/N/slate/potem/miniconda3/lib/python3.10/site-packages/sklearn/metrics/_scorer.py:610: FutureWarning: The `needs_threshold` and `needs_proba` parameter are deprecated in version 1.4 and will be removed in 1.6. You can either let `response_method` be `None` or set it to `predict` to preserve the same behaviour.\n",
      "  warnings.warn(\n"
     ]
    },
    {
     "name": "stdout",
     "output_type": "stream",
     "text": [
      "438\n",
      "17  Total 0 : 438\n",
      "17  Total 1:  438\n",
      "17  Total length : 876\n",
      "True\n",
      "\n",
      " **** random ****\n",
      "Running Random Forest\n"
     ]
    },
    {
     "name": "stderr",
     "output_type": "stream",
     "text": [
      "/N/slate/potem/miniconda3/lib/python3.10/site-packages/sklearn/metrics/_scorer.py:610: FutureWarning: The `needs_threshold` and `needs_proba` parameter are deprecated in version 1.4 and will be removed in 1.6. You can either let `response_method` be `None` or set it to `predict` to preserve the same behaviour.\n",
      "  warnings.warn(\n"
     ]
    },
    {
     "name": "stdout",
     "output_type": "stream",
     "text": [
      "397\n",
      "18  Total 0 : 397\n",
      "18  Total 1:  397\n",
      "18  Total length : 794\n",
      "True\n",
      "\n",
      " **** random ****\n",
      "Running Random Forest\n"
     ]
    },
    {
     "name": "stderr",
     "output_type": "stream",
     "text": [
      "/N/slate/potem/miniconda3/lib/python3.10/site-packages/sklearn/metrics/_scorer.py:610: FutureWarning: The `needs_threshold` and `needs_proba` parameter are deprecated in version 1.4 and will be removed in 1.6. You can either let `response_method` be `None` or set it to `predict` to preserve the same behaviour.\n",
      "  warnings.warn(\n"
     ]
    },
    {
     "name": "stdout",
     "output_type": "stream",
     "text": [
      "366\n",
      "19  Total 0 : 366\n",
      "19  Total 1:  366\n",
      "19  Total length : 732\n",
      "True\n",
      "\n",
      " **** random ****\n",
      "Running Random Forest\n"
     ]
    },
    {
     "name": "stderr",
     "output_type": "stream",
     "text": [
      "/N/slate/potem/miniconda3/lib/python3.10/site-packages/sklearn/metrics/_scorer.py:610: FutureWarning: The `needs_threshold` and `needs_proba` parameter are deprecated in version 1.4 and will be removed in 1.6. You can either let `response_method` be `None` or set it to `predict` to preserve the same behaviour.\n",
      "  warnings.warn(\n"
     ]
    },
    {
     "name": "stdout",
     "output_type": "stream",
     "text": [
      "331\n",
      "20  Total 0 : 331\n",
      "20  Total 1:  331\n",
      "20  Total length : 662\n",
      "True\n",
      "\n",
      " **** random ****\n",
      "Running Random Forest\n"
     ]
    },
    {
     "name": "stderr",
     "output_type": "stream",
     "text": [
      "/N/slate/potem/miniconda3/lib/python3.10/site-packages/sklearn/metrics/_scorer.py:610: FutureWarning: The `needs_threshold` and `needs_proba` parameter are deprecated in version 1.4 and will be removed in 1.6. You can either let `response_method` be `None` or set it to `predict` to preserve the same behaviour.\n",
      "  warnings.warn(\n"
     ]
    }
   ],
   "source": [
    "importlib.reload(stat_hp)\n",
    "columns_not_include = ['poster_userid',\n",
    "                       'positive_replier_count'\n",
    "                      ]\n",
    "all_results = []\n",
    "for i in range(5, 21):\n",
    "    #postivie dataset\n",
    "    if i == 5:\n",
    "        df_sample = df_all_stat\n",
    "    else:\n",
    "        df_1 = df_all_stat.loc[\n",
    "        (df_all_stat['positive_replier_count'] >= i)\n",
    "        ]\n",
    "\n",
    "        total_flag1 = len(df_1)\n",
    "\n",
    "        print(total_flag1)\n",
    "\n",
    "        #negative dataset\n",
    "        #maintain the same poster\n",
    "        df_neg_data = df_all_stat.loc[\n",
    "            df_all_stat['tweet_label'] == 0\n",
    "        ]\n",
    "        df_0_all = df_neg_data.loc[\n",
    "            df_neg_data['poster_userid'].isin(df_1['poster_userid'])\n",
    "        ]\n",
    "\n",
    "        ## Maintain the balanced dataset\n",
    "        df_0 = df_0_all.sample(n=total_flag1, \n",
    "                               random_state=42\n",
    "                              )\n",
    "\n",
    "        df_sample = pd.concat([df_1, df_0],\n",
    "                              ignore_index=True\n",
    "                             )\n",
    "        print(i, ' Total 0 :', len(df_0))\n",
    "        print(i, ' Total 1: ', len(df_1))\n",
    "        \n",
    "    total_len = len(df_sample)\n",
    "    \n",
    "    print(i, ' Total length :', total_len)\n",
    "    print('tweet_label' in df_all_stat.columns)\n",
    "    \n",
    "    cv_results_tuned_model = \\\n",
    "    stat_hp.run_model_with_best_threshold(df_sample,\n",
    "                                          columns_not_include=columns_not_include,\n",
    "                                          model_type='random', \n",
    "                                          y_column = 'tweet_label',\n",
    "                                          filename=None,\n",
    "                                         )\n",
    "    cv_results_tuned_model['total_data'] = total_len\n",
    "    cv_results_tuned_model['reply_threshold'] = i\n",
    "    \n",
    "    all_results.append(cv_results_tuned_model)\n",
    "    \n",
    "(pd.concat(all_results, ignore_index=True)\n",
    ").to_pickle('./../data/tweet_classifier_different_reply_threshold.pkl.gz')"
   ]
  },
  {
   "cell_type": "markdown",
   "id": "b1a6be30-7bf9-47b8-9247-1c325fc23602",
   "metadata": {
    "tags": []
   },
   "source": [
    "### **Plot the different threshold result**"
   ]
  },
  {
   "cell_type": "code",
   "execution_count": 29,
   "id": "07c4f4f0-afa9-451a-9c03-82cb5b92b8f9",
   "metadata": {
    "tags": []
   },
   "outputs": [
    {
     "name": "stdout",
     "output_type": "stream",
     "text": [
      "Index(['fit_time', 'score_time', 'estimator', 'test_precision',\n",
      "       'train_precision', 'test_recall', 'train_recall', 'test_f1', 'train_f1',\n",
      "       'test_roc_auc', 'train_roc_auc', 'threshold', 'algorithm', 'total_data',\n",
      "       'reply_threshold'],\n",
      "      dtype='object')\n"
     ]
    }
   ],
   "source": [
    "importlib.reload(viz_hp)\n",
    "\n",
    "df_result = pd.read_pickle(\n",
    "   './../data/tweet_classifier_different_reply_threshold.pkl.gz'\n",
    ")\n",
    "\n",
    "print(df_result.columns)"
   ]
  },
  {
   "cell_type": "code",
   "execution_count": 33,
   "id": "c63694b2-a6c9-4612-98be-4853b850d50a",
   "metadata": {
    "tags": []
   },
   "outputs": [],
   "source": [
    "columns = [\n",
    "    'fit_time', 'score_time', 'test_precision', 'train_precision',\n",
    "    'test_recall', 'train_recall', 'test_f1', 'train_f1',\n",
    "    'test_roc_auc', 'train_roc_auc',\n",
    "    'reply_threshold'\n",
    "]\n"
   ]
  },
  {
   "cell_type": "code",
   "execution_count": 35,
   "id": "7019b8ca-65f2-4706-809f-b2c8aa0b5134",
   "metadata": {
    "tags": []
   },
   "outputs": [],
   "source": [
    "df_grp = df_result[columns].groupby(['reply_threshold']).mean().reset_index()"
   ]
  },
  {
   "cell_type": "code",
   "execution_count": 36,
   "id": "3cf979c8-ca58-45ca-82b7-98b140055b77",
   "metadata": {
    "tags": []
   },
   "outputs": [
    {
     "data": {
      "text/plain": [
       "Index(['reply_threshold', 'fit_time', 'score_time', 'test_precision',\n",
       "       'train_precision', 'test_recall', 'train_recall', 'test_f1', 'train_f1',\n",
       "       'test_roc_auc', 'train_roc_auc'],\n",
       "      dtype='object')"
      ]
     },
     "execution_count": 36,
     "metadata": {},
     "output_type": "execute_result"
    }
   ],
   "source": [
    "df_grp.columns"
   ]
  },
  {
   "cell_type": "code",
   "execution_count": 37,
   "id": "cce6571b-1209-4cdb-9a26-39ebe651e063",
   "metadata": {},
   "outputs": [
    {
     "name": "stdout",
     "output_type": "stream",
     "text": [
      "./../plots/tweet_classifier_reply_threshold.png\n",
      "./../plots/tweet_classifier_reply_threshold.png\n"
     ]
    },
    {
     "data": {
      "image/png": "[encoded data removed]",
      "text/plain": [
       "<Figure size 1000x1000 with 1 Axes>"
      ]
     },
     "metadata": {},
     "output_type": "display_data"
    }
   ],
   "source": [
    "importlib.reload(viz_hp)\n",
    "\n",
    "df_grp = df_grp.sort_values(by=['reply_threshold'],\n",
    "                                  ascending=True\n",
    "                                 )\n",
    "df_grp = round(df_grp, 2)\n",
    "\n",
    "parameters = {\n",
    "        'data': df_grp,\n",
    "        'size': (10, 10),\n",
    "        'fontsize': 32,\n",
    "        'tick_size': 28,\n",
    "        'legend_font': 26,\n",
    "        'legend_size': 26,\n",
    "        'complementary': False,\n",
    "        'columns': [\n",
    "            {'column': 'test_f1',\n",
    "             'label': 'F1',\n",
    "            },\n",
    "            {\n",
    "            'column': 'test_precision',\n",
    "             'label': 'Precision'\n",
    "            },\n",
    "            {\n",
    "                'column': 'test_recall',\n",
    "                'label': 'Recall',\n",
    "            },\n",
    "            {'column': 'test_roc_auc',\n",
    "             'label': 'AUC',\n",
    "            }\n",
    "        ],\n",
    "        'x': 'reply_threshold',\n",
    "        'xlabel': 'Minimum number of IO replies per \\n targeted tweet',\n",
    "        'ylabel': 'Score',\n",
    "        'legend_location': 'lower right',\n",
    "        'log_yscale': False,\n",
    "        'log_xscale': False,\n",
    "        'save': {\n",
    "            'path': './../plots',\n",
    "            'filename': 'tweet_classifier_reply_threshold.png'\n",
    "        },\n",
    "        'random_color': False\n",
    "    }\n",
    "    \n",
    "\n",
    "viz_hp.line_plot(parameters)"
   ]
  },
  {
   "cell_type": "code",
   "execution_count": null,
   "id": "6c8dbf37-9d71-4176-a3fa-08ba087f1dfd",
   "metadata": {},
   "outputs": [],
   "source": []
  }
 ],
 "metadata": {
  "kernelspec": {
   "display_name": "Python 3 (ipykernel)",
   "language": "python",
   "name": "python3"
  },
  "language_info": {
   "codemirror_mode": {
    "name": "ipython",
    "version": 3
   },
   "file_extension": ".py",
   "mimetype": "text/x-python",
   "name": "python",
   "nbconvert_exporter": "python",
   "pygments_lexer": "ipython3",
   "version": "3.12.2"
  }
 },
 "nbformat": 4,
 "nbformat_minor": 5
}
