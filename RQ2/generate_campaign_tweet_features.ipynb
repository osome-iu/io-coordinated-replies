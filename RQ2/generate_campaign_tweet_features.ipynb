{
 "cells": [
  {
   "cell_type": "markdown",
   "id": "3d052c81-ab6e-4066-a10c-d86d748f8a0f",
   "metadata": {},
   "source": [
    "#### **This notebook creates campaign wise features for tweet classifier**"
   ]
  },
  {
   "cell_type": "code",
   "execution_count": 3,
   "id": "8fc9853f-7225-4df7-9856-60285d2a2df3",
   "metadata": {
    "tags": []
   },
   "outputs": [],
   "source": [
    "import pandas as pd\n",
    "import numpy as np\n",
    "import warnings\n",
    "import os\n",
    "\n",
    "import importlib\n",
    "\n",
    "#### packages\n",
    "import helper.strategy_helper as st_hp\n",
    "import config.config as config_hp\n",
    "import helper.stat_helper as stat_hp"
   ]
  },
  {
   "cell_type": "markdown",
   "id": "d6dc1eef-22d4-416c-a8a4-9a5f1a18b91a",
   "metadata": {
    "tags": []
   },
   "source": [
    "#### **Load targeted and control : tweet and replies data files**"
   ]
  },
  {
   "cell_type": "code",
   "execution_count": 5,
   "id": "61ad9ca9-9517-4dba-8948-a2b92bb54b8c",
   "metadata": {
    "tags": []
   },
   "outputs": [
    {
     "data": {
      "text/plain": [
       "Index(['tweet_text', 'conversation_id', 'replier_tweetid', 'replier_userid',\n",
       "       'poster_userid', 'poster_tweetid', 'tweet_time', 'tweet_language',\n",
       "       'replier_label', 'year', 'campaign', 'tweet_label', 'tweet_time_year',\n",
       "       'common', 'id', 'username'],\n",
       "      dtype='object')"
      ]
     },
     "execution_count": 5,
     "metadata": {},
     "output_type": "execute_result"
    }
   ],
   "source": [
    "#All targeted tweets and their replies\n",
    "balanced_pos_conversation = './../data/balanced_positive_conversation.pkl.gz'\n",
    "\n",
    "df_pos = pd.read_pickle(balanced_pos_conversation)\n",
    "\n",
    "print(df_pos.columns)\n",
    "\n",
    "\n",
    "#All control tweets and their replies\n",
    "balanced_neg_conversation = './../data/balanced_negative_conversation.pkl.gz'\n",
    "\n",
    "df_neg = pd.read_pickle(balanced_neg_conversation)"
   ]
  },
  {
   "cell_type": "markdown",
   "id": "765042cb-4e8b-4e80-bbf5-2ed28f6a78a5",
   "metadata": {},
   "source": [
    "#### **Get campaign related data**"
   ]
  },
  {
   "cell_type": "code",
   "execution_count": null,
   "id": "ab31321b-8b73-4363-ab86-6b15944e1452",
   "metadata": {},
   "outputs": [],
   "source": [
    "import random\n",
    "\n",
    "def get_camp_data(df_pos, df_neg, campaign):\n",
    "    if campaign == 'remain':\n",
    "        top_5 =  df_grp_camp['campaign'].head().tolist()\n",
    "        df_pos_camp = df_pos.loc[~df_pos['campaign'].isin(top_5)]\n",
    "    else:\n",
    "        df_pos_camp = df_pos.loc[df_pos['campaign'] == campaign]\n",
    "    \n",
    "    #find number of tweets of each user in positive\n",
    "    df_pos_grp = (df_pos_camp\n",
    "                  .groupby('poster_userid')['poster_tweetid']\n",
    "                  .nunique()\n",
    "                  .to_frame('count_pos')\n",
    "                  .reset_index()\n",
    "                 )\n",
    "    \n",
    "    print(df_pos_camp['poster_tweetid'].nunique())\n",
    "    \n",
    "    #Get users in negative\n",
    "    df_neg_camp = df_neg.loc[df_neg['poster_userid'].isin(\n",
    "        df_pos_camp['poster_userid']\n",
    "    )]\n",
    "    \n",
    "    #find out how many tweets in negative set\n",
    "    df_neg_grp = (df_neg_camp\n",
    "                  .groupby('poster_userid')['poster_tweetid']\n",
    "                  .nunique()\n",
    "                  .to_frame('count_neg')\n",
    "                  .reset_index()\n",
    "                 )\n",
    "    \n",
    "    #Find least of all\n",
    "    df_grp = df_pos_grp.merge(df_neg_grp,\n",
    "                              on='poster_userid',\n",
    "                             )\n",
    "    df_grp['min_count'] = df_grp[['count_pos', 'count_neg']].min(axis=1)\n",
    "   \n",
    "    #sample least in negative dataset\n",
    "    df_neg_common = df_neg.merge(df_grp,\n",
    "                              on='poster_userid'\n",
    "                             )\n",
    "    \n",
    "    #Balance the data in negative\n",
    "    sampled_df = df_neg_common.groupby(['poster_userid'], group_keys=False).apply(\n",
    "        lambda group: group.loc[group['poster_tweetid'].isin(\n",
    "            random.sample(list(set(group['poster_tweetid'])),\n",
    "                          list(set(group['min_count']))[0]\n",
    "                         )\n",
    "        )]\n",
    "    ).reset_index(drop=True)\n",
    "    \n",
    "    sampled_df.drop(columns=['min_count', \n",
    "                             'count_pos',\n",
    "                             'count_neg',\n",
    "                             'common'\n",
    "                            ],\n",
    "                    inplace=True)\n",
    "\n",
    "    df_pos_camp.drop('common',\n",
    "                     inplace=True,\n",
    "                     axis=1\n",
    "                    )\n",
    "    \n",
    "    #Get rest of the data\n",
    "    df_rest_pos = df_pos.loc[\n",
    "        ~df_pos['poster_tweetid'].isin(df_pos_camp['poster_tweetid'])\n",
    "    ]\n",
    "    \n",
    "    df_rest_neg = df_neg.loc[~df_neg['poster_tweetid'].isin(sampled_df['poster_tweetid'])]\n",
    "    \n",
    "    df_rest = pd.concat([df_rest_pos, df_rest_neg],\n",
    "                        ignore_index=True\n",
    "                       )\n",
    "    \n",
    "    print('Total +ve :', df_pos_camp['poster_tweetid'].nunique())\n",
    "    print('Total -ve :', sampled_df['poster_tweetid'].nunique())\n",
    "    print('Total Rest +ve :', df_rest_pos['poster_tweetid'].nunique())\n",
    "    print('Total Rest -ve :', df_rest_neg['poster_tweetid'].nunique())\n",
    "    \n",
    "    df_camp = pd.concat([df_pos_camp, sampled_df],\n",
    "                        ignore_index=True\n",
    "                       )\n",
    "    \n",
    "    return df_camp, df_rest"
   ]
  },
  {
   "cell_type": "code",
   "execution_count": 12,
   "id": "339a5bf6-8ca9-4680-bb3b-f791318283db",
   "metadata": {
    "tags": []
   },
   "outputs": [],
   "source": []
  },
  {
   "cell_type": "code",
   "execution_count": 4,
   "id": "95b2f673-d1d5-4bbe-b2ad-e36151ab2da4",
   "metadata": {
    "tags": []
   },
   "outputs": [],
   "source": [
    "def save_list_cosine():\n",
    "    '''\n",
    "    Load cosine files\n",
    "    \n",
    "    :return Dataframe of positive and negative class\n",
    "    '''\n",
    "    config = config_hp.config()\n",
    "    pos_cosine = config['EMBEDDINGS_PATH']['pos_cosine_with_replier_info']\n",
    "    neg_cosine = config['EMBEDDINGS_PATH']['neg_cosine_with_replier_info']\n",
    "    \n",
    "    print('\\n\\n Load the data \\n\\n')\n",
    "    \n",
    "    # df_pos = pd.read_pickle(pos_cosine)\n",
    "    df_neg = pd.read_pickle(neg_cosine)\n",
    "    \n",
    "    # df_pos['poster_tweetid'] = df_pos['poster_tweetid'].astype(str)\n",
    "    df_neg['poster_tweetid'] = df_neg['poster_tweetid'].astype(str)\n",
    "    \n",
    "    save_path = os.path.join(config['EMBEDDINGS_PATH']['embedding_path'],\n",
    "                             'negative_list_cosine.pkl.gz'\n",
    "                            )\n",
    "    print('\\n\\n Grouping the data \\n\\n')\n",
    "    print(f'\\n Saving the data {save_path} \\n')\n",
    "    \n",
    "    (df_neg\n",
    "     .groupby(['poster_tweetid'])['cosine'].apply(list)\n",
    "     .reset_index()\n",
    "    ).to_pickle(save_path)"
   ]
  },
  {
   "cell_type": "code",
   "execution_count": 15,
   "id": "5eea4a32-7a48-453b-9a65-87fbf341b174",
   "metadata": {
    "tags": []
   },
   "outputs": [],
   "source": [
    "def load_cosine():\n",
    "    config = config_hp.config()\n",
    "    pos_cosine = config['EMBEDDINGS_PATH']['pos_list_cosine']\n",
    "    neg_cosine = config['EMBEDDINGS_PATH']['neg_list_cosine']\n",
    "    \n",
    "    print('\\n\\n Load the data \\n\\n')\n",
    "    \n",
    "    df_pos = pd.read_pickle(pos_cosine)\n",
    "    df_neg = pd.read_pickle(neg_cosine)\n",
    "    \n",
    "    print(df_pos.head())\n",
    "    print(df_neg.head())\n",
    "    \n",
    "    return df_pos, df_neg"
   ]
  },
  {
   "cell_type": "code",
   "execution_count": 11,
   "id": "7c5877a9-4965-4707-9db6-77ffe0f3e37c",
   "metadata": {
    "tags": []
   },
   "outputs": [],
   "source": [
    "# df_pos_cosine, df_neg_cosine = load_cosine()"
   ]
  },
  {
   "cell_type": "code",
   "execution_count": 16,
   "id": "1e2efe22-3922-4adb-af11-b91618f7b7fe",
   "metadata": {
    "tags": []
   },
   "outputs": [],
   "source": [
    "def load_cosine_stat():\n",
    "    config = config_hp.config()\n",
    "    cosine = config['STATS']['cosine']\n",
    "   \n",
    "    \n",
    "    print('\\n\\n Load the data \\n\\n')\n",
    "    \n",
    "    df_cosine = pd.read_pickle(cosine)\n",
    "    \n",
    "    return df_cosine"
   ]
  },
  {
   "cell_type": "code",
   "execution_count": 17,
   "id": "8cb66be6-9491-4b3e-b9c2-7673c70864cb",
   "metadata": {
    "tags": []
   },
   "outputs": [
    {
     "name": "stdout",
     "output_type": "stream",
     "text": [
      "\n",
      "\n",
      " Load the data \n",
      "\n",
      "\n"
     ]
    }
   ],
   "source": [
    "df_cosine_stat = load_cosine_stat()"
   ]
  },
  {
   "cell_type": "markdown",
   "id": "df9f066f-222d-4d7a-a7de-92bc22c0c817",
   "metadata": {
    "tags": []
   },
   "source": [
    "#### **Get features for each campaign**"
   ]
  },
  {
   "cell_type": "code",
   "execution_count": 34,
   "id": "e41c6c72-e7cb-4ed8-8b7f-a21ffe7f2ab2",
   "metadata": {
    "tags": []
   },
   "outputs": [],
   "source": [
    "import datetime\n",
    "import re\n",
    "import helper.helper as hp"
   ]
  },
  {
   "cell_type": "code",
   "execution_count": 39,
   "id": "50925ea8-8302-427c-b328-2c56f4f65bba",
   "metadata": {
    "tags": []
   },
   "outputs": [],
   "source": [
    "def get_statistics(df_camp=None, \n",
    "                   campagin_name=None, \n",
    "                   df_stat=None\n",
    "                  ):\n",
    "    '''\n",
    "    Gets the features for the campaign data\n",
    "    '''\n",
    "    print(campagin_name)\n",
    "    \n",
    "    campaign_feat = os.path.join('./../data', \n",
    "                                 f'{campagin_name}_features.pkl.gz'\n",
    "                                )\n",
    "    print(campaign_feat)\n",
    "    \n",
    "    df_camp['poster_tweetid'] = df_camp['poster_tweetid'].astype(str)\n",
    "    df_stat['poster_tweetid'] = df_stat['poster_tweetid'].astype(str)\n",
    "    \n",
    "    df_camp_stat = df_stat.loc[\n",
    "        df_stat['poster_tweetid'].isin(\n",
    "            df_camp['poster_tweetid']\n",
    "        )\n",
    "    ]\n",
    "   \n",
    "    df_camp_stat.to_pickle(f'{campaign_feat}')\n",
    "    \n",
    "    print('** All features saved **')"
   ]
  },
  {
   "cell_type": "markdown",
   "id": "45103303-6b26-49e6-818d-0a7d4044d287",
   "metadata": {
    "tags": []
   },
   "source": [
    "#### **Features for top 5 campaign and rest(others)**"
   ]
  },
  {
   "cell_type": "code",
   "execution_count": null,
   "id": "5a9c20f8-6be7-413d-a50a-8aba93d29a4e",
   "metadata": {},
   "outputs": [],
   "source": [
    "df_grp_camp = (df_pos\n",
    "               .groupby(['campaign'])['poster_tweetid']\n",
    "               .nunique(dropna=False)\n",
    "               .to_frame('count')\n",
    "               .reset_index()\n",
    "               .sort_values(by=['count'],\n",
    "                            ascending=False\n",
    "                           )\n",
    "               \n",
    "              )"
   ]
  },
  {
   "cell_type": "code",
   "execution_count": 40,
   "id": "5f9d1186-8c5b-4dcd-8352-76048576a70a",
   "metadata": {
    "tags": []
   },
   "outputs": [
    {
     "data": {
      "text/plain": [
       "20          serbia_022020\n",
       "19    saudi_arabia_112019\n",
       "23          turkey_052020\n",
       "8            egypt_022020\n",
       "18        sa_eg_ae_022020\n",
       "Name: campaign, dtype: object"
      ]
     },
     "execution_count": 40,
     "metadata": {},
     "output_type": "execute_result"
    }
   ],
   "source": [
    "df_grp_camp['campaign'].head()"
   ]
  },
  {
   "cell_type": "code",
   "execution_count": null,
   "id": "f2469cba-9d66-4c98-bef8-00b282e1d687",
   "metadata": {
    "tags": []
   },
   "outputs": [],
   "source": [
    "total = 0\n",
    "camp_list = df_grp_camp['campaign'].head().tolist()\n",
    "camp_list = camp_list + ['remain']\n",
    "\n",
    "tweet_features = './../data/tweet_classifier_features.pkl.gz'\n",
    "\n",
    "df_stat = pd.read_pickle(tweet_features)\n",
    "\n",
    "for campaign in camp_list:\n",
    "    print('Campaign ', campaign) \n",
    "    \n",
    "    df_camp, df_rest = get_camp_data(df_new, df_neg, campaign)\n",
    "    \n",
    "    get_statistics(df_camp,\n",
    "                   campaign, \n",
    "                   df_stat\n",
    "                   )"
   ]
  },
  {
   "cell_type": "code",
   "execution_count": null,
   "id": "12c1f0fd-04e4-4e29-a3e0-86a1ec5ea771",
   "metadata": {},
   "outputs": [],
   "source": []
  }
 ],
 "metadata": {
  "kernelspec": {
   "display_name": "Python 3 (ipykernel)",
   "language": "python",
   "name": "python3"
  },
  "language_info": {
   "codemirror_mode": {
    "name": "ipython",
    "version": 3
   },
   "file_extension": ".py",
   "mimetype": "text/x-python",
   "name": "python",
   "nbconvert_exporter": "python",
   "pygments_lexer": "ipython3",
   "version": "3.12.2"
  }
 },
 "nbformat": 4,
 "nbformat_minor": 5
}
