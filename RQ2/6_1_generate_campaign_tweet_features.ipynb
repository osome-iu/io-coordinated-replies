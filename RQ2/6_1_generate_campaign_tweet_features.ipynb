{
 "cells": [
  {
   "cell_type": "markdown",
   "id": "3d052c81-ab6e-4066-a10c-d86d748f8a0f",
   "metadata": {},
   "source": [
    "#### **This notebook creates campaign wise features for tweet classifier**"
   ]
  },
  {
   "cell_type": "code",
   "execution_count": 2,
   "id": "8fc9853f-7225-4df7-9856-60285d2a2df3",
   "metadata": {
    "tags": []
   },
   "outputs": [],
   "source": [
    "import pandas as pd\n",
    "import numpy as np\n",
    "import warnings\n",
    "import os\n",
    "\n",
    "import importlib\n",
    "\n",
    "#### packages\n",
    "import helper.strategy_helper as st_hp\n",
    "import config.config as config_hp\n",
    "import helper.stat_helper as stat_hp"
   ]
  },
  {
   "cell_type": "markdown",
   "id": "d6dc1eef-22d4-416c-a8a4-9a5f1a18b91a",
   "metadata": {
    "tags": []
   },
   "source": [
    "#### **Saving only derived data for tweets and their campaign**"
   ]
  },
  {
   "cell_type": "code",
   "execution_count": 3,
   "id": "61ad9ca9-9517-4dba-8948-a2b92bb54b8c",
   "metadata": {
    "tags": []
   },
   "outputs": [
    {
     "name": "stdout",
     "output_type": "stream",
     "text": [
      "Index(['tweet_text', 'conversation_id', 'replier_tweetid', 'replier_userid',\n",
      "       'poster_userid', 'poster_tweetid', 'tweet_time', 'tweet_language',\n",
      "       'replier_label', 'year', 'campaign', 'tweet_label', 'tweet_time_year',\n",
      "       'common', 'id', 'username'],\n",
      "      dtype='object')\n"
     ]
    }
   ],
   "source": [
    "#All targeted tweets and their replies\n",
    "# balanced_pos_conversation = './../data/balanced_positive_conversation.pkl.gz'\n",
    "\n",
    "# df_pos = pd.read_pickle(balanced_pos_conversation)\n",
    "\n",
    "# print(df_pos.columns)\n",
    "\n",
    "# df_pos[['poster_tweetid', 'campaign', \n",
    "#         'replier_userid', 'replier_label',\n",
    "#         'replier_tweetid'\n",
    "#        ]].to_pickle('./../data/positive_poster_tweetid_campaign.pkl.gz')\n",
    "\n",
    "\n",
    "#All control tweets and their replies\n",
    "# balanced_neg_conversation = './../data/balanced_negative_conversation.pkl.gz'\n",
    "\n",
    "# df_neg = pd.read_pickle(balanced_neg_conversation)\n",
    "\n",
    "# df_neg[['poster_tweetid', 'campaign', \n",
    "#         'replier_userid', 'replier_label',\n",
    "#         'replier_tweetid'\n",
    "#        ]].to_pickle('./../data/control_poster_tweetid_campaign.pkl.gz')"
   ]
  },
  {
   "cell_type": "markdown",
   "id": "b6f2f779-b544-4668-b008-2c14531ff6b9",
   "metadata": {},
   "source": [
    "#### **Load targeted and control : tweet and replies data files**"
   ]
  },
  {
   "cell_type": "code",
   "execution_count": null,
   "id": "ca414bfb-009c-4e9f-8163-5bfde5199ca1",
   "metadata": {},
   "outputs": [],
   "source": [
    "df_pos = pd.read_pickle('./../data/positive_poster_tweetid_campaign.pkl.gz')\n",
    "df_neg = pd.read_pickle('./../data/control_poster_tweetid_campaign.pkl.gz')"
   ]
  },
  {
   "cell_type": "code",
   "execution_count": 4,
   "id": "649c7ee3-2972-49e8-b60e-ddef51d180ec",
   "metadata": {},
   "outputs": [
    {
     "data": {
      "text/plain": [
       "2160484"
      ]
     },
     "execution_count": 4,
     "metadata": {},
     "output_type": "execute_result"
    }
   ],
   "source": [
    "len(df_pos)"
   ]
  },
  {
   "cell_type": "code",
   "execution_count": 5,
   "id": "5cfce6d4-f4b4-44b8-b224-3c3dc5e00704",
   "metadata": {},
   "outputs": [
    {
     "data": {
      "text/plain": [
       "512607"
      ]
     },
     "execution_count": 5,
     "metadata": {},
     "output_type": "execute_result"
    }
   ],
   "source": [
    "len(df_neg)"
   ]
  },
  {
   "cell_type": "markdown",
   "id": "765042cb-4e8b-4e80-bbf5-2ed28f6a78a5",
   "metadata": {},
   "source": [
    "#### **Get campaign related data**"
   ]
  },
  {
   "cell_type": "code",
   "execution_count": 3,
   "id": "ab31321b-8b73-4363-ab86-6b15944e1452",
   "metadata": {},
   "outputs": [],
   "source": [
    "import random\n",
    "\n",
    "def get_camp_data(df_pos, df_neg, campaign):\n",
    "    '''\n",
    "    Get campaign specific tweet features\n",
    "    :param df_pos: Positive targeted features\n",
    "    :param df_neg: Negative control features\n",
    "    :param campaign: Name of campaign\n",
    "\n",
    "    :return Campagin features, rest of the features\n",
    "    '''\n",
    "    \n",
    "    if campaign == 'remain':\n",
    "        top_5 =  df_grp_camp['campaign'].head().tolist()\n",
    "        df_pos_camp = df_pos.loc[~df_pos['campaign'].isin(top_5)]\n",
    "    else:\n",
    "        df_pos_camp = df_pos.loc[df_pos['campaign'] == campaign]\n",
    "    \n",
    "    #Get users in negative\n",
    "    df_neg_camp = df_neg.loc[df_neg['poster_userid'].isin(\n",
    "        df_pos_camp['poster_userid']\n",
    "    )]\n",
    "   \n",
    "    #Get rest of the data\n",
    "    df_rest_pos = df_pos.loc[\n",
    "        ~df_pos['poster_tweetid'].isin(df_pos_camp['poster_tweetid'])\n",
    "    ]\n",
    "    \n",
    "    df_rest_neg = df_neg.loc[~df_neg['poster_tweetid'].isin(df_neg_camp['poster_tweetid'])]\n",
    "    \n",
    "    df_rest = pd.concat([df_rest_pos, df_rest_neg],\n",
    "                        ignore_index=True\n",
    "                       )\n",
    "    \n",
    "    print('Total +ve :', df_pos_camp['poster_tweetid'].nunique())\n",
    "    print('Total -ve :', df_neg_camp['poster_tweetid'].nunique())\n",
    "    print('Total Rest +ve :', df_rest_pos['poster_tweetid'].nunique())\n",
    "    print('Total Rest -ve :', df_rest_neg['poster_tweetid'].nunique())\n",
    "    \n",
    "    df_camp = pd.concat([df_pos_camp, df_neg_camp],\n",
    "                        ignore_index=True\n",
    "                       )\n",
    "    \n",
    "    return df_camp, df_rest"
   ]
  },
  {
   "cell_type": "markdown",
   "id": "df9f066f-222d-4d7a-a7de-92bc22c0c817",
   "metadata": {
    "tags": []
   },
   "source": [
    "#### **Get features for each campaign**"
   ]
  },
  {
   "cell_type": "code",
   "execution_count": 4,
   "id": "e41c6c72-e7cb-4ed8-8b7f-a21ffe7f2ab2",
   "metadata": {
    "tags": []
   },
   "outputs": [],
   "source": [
    "import datetime\n",
    "import re\n",
    "import helper.helper as hp"
   ]
  },
  {
   "cell_type": "code",
   "execution_count": 5,
   "id": "50925ea8-8302-427c-b328-2c56f4f65bba",
   "metadata": {
    "tags": []
   },
   "outputs": [],
   "source": [
    "def get_statistics(df_camp=None, \n",
    "                   campagin_name=None, \n",
    "                   df_stat=None\n",
    "                  ):\n",
    "    '''\n",
    "    Gets the features for the campaign data\n",
    "    '''\n",
    "    print(campagin_name)\n",
    "    \n",
    "    campaign_feat = os.path.join('./../results', \n",
    "                                 f'tweet_classifier_{campagin_name}_features.pkl.gz'\n",
    "                                )\n",
    "    print(campaign_feat)\n",
    "    \n",
    "    df_camp['poster_tweetid'] = df_camp['poster_tweetid'].astype(str)\n",
    "    df_stat['poster_tweetid'] = df_stat['poster_tweetid'].astype(str)\n",
    "    \n",
    "    df_camp_stat = df_stat.loc[\n",
    "        df_stat['poster_tweetid'].isin(\n",
    "            df_camp['poster_tweetid']\n",
    "        )\n",
    "    ]\n",
    "   \n",
    "    df_camp_stat.to_pickle(f'{campaign_feat}')\n",
    "    \n",
    "    print('** All features saved **')"
   ]
  },
  {
   "cell_type": "markdown",
   "id": "45103303-6b26-49e6-818d-0a7d4044d287",
   "metadata": {
    "tags": []
   },
   "source": [
    "#### **Features for top 5 campaign and rest(others)**"
   ]
  },
  {
   "cell_type": "code",
   "execution_count": 6,
   "id": "5a9c20f8-6be7-413d-a50a-8aba93d29a4e",
   "metadata": {},
   "outputs": [],
   "source": [
    "df_grp_camp = (df_pos\n",
    "               .groupby(['campaign'])['poster_tweetid']\n",
    "               .nunique(dropna=False)\n",
    "               .to_frame('count')\n",
    "               .reset_index()\n",
    "               .sort_values(by=['count'],\n",
    "                            ascending=False\n",
    "                           )\n",
    "               \n",
    "              )"
   ]
  },
  {
   "cell_type": "code",
   "execution_count": 7,
   "id": "5f9d1186-8c5b-4dcd-8352-76048576a70a",
   "metadata": {
    "tags": []
   },
   "outputs": [
    {
     "data": {
      "text/plain": [
       "21          serbia_022020\n",
       "20    saudi_arabia_112019\n",
       "24          turkey_052020\n",
       "19        sa_eg_ae_022020\n",
       "8            egypt_022020\n",
       "Name: campaign, dtype: object"
      ]
     },
     "execution_count": 7,
     "metadata": {},
     "output_type": "execute_result"
    }
   ],
   "source": [
    "df_grp_camp['campaign'].head()"
   ]
  },
  {
   "cell_type": "markdown",
   "id": "7f3d2833-6d99-4013-b191-58aeee82d30f",
   "metadata": {},
   "source": [
    "#### **Check if there are common tweets**"
   ]
  },
  {
   "cell_type": "code",
   "execution_count": 8,
   "id": "874092eb-72ff-4a53-af4f-7d12e9f941f8",
   "metadata": {},
   "outputs": [
    {
     "name": "stdout",
     "output_type": "stream",
     "text": [
      "serbia_022020 and saudi_arabia_112019: 0\n",
      "serbia_022020 and turkey_052020: 0\n",
      "serbia_022020 and sa_eg_ae_022020: 0\n",
      "serbia_022020 and egypt_022020: 0\n",
      "saudi_arabia_112019 and serbia_022020: 0\n",
      "saudi_arabia_112019 and turkey_052020: 0\n",
      "saudi_arabia_112019 and sa_eg_ae_022020: 0\n",
      "saudi_arabia_112019 and egypt_022020: 0\n",
      "turkey_052020 and serbia_022020: 0\n",
      "turkey_052020 and saudi_arabia_112019: 0\n",
      "turkey_052020 and sa_eg_ae_022020: 0\n",
      "turkey_052020 and egypt_022020: 0\n",
      "sa_eg_ae_022020 and serbia_022020: 0\n",
      "sa_eg_ae_022020 and saudi_arabia_112019: 0\n",
      "sa_eg_ae_022020 and turkey_052020: 0\n",
      "sa_eg_ae_022020 and egypt_022020: 0\n",
      "egypt_022020 and serbia_022020: 0\n",
      "egypt_022020 and saudi_arabia_112019: 0\n",
      "egypt_022020 and turkey_052020: 0\n",
      "egypt_022020 and sa_eg_ae_022020: 0\n",
      "remain and serbia_022020: 0\n",
      "remain and saudi_arabia_112019: 0\n",
      "remain and turkey_052020: 0\n",
      "remain and sa_eg_ae_022020: 0\n",
      "remain and egypt_022020: 0\n"
     ]
    }
   ],
   "source": [
    "list_camp = df_grp_camp['campaign'].head().tolist()\n",
    "for camp_x in list_camp:\n",
    "    df_camp_x = df_pos.loc[df_pos['campaign'] == camp_x]\n",
    "    for camp_y in list_camp:\n",
    "        if camp_x == camp_y:\n",
    "            continue\n",
    "        \n",
    "        df_camp_y = df_pos.loc[df_pos['campaign'] == camp_y]\n",
    "    \n",
    "        set_common = set(df_camp_x['poster_tweetid']).intersection(set(df_camp_y['poster_tweetid']))\n",
    "        print(f'{camp_x} and {camp_y}:', len(set_common))\n",
    "\n",
    "list_camp = df_grp_camp['campaign'].head().tolist()\n",
    "df_camp_x = df_pos.loc[~df_pos['campaign'].isin(list_camp)]\n",
    "for camp_y in list_camp:\n",
    "    df_camp_y = df_pos.loc[df_pos['campaign'] == camp_y]\n",
    "\n",
    "    set_common = set(df_camp_x['poster_tweetid']).intersection(set(df_camp_y['poster_tweetid']))\n",
    "    print(f'remain and {camp_y}:', len(set_common))\n",
    "\n"
   ]
  },
  {
   "cell_type": "markdown",
   "id": "6861ced3-b812-4a0b-aa2e-c08f6e03d432",
   "metadata": {},
   "source": [
    "#### **Get campaign features**"
   ]
  },
  {
   "cell_type": "code",
   "execution_count": 9,
   "id": "f2469cba-9d66-4c98-bef8-00b282e1d687",
   "metadata": {
    "tags": []
   },
   "outputs": [
    {
     "name": "stdout",
     "output_type": "stream",
     "text": [
      "Campaign  serbia_022020\n",
      "Campaign  saudi_arabia_112019\n",
      "Campaign  turkey_052020\n",
      "Campaign  sa_eg_ae_022020\n",
      "Campaign  egypt_022020\n",
      "Campaign  remain\n"
     ]
    }
   ],
   "source": [
    "total = 0\n",
    "camp_list = df_grp_camp['campaign'].head().tolist()\n",
    "camp_list = camp_list + ['remain']\n",
    "\n",
    "tweet_features = './../data/tweet_classifier_features.pkl.gz'\n",
    "\n",
    "df_stat = pd.read_pickle(tweet_features)\n",
    "\n",
    "for campaign in camp_list:\n",
    "    print('Campaign ', campaign) \n",
    "    \n",
    "    df_camp, df_rest = get_camp_data(df_new, df_neg, campaign)\n",
    "    \n",
    "    get_statistics(df_camp,\n",
    "                   campaign, \n",
    "                   df_stat\n",
    "                   )"
   ]
  },
  {
   "cell_type": "code",
   "execution_count": null,
   "id": "56205169-d098-4b1e-8e4e-f17d7623e6a9",
   "metadata": {},
   "outputs": [],
   "source": []
  }
 ],
 "metadata": {
  "kernelspec": {
   "display_name": "Python 3 (ipykernel)",
   "language": "python",
   "name": "python3"
  },
  "language_info": {
   "codemirror_mode": {
    "name": "ipython",
    "version": 3
   },
   "file_extension": ".py",
   "mimetype": "text/x-python",
   "name": "python",
   "nbconvert_exporter": "python",
   "pygments_lexer": "ipython3",
   "version": "3.12.2"
  }
 },
 "nbformat": 4,
 "nbformat_minor": 5
}
