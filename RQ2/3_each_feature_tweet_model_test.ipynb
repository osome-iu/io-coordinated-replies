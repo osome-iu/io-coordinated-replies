{
 "cells": [
  {
   "cell_type": "markdown",
   "id": "c57cf326-aeff-42a9-b456-b99bb51ee2c0",
   "metadata": {},
   "source": [
    "#### **This notebook test the model with each features set**"
   ]
  },
  {
   "cell_type": "code",
   "execution_count": 1,
   "id": "aa9ec86c-c8fc-48cd-bb23-88557cee67ac",
   "metadata": {
    "tags": []
   },
   "outputs": [],
   "source": [
    "import pandas as pd\n",
    "import numpy as np\n",
    "import warnings\n",
    "import os\n",
    "\n",
    "import importlib\n",
    "\n",
    "#### packages\n",
    "import helper.visualization as viz_hp\n",
    "import helper.stat_helper as stat_hp\n",
    "import config.config as config_hp"
   ]
  },
  {
   "cell_type": "markdown",
   "id": "95ccee04-146f-469c-bd0b-9aa1020afcc3",
   "metadata": {
    "tags": []
   },
   "source": [
    "#### **Load Files**"
   ]
  },
  {
   "cell_type": "code",
   "execution_count": 2,
   "id": "fd6a9ee0-4e9c-48b7-a809-e697d5663d2c",
   "metadata": {
    "tags": []
   },
   "outputs": [],
   "source": [
    "importlib.reload(stat_hp)\n",
    "\n",
    "import importlib\n",
    "\n",
    "tweet_features = './../data/tweet_classifier_features.pkl.gz'\n",
    "\n",
    "df_all_stat = pd.read_pickle(tweet_features)"
   ]
  },
  {
   "cell_type": "code",
   "execution_count": 3,
   "id": "d4866f77-2068-4fcf-b923-ef57d0e4aa90",
   "metadata": {
    "tags": []
   },
   "outputs": [
    {
     "name": "stdout",
     "output_type": "stream",
     "text": [
      "Features : 99\n"
     ]
    }
   ],
   "source": [
    "print('Features :', len(df_all_stat.columns)-2)"
   ]
  },
  {
   "cell_type": "code",
   "execution_count": 4,
   "id": "d78827f9-b9bd-4b31-a9bd-228840d1572a",
   "metadata": {},
   "outputs": [
    {
     "name": "stdout",
     "output_type": "stream",
     "text": [
      "Feature names\n"
     ]
    },
    {
     "data": {
      "text/plain": [
       "Index(['std_retweet_count', 'range_reply_count', 'entropy_num_hashtags',\n",
       "       'std_num_url', 'kurtosis_like_count', 'range_like_count',\n",
       "       'skew_like_count', 'skew_reply_count', '50%_mention_count',\n",
       "       'kurtosis_cosine',\n",
       "       ...\n",
       "       'max_like_count', 'mean_diff_min', 'entropy_retweet_count',\n",
       "       'mean_retweet_count', 'min_cosine', 'max_num_hashtags',\n",
       "       'entropy_mention_count', 'range_num_hashtags', 'entropy_cosine',\n",
       "       'range_retweet_count'],\n",
       "      dtype='object', length=101)"
      ]
     },
     "execution_count": 4,
     "metadata": {},
     "output_type": "execute_result"
    }
   ],
   "source": [
    "print('Feature names')\n",
    "df_all_stat.columns"
   ]
  },
  {
   "cell_type": "markdown",
   "id": "ec2d4f02-9cd0-4324-b86d-1b62bb5da71c",
   "metadata": {
    "tags": []
   },
   "source": [
    "#### **Tweet Classifier: Model test different feature sets**"
   ]
  },
  {
   "cell_type": "code",
   "execution_count": 26,
   "id": "4addc863-87b5-49e3-997c-f25db0ad0cef",
   "metadata": {},
   "outputs": [
    {
     "name": "stdout",
     "output_type": "stream",
     "text": [
      "Running the model\n",
      "Running for feature : Reply Time\n",
      "14\n",
      "\n",
      " **** random ****\n",
      "Running Random Forest\n",
      "Running for feature : Num of reply targeted tweet got\n",
      "3\n",
      "\n",
      " **** random ****\n",
      "Running Random Forest\n",
      "Running for feature : Engagement metric\n",
      "41\n",
      "\n",
      " **** random ****\n",
      "Running Random Forest\n",
      "Running for feature : Reply similarity\n",
      "14\n",
      "\n",
      " **** random ****\n",
      "Running Random Forest\n",
      "Running for feature : Entites\n",
      "38\n",
      "\n",
      " **** random ****\n",
      "Running Random Forest\n",
      "Running for feature : Posted Retweet\n",
      "3\n",
      "\n",
      " **** random ****\n",
      "Running Random Forest\n",
      "Running for feature : Posted Like\n",
      "3\n",
      "\n",
      " **** random ****\n",
      "Running Random Forest\n"
     ]
    }
   ],
   "source": [
    "importlib.reload(stat_hp)\n",
    "importlib.reload(config_hp)\n",
    "\n",
    "diff_features = {'Reply Time': 'diff_min',\n",
    "                 'Num of reply targeted tweet got': 'org_reply_count',\n",
    "                 'Engagement metric': 'like_count|retweet_count|reply_count',\n",
    "                 'Reply similarity': 'cosine',\n",
    "                 'Entites': 'mention_count|num_hashtags|num_url',\n",
    "                 'Posted Retweet': 'posted_retweet_count', \n",
    "                 'Posted Like': 'posted_like_count'\n",
    "                }\n",
    "\n",
    "print('Running the model')\n",
    "\n",
    "all_result = []\n",
    "for feature in diff_features:\n",
    "    print('Running for feature :', feature)\n",
    "    #Filter the set of attributes\n",
    "    feat = diff_features[feature] + '|tweet_label|poster_tweetid'\n",
    "        \n",
    "    df_filtered = df_all_stat.filter(regex=feat, axis=1)\n",
    "    \n",
    "    total_col = len(df_filtered.columns)\n",
    "    \n",
    "    print(total_col)\n",
    "\n",
    "    #Run the model\n",
    "    df_result = \\\n",
    "    stat_hp.run_model_with_best_threshold(df_filtered,\n",
    "                      columns_not_include=[],\n",
    "                      model_type='random', \n",
    "                      y_column = 'tweet_label',\n",
    "                     )\n",
    "\n",
    "    df_result['feature'] = feature\n",
    "    all_result.append(df_result)\n",
    "\n",
    "\n",
    "filename = './../results/tweet_classifier_different_feature_result.pkl.gz'\n",
    "\n",
    "(pd.concat(all_result, ignore_index=True)\n",
    ").to_pickle(filename)"
   ]
  },
  {
   "cell_type": "markdown",
   "id": "647e2261-e17f-478e-a458-8a35e6e135e4",
   "metadata": {},
   "source": [
    "#### **Load result**"
   ]
  },
  {
   "cell_type": "code",
   "execution_count": 5,
   "id": "a032169f-7d99-43d4-beb0-ec1f4ccd4e28",
   "metadata": {
    "tags": []
   },
   "outputs": [],
   "source": [
    "df_diff_feat = pd.read_pickle(\n",
    "    './../results/tweet_classifier_different_feature_result.pkl.gz'\n",
    ")"
   ]
  },
  {
   "cell_type": "code",
   "execution_count": 6,
   "id": "086794ff-fa6d-40e7-97e0-6c2d126d9a41",
   "metadata": {
    "tags": []
   },
   "outputs": [
    {
     "data": {
      "text/plain": [
       "Index(['fit_time', 'score_time', 'estimator', 'test_precision',\n",
       "       'train_precision', 'test_recall', 'train_recall', 'test_f1', 'train_f1',\n",
       "       'test_roc_auc', 'train_roc_auc', 'threshold', 'algorithm', 'feature'],\n",
       "      dtype='object')"
      ]
     },
     "execution_count": 6,
     "metadata": {},
     "output_type": "execute_result"
    }
   ],
   "source": [
    "df_diff_feat.columns"
   ]
  },
  {
   "cell_type": "code",
   "execution_count": 18,
   "id": "ec354e5a-610d-4003-95cc-747a15ab40cb",
   "metadata": {},
   "outputs": [
    {
     "data": {
      "text/plain": [
       "array(['Reply Time', 'Num of reply targeted tweet got',\n",
       "       'Engagement metric', 'Reply similarity', 'Entites',\n",
       "       'Posted Retweet', 'Posted Like'], dtype=object)"
      ]
     },
     "execution_count": 18,
     "metadata": {},
     "output_type": "execute_result"
    }
   ],
   "source": [
    "df_diff_feat['feature'].unique()"
   ]
  },
  {
   "cell_type": "code",
   "execution_count": 20,
   "id": "b6d821fe-6d6b-47eb-8240-d88673008a16",
   "metadata": {},
   "outputs": [],
   "source": [
    "replace_values = {'Reply Time': 'Delay',\n",
    "                 'Num of reply targeted tweet got': 'reply_count',\n",
    "                 'Engagement metric': 'Engagement',\n",
    "                 'Reply similarity': 'Similarity',\n",
    "                 'Entites': 'Entites',\n",
    "                 'Posted Retweet': 'retweet_count', \n",
    "                 'Posted Like': 'like_count'\n",
    "                }\n",
    "df_diff_feat['feature'] = df_diff_feat['feature'].replace(replace_values)"
   ]
  },
  {
   "cell_type": "code",
   "execution_count": 21,
   "id": "a0b26156-6b87-40d7-a56d-15a27868126c",
   "metadata": {
    "tags": []
   },
   "outputs": [
    {
     "data": {
      "text/html": [
       "<div>\n",
       "<style scoped>\n",
       "    .dataframe tbody tr th:only-of-type {\n",
       "        vertical-align: middle;\n",
       "    }\n",
       "\n",
       "    .dataframe tbody tr th {\n",
       "        vertical-align: top;\n",
       "    }\n",
       "\n",
       "    .dataframe thead th {\n",
       "        text-align: right;\n",
       "    }\n",
       "</style>\n",
       "<table border=\"1\" class=\"dataframe\">\n",
       "  <thead>\n",
       "    <tr style=\"text-align: right;\">\n",
       "      <th></th>\n",
       "      <th>test_precision</th>\n",
       "      <th>test_recall</th>\n",
       "      <th>test_f1</th>\n",
       "      <th>test_roc_auc</th>\n",
       "    </tr>\n",
       "    <tr>\n",
       "      <th>feature</th>\n",
       "      <th></th>\n",
       "      <th></th>\n",
       "      <th></th>\n",
       "      <th></th>\n",
       "    </tr>\n",
       "  </thead>\n",
       "  <tbody>\n",
       "    <tr>\n",
       "      <th>Engagement</th>\n",
       "      <td>0.694851</td>\n",
       "      <td>0.869892</td>\n",
       "      <td>0.772459</td>\n",
       "      <td>0.841409</td>\n",
       "    </tr>\n",
       "    <tr>\n",
       "      <th>Similarity</th>\n",
       "      <td>0.540483</td>\n",
       "      <td>0.962747</td>\n",
       "      <td>0.692058</td>\n",
       "      <td>0.684654</td>\n",
       "    </tr>\n",
       "    <tr>\n",
       "      <th>Entites</th>\n",
       "      <td>0.522257</td>\n",
       "      <td>0.954472</td>\n",
       "      <td>0.675083</td>\n",
       "      <td>0.651249</td>\n",
       "    </tr>\n",
       "    <tr>\n",
       "      <th>reply_count</th>\n",
       "      <td>0.509214</td>\n",
       "      <td>0.994309</td>\n",
       "      <td>0.673503</td>\n",
       "      <td>0.590690</td>\n",
       "    </tr>\n",
       "    <tr>\n",
       "      <th>Delay</th>\n",
       "      <td>0.516997</td>\n",
       "      <td>0.961727</td>\n",
       "      <td>0.672278</td>\n",
       "      <td>0.665159</td>\n",
       "    </tr>\n",
       "    <tr>\n",
       "      <th>like_count</th>\n",
       "      <td>0.494626</td>\n",
       "      <td>1.000000</td>\n",
       "      <td>0.661873</td>\n",
       "      <td>0.528683</td>\n",
       "    </tr>\n",
       "    <tr>\n",
       "      <th>retweet_count</th>\n",
       "      <td>0.494626</td>\n",
       "      <td>1.000000</td>\n",
       "      <td>0.661873</td>\n",
       "      <td>0.541797</td>\n",
       "    </tr>\n",
       "  </tbody>\n",
       "</table>\n",
       "</div>"
      ],
      "text/plain": [
       "               test_precision  test_recall   test_f1  test_roc_auc\n",
       "feature                                                           \n",
       "Engagement           0.694851     0.869892  0.772459      0.841409\n",
       "Similarity           0.540483     0.962747  0.692058      0.684654\n",
       "Entites              0.522257     0.954472  0.675083      0.651249\n",
       "reply_count          0.509214     0.994309  0.673503      0.590690\n",
       "Delay                0.516997     0.961727  0.672278      0.665159\n",
       "like_count           0.494626     1.000000  0.661873      0.528683\n",
       "retweet_count        0.494626     1.000000  0.661873      0.541797"
      ]
     },
     "execution_count": 21,
     "metadata": {},
     "output_type": "execute_result"
    }
   ],
   "source": [
    "columns = [\n",
    "           'test_precision', \n",
    "           'test_recall', \n",
    "           'test_f1', \n",
    "           'test_roc_auc'\n",
    "          ]\n",
    "df_diff_feat.groupby('feature')[columns].mean().sort_values(by='test_f1',\n",
    "                                                                 ascending=False\n",
    "                                                                )[columns]"
   ]
  },
  {
   "cell_type": "code",
   "execution_count": null,
   "id": "6b6a8639-1f96-4db4-b569-58aba2a865c0",
   "metadata": {},
   "outputs": [],
   "source": []
  }
 ],
 "metadata": {
  "kernelspec": {
   "display_name": "Python 3 (ipykernel)",
   "language": "python",
   "name": "python3"
  },
  "language_info": {
   "codemirror_mode": {
    "name": "ipython",
    "version": 3
   },
   "file_extension": ".py",
   "mimetype": "text/x-python",
   "name": "python",
   "nbconvert_exporter": "python",
   "pygments_lexer": "ipython3",
   "version": "3.12.2"
  }
 },
 "nbformat": 4,
 "nbformat_minor": 5
}
