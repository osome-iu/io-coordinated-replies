{
 "cells": [
  {
   "cell_type": "markdown",
   "id": "9498fc95-b2ec-4d1d-a140-2b474c6bbe58",
   "metadata": {},
   "source": [
    "#### **This notebook train and test different campaign**"
   ]
  },
  {
   "cell_type": "code",
   "execution_count": 1,
   "id": "e3970210-1dad-4e73-b50a-20982d09a611",
   "metadata": {
    "tags": []
   },
   "outputs": [],
   "source": [
    "import pandas as pd\n",
    "import numpy as np\n",
    "import warnings\n",
    "import seaborn as sns\n",
    "import matplotlib.pyplot as plt\n",
    "import matplotlib.colors as pltc\n",
    "\n",
    "import importlib\n",
    "import os\n",
    "\n",
    "#### packages\n",
    "import helper.visualization as viz_hp\n",
    "import config.config as config_hp\n",
    "\n",
    "import copy\n",
    "import helper.stat_helper as stat_hp"
   ]
  },
  {
   "cell_type": "markdown",
   "id": "a0646d4e-589c-4d31-aeee-ae16e361339d",
   "metadata": {},
   "source": [
    "#### **Add campaign data in all positive dataset row**"
   ]
  },
  {
   "cell_type": "code",
   "execution_count": null,
   "id": "92733a8e-6782-4a3a-80ce-4efa361a9118",
   "metadata": {},
   "outputs": [],
   "source": [
    "df = pd.read_csv('./../data/poster_tweetid_campaign_type.csv')\n",
    "df_pos = df.loc[df['type'] == 'target']"
   ]
  },
  {
   "cell_type": "code",
   "execution_count": 3,
   "id": "95156861-c7dc-4da8-ba2b-08ca217f905f",
   "metadata": {
    "tags": []
   },
   "outputs": [
    {
     "data": {
      "text/plain": [
       "True"
      ]
     },
     "execution_count": 3,
     "metadata": {},
     "output_type": "execute_result"
    }
   ],
   "source": [
    "'campaign' in df_pos.columns"
   ]
  },
  {
   "cell_type": "code",
   "execution_count": 4,
   "id": "8e51c82a-170e-44b4-857d-e2fd7222a237",
   "metadata": {
    "tags": []
   },
   "outputs": [],
   "source": [
    "df_grp_pos = (df_pos\n",
    "              .groupby(['poster_tweetid', 'campaign'])\n",
    "              .first()\n",
    "              .reset_index()\n",
    "             )"
   ]
  },
  {
   "cell_type": "code",
   "execution_count": 5,
   "id": "dc0390f2-5e62-419a-af7f-3aa976adaa76",
   "metadata": {
    "tags": []
   },
   "outputs": [
    {
     "data": {
      "text/plain": [
       "array(['serbia_022020', 'saudi_arabia_112019', 'ecuador_082019',\n",
       "       'turkey_052020', 'sa_eg_ae_022020', 'uae_082019', 'iran_201906',\n",
       "       'honduras_022020', 'egypt_022020', 'iran_201901_1', 'iranian',\n",
       "       'uganda_0621', 'china_082019', 'qatar_082020', 'iran_202012',\n",
       "       'venezuela_201901', 'indonesia_022020', 'spain_082019',\n",
       "       'egypt_uae_082019', 'cuba_082020', 'china_052020',\n",
       "       'thailand_092020', 'MX_0621', 'Tanzania_0621', 'CNHU_0621',\n",
       "       'Venezuela_0621', 'ira', 'russia_201901_1'], dtype=object)"
      ]
     },
     "execution_count": 5,
     "metadata": {},
     "output_type": "execute_result"
    }
   ],
   "source": [
    "df_grp_pos['campaign'].unique()"
   ]
  },
  {
   "cell_type": "code",
   "execution_count": 6,
   "id": "4cad12cb-7f85-44e3-be01-78da4b3589d6",
   "metadata": {
    "tags": []
   },
   "outputs": [],
   "source": [
    "df_new = df_pos.merge(df_grp_pos[['poster_tweetid', 'campaign']],\n",
    "                      on='poster_tweetid',\n",
    "                      how='left'\n",
    "                     )"
   ]
  },
  {
   "cell_type": "code",
   "execution_count": 7,
   "id": "d7dfc138-2a86-4e3e-99c8-cf8bce3d8f43",
   "metadata": {
    "tags": []
   },
   "outputs": [
    {
     "data": {
      "text/plain": [
       "Index(['tweet_text', 'conversation_id', 'replier_tweetid', 'replier_userid',\n",
       "       'poster_userid', 'poster_tweetid', 'tweet_time', 'tweet_language',\n",
       "       'replier_label', 'year', 'campaign_x', 'tweet_label', 'tweet_time_year',\n",
       "       'common', 'id', 'username', 'campaign_y'],\n",
       "      dtype='object')"
      ]
     },
     "execution_count": 7,
     "metadata": {},
     "output_type": "execute_result"
    }
   ],
   "source": [
    "df_new.columns"
   ]
  },
  {
   "cell_type": "code",
   "execution_count": 8,
   "id": "ca31a398-5b88-4775-84c2-5355adc31b2e",
   "metadata": {
    "tags": []
   },
   "outputs": [],
   "source": [
    "df_new.drop(columns=['campaign_x'], inplace=True)\n",
    "df_new.rename(columns={'campaign_y': 'campaign'},\n",
    "              inplace=True)"
   ]
  },
  {
   "cell_type": "code",
   "execution_count": 9,
   "id": "d7d9bc3e-a987-4eaa-9f69-9b696d881a66",
   "metadata": {
    "tags": []
   },
   "outputs": [
    {
     "data": {
      "text/plain": [
       "3446443"
      ]
     },
     "execution_count": 9,
     "metadata": {},
     "output_type": "execute_result"
    }
   ],
   "source": [
    "len(df_new)"
   ]
  },
  {
   "cell_type": "code",
   "execution_count": 10,
   "id": "918c5440-5dac-4c3f-8c85-d38df9bed3c8",
   "metadata": {
    "tags": []
   },
   "outputs": [
    {
     "data": {
      "text/html": [
       "<div>\n",
       "<style scoped>\n",
       "    .dataframe tbody tr th:only-of-type {\n",
       "        vertical-align: middle;\n",
       "    }\n",
       "\n",
       "    .dataframe tbody tr th {\n",
       "        vertical-align: top;\n",
       "    }\n",
       "\n",
       "    .dataframe thead th {\n",
       "        text-align: right;\n",
       "    }\n",
       "</style>\n",
       "<table border=\"1\" class=\"dataframe\">\n",
       "  <thead>\n",
       "    <tr style=\"text-align: right;\">\n",
       "      <th></th>\n",
       "      <th>tweet_text</th>\n",
       "      <th>conversation_id</th>\n",
       "      <th>replier_tweetid</th>\n",
       "      <th>replier_userid</th>\n",
       "      <th>poster_userid</th>\n",
       "      <th>poster_tweetid</th>\n",
       "      <th>tweet_time</th>\n",
       "      <th>tweet_language</th>\n",
       "      <th>replier_label</th>\n",
       "      <th>year</th>\n",
       "      <th>tweet_label</th>\n",
       "      <th>tweet_time_year</th>\n",
       "      <th>common</th>\n",
       "      <th>id</th>\n",
       "      <th>username</th>\n",
       "      <th>campaign</th>\n",
       "    </tr>\n",
       "  </thead>\n",
       "  <tbody>\n",
       "  </tbody>\n",
       "</table>\n",
       "</div>"
      ],
      "text/plain": [
       "Empty DataFrame\n",
       "Columns: [tweet_text, conversation_id, replier_tweetid, replier_userid, poster_userid, poster_tweetid, tweet_time, tweet_language, replier_label, year, tweet_label, tweet_time_year, common, id, username, campaign]\n",
       "Index: []"
      ]
     },
     "execution_count": 10,
     "metadata": {},
     "output_type": "execute_result"
    }
   ],
   "source": [
    "df_new.loc[df_new['campaign'].isnull()]"
   ]
  },
  {
   "cell_type": "code",
   "execution_count": 11,
   "id": "7ba608b6-1434-4561-9020-b24961c62484",
   "metadata": {
    "tags": []
   },
   "outputs": [],
   "source": [
    "df_new_1 = df_new.loc[df_new['replier_label'] == 1]\n",
    "df_new_0 = df_new.loc[df_new['replier_label'] == 0]"
   ]
  },
  {
   "cell_type": "code",
   "execution_count": 12,
   "id": "5ca5bf63-6741-41e9-8e30-d6242033db43",
   "metadata": {
    "tags": []
   },
   "outputs": [
    {
     "name": "stdout",
     "output_type": "stream",
     "text": [
      "Positive : 7670\n",
      "Negative : 874248\n"
     ]
    }
   ],
   "source": [
    "print('Positive :', df_new_1['replier_userid'].nunique())\n",
    "print('Negative :', df_new_0['replier_userid'].nunique())"
   ]
  },
  {
   "cell_type": "code",
   "execution_count": 13,
   "id": "6ac4924e-81be-4927-8fec-979f29006a68",
   "metadata": {
    "tags": []
   },
   "outputs": [
    {
     "name": "stdout",
     "output_type": "stream",
     "text": [
      "Positive : ['turkey_052020' 'saudi_arabia_112019' 'serbia_022020' 'uae_082019'\n",
      " 'egypt_022020' 'sa_eg_ae_022020' 'honduras_022020' 'egypt_uae_082019'\n",
      " 'iran_201906' 'iran_202012' 'iranian' 'thailand_092020' 'spain_082019'\n",
      " 'iran_201901_1' 'china_052020' 'uganda_0621' 'venezuela_201901' 'MX_0621'\n",
      " 'indonesia_022020' 'Tanzania_0621' 'ecuador_082019' 'china_082019'\n",
      " 'cuba_082020' 'qatar_082020' 'ira' 'CNHU_0621' 'Venezuela_0621'\n",
      " 'russia_201901_1']\n",
      "Negative : ['turkey_052020' 'saudi_arabia_112019' 'serbia_022020' 'uae_082019'\n",
      " 'egypt_022020' 'sa_eg_ae_022020' 'honduras_022020' 'egypt_uae_082019'\n",
      " 'iran_201906' 'iran_202012' 'iranian' 'thailand_092020' 'spain_082019'\n",
      " 'iran_201901_1' 'china_052020' 'uganda_0621' 'venezuela_201901' 'MX_0621'\n",
      " 'indonesia_022020' 'Tanzania_0621' 'ecuador_082019' 'china_082019'\n",
      " 'cuba_082020' 'qatar_082020' 'ira' 'CNHU_0621' 'Venezuela_0621'\n",
      " 'russia_201901_1']\n"
     ]
    }
   ],
   "source": [
    "print('Positive :', df_new_1['campaign'].unique())\n",
    "print('Negative :', df_new_0['campaign'].unique())"
   ]
  },
  {
   "cell_type": "markdown",
   "id": "db8b1641-14dc-46c6-82a5-939b31b821a4",
   "metadata": {},
   "source": [
    "#### **Load statistics dataset**"
   ]
  },
  {
   "cell_type": "code",
   "execution_count": 15,
   "id": "45650be6-8dc3-4a45-9349-4af2d4e06f8a",
   "metadata": {
    "tags": []
   },
   "outputs": [],
   "source": [
    "all_feature = './../data/RQ3_replier_classifier_features.csv'\n",
    "\n",
    "df_stat = pd.read_csv(all_feature)"
   ]
  },
  {
   "cell_type": "code",
   "execution_count": 16,
   "id": "8361de54-e49f-48c4-bf01-770f836aeb8a",
   "metadata": {
    "tags": []
   },
   "outputs": [
    {
     "data": {
      "text/plain": [
       "794645"
      ]
     },
     "execution_count": 16,
     "metadata": {},
     "output_type": "execute_result"
    }
   ],
   "source": [
    "len(df_stat)"
   ]
  },
  {
   "cell_type": "code",
   "execution_count": 17,
   "id": "73ab3459-b2b8-42da-b984-d50c7b678046",
   "metadata": {
    "tags": []
   },
   "outputs": [
    {
     "data": {
      "text/plain": [
       "794645"
      ]
     },
     "execution_count": 17,
     "metadata": {},
     "output_type": "execute_result"
    }
   ],
   "source": [
    "df_stat['replier_userid'].nunique()"
   ]
  },
  {
   "cell_type": "code",
   "execution_count": 33,
   "id": "beca0086-df4d-483c-9809-68569f87ea3d",
   "metadata": {
    "tags": []
   },
   "outputs": [],
   "source": [
    "df_stat_camp_1 = df_stat.loc[df_stat['replier_label'] == 1]\n",
    "df_stat_camp_0 = df_stat.loc[df_stat['replier_label'] == 0]"
   ]
  },
  {
   "cell_type": "code",
   "execution_count": 19,
   "id": "cca13065-0690-4785-927d-8e2e34d18662",
   "metadata": {
    "tags": []
   },
   "outputs": [
    {
     "data": {
      "text/plain": [
       "881918"
      ]
     },
     "execution_count": 19,
     "metadata": {},
     "output_type": "execute_result"
    }
   ],
   "source": [
    "df_new['replier_userid'].nunique()"
   ]
  },
  {
   "cell_type": "code",
   "execution_count": 20,
   "id": "ad10232f-662b-4736-a5c5-f33fbaa912d0",
   "metadata": {
    "tags": []
   },
   "outputs": [],
   "source": [
    "df_one_camp = (df_new[['replier_userid', 'campaign', 'replier_label']]\n",
    "               .groupby('replier_userid')\n",
    "               .first()\n",
    "               .reset_index()\n",
    "              )"
   ]
  },
  {
   "cell_type": "code",
   "execution_count": 21,
   "id": "6f378adf-fcb5-4da8-b12c-305ec2791b8c",
   "metadata": {
    "tags": []
   },
   "outputs": [
    {
     "name": "stdout",
     "output_type": "stream",
     "text": [
      "Total len 1:  7670\n",
      "Total len 0:  874248\n",
      "Positive : 7670\n",
      "Negative : 874248\n"
     ]
    }
   ],
   "source": [
    "df_stat_camp_1 = df_one_camp.loc[df_one_camp['replier_label'] == 1]\n",
    "df_stat_camp_0 = df_one_camp.loc[df_one_camp['replier_label'] == 0]\n",
    "\n",
    "print('Total len 1: ', len(df_stat_camp_1))\n",
    "print('Total len 0: ', len(df_stat_camp_0))\n",
    "print('Positive :', df_stat_camp_1['replier_userid'].nunique())\n",
    "print('Negative :', df_stat_camp_0['replier_userid'].nunique())"
   ]
  },
  {
   "cell_type": "code",
   "execution_count": 22,
   "id": "50b3d1c9-e449-4c48-8dcc-0212e6068c48",
   "metadata": {
    "tags": []
   },
   "outputs": [],
   "source": [
    "df_one_camp['replier_userid'] = df_one_camp['replier_userid'].astype(str)\n",
    "df_stat['replier_userid'] = df_stat['replier_userid'].astype(str)\n",
    "\n",
    "df_stat_camp = df_stat.merge(\n",
    "    df_one_camp[['replier_userid', 'campaign']],\n",
    "    on='replier_userid',\n",
    ")"
   ]
  },
  {
   "cell_type": "code",
   "execution_count": 23,
   "id": "78b37bba-8ce8-46d8-a500-dd12ead15c54",
   "metadata": {
    "tags": []
   },
   "outputs": [
    {
     "data": {
      "text/html": [
       "<div>\n",
       "<style scoped>\n",
       "    .dataframe tbody tr th:only-of-type {\n",
       "        vertical-align: middle;\n",
       "    }\n",
       "\n",
       "    .dataframe tbody tr th {\n",
       "        vertical-align: top;\n",
       "    }\n",
       "\n",
       "    .dataframe thead th {\n",
       "        text-align: right;\n",
       "    }\n",
       "</style>\n",
       "<table border=\"1\" class=\"dataframe\">\n",
       "  <thead>\n",
       "    <tr style=\"text-align: right;\">\n",
       "      <th></th>\n",
       "      <th>replier_userid</th>\n",
       "      <th>replier_label</th>\n",
       "      <th>age</th>\n",
       "      <th>mean_mention_count</th>\n",
       "      <th>min_mention_count</th>\n",
       "      <th>25%_mention_count</th>\n",
       "      <th>50%_mention_count</th>\n",
       "      <th>75%_mention_count</th>\n",
       "      <th>max_mention_count</th>\n",
       "      <th>range_mention_count</th>\n",
       "      <th>...</th>\n",
       "      <th>mean_cosine</th>\n",
       "      <th>min_cosine</th>\n",
       "      <th>25%_cosine</th>\n",
       "      <th>50%_cosine</th>\n",
       "      <th>75%_cosine</th>\n",
       "      <th>max_cosine</th>\n",
       "      <th>range_cosine</th>\n",
       "      <th>iqr_cosine</th>\n",
       "      <th>entropy_cosine</th>\n",
       "      <th>campaign</th>\n",
       "    </tr>\n",
       "  </thead>\n",
       "  <tbody>\n",
       "  </tbody>\n",
       "</table>\n",
       "<p>0 rows × 79 columns</p>\n",
       "</div>"
      ],
      "text/plain": [
       "Empty DataFrame\n",
       "Columns: [replier_userid, replier_label, age, mean_mention_count, min_mention_count, 25%_mention_count, 50%_mention_count, 75%_mention_count, max_mention_count, range_mention_count, iqr_mention_count, entropy_mention_count, mean_hashtags_count, min_hashtags_count, 25%_hashtags_count, 50%_hashtags_count, 75%_hashtags_count, max_hashtags_count, range_hashtags_count, iqr_hashtags_count, entropy_hashtags_count, mean_num_url, min_num_url, 25%_num_url, 50%_num_url, 75%_num_url, max_num_url, range_num_url, iqr_num_url, entropy_num_url, mean_diff_min, min_diff_min, 25%_diff_min, 50%_diff_min, 75%_diff_min, max_diff_min, range_diff_min, iqr_diff_min, entropy_diff_min, followers_ratio, following_ratio, mean_reply_count, min_reply_count, 25%_reply_count, 50%_reply_count, 75%_reply_count, max_reply_count, range_reply_count, iqr_reply_count, entropy_reply_count, mean_like_count, min_like_count, 25%_like_count, 50%_like_count, 75%_like_count, max_like_count, range_like_count, iqr_like_count, entropy_like_count, mean_retweet_count, min_retweet_count, 25%_retweet_count, 50%_retweet_count, 75%_retweet_count, max_retweet_count, range_retweet_count, iqr_retweet_count, entropy_retweet_count, activity_rate, mean_cosine, min_cosine, 25%_cosine, 50%_cosine, 75%_cosine, max_cosine, range_cosine, iqr_cosine, entropy_cosine, campaign]\n",
       "Index: []\n",
       "\n",
       "[0 rows x 79 columns]"
      ]
     },
     "execution_count": 23,
     "metadata": {},
     "output_type": "execute_result"
    }
   ],
   "source": [
    "df_stat_camp.loc[df_stat_camp['campaign'].isnull()]"
   ]
  },
  {
   "cell_type": "code",
   "execution_count": 24,
   "id": "2549cc1f-5460-492d-a5d8-bc4f988e3c9f",
   "metadata": {
    "tags": []
   },
   "outputs": [
    {
     "name": "stdout",
     "output_type": "stream",
     "text": [
      "Total len 1:  7678\n",
      "Total len 0:  786975\n",
      "Positive : 7670\n",
      "Negative : 786975\n"
     ]
    }
   ],
   "source": [
    "df_stat_camp_1 = df_stat_camp.loc[df_stat_camp['replier_label'] == 1]\n",
    "df_stat_camp_0 = df_stat_camp.loc[df_stat_camp['replier_label'] == 0]\n",
    "\n",
    "print('Total len 1: ', len(df_stat_camp_1))\n",
    "print('Total len 0: ', len(df_stat_camp_0))\n",
    "print('Positive :', df_stat_camp_1['replier_userid'].nunique())\n",
    "print('Negative :', df_stat_camp_0['replier_userid'].nunique())"
   ]
  },
  {
   "cell_type": "markdown",
   "id": "190f986f-066d-4542-bf05-9d870363ed06",
   "metadata": {},
   "source": [
    "#### **Top campaigns**"
   ]
  },
  {
   "cell_type": "code",
   "execution_count": 25,
   "id": "2512fd2b-43e5-4d6a-bfb9-acc3d09ee621",
   "metadata": {
    "tags": []
   },
   "outputs": [
    {
     "name": "stdout",
     "output_type": "stream",
     "text": [
      "               campaign  count_1\n",
      "18  saudi_arabia_112019     1243\n",
      "19        serbia_022020     1152\n",
      "22        turkey_052020      999\n",
      "8          egypt_022020      913\n",
      "10      honduras_022020      875\n"
     ]
    }
   ],
   "source": [
    "df_stat_camp_1 = df_stat_camp.loc[df_stat_camp['replier_label'] == 1]\n",
    "df_stat_camp_0 = df_stat_camp.loc[df_stat_camp['replier_label'] == 0]\n",
    "\n",
    "\n",
    "df_1_grp = (df_stat_camp_1\n",
    "            .groupby(['campaign'])['replier_userid']\n",
    "            .nunique()\n",
    "            .to_frame('count_1')\n",
    "            .reset_index()\n",
    "            .sort_values(\n",
    "                by='count_1',\n",
    "                ascending=False\n",
    "            )\n",
    "           )\n",
    "\n",
    "print(df_1_grp.head())\n",
    "\n",
    "df_0_grp = (df_stat_camp_0\n",
    "            .groupby(['campaign'])['replier_userid']\n",
    "            .nunique()\n",
    "            .to_frame('count_0')\n",
    "            .reset_index()\n",
    "            .sort_values(\n",
    "                by='count_0',\n",
    "                ascending=False\n",
    "            )\n",
    "           )"
   ]
  },
  {
   "cell_type": "code",
   "execution_count": 26,
   "id": "18b9c98e-28cf-444e-90a7-735c01e7983c",
   "metadata": {
    "tags": []
   },
   "outputs": [],
   "source": [
    "df_stat_ok = df_1_grp.merge(\n",
    "    df_0_grp[['campaign', 'count_0']],\n",
    "    on='campaign',\n",
    ")"
   ]
  },
  {
   "cell_type": "markdown",
   "id": "30e6b91d-f7bf-46b6-90fa-b83ef52ba9c8",
   "metadata": {},
   "source": [
    "#### **Get features for each campaign**"
   ]
  },
  {
   "cell_type": "code",
   "execution_count": 27,
   "id": "25210ba4-4592-47cc-9a26-0c5ce3d34a36",
   "metadata": {
    "tags": []
   },
   "outputs": [],
   "source": [
    "list_campaign = df_stat_ok['campaign'].head()"
   ]
  },
  {
   "cell_type": "code",
   "execution_count": 28,
   "id": "73ba1570-b83b-457e-8571-194b9d0cdf68",
   "metadata": {
    "tags": []
   },
   "outputs": [
    {
     "data": {
      "text/plain": [
       "0    saudi_arabia_112019\n",
       "1          serbia_022020\n",
       "2          turkey_052020\n",
       "3           egypt_022020\n",
       "4        honduras_022020\n",
       "Name: campaign, dtype: object"
      ]
     },
     "execution_count": 28,
     "metadata": {},
     "output_type": "execute_result"
    }
   ],
   "source": [
    "list_campaign"
   ]
  },
  {
   "cell_type": "code",
   "execution_count": 29,
   "id": "3a795d08-a028-413d-98c8-38125d1ff734",
   "metadata": {
    "tags": []
   },
   "outputs": [],
   "source": [
    "def get_statistics(campagin_name=None, \n",
    "                   df=None\n",
    "                  ):\n",
    "    '''\n",
    "    Gets the features for the campaign data\n",
    "    '''\n",
    "    print(campagin_name)\n",
    "    \n",
    "    camp_feat = './../results/'\n",
    "    campaign_feat = os.path.join(camp_feat, \n",
    "                                 f'replier_classification_{campagin_name}_features.pkl.gz'\n",
    "                                )\n",
    "    df_camp_stat = df.loc[\n",
    "        df['campaign'] == camp\n",
    "    ]\n",
    "   \n",
    "    print('1 :', len(df_camp_stat.loc[df_camp_stat['replier_label'] == 1]))\n",
    "    print('0 :', len(df_camp_stat.loc[df_camp_stat['replier_label'] == 0]))\n",
    "    \n",
    "    column_to_include = [x for x in df.columns if x not in ['campaign']]\n",
    "    print(len(column_to_include))\n",
    "    \n",
    "    df_camp_stat[column_to_include].to_pickle(f'{campaign_feat}')\n",
    "    \n",
    "    print('** All features saved **')"
   ]
  },
  {
   "cell_type": "code",
   "execution_count": 30,
   "id": "e7f5d793-4552-426e-b6fa-920b46705895",
   "metadata": {
    "tags": []
   },
   "outputs": [
    {
     "name": "stdout",
     "output_type": "stream",
     "text": [
      "Camp--- : saudi_arabia_112019\n",
      "saudi_arabia_112019\n",
      "** All features saved **\n",
      "saudi_arabia_112019  Done!\n",
      "Camp--- : serbia_022020\n",
      "serbia_022020\n",
      "** All features saved **\n",
      "serbia_022020  Done!\n",
      "Camp--- : turkey_052020\n",
      "turkey_052020\n",
      "** All features saved **\n",
      "turkey_052020  Done!\n",
      "Camp--- : egypt_022020\n",
      "egypt_022020\n",
      "** All features saved **\n",
      "egypt_022020  Done!\n",
      "Camp--- : honduras_022020\n",
      "honduras_022020\n",
      "** All features saved **\n",
      "honduras_022020  Done!\n"
     ]
    }
   ],
   "source": [
    "for camp in list_campaign:\n",
    "    print('Camp--- :', camp)\n",
    "    \n",
    "    get_statistics(campagin_name=camp, \n",
    "                   df=df_stat_camp\n",
    "                  )\n",
    "    print(camp, ' Done!')"
   ]
  },
  {
   "cell_type": "markdown",
   "id": "2762c012-c05a-4360-8814-f4457c0c30a7",
   "metadata": {},
   "source": [
    "#### **Get features for remaining dataset**"
   ]
  },
  {
   "cell_type": "code",
   "execution_count": 31,
   "id": "6209901b-a9bf-4f74-a253-c0b951970e9e",
   "metadata": {
    "tags": []
   },
   "outputs": [
    {
     "data": {
      "text/plain": [
       "0    saudi_arabia_112019\n",
       "1          serbia_022020\n",
       "2          turkey_052020\n",
       "3           egypt_022020\n",
       "4        honduras_022020\n",
       "Name: campaign, dtype: object"
      ]
     },
     "execution_count": 31,
     "metadata": {},
     "output_type": "execute_result"
    }
   ],
   "source": [
    "list_campaign"
   ]
  },
  {
   "cell_type": "code",
   "execution_count": 32,
   "id": "473a2cc7-90fe-4174-be8e-c47f26e6828e",
   "metadata": {
    "tags": []
   },
   "outputs": [
    {
     "name": "stdout",
     "output_type": "stream",
     "text": [
      "0 : 371145\n",
      "1 : 2489\n",
      "78\n"
     ]
    },
    {
     "name": "stderr",
     "output_type": "stream",
     "text": [
      "/tmp/ipykernel_2853873/3476379109.py:6: SettingWithCopyWarning: \n",
      "A value is trying to be set on a copy of a slice from a DataFrame.\n",
      "Try using .loc[row_indexer,col_indexer] = value instead\n",
      "\n",
      "See the caveats in the documentation: https://pandas.pydata.org/pandas-docs/stable/user_guide/indexing.html#returning-a-view-versus-a-copy\n",
      "  df_remain['replier_userid'] = df_remain['replier_userid'].astype(str)\n"
     ]
    }
   ],
   "source": [
    "df_remain = df_stat_camp.loc[~df_stat_camp['campaign'].isin(list_campaign.tolist())]\n",
    "\n",
    "print('0 :', df_remain.loc[df_remain['replier_label'] == 0]['replier_userid'].nunique())\n",
    "print('1 :', df_remain.loc[df_remain['replier_label'] == 1]['replier_userid'].nunique())\n",
    "\n",
    "df_remain['replier_userid'] = df_remain['replier_userid'].astype(str)\n",
    "\n",
    "column_to_include = [x for x in df_remain.columns if x not in ['campaign']]\n",
    "print(len(column_to_include))\n",
    "\n",
    "camp_feat = './../results'\n",
    "campaign_feat = os.path.join(camp_feat, \n",
    "                             f'replier_classification_remain_features.pkl.gz'\n",
    "                            )\n",
    "\n",
    "df_remain[column_to_include].to_pickle(f'{campaign_feat}')"
   ]
  },
  {
   "cell_type": "code",
   "execution_count": null,
   "id": "c7d3e6d5-31ca-42ee-9060-780eb586e830",
   "metadata": {},
   "outputs": [],
   "source": []
  }
 ],
 "metadata": {
  "kernelspec": {
   "display_name": "Python 3 (ipykernel)",
   "language": "python",
   "name": "python3"
  },
  "language_info": {
   "codemirror_mode": {
    "name": "ipython",
    "version": 3
   },
   "file_extension": ".py",
   "mimetype": "text/x-python",
   "name": "python",
   "nbconvert_exporter": "python",
   "pygments_lexer": "ipython3",
   "version": "3.12.2"
  }
 },
 "nbformat": 4,
 "nbformat_minor": 5
}
