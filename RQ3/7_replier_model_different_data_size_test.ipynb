{
 "cells": [
  {
   "cell_type": "markdown",
   "id": "3bbbf367-59e6-4207-8420-e61cfc39cde9",
   "metadata": {},
   "source": [
    "#### **This notebook combines the features for user.**"
   ]
  },
  {
   "cell_type": "code",
   "execution_count": 1,
   "id": "f3b71b9e-a6cb-420b-b709-baadc242ac3e",
   "metadata": {
    "tags": []
   },
   "outputs": [],
   "source": [
    "import pandas as pd\n",
    "import numpy as np\n",
    "import warnings\n",
    "\n",
    "import importlib\n",
    "\n",
    "#### packages\n",
    "import helper.strategy_helper as st_hp\n",
    "import helper.visualization as vz_hp\n",
    "import config.config as config_hp\n",
    "\n",
    "import matplotlib.pyplot as plt\n",
    "import matplotlib.colors as pltc"
   ]
  },
  {
   "cell_type": "code",
   "execution_count": 2,
   "id": "74597682-ba2c-42aa-a45f-e23c8bc20d4e",
   "metadata": {},
   "outputs": [],
   "source": [
    "#we could train a RF model and check the stratified CV score, but the \n",
    "# SRF has its restrictions with imbalanced classes because\n",
    "# it uses a bootstrap sample of the training set to form each tree."
   ]
  },
  {
   "cell_type": "markdown",
   "id": "c4043639-6449-4c6f-82fb-f11026fa4a18",
   "metadata": {
    "tags": []
   },
   "source": [
    "#### **Load data**"
   ]
  },
  {
   "cell_type": "code",
   "execution_count": 3,
   "id": "8f891f02-0161-44e1-928d-6d395548186c",
   "metadata": {
    "tags": []
   },
   "outputs": [],
   "source": [
    "all_feature = './../data/RQ3_replier_classifier_features.csv'\n",
    "\n",
    "df_stat = pd.read_csv(all_feature)"
   ]
  },
  {
   "cell_type": "code",
   "execution_count": 5,
   "id": "9e4f56cd-42c2-457d-855a-28737404efe0",
   "metadata": {
    "tags": []
   },
   "outputs": [],
   "source": [
    "# len(df_stat)"
   ]
  },
  {
   "cell_type": "markdown",
   "id": "e876c34e-8e2c-4ae5-ad2d-3436191e4fe0",
   "metadata": {
    "tags": []
   },
   "source": [
    "#### **Balanced sample test**"
   ]
  },
  {
   "cell_type": "code",
   "execution_count": 17,
   "id": "6a55dacc-4921-43cd-bfbe-4c6c79a4bb88",
   "metadata": {
    "tags": []
   },
   "outputs": [],
   "source": [
    "import helper.stat_helper as stat_hp\n",
    "importlib.reload(stat_hp)\n",
    "\n",
    "def test_balanced(df_stat, filename=None):\n",
    "    df_0 = df_stat.loc[df_stat['replier_label'] == 0]\n",
    "    df_1 = df_stat.loc[df_stat['replier_label'] == 1]\n",
    "    \n",
    "    all_cv_scores = []\n",
    "    for i in range(0,10):\n",
    "        df_sample = df_0.sample(len(df_1), random_state=i)\n",
    "\n",
    "        df_0 = df_0.loc[~df_0['replier_userid'].isin(\n",
    "            df_sample['replier_userid']\n",
    "        )]\n",
    "\n",
    "        df_all = pd.concat([df_sample,\n",
    "                            df_1\n",
    "                           ])\n",
    "\n",
    "        cv_results_tuned_model = \\\n",
    "    stat_hp.run_model_with_best_threshold(df_sample,\n",
    "                                          columns_not_include=columns_not_include,\n",
    "                                          model_type='random', \n",
    "                                          y_column = 'replier_label',\n",
    "                                          filename=None,\n",
    "                                         )\n",
    "    cv_results_tuned_model['total_data'] = total_len\n",
    "    cv_results_tuned_model['reply_threshold'] = i\n",
    "\n",
    "        all_cv_scores.append([final_score['mean_precision'], \n",
    "                              final_score['mean_recall'],\n",
    "                              final_score['mean_f1'],\n",
    "                              final_score['mean_auc'],\n",
    "                              i\n",
    "                             ])\n",
    "        \n",
    "    (pd.DataFrame(data=all_cv_scores,\n",
    "                 columns=['mean_precision',\n",
    "                          'mean_recall',\n",
    "                          'mean_f1',\n",
    "                          'mean_auc',\n",
    "                          'index'\n",
    "                         ]\n",
    "                 )\n",
    "    ).to_pickle(filename)"
   ]
  },
  {
   "cell_type": "code",
   "execution_count": 18,
   "id": "7968fa17-f087-48c8-8857-f7faf48b18aa",
   "metadata": {
    "tags": []
   },
   "outputs": [
    {
     "name": "stdout",
     "output_type": "stream",
     "text": [
      "\n",
      " **** random ****\n",
      "[0 1]\n",
      "Xtrain:  11195\n",
      "Xtrain shape:  (11195, 76)\n",
      "Xtest:  2799\n",
      "Ytrain:  11195\n",
      "Ytest:  2799\n",
      "Running Random Forest\n",
      "Cross validation: mean 0.89 f1 with a standard deviation of 0.11\n",
      "Cross validation: mean 0.92 precision with a standard deviation of 0.03\n",
      "Cross validation: mean 0.87 recall with a standard deviation of 0.16\n",
      "Cross validation: mean 0.97 auc with standard deviation of 0.03\n",
      "\n",
      " **** random ****\n",
      "[0 1]\n",
      "Xtrain:  11195\n",
      "Xtrain shape:  (11195, 76)\n",
      "Xtest:  2799\n",
      "Ytrain:  11195\n",
      "Ytest:  2799\n",
      "Running Random Forest\n",
      "Cross validation: mean 0.89 f1 with a standard deviation of 0.1\n",
      "Cross validation: mean 0.93 precision with a standard deviation of 0.02\n",
      "Cross validation: mean 0.88 recall with a standard deviation of 0.14\n",
      "Cross validation: mean 0.97 auc with standard deviation of 0.02\n",
      "\n",
      " **** random ****\n",
      "[0 1]\n",
      "Xtrain:  11195\n",
      "Xtrain shape:  (11195, 76)\n",
      "Xtest:  2799\n",
      "Ytrain:  11195\n",
      "Ytest:  2799\n",
      "Running Random Forest\n",
      "Cross validation: mean 0.89 f1 with a standard deviation of 0.11\n",
      "Cross validation: mean 0.92 precision with a standard deviation of 0.02\n",
      "Cross validation: mean 0.87 recall with a standard deviation of 0.16\n",
      "Cross validation: mean 0.97 auc with standard deviation of 0.03\n",
      "\n",
      " **** random ****\n",
      "[0 1]\n",
      "Xtrain:  11195\n",
      "Xtrain shape:  (11195, 76)\n",
      "Xtest:  2799\n",
      "Ytrain:  11195\n",
      "Ytest:  2799\n",
      "Running Random Forest\n",
      "Cross validation: mean 0.89 f1 with a standard deviation of 0.11\n",
      "Cross validation: mean 0.92 precision with a standard deviation of 0.02\n",
      "Cross validation: mean 0.87 recall with a standard deviation of 0.15\n",
      "Cross validation: mean 0.97 auc with standard deviation of 0.03\n",
      "\n",
      " **** random ****\n",
      "[0 1]\n",
      "Xtrain:  11195\n",
      "Xtrain shape:  (11195, 76)\n",
      "Xtest:  2799\n",
      "Ytrain:  11195\n",
      "Ytest:  2799\n",
      "Running Random Forest\n",
      "Cross validation: mean 0.89 f1 with a standard deviation of 0.1\n",
      "Cross validation: mean 0.92 precision with a standard deviation of 0.02\n",
      "Cross validation: mean 0.87 recall with a standard deviation of 0.15\n",
      "Cross validation: mean 0.97 auc with standard deviation of 0.02\n",
      "\n",
      " **** random ****\n",
      "[0 1]\n",
      "Xtrain:  11195\n",
      "Xtrain shape:  (11195, 76)\n",
      "Xtest:  2799\n",
      "Ytrain:  11195\n",
      "Ytest:  2799\n",
      "Running Random Forest\n",
      "Cross validation: mean 0.88 f1 with a standard deviation of 0.12\n",
      "Cross validation: mean 0.92 precision with a standard deviation of 0.03\n",
      "Cross validation: mean 0.86 recall with a standard deviation of 0.16\n",
      "Cross validation: mean 0.96 auc with standard deviation of 0.03\n",
      "\n",
      " **** random ****\n",
      "[0 1]\n",
      "Xtrain:  11195\n",
      "Xtrain shape:  (11195, 76)\n",
      "Xtest:  2799\n",
      "Ytrain:  11195\n",
      "Ytest:  2799\n",
      "Running Random Forest\n",
      "Cross validation: mean 0.89 f1 with a standard deviation of 0.1\n",
      "Cross validation: mean 0.92 precision with a standard deviation of 0.02\n",
      "Cross validation: mean 0.87 recall with a standard deviation of 0.14\n",
      "Cross validation: mean 0.97 auc with standard deviation of 0.02\n",
      "\n",
      " **** random ****\n",
      "[0 1]\n",
      "Xtrain:  11195\n",
      "Xtrain shape:  (11195, 76)\n",
      "Xtest:  2799\n",
      "Ytrain:  11195\n",
      "Ytest:  2799\n",
      "Running Random Forest\n",
      "Cross validation: mean 0.88 f1 with a standard deviation of 0.1\n",
      "Cross validation: mean 0.92 precision with a standard deviation of 0.01\n",
      "Cross validation: mean 0.86 recall with a standard deviation of 0.15\n",
      "Cross validation: mean 0.97 auc with standard deviation of 0.02\n",
      "\n",
      " **** random ****\n",
      "[0 1]\n",
      "Xtrain:  11195\n",
      "Xtrain shape:  (11195, 76)\n",
      "Xtest:  2799\n",
      "Ytrain:  11195\n",
      "Ytest:  2799\n",
      "Running Random Forest\n",
      "Cross validation: mean 0.89 f1 with a standard deviation of 0.09\n",
      "Cross validation: mean 0.92 precision with a standard deviation of 0.01\n",
      "Cross validation: mean 0.87 recall with a standard deviation of 0.13\n",
      "Cross validation: mean 0.96 auc with standard deviation of 0.02\n",
      "\n",
      " **** random ****\n",
      "[0 1]\n",
      "Xtrain:  11195\n",
      "Xtrain shape:  (11195, 76)\n",
      "Xtest:  2799\n",
      "Ytrain:  11195\n",
      "Ytest:  2799\n",
      "Running Random Forest\n",
      "Cross validation: mean 0.88 f1 with a standard deviation of 0.09\n",
      "Cross validation: mean 0.92 precision with a standard deviation of 0.02\n",
      "Cross validation: mean 0.86 recall with a standard deviation of 0.13\n",
      "Cross validation: mean 0.96 auc with standard deviation of 0.03\n"
     ]
    }
   ],
   "source": [
    "filename ='./../results/replier_model_different_datasize_1_50.pkl.gz'\n",
    "test_balanced(df_stat, filename=filename)"
   ]
  },
  {
   "cell_type": "markdown",
   "id": "bd13820f-255c-4ef1-bbac-11a284dc8528",
   "metadata": {
    "tags": []
   },
   "source": [
    "#### **List the result**"
   ]
  },
  {
   "cell_type": "code",
   "execution_count": 19,
   "id": "09376c77-c30b-49e0-9b93-e8ac3cd25f6a",
   "metadata": {
    "tags": []
   },
   "outputs": [
    {
     "data": {
      "text/html": [
       "<div>\n",
       "<style scoped>\n",
       "    .dataframe tbody tr th:only-of-type {\n",
       "        vertical-align: middle;\n",
       "    }\n",
       "\n",
       "    .dataframe tbody tr th {\n",
       "        vertical-align: top;\n",
       "    }\n",
       "\n",
       "    .dataframe thead th {\n",
       "        text-align: right;\n",
       "    }\n",
       "</style>\n",
       "<table border=\"1\" class=\"dataframe\">\n",
       "  <thead>\n",
       "    <tr style=\"text-align: right;\">\n",
       "      <th></th>\n",
       "      <th>mean_precision</th>\n",
       "      <th>mean_recall</th>\n",
       "      <th>mean_f1</th>\n",
       "      <th>mean_auc</th>\n",
       "      <th>index</th>\n",
       "    </tr>\n",
       "  </thead>\n",
       "  <tbody>\n",
       "    <tr>\n",
       "      <th>0</th>\n",
       "      <td>0.92</td>\n",
       "      <td>0.87</td>\n",
       "      <td>0.89</td>\n",
       "      <td>0.97</td>\n",
       "      <td>0</td>\n",
       "    </tr>\n",
       "    <tr>\n",
       "      <th>1</th>\n",
       "      <td>0.93</td>\n",
       "      <td>0.88</td>\n",
       "      <td>0.89</td>\n",
       "      <td>0.97</td>\n",
       "      <td>1</td>\n",
       "    </tr>\n",
       "    <tr>\n",
       "      <th>2</th>\n",
       "      <td>0.92</td>\n",
       "      <td>0.87</td>\n",
       "      <td>0.89</td>\n",
       "      <td>0.97</td>\n",
       "      <td>2</td>\n",
       "    </tr>\n",
       "    <tr>\n",
       "      <th>3</th>\n",
       "      <td>0.92</td>\n",
       "      <td>0.87</td>\n",
       "      <td>0.89</td>\n",
       "      <td>0.97</td>\n",
       "      <td>3</td>\n",
       "    </tr>\n",
       "    <tr>\n",
       "      <th>4</th>\n",
       "      <td>0.92</td>\n",
       "      <td>0.87</td>\n",
       "      <td>0.89</td>\n",
       "      <td>0.97</td>\n",
       "      <td>4</td>\n",
       "    </tr>\n",
       "    <tr>\n",
       "      <th>5</th>\n",
       "      <td>0.92</td>\n",
       "      <td>0.86</td>\n",
       "      <td>0.88</td>\n",
       "      <td>0.96</td>\n",
       "      <td>5</td>\n",
       "    </tr>\n",
       "    <tr>\n",
       "      <th>6</th>\n",
       "      <td>0.92</td>\n",
       "      <td>0.87</td>\n",
       "      <td>0.89</td>\n",
       "      <td>0.97</td>\n",
       "      <td>6</td>\n",
       "    </tr>\n",
       "    <tr>\n",
       "      <th>7</th>\n",
       "      <td>0.92</td>\n",
       "      <td>0.86</td>\n",
       "      <td>0.88</td>\n",
       "      <td>0.97</td>\n",
       "      <td>7</td>\n",
       "    </tr>\n",
       "    <tr>\n",
       "      <th>8</th>\n",
       "      <td>0.92</td>\n",
       "      <td>0.87</td>\n",
       "      <td>0.89</td>\n",
       "      <td>0.96</td>\n",
       "      <td>8</td>\n",
       "    </tr>\n",
       "    <tr>\n",
       "      <th>9</th>\n",
       "      <td>0.92</td>\n",
       "      <td>0.86</td>\n",
       "      <td>0.88</td>\n",
       "      <td>0.96</td>\n",
       "      <td>9</td>\n",
       "    </tr>\n",
       "  </tbody>\n",
       "</table>\n",
       "</div>"
      ],
      "text/plain": [
       "   mean_precision  mean_recall  mean_f1  mean_auc  index\n",
       "0            0.92         0.87     0.89      0.97      0\n",
       "1            0.93         0.88     0.89      0.97      1\n",
       "2            0.92         0.87     0.89      0.97      2\n",
       "3            0.92         0.87     0.89      0.97      3\n",
       "4            0.92         0.87     0.89      0.97      4\n",
       "5            0.92         0.86     0.88      0.96      5\n",
       "6            0.92         0.87     0.89      0.97      6\n",
       "7            0.92         0.86     0.88      0.97      7\n",
       "8            0.92         0.87     0.89      0.96      8\n",
       "9            0.92         0.86     0.88      0.96      9"
      ]
     },
     "execution_count": 19,
     "metadata": {},
     "output_type": "execute_result"
    }
   ],
   "source": [
    "filename ='./../results/replier_classifier_balanced_10_times.pkl.gz'\n",
    "\n",
    "df_result = pd.read_pickle(filename)\n",
    "\n",
    "df_result"
   ]
  },
  {
   "cell_type": "markdown",
   "id": "f367af6d-da00-451c-9542-6785236388a5",
   "metadata": {
    "tags": []
   },
   "source": [
    "#### **Test with different sample size**"
   ]
  },
  {
   "cell_type": "code",
   "execution_count": 5,
   "id": "3e5883fb-2241-4f90-a4c4-883c4e8593dd",
   "metadata": {
    "tags": []
   },
   "outputs": [],
   "source": [
    "def test_diff_size_ratio(df_stat, start=10, end=100, \n",
    "                         step=10, filename=None\n",
    "                        ):\n",
    "    import helper.stat_helper as stat_hp\n",
    "    importlib.reload(stat_hp)\n",
    "    \n",
    "    all_results = []\n",
    "\n",
    "    df_1 = df_stat.loc[df_stat['replier_label'] == 1]\n",
    "    df_0 = df_stat.loc[df_stat['replier_label'] == 0]\n",
    "\n",
    "    for i in range(start, end, step):\n",
    "        print('index :', i)\n",
    "        \n",
    "        df_row = df_0.sample(n=len(df_1)*i)\n",
    "        df_all = df_1.append(df_row)\n",
    "\n",
    "        df_result = \\\n",
    "    stat_hp.run_model_with_best_threshold(df_all,\n",
    "                      columns_not_include=[],\n",
    "                      model_type='random', \n",
    "                      y_column = 'replier_label',\n",
    "                      filename=None,\n",
    "                     )\n",
    "        \n",
    "        \n",
    "        df_result['index'] = i\n",
    "        \n",
    "        all_results.append(df_result)\n",
    "        \n",
    "    (pd.concat(\n",
    "        all_results, ignore_index=True\n",
    "    )).to_pickle(filename)"
   ]
  },
  {
   "cell_type": "code",
   "execution_count": 9,
   "id": "fb444433-6097-46fc-8e2c-21852fcf9159",
   "metadata": {
    "tags": []
   },
   "outputs": [
    {
     "name": "stdout",
     "output_type": "stream",
     "text": [
      "index : 1\n",
      "\n",
      " **** random ****\n",
      "Running Random Forest\n"
     ]
    },
    {
     "name": "stderr",
     "output_type": "stream",
     "text": [
      "/tmp/ipykernel_3171536/3736483974.py:16: FutureWarning: The frame.append method is deprecated and will be removed from pandas in a future version. Use pandas.concat instead.\n",
      "  df_all = df_1.append(df_row)\n",
      "/N/slate/potem/miniconda3/lib/python3.10/site-packages/sklearn/metrics/_scorer.py:610: FutureWarning: The `needs_threshold` and `needs_proba` parameter are deprecated in version 1.4 and will be removed in 1.6. You can either let `response_method` be `None` or set it to `predict` to preserve the same behaviour.\n",
      "  warnings.warn(\n"
     ]
    },
    {
     "name": "stdout",
     "output_type": "stream",
     "text": [
      "index : 5\n",
      "\n",
      " **** random ****\n",
      "Running Random Forest\n"
     ]
    },
    {
     "name": "stderr",
     "output_type": "stream",
     "text": [
      "/tmp/ipykernel_3171536/3736483974.py:16: FutureWarning: The frame.append method is deprecated and will be removed from pandas in a future version. Use pandas.concat instead.\n",
      "  df_all = df_1.append(df_row)\n",
      "/N/slate/potem/miniconda3/lib/python3.10/site-packages/sklearn/metrics/_scorer.py:610: FutureWarning: The `needs_threshold` and `needs_proba` parameter are deprecated in version 1.4 and will be removed in 1.6. You can either let `response_method` be `None` or set it to `predict` to preserve the same behaviour.\n",
      "  warnings.warn(\n"
     ]
    },
    {
     "name": "stdout",
     "output_type": "stream",
     "text": [
      "index : 9\n",
      "\n",
      " **** random ****\n",
      "Running Random Forest\n"
     ]
    },
    {
     "name": "stderr",
     "output_type": "stream",
     "text": [
      "/tmp/ipykernel_3171536/3736483974.py:16: FutureWarning: The frame.append method is deprecated and will be removed from pandas in a future version. Use pandas.concat instead.\n",
      "  df_all = df_1.append(df_row)\n",
      "/N/slate/potem/miniconda3/lib/python3.10/site-packages/sklearn/metrics/_scorer.py:610: FutureWarning: The `needs_threshold` and `needs_proba` parameter are deprecated in version 1.4 and will be removed in 1.6. You can either let `response_method` be `None` or set it to `predict` to preserve the same behaviour.\n",
      "  warnings.warn(\n"
     ]
    },
    {
     "name": "stdout",
     "output_type": "stream",
     "text": [
      "index : 13\n",
      "\n",
      " **** random ****\n",
      "Running Random Forest\n"
     ]
    },
    {
     "name": "stderr",
     "output_type": "stream",
     "text": [
      "/tmp/ipykernel_3171536/3736483974.py:16: FutureWarning: The frame.append method is deprecated and will be removed from pandas in a future version. Use pandas.concat instead.\n",
      "  df_all = df_1.append(df_row)\n",
      "/N/slate/potem/miniconda3/lib/python3.10/site-packages/sklearn/metrics/_scorer.py:610: FutureWarning: The `needs_threshold` and `needs_proba` parameter are deprecated in version 1.4 and will be removed in 1.6. You can either let `response_method` be `None` or set it to `predict` to preserve the same behaviour.\n",
      "  warnings.warn(\n"
     ]
    },
    {
     "name": "stdout",
     "output_type": "stream",
     "text": [
      "index : 17\n",
      "\n",
      " **** random ****\n",
      "Running Random Forest\n"
     ]
    },
    {
     "name": "stderr",
     "output_type": "stream",
     "text": [
      "/tmp/ipykernel_3171536/3736483974.py:16: FutureWarning: The frame.append method is deprecated and will be removed from pandas in a future version. Use pandas.concat instead.\n",
      "  df_all = df_1.append(df_row)\n",
      "/N/slate/potem/miniconda3/lib/python3.10/site-packages/sklearn/metrics/_scorer.py:610: FutureWarning: The `needs_threshold` and `needs_proba` parameter are deprecated in version 1.4 and will be removed in 1.6. You can either let `response_method` be `None` or set it to `predict` to preserve the same behaviour.\n",
      "  warnings.warn(\n"
     ]
    },
    {
     "name": "stdout",
     "output_type": "stream",
     "text": [
      "index : 21\n",
      "\n",
      " **** random ****\n"
     ]
    },
    {
     "name": "stderr",
     "output_type": "stream",
     "text": [
      "/tmp/ipykernel_3171536/3736483974.py:16: FutureWarning: The frame.append method is deprecated and will be removed from pandas in a future version. Use pandas.concat instead.\n",
      "  df_all = df_1.append(df_row)\n",
      "/N/slate/potem/miniconda3/lib/python3.10/site-packages/sklearn/metrics/_scorer.py:610: FutureWarning: The `needs_threshold` and `needs_proba` parameter are deprecated in version 1.4 and will be removed in 1.6. You can either let `response_method` be `None` or set it to `predict` to preserve the same behaviour.\n",
      "  warnings.warn(\n"
     ]
    },
    {
     "name": "stdout",
     "output_type": "stream",
     "text": [
      "Running Random Forest\n",
      "index : 25\n"
     ]
    },
    {
     "name": "stderr",
     "output_type": "stream",
     "text": [
      "/tmp/ipykernel_3171536/3736483974.py:16: FutureWarning: The frame.append method is deprecated and will be removed from pandas in a future version. Use pandas.concat instead.\n",
      "  df_all = df_1.append(df_row)\n",
      "/N/slate/potem/miniconda3/lib/python3.10/site-packages/sklearn/metrics/_scorer.py:610: FutureWarning: The `needs_threshold` and `needs_proba` parameter are deprecated in version 1.4 and will be removed in 1.6. You can either let `response_method` be `None` or set it to `predict` to preserve the same behaviour.\n",
      "  warnings.warn(\n"
     ]
    },
    {
     "name": "stdout",
     "output_type": "stream",
     "text": [
      "\n",
      " **** random ****\n",
      "Running Random Forest\n",
      "index : 29\n"
     ]
    },
    {
     "name": "stderr",
     "output_type": "stream",
     "text": [
      "/tmp/ipykernel_3171536/3736483974.py:16: FutureWarning: The frame.append method is deprecated and will be removed from pandas in a future version. Use pandas.concat instead.\n",
      "  df_all = df_1.append(df_row)\n",
      "/N/slate/potem/miniconda3/lib/python3.10/site-packages/sklearn/metrics/_scorer.py:610: FutureWarning: The `needs_threshold` and `needs_proba` parameter are deprecated in version 1.4 and will be removed in 1.6. You can either let `response_method` be `None` or set it to `predict` to preserve the same behaviour.\n",
      "  warnings.warn(\n"
     ]
    },
    {
     "name": "stdout",
     "output_type": "stream",
     "text": [
      "\n",
      " **** random ****\n",
      "Running Random Forest\n",
      "index : 33\n"
     ]
    },
    {
     "name": "stderr",
     "output_type": "stream",
     "text": [
      "/tmp/ipykernel_3171536/3736483974.py:16: FutureWarning: The frame.append method is deprecated and will be removed from pandas in a future version. Use pandas.concat instead.\n",
      "  df_all = df_1.append(df_row)\n",
      "/N/slate/potem/miniconda3/lib/python3.10/site-packages/sklearn/metrics/_scorer.py:610: FutureWarning: The `needs_threshold` and `needs_proba` parameter are deprecated in version 1.4 and will be removed in 1.6. You can either let `response_method` be `None` or set it to `predict` to preserve the same behaviour.\n",
      "  warnings.warn(\n"
     ]
    },
    {
     "name": "stdout",
     "output_type": "stream",
     "text": [
      "\n",
      " **** random ****\n",
      "Running Random Forest\n",
      "index : 37\n"
     ]
    },
    {
     "name": "stderr",
     "output_type": "stream",
     "text": [
      "/tmp/ipykernel_3171536/3736483974.py:16: FutureWarning: The frame.append method is deprecated and will be removed from pandas in a future version. Use pandas.concat instead.\n",
      "  df_all = df_1.append(df_row)\n",
      "/N/slate/potem/miniconda3/lib/python3.10/site-packages/sklearn/metrics/_scorer.py:610: FutureWarning: The `needs_threshold` and `needs_proba` parameter are deprecated in version 1.4 and will be removed in 1.6. You can either let `response_method` be `None` or set it to `predict` to preserve the same behaviour.\n",
      "  warnings.warn(\n"
     ]
    },
    {
     "name": "stdout",
     "output_type": "stream",
     "text": [
      "\n",
      " **** random ****\n",
      "Running Random Forest\n",
      "index : 41\n"
     ]
    },
    {
     "name": "stderr",
     "output_type": "stream",
     "text": [
      "/tmp/ipykernel_3171536/3736483974.py:16: FutureWarning: The frame.append method is deprecated and will be removed from pandas in a future version. Use pandas.concat instead.\n",
      "  df_all = df_1.append(df_row)\n",
      "/N/slate/potem/miniconda3/lib/python3.10/site-packages/sklearn/metrics/_scorer.py:610: FutureWarning: The `needs_threshold` and `needs_proba` parameter are deprecated in version 1.4 and will be removed in 1.6. You can either let `response_method` be `None` or set it to `predict` to preserve the same behaviour.\n",
      "  warnings.warn(\n"
     ]
    },
    {
     "name": "stdout",
     "output_type": "stream",
     "text": [
      "\n",
      " **** random ****\n",
      "Running Random Forest\n",
      "index : 45\n"
     ]
    },
    {
     "name": "stderr",
     "output_type": "stream",
     "text": [
      "/tmp/ipykernel_3171536/3736483974.py:16: FutureWarning: The frame.append method is deprecated and will be removed from pandas in a future version. Use pandas.concat instead.\n",
      "  df_all = df_1.append(df_row)\n"
     ]
    },
    {
     "name": "stdout",
     "output_type": "stream",
     "text": [
      "\n",
      " **** random ****\n",
      "Running Random Forest\n"
     ]
    },
    {
     "name": "stderr",
     "output_type": "stream",
     "text": [
      "/N/slate/potem/miniconda3/lib/python3.10/site-packages/sklearn/metrics/_scorer.py:610: FutureWarning: The `needs_threshold` and `needs_proba` parameter are deprecated in version 1.4 and will be removed in 1.6. You can either let `response_method` be `None` or set it to `predict` to preserve the same behaviour.\n",
      "  warnings.warn(\n",
      "/N/slate/potem/miniconda3/lib/python3.10/site-packages/joblib/externals/loky/process_executor.py:752: UserWarning: A worker stopped while some jobs were given to the executor. This can be caused by a too short worker timeout or by a memory leak.\n",
      "  warnings.warn(\n"
     ]
    },
    {
     "name": "stdout",
     "output_type": "stream",
     "text": [
      "index : 49\n"
     ]
    },
    {
     "name": "stderr",
     "output_type": "stream",
     "text": [
      "/tmp/ipykernel_3171536/3736483974.py:16: FutureWarning: The frame.append method is deprecated and will be removed from pandas in a future version. Use pandas.concat instead.\n",
      "  df_all = df_1.append(df_row)\n"
     ]
    },
    {
     "name": "stdout",
     "output_type": "stream",
     "text": [
      "\n",
      " **** random ****\n",
      "Running Random Forest\n"
     ]
    },
    {
     "name": "stderr",
     "output_type": "stream",
     "text": [
      "/N/slate/potem/miniconda3/lib/python3.10/site-packages/sklearn/metrics/_scorer.py:610: FutureWarning: The `needs_threshold` and `needs_proba` parameter are deprecated in version 1.4 and will be removed in 1.6. You can either let `response_method` be `None` or set it to `predict` to preserve the same behaviour.\n",
      "  warnings.warn(\n",
      "/N/slate/potem/miniconda3/lib/python3.10/site-packages/joblib/externals/loky/process_executor.py:752: UserWarning: A worker stopped while some jobs were given to the executor. This can be caused by a too short worker timeout or by a memory leak.\n",
      "  warnings.warn(\n"
     ]
    }
   ],
   "source": [
    "filename ='./../results/replier_model_different_datasize_1_50.pkl.gz'\n",
    "\n",
    "test_diff_size_ratio(df_stat, start=1,\n",
    "                     end=51, step=4,\n",
    "                     filename=filename\n",
    "                    )"
   ]
  },
  {
   "cell_type": "markdown",
   "id": "4599dd47-2863-4aaf-90db-906fbe1e2ba8",
   "metadata": {
    "tags": []
   },
   "source": [
    "#### **Visualize**"
   ]
  },
  {
   "cell_type": "code",
   "execution_count": 2,
   "id": "b1c80317-118c-4fcf-8c85-f673070078e1",
   "metadata": {
    "tags": []
   },
   "outputs": [],
   "source": [
    "import pandas as pd\n",
    "\n",
    "filename ='./../results/diff_data_size_1_50.pkl.gz'\n",
    "\n",
    "df_results = pd.read_pickle(filename)"
   ]
  },
  {
   "cell_type": "code",
   "execution_count": 3,
   "id": "262ecfdb-8832-4c0e-9337-f99549aa4795",
   "metadata": {
    "tags": []
   },
   "outputs": [],
   "source": [
    "def line_plot(parameters):\n",
    "    '''\n",
    "    Plots ccdf for data\n",
    "    \n",
    "    :param parameters: parameters to set for the plot\n",
    "    '''\n",
    "    import os\n",
    "\n",
    "    # {\n",
    "    #     'data': df,\n",
    "    #     'fontsize': 14,\n",
    "    #     'complementary': True,\n",
    "    #     'columns': [\n",
    "    #         {'column': ''\n",
    "    #          'label': '',\n",
    "    #         },{\n",
    "    #         'column': '',\n",
    "    #          'label': ''\n",
    "    #         }\n",
    "    #     ],\n",
    "        # 'x': '',\n",
    "    #     'xlabel': '',\n",
    "    #     'ylabel': '',\n",
    "    #     'legend_location': '',\n",
    "    #     'log_yscale': True,\n",
    "    #     'log_xscale': True,\n",
    "    #     'save': {\n",
    "    #         'path': '',\n",
    "    #         'filename': ''\n",
    "    #     },\n",
    "        # 'random_color': False\n",
    "    # }\n",
    "    import matplotlib.pyplot as plt\n",
    "    \n",
    "    keys = parameters.keys()\n",
    "    \n",
    "    if 'figsize' in keys:\n",
    "        size = parameters['figsize']\n",
    "    else:\n",
    "        size = (8,8)\n",
    "        \n",
    "    fig, ax = plt.subplots(figsize=size)\n",
    "    fontsize = parameters['fontsize']\n",
    "    colors = ['red', 'blue', 'black', 'orange', 'olive', 'pink', 'lime', 'maroon']\n",
    "    total_columns = len(parameters['columns'])\n",
    "    \n",
    "    if parameters['random_color'] == True:\n",
    "        all_colors =  [k for k,v in pltc.cnames.items()]\n",
    "        colors = sample(all_colors, total_columns)\n",
    "    \n",
    "    symbols = ['.', 'o', '+', 'x', '*', 'v', '^', '>']\n",
    "    \n",
    "    i = 0\n",
    "    cmap = plt.cm.get_cmap('hsv', total_columns)\n",
    "    x = parameters['data'][parameters['x']]\n",
    "    for i, column in enumerate(parameters['columns']):\n",
    "        print(column)\n",
    "        data = parameters['data'][column['column']]\n",
    "        label = column['label']\n",
    "            \n",
    "        ax.plot(x,\n",
    "                data, \n",
    "                     # complementary=parameters['complementary'],\n",
    "                 label=label,\n",
    "                 marker=symbols[i],\n",
    "                 color=colors[i],\n",
    "                 # ax=ax,\n",
    "                 linewidth=3,\n",
    "                markersize=16\n",
    "               )\n",
    "\n",
    "    if 'x_ticks' in keys:\n",
    "        labels = parameters['data'][parameters['x_ticks']].tolist()\n",
    "        print(labels)\n",
    "        plt.xticks(x)\n",
    "        \n",
    "        ax.set_xticklabels(labels, fontsize=fontsize + 2)\n",
    "    \n",
    "    ax.set_xlabel(parameters['xlabel'], \n",
    "                  fontsize=fontsize + 2)\n",
    "    ax.set_ylabel(parameters['ylabel'], \n",
    "                  fontsize=fontsize + 2)\n",
    "\n",
    "    if 'tick_size' in keys:\n",
    "        tick_size = parameters['tick_size']\n",
    "    else:\n",
    "        tick_size = fontsize\n",
    "        \n",
    "        \n",
    "    ax.tick_params(axis='both', \n",
    "                   which='both', \n",
    "                   labelsize=tick_size,\n",
    "                   labelbottom=True\n",
    "                  )\n",
    "    \n",
    "    if 'legend_location' in keys:\n",
    "        ax.legend(loc=parameters['legend_location'], \n",
    "                  frameon=True, fontsize=fontsize)\n",
    "        \n",
    "    if 'legend_lower' in keys:\n",
    "        box = ax.get_position()\n",
    "        ax.set_position([box.x0, box.y0 + box.height * 0.1,\n",
    "                         box.width, box.height * 0.9])\n",
    "\n",
    "        # Put a legend below current axis\n",
    "        ax.legend(loc='upper center', \n",
    "                  bbox_to_anchor=(1, -0.06),\n",
    "                  fancybox=True, \n",
    "                  shadow=True, ncol=3)\n",
    "        \n",
    "    if 'legend_location' in keys:\n",
    "        if 'legend_font' in keys:\n",
    "            legend_font = parameters['legend_font']\n",
    "        else:\n",
    "            legend_font = fontsize\n",
    "            \n",
    "        ax.legend(loc=parameters['legend_location'], \n",
    "                  frameon=True, \n",
    "                  fontsize=legend_font\n",
    "                 )\n",
    "    # plt.ylim([0.5, 1])\n",
    "    if 'log_yscale' in keys and parameters['log_yscale'] == True:\n",
    "        ax.set_yscale('log')\n",
    "    if 'log_xscale' in keys and parameters['log_xscale'] == True:\n",
    "        ax.set_xscale('log')\n",
    "        \n",
    "    if 'title' in keys:\n",
    "        plt.title(parameters['title'])\n",
    "    fig.tight_layout()\n",
    "    if 'save' in keys:\n",
    "        path = parameters['save']['path']\n",
    "        filename = parameters['save']['filename']\n",
    "        print(f'{path}/{filename}')\n",
    "        fig_path = os.path.join(path, filename)\n",
    "        print(fig_path)\n",
    "        fig.savefig(fig_path, \n",
    "              facecolor='white', \n",
    "              transparent=False)\n",
    "        \n",
    "    plt.show()"
   ]
  },
  {
   "cell_type": "code",
   "execution_count": 4,
   "id": "a3054634-96e8-4f8a-bef2-c592641894ba",
   "metadata": {
    "scrolled": true,
    "tags": []
   },
   "outputs": [
    {
     "data": {
      "text/plain": [
       "Index(['mean_precision', 'mean_recall', 'mean_f1', 'mean_auc', 'index',\n",
       "       'auc_pr'],\n",
       "      dtype='object')"
      ]
     },
     "execution_count": 4,
     "metadata": {},
     "output_type": "execute_result"
    }
   ],
   "source": [
    "df_results.columns"
   ]
  },
  {
   "cell_type": "code",
   "execution_count": 5,
   "id": "f21e791e-9464-4b17-8ef5-919c9853199f",
   "metadata": {
    "tags": []
   },
   "outputs": [
    {
     "name": "stderr",
     "output_type": "stream",
     "text": [
      "/tmp/ipykernel_3825525/871708615.py:10: SettingWithCopyWarning: \n",
      "A value is trying to be set on a copy of a slice from a DataFrame.\n",
      "Try using .loc[row_indexer,col_indexer] = value instead\n",
      "\n",
      "See the caveats in the documentation: https://pandas.pydata.org/pandas-docs/stable/user_guide/indexing.html#returning-a-view-versus-a-copy\n",
      "  df_count['label'] = df_count['index'].apply(lambda x: '1:'+ str(x))\n",
      "/tmp/ipykernel_3825525/3937900304.py:54: MatplotlibDeprecationWarning: The get_cmap function was deprecated in Matplotlib 3.7 and will be removed two minor releases later. Use ``matplotlib.colormaps[name]`` or ``matplotlib.colormaps.get_cmap(obj)`` instead.\n",
      "  cmap = plt.cm.get_cmap('hsv', total_columns)\n"
     ]
    },
    {
     "name": "stdout",
     "output_type": "stream",
     "text": [
      "{'column': 'mean_auc', 'label': 'AUC'}\n",
      "{'column': 'mean_precision', 'label': 'Precision'}\n",
      "{'column': 'mean_recall', 'label': 'Recall'}\n",
      "{'column': 'mean_f1', 'label': 'F1'}\n",
      "['1:5', '1:10', '1:15', '1:20', '1:25', '1:30', '1:35', '1:40', '1:45']\n",
      "./plots/replier_model_diff_data_size.png\n",
      "./plots/replier_model_diff_data_size.png\n"
     ]
    },
    {
     "data": {
      "image/png": "[encoded data removed]",
      "text/plain": [
       "<Figure size 1000x1000 with 1 Axes>"
      ]
     },
     "metadata": {},
     "output_type": "display_data"
    }
   ],
   "source": [
    "divisor = 5\n",
    "df_count = df_results.loc[df_results['index']%divisor == 0]\n",
    "df_count['label'] = df_count['index'].apply(lambda x: '1:'+ str(x))\n",
    "\n",
    "parameters = {\n",
    "        'data': df_count,\n",
    "        'figsize': (10, 10),\n",
    "        'fontsize': 36,\n",
    "        'tick_size': 24,\n",
    "        'complementary': True,\n",
    "        'legend_font': 24,\n",
    "        'columns': [\n",
    "            {'column': 'mean_auc',\n",
    "             'label': 'AUC',\n",
    "            },{\n",
    "            'column': 'mean_precision',\n",
    "             'label': 'Precision'\n",
    "            },\n",
    "            {\n",
    "                'column': 'mean_recall',\n",
    "                'label': 'Recall',\n",
    "            },\n",
    "            {\n",
    "                'column': 'mean_f1',\n",
    "                'label': 'F1',\n",
    "            },\n",
    "            # {\n",
    "            #     'column': 'auc_pr',\n",
    "            #     'label': 'AUC-PR'\n",
    "            # }\n",
    "            \n",
    "        ],\n",
    "        'x': 'index',\n",
    "        'x_ticks': 'label',\n",
    "        'xlabel': 'IO to normal data ratio',\n",
    "        'ylabel': 'Performance Scores',\n",
    "        'legend_location': 'center right',\n",
    "        'log_yscale': False,\n",
    "        'log_xscale': False,\n",
    "        'save': {\n",
    "            'path': './../plots',\n",
    "            'filename': 'replier_model_diff_data_size.png'\n",
    "        },\n",
    "        'random_color': False\n",
    "    }\n",
    "    \n",
    "\n",
    "line_plot(parameters)"
   ]
  },
  {
   "cell_type": "code",
   "execution_count": null,
   "id": "50573acd-5bb0-426e-b7dd-05364dc4efe4",
   "metadata": {},
   "outputs": [],
   "source": [
    "7"
   ]
  }
 ],
 "metadata": {
  "kernelspec": {
   "display_name": "Python 3 (ipykernel)",
   "language": "python",
   "name": "python3"
  },
  "language_info": {
   "codemirror_mode": {
    "name": "ipython",
    "version": 3
   },
   "file_extension": ".py",
   "mimetype": "text/x-python",
   "name": "python",
   "nbconvert_exporter": "python",
   "pygments_lexer": "ipython3",
   "version": "3.12.2"
  }
 },
 "nbformat": 4,
 "nbformat_minor": 5
}
