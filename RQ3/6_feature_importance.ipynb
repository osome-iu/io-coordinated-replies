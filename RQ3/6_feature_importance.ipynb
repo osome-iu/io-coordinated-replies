{
 "cells": [
  {
   "cell_type": "markdown",
   "id": "229d76a1-a8ee-478f-811b-a4f967f241f5",
   "metadata": {},
   "source": [
    "#### **This test for feature importance**"
   ]
  },
  {
   "cell_type": "code",
   "execution_count": 1,
   "id": "7e4ced34-8d81-4bfc-980a-27b853d0112b",
   "metadata": {
    "tags": []
   },
   "outputs": [],
   "source": [
    "import pandas as pd\n",
    "# import numpy as np\n",
    "import warnings\n",
    "import seaborn as sns\n",
    "import matplotlib.pyplot as plt\n",
    "import matplotlib.colors as pltc\n",
    "\n",
    "import importlib\n",
    "\n",
    "#### packages\n",
    "import helper.visualization as viz_hp\n",
    "import config.config as config_hp\n",
    "\n",
    "import copy\n",
    "# import helper.stat_helper as stat_hp"
   ]
  },
  {
   "cell_type": "markdown",
   "id": "c3cee723-2586-4829-a887-8b7f5eda76b6",
   "metadata": {},
   "source": [
    "Source: https://towardsdatascience.com/best-practice-to-calculate-and-interpret-model-feature-importance-14f0e11ee660\n",
    "\n",
    "Default impurity based feature importance based on mean decrease in impurity (Gini importance), which measures how effective each feature is at reducing uncertainty.\n",
    "Overfit model gives wrong interpretation for feature importance.\n",
    "\n",
    "Ways to reduce overfitting:\n",
    "- Regularization (min_samples_leaf)\n",
    "\n",
    "Ways to get feature importance:\n",
    "- **Permutation importance** (Train the baseline model and record the score (accuracy) on the validation set. Re-shuffle the values for one features, use the model to predict again, and calculate scores on the validation set. The feature importance for the feature is the difference between the baseline and permutation score, repeating the process for all features)\n",
    "that permutation importances computed on a random forest model spread importance across collinear variables. The amount of sharing appears to be a function of how much noise there is between the two.\n",
    "- **Drop column importance**  (calculate the model performance with all perdictors and drop a single predictor and see the reduction in the performane, the more important the feature is, the larger the decrease we see in the model performances)\n",
    "\n",
    "Challenges of feature importance: correlation"
   ]
  },
  {
   "cell_type": "markdown",
   "id": "d41a381c-6eea-44ac-b762-1337da20d09d",
   "metadata": {
    "tags": []
   },
   "source": [
    "#### **Run the model**"
   ]
  },
  {
   "cell_type": "code",
   "execution_count": 2,
   "id": "9da37999-3c81-40d0-ba94-a1df10b36b32",
   "metadata": {
    "tags": []
   },
   "outputs": [],
   "source": [
    "from sklearn.model_selection import train_test_split\n",
    "from sklearn.preprocessing import StandardScaler\n",
    "from sklearn.ensemble import RandomForestClassifier\n",
    "from sklearn.model_selection import cross_validate"
   ]
  },
  {
   "cell_type": "code",
   "execution_count": 3,
   "id": "57a91d28-2392-440a-8d9b-f9e12d9f5c73",
   "metadata": {
    "tags": []
   },
   "outputs": [],
   "source": [
    "def tuned_model(X,y):\n",
    "    '''\n",
    "    Trains the model and run cross validation\n",
    "    :param X: features\n",
    "    :param y: target\n",
    "    \n",
    "    '''\n",
    "    from sklearn.metrics import make_scorer, precision_score, recall_score, f1_score, roc_auc_score\n",
    "\n",
    "    # Creating a dictionary of scorers\n",
    "    scoring = {\n",
    "        'precision': make_scorer(precision_score, average='binary'),\n",
    "        'recall': make_scorer(recall_score, average='binary'),\n",
    "        'f1': make_scorer(f1_score, average='binary'),\n",
    "        'roc_auc': make_scorer(roc_auc_score, needs_proba=True)\n",
    "    }\n",
    "\n",
    "    cv_scores = [\n",
    "        \"train_precision\",\n",
    "        \"test_precision\",\n",
    "        \"train_recall\",\n",
    "        \"test_recall\",\n",
    "        \"train_f1\",\n",
    "        \"test_f1\",\n",
    "        \"train_roc_auc\",\n",
    "        \"test_roc_auc\",\n",
    "    ]\n",
    "\n",
    "    from sklearn.model_selection import TunedThresholdClassifierCV\n",
    "    from sklearn.pipeline import make_pipeline\n",
    "    from sklearn.model_selection import RepeatedStratifiedKFold\n",
    "    from sklearn.metrics import f1_score\n",
    "\n",
    "    model = RandomForestClassifier(n_estimators=100, \n",
    "                                   random_state=42\n",
    "                                  )\n",
    "    \n",
    "    model = make_pipeline(StandardScaler(), model)\n",
    "    cv = RepeatedStratifiedKFold(n_splits=10, n_repeats=1, random_state=42)\n",
    "    tuned_model = TunedThresholdClassifierCV(estimator=model,\n",
    "                                             scoring='f1',\n",
    "                                             store_cv_results = True,\n",
    "                                             n_jobs=-1\n",
    "                                            )\n",
    "\n",
    "    cv_results_tuned_model = pd.DataFrame(\n",
    "        cross_validate(\n",
    "            tuned_model,\n",
    "            X,\n",
    "            y,\n",
    "            scoring=scoring,\n",
    "            cv=cv,\n",
    "            return_train_score=True,\n",
    "            return_estimator=True,\n",
    "        )\n",
    "    )\n",
    "   \n",
    "    from sklearn.metrics import f1_score\n",
    "\n",
    "    decision_threshold = pd.Series(\n",
    "        [est.best_threshold_ for est in cv_results_tuned_model[\"estimator\"]],\n",
    "    )\n",
    "    cv_results_tuned_model['threshold'] = decision_threshold\n",
    "    \n",
    "    cv_results_tuned_model['algorithm'] = 'random_forest'\n",
    "    \n",
    "    return cv_results_tuned_model[['test_f1']].mean()"
   ]
  },
  {
   "cell_type": "code",
   "execution_count": 4,
   "id": "1b049f4a-cfa8-46bb-84f4-eb4fdc20793c",
   "metadata": {
    "tags": []
   },
   "outputs": [],
   "source": [
    "def run_model(df, \n",
    "              columns_not_include,\n",
    "              y_column = 'replier_label'\n",
    "             ):\n",
    "    \n",
    "    columns_not_include.extend(\n",
    "        ['poster_tweetid',\n",
    "         'tweet_label',\n",
    "         'replier_userid',\n",
    "         'replier_label']\n",
    "    )\n",
    "    \n",
    "    columns_to_keep = list(set(df.columns) - set(columns_not_include))\n",
    "    \n",
    "    df_1 = df.loc[df['replier_label'] == 1]\n",
    "    df_0 = df.loc[df['replier_label'] == 0]\n",
    "\n",
    "    df_row = df_0.sample(n=len(df_1))\n",
    "    df_all = df_1.append(df_row)\n",
    "    \n",
    "    X = df_all[columns_to_keep]\n",
    "    y = df_all[y_column]\n",
    "    \n",
    "    return tuned_model(X,y), columns_to_keep\n",
    "    "
   ]
  },
  {
   "cell_type": "code",
   "execution_count": 5,
   "id": "ed2f5ff7-9e73-45d0-8ce6-f2fe63a07d93",
   "metadata": {},
   "outputs": [],
   "source": [
    "all_feature = './../data/RQ3_replier_classifier_features.csv'\n",
    "\n",
    "df_stat = pd.read_csv(all_feature)"
   ]
  },
  {
   "cell_type": "markdown",
   "id": "7702cf8c-4a3b-4f8f-bb46-182e97560ac3",
   "metadata": {
    "tags": []
   },
   "source": [
    "#### **Train**"
   ]
  },
  {
   "cell_type": "code",
   "execution_count": 6,
   "id": "92cc3aa6-bd29-449c-a80a-503f92d63666",
   "metadata": {
    "tags": []
   },
   "outputs": [
    {
     "name": "stderr",
     "output_type": "stream",
     "text": [
      "/tmp/ipykernel_1784042/2179666833.py:19: FutureWarning: The frame.append method is deprecated and will be removed from pandas in a future version. Use pandas.concat instead.\n",
      "  df_all = df_1.append(df_row)\n",
      "/N/slate/potem/miniconda3/lib/python3.10/site-packages/sklearn/metrics/_scorer.py:610: FutureWarning: The `needs_threshold` and `needs_proba` parameter are deprecated in version 1.4 and will be removed in 1.6. You can either let `response_method` be `None` or set it to `predict` to preserve the same behaviour.\n",
      "  warnings.warn(\n"
     ]
    }
   ],
   "source": [
    "best_score, columns_to_keep = run_model(df_stat, \n",
    "                           columns_not_include=[]\n",
    "                          )"
   ]
  },
  {
   "cell_type": "code",
   "execution_count": 7,
   "id": "89e5eeb1-a26f-4091-80be-f6f762333197",
   "metadata": {
    "tags": []
   },
   "outputs": [
    {
     "data": {
      "text/plain": [
       "test_f1    0.905554\n",
       "dtype: float64"
      ]
     },
     "execution_count": 7,
     "metadata": {},
     "output_type": "execute_result"
    }
   ],
   "source": [
    "best_score"
   ]
  },
  {
   "cell_type": "markdown",
   "id": "f0b3fe36-b21a-4c6b-b12f-2cbd252fcc0d",
   "metadata": {},
   "source": [
    "#### **Run Feature Importance**"
   ]
  },
  {
   "cell_type": "code",
   "execution_count": 8,
   "id": "bca7f01a-cc2f-4542-99fb-b82bd1f20ba2",
   "metadata": {
    "tags": []
   },
   "outputs": [
    {
     "name": "stdout",
     "output_type": "stream",
     "text": [
      "Running the model\n",
      "Removing the feature Delay\n",
      "Removing the feature Reply_level_like\n",
      "Removing the feature Reply_level_retweet\n",
      "Removing the feature Reply_level_reply\n",
      "Removing the feature Similarity\n",
      "Removing the feature Entites_mention\n",
      "Removing the feature Entites_hashtags\n",
      "Removing the feature Entites_url\n",
      "Removing the feature Followers rate\n",
      "Removing the feature Following rate\n",
      "Removing the feature Activity rate\n",
      "Removing the feature Age\n"
     ]
    }
   ],
   "source": [
    "columns_to_keep = list(df_stat.columns)\n",
    "\n",
    "diff_features = {'Delay': 'diff_min',\n",
    "                 \n",
    "                 'Reply_level_like': 'like_count',\n",
    "                 'Reply_level_retweet':'retweet_count',\n",
    "                 'Reply_level_reply':'reply_count',\n",
    "                 \n",
    "                 'Similarity': 'cosine',\n",
    "                 \n",
    "                 'Entites_mention': 'mention',\n",
    "                 'Entites_hashtags': 'hashtags',\n",
    "                 'Entites_url': 'url',\n",
    "                 \n",
    "                 'Followers rate': 'followers_ratio',\n",
    "                 'Following rate': 'following_ratio',\n",
    "                 'Activity rate': 'activity_rate',\n",
    "                 'Age': 'age'\n",
    "                }\n",
    "\n",
    "print('Running the model')\n",
    "\n",
    "import copy\n",
    "\n",
    "grp_feat = {}\n",
    "for feature in diff_features:\n",
    "    print(f'Removing the feature {feature}')\n",
    "    \n",
    "    feat = diff_features[feature]\n",
    "    matching_test = [col for col in columns_to_keep if feat in col]\n",
    "    grp_feat[feature] = matching_test"
   ]
  },
  {
   "cell_type": "code",
   "execution_count": 9,
   "id": "bf62ccff-4187-4102-9a4d-939015bb7a03",
   "metadata": {
    "tags": []
   },
   "outputs": [],
   "source": [
    "from sklearn.inspection import permutation_importance\n",
    "from sklearn.metrics import f1_score\n",
    "from sklearn.model_selection import cross_validate\n",
    "\n",
    "def permutation_importance_group(base_best_score,\n",
    "                                 X, y, \n",
    "                                 feature_groups, \n",
    "                                 scoring=f1_score\n",
    "                                ):\n",
    "    \n",
    "    mean_1 = base_best_score\n",
    "    importances = {}\n",
    "    \n",
    "    for group_name, group_features in feature_groups.items():\n",
    "        print(f'****Starting for {group_name} ****') \n",
    "        \n",
    "        each_score = []\n",
    "        for i in range(0,10):\n",
    "            all_score = []\n",
    "            X_valid_shuffled = X.copy()\n",
    "            for feature in group_features:\n",
    "                X_valid_shuffled[feature] = np.random.permutation(\n",
    "                    X_valid_shuffled[feature]\n",
    "                )\n",
    "\n",
    "            feat_score = tuned_model(X_valid_shuffled, y)\n",
    "            \n",
    "            all_score.extend(feat_score)\n",
    "            \n",
    "            decrease = mean_1 - np.mean(np.array(all_score))\n",
    "            \n",
    "            each_score.append(decrease)\n",
    "                \n",
    "        importances[group_name] = each_score\n",
    "    \n",
    "    return importances"
   ]
  },
  {
   "cell_type": "code",
   "execution_count": 10,
   "id": "fb68672e-643b-4fa6-b689-9a007432893a",
   "metadata": {
    "tags": []
   },
   "outputs": [],
   "source": [
    "def plot_permutation_importance(base_best_score,\n",
    "                                X, \n",
    "                                y, \n",
    "                                feature_groups=grp_feat,\n",
    "                               ):\n",
    "    results = permutation_importance_group(base_best_score,\n",
    "                                           X, y, \n",
    "                                           feature_groups, \n",
    "                                           scoring=f1_score\n",
    "                                          )\n",
    "    print(results)\n",
    "    \n",
    "    return results"
   ]
  },
  {
   "cell_type": "code",
   "execution_count": 11,
   "id": "3f2c028e-8d0a-444d-83d3-f810dfbb1721",
   "metadata": {
    "tags": []
   },
   "outputs": [
    {
     "name": "stderr",
     "output_type": "stream",
     "text": [
      "/tmp/ipykernel_1784042/2031931954.py:10: FutureWarning: The frame.append method is deprecated and will be removed from pandas in a future version. Use pandas.concat instead.\n",
      "  df_all = df_1.append(df_row)\n",
      "/N/slate/potem/miniconda3/lib/python3.10/site-packages/sklearn/metrics/_scorer.py:610: FutureWarning: The `needs_threshold` and `needs_proba` parameter are deprecated in version 1.4 and will be removed in 1.6. You can either let `response_method` be `None` or set it to `predict` to preserve the same behaviour.\n",
      "  warnings.warn(\n"
     ]
    },
    {
     "name": "stdout",
     "output_type": "stream",
     "text": [
      "****Starting for Delay ****\n"
     ]
    },
    {
     "name": "stderr",
     "output_type": "stream",
     "text": [
      "/N/slate/potem/miniconda3/lib/python3.10/site-packages/sklearn/metrics/_scorer.py:610: FutureWarning: The `needs_threshold` and `needs_proba` parameter are deprecated in version 1.4 and will be removed in 1.6. You can either let `response_method` be `None` or set it to `predict` to preserve the same behaviour.\n",
      "  warnings.warn(\n",
      "/N/slate/potem/miniconda3/lib/python3.10/site-packages/sklearn/metrics/_scorer.py:610: FutureWarning: The `needs_threshold` and `needs_proba` parameter are deprecated in version 1.4 and will be removed in 1.6. You can either let `response_method` be `None` or set it to `predict` to preserve the same behaviour.\n",
      "  warnings.warn(\n",
      "/N/slate/potem/miniconda3/lib/python3.10/site-packages/sklearn/metrics/_scorer.py:610: FutureWarning: The `needs_threshold` and `needs_proba` parameter are deprecated in version 1.4 and will be removed in 1.6. You can either let `response_method` be `None` or set it to `predict` to preserve the same behaviour.\n",
      "  warnings.warn(\n",
      "/N/slate/potem/miniconda3/lib/python3.10/site-packages/sklearn/metrics/_scorer.py:610: FutureWarning: The `needs_threshold` and `needs_proba` parameter are deprecated in version 1.4 and will be removed in 1.6. You can either let `response_method` be `None` or set it to `predict` to preserve the same behaviour.\n",
      "  warnings.warn(\n",
      "/N/slate/potem/miniconda3/lib/python3.10/site-packages/sklearn/metrics/_scorer.py:610: FutureWarning: The `needs_threshold` and `needs_proba` parameter are deprecated in version 1.4 and will be removed in 1.6. You can either let `response_method` be `None` or set it to `predict` to preserve the same behaviour.\n",
      "  warnings.warn(\n",
      "/N/slate/potem/miniconda3/lib/python3.10/site-packages/sklearn/metrics/_scorer.py:610: FutureWarning: The `needs_threshold` and `needs_proba` parameter are deprecated in version 1.4 and will be removed in 1.6. You can either let `response_method` be `None` or set it to `predict` to preserve the same behaviour.\n",
      "  warnings.warn(\n",
      "/N/slate/potem/miniconda3/lib/python3.10/site-packages/sklearn/metrics/_scorer.py:610: FutureWarning: The `needs_threshold` and `needs_proba` parameter are deprecated in version 1.4 and will be removed in 1.6. You can either let `response_method` be `None` or set it to `predict` to preserve the same behaviour.\n",
      "  warnings.warn(\n",
      "/N/slate/potem/miniconda3/lib/python3.10/site-packages/sklearn/metrics/_scorer.py:610: FutureWarning: The `needs_threshold` and `needs_proba` parameter are deprecated in version 1.4 and will be removed in 1.6. You can either let `response_method` be `None` or set it to `predict` to preserve the same behaviour.\n",
      "  warnings.warn(\n",
      "/N/slate/potem/miniconda3/lib/python3.10/site-packages/sklearn/metrics/_scorer.py:610: FutureWarning: The `needs_threshold` and `needs_proba` parameter are deprecated in version 1.4 and will be removed in 1.6. You can either let `response_method` be `None` or set it to `predict` to preserve the same behaviour.\n",
      "  warnings.warn(\n"
     ]
    },
    {
     "name": "stdout",
     "output_type": "stream",
     "text": [
      "****Starting for Reply_level_like ****\n"
     ]
    },
    {
     "name": "stderr",
     "output_type": "stream",
     "text": [
      "/N/slate/potem/miniconda3/lib/python3.10/site-packages/sklearn/metrics/_scorer.py:610: FutureWarning: The `needs_threshold` and `needs_proba` parameter are deprecated in version 1.4 and will be removed in 1.6. You can either let `response_method` be `None` or set it to `predict` to preserve the same behaviour.\n",
      "  warnings.warn(\n",
      "/N/slate/potem/miniconda3/lib/python3.10/site-packages/sklearn/metrics/_scorer.py:610: FutureWarning: The `needs_threshold` and `needs_proba` parameter are deprecated in version 1.4 and will be removed in 1.6. You can either let `response_method` be `None` or set it to `predict` to preserve the same behaviour.\n",
      "  warnings.warn(\n",
      "/N/slate/potem/miniconda3/lib/python3.10/site-packages/sklearn/metrics/_scorer.py:610: FutureWarning: The `needs_threshold` and `needs_proba` parameter are deprecated in version 1.4 and will be removed in 1.6. You can either let `response_method` be `None` or set it to `predict` to preserve the same behaviour.\n",
      "  warnings.warn(\n",
      "/N/slate/potem/miniconda3/lib/python3.10/site-packages/sklearn/metrics/_scorer.py:610: FutureWarning: The `needs_threshold` and `needs_proba` parameter are deprecated in version 1.4 and will be removed in 1.6. You can either let `response_method` be `None` or set it to `predict` to preserve the same behaviour.\n",
      "  warnings.warn(\n",
      "/N/slate/potem/miniconda3/lib/python3.10/site-packages/sklearn/metrics/_scorer.py:610: FutureWarning: The `needs_threshold` and `needs_proba` parameter are deprecated in version 1.4 and will be removed in 1.6. You can either let `response_method` be `None` or set it to `predict` to preserve the same behaviour.\n",
      "  warnings.warn(\n",
      "/N/slate/potem/miniconda3/lib/python3.10/site-packages/sklearn/metrics/_scorer.py:610: FutureWarning: The `needs_threshold` and `needs_proba` parameter are deprecated in version 1.4 and will be removed in 1.6. You can either let `response_method` be `None` or set it to `predict` to preserve the same behaviour.\n",
      "  warnings.warn(\n",
      "/N/slate/potem/miniconda3/lib/python3.10/site-packages/sklearn/metrics/_scorer.py:610: FutureWarning: The `needs_threshold` and `needs_proba` parameter are deprecated in version 1.4 and will be removed in 1.6. You can either let `response_method` be `None` or set it to `predict` to preserve the same behaviour.\n",
      "  warnings.warn(\n",
      "/N/slate/potem/miniconda3/lib/python3.10/site-packages/sklearn/metrics/_scorer.py:610: FutureWarning: The `needs_threshold` and `needs_proba` parameter are deprecated in version 1.4 and will be removed in 1.6. You can either let `response_method` be `None` or set it to `predict` to preserve the same behaviour.\n",
      "  warnings.warn(\n",
      "/N/slate/potem/miniconda3/lib/python3.10/site-packages/sklearn/metrics/_scorer.py:610: FutureWarning: The `needs_threshold` and `needs_proba` parameter are deprecated in version 1.4 and will be removed in 1.6. You can either let `response_method` be `None` or set it to `predict` to preserve the same behaviour.\n",
      "  warnings.warn(\n",
      "/N/slate/potem/miniconda3/lib/python3.10/site-packages/sklearn/metrics/_scorer.py:610: FutureWarning: The `needs_threshold` and `needs_proba` parameter are deprecated in version 1.4 and will be removed in 1.6. You can either let `response_method` be `None` or set it to `predict` to preserve the same behaviour.\n",
      "  warnings.warn(\n"
     ]
    },
    {
     "name": "stdout",
     "output_type": "stream",
     "text": [
      "****Starting for Reply_level_retweet ****\n"
     ]
    },
    {
     "name": "stderr",
     "output_type": "stream",
     "text": [
      "/N/slate/potem/miniconda3/lib/python3.10/site-packages/sklearn/metrics/_scorer.py:610: FutureWarning: The `needs_threshold` and `needs_proba` parameter are deprecated in version 1.4 and will be removed in 1.6. You can either let `response_method` be `None` or set it to `predict` to preserve the same behaviour.\n",
      "  warnings.warn(\n",
      "/N/slate/potem/miniconda3/lib/python3.10/site-packages/sklearn/metrics/_scorer.py:610: FutureWarning: The `needs_threshold` and `needs_proba` parameter are deprecated in version 1.4 and will be removed in 1.6. You can either let `response_method` be `None` or set it to `predict` to preserve the same behaviour.\n",
      "  warnings.warn(\n",
      "/N/slate/potem/miniconda3/lib/python3.10/site-packages/sklearn/metrics/_scorer.py:610: FutureWarning: The `needs_threshold` and `needs_proba` parameter are deprecated in version 1.4 and will be removed in 1.6. You can either let `response_method` be `None` or set it to `predict` to preserve the same behaviour.\n",
      "  warnings.warn(\n",
      "/N/slate/potem/miniconda3/lib/python3.10/site-packages/sklearn/metrics/_scorer.py:610: FutureWarning: The `needs_threshold` and `needs_proba` parameter are deprecated in version 1.4 and will be removed in 1.6. You can either let `response_method` be `None` or set it to `predict` to preserve the same behaviour.\n",
      "  warnings.warn(\n",
      "/N/slate/potem/miniconda3/lib/python3.10/site-packages/sklearn/metrics/_scorer.py:610: FutureWarning: The `needs_threshold` and `needs_proba` parameter are deprecated in version 1.4 and will be removed in 1.6. You can either let `response_method` be `None` or set it to `predict` to preserve the same behaviour.\n",
      "  warnings.warn(\n",
      "/N/slate/potem/miniconda3/lib/python3.10/site-packages/sklearn/metrics/_scorer.py:610: FutureWarning: The `needs_threshold` and `needs_proba` parameter are deprecated in version 1.4 and will be removed in 1.6. You can either let `response_method` be `None` or set it to `predict` to preserve the same behaviour.\n",
      "  warnings.warn(\n",
      "/N/slate/potem/miniconda3/lib/python3.10/site-packages/sklearn/metrics/_scorer.py:610: FutureWarning: The `needs_threshold` and `needs_proba` parameter are deprecated in version 1.4 and will be removed in 1.6. You can either let `response_method` be `None` or set it to `predict` to preserve the same behaviour.\n",
      "  warnings.warn(\n",
      "/N/slate/potem/miniconda3/lib/python3.10/site-packages/sklearn/metrics/_scorer.py:610: FutureWarning: The `needs_threshold` and `needs_proba` parameter are deprecated in version 1.4 and will be removed in 1.6. You can either let `response_method` be `None` or set it to `predict` to preserve the same behaviour.\n",
      "  warnings.warn(\n",
      "/N/slate/potem/miniconda3/lib/python3.10/site-packages/sklearn/metrics/_scorer.py:610: FutureWarning: The `needs_threshold` and `needs_proba` parameter are deprecated in version 1.4 and will be removed in 1.6. You can either let `response_method` be `None` or set it to `predict` to preserve the same behaviour.\n",
      "  warnings.warn(\n",
      "/N/slate/potem/miniconda3/lib/python3.10/site-packages/sklearn/metrics/_scorer.py:610: FutureWarning: The `needs_threshold` and `needs_proba` parameter are deprecated in version 1.4 and will be removed in 1.6. You can either let `response_method` be `None` or set it to `predict` to preserve the same behaviour.\n",
      "  warnings.warn(\n"
     ]
    },
    {
     "name": "stdout",
     "output_type": "stream",
     "text": [
      "****Starting for Reply_level_reply ****\n"
     ]
    },
    {
     "name": "stderr",
     "output_type": "stream",
     "text": [
      "/N/slate/potem/miniconda3/lib/python3.10/site-packages/sklearn/metrics/_scorer.py:610: FutureWarning: The `needs_threshold` and `needs_proba` parameter are deprecated in version 1.4 and will be removed in 1.6. You can either let `response_method` be `None` or set it to `predict` to preserve the same behaviour.\n",
      "  warnings.warn(\n",
      "/N/slate/potem/miniconda3/lib/python3.10/site-packages/sklearn/metrics/_scorer.py:610: FutureWarning: The `needs_threshold` and `needs_proba` parameter are deprecated in version 1.4 and will be removed in 1.6. You can either let `response_method` be `None` or set it to `predict` to preserve the same behaviour.\n",
      "  warnings.warn(\n",
      "/N/slate/potem/miniconda3/lib/python3.10/site-packages/sklearn/metrics/_scorer.py:610: FutureWarning: The `needs_threshold` and `needs_proba` parameter are deprecated in version 1.4 and will be removed in 1.6. You can either let `response_method` be `None` or set it to `predict` to preserve the same behaviour.\n",
      "  warnings.warn(\n",
      "/N/slate/potem/miniconda3/lib/python3.10/site-packages/sklearn/metrics/_scorer.py:610: FutureWarning: The `needs_threshold` and `needs_proba` parameter are deprecated in version 1.4 and will be removed in 1.6. You can either let `response_method` be `None` or set it to `predict` to preserve the same behaviour.\n",
      "  warnings.warn(\n",
      "/N/slate/potem/miniconda3/lib/python3.10/site-packages/sklearn/metrics/_scorer.py:610: FutureWarning: The `needs_threshold` and `needs_proba` parameter are deprecated in version 1.4 and will be removed in 1.6. You can either let `response_method` be `None` or set it to `predict` to preserve the same behaviour.\n",
      "  warnings.warn(\n",
      "/N/slate/potem/miniconda3/lib/python3.10/site-packages/sklearn/metrics/_scorer.py:610: FutureWarning: The `needs_threshold` and `needs_proba` parameter are deprecated in version 1.4 and will be removed in 1.6. You can either let `response_method` be `None` or set it to `predict` to preserve the same behaviour.\n",
      "  warnings.warn(\n",
      "/N/slate/potem/miniconda3/lib/python3.10/site-packages/sklearn/metrics/_scorer.py:610: FutureWarning: The `needs_threshold` and `needs_proba` parameter are deprecated in version 1.4 and will be removed in 1.6. You can either let `response_method` be `None` or set it to `predict` to preserve the same behaviour.\n",
      "  warnings.warn(\n",
      "/N/slate/potem/miniconda3/lib/python3.10/site-packages/sklearn/metrics/_scorer.py:610: FutureWarning: The `needs_threshold` and `needs_proba` parameter are deprecated in version 1.4 and will be removed in 1.6. You can either let `response_method` be `None` or set it to `predict` to preserve the same behaviour.\n",
      "  warnings.warn(\n",
      "/N/slate/potem/miniconda3/lib/python3.10/site-packages/sklearn/metrics/_scorer.py:610: FutureWarning: The `needs_threshold` and `needs_proba` parameter are deprecated in version 1.4 and will be removed in 1.6. You can either let `response_method` be `None` or set it to `predict` to preserve the same behaviour.\n",
      "  warnings.warn(\n",
      "/N/slate/potem/miniconda3/lib/python3.10/site-packages/sklearn/metrics/_scorer.py:610: FutureWarning: The `needs_threshold` and `needs_proba` parameter are deprecated in version 1.4 and will be removed in 1.6. You can either let `response_method` be `None` or set it to `predict` to preserve the same behaviour.\n",
      "  warnings.warn(\n"
     ]
    },
    {
     "name": "stdout",
     "output_type": "stream",
     "text": [
      "****Starting for Similarity ****\n"
     ]
    },
    {
     "name": "stderr",
     "output_type": "stream",
     "text": [
      "/N/slate/potem/miniconda3/lib/python3.10/site-packages/sklearn/metrics/_scorer.py:610: FutureWarning: The `needs_threshold` and `needs_proba` parameter are deprecated in version 1.4 and will be removed in 1.6. You can either let `response_method` be `None` or set it to `predict` to preserve the same behaviour.\n",
      "  warnings.warn(\n",
      "/N/slate/potem/miniconda3/lib/python3.10/site-packages/sklearn/metrics/_scorer.py:610: FutureWarning: The `needs_threshold` and `needs_proba` parameter are deprecated in version 1.4 and will be removed in 1.6. You can either let `response_method` be `None` or set it to `predict` to preserve the same behaviour.\n",
      "  warnings.warn(\n",
      "/N/slate/potem/miniconda3/lib/python3.10/site-packages/sklearn/metrics/_scorer.py:610: FutureWarning: The `needs_threshold` and `needs_proba` parameter are deprecated in version 1.4 and will be removed in 1.6. You can either let `response_method` be `None` or set it to `predict` to preserve the same behaviour.\n",
      "  warnings.warn(\n",
      "/N/slate/potem/miniconda3/lib/python3.10/site-packages/sklearn/metrics/_scorer.py:610: FutureWarning: The `needs_threshold` and `needs_proba` parameter are deprecated in version 1.4 and will be removed in 1.6. You can either let `response_method` be `None` or set it to `predict` to preserve the same behaviour.\n",
      "  warnings.warn(\n",
      "/N/slate/potem/miniconda3/lib/python3.10/site-packages/sklearn/metrics/_scorer.py:610: FutureWarning: The `needs_threshold` and `needs_proba` parameter are deprecated in version 1.4 and will be removed in 1.6. You can either let `response_method` be `None` or set it to `predict` to preserve the same behaviour.\n",
      "  warnings.warn(\n",
      "/N/slate/potem/miniconda3/lib/python3.10/site-packages/sklearn/metrics/_scorer.py:610: FutureWarning: The `needs_threshold` and `needs_proba` parameter are deprecated in version 1.4 and will be removed in 1.6. You can either let `response_method` be `None` or set it to `predict` to preserve the same behaviour.\n",
      "  warnings.warn(\n",
      "/N/slate/potem/miniconda3/lib/python3.10/site-packages/sklearn/metrics/_scorer.py:610: FutureWarning: The `needs_threshold` and `needs_proba` parameter are deprecated in version 1.4 and will be removed in 1.6. You can either let `response_method` be `None` or set it to `predict` to preserve the same behaviour.\n",
      "  warnings.warn(\n",
      "/N/slate/potem/miniconda3/lib/python3.10/site-packages/sklearn/metrics/_scorer.py:610: FutureWarning: The `needs_threshold` and `needs_proba` parameter are deprecated in version 1.4 and will be removed in 1.6. You can either let `response_method` be `None` or set it to `predict` to preserve the same behaviour.\n",
      "  warnings.warn(\n",
      "/N/slate/potem/miniconda3/lib/python3.10/site-packages/sklearn/metrics/_scorer.py:610: FutureWarning: The `needs_threshold` and `needs_proba` parameter are deprecated in version 1.4 and will be removed in 1.6. You can either let `response_method` be `None` or set it to `predict` to preserve the same behaviour.\n",
      "  warnings.warn(\n",
      "/N/slate/potem/miniconda3/lib/python3.10/site-packages/sklearn/metrics/_scorer.py:610: FutureWarning: The `needs_threshold` and `needs_proba` parameter are deprecated in version 1.4 and will be removed in 1.6. You can either let `response_method` be `None` or set it to `predict` to preserve the same behaviour.\n",
      "  warnings.warn(\n"
     ]
    },
    {
     "name": "stdout",
     "output_type": "stream",
     "text": [
      "****Starting for Entites_mention ****\n"
     ]
    },
    {
     "name": "stderr",
     "output_type": "stream",
     "text": [
      "/N/slate/potem/miniconda3/lib/python3.10/site-packages/sklearn/metrics/_scorer.py:610: FutureWarning: The `needs_threshold` and `needs_proba` parameter are deprecated in version 1.4 and will be removed in 1.6. You can either let `response_method` be `None` or set it to `predict` to preserve the same behaviour.\n",
      "  warnings.warn(\n",
      "/N/slate/potem/miniconda3/lib/python3.10/site-packages/sklearn/metrics/_scorer.py:610: FutureWarning: The `needs_threshold` and `needs_proba` parameter are deprecated in version 1.4 and will be removed in 1.6. You can either let `response_method` be `None` or set it to `predict` to preserve the same behaviour.\n",
      "  warnings.warn(\n",
      "/N/slate/potem/miniconda3/lib/python3.10/site-packages/sklearn/metrics/_scorer.py:610: FutureWarning: The `needs_threshold` and `needs_proba` parameter are deprecated in version 1.4 and will be removed in 1.6. You can either let `response_method` be `None` or set it to `predict` to preserve the same behaviour.\n",
      "  warnings.warn(\n",
      "/N/slate/potem/miniconda3/lib/python3.10/site-packages/sklearn/metrics/_scorer.py:610: FutureWarning: The `needs_threshold` and `needs_proba` parameter are deprecated in version 1.4 and will be removed in 1.6. You can either let `response_method` be `None` or set it to `predict` to preserve the same behaviour.\n",
      "  warnings.warn(\n",
      "/N/slate/potem/miniconda3/lib/python3.10/site-packages/sklearn/metrics/_scorer.py:610: FutureWarning: The `needs_threshold` and `needs_proba` parameter are deprecated in version 1.4 and will be removed in 1.6. You can either let `response_method` be `None` or set it to `predict` to preserve the same behaviour.\n",
      "  warnings.warn(\n",
      "/N/slate/potem/miniconda3/lib/python3.10/site-packages/sklearn/metrics/_scorer.py:610: FutureWarning: The `needs_threshold` and `needs_proba` parameter are deprecated in version 1.4 and will be removed in 1.6. You can either let `response_method` be `None` or set it to `predict` to preserve the same behaviour.\n",
      "  warnings.warn(\n",
      "/N/slate/potem/miniconda3/lib/python3.10/site-packages/sklearn/metrics/_scorer.py:610: FutureWarning: The `needs_threshold` and `needs_proba` parameter are deprecated in version 1.4 and will be removed in 1.6. You can either let `response_method` be `None` or set it to `predict` to preserve the same behaviour.\n",
      "  warnings.warn(\n",
      "/N/slate/potem/miniconda3/lib/python3.10/site-packages/sklearn/metrics/_scorer.py:610: FutureWarning: The `needs_threshold` and `needs_proba` parameter are deprecated in version 1.4 and will be removed in 1.6. You can either let `response_method` be `None` or set it to `predict` to preserve the same behaviour.\n",
      "  warnings.warn(\n",
      "/N/slate/potem/miniconda3/lib/python3.10/site-packages/sklearn/metrics/_scorer.py:610: FutureWarning: The `needs_threshold` and `needs_proba` parameter are deprecated in version 1.4 and will be removed in 1.6. You can either let `response_method` be `None` or set it to `predict` to preserve the same behaviour.\n",
      "  warnings.warn(\n",
      "/N/slate/potem/miniconda3/lib/python3.10/site-packages/sklearn/metrics/_scorer.py:610: FutureWarning: The `needs_threshold` and `needs_proba` parameter are deprecated in version 1.4 and will be removed in 1.6. You can either let `response_method` be `None` or set it to `predict` to preserve the same behaviour.\n",
      "  warnings.warn(\n"
     ]
    },
    {
     "name": "stdout",
     "output_type": "stream",
     "text": [
      "****Starting for Entites_hashtags ****\n"
     ]
    },
    {
     "name": "stderr",
     "output_type": "stream",
     "text": [
      "/N/slate/potem/miniconda3/lib/python3.10/site-packages/sklearn/metrics/_scorer.py:610: FutureWarning: The `needs_threshold` and `needs_proba` parameter are deprecated in version 1.4 and will be removed in 1.6. You can either let `response_method` be `None` or set it to `predict` to preserve the same behaviour.\n",
      "  warnings.warn(\n",
      "/N/slate/potem/miniconda3/lib/python3.10/site-packages/sklearn/metrics/_scorer.py:610: FutureWarning: The `needs_threshold` and `needs_proba` parameter are deprecated in version 1.4 and will be removed in 1.6. You can either let `response_method` be `None` or set it to `predict` to preserve the same behaviour.\n",
      "  warnings.warn(\n",
      "/N/slate/potem/miniconda3/lib/python3.10/site-packages/sklearn/metrics/_scorer.py:610: FutureWarning: The `needs_threshold` and `needs_proba` parameter are deprecated in version 1.4 and will be removed in 1.6. You can either let `response_method` be `None` or set it to `predict` to preserve the same behaviour.\n",
      "  warnings.warn(\n",
      "/N/slate/potem/miniconda3/lib/python3.10/site-packages/sklearn/metrics/_scorer.py:610: FutureWarning: The `needs_threshold` and `needs_proba` parameter are deprecated in version 1.4 and will be removed in 1.6. You can either let `response_method` be `None` or set it to `predict` to preserve the same behaviour.\n",
      "  warnings.warn(\n",
      "/N/slate/potem/miniconda3/lib/python3.10/site-packages/sklearn/metrics/_scorer.py:610: FutureWarning: The `needs_threshold` and `needs_proba` parameter are deprecated in version 1.4 and will be removed in 1.6. You can either let `response_method` be `None` or set it to `predict` to preserve the same behaviour.\n",
      "  warnings.warn(\n",
      "/N/slate/potem/miniconda3/lib/python3.10/site-packages/sklearn/metrics/_scorer.py:610: FutureWarning: The `needs_threshold` and `needs_proba` parameter are deprecated in version 1.4 and will be removed in 1.6. You can either let `response_method` be `None` or set it to `predict` to preserve the same behaviour.\n",
      "  warnings.warn(\n",
      "/N/slate/potem/miniconda3/lib/python3.10/site-packages/sklearn/metrics/_scorer.py:610: FutureWarning: The `needs_threshold` and `needs_proba` parameter are deprecated in version 1.4 and will be removed in 1.6. You can either let `response_method` be `None` or set it to `predict` to preserve the same behaviour.\n",
      "  warnings.warn(\n",
      "/N/slate/potem/miniconda3/lib/python3.10/site-packages/sklearn/metrics/_scorer.py:610: FutureWarning: The `needs_threshold` and `needs_proba` parameter are deprecated in version 1.4 and will be removed in 1.6. You can either let `response_method` be `None` or set it to `predict` to preserve the same behaviour.\n",
      "  warnings.warn(\n",
      "/N/slate/potem/miniconda3/lib/python3.10/site-packages/sklearn/metrics/_scorer.py:610: FutureWarning: The `needs_threshold` and `needs_proba` parameter are deprecated in version 1.4 and will be removed in 1.6. You can either let `response_method` be `None` or set it to `predict` to preserve the same behaviour.\n",
      "  warnings.warn(\n",
      "/N/slate/potem/miniconda3/lib/python3.10/site-packages/sklearn/metrics/_scorer.py:610: FutureWarning: The `needs_threshold` and `needs_proba` parameter are deprecated in version 1.4 and will be removed in 1.6. You can either let `response_method` be `None` or set it to `predict` to preserve the same behaviour.\n",
      "  warnings.warn(\n"
     ]
    },
    {
     "name": "stdout",
     "output_type": "stream",
     "text": [
      "****Starting for Entites_url ****\n"
     ]
    },
    {
     "name": "stderr",
     "output_type": "stream",
     "text": [
      "/N/slate/potem/miniconda3/lib/python3.10/site-packages/sklearn/metrics/_scorer.py:610: FutureWarning: The `needs_threshold` and `needs_proba` parameter are deprecated in version 1.4 and will be removed in 1.6. You can either let `response_method` be `None` or set it to `predict` to preserve the same behaviour.\n",
      "  warnings.warn(\n",
      "/N/slate/potem/miniconda3/lib/python3.10/site-packages/sklearn/metrics/_scorer.py:610: FutureWarning: The `needs_threshold` and `needs_proba` parameter are deprecated in version 1.4 and will be removed in 1.6. You can either let `response_method` be `None` or set it to `predict` to preserve the same behaviour.\n",
      "  warnings.warn(\n",
      "/N/slate/potem/miniconda3/lib/python3.10/site-packages/sklearn/metrics/_scorer.py:610: FutureWarning: The `needs_threshold` and `needs_proba` parameter are deprecated in version 1.4 and will be removed in 1.6. You can either let `response_method` be `None` or set it to `predict` to preserve the same behaviour.\n",
      "  warnings.warn(\n",
      "/N/slate/potem/miniconda3/lib/python3.10/site-packages/sklearn/metrics/_scorer.py:610: FutureWarning: The `needs_threshold` and `needs_proba` parameter are deprecated in version 1.4 and will be removed in 1.6. You can either let `response_method` be `None` or set it to `predict` to preserve the same behaviour.\n",
      "  warnings.warn(\n",
      "/N/slate/potem/miniconda3/lib/python3.10/site-packages/sklearn/metrics/_scorer.py:610: FutureWarning: The `needs_threshold` and `needs_proba` parameter are deprecated in version 1.4 and will be removed in 1.6. You can either let `response_method` be `None` or set it to `predict` to preserve the same behaviour.\n",
      "  warnings.warn(\n",
      "/N/slate/potem/miniconda3/lib/python3.10/site-packages/sklearn/metrics/_scorer.py:610: FutureWarning: The `needs_threshold` and `needs_proba` parameter are deprecated in version 1.4 and will be removed in 1.6. You can either let `response_method` be `None` or set it to `predict` to preserve the same behaviour.\n",
      "  warnings.warn(\n",
      "/N/slate/potem/miniconda3/lib/python3.10/site-packages/sklearn/metrics/_scorer.py:610: FutureWarning: The `needs_threshold` and `needs_proba` parameter are deprecated in version 1.4 and will be removed in 1.6. You can either let `response_method` be `None` or set it to `predict` to preserve the same behaviour.\n",
      "  warnings.warn(\n",
      "/N/slate/potem/miniconda3/lib/python3.10/site-packages/sklearn/metrics/_scorer.py:610: FutureWarning: The `needs_threshold` and `needs_proba` parameter are deprecated in version 1.4 and will be removed in 1.6. You can either let `response_method` be `None` or set it to `predict` to preserve the same behaviour.\n",
      "  warnings.warn(\n",
      "/N/slate/potem/miniconda3/lib/python3.10/site-packages/sklearn/metrics/_scorer.py:610: FutureWarning: The `needs_threshold` and `needs_proba` parameter are deprecated in version 1.4 and will be removed in 1.6. You can either let `response_method` be `None` or set it to `predict` to preserve the same behaviour.\n",
      "  warnings.warn(\n",
      "/N/slate/potem/miniconda3/lib/python3.10/site-packages/sklearn/metrics/_scorer.py:610: FutureWarning: The `needs_threshold` and `needs_proba` parameter are deprecated in version 1.4 and will be removed in 1.6. You can either let `response_method` be `None` or set it to `predict` to preserve the same behaviour.\n",
      "  warnings.warn(\n"
     ]
    },
    {
     "name": "stdout",
     "output_type": "stream",
     "text": [
      "****Starting for Followers rate ****\n"
     ]
    },
    {
     "name": "stderr",
     "output_type": "stream",
     "text": [
      "/N/slate/potem/miniconda3/lib/python3.10/site-packages/sklearn/metrics/_scorer.py:610: FutureWarning: The `needs_threshold` and `needs_proba` parameter are deprecated in version 1.4 and will be removed in 1.6. You can either let `response_method` be `None` or set it to `predict` to preserve the same behaviour.\n",
      "  warnings.warn(\n",
      "/N/slate/potem/miniconda3/lib/python3.10/site-packages/sklearn/metrics/_scorer.py:610: FutureWarning: The `needs_threshold` and `needs_proba` parameter are deprecated in version 1.4 and will be removed in 1.6. You can either let `response_method` be `None` or set it to `predict` to preserve the same behaviour.\n",
      "  warnings.warn(\n",
      "/N/slate/potem/miniconda3/lib/python3.10/site-packages/sklearn/metrics/_scorer.py:610: FutureWarning: The `needs_threshold` and `needs_proba` parameter are deprecated in version 1.4 and will be removed in 1.6. You can either let `response_method` be `None` or set it to `predict` to preserve the same behaviour.\n",
      "  warnings.warn(\n",
      "/N/slate/potem/miniconda3/lib/python3.10/site-packages/sklearn/metrics/_scorer.py:610: FutureWarning: The `needs_threshold` and `needs_proba` parameter are deprecated in version 1.4 and will be removed in 1.6. You can either let `response_method` be `None` or set it to `predict` to preserve the same behaviour.\n",
      "  warnings.warn(\n",
      "/N/slate/potem/miniconda3/lib/python3.10/site-packages/sklearn/metrics/_scorer.py:610: FutureWarning: The `needs_threshold` and `needs_proba` parameter are deprecated in version 1.4 and will be removed in 1.6. You can either let `response_method` be `None` or set it to `predict` to preserve the same behaviour.\n",
      "  warnings.warn(\n",
      "/N/slate/potem/miniconda3/lib/python3.10/site-packages/sklearn/metrics/_scorer.py:610: FutureWarning: The `needs_threshold` and `needs_proba` parameter are deprecated in version 1.4 and will be removed in 1.6. You can either let `response_method` be `None` or set it to `predict` to preserve the same behaviour.\n",
      "  warnings.warn(\n",
      "/N/slate/potem/miniconda3/lib/python3.10/site-packages/sklearn/metrics/_scorer.py:610: FutureWarning: The `needs_threshold` and `needs_proba` parameter are deprecated in version 1.4 and will be removed in 1.6. You can either let `response_method` be `None` or set it to `predict` to preserve the same behaviour.\n",
      "  warnings.warn(\n",
      "/N/slate/potem/miniconda3/lib/python3.10/site-packages/sklearn/metrics/_scorer.py:610: FutureWarning: The `needs_threshold` and `needs_proba` parameter are deprecated in version 1.4 and will be removed in 1.6. You can either let `response_method` be `None` or set it to `predict` to preserve the same behaviour.\n",
      "  warnings.warn(\n",
      "/N/slate/potem/miniconda3/lib/python3.10/site-packages/sklearn/metrics/_scorer.py:610: FutureWarning: The `needs_threshold` and `needs_proba` parameter are deprecated in version 1.4 and will be removed in 1.6. You can either let `response_method` be `None` or set it to `predict` to preserve the same behaviour.\n",
      "  warnings.warn(\n",
      "/N/slate/potem/miniconda3/lib/python3.10/site-packages/sklearn/metrics/_scorer.py:610: FutureWarning: The `needs_threshold` and `needs_proba` parameter are deprecated in version 1.4 and will be removed in 1.6. You can either let `response_method` be `None` or set it to `predict` to preserve the same behaviour.\n",
      "  warnings.warn(\n"
     ]
    },
    {
     "name": "stdout",
     "output_type": "stream",
     "text": [
      "****Starting for Following rate ****\n"
     ]
    },
    {
     "name": "stderr",
     "output_type": "stream",
     "text": [
      "/N/slate/potem/miniconda3/lib/python3.10/site-packages/sklearn/metrics/_scorer.py:610: FutureWarning: The `needs_threshold` and `needs_proba` parameter are deprecated in version 1.4 and will be removed in 1.6. You can either let `response_method` be `None` or set it to `predict` to preserve the same behaviour.\n",
      "  warnings.warn(\n",
      "/N/slate/potem/miniconda3/lib/python3.10/site-packages/sklearn/metrics/_scorer.py:610: FutureWarning: The `needs_threshold` and `needs_proba` parameter are deprecated in version 1.4 and will be removed in 1.6. You can either let `response_method` be `None` or set it to `predict` to preserve the same behaviour.\n",
      "  warnings.warn(\n",
      "/N/slate/potem/miniconda3/lib/python3.10/site-packages/sklearn/metrics/_scorer.py:610: FutureWarning: The `needs_threshold` and `needs_proba` parameter are deprecated in version 1.4 and will be removed in 1.6. You can either let `response_method` be `None` or set it to `predict` to preserve the same behaviour.\n",
      "  warnings.warn(\n",
      "/N/slate/potem/miniconda3/lib/python3.10/site-packages/sklearn/metrics/_scorer.py:610: FutureWarning: The `needs_threshold` and `needs_proba` parameter are deprecated in version 1.4 and will be removed in 1.6. You can either let `response_method` be `None` or set it to `predict` to preserve the same behaviour.\n",
      "  warnings.warn(\n",
      "/N/slate/potem/miniconda3/lib/python3.10/site-packages/sklearn/metrics/_scorer.py:610: FutureWarning: The `needs_threshold` and `needs_proba` parameter are deprecated in version 1.4 and will be removed in 1.6. You can either let `response_method` be `None` or set it to `predict` to preserve the same behaviour.\n",
      "  warnings.warn(\n",
      "/N/slate/potem/miniconda3/lib/python3.10/site-packages/sklearn/metrics/_scorer.py:610: FutureWarning: The `needs_threshold` and `needs_proba` parameter are deprecated in version 1.4 and will be removed in 1.6. You can either let `response_method` be `None` or set it to `predict` to preserve the same behaviour.\n",
      "  warnings.warn(\n",
      "/N/slate/potem/miniconda3/lib/python3.10/site-packages/sklearn/metrics/_scorer.py:610: FutureWarning: The `needs_threshold` and `needs_proba` parameter are deprecated in version 1.4 and will be removed in 1.6. You can either let `response_method` be `None` or set it to `predict` to preserve the same behaviour.\n",
      "  warnings.warn(\n",
      "/N/slate/potem/miniconda3/lib/python3.10/site-packages/sklearn/metrics/_scorer.py:610: FutureWarning: The `needs_threshold` and `needs_proba` parameter are deprecated in version 1.4 and will be removed in 1.6. You can either let `response_method` be `None` or set it to `predict` to preserve the same behaviour.\n",
      "  warnings.warn(\n",
      "/N/slate/potem/miniconda3/lib/python3.10/site-packages/sklearn/metrics/_scorer.py:610: FutureWarning: The `needs_threshold` and `needs_proba` parameter are deprecated in version 1.4 and will be removed in 1.6. You can either let `response_method` be `None` or set it to `predict` to preserve the same behaviour.\n",
      "  warnings.warn(\n",
      "/N/slate/potem/miniconda3/lib/python3.10/site-packages/sklearn/metrics/_scorer.py:610: FutureWarning: The `needs_threshold` and `needs_proba` parameter are deprecated in version 1.4 and will be removed in 1.6. You can either let `response_method` be `None` or set it to `predict` to preserve the same behaviour.\n",
      "  warnings.warn(\n"
     ]
    },
    {
     "name": "stdout",
     "output_type": "stream",
     "text": [
      "****Starting for Activity rate ****\n"
     ]
    },
    {
     "name": "stderr",
     "output_type": "stream",
     "text": [
      "/N/slate/potem/miniconda3/lib/python3.10/site-packages/sklearn/metrics/_scorer.py:610: FutureWarning: The `needs_threshold` and `needs_proba` parameter are deprecated in version 1.4 and will be removed in 1.6. You can either let `response_method` be `None` or set it to `predict` to preserve the same behaviour.\n",
      "  warnings.warn(\n",
      "/N/slate/potem/miniconda3/lib/python3.10/site-packages/sklearn/metrics/_scorer.py:610: FutureWarning: The `needs_threshold` and `needs_proba` parameter are deprecated in version 1.4 and will be removed in 1.6. You can either let `response_method` be `None` or set it to `predict` to preserve the same behaviour.\n",
      "  warnings.warn(\n",
      "/N/slate/potem/miniconda3/lib/python3.10/site-packages/sklearn/metrics/_scorer.py:610: FutureWarning: The `needs_threshold` and `needs_proba` parameter are deprecated in version 1.4 and will be removed in 1.6. You can either let `response_method` be `None` or set it to `predict` to preserve the same behaviour.\n",
      "  warnings.warn(\n",
      "/N/slate/potem/miniconda3/lib/python3.10/site-packages/sklearn/metrics/_scorer.py:610: FutureWarning: The `needs_threshold` and `needs_proba` parameter are deprecated in version 1.4 and will be removed in 1.6. You can either let `response_method` be `None` or set it to `predict` to preserve the same behaviour.\n",
      "  warnings.warn(\n",
      "/N/slate/potem/miniconda3/lib/python3.10/site-packages/sklearn/metrics/_scorer.py:610: FutureWarning: The `needs_threshold` and `needs_proba` parameter are deprecated in version 1.4 and will be removed in 1.6. You can either let `response_method` be `None` or set it to `predict` to preserve the same behaviour.\n",
      "  warnings.warn(\n",
      "/N/slate/potem/miniconda3/lib/python3.10/site-packages/sklearn/metrics/_scorer.py:610: FutureWarning: The `needs_threshold` and `needs_proba` parameter are deprecated in version 1.4 and will be removed in 1.6. You can either let `response_method` be `None` or set it to `predict` to preserve the same behaviour.\n",
      "  warnings.warn(\n",
      "/N/slate/potem/miniconda3/lib/python3.10/site-packages/sklearn/metrics/_scorer.py:610: FutureWarning: The `needs_threshold` and `needs_proba` parameter are deprecated in version 1.4 and will be removed in 1.6. You can either let `response_method` be `None` or set it to `predict` to preserve the same behaviour.\n",
      "  warnings.warn(\n",
      "/N/slate/potem/miniconda3/lib/python3.10/site-packages/sklearn/metrics/_scorer.py:610: FutureWarning: The `needs_threshold` and `needs_proba` parameter are deprecated in version 1.4 and will be removed in 1.6. You can either let `response_method` be `None` or set it to `predict` to preserve the same behaviour.\n",
      "  warnings.warn(\n",
      "/N/slate/potem/miniconda3/lib/python3.10/site-packages/sklearn/metrics/_scorer.py:610: FutureWarning: The `needs_threshold` and `needs_proba` parameter are deprecated in version 1.4 and will be removed in 1.6. You can either let `response_method` be `None` or set it to `predict` to preserve the same behaviour.\n",
      "  warnings.warn(\n",
      "/N/slate/potem/miniconda3/lib/python3.10/site-packages/sklearn/metrics/_scorer.py:610: FutureWarning: The `needs_threshold` and `needs_proba` parameter are deprecated in version 1.4 and will be removed in 1.6. You can either let `response_method` be `None` or set it to `predict` to preserve the same behaviour.\n",
      "  warnings.warn(\n"
     ]
    },
    {
     "name": "stdout",
     "output_type": "stream",
     "text": [
      "****Starting for Age ****\n"
     ]
    },
    {
     "name": "stderr",
     "output_type": "stream",
     "text": [
      "/N/slate/potem/miniconda3/lib/python3.10/site-packages/sklearn/metrics/_scorer.py:610: FutureWarning: The `needs_threshold` and `needs_proba` parameter are deprecated in version 1.4 and will be removed in 1.6. You can either let `response_method` be `None` or set it to `predict` to preserve the same behaviour.\n",
      "  warnings.warn(\n",
      "/N/slate/potem/miniconda3/lib/python3.10/site-packages/sklearn/metrics/_scorer.py:610: FutureWarning: The `needs_threshold` and `needs_proba` parameter are deprecated in version 1.4 and will be removed in 1.6. You can either let `response_method` be `None` or set it to `predict` to preserve the same behaviour.\n",
      "  warnings.warn(\n",
      "/N/slate/potem/miniconda3/lib/python3.10/site-packages/sklearn/metrics/_scorer.py:610: FutureWarning: The `needs_threshold` and `needs_proba` parameter are deprecated in version 1.4 and will be removed in 1.6. You can either let `response_method` be `None` or set it to `predict` to preserve the same behaviour.\n",
      "  warnings.warn(\n",
      "/N/slate/potem/miniconda3/lib/python3.10/site-packages/sklearn/metrics/_scorer.py:610: FutureWarning: The `needs_threshold` and `needs_proba` parameter are deprecated in version 1.4 and will be removed in 1.6. You can either let `response_method` be `None` or set it to `predict` to preserve the same behaviour.\n",
      "  warnings.warn(\n",
      "/N/slate/potem/miniconda3/lib/python3.10/site-packages/sklearn/metrics/_scorer.py:610: FutureWarning: The `needs_threshold` and `needs_proba` parameter are deprecated in version 1.4 and will be removed in 1.6. You can either let `response_method` be `None` or set it to `predict` to preserve the same behaviour.\n",
      "  warnings.warn(\n",
      "/N/slate/potem/miniconda3/lib/python3.10/site-packages/sklearn/metrics/_scorer.py:610: FutureWarning: The `needs_threshold` and `needs_proba` parameter are deprecated in version 1.4 and will be removed in 1.6. You can either let `response_method` be `None` or set it to `predict` to preserve the same behaviour.\n",
      "  warnings.warn(\n",
      "/N/slate/potem/miniconda3/lib/python3.10/site-packages/sklearn/metrics/_scorer.py:610: FutureWarning: The `needs_threshold` and `needs_proba` parameter are deprecated in version 1.4 and will be removed in 1.6. You can either let `response_method` be `None` or set it to `predict` to preserve the same behaviour.\n",
      "  warnings.warn(\n",
      "/N/slate/potem/miniconda3/lib/python3.10/site-packages/sklearn/metrics/_scorer.py:610: FutureWarning: The `needs_threshold` and `needs_proba` parameter are deprecated in version 1.4 and will be removed in 1.6. You can either let `response_method` be `None` or set it to `predict` to preserve the same behaviour.\n",
      "  warnings.warn(\n",
      "/N/slate/potem/miniconda3/lib/python3.10/site-packages/sklearn/metrics/_scorer.py:610: FutureWarning: The `needs_threshold` and `needs_proba` parameter are deprecated in version 1.4 and will be removed in 1.6. You can either let `response_method` be `None` or set it to `predict` to preserve the same behaviour.\n",
      "  warnings.warn(\n",
      "/N/slate/potem/miniconda3/lib/python3.10/site-packages/sklearn/metrics/_scorer.py:610: FutureWarning: The `needs_threshold` and `needs_proba` parameter are deprecated in version 1.4 and will be removed in 1.6. You can either let `response_method` be `None` or set it to `predict` to preserve the same behaviour.\n",
      "  warnings.warn(\n"
     ]
    },
    {
     "name": "stdout",
     "output_type": "stream",
     "text": [
      "{'Delay': [test_f1    0.000405\n",
      "dtype: float64, test_f1    0.00162\n",
      "dtype: float64, test_f1    0.00259\n",
      "dtype: float64, test_f1    0.00131\n",
      "dtype: float64, test_f1   -0.000436\n",
      "dtype: float64, test_f1    0.003049\n",
      "dtype: float64, test_f1    0.005463\n",
      "dtype: float64, test_f1    0.000817\n",
      "dtype: float64, test_f1   -0.000131\n",
      "dtype: float64, test_f1    0.002058\n",
      "dtype: float64], 'Reply_level_like': [test_f1   -0.000908\n",
      "dtype: float64, test_f1    0.002415\n",
      "dtype: float64, test_f1    0.001046\n",
      "dtype: float64, test_f1    0.000851\n",
      "dtype: float64, test_f1    0.001257\n",
      "dtype: float64, test_f1    0.000341\n",
      "dtype: float64, test_f1    0.000304\n",
      "dtype: float64, test_f1   -0.001648\n",
      "dtype: float64, test_f1    0.001416\n",
      "dtype: float64, test_f1   -0.000933\n",
      "dtype: float64], 'Reply_level_retweet': [test_f1   -0.001275\n",
      "dtype: float64, test_f1   -0.000872\n",
      "dtype: float64, test_f1   -0.002716\n",
      "dtype: float64, test_f1    0.000875\n",
      "dtype: float64, test_f1   -0.003775\n",
      "dtype: float64, test_f1   -0.00469\n",
      "dtype: float64, test_f1   -0.003521\n",
      "dtype: float64, test_f1   -0.003622\n",
      "dtype: float64, test_f1   -0.002529\n",
      "dtype: float64, test_f1   -0.00138\n",
      "dtype: float64], 'Reply_level_reply': [test_f1   -0.00278\n",
      "dtype: float64, test_f1   -0.000053\n",
      "dtype: float64, test_f1   -0.004639\n",
      "dtype: float64, test_f1   -0.003219\n",
      "dtype: float64, test_f1   -0.001532\n",
      "dtype: float64, test_f1   -0.002898\n",
      "dtype: float64, test_f1   -0.000275\n",
      "dtype: float64, test_f1   -0.000576\n",
      "dtype: float64, test_f1    0.000464\n",
      "dtype: float64, test_f1    0.000298\n",
      "dtype: float64], 'Similarity': [test_f1    0.113716\n",
      "dtype: float64, test_f1    0.121781\n",
      "dtype: float64, test_f1    0.118542\n",
      "dtype: float64, test_f1    0.11562\n",
      "dtype: float64, test_f1    0.115688\n",
      "dtype: float64, test_f1    0.120457\n",
      "dtype: float64, test_f1    0.113012\n",
      "dtype: float64, test_f1    0.115982\n",
      "dtype: float64, test_f1    0.115898\n",
      "dtype: float64, test_f1    0.114643\n",
      "dtype: float64], 'Entites_mention': [test_f1   -0.000374\n",
      "dtype: float64, test_f1    0.000286\n",
      "dtype: float64, test_f1   -0.00217\n",
      "dtype: float64, test_f1    0.001847\n",
      "dtype: float64, test_f1    0.003333\n",
      "dtype: float64, test_f1   -0.002831\n",
      "dtype: float64, test_f1   -0.001575\n",
      "dtype: float64, test_f1    0.001329\n",
      "dtype: float64, test_f1   -0.000308\n",
      "dtype: float64, test_f1   -0.001416\n",
      "dtype: float64], 'Entites_hashtags': [test_f1   -0.001058\n",
      "dtype: float64, test_f1   -0.003318\n",
      "dtype: float64, test_f1   -0.000417\n",
      "dtype: float64, test_f1    0.00007\n",
      "dtype: float64, test_f1    0.000138\n",
      "dtype: float64, test_f1   -0.004138\n",
      "dtype: float64, test_f1   -0.002916\n",
      "dtype: float64, test_f1    0.002165\n",
      "dtype: float64, test_f1    0.001971\n",
      "dtype: float64, test_f1   -0.000278\n",
      "dtype: float64], 'Entites_url': [test_f1    0.000498\n",
      "dtype: float64, test_f1   -0.001139\n",
      "dtype: float64, test_f1   -0.001867\n",
      "dtype: float64, test_f1   -0.003592\n",
      "dtype: float64, test_f1   -0.003868\n",
      "dtype: float64, test_f1   -0.000284\n",
      "dtype: float64, test_f1   -0.003085\n",
      "dtype: float64, test_f1   -0.000027\n",
      "dtype: float64, test_f1   -0.000355\n",
      "dtype: float64, test_f1   -0.000343\n",
      "dtype: float64], 'Followers rate': [test_f1    0.00177\n",
      "dtype: float64, test_f1    0.003069\n",
      "dtype: float64, test_f1   -0.000859\n",
      "dtype: float64, test_f1    0.002385\n",
      "dtype: float64, test_f1   -0.00167\n",
      "dtype: float64, test_f1   -0.002765\n",
      "dtype: float64, test_f1   -0.001593\n",
      "dtype: float64, test_f1   -0.000371\n",
      "dtype: float64, test_f1   -0.00064\n",
      "dtype: float64, test_f1   -0.001928\n",
      "dtype: float64], 'Following rate': [test_f1   -0.002619\n",
      "dtype: float64, test_f1   -0.005297\n",
      "dtype: float64, test_f1   -0.001315\n",
      "dtype: float64, test_f1   -0.001725\n",
      "dtype: float64, test_f1   -0.000151\n",
      "dtype: float64, test_f1   -0.001099\n",
      "dtype: float64, test_f1   -0.002328\n",
      "dtype: float64, test_f1   -0.001681\n",
      "dtype: float64, test_f1   -0.001223\n",
      "dtype: float64, test_f1   -0.002571\n",
      "dtype: float64], 'Activity rate': [test_f1    0.00459\n",
      "dtype: float64, test_f1    0.004332\n",
      "dtype: float64, test_f1    0.008794\n",
      "dtype: float64, test_f1    0.008494\n",
      "dtype: float64, test_f1    0.007177\n",
      "dtype: float64, test_f1    0.004047\n",
      "dtype: float64, test_f1    0.006219\n",
      "dtype: float64, test_f1    0.003542\n",
      "dtype: float64, test_f1    0.010489\n",
      "dtype: float64, test_f1    0.005804\n",
      "dtype: float64], 'Age': [test_f1   -0.014185\n",
      "dtype: float64, test_f1   -0.014576\n",
      "dtype: float64, test_f1   -0.014619\n",
      "dtype: float64, test_f1   -0.014709\n",
      "dtype: float64, test_f1   -0.013533\n",
      "dtype: float64, test_f1   -0.01277\n",
      "dtype: float64, test_f1   -0.012815\n",
      "dtype: float64, test_f1   -0.016137\n",
      "dtype: float64, test_f1   -0.015712\n",
      "dtype: float64, test_f1   -0.014249\n",
      "dtype: float64]}\n"
     ]
    }
   ],
   "source": [
    "columns_not_include = ['poster_tweetid','tweet_label', \n",
    "                       'replier_userid', 'replier_label'\n",
    "                      ]\n",
    "columns_to_keep = list(set(df_stat.columns) - set(columns_not_include))\n",
    "\n",
    "df_1 = df_stat.loc[df_stat['replier_label'] == 1]\n",
    "df_0 = df_stat.loc[df_stat['replier_label'] == 0]\n",
    "\n",
    "df_row = df_0.sample(n=len(df_1))\n",
    "df_all = df_1.append(df_row)\n",
    "\n",
    "X = df_all[columns_to_keep]\n",
    "y = df_all['replier_label']\n",
    "\n",
    "results = plot_permutation_importance(\n",
    "    best_score,\n",
    "    X, y, \n",
    "    feature_groups=grp_feat\n",
    ")"
   ]
  },
  {
   "cell_type": "code",
   "execution_count": 12,
   "id": "d6dba710-db2c-4fb3-b243-ede5b433231f",
   "metadata": {
    "tags": []
   },
   "outputs": [
    {
     "name": "stdout",
     "output_type": "stream",
     "text": [
      "Delay\n",
      "Reply_level_like\n",
      "Reply_level_retweet\n",
      "Reply_level_reply\n",
      "Similarity\n",
      "Entites_mention\n",
      "Entites_hashtags\n",
      "Entites_url\n",
      "Followers rate\n",
      "Following rate\n",
      "Activity rate\n",
      "Age\n"
     ]
    }
   ],
   "source": [
    "# results\n",
    "all_data = {}\n",
    "for key in results:\n",
    "    print(key)\n",
    "    all_data[key] = [ x.values[0] for x in results[key]]\n",
    "    \n",
    "df_test_imp  = pd.DataFrame()\n",
    "\n",
    "for key in all_data:\n",
    "    df_test_imp[key] = all_data[key]\n",
    "    \n",
    "\n",
    "df_test_imp.to_pickle('./../results/replier_model_permutation_test.pkl.gz')"
   ]
  },
  {
   "cell_type": "code",
   "execution_count": 2,
   "id": "79ba821f-eb86-406c-8c0b-100738fe75c2",
   "metadata": {},
   "outputs": [],
   "source": [
    "import pandas as pd\n",
    "\n",
    "df_test_imp = pd.read_pickle(\n",
    "    './../results/replier_model_permutation_test.pkl.gz'\n",
    ")\n",
    "# df_test_imp\n",
    "all_data = {}\n",
    "for col in df_test_imp.columns:\n",
    "    all_data[col] = df_test_imp[col].tolist()"
   ]
  },
  {
   "cell_type": "code",
   "execution_count": 7,
   "id": "48ab39ef-e786-4b9e-b41d-066f206aa013",
   "metadata": {},
   "outputs": [],
   "source": [
    "# all_data"
   ]
  },
  {
   "cell_type": "markdown",
   "id": "bd0fd7df-3b33-413a-b044-b226d2cd0b4a",
   "metadata": {
    "tags": []
   },
   "source": [
    "#### **Plot the features**"
   ]
  },
  {
   "cell_type": "code",
   "execution_count": 3,
   "id": "d3466935-91c8-46d2-ad08-15d93a7d99f3",
   "metadata": {
    "tags": []
   },
   "outputs": [],
   "source": [
    "def assign_color(org_labels):\n",
    "    colors = {'Delay': 'red', \n",
    "              \n",
    "              'Entities_mention': 'blue', \n",
    "              'Entities_hashtags': 'blue', \n",
    "              'Entities_url': 'blue', \n",
    "              \n",
    "              'Similarity': 'teal', \n",
    "              \n",
    "              'Reply_level_reply': 'purple',\n",
    "              'Reply_level_like': 'purple',\n",
    "              'Reply_level_retweet': 'purple',\n",
    "              \n",
    "              'Followers rate': 'green', \n",
    "              'Following rate': 'black', \n",
    "              'Activity rate': 'orange', \n",
    "              'Age': 'yellow'\n",
    "             }\n",
    "    \n",
    "    legends = {'Delay': 'Delay', \n",
    "              \n",
    "              'Entities_mention': 'Entities', \n",
    "              'Entities_hashtags': 'Entities', \n",
    "              'Entities_url': 'Entities', \n",
    "              \n",
    "              'Similarity': 'Similarity', \n",
    "              \n",
    "              'Reply_level_reply': 'Engagement',\n",
    "              'Reply_level_like': 'Engagement',\n",
    "              'Reply_level_retweet': 'Engagement',\n",
    "              \n",
    "              'Followers rate': 'Follower_rate', \n",
    "              'Following rate': 'Following_rate', \n",
    "              'Activity rate': 'Activity_rate', \n",
    "              'Age': 'Age'\n",
    "             }\n",
    "\n",
    "    all_colors = {}\n",
    "    for column in org_labels:\n",
    "        for keys in colors:\n",
    "            if column == 'Entites_mention':\n",
    "                column = 'Entities_mention'\n",
    "            if column == 'Entites_hashtags':\n",
    "                column = 'Entities_hashtags'\n",
    "            if column == 'Entites_url':\n",
    "                column = 'Entities_url'\n",
    "            if column == keys:\n",
    "                all_colors[column] = colors[keys]\n",
    "    \n",
    "    return all_colors, legends"
   ]
  },
  {
   "cell_type": "code",
   "execution_count": 4,
   "id": "c4cce9dc-7fdf-4ec8-bb73-526bb08d1c75",
   "metadata": {
    "tags": []
   },
   "outputs": [],
   "source": [
    "def plot_feature_importance(features_score,\n",
    "                           ax\n",
    "                           ):\n",
    "    all_score = []\n",
    "    org_labels = []\n",
    "    sort_index = []\n",
    "    for feat in features_score:\n",
    "        all_score.append([round(x, 3) for x in features_score[feat]])\n",
    "        sort_index.append(np.mean(np.array(features_score[feat])))\n",
    "        org_labels.append(feat)\n",
    "    index = np.argsort(sort_index)\n",
    "    labels = [org_labels[i] for i in index]\n",
    "    labels_colors, legends = assign_color(labels)\n",
    "    scores = [all_score[i] for i in index]\n",
    "    \n",
    "    print(labels_colors)\n",
    "    \n",
    "    plots = []\n",
    "    plot = ax.boxplot(\n",
    "        scores,\n",
    "        vert=False,\n",
    "        labels=labels,\n",
    "        patch_artist=True\n",
    "        # color=colors,\n",
    "        # fontsize=30\n",
    "    )\n",
    "\n",
    "    plots.append(plot)\n",
    "    \n",
    "    print(labels_colors)\n",
    "    \n",
    "    colors = [labels_colors[x] for x in labels]\n",
    "    index_legends  = [legends[x] for x in labels]\n",
    "    \n",
    "    print(colors)\n",
    "    print(index_legends)\n",
    "    \n",
    "    for i, plot in enumerate(plots):\n",
    "        legend_box = []\n",
    "        color_test = []\n",
    "        sel_names = []\n",
    "        for k, box in enumerate(plot['boxes']):\n",
    "            box.set(color = colors[k],\n",
    "                    linewidth=1)\n",
    "            if colors[k] in color_test:\n",
    "                continue\n",
    "            else:\n",
    "                legend_box.append(box)\n",
    "                color_test.append(colors[k])\n",
    "                sel_names.append(index_legends[k])\n",
    "\n",
    "        ax.legend(legend_box, sel_names, fontsize=24)\n",
    "\n",
    "    ax.axvline(x=0, color=\"k\", linestyle=\"--\")\n",
    "\n",
    "    return ax, org_labels"
   ]
  },
  {
   "cell_type": "code",
   "execution_count": 5,
   "id": "f164c284-f416-4b96-a058-f6edca738e69",
   "metadata": {
    "tags": []
   },
   "outputs": [],
   "source": [
    "import warnings\n",
    "warnings.filterwarnings('ignore')"
   ]
  },
  {
   "cell_type": "code",
   "execution_count": 6,
   "id": "ecffcdb1-4309-4ff6-9785-509c57a2deec",
   "metadata": {
    "tags": []
   },
   "outputs": [
    {
     "data": {
      "text/plain": [
       "dict_keys(['Delay', 'Reply_level_like', 'Reply_level_retweet', 'Reply_level_reply', 'Similarity', 'Entites_mention', 'Entites_hashtags', 'Entites_url', 'Followers rate', 'Following rate', 'Activity rate', 'Age'])"
      ]
     },
     "execution_count": 6,
     "metadata": {},
     "output_type": "execute_result"
    }
   ],
   "source": [
    "all_data.keys()"
   ]
  },
  {
   "cell_type": "code",
   "execution_count": 7,
   "id": "143f3916-796b-4d95-af80-8c9b7095ce3c",
   "metadata": {
    "tags": []
   },
   "outputs": [
    {
     "name": "stdout",
     "output_type": "stream",
     "text": [
      "dict_keys(['Delay', 'Reply_level_like', 'Reply_level_retweet', 'Reply_level_reply', 'Similarity', 'Followers rate', 'Following rate', 'Activity rate', 'Age', 'Entities_mention', 'Entities_url', 'Entities_hashtags'])\n"
     ]
    }
   ],
   "source": [
    "def change_key_name(d, old_key, new_key):\n",
    "    if old_key in d:\n",
    "        d[new_key] = d.pop(old_key)\n",
    "    else:\n",
    "        print(f\"Key '{old_key}' not found in the dictionary.\")\n",
    "\n",
    "change_key_name(all_data, 'Entites_mention',  'Entities_mention')\n",
    "change_key_name(all_data, 'Entites_url',      'Entities_url')\n",
    "change_key_name(all_data, 'Entites_hashtags', 'Entities_hashtags')\n",
    "\n",
    "print(all_data.keys())\n"
   ]
  },
  {
   "cell_type": "code",
   "execution_count": 9,
   "id": "5c35c79b-0a48-41f1-928b-f50272a2caa2",
   "metadata": {
    "tags": []
   },
   "outputs": [
    {
     "name": "stdout",
     "output_type": "stream",
     "text": [
      "{'Age': 'yellow', 'Entities_url': 'blue', 'Following rate': 'black', 'Entities_mention': 'blue', 'Reply_level_retweet': 'purple', 'Reply_level_reply': 'purple', 'Followers rate': 'green', 'Entities_hashtags': 'blue', 'Reply_level_like': 'purple', 'Delay': 'red', 'Activity rate': 'orange', 'Similarity': 'teal'}\n",
      "{'Age': 'yellow', 'Entities_url': 'blue', 'Following rate': 'black', 'Entities_mention': 'blue', 'Reply_level_retweet': 'purple', 'Reply_level_reply': 'purple', 'Followers rate': 'green', 'Entities_hashtags': 'blue', 'Reply_level_like': 'purple', 'Delay': 'red', 'Activity rate': 'orange', 'Similarity': 'teal'}\n",
      "['yellow', 'blue', 'black', 'blue', 'purple', 'purple', 'green', 'blue', 'purple', 'red', 'orange', 'teal']\n",
      "['Age', 'Entities', 'Following_rate', 'Entities', 'Engagement', 'Engagement', 'Follower_rate', 'Entities', 'Engagement', 'Delay', 'Activity_rate', 'Similarity']\n"
     ]
    },
    {
     "data": {
      "image/png": "[encoded data removed]",
      "text/plain": [
       "<Figure size 1200x1000 with 1 Axes>"
      ]
     },
     "metadata": {},
     "output_type": "display_data"
    }
   ],
   "source": [
    "import numpy as np\n",
    "fig, ax = plt.subplots(figsize=(12, 10))\n",
    "\n",
    "ax, labels = plot_feature_importance(all_data,\n",
    "                           ax\n",
    "                           )\n",
    "\n",
    "ax.set_xlabel(\"Decrease in F1 score\", fontsize=36)\n",
    "ax.set_ylabel(\"Feature\", fontsize=36)\n",
    "\n",
    "plt.yticks(fontsize=24)\n",
    "plt.xticks(fontsize=24)\n",
    "\n",
    "ax.figure.tight_layout()\n",
    "\n",
    "fig.savefig(f'./../plots/replier_feat_importance_grp_threshold_fix.png', \n",
    "      facecolor='white', \n",
    "      transparent=False\n",
    "           )\n",
    "plt.show()"
   ]
  },
  {
   "cell_type": "code",
   "execution_count": null,
   "id": "a6c5b637-44b4-4a63-b6e7-396366694cbb",
   "metadata": {},
   "outputs": [],
   "source": []
  }
 ],
 "metadata": {
  "kernelspec": {
   "display_name": "Python 3 (ipykernel)",
   "language": "python",
   "name": "python3"
  },
  "language_info": {
   "codemirror_mode": {
    "name": "ipython",
    "version": 3
   },
   "file_extension": ".py",
   "mimetype": "text/x-python",
   "name": "python",
   "nbconvert_exporter": "python",
   "pygments_lexer": "ipython3",
   "version": "3.12.2"
  }
 },
 "nbformat": 4,
 "nbformat_minor": 5
}
