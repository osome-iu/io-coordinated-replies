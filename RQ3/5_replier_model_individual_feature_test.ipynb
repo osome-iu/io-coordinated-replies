{
 "cells": [
  {
   "cell_type": "markdown",
   "id": "5857f9b0-c3fd-4e9d-ab02-a9f216aa96e7",
   "metadata": {
    "tags": []
   },
   "source": [
    "#### **This notebook tests the different features of user classifier**"
   ]
  },
  {
   "cell_type": "markdown",
   "id": "a2b485a5-8fae-480d-b600-433e8b1e7922",
   "metadata": {},
   "source": [
    "#### **This script test each feature result in replier classifier**"
   ]
  },
  {
   "cell_type": "code",
   "execution_count": 1,
   "id": "704104f9-870d-46c4-a17d-10ccf30f8f8b",
   "metadata": {
    "tags": []
   },
   "outputs": [],
   "source": [
    "import pandas as pd\n",
    "import numpy as np\n",
    "import warnings\n",
    "import matplotlib.pyplot as plt\n",
    "import matplotlib.colors as pltc\n",
    "\n",
    "import importlib\n",
    "\n",
    "#### packages\n",
    "import helper.visualization as vz_hp\n",
    "import config.config as config_hp\n",
    "import helper.stat_helper as stat_hp"
   ]
  },
  {
   "cell_type": "markdown",
   "id": "61df2184-7eb1-4842-a09e-49ac9fa3a6ea",
   "metadata": {},
   "source": [
    "#### **Load replier features**"
   ]
  },
  {
   "cell_type": "code",
   "execution_count": 2,
   "id": "0fdd7ef4-c8ff-4f34-92fe-f2bf3b768cf3",
   "metadata": {
    "tags": []
   },
   "outputs": [],
   "source": [
    "all_feature = './../data/RQ3_replier_classifier_features.csv'\n",
    "\n",
    "df_stat = pd.read_csv(all_feature)"
   ]
  },
  {
   "cell_type": "markdown",
   "id": "357f67bd-1a41-4d9e-a63c-7d335e09b374",
   "metadata": {
    "tags": []
   },
   "source": [
    "#### **Functions**"
   ]
  },
  {
   "cell_type": "code",
   "execution_count": 9,
   "id": "fe4bab98-99b8-47d9-a47b-774849180017",
   "metadata": {
    "tags": []
   },
   "outputs": [],
   "source": [
    "def test(df_test, all_result, feat):\n",
    "    '''\n",
    "    Runs 10 fold cross validation in 10 different dataset with\n",
    "    different algorithm\n",
    "    :param df_stat: Dataframe with features\n",
    "    :param alo_list: List of algorithms to try\n",
    "    :param filename: Filename to save the result\n",
    "\n",
    "    '''\n",
    "    df_1 = df_test.loc[df_test['replier_label'] == 1]\n",
    "    df_0 = df_test.loc[df_test['replier_label'] == 0]\n",
    "    \n",
    "    for i in range(0,10):\n",
    "        df_sample = df_0.sample(len(df_1), random_state=i)\n",
    "\n",
    "        df_0 = df_0.loc[~df_0['replier_userid'].isin(\n",
    "            df_sample['replier_userid']\n",
    "        )]\n",
    "\n",
    "        df_all = df_1.append(df_sample)\n",
    "\n",
    "        total_col = len(df_all.columns) - 2\n",
    "\n",
    "        df_result = \\\n",
    "    stat_hp.run_model_with_best_threshold(df_test,\n",
    "                      columns_not_include=[],\n",
    "                      model_type='random', \n",
    "                      y_column = 'replier_label',\n",
    "                      filename=None,\n",
    "                     )\n",
    "\n",
    "        df_result['feature'] = feat\n",
    "        df_result['index'] = i\n",
    "        \n",
    "        all_result.append(df_result)\n",
    "        \n",
    "        print(i)\n",
    "        \n",
    "    return all_result"
   ]
  },
  {
   "cell_type": "code",
   "execution_count": 10,
   "id": "35e80674-7ca2-44ad-9e89-bc2ae2449571",
   "metadata": {
    "tags": []
   },
   "outputs": [],
   "source": [
    "def individual_feature_test(df_stat, filename):\n",
    "    '''\n",
    "    Groups individual feature set and runs the 10 fold CV test \n",
    "    for each feature set\n",
    "    :param df_stat: Feature dataframe\n",
    "    :param filename: file to save the result\n",
    "    '''\n",
    "    diff_features = {'Delay': 'diff_min',\n",
    "                     'Engagement': 'like_count|retweet_count|reply_count',\n",
    "                     'Similarity': 'cosine',\n",
    "                     'Entites': 'mention|hashtags|url',\n",
    "\n",
    "                     'Followers rate': 'followers_ratio',\n",
    "                     'Following rate': 'following_ratio',\n",
    "                     'Activity rate': 'activity_rate',\n",
    "                     'Age': 'age'\n",
    "                    }\n",
    "\n",
    "    all_result = []\n",
    "    for feature in diff_features:\n",
    "        print(f'********** {feature} ***********')\n",
    "        feat = diff_features[feature] + '|replier_label|replier_userid'\n",
    "\n",
    "        df_filtered = df_stat.filter(regex=feat, axis=1)\n",
    "\n",
    "        print(df_filtered.columns)\n",
    "\n",
    "        all_result = test(df_filtered, all_result, feature)\n",
    "        \n",
    "        # break\n",
    "\n",
    "    (pd.concat(all_result, ignore_index=True)\n",
    "    ).to_pickle(filename)"
   ]
  },
  {
   "cell_type": "markdown",
   "id": "2da02f5c-3b6f-41fe-b8bb-d26a1add5e84",
   "metadata": {},
   "source": [
    "#### **Run function**"
   ]
  },
  {
   "cell_type": "code",
   "execution_count": null,
   "id": "43ee8ccc-298e-4c3a-b038-72bd2cbf6fc4",
   "metadata": {
    "tags": []
   },
   "outputs": [],
   "source": [
    "filename = './../results/different_feature_result_replier_classifier.pkl.gz'\n",
    "individual_feature_test(df_stat, filename)"
   ]
  },
  {
   "cell_type": "markdown",
   "id": "854179bf-6806-4115-b0cf-4c40319d255f",
   "metadata": {
    "tags": []
   },
   "source": [
    "#### **Load results**"
   ]
  },
  {
   "cell_type": "code",
   "execution_count": 19,
   "id": "608c8c89-acf5-4065-bb1c-125c234b1c68",
   "metadata": {
    "tags": []
   },
   "outputs": [],
   "source": [
    "filename = './../results/data/different_feature_result_replier_classifier.pkl.gz'\n",
    "\n",
    "df_diff_feat = pd.read_pickle(filename)"
   ]
  },
  {
   "cell_type": "code",
   "execution_count": 22,
   "id": "706ac93c-f718-472a-9df2-bddfd553acb6",
   "metadata": {
    "tags": []
   },
   "outputs": [
    {
     "data": {
      "text/html": [
       "<div>\n",
       "<style scoped>\n",
       "    .dataframe tbody tr th:only-of-type {\n",
       "        vertical-align: middle;\n",
       "    }\n",
       "\n",
       "    .dataframe tbody tr th {\n",
       "        vertical-align: top;\n",
       "    }\n",
       "\n",
       "    .dataframe thead th {\n",
       "        text-align: right;\n",
       "    }\n",
       "</style>\n",
       "<table border=\"1\" class=\"dataframe\">\n",
       "  <thead>\n",
       "    <tr style=\"text-align: right;\">\n",
       "      <th></th>\n",
       "      <th>total_data</th>\n",
       "      <th>mean_precision</th>\n",
       "      <th>mean_recall</th>\n",
       "      <th>mean_f1</th>\n",
       "      <th>mean_auc</th>\n",
       "      <th>index</th>\n",
       "    </tr>\n",
       "    <tr>\n",
       "      <th>feature</th>\n",
       "      <th></th>\n",
       "      <th></th>\n",
       "      <th></th>\n",
       "      <th></th>\n",
       "      <th></th>\n",
       "      <th></th>\n",
       "    </tr>\n",
       "  </thead>\n",
       "  <tbody>\n",
       "    <tr>\n",
       "      <th>Activity rate</th>\n",
       "      <td>1.0</td>\n",
       "      <td>0.605</td>\n",
       "      <td>0.630</td>\n",
       "      <td>0.615</td>\n",
       "      <td>0.650</td>\n",
       "      <td>4.5</td>\n",
       "    </tr>\n",
       "    <tr>\n",
       "      <th>Age</th>\n",
       "      <td>1.0</td>\n",
       "      <td>0.581</td>\n",
       "      <td>0.666</td>\n",
       "      <td>0.611</td>\n",
       "      <td>0.663</td>\n",
       "      <td>4.5</td>\n",
       "    </tr>\n",
       "    <tr>\n",
       "      <th>Delay</th>\n",
       "      <td>9.0</td>\n",
       "      <td>0.577</td>\n",
       "      <td>0.602</td>\n",
       "      <td>0.587</td>\n",
       "      <td>0.620</td>\n",
       "      <td>4.5</td>\n",
       "    </tr>\n",
       "    <tr>\n",
       "      <th>Engagement</th>\n",
       "      <td>27.0</td>\n",
       "      <td>0.573</td>\n",
       "      <td>0.574</td>\n",
       "      <td>0.531</td>\n",
       "      <td>0.587</td>\n",
       "      <td>4.5</td>\n",
       "    </tr>\n",
       "    <tr>\n",
       "      <th>Entites</th>\n",
       "      <td>27.0</td>\n",
       "      <td>0.635</td>\n",
       "      <td>0.504</td>\n",
       "      <td>0.537</td>\n",
       "      <td>0.631</td>\n",
       "      <td>4.5</td>\n",
       "    </tr>\n",
       "    <tr>\n",
       "      <th>Followers rate</th>\n",
       "      <td>1.0</td>\n",
       "      <td>0.555</td>\n",
       "      <td>0.519</td>\n",
       "      <td>0.536</td>\n",
       "      <td>0.564</td>\n",
       "      <td>4.5</td>\n",
       "    </tr>\n",
       "    <tr>\n",
       "      <th>Following rate</th>\n",
       "      <td>1.0</td>\n",
       "      <td>0.546</td>\n",
       "      <td>0.520</td>\n",
       "      <td>0.532</td>\n",
       "      <td>0.560</td>\n",
       "      <td>4.5</td>\n",
       "    </tr>\n",
       "    <tr>\n",
       "      <th>Similarity</th>\n",
       "      <td>9.0</td>\n",
       "      <td>0.856</td>\n",
       "      <td>0.841</td>\n",
       "      <td>0.848</td>\n",
       "      <td>0.929</td>\n",
       "      <td>4.5</td>\n",
       "    </tr>\n",
       "  </tbody>\n",
       "</table>\n",
       "</div>"
      ],
      "text/plain": [
       "                total_data  mean_precision  mean_recall  mean_f1  mean_auc  \\\n",
       "feature                                                                      \n",
       "Activity rate          1.0           0.605        0.630    0.615     0.650   \n",
       "Age                    1.0           0.581        0.666    0.611     0.663   \n",
       "Delay                  9.0           0.577        0.602    0.587     0.620   \n",
       "Engagement            27.0           0.573        0.574    0.531     0.587   \n",
       "Entites               27.0           0.635        0.504    0.537     0.631   \n",
       "Followers rate         1.0           0.555        0.519    0.536     0.564   \n",
       "Following rate         1.0           0.546        0.520    0.532     0.560   \n",
       "Similarity             9.0           0.856        0.841    0.848     0.929   \n",
       "\n",
       "                index  \n",
       "feature                \n",
       "Activity rate     4.5  \n",
       "Age               4.5  \n",
       "Delay             4.5  \n",
       "Engagement        4.5  \n",
       "Entites           4.5  \n",
       "Followers rate    4.5  \n",
       "Following rate    4.5  \n",
       "Similarity        4.5  "
      ]
     },
     "execution_count": 22,
     "metadata": {},
     "output_type": "execute_result"
    }
   ],
   "source": [
    "df_diff_feat.groupby('feature').mean()"
   ]
  }
 ],
 "metadata": {
  "kernelspec": {
   "display_name": "Python 3 (ipykernel)",
   "language": "python",
   "name": "python3"
  },
  "language_info": {
   "codemirror_mode": {
    "name": "ipython",
    "version": 3
   },
   "file_extension": ".py",
   "mimetype": "text/x-python",
   "name": "python",
   "nbconvert_exporter": "python",
   "pygments_lexer": "ipython3",
   "version": "3.12.2"
  }
 },
 "nbformat": 4,
 "nbformat_minor": 5
}
