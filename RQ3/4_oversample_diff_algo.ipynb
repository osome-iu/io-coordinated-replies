{
 "cells": [
  {
   "cell_type": "markdown",
   "id": "3bbbf367-59e6-4207-8420-e61cfc39cde9",
   "metadata": {},
   "source": [
    "#### **This notebook combines the features for user.**"
   ]
  },
  {
   "cell_type": "code",
   "execution_count": 1,
   "id": "f3b71b9e-a6cb-420b-b709-baadc242ac3e",
   "metadata": {
    "tags": []
   },
   "outputs": [],
   "source": [
    "import pandas as pd\n",
    "import numpy as np\n",
    "\n",
    "\n",
    "import importlib\n",
    "\n",
    "#### packages\n",
    "import helper.strategy_helper as st_hp\n",
    "import helper.visualization as vz_hp"
   ]
  },
  {
   "cell_type": "markdown",
   "id": "1bce71d0-8946-4bed-8636-af2a5558810d",
   "metadata": {
    "tags": []
   },
   "source": [
    "#### **Load files**"
   ]
  },
  {
   "cell_type": "code",
   "execution_count": 2,
   "id": "a3760681-c2f6-4e81-9511-4f47e8f4bc7c",
   "metadata": {
    "tags": []
   },
   "outputs": [],
   "source": [
    "all_feature = './../data/replier_classifier_features.pkl.gz'\n",
    "\n",
    "df_stat = pd.read_pickle(all_feature)"
   ]
  },
  {
   "cell_type": "markdown",
   "id": "ce2c98b0-892f-47cc-bd66-e0aae23f9b23",
   "metadata": {},
   "source": [
    "#### **Different Algorithms**"
   ]
  },
  {
   "cell_type": "code",
   "execution_count": 3,
   "id": "02c7edf4-9537-4dbb-a552-28979f10212b",
   "metadata": {
    "tags": []
   },
   "outputs": [],
   "source": [
    "import helper.stat_helper as stat_hp\n",
    "importlib.reload(stat_hp)\n",
    "\n",
    "def train_test(df_stat, algo_list, filename=None):\n",
    "    all_cv_scores = []\n",
    "    for algo in algo_list:\n",
    "        cv_results_tuned_model = \\\n",
    "        stat_hp.run_oversample_model_with_best_threshold(\n",
    "            df_stat,\n",
    "            columns_not_include=['list_age'],\n",
    "            model_type=algo, \n",
    "            y_column = 'replier_label',\n",
    "            filename=None,\n",
    "        )\n",
    "\n",
    "        all_cv_scores.append(cv_results_tuned_model)\n",
    "\n",
    "    (pd.concat(all_cv_scores)\n",
    "    ).to_pickle(filename)"
   ]
  },
  {
   "cell_type": "code",
   "execution_count": 4,
   "id": "4eebc2ce-de07-49fd-a9f7-eead90aa038f",
   "metadata": {
    "tags": []
   },
   "outputs": [],
   "source": [
    "# filename ='./../results/replier_classifier_different_algorithm_oversample.pkl.gz'\n",
    "\n",
    "# algo_list = ['logistic', 'random', 'ada', 'tree', 'naive']\n",
    "\n",
    "# importlib.reload(stat_hp)\n",
    "\n",
    "# train_test(df_stat, algo_list, filename=filename)"
   ]
  },
  {
   "cell_type": "code",
   "execution_count": 5,
   "id": "59b8a7f8-b1bc-4bca-8529-83ce3765490e",
   "metadata": {
    "tags": []
   },
   "outputs": [],
   "source": [
    "filename ='./../results/replier_classifier_different_algorithm_oversample.pkl.gz'\n",
    "\n",
    "df_result = pd.read_pickle(filename)"
   ]
  },
  {
   "cell_type": "code",
   "execution_count": 6,
   "id": "589802d5-8746-4348-a3d9-a2c7294c931c",
   "metadata": {
    "tags": []
   },
   "outputs": [
    {
     "data": {
      "text/plain": [
       "Index(['fit_time', 'score_time', 'estimator', 'test_precision',\n",
       "       'train_precision', 'test_recall', 'train_recall', 'test_f1', 'train_f1',\n",
       "       'test_roc_auc', 'train_roc_auc', 'threshold', 'algorithm'],\n",
       "      dtype='object')"
      ]
     },
     "execution_count": 6,
     "metadata": {},
     "output_type": "execute_result"
    }
   ],
   "source": [
    "df_result.columns"
   ]
  },
  {
   "cell_type": "code",
   "execution_count": 7,
   "id": "4da320c0-3d59-45b7-a2ee-1df873a04608",
   "metadata": {},
   "outputs": [
    {
     "data": {
      "text/html": [
       "<div>\n",
       "<style scoped>\n",
       "    .dataframe tbody tr th:only-of-type {\n",
       "        vertical-align: middle;\n",
       "    }\n",
       "\n",
       "    .dataframe tbody tr th {\n",
       "        vertical-align: top;\n",
       "    }\n",
       "\n",
       "    .dataframe thead th {\n",
       "        text-align: right;\n",
       "    }\n",
       "</style>\n",
       "<table border=\"1\" class=\"dataframe\">\n",
       "  <thead>\n",
       "    <tr style=\"text-align: right;\">\n",
       "      <th></th>\n",
       "      <th>fit_time</th>\n",
       "      <th>score_time</th>\n",
       "      <th>estimator</th>\n",
       "      <th>test_precision</th>\n",
       "      <th>train_precision</th>\n",
       "      <th>test_recall</th>\n",
       "      <th>train_recall</th>\n",
       "      <th>test_f1</th>\n",
       "      <th>train_f1</th>\n",
       "      <th>test_roc_auc</th>\n",
       "      <th>train_roc_auc</th>\n",
       "      <th>threshold</th>\n",
       "      <th>algorithm</th>\n",
       "    </tr>\n",
       "  </thead>\n",
       "  <tbody>\n",
       "    <tr>\n",
       "      <th>0</th>\n",
       "      <td>126.046771</td>\n",
       "      <td>0.301372</td>\n",
       "      <td>TunedThresholdClassifierCV(estimator=Pipeline(...</td>\n",
       "      <td>0.276804</td>\n",
       "      <td>0.293181</td>\n",
       "      <td>0.442634</td>\n",
       "      <td>0.468057</td>\n",
       "      <td>0.340607</td>\n",
       "      <td>0.360532</td>\n",
       "      <td>0.936596</td>\n",
       "      <td>0.940206</td>\n",
       "      <td>0.959596</td>\n",
       "      <td>logistic</td>\n",
       "    </tr>\n",
       "    <tr>\n",
       "      <th>1</th>\n",
       "      <td>121.280656</td>\n",
       "      <td>0.409810</td>\n",
       "      <td>TunedThresholdClassifierCV(estimator=Pipeline(...</td>\n",
       "      <td>0.279137</td>\n",
       "      <td>0.271700</td>\n",
       "      <td>0.505867</td>\n",
       "      <td>0.493807</td>\n",
       "      <td>0.359759</td>\n",
       "      <td>0.350532</td>\n",
       "      <td>0.940030</td>\n",
       "      <td>0.938991</td>\n",
       "      <td>0.949495</td>\n",
       "      <td>logistic</td>\n",
       "    </tr>\n",
       "    <tr>\n",
       "      <th>2</th>\n",
       "      <td>125.552725</td>\n",
       "      <td>0.318391</td>\n",
       "      <td>TunedThresholdClassifierCV(estimator=Pipeline(...</td>\n",
       "      <td>0.269176</td>\n",
       "      <td>0.269056</td>\n",
       "      <td>0.494133</td>\n",
       "      <td>0.492992</td>\n",
       "      <td>0.348506</td>\n",
       "      <td>0.348121</td>\n",
       "      <td>0.943401</td>\n",
       "      <td>0.938680</td>\n",
       "      <td>0.949495</td>\n",
       "      <td>logistic</td>\n",
       "    </tr>\n",
       "    <tr>\n",
       "      <th>3</th>\n",
       "      <td>124.444878</td>\n",
       "      <td>0.317353</td>\n",
       "      <td>TunedThresholdClassifierCV(estimator=Pipeline(...</td>\n",
       "      <td>0.285539</td>\n",
       "      <td>0.281788</td>\n",
       "      <td>0.454368</td>\n",
       "      <td>0.464472</td>\n",
       "      <td>0.350692</td>\n",
       "      <td>0.350769</td>\n",
       "      <td>0.930268</td>\n",
       "      <td>0.941545</td>\n",
       "      <td>0.959596</td>\n",
       "      <td>logistic</td>\n",
       "    </tr>\n",
       "    <tr>\n",
       "      <th>4</th>\n",
       "      <td>84.748517</td>\n",
       "      <td>0.269426</td>\n",
       "      <td>TunedThresholdClassifierCV(estimator=Pipeline(...</td>\n",
       "      <td>0.261637</td>\n",
       "      <td>0.260760</td>\n",
       "      <td>0.531291</td>\n",
       "      <td>0.521349</td>\n",
       "      <td>0.350613</td>\n",
       "      <td>0.347642</td>\n",
       "      <td>0.942552</td>\n",
       "      <td>0.938580</td>\n",
       "      <td>0.939394</td>\n",
       "      <td>logistic</td>\n",
       "    </tr>\n",
       "  </tbody>\n",
       "</table>\n",
       "</div>"
      ],
      "text/plain": [
       "     fit_time  score_time                                          estimator  \\\n",
       "0  126.046771    0.301372  TunedThresholdClassifierCV(estimator=Pipeline(...   \n",
       "1  121.280656    0.409810  TunedThresholdClassifierCV(estimator=Pipeline(...   \n",
       "2  125.552725    0.318391  TunedThresholdClassifierCV(estimator=Pipeline(...   \n",
       "3  124.444878    0.317353  TunedThresholdClassifierCV(estimator=Pipeline(...   \n",
       "4   84.748517    0.269426  TunedThresholdClassifierCV(estimator=Pipeline(...   \n",
       "\n",
       "   test_precision  train_precision  test_recall  train_recall   test_f1  \\\n",
       "0        0.276804         0.293181     0.442634      0.468057  0.340607   \n",
       "1        0.279137         0.271700     0.505867      0.493807  0.359759   \n",
       "2        0.269176         0.269056     0.494133      0.492992  0.348506   \n",
       "3        0.285539         0.281788     0.454368      0.464472  0.350692   \n",
       "4        0.261637         0.260760     0.531291      0.521349  0.350613   \n",
       "\n",
       "   train_f1  test_roc_auc  train_roc_auc  threshold algorithm  \n",
       "0  0.360532      0.936596       0.940206   0.959596  logistic  \n",
       "1  0.350532      0.940030       0.938991   0.949495  logistic  \n",
       "2  0.348121      0.943401       0.938680   0.949495  logistic  \n",
       "3  0.350769      0.930268       0.941545   0.959596  logistic  \n",
       "4  0.347642      0.942552       0.938580   0.939394  logistic  "
      ]
     },
     "execution_count": 7,
     "metadata": {},
     "output_type": "execute_result"
    }
   ],
   "source": [
    "df_result.head()"
   ]
  },
  {
   "cell_type": "code",
   "execution_count": 8,
   "id": "65fec861-6cb1-44c0-9bbd-e89f1d7b37d6",
   "metadata": {
    "tags": []
   },
   "outputs": [],
   "source": [
    "columns = ['algorithm', 'test_precision', \n",
    "           'test_recall', 'test_f1', 'test_roc_auc']\n",
    "df_mean = df_result[columns].groupby(['algorithm']).mean()"
   ]
  },
  {
   "cell_type": "code",
   "execution_count": 10,
   "id": "e4763bde-f20d-41ef-8083-95cdb33fc74a",
   "metadata": {},
   "outputs": [
    {
     "data": {
      "text/html": [
       "<div>\n",
       "<style scoped>\n",
       "    .dataframe tbody tr th:only-of-type {\n",
       "        vertical-align: middle;\n",
       "    }\n",
       "\n",
       "    .dataframe tbody tr th {\n",
       "        vertical-align: top;\n",
       "    }\n",
       "\n",
       "    .dataframe thead th {\n",
       "        text-align: right;\n",
       "    }\n",
       "</style>\n",
       "<table border=\"1\" class=\"dataframe\">\n",
       "  <thead>\n",
       "    <tr style=\"text-align: right;\">\n",
       "      <th></th>\n",
       "      <th>test_precision</th>\n",
       "      <th>test_recall</th>\n",
       "      <th>test_f1</th>\n",
       "      <th>test_roc_auc</th>\n",
       "    </tr>\n",
       "    <tr>\n",
       "      <th>algorithm</th>\n",
       "      <th></th>\n",
       "      <th></th>\n",
       "      <th></th>\n",
       "      <th></th>\n",
       "    </tr>\n",
       "  </thead>\n",
       "  <tbody>\n",
       "    <tr>\n",
       "      <th>ada</th>\n",
       "      <td>0.473784</td>\n",
       "      <td>0.546415</td>\n",
       "      <td>0.505505</td>\n",
       "      <td>0.961757</td>\n",
       "    </tr>\n",
       "    <tr>\n",
       "      <th>logistic</th>\n",
       "      <td>0.274459</td>\n",
       "      <td>0.485658</td>\n",
       "      <td>0.350035</td>\n",
       "      <td>0.938570</td>\n",
       "    </tr>\n",
       "    <tr>\n",
       "      <th>naive</th>\n",
       "      <td>0.058188</td>\n",
       "      <td>0.503781</td>\n",
       "      <td>0.103773</td>\n",
       "      <td>0.865603</td>\n",
       "    </tr>\n",
       "    <tr>\n",
       "      <th>random</th>\n",
       "      <td>0.706654</td>\n",
       "      <td>0.719166</td>\n",
       "      <td>0.712803</td>\n",
       "      <td>0.963493</td>\n",
       "    </tr>\n",
       "    <tr>\n",
       "      <th>tree</th>\n",
       "      <td>0.554962</td>\n",
       "      <td>0.513690</td>\n",
       "      <td>0.533294</td>\n",
       "      <td>0.754838</td>\n",
       "    </tr>\n",
       "  </tbody>\n",
       "</table>\n",
       "</div>"
      ],
      "text/plain": [
       "           test_precision  test_recall   test_f1  test_roc_auc\n",
       "algorithm                                                     \n",
       "ada              0.473784     0.546415  0.505505      0.961757\n",
       "logistic         0.274459     0.485658  0.350035      0.938570\n",
       "naive            0.058188     0.503781  0.103773      0.865603\n",
       "random           0.706654     0.719166  0.712803      0.963493\n",
       "tree             0.554962     0.513690  0.533294      0.754838"
      ]
     },
     "execution_count": 10,
     "metadata": {},
     "output_type": "execute_result"
    }
   ],
   "source": [
    "df_mean[\n",
    "    ['test_precision', 'test_recall', 'test_f1', 'test_roc_auc']\n",
    "]"
   ]
  },
  {
   "cell_type": "markdown",
   "id": "0b199fd2-d7df-4d05-884f-89bdd137c093",
   "metadata": {},
   "source": [
    "#### **Oversampling: Standard Error**"
   ]
  },
  {
   "cell_type": "code",
   "execution_count": 11,
   "id": "9304b613-913e-4973-9548-cbd1e893dfaa",
   "metadata": {},
   "outputs": [
    {
     "data": {
      "text/plain": [
       "<module 'helper.stat_helper' from '/N/slate/potem/project/infoOps-strategy/package/helper/stat_helper.py'>"
      ]
     },
     "execution_count": 11,
     "metadata": {},
     "output_type": "execute_result"
    }
   ],
   "source": [
    "import helper.stat_helper as stat_hp\n",
    "importlib.reload(stat_hp)"
   ]
  },
  {
   "cell_type": "code",
   "execution_count": 12,
   "id": "9daf2185-84d2-4e38-a1b9-1de0620da9e4",
   "metadata": {},
   "outputs": [
    {
     "name": "stdout",
     "output_type": "stream",
     "text": [
      "Algorithm : ada\n",
      "Mean precision: 0.474 ± standard error 0.015161990242015333\n",
      "Mean recall: 0.546 ± standard error 0.015042039163403928\n",
      "Mean f1: 0.506 ± standard error 0.006219580412010177\n",
      "Mean AUC: 0.962 ± standard error 0.0015037476462861445\n",
      "\n",
      " ******************** \n",
      "\n",
      "\n",
      "Algorithm : logistic\n",
      "Mean precision: 0.274 ± standard error 0.0037010574807436122\n",
      "Mean recall: 0.486 ± standard error 0.014687079547993677\n",
      "Mean f1: 0.350 ± standard error 0.002731640986141713\n",
      "Mean AUC: 0.939 ± standard error 0.0021367848408948074\n",
      "\n",
      " ******************** \n",
      "\n",
      "\n",
      "Algorithm : naive\n",
      "Mean precision: 0.058 ± standard error 0.002706529979451899\n",
      "Mean recall: 0.504 ± standard error 0.030188878615573057\n",
      "Mean f1: 0.104 ± standard error 0.003718219167286422\n",
      "Mean AUC: 0.866 ± standard error 0.0014663885880985296\n",
      "\n",
      " ******************** \n",
      "\n",
      "\n",
      "Algorithm : random\n",
      "Mean precision: 0.707 ± standard error 0.004066695483501059\n",
      "Mean recall: 0.719 ± standard error 0.0064412585711308016\n",
      "Mean f1: 0.713 ± standard error 0.004629005104659367\n",
      "Mean AUC: 0.963 ± standard error 0.0015024472622212788\n",
      "\n",
      " ******************** \n",
      "\n",
      "\n",
      "Algorithm : tree\n",
      "Mean precision: 0.555 ± standard error 0.008038416722590596\n",
      "Mean recall: 0.514 ± standard error 0.012552912544366003\n",
      "Mean f1: 0.533 ± standard error 0.009584973401483716\n",
      "Mean AUC: 0.755 ± standard error 0.006269335252177651\n",
      "\n",
      " ******************** \n",
      "\n",
      "\n"
     ]
    }
   ],
   "source": [
    "df_grp = (df_result\n",
    "          .groupby(['algorithm'])\n",
    "         )\n",
    "\n",
    "for grp, df_values in df_grp:\n",
    "    print('Algorithm :', grp[0])\n",
    "    mean_precision, std_prec = stat_hp.print_standard_error(df_values['test_precision'],\n",
    "                                                    'precision'\n",
    "                                                   )\n",
    "\n",
    "    mean_recall , std_recall = stat_hp.print_standard_error(df_values['test_recall'],\n",
    "                                                    'recall'\n",
    "                                                   )\n",
    "    mean_f1 , std_f1 = stat_hp.print_standard_error(df_values['test_f1'],\n",
    "                                            'f1'\n",
    "                                           )\n",
    "    mean_auc , std_auc = stat_hp.print_standard_error(df_values['test_roc_auc'],\n",
    "                                              'AUC'\n",
    "                                             )\n",
    "\n",
    "    print('\\n ******************** \\n\\n')"
   ]
  },
  {
   "cell_type": "code",
   "execution_count": null,
   "id": "77adcd21-4ed1-46ad-bdf0-fcdc8cdeece2",
   "metadata": {},
   "outputs": [],
   "source": []
  }
 ],
 "metadata": {
  "kernelspec": {
   "display_name": "Python 3 (ipykernel)",
   "language": "python",
   "name": "python3"
  },
  "language_info": {
   "codemirror_mode": {
    "name": "ipython",
    "version": 3
   },
   "file_extension": ".py",
   "mimetype": "text/x-python",
   "name": "python",
   "nbconvert_exporter": "python",
   "pygments_lexer": "ipython3",
   "version": "3.12.2"
  }
 },
 "nbformat": 4,
 "nbformat_minor": 5
}
