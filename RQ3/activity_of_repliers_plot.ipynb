{
 "cells": [
  {
   "cell_type": "code",
   "execution_count": 1,
   "id": "d48292b5-82c2-4ee1-952c-b4b53e89886b",
   "metadata": {},
   "outputs": [],
   "source": [
    "#Volume of tweets, retweets, quote counts"
   ]
  },
  {
   "cell_type": "code",
   "execution_count": 2,
   "id": "afbf1f48-65cc-4b8c-ab12-5e4b36de905d",
   "metadata": {},
   "outputs": [],
   "source": [
    "#similarity of replies"
   ]
  },
  {
   "cell_type": "markdown",
   "id": "759b0579-54f9-4dd0-b6d7-ccca0c16d751",
   "metadata": {},
   "source": [
    "#### **This notebook checks the activity difference**"
   ]
  },
  {
   "cell_type": "code",
   "execution_count": 2,
   "id": "6dae1f9a-50a6-430f-95ed-13c1042cbe2b",
   "metadata": {
    "tags": []
   },
   "outputs": [],
   "source": [
    "import pandas as pd\n",
    "import numpy as np\n",
    "import datetime\n",
    "import warnings\n",
    "import glob\n",
    "import seaborn as sns\n",
    "import matplotlib.pyplot as plt\n",
    "import matplotlib.colors as pltc\n",
    "from tqdm import tqdm\n",
    "import sys\n",
    "import os\n",
    "import re\n",
    "\n",
    "import importlib\n",
    "\n",
    "#### packages\n",
    "import helper.strategy_helper as st_hp\n",
    "import helper.visualization as vz_hp\n",
    "import helper.helper as hp\n",
    "import helper.file_helper as file_hp\n",
    "import config.config as config_hp\n",
    "import helper.twitter_helper as twitter_hp\n",
    "import helper.pandas_helper as pd_hp"
   ]
  },
  {
   "cell_type": "markdown",
   "id": "fd976943-2134-41e4-904d-3ff11e4ed25f",
   "metadata": {
    "jp-MarkdownHeadingCollapsed": true,
    "tags": []
   },
   "source": [
    "#### **Load data**"
   ]
  },
  {
   "cell_type": "code",
   "execution_count": 48,
   "id": "fcf4ac5a-1e6c-4b69-9692-81eefc6d1e71",
   "metadata": {
    "tags": []
   },
   "outputs": [
    {
     "data": {
      "text/plain": [
       "Index(['tweet_text', 'conversation_id', 'replier_tweetid', 'replier_userid',\n",
       "       'poster_userid', 'poster_tweetid', 'tweet_time', 'tweet_language',\n",
       "       'replier_label', 'year', 'campaign', 'tweet_label', 'tweet_time_year'],\n",
       "      dtype='object')"
      ]
     },
     "execution_count": 48,
     "metadata": {},
     "output_type": "execute_result"
    }
   ],
   "source": [
    "config = config_hp.config()\n",
    "balanced = config['COMBINED']\n",
    "\n",
    "pos_replier = balanced['io_conversation']\n",
    "\n",
    "df_pos = pd.read_pickle(pos_replier)\n",
    "\n",
    "df_pos.columns"
   ]
  },
  {
   "cell_type": "code",
   "execution_count": 50,
   "id": "e67ddc72-4bd3-48f7-89ea-ce5c65c6b696",
   "metadata": {
    "tags": []
   },
   "outputs": [
    {
     "data": {
      "text/plain": [
       "19436"
      ]
     },
     "execution_count": 50,
     "metadata": {},
     "output_type": "execute_result"
    }
   ],
   "source": [
    "df_pos.loc[df_pos['replier_label'] == 1]['replier_userid'].nunique()"
   ]
  },
  {
   "cell_type": "code",
   "execution_count": 51,
   "id": "a12383fd-204c-4e5a-9296-598008a393c4",
   "metadata": {
    "tags": []
   },
   "outputs": [],
   "source": [
    "# config = config_hp.config()\n",
    "# balanced = config['BALANCED']\n",
    "\n",
    "# pos_replier = balanced['balanced_pos_replier']\n",
    "\n",
    "# df_pos = pd.read_pickle(pos_replier)\n",
    "\n",
    "# df_pos.columns"
   ]
  },
  {
   "cell_type": "code",
   "execution_count": 5,
   "id": "0f7df167-5a1a-4c33-b745-d6e0ca0d56a0",
   "metadata": {
    "tags": []
   },
   "outputs": [],
   "source": [
    "# df_pos.info()"
   ]
  },
  {
   "cell_type": "code",
   "execution_count": 52,
   "id": "0f60cbc1-ee5a-4aec-8632-6a8efb33821e",
   "metadata": {
    "tags": []
   },
   "outputs": [],
   "source": [
    "df_pos['replier_userid'] = df_pos['replier_userid'].astype(int)"
   ]
  },
  {
   "cell_type": "code",
   "execution_count": 53,
   "id": "59d58ada-035c-4868-89d8-8ff6b1a1c25e",
   "metadata": {
    "tags": []
   },
   "outputs": [],
   "source": [
    "df_pos_1 = df_pos.loc[df_pos['replier_label'] == 1]['replier_userid']"
   ]
  },
  {
   "cell_type": "code",
   "execution_count": 54,
   "id": "0d937aa4-ebaa-4eaf-be8f-ac2e19296e7a",
   "metadata": {
    "tags": []
   },
   "outputs": [],
   "source": [
    "df_pos_0 = df_pos.loc[df_pos['replier_label'] == 0]['replier_userid']"
   ]
  },
  {
   "cell_type": "markdown",
   "id": "3ad7c750-1163-4203-a73d-0cf6c4456f5c",
   "metadata": {
    "jp-MarkdownHeadingCollapsed": true,
    "tags": []
   },
   "source": [
    "#### **POS retweet, org tweet, quote**"
   ]
  },
  {
   "cell_type": "code",
   "execution_count": 55,
   "id": "4c349ca3-917a-402b-bd25-843764d04d62",
   "metadata": {
    "tags": []
   },
   "outputs": [],
   "source": [
    "all_campaigns = st_hp.bundle_campaign(bundle=False)"
   ]
  },
  {
   "cell_type": "code",
   "execution_count": 56,
   "id": "b4459e11-968a-4b70-8774-391c81130b67",
   "metadata": {
    "tags": []
   },
   "outputs": [],
   "source": [
    "config = config_hp.config()\n",
    "path = config['PATHS']\n",
    "\n",
    "derived_path = path['derived_path']\n",
    "all_tweet_data = path['all_tweet_data']\n",
    "plot_path = path['plot_path']"
   ]
  },
  {
   "cell_type": "code",
   "execution_count": 57,
   "id": "eaa61394-241f-4e01-8133-0a9b9f2a7661",
   "metadata": {
    "tags": []
   },
   "outputs": [],
   "source": [
    "def get_path(path, \n",
    "             year, \n",
    "             campaign,\n",
    "            ):\n",
    "    '''\n",
    "    Gets path to control and IO tweet file\n",
    "    \n",
    "    :param path: path to the directory where tweet is present\n",
    "    :param year: year of compaign\n",
    "    :param campaign: name of campaign\n",
    "    :param check_control: whether to check if control is present\n",
    "    \n",
    "    return list\n",
    "    '''\n",
    "    \n",
    "    ops_file_path = os.path.join(path, \n",
    "                                 year, \n",
    "                                 campaign, \n",
    "                                 f'{campaign}_tweets.pkl.gz')\n",
    "    control_file_path = os.path.join(path, \n",
    "                                     year, \n",
    "                                     campaign, \n",
    "                                     'DriversControl', \n",
    "                                     f'{campaign}_control.pkl.gz')\n",
    "    \n",
    "    if os.path.isfile(control_file_path) == False:\n",
    "        control_file_path = os.path.join(path, \n",
    "                                     year, \n",
    "                                     campaign, \n",
    "                                     'DriversControl', \n",
    "                                     f'{campaign}_tweets_control.pkl.gz')\n",
    "        \n",
    "    ops_flag = os.path.isfile(ops_file_path) == True\n",
    "    \n",
    "    if ops_flag:\n",
    "        return {'ops': ops_file_path,\n",
    "                'control': control_file_path\n",
    "               }\n",
    "    \n",
    "    print('Files not found')\n",
    "    \n",
    "    return None"
   ]
  },
  {
   "cell_type": "code",
   "execution_count": 1,
   "id": "6b6ae751-0b70-4dce-9409-ebc086c5e376",
   "metadata": {
    "tags": []
   },
   "outputs": [],
   "source": [
    "df_all = pd.DataFrame()\n",
    "for year in all_campaigns:\n",
    "    \n",
    "    camp_year = year.split('_')[0]\n",
    "\n",
    "    for campaign in all_campaigns[year]:\n",
    "        print(campaign)\n",
    "\n",
    "        print(f'\\n ------START: {year}: {campaign} ------- \\n')\n",
    "\n",
    "        data_path = get_path(all_tweet_data, year, \n",
    "                             campaign)\n",
    "\n",
    "        data = st_hp.read_ops_control_data(data_path['ops'],\n",
    "                                        data_path['control'], \n",
    "                                           ['ops'])\n",
    "        df_test = data['ops']\n",
    "\n",
    "        if len(df_test) == 0:\n",
    "            print(f'\\n ------END: {year}: {campaign} ------- \\n')\n",
    "            continue\n",
    "\n",
    "        \n",
    "        df_found = df_test.loc[df_test['userid'].isin(\n",
    "            df_pos_1\n",
    "        )]\n",
    "        \n",
    "        camp_year = year.split('_')[0]\n",
    "        \n",
    "        df_found['year'] = camp_year\n",
    "        \n",
    "        if len(df_found) != 0:\n",
    "            \n",
    "            df_all = df_all.append(df_found, ignore_index=True)\n",
    "            \n",
    "            print(len(df_all))\n",
    "            "
   ]
  },
  {
   "cell_type": "markdown",
   "id": "7af4d60e-b626-4981-8789-d920d55fa213",
   "metadata": {
    "jp-MarkdownHeadingCollapsed": true,
    "tags": []
   },
   "source": [
    "#### **All activity**"
   ]
  },
  {
   "cell_type": "code",
   "execution_count": 59,
   "id": "edcb2451-bd0a-4555-98fe-0b598ef7b35f",
   "metadata": {
    "tags": []
   },
   "outputs": [],
   "source": [
    "def get_userid_created_at(df):\n",
    "    '''\n",
    "    Gets the userid and created_at information for individual accounts\n",
    "    '''\n",
    "    \n",
    "    return df[['replier_userid', 'created_at_year']].drop_duplicates()"
   ]
  },
  {
   "cell_type": "code",
   "execution_count": 60,
   "id": "6be831dd-61ca-4ba5-ba46-42875317e2a0",
   "metadata": {
    "tags": []
   },
   "outputs": [
    {
     "name": "stdout",
     "output_type": "stream",
     "text": [
      "Index(['tweetid', 'userid', 'user_display_name', 'user_screen_name',\n",
      "       'user_reported_location', 'user_profile_description',\n",
      "       'user_profile_url', 'follower_count', 'following_count',\n",
      "       'account_creation_date', 'account_language', 'tweet_language',\n",
      "       'tweet_text', 'tweet_time', 'tweet_client_name', 'in_reply_to_userid',\n",
      "       'in_reply_to_tweetid', 'quoted_tweet_tweetid', 'is_retweet',\n",
      "       'retweet_userid', 'retweet_tweetid', 'latitude', 'longitude',\n",
      "       'quote_count', 'reply_count', 'like_count', 'retweet_count', 'hashtags',\n",
      "       'urls', 'user_mentions', 'year', 'poll_choices'],\n",
      "      dtype='object')\n"
     ]
    }
   ],
   "source": [
    "print(df_all.columns)"
   ]
  },
  {
   "cell_type": "code",
   "execution_count": 62,
   "id": "c5ed7ab4-8795-46d8-ba75-3d6483b5a27a",
   "metadata": {
    "tags": []
   },
   "outputs": [
    {
     "data": {
      "text/plain": [
       "Index(['tweet_text', 'conversation_id', 'replier_tweetid', 'replier_userid',\n",
       "       'poster_userid', 'poster_tweetid', 'tweet_time', 'tweet_language',\n",
       "       'replier_label', 'year', 'campaign', 'tweet_label', 'tweet_time_year'],\n",
       "      dtype='object')"
      ]
     },
     "execution_count": 62,
     "metadata": {},
     "output_type": "execute_result"
    }
   ],
   "source": [
    "df_pos.columns"
   ]
  },
  {
   "cell_type": "code",
   "execution_count": 63,
   "id": "30569b58-f2c2-4497-9847-cb4dcc5ae632",
   "metadata": {},
   "outputs": [],
   "source": [
    "df_activity_count = df_all.groupby(['userid',\n",
    "                                    'year'\n",
    "                                   ])['tweetid'].size().reset_index(name='count')\n",
    "\n",
    "df_1 = df_all[['userid', 'account_creation_date']].drop_duplicates()\n",
    "\n",
    "df_activity_count = df_activity_count.merge(df_1,\n",
    "                                            on='userid'\n",
    "                                           )"
   ]
  },
  {
   "cell_type": "code",
   "execution_count": 64,
   "id": "a34152ea-2a53-4bfc-ab6e-6535209d2658",
   "metadata": {
    "tags": []
   },
   "outputs": [
    {
     "data": {
      "text/html": [
       "<div>\n",
       "<style scoped>\n",
       "    .dataframe tbody tr th:only-of-type {\n",
       "        vertical-align: middle;\n",
       "    }\n",
       "\n",
       "    .dataframe tbody tr th {\n",
       "        vertical-align: top;\n",
       "    }\n",
       "\n",
       "    .dataframe thead th {\n",
       "        text-align: right;\n",
       "    }\n",
       "</style>\n",
       "<table border=\"1\" class=\"dataframe\">\n",
       "  <thead>\n",
       "    <tr style=\"text-align: right;\">\n",
       "      <th></th>\n",
       "      <th>userid</th>\n",
       "      <th>year</th>\n",
       "      <th>count</th>\n",
       "      <th>account_creation_date</th>\n",
       "    </tr>\n",
       "  </thead>\n",
       "  <tbody>\n",
       "    <tr>\n",
       "      <th>0</th>\n",
       "      <td>12148412</td>\n",
       "      <td>2019</td>\n",
       "      <td>464</td>\n",
       "      <td>2008-01-12</td>\n",
       "    </tr>\n",
       "  </tbody>\n",
       "</table>\n",
       "</div>"
      ],
      "text/plain": [
       "     userid  year  count account_creation_date\n",
       "0  12148412  2019    464            2008-01-12"
      ]
     },
     "execution_count": 64,
     "metadata": {},
     "output_type": "execute_result"
    }
   ],
   "source": [
    "df_activity_count.head(1)"
   ]
  },
  {
   "cell_type": "code",
   "execution_count": 65,
   "id": "2b914b64-3e44-4526-a3ea-8c2a26e445ad",
   "metadata": {
    "tags": []
   },
   "outputs": [],
   "source": [
    "df_activity_count = df_activity_count.rename(\n",
    "    columns={\"year\": \"detected_year\"})"
   ]
  },
  {
   "cell_type": "code",
   "execution_count": 67,
   "id": "3a2d8b9a-a9c8-4e83-9684-5383a83234f1",
   "metadata": {
    "tags": []
   },
   "outputs": [],
   "source": [
    "# df_activity_count = df_activity_count.drop(['replier_userid'], \n",
    "#                                            axis=1)\n",
    "# df_activity_count.head()"
   ]
  },
  {
   "cell_type": "code",
   "execution_count": 68,
   "id": "28bf6202-6101-4aa4-bbcc-98afef380685",
   "metadata": {
    "tags": []
   },
   "outputs": [],
   "source": [
    "importlib.reload(config_hp)\n",
    "\n",
    "config = config_hp.config()\n",
    "characteristics = config['CHARACTERISTICS']\n",
    "\n",
    "io_activity = characteristics['io_activity']\n",
    "\n",
    "df_activity_count.to_pickle(io_activity)"
   ]
  },
  {
   "cell_type": "code",
   "execution_count": 69,
   "id": "6acfd909-275b-49c6-843e-ff2885b1dcb7",
   "metadata": {
    "tags": []
   },
   "outputs": [
    {
     "name": "stdout",
     "output_type": "stream",
     "text": [
      "<class 'pandas.core.frame.DataFrame'>\n",
      "Int64Index: 19460 entries, 0 to 19459\n",
      "Data columns (total 4 columns):\n",
      " #   Column                 Non-Null Count  Dtype \n",
      "---  ------                 --------------  ----- \n",
      " 0   userid                 19460 non-null  int64 \n",
      " 1   detected_year          19460 non-null  object\n",
      " 2   count                  19460 non-null  int64 \n",
      " 3   account_creation_date  19460 non-null  object\n",
      "dtypes: int64(2), object(2)\n",
      "memory usage: 760.2+ KB\n"
     ]
    }
   ],
   "source": [
    "df_activity_count.info()"
   ]
  },
  {
   "cell_type": "markdown",
   "id": "cc51f2d9-97a8-45a3-bfcd-14ead37a8890",
   "metadata": {
    "jp-MarkdownHeadingCollapsed": true,
    "tags": []
   },
   "source": [
    "#### **Retweet activity**"
   ]
  },
  {
   "cell_type": "code",
   "execution_count": 13,
   "id": "9a3c48f3-f36e-44e1-ae2c-d3913c722cd0",
   "metadata": {},
   "outputs": [],
   "source": [
    "df_retweet = df_all.loc[df_all['is_retweet'] == True]"
   ]
  },
  {
   "cell_type": "code",
   "execution_count": 16,
   "id": "24c41656-093e-4705-b596-27ce76ab098b",
   "metadata": {
    "tags": []
   },
   "outputs": [
    {
     "data": {
      "text/plain": [
       "Index(['tweetid', 'userid', 'user_display_name', 'user_screen_name',\n",
       "       'user_reported_location', 'user_profile_description',\n",
       "       'user_profile_url', 'follower_count', 'following_count',\n",
       "       'account_creation_date', 'account_language', 'tweet_language',\n",
       "       'tweet_text', 'tweet_time', 'tweet_client_name', 'in_reply_to_userid',\n",
       "       'in_reply_to_tweetid', 'quoted_tweet_tweetid', 'is_retweet',\n",
       "       'retweet_userid', 'retweet_tweetid', 'latitude', 'longitude',\n",
       "       'quote_count', 'reply_count', 'like_count', 'retweet_count', 'hashtags',\n",
       "       'urls', 'user_mentions', 'poll_choices'],\n",
       "      dtype='object')"
      ]
     },
     "execution_count": 16,
     "metadata": {},
     "output_type": "execute_result"
    }
   ],
   "source": [
    "df_retweet.columns"
   ]
  },
  {
   "cell_type": "code",
   "execution_count": 17,
   "id": "6849f0b8-d620-439e-852b-b220d53393a8",
   "metadata": {
    "tags": []
   },
   "outputs": [],
   "source": [
    "df_retweet_count = df_retweet.groupby(['userid'])['retweet_tweetid'].size().reset_index(name='count')"
   ]
  },
  {
   "cell_type": "code",
   "execution_count": 18,
   "id": "563f18cf-9af9-4911-a736-4096602f079c",
   "metadata": {
    "tags": []
   },
   "outputs": [
    {
     "name": "stdout",
     "output_type": "stream",
     "text": [
      "<class 'pandas.core.frame.DataFrame'>\n",
      "RangeIndex: 7480 entries, 0 to 7479\n",
      "Data columns (total 2 columns):\n",
      " #   Column  Non-Null Count  Dtype\n",
      "---  ------  --------------  -----\n",
      " 0   userid  7480 non-null   int64\n",
      " 1   count   7480 non-null   int64\n",
      "dtypes: int64(2)\n",
      "memory usage: 117.0 KB\n"
     ]
    }
   ],
   "source": [
    "df_retweet_count.info()"
   ]
  },
  {
   "cell_type": "code",
   "execution_count": 21,
   "id": "8086fd16-c017-4b46-9fd9-529d400b2e65",
   "metadata": {
    "tags": []
   },
   "outputs": [
    {
     "data": {
      "text/plain": [
       "1"
      ]
     },
     "execution_count": 21,
     "metadata": {},
     "output_type": "execute_result"
    }
   ],
   "source": [
    "df_retweet_count['count'].min()"
   ]
  },
  {
   "cell_type": "code",
   "execution_count": 23,
   "id": "13e3a37e-ef2a-42cc-8c81-5a5175673c2f",
   "metadata": {
    "tags": []
   },
   "outputs": [],
   "source": [
    "importlib.reload(config_hp)\n",
    "\n",
    "config = config_hp.config()\n",
    "characteristics = config['CHARACTERISTICS']\n",
    "\n",
    "io_retweet = characteristics['io_retweet']\n",
    "\n",
    "df_retweet_count.to_pickle(io_retweet)"
   ]
  },
  {
   "cell_type": "markdown",
   "id": "5959c24c-6769-468b-8a0d-8d6c79ce5652",
   "metadata": {
    "jp-MarkdownHeadingCollapsed": true,
    "tags": []
   },
   "source": [
    "#### **Quote tweets**"
   ]
  },
  {
   "cell_type": "code",
   "execution_count": 24,
   "id": "9ae160a3-7d21-4079-bf01-dc45eea6a275",
   "metadata": {
    "tags": []
   },
   "outputs": [],
   "source": [
    "df_quote = df_all.loc[~df_all['quoted_tweet_tweetid'].isnull()]"
   ]
  },
  {
   "cell_type": "code",
   "execution_count": 26,
   "id": "fa68e2ee-057d-4b51-8112-3671d453f94e",
   "metadata": {
    "tags": []
   },
   "outputs": [
    {
     "data": {
      "text/plain": [
       "4     1.369566e+18\n",
       "10    1.378593e+18\n",
       "14    1.369566e+18\n",
       "19    1.369566e+18\n",
       "20    1.363776e+18\n",
       "Name: quoted_tweet_tweetid, dtype: float64"
      ]
     },
     "execution_count": 26,
     "metadata": {},
     "output_type": "execute_result"
    }
   ],
   "source": [
    "df_quote['quoted_tweet_tweetid'].head()"
   ]
  },
  {
   "cell_type": "code",
   "execution_count": 27,
   "id": "23c8fb77-0972-4dd4-9f17-1f7caf327cbe",
   "metadata": {
    "tags": []
   },
   "outputs": [
    {
     "name": "stderr",
     "output_type": "stream",
     "text": [
      "/tmp/ipykernel_265974/2928507046.py:1: SettingWithCopyWarning: \n",
      "A value is trying to be set on a copy of a slice from a DataFrame.\n",
      "Try using .loc[row_indexer,col_indexer] = value instead\n",
      "\n",
      "See the caveats in the documentation: https://pandas.pydata.org/pandas-docs/stable/user_guide/indexing.html#returning-a-view-versus-a-copy\n",
      "  df_quote['quoted_tweet_tweetid'] = df_quote['quoted_tweet_tweetid'].astype(int)\n"
     ]
    }
   ],
   "source": [
    "df_quote['quoted_tweet_tweetid'] = df_quote['quoted_tweet_tweetid'].astype(int)"
   ]
  },
  {
   "cell_type": "code",
   "execution_count": 28,
   "id": "ee7a0d7e-8dfd-48a0-9940-e7953a4dd976",
   "metadata": {
    "tags": []
   },
   "outputs": [],
   "source": [
    "df_quote_count = df_quote.groupby(['userid'])['quoted_tweet_tweetid'].size().reset_index(name='count')"
   ]
  },
  {
   "cell_type": "code",
   "execution_count": 29,
   "id": "621eb5ed-3806-4495-81e5-53f4849313b1",
   "metadata": {
    "tags": []
   },
   "outputs": [
    {
     "name": "stdout",
     "output_type": "stream",
     "text": [
      "Max  40774\n",
      "Min  1\n"
     ]
    }
   ],
   "source": [
    "print('Max ', df_quote_count['count'].max())\n",
    "print('Min ', df_quote_count['count'].min())"
   ]
  },
  {
   "cell_type": "code",
   "execution_count": 30,
   "id": "bdabbc34-07c4-4ad0-a491-3198eb9564ec",
   "metadata": {
    "tags": []
   },
   "outputs": [],
   "source": [
    "importlib.reload(config_hp)\n",
    "\n",
    "config = config_hp.config()\n",
    "characteristics = config['CHARACTERISTICS']\n",
    "\n",
    "io_quote = characteristics['io_quote']\n",
    "\n",
    "df_quote_count.to_pickle(io_quote)"
   ]
  },
  {
   "cell_type": "markdown",
   "id": "77e3a566-1a2a-4f92-9179-903847e9a8cf",
   "metadata": {
    "jp-MarkdownHeadingCollapsed": true,
    "tags": []
   },
   "source": [
    "#### **Reply count**"
   ]
  },
  {
   "cell_type": "code",
   "execution_count": 31,
   "id": "e83cf244-1b25-4fa0-8007-53ee49448bf5",
   "metadata": {
    "tags": []
   },
   "outputs": [],
   "source": [
    "df_reply = df_all.loc[~df_all['in_reply_to_tweetid'].isnull()]\n",
    "df_reply_count = df_reply.groupby(['userid'])['in_reply_to_tweetid'].size().reset_index(name='count')\n",
    "\n",
    "importlib.reload(config_hp)\n",
    "\n",
    "config = config_hp.config()\n",
    "characteristics = config['CHARACTERISTICS']\n",
    "\n",
    "io_reply = characteristics['io_reply']\n",
    "\n",
    "df_reply_count.to_pickle(io_reply)"
   ]
  },
  {
   "cell_type": "markdown",
   "id": "1ce014b3-6f20-4b86-9410-53da914d5d43",
   "metadata": {
    "jp-MarkdownHeadingCollapsed": true,
    "tags": []
   },
   "source": [
    "#### **Original tweet**"
   ]
  },
  {
   "cell_type": "code",
   "execution_count": 32,
   "id": "471ea317-6b96-452b-9500-610d3d58362a",
   "metadata": {
    "tags": []
   },
   "outputs": [],
   "source": [
    "is_retweet = df_all['is_retweet'] == False\n",
    "is_reply = df_all['in_reply_to_tweetid'].isnull()\n",
    "is_quote = df_all['quoted_tweet_tweetid'].isnull()\n",
    "\n",
    "df_org = df_all.loc[is_retweet & is_reply & is_quote]"
   ]
  },
  {
   "cell_type": "code",
   "execution_count": 33,
   "id": "8729ad62-5527-489b-b72a-4b18275d109c",
   "metadata": {
    "tags": []
   },
   "outputs": [],
   "source": [
    "df_org_count = df_org.groupby(['userid'])['tweetid'].size().reset_index(name='count')\n",
    "\n",
    "importlib.reload(config_hp)\n",
    "\n",
    "config = config_hp.config()\n",
    "characteristics = config['CHARACTERISTICS']\n",
    "\n",
    "io_org = characteristics['io_org']\n",
    "\n",
    "df_org_count.to_pickle(io_org)"
   ]
  },
  {
   "cell_type": "markdown",
   "id": "9fb384e7-f63f-4acc-b01c-4a1e18aacdd6",
   "metadata": {
    "tags": []
   },
   "source": [
    "### **Non-native repliers**"
   ]
  },
  {
   "cell_type": "code",
   "execution_count": 4,
   "id": "0d2e6e18-1603-42c1-8894-af4be4ac5ec9",
   "metadata": {
    "tags": []
   },
   "outputs": [
    {
     "data": {
      "text/plain": [
       "Index(['tweet_text', 'conversation_id', 'replier_tweetid', 'replier_userid',\n",
       "       'poster_userid', 'poster_tweetid', 'tweet_time', 'tweet_language',\n",
       "       'replier_label', 'year', 'campaign', 'tweet_label', 'tweet_time_year'],\n",
       "      dtype='object')"
      ]
     },
     "execution_count": 4,
     "metadata": {},
     "output_type": "execute_result"
    }
   ],
   "source": [
    "config = config_hp.config()\n",
    "balanced = config['COMBINED']\n",
    "\n",
    "pos_replier = balanced['io_conversation']\n",
    "\n",
    "df_pos = pd.read_pickle(pos_replier)\n",
    "\n",
    "df_pos.columns"
   ]
  },
  {
   "cell_type": "code",
   "execution_count": 5,
   "id": "07812899-7cf0-4f27-8200-2337a9210213",
   "metadata": {
    "tags": []
   },
   "outputs": [],
   "source": [
    "df_pos_0 = df_pos.loc[df_pos['replier_label'] == 0]"
   ]
  },
  {
   "cell_type": "code",
   "execution_count": 6,
   "id": "2a0aa6f5-de4e-4476-8011-8d9d954edf98",
   "metadata": {
    "tags": []
   },
   "outputs": [],
   "source": [
    "replier_path = config['REPLIER']\n",
    "io_replier = replier_path['io_replier']\n",
    "\n",
    "df_io_replier = pd.read_pickle(io_replier)"
   ]
  },
  {
   "cell_type": "code",
   "execution_count": 7,
   "id": "8f6398f2-7072-4240-a635-790a06feb4c7",
   "metadata": {
    "tags": []
   },
   "outputs": [
    {
     "data": {
      "text/plain": [
       "Index(['created_at', 'verified', 'description', 'protected', 'username', 'id',\n",
       "       'proile_image_url', 'pinned_tweet_id', 'name', 'public_metrics',\n",
       "       'followers_count', 'following_count', 'tweet_count', 'listed_count',\n",
       "       'profile_image_url', 'replier_label', 'location', 'parameter'],\n",
       "      dtype='object')"
      ]
     },
     "execution_count": 7,
     "metadata": {},
     "output_type": "execute_result"
    }
   ],
   "source": [
    "df_io_replier.columns"
   ]
  },
  {
   "cell_type": "code",
   "execution_count": 8,
   "id": "97222c07-b56a-4bb3-964c-edf75a531b7c",
   "metadata": {
    "tags": []
   },
   "outputs": [
    {
     "data": {
      "text/plain": [
       "3418190"
      ]
     },
     "execution_count": 8,
     "metadata": {},
     "output_type": "execute_result"
    }
   ],
   "source": [
    "df_io_replier['id'].nunique()"
   ]
  },
  {
   "cell_type": "code",
   "execution_count": 7,
   "id": "d6e0f14d-2e85-4af5-a138-9ba08f281ffa",
   "metadata": {
    "tags": []
   },
   "outputs": [],
   "source": [
    "# df_io_replier.info() #id = object"
   ]
  },
  {
   "cell_type": "code",
   "execution_count": 8,
   "id": "c15380bf-8e8c-4131-8da8-0fce3941da00",
   "metadata": {},
   "outputs": [],
   "source": [
    "# df_pos_0.info() #replier_userid = object"
   ]
  },
  {
   "cell_type": "code",
   "execution_count": 10,
   "id": "3564f368-a6c4-4502-84f7-8122262c0bd2",
   "metadata": {
    "tags": []
   },
   "outputs": [],
   "source": [
    "df_non_native = df_io_replier.loc[df_io_replier['id'].isin(df_pos_0['replier_userid'])]"
   ]
  },
  {
   "cell_type": "code",
   "execution_count": 11,
   "id": "bcf47197-820c-4933-8c9d-f7fd674f2dd3",
   "metadata": {
    "tags": []
   },
   "outputs": [
    {
     "name": "stdout",
     "output_type": "stream",
     "text": [
      "<class 'pandas.core.frame.DataFrame'>\n",
      "Int64Index: 5885012 entries, 2 to 4278504\n",
      "Data columns (total 18 columns):\n",
      " #   Column             Dtype  \n",
      "---  ------             -----  \n",
      " 0   created_at         object \n",
      " 1   verified           object \n",
      " 2   description        object \n",
      " 3   protected          object \n",
      " 4   username           object \n",
      " 5   id                 object \n",
      " 6   proile_image_url   object \n",
      " 7   pinned_tweet_id    object \n",
      " 8   name               object \n",
      " 9   public_metrics     object \n",
      " 10  followers_count    float64\n",
      " 11  following_count    float64\n",
      " 12  tweet_count        float64\n",
      " 13  listed_count       float64\n",
      " 14  profile_image_url  object \n",
      " 15  replier_label      float64\n",
      " 16  location           object \n",
      " 17  parameter          object \n",
      "dtypes: float64(5), object(13)\n",
      "memory usage: 853.1+ MB\n"
     ]
    }
   ],
   "source": [
    "df_non_native.info()"
   ]
  },
  {
   "cell_type": "code",
   "execution_count": 12,
   "id": "39417025-a2f1-45fb-b00c-de09a5ffa2ce",
   "metadata": {
    "tags": []
   },
   "outputs": [
    {
     "data": {
      "text/plain": [
       "2974876"
      ]
     },
     "execution_count": 12,
     "metadata": {},
     "output_type": "execute_result"
    }
   ],
   "source": [
    "df_non_native['id'].nunique()"
   ]
  },
  {
   "cell_type": "code",
   "execution_count": 16,
   "id": "32ba1d2e-ff86-4530-8e9e-abe301551c19",
   "metadata": {
    "tags": []
   },
   "outputs": [],
   "source": [
    "importlib.reload(config_hp)\n",
    "\n",
    "config = config_hp.config()\n",
    "characteristics = config['CHARACTERISTICS']\n",
    "\n",
    "non_io_activity = characteristics['non_io_activity']\n",
    "\n",
    "df_non_native.to_pickle(non_io_activity)"
   ]
  },
  {
   "cell_type": "markdown",
   "id": "223fbb53-4393-47db-9dbb-b871553cf6cd",
   "metadata": {
    "tags": []
   },
   "source": [
    "### **Plot the activity**"
   ]
  },
  {
   "cell_type": "code",
   "execution_count": 17,
   "id": "989e0638-8204-4f3c-8c0c-28a3b2143af9",
   "metadata": {
    "tags": []
   },
   "outputs": [
    {
     "name": "stdout",
     "output_type": "stream",
     "text": [
      "<class 'pandas.core.frame.DataFrame'>\n",
      "Int64Index: 19460 entries, 0 to 19459\n",
      "Data columns (total 6 columns):\n",
      " #   Column                 Non-Null Count  Dtype         \n",
      "---  ------                 --------------  -----         \n",
      " 0   userid                 19460 non-null  int64         \n",
      " 1   detected_year          19460 non-null  datetime64[ns]\n",
      " 2   count                  19460 non-null  int64         \n",
      " 3   account_creation_date  19460 non-null  datetime64[ns]\n",
      " 4   age                    19460 non-null  float64       \n",
      " 5   tweet_count_by_age     19460 non-null  float64       \n",
      "dtypes: datetime64[ns](2), float64(2), int64(2)\n",
      "memory usage: 1.0 MB\n",
      "None\n",
      "Index(['userid', 'detected_year', 'count', 'account_creation_date', 'age',\n",
      "       'tweet_count_by_age'],\n",
      "      dtype='object')\n"
     ]
    }
   ],
   "source": [
    "config = config_hp.config()\n",
    "characteristic = config['CHARACTERISTICS']\n",
    "\n",
    "io_activity = characteristic['io_activity']\n",
    "\n",
    "df_pos = pd.read_pickle(io_activity)\n",
    "\n",
    "df_non_io_activity = pd.read_pickle(\n",
    "    characteristic['non_io_activity'])\n",
    "\n",
    "print(df_pos.info())\n",
    "print(df_pos.columns)"
   ]
  },
  {
   "cell_type": "code",
   "execution_count": 18,
   "id": "2ea19c49-7fec-4216-8a52-24ec395bd3dd",
   "metadata": {
    "tags": []
   },
   "outputs": [
    {
     "data": {
      "text/plain": [
       "Index(['created_at', 'verified', 'description', 'protected', 'username', 'id',\n",
       "       'proile_image_url', 'pinned_tweet_id', 'name', 'public_metrics',\n",
       "       'followers_count', 'following_count', 'tweet_count', 'listed_count',\n",
       "       'profile_image_url', 'replier_label', 'location', 'parameter'],\n",
       "      dtype='object')"
      ]
     },
     "execution_count": 18,
     "metadata": {},
     "output_type": "execute_result"
    }
   ],
   "source": [
    "df_non_io_activity.columns"
   ]
  },
  {
   "cell_type": "markdown",
   "id": "6b76dbc0-69e8-47c0-874b-f3223a24bc36",
   "metadata": {},
   "source": [
    "#### **Viz**"
   ]
  },
  {
   "cell_type": "code",
   "execution_count": 19,
   "id": "e59078fe-d6aa-4d1d-9638-0b1ce9b1b266",
   "metadata": {
    "tags": []
   },
   "outputs": [
    {
     "name": "stdout",
     "output_type": "stream",
     "text": [
      "./plots/CCDF_tweet_activity_replier.png\n"
     ]
    },
    {
     "data": {
      "image/png": "[encoded data removed]",
      "text/plain": [
       "<Figure size 1000x1000 with 1 Axes>"
      ]
     },
     "metadata": {},
     "output_type": "display_data"
    }
   ],
   "source": [
    "import helper.visualization as viz_hp\n",
    "\n",
    "importlib.reload(config_hp)\n",
    "importlib.reload(viz_hp)\n",
    "\n",
    "parameters = {\n",
    "        'data': [df_pos, \n",
    "                 df_non_io_activity\n",
    "                ],\n",
    "        'figsize': (10, 10),\n",
    "        'fontsize': 36,\n",
    "        'tick_size': 28,\n",
    "        'complementary': True,\n",
    "        'legend_font': 26,\n",
    "        'columns': [\n",
    "            {'column': 'count',\n",
    "             'label': 'IO replier',\n",
    "            },{\n",
    "            'column': 'tweet_count',\n",
    "             'label': 'Normal replier'\n",
    "            },\n",
    "        ],\n",
    "        'xlabel': 'Activity',\n",
    "        'ylabel': 'CCDF',\n",
    "        # 'legend_location': 'upper right',\n",
    "        'log_yscale': False,\n",
    "        'log_xscale': True,\n",
    "        'save': {\n",
    "            'path': './plots',\n",
    "            'filename': 'CCDF_tweet_activity_replier.png'\n",
    "        },\n",
    "        'random_color': False\n",
    "}\n",
    "\n",
    "\n",
    "viz_hp.ccdf(parameters)"
   ]
  },
  {
   "cell_type": "code",
   "execution_count": 4,
   "id": "d2e0352d-2eb7-4dd4-9ade-4f36695dc294",
   "metadata": {
    "tags": []
   },
   "outputs": [
    {
     "name": "stdout",
     "output_type": "stream",
     "text": [
      "Activity IO  699.0\n",
      "Activity normal  4406.0\n"
     ]
    }
   ],
   "source": [
    "print('Activity IO ', df_pos['count'].median())\n",
    "print('Activity normal ', df_non_io_activity['tweet_count'].median())"
   ]
  },
  {
   "cell_type": "code",
   "execution_count": 4,
   "id": "ca64506e-9aeb-4a6d-a7a4-c6fae9978d62",
   "metadata": {
    "tags": []
   },
   "outputs": [],
   "source": [
    "df_pos['detected_year'] = pd.to_datetime(df_pos['detected_year'])\n",
    "df_pos[f'account_creation_date'] = pd.to_datetime(df_pos[f'account_creation_date'])\n",
    "\n",
    "df_pos['age'] = round((df_pos['detected_year'] - df_pos['account_creation_date']) / np.timedelta64(1, 'Y') + 2)"
   ]
  },
  {
   "cell_type": "code",
   "execution_count": 5,
   "id": "207890b3-2c56-49c9-8287-96e35b58708c",
   "metadata": {
    "tags": []
   },
   "outputs": [
    {
     "name": "stdout",
     "output_type": "stream",
     "text": [
      "  detected_year account_creation_date   age\n",
      "0    2019-01-01            2008-01-12  13.0\n"
     ]
    }
   ],
   "source": [
    "print(df_pos[['detected_year', 'account_creation_date', 'age']].head(1))"
   ]
  },
  {
   "cell_type": "code",
   "execution_count": 6,
   "id": "440fc8aa-a30a-470f-9904-c1f35c79c2c0",
   "metadata": {
    "tags": []
   },
   "outputs": [
    {
     "data": {
      "text/plain": [
       "age    1.0\n",
       "dtype: float64"
      ]
     },
     "execution_count": 6,
     "metadata": {},
     "output_type": "execute_result"
    }
   ],
   "source": [
    "df_pos[['age']].min()"
   ]
  },
  {
   "cell_type": "code",
   "execution_count": 7,
   "id": "7fc2758e-7043-4a7a-bf25-115074388cc3",
   "metadata": {
    "tags": []
   },
   "outputs": [
    {
     "name": "stdout",
     "output_type": "stream",
     "text": [
      "Max : 1512075\n",
      "Min : 1\n"
     ]
    }
   ],
   "source": [
    "print('Max :', df_pos['count'].max())\n",
    "print('Min :', df_pos['count'].min())"
   ]
  },
  {
   "cell_type": "code",
   "execution_count": 8,
   "id": "961480a7-95e5-491d-8644-9ced014d60fc",
   "metadata": {
    "tags": []
   },
   "outputs": [
    {
     "name": "stdout",
     "output_type": "stream",
     "text": [
      "2   2011-08-16\n",
      "3   2017-03-12\n",
      "4   2014-07-13\n",
      "6   2015-09-07\n",
      "7   2016-01-29\n",
      "Name: created_at_year, dtype: datetime64[ns]\n"
     ]
    }
   ],
   "source": [
    "#### AGE of the non_io_repliers\n",
    "# mean\n",
    "non_io_activity = characteristic['non_io_activity']\n",
    "\n",
    "df_non_io_activity = pd.read_pickle(non_io_activity)\n",
    "\n",
    "df_non_io_activity['created_at'] = pd.to_datetime(df_non_io_activity['created_at'])\n",
    "\n",
    "df_non_io_activity['detected_year'] = pd.to_datetime('2023')\n",
    "df_non_io_activity[f'created_at_year'] = pd.to_datetime(\n",
    "    df_non_io_activity.created_at.map(lambda x: x.strftime('%Y-%m-%d'))\n",
    ")\n",
    "\n",
    "print(df_non_io_activity['created_at_year'].head())\n",
    "\n",
    "df_non_io_activity['age'] = round((df_non_io_activity['detected_year'] - df_non_io_activity['created_at_year']) / np.timedelta64(1, 'Y') + 1)"
   ]
  },
  {
   "cell_type": "code",
   "execution_count": 9,
   "id": "96d6236a-4f48-46cb-bdcc-8e673e027d50",
   "metadata": {
    "tags": []
   },
   "outputs": [
    {
     "data": {
      "text/html": [
       "<div>\n",
       "<style scoped>\n",
       "    .dataframe tbody tr th:only-of-type {\n",
       "        vertical-align: middle;\n",
       "    }\n",
       "\n",
       "    .dataframe tbody tr th {\n",
       "        vertical-align: top;\n",
       "    }\n",
       "\n",
       "    .dataframe thead th {\n",
       "        text-align: right;\n",
       "    }\n",
       "</style>\n",
       "<table border=\"1\" class=\"dataframe\">\n",
       "  <thead>\n",
       "    <tr style=\"text-align: right;\">\n",
       "      <th></th>\n",
       "      <th>detected_year</th>\n",
       "      <th>created_at</th>\n",
       "      <th>age</th>\n",
       "    </tr>\n",
       "  </thead>\n",
       "  <tbody>\n",
       "    <tr>\n",
       "      <th>2</th>\n",
       "      <td>2023-01-01</td>\n",
       "      <td>2011-08-16 21:40:53+00:00</td>\n",
       "      <td>12.0</td>\n",
       "    </tr>\n",
       "  </tbody>\n",
       "</table>\n",
       "</div>"
      ],
      "text/plain": [
       "  detected_year                created_at   age\n",
       "2    2023-01-01 2011-08-16 21:40:53+00:00  12.0"
      ]
     },
     "execution_count": 9,
     "metadata": {},
     "output_type": "execute_result"
    }
   ],
   "source": [
    "df_non_io_activity[['detected_year', 'created_at', 'age']].head(1)"
   ]
  },
  {
   "cell_type": "code",
   "execution_count": 10,
   "id": "4d1d076d-07dc-4294-a35a-fc452b6e8f81",
   "metadata": {
    "tags": []
   },
   "outputs": [
    {
     "data": {
      "text/plain": [
       "age    1.0\n",
       "dtype: float64"
      ]
     },
     "execution_count": 10,
     "metadata": {},
     "output_type": "execute_result"
    }
   ],
   "source": [
    "df_non_io_activity[['age']].min()"
   ]
  },
  {
   "cell_type": "code",
   "execution_count": 11,
   "id": "c0b197ef-3a97-4331-9331-2e87edd762cc",
   "metadata": {
    "tags": []
   },
   "outputs": [],
   "source": [
    "df_non_io_activity.loc[df_non_io_activity['tweet_count'] == -1, 'tweet_count'] = 0"
   ]
  },
  {
   "cell_type": "code",
   "execution_count": 13,
   "id": "1819632e-48ee-4f40-a8bb-e5835e39eeff",
   "metadata": {
    "tags": []
   },
   "outputs": [
    {
     "name": "stdout",
     "output_type": "stream",
     "text": [
      "Max : 2977733.0\n",
      "Min : 0.0\n"
     ]
    }
   ],
   "source": [
    "print('Max :', df_non_io_activity['tweet_count'].max())\n",
    "print('Min :', df_non_io_activity['tweet_count'].min())"
   ]
  },
  {
   "cell_type": "code",
   "execution_count": 14,
   "id": "1fd49aeb-8e7f-451c-87fa-1eb6e3d2dea4",
   "metadata": {
    "tags": []
   },
   "outputs": [],
   "source": [
    "df_non_io_activity['tweet_count_by_age'] = df_non_io_activity['tweet_count']/df_non_io_activity['age'] + 1"
   ]
  },
  {
   "cell_type": "code",
   "execution_count": 16,
   "id": "96dd7dca-44ff-4de3-b2c2-c9b952601591",
   "metadata": {
    "tags": []
   },
   "outputs": [
    {
     "data": {
      "text/plain": [
       "1.0"
      ]
     },
     "execution_count": 16,
     "metadata": {},
     "output_type": "execute_result"
    }
   ],
   "source": [
    "df_pos['age'].min()"
   ]
  },
  {
   "cell_type": "code",
   "execution_count": 17,
   "id": "80ea4fb6-0a5a-4cf7-ad68-d6de871e5e05",
   "metadata": {
    "tags": []
   },
   "outputs": [],
   "source": [
    "df_pos['tweet_count_by_age'] = df_pos['count']/df_pos['age'] + 1"
   ]
  },
  {
   "cell_type": "code",
   "execution_count": 18,
   "id": "a6bce5a8-8573-44bb-bb70-c5a9e3dc2edc",
   "metadata": {
    "tags": []
   },
   "outputs": [
    {
     "name": "stdout",
     "output_type": "stream",
     "text": [
      "Min :  1.25\n",
      "Max :  156908.5\n",
      "Min :  1.0\n",
      "Max :  358777.5\n"
     ]
    }
   ],
   "source": [
    "print('Min : ', df_pos['tweet_count_by_age'].min())\n",
    "print('Max : ', df_pos['tweet_count_by_age'].max())\n",
    "\n",
    "print('Min : ', df_non_io_activity['tweet_count_by_age'].min())\n",
    "print('Max : ', df_non_io_activity['tweet_count_by_age'].max())"
   ]
  },
  {
   "cell_type": "code",
   "execution_count": 19,
   "id": "883a56cc-d3f9-498f-906e-101ad581b2a1",
   "metadata": {
    "tags": []
   },
   "outputs": [
    {
     "data": {
      "text/plain": [
       "Index(['userid', 'detected_year', 'count', 'account_creation_date', 'age',\n",
       "       'tweet_count_by_age'],\n",
       "      dtype='object')"
      ]
     },
     "execution_count": 19,
     "metadata": {},
     "output_type": "execute_result"
    }
   ],
   "source": [
    "df_pos.columns"
   ]
  },
  {
   "cell_type": "code",
   "execution_count": 20,
   "id": "cd3da97f-8a56-4d11-a294-b54949760639",
   "metadata": {
    "tags": []
   },
   "outputs": [
    {
     "name": "stdout",
     "output_type": "stream",
     "text": [
      "Positive : 1479.202338238871\n",
      "Negative : 2188.0730040519497\n"
     ]
    }
   ],
   "source": [
    "print('Positive :', df_pos['tweet_count_by_age'].mean())\n",
    "print('Negative :', df_non_io_activity['tweet_count_by_age'].mean())"
   ]
  },
  {
   "cell_type": "code",
   "execution_count": 22,
   "id": "9f43ec02-db67-4bdf-936b-5a253e1d8202",
   "metadata": {
    "tags": []
   },
   "outputs": [
    {
     "data": {
      "text/plain": [
       "Index(['created_at', 'verified', 'description', 'protected', 'username', 'id',\n",
       "       'proile_image_url', 'pinned_tweet_id', 'name', 'public_metrics',\n",
       "       'followers_count', 'following_count', 'tweet_count', 'listed_count',\n",
       "       'profile_image_url', 'replier_label', 'location', 'parameter',\n",
       "       'detected_year', 'created_at_year', 'age', 'tweet_count_by_age'],\n",
       "      dtype='object')"
      ]
     },
     "execution_count": 22,
     "metadata": {},
     "output_type": "execute_result"
    }
   ],
   "source": [
    "df_non_io_activity.columns"
   ]
  },
  {
   "cell_type": "markdown",
   "id": "8fe53281-d206-4c13-ba3e-0b585734a8dc",
   "metadata": {
    "jp-MarkdownHeadingCollapsed": true,
    "tags": []
   },
   "source": [
    "#### **Viz**"
   ]
  },
  {
   "cell_type": "code",
   "execution_count": 17,
   "id": "c85934fc-db25-4a62-9dd0-f5b4d5c86071",
   "metadata": {
    "tags": []
   },
   "outputs": [
    {
     "name": "stdout",
     "output_type": "stream",
     "text": [
      "/N/slate/potem/project/infoOps-strategy/plots/reply_characterization/CDF_tweet_count_by_age_ratio_replier.png\n",
      "/N/slate/potem/project/infoOps-strategy/plots/reply_characterization/CDF_tweet_count_by_age_ratio_replier.png\n"
     ]
    },
    {
     "data": {
      "image/png": "[encoded data removed]",
      "text/plain": [
       "<Figure size 800x800 with 1 Axes>"
      ]
     },
     "metadata": {},
     "output_type": "display_data"
    }
   ],
   "source": [
    "import helper.visualization as viz_hp\n",
    "\n",
    "importlib.reload(config_hp)\n",
    "importlib.reload(viz_hp)\n",
    "\n",
    "config = config_hp.config()\n",
    "plot_path = config['PLOTS']\n",
    "reply_plot_path = plot_path['reply_plot_path']\n",
    "\n",
    "parameters = {\n",
    "        'data': [df_pos, \n",
    "                 df_non_io_activity\n",
    "                ],\n",
    "        'fontsize': 14,\n",
    "        'complementary': False,\n",
    "        'columns': [\n",
    "            {'column': 'tweet_count_by_age',\n",
    "             'label': 'IO replier',\n",
    "            },{\n",
    "            'column': 'tweet_count_by_age',\n",
    "             'label': 'Normal replier'\n",
    "            },\n",
    "        ],\n",
    "        'xlabel': 'Activity rate \\n (Tweet count/age) ratio',\n",
    "        'ylabel': 'CDF',\n",
    "        'legend_location': 'upper right',\n",
    "        'log_yscale': False,\n",
    "        'log_xscale': True,\n",
    "        'save': {\n",
    "            'path': reply_plot_path,\n",
    "            'filename': 'CDF_tweet_count_by_age_ratio_replier.png'\n",
    "        },\n",
    "        'random_color': False\n",
    "}\n",
    "\n",
    "\n",
    "viz_hp.ccdf(parameters)"
   ]
  },
  {
   "cell_type": "markdown",
   "id": "ca5cf52c-4368-4999-b1e4-86c87710c3c6",
   "metadata": {},
   "source": [
    "#### **Save the data**"
   ]
  },
  {
   "cell_type": "code",
   "execution_count": null,
   "id": "08c8273b-535c-4ed2-b590-edc0b159deba",
   "metadata": {
    "tags": []
   },
   "outputs": [],
   "source": [
    "# config = config_hp.config()\n",
    "# characteristic = config['CHARACTERISTICS']\n",
    "\n",
    "# non_io_activity = characteristic['non_io_activity']\n",
    "\n",
    "# df_non_io_activity.to_pickle(non_io_activity)\n",
    "\n",
    "# io_activity = characteristic['io_activity']\n",
    "\n",
    "# df_pos.to_pickle(io_activity)"
   ]
  },
  {
   "cell_type": "code",
   "execution_count": 29,
   "id": "7073b7a9-de1f-420e-9a01-b781aacd45b6",
   "metadata": {
    "tags": []
   },
   "outputs": [
    {
     "data": {
      "text/plain": [
       "Index(['userid', 'detected_year', 'count', 'account_creation_date', 'age',\n",
       "       'tweet_count_by_age'],\n",
       "      dtype='object')"
      ]
     },
     "execution_count": 29,
     "metadata": {},
     "output_type": "execute_result"
    }
   ],
   "source": [
    "df_pos.columns"
   ]
  },
  {
   "cell_type": "code",
   "execution_count": 30,
   "id": "8cf82287-b0e5-48be-b2ac-986aff80d2a0",
   "metadata": {
    "tags": []
   },
   "outputs": [
    {
     "data": {
      "text/plain": [
       "Index(['created_at', 'verified', 'description', 'protected', 'username', 'id',\n",
       "       'proile_image_url', 'pinned_tweet_id', 'name', 'public_metrics',\n",
       "       'followers_count', 'following_count', 'tweet_count', 'listed_count',\n",
       "       'profile_image_url', 'replier_label', 'location', 'parameter',\n",
       "       'detected_year', 'created_at_year', 'age', 'tweet_count_by_age'],\n",
       "      dtype='object')"
      ]
     },
     "execution_count": 30,
     "metadata": {},
     "output_type": "execute_result"
    }
   ],
   "source": [
    "df_non_io_activity.columns"
   ]
  },
  {
   "cell_type": "code",
   "execution_count": 34,
   "id": "48183940-ef93-47e0-a860-d1b5153f2fad",
   "metadata": {},
   "outputs": [
    {
     "data": {
      "image/png": "[encoded data removed]",
      "text/plain": [
       "<Figure size 800x800 with 1 Axes>"
      ]
     },
     "metadata": {},
     "output_type": "display_data"
    }
   ],
   "source": [
    "importlib.reload(vz_hp)\n",
    "\n",
    "parameters = {\n",
    "        'data': [df_pos, df_non_io_activity],\n",
    "        'fontsize': 14,\n",
    "        'complementary': True,\n",
    "        'columns': [\n",
    "            {'column': 'tweet_count_by_age',\n",
    "             'label': 'IO-replier',\n",
    "            },\n",
    "            {\n",
    "            'column': 'tweet_count_by_age',\n",
    "             'label': 'Normal-replier'\n",
    "            }\n",
    "        ],\n",
    "        'group': ['IO-replier', 'Normal-replier'],\n",
    "        'xlabel': '',\n",
    "        'ylabel': 'Activity rate',\n",
    "        'legend_location': '',\n",
    "        'yscale': True,\n",
    "        'save': {\n",
    "            'path': './plots',\n",
    "            'filename': 'boxplot_activity_rate_IO_normal.png'\n",
    "        },\n",
    "        'random_color': False\n",
    "    }\n",
    "\n",
    "vz_hp.boxplot(parameters)"
   ]
  },
  {
   "cell_type": "code",
   "execution_count": null,
   "id": "32348e5d-73fb-4c79-8788-866b1acc4a51",
   "metadata": {},
   "outputs": [],
   "source": []
  }
 ],
 "metadata": {
  "kernelspec": {
   "display_name": "Python 3 (ipykernel)",
   "language": "python",
   "name": "python3"
  },
  "language_info": {
   "codemirror_mode": {
    "name": "ipython",
    "version": 3
   },
   "file_extension": ".py",
   "mimetype": "text/x-python",
   "name": "python",
   "nbconvert_exporter": "python",
   "pygments_lexer": "ipython3",
   "version": "3.12.2"
  }
 },
 "nbformat": 4,
 "nbformat_minor": 5
}
