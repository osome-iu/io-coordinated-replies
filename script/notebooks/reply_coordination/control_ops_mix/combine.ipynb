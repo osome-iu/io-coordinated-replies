{
 "cells": [
  {
   "cell_type": "markdown",
   "id": "2f913c1b-d58e-4da3-b286-813639e55073",
   "metadata": {},
   "source": [
    "##### **This notebook combines IO and control data over one dimension**"
   ]
  },
  {
   "cell_type": "code",
   "execution_count": null,
   "id": "03dbc289-f4fd-480e-a79a-f190785dbdd2",
   "metadata": {},
   "outputs": [],
   "source": [
    "import pandas as pd\n",
    "import numpy as np\n",
    "import warnings\n",
    "import glob\n",
    "import seaborn as sns\n",
    "import matplotlib.pyplot as plt\n",
    "import matplotlib.colors as pltc\n",
    "from tqdm import tqdm\n",
    "import sys\n",
    "import os\n",
    "\n",
    "import importlib\n",
    "\n",
    "#### packages\n",
    "import helper.strategy_helper as st\n",
    "import helper.visualization as vz\n",
    "import helper.helper as hp\n",
    "import helper.file_helper as file_hp\n",
    "import config.config as config"
   ]
  },
  {
   "cell_type": "code",
   "execution_count": null,
   "id": "f82a2224-0e6e-4776-95b4-180dd6d3e70e",
   "metadata": {},
   "outputs": [],
   "source": [
    "config = config.config()\n",
    "path = config['PATHS']\n",
    "\n",
    "derived_path = path['derived_path']\n",
    "all_tweet_data = path['all_tweet_data']"
   ]
  },
  {
   "cell_type": "code",
   "execution_count": 3,
   "id": "0bc06133-17ef-4f2e-8f7b-c4d3f16d8669",
   "metadata": {},
   "outputs": [],
   "source": [
    "test_campaign = 'iran_202012'\n",
    "year = '2020_12'\n",
    "ops_file_path = os.path.join(all_tweet_data, \n",
    "                             year, \n",
    "                             test_campaign, \n",
    "                            f'{test_campaign}_tweets.pkl.gz')\n",
    "control_file_path = os.path.join(all_tweet_data, \n",
    "                                 year, \n",
    "                                 test_campaign, \n",
    "                                 'DriversControl', \n",
    "                            f'{test_campaign}_control.pkl.gz')\n",
    "\n",
    "data = st.read_ops_control_data(ops_file_path, \n",
    "                             control_file_path, \n",
    "                             ['ops', 'control'])\n",
    "df_ops = data['ops']\n",
    "df_control = data['control']"
   ]
  },
  {
   "cell_type": "code",
   "execution_count": 10,
   "id": "fe705c49-320f-4033-af3e-a90feff59bea",
   "metadata": {},
   "outputs": [],
   "source": [
    "# df_ops.info()\n"
   ]
  },
  {
   "cell_type": "code",
   "execution_count": null,
   "id": "804ae8d0-0488-4249-98ba-7082b61cb1ca",
   "metadata": {},
   "outputs": [],
   "source": []
  },
  {
   "cell_type": "code",
   "execution_count": 15,
   "id": "f6f8d557-3b17-4ada-840b-03dc2e40dc63",
   "metadata": {},
   "outputs": [
    {
     "name": "stdout",
     "output_type": "stream",
     "text": [
      "Ops  27363\n",
      "Conrol  22211\n"
     ]
    }
   ],
   "source": [
    "df_ops_replies = st.filter_tweets(df_ops, \n",
    "                                  False, True, 10)\n",
    "\n",
    "df_ops_replies = df_ops_replies[['userid', \n",
    "                                 'in_reply_to_userid', \n",
    "                                 'in_reply_to_tweetid']]\n",
    "\n",
    "df_ops_replies = df_ops_replies.astype({\n",
    "    'in_reply_to_userid': int,\n",
    "    'in_reply_to_tweetid': int\n",
    "})\n",
    "\n",
    "\n",
    "\n",
    "df_control_replies = st.filter_tweets(df_control, \n",
    "                                  False, True, 10)\n",
    "\n",
    "df_control_replies = df_control_replies[['userid', \n",
    "                                 'in_reply_to_userid', \n",
    "                                 'in_reply_to_tweetid']]\n",
    "\n",
    "df_control_replies = df_control_replies.astype({\n",
    "    'in_reply_to_userid': int,\n",
    "    'in_reply_to_tweetid': int\n",
    "})\n",
    "\n",
    "print('Ops ', df_ops_replies['in_reply_to_userid'].nunique())\n",
    "print('Conrol ', df_control_replies['in_reply_to_userid'].nunique())\n",
    "\n",
    "# df_ops_replies[['userid', 'in_reply_to_userid', 'in_reply_to_tweetid']].info()"
   ]
  },
  {
   "cell_type": "code",
   "execution_count": 21,
   "id": "03087292-8f9b-4579-9c15-ddd0169572bf",
   "metadata": {},
   "outputs": [],
   "source": [
    "# df_ops_replies"
   ]
  },
  {
   "cell_type": "code",
   "execution_count": 1,
   "id": "ad28bcc0-28cc-442d-b081-7ec1a54ce233",
   "metadata": {
    "tags": []
   },
   "outputs": [],
   "source": [
    "def filter(df, \n",
    "           column=['in_reply_to_userid'],\n",
    "           column_to_grpby='userid',\n",
    "           threshold=10):\n",
    "    \n",
    "    if column[0] not in df.columns:\n",
    "        print(column[0], ' not in column')\n",
    "        \n",
    "        return\n",
    "    \n",
    "    if column_to_grpby not in df.columns:\n",
    "        print(column_to_grpby, ' not in column')\n",
    "        \n",
    "        return\n",
    "    \n",
    "    userids = (df.groupby(column)['userid']\n",
    "                   .size()\n",
    "                   .to_frame('count')\n",
    "                   .reset_index()\n",
    "                   .query(f'count > {threshold}')\n",
    "                  )[column_to_grpby]\n",
    "\n",
    "    # df = df.loc[df[column_to_grpby].isin(userids)]\n",
    "        \n",
    "    return df\n",
    "\n",
    "\n",
    "# df_ops_replies = filter(df_ops)\n",
    "\n",
    "# print(len(df_ops_replies))"
   ]
  },
  {
   "cell_type": "code",
   "execution_count": null,
   "id": "1b7a8b85-5f31-4005-938b-b56322635997",
   "metadata": {},
   "outputs": [],
   "source": []
  }
 ],
 "metadata": {
  "kernelspec": {
   "display_name": "Python 3 (ipykernel)",
   "language": "python",
   "name": "python3"
  },
  "language_info": {
   "codemirror_mode": {
    "name": "ipython",
    "version": 3
   },
   "file_extension": ".py",
   "mimetype": "text/x-python",
   "name": "python",
   "nbconvert_exporter": "python",
   "pygments_lexer": "ipython3",
   "version": "3.9.1"
  }
 },
 "nbformat": 4,
 "nbformat_minor": 5
}
