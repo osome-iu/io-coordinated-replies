{
 "cells": [
  {
   "cell_type": "markdown",
   "id": "64417b74-3920-4023-b85b-68008df3d919",
   "metadata": {},
   "source": [
    "#### **This notsbook prepares the exploratory plots of manually annotated data**"
   ]
  },
  {
   "cell_type": "code",
   "execution_count": 1,
   "id": "a41bb70a-8119-49d3-aa13-bead5d6ff5aa",
   "metadata": {
    "tags": []
   },
   "outputs": [],
   "source": [
    "import pandas as pd\n",
    "import numpy as np\n",
    "import datetime\n",
    "import warnings\n",
    "import glob\n",
    "import seaborn as sns\n",
    "import matplotlib.pyplot as plt\n",
    "import matplotlib.colors as pltc\n",
    "from tqdm import tqdm\n",
    "import sys\n",
    "import os\n",
    "import re\n",
    "\n",
    "import importlib\n",
    "\n",
    "#### packages\n",
    "import helper.strategy_helper as st_hp\n",
    "import helper.visualization as vz_hp\n",
    "import helper.helper as hp\n",
    "import helper.file_helper as file_hp\n",
    "import config.config as config_hp\n",
    "import helper.twitter_helper as twitter_hp\n",
    "import helper.pandas_helper as pd_hp"
   ]
  },
  {
   "cell_type": "markdown",
   "id": "3b859bea-0702-412a-9340-f8edf6d31a0a",
   "metadata": {
    "jp-MarkdownHeadingCollapsed": true,
    "tags": []
   },
   "source": [
    "#### **Load data**"
   ]
  },
  {
   "cell_type": "code",
   "execution_count": 2,
   "id": "bad0c0e6-e55b-4ea1-bb52-3a3f1729c4eb",
   "metadata": {},
   "outputs": [],
   "source": [
    "df_egypt = pd.read_pickle('egypt_022020_annotated_done.pkl.gz')"
   ]
  },
  {
   "cell_type": "code",
   "execution_count": 3,
   "id": "d742a149-6f9e-49fd-85a3-6b38bea4e26d",
   "metadata": {
    "tags": []
   },
   "outputs": [
    {
     "data": {
      "text/html": [
       "<div>\n",
       "<style scoped>\n",
       "    .dataframe tbody tr th:only-of-type {\n",
       "        vertical-align: middle;\n",
       "    }\n",
       "\n",
       "    .dataframe tbody tr th {\n",
       "        vertical-align: top;\n",
       "    }\n",
       "\n",
       "    .dataframe thead th {\n",
       "        text-align: right;\n",
       "    }\n",
       "</style>\n",
       "<table border=\"1\" class=\"dataframe\">\n",
       "  <thead>\n",
       "    <tr style=\"text-align: right;\">\n",
       "      <th></th>\n",
       "      <th>Unnamed: 0</th>\n",
       "      <th>username</th>\n",
       "      <th>description</th>\n",
       "      <th>type</th>\n",
       "      <th>country</th>\n",
       "    </tr>\n",
       "  </thead>\n",
       "  <tbody>\n",
       "    <tr>\n",
       "      <th>0</th>\n",
       "      <td>0</td>\n",
       "      <td>realDonaldTrump</td>\n",
       "      <td>45th President of the United States of America🇺🇸</td>\n",
       "      <td>president</td>\n",
       "      <td>USA</td>\n",
       "    </tr>\n",
       "    <tr>\n",
       "      <th>1</th>\n",
       "      <td>1</td>\n",
       "      <td>TawakkolKarman</td>\n",
       "      <td>NOBEL PEACE PRIZE LAUREATE. Facebook Oversight...</td>\n",
       "      <td>nobel peace prize laureate</td>\n",
       "      <td>Yemen</td>\n",
       "    </tr>\n",
       "    <tr>\n",
       "      <th>2</th>\n",
       "      <td>2</td>\n",
       "      <td>hamadjjalthani</td>\n",
       "      <td>HBJ</td>\n",
       "      <td>politician</td>\n",
       "      <td>Qatar</td>\n",
       "    </tr>\n",
       "    <tr>\n",
       "      <th>3</th>\n",
       "      <td>3</td>\n",
       "      <td>KSAembassyTR</td>\n",
       "      <td>الحساب الرسمي لسفارة المملكة العربية السعودية ...</td>\n",
       "      <td>embassy of saudi arabia</td>\n",
       "      <td>Turkey</td>\n",
       "    </tr>\n",
       "    <tr>\n",
       "      <th>4</th>\n",
       "      <td>4</td>\n",
       "      <td>AlsisiOfficial</td>\n",
       "      <td>الحساب الرسمي للرئيس عبدالفتاح السيسي رئيس جمه...</td>\n",
       "      <td>president</td>\n",
       "      <td>egypt</td>\n",
       "    </tr>\n",
       "  </tbody>\n",
       "</table>\n",
       "</div>"
      ],
      "text/plain": [
       "   Unnamed: 0         username  \\\n",
       "0           0  realDonaldTrump   \n",
       "1           1   TawakkolKarman   \n",
       "2           2   hamadjjalthani   \n",
       "3           3     KSAembassyTR   \n",
       "4           4   AlsisiOfficial   \n",
       "\n",
       "                                         description  \\\n",
       "0   45th President of the United States of America🇺🇸   \n",
       "1  NOBEL PEACE PRIZE LAUREATE. Facebook Oversight...   \n",
       "2                                                HBJ   \n",
       "3  الحساب الرسمي لسفارة المملكة العربية السعودية ...   \n",
       "4  الحساب الرسمي للرئيس عبدالفتاح السيسي رئيس جمه...   \n",
       "\n",
       "                         type country  \n",
       "0                   president     USA  \n",
       "1  nobel peace prize laureate   Yemen  \n",
       "2                  politician   Qatar  \n",
       "3     embassy of saudi arabia  Turkey  \n",
       "4                   president   egypt  "
      ]
     },
     "execution_count": 3,
     "metadata": {},
     "output_type": "execute_result"
    }
   ],
   "source": [
    "df_egypt.head()"
   ]
  },
  {
   "cell_type": "markdown",
   "id": "5a6fde4e-70cf-4924-ac59-ab0f5ca9f625",
   "metadata": {
    "jp-MarkdownHeadingCollapsed": true,
    "tags": []
   },
   "source": [
    "#### **Preprocess**"
   ]
  },
  {
   "cell_type": "code",
   "execution_count": 75,
   "id": "e06b88e7-f9d3-4ca6-a6c8-39b07ff8c96c",
   "metadata": {},
   "outputs": [
    {
     "name": "stderr",
     "output_type": "stream",
     "text": [
      "/tmp/ipykernel_2104694/3814507570.py:108: UserWarning: This pattern is interpreted as a regular expression, and has match groups. To actually get the groups, use str.extract.\n",
      "  df_egypt.loc[df_egypt['type'].str.contains('random (parody)'), 'annotation'] = 'Entertainment'\n"
     ]
    }
   ],
   "source": [
    "df_egypt['country_text'] = None\n",
    "df_egypt.loc[df_egypt['country_text'].isnull(), 'country_text'] = 'Not available'\n",
    "df_egypt['country_text'] = df_egypt['country'].str.lower()\n",
    "\n",
    "\n",
    "#country\n",
    "df_egypt.loc[df_egypt['country_text'] == 'ny', 'country_text'] = 'USA'\n",
    "df_egypt.loc[df_egypt['country_text'] == 'maroc', 'country_text'] = 'Morocoo'\n",
    "df_egypt.loc[df_egypt['country_text'] == 'moroccan', 'country_text'] = 'Morocoo'\n",
    "df_egypt.loc[df_egypt['country_text'] == 'morocco', 'country_text'] = 'Morocoo'\n",
    "\n",
    "df_egypt.loc[df_egypt['country_text'] == 'dubi', 'country_text'] = 'UAE'\n",
    "df_egypt.loc[df_egypt['country_text'] == 'kurkey', 'country_text'] = 'Turkey'\n",
    "df_egypt.loc[df_egypt['country_text'] == 'liby', 'country_text'] = 'Libya'\n",
    "df_egypt.loc[df_egypt['country_text'] == 'sudann', 'country_text'] = 'Sudan'\n",
    "df_egypt.loc[df_egypt['country_text'] == 'southfield michigan', 'country_text'] = 'USA'\n",
    "df_egypt.loc[df_egypt['country_text'] == 'southfield michigan', 'country_text'] = 'USA'\n",
    "df_egypt.loc[df_egypt['country_text'] == 'saudi rabia', 'country_text'] = 'Saudi Arabia'\n",
    "df_egypt.loc[df_egypt['country_text'] == 'doha', 'country_text'] = 'Qatar'\n",
    "\n",
    "df_egypt['country_text'] = df_egypt['country_text'].str.capitalize()\n",
    "df_egypt.loc[df_egypt['country_text'] == 'Egpyt', 'country_text'] = 'Egypt'\n",
    "\n",
    "df_egypt.loc[df_egypt['country_text'] == 'usa', 'country_text'] = 'USA'\n",
    "df_egypt.loc[df_egypt['country_text'] == 'London', 'country_text'] = 'UK'\n",
    "             \n",
    "df_egypt.loc[\n",
    "    df_egypt['country_text'] == 'Uae', \n",
    "    'country_text'] = 'UAE'\n",
    "df_egypt.loc[\n",
    "    df_egypt['country_text'] == 'Saudi arabia',\n",
    "    'country_text'] = 'Saudi Arabia'\n",
    "df_egypt.loc[\n",
    "    df_egypt['country_text'] == 'Usa',\n",
    "    'country_text'] = 'USA'\n",
    "df_egypt.loc[df_egypt['country_text'].isnull(), 'country_text'] = 'Not available'\n",
    "\n",
    "\n",
    "#annotation (profession)\n",
    "\n",
    "df_egypt['annotation'] = None\n",
    "df_egypt.loc[df_egypt['type'].str.contains('state official'), 'annotation'] = 'State Official'\n",
    "df_egypt.loc[df_egypt['type'].str.contains('king'), 'annotation'] = 'State Official'\n",
    "df_egypt.loc[df_egypt['type'].str.contains('news media'), 'annotation'] = 'News Media'\n",
    "df_egypt.loc[df_egypt['type'].str.contains('monarch'), 'annotation'] = 'State Official'\n",
    "df_egypt.loc[df_egypt['type'] == 'president', 'annotation'] = 'State Official'\n",
    "\n",
    "df_egypt.loc[df_egypt['type'].str.contains('football'), 'annotation'] = 'Sports'\n",
    "df_egypt.loc[df_egypt['type'].str.contains('nobel peace prize'), 'annotation'] = 'Journalist'\n",
    "df_egypt.loc[df_egypt['type'].str.contains('politician'), 'annotation'] = 'State Official'\n",
    "\n",
    "df_egypt.loc[df_egypt['type'].str.contains('embassy of saudi'), 'annotation'] = 'State Department \\n Account'\n",
    "df_egypt.loc[df_egypt['type'].str.contains('random'), 'annotation'] = 'Random Account'\n",
    "df_egypt.loc[df_egypt['type'].str.contains('pop star'), 'annotation'] = 'Entertainment'\n",
    "df_egypt.loc[df_egypt['type'].str.contains('actress'), 'annotation'] = 'Entertainment'\n",
    "df_egypt.loc[df_egypt['type'].str.contains('minister'), 'annotation'] = 'State Official'\n",
    "\n",
    "\n",
    "df_egypt.loc[df_egypt['type'].str.contains('lawyer'), 'annotation'] = 'Lawyer'\n",
    "df_egypt.loc[df_egypt['type'].str.contains('journalist'), 'annotation'] = 'Journalist'\n",
    "df_egypt.loc[df_egypt['type'].str.contains('board of director'), 'annotation'] = 'NGO'\n",
    "df_egypt.loc[df_egypt['type'].str.contains('entertainment'), 'annotation'] = 'Entertainment'\n",
    "df_egypt.loc[df_egypt['type'].str.contains('ministry of foreign affairs'), 'annotation'] = 'State Department \\n Account'\n",
    "df_egypt.loc[df_egypt['type'].str.contains('US secretary of state'), 'annotation'] = 'State Official'\n",
    "df_egypt.loc[df_egypt['type'].str.contains('writer'), 'annotation'] = 'Journalist'\n",
    "df_egypt.loc[df_egypt['type'].str.contains('not found'), 'annotation'] = 'Not available'\n",
    "# df_egypt.loc[df_egypt['type'].str.contains('politician'), 'not found'] = 'Entertainment'\n",
    "df_egypt.loc[df_egypt['type'].str.contains('influencer'), 'annotation'] = 'Influencer'\n",
    "\n",
    "df_egypt.loc[df_egypt['type'].str.contains('actor'), 'annotation'] = 'Entertainment'\n",
    "df_egypt.loc[df_egypt['type'].str.contains('twitter account to circulate video'), 'annotation'] = 'Random Account'\n",
    "df_egypt.loc[df_egypt['type'].str.contains('car account'), 'annotation'] = 'Customer Support \\n Account'\n",
    "df_egypt.loc[df_egypt['type'].str.contains('chairman of southern national dialogue committee'), 'annotation'] = 'State Official'\n",
    "\n",
    "df_egypt.loc[df_egypt['type'].str.contains('chairman'), 'annotation'] = 'Entertainment'\n",
    "df_egypt.loc[df_egypt['type'].str.contains('artist singer'), 'annotation'] = 'Entertainment'\n",
    "df_egypt.loc[df_egypt['type'].str.contains('professor'), 'annotation'] = 'Researcher'\n",
    "df_egypt.loc[df_egypt['type'].str.contains('youtube channel'), 'annotation'] = 'Random Account'\n",
    "df_egypt.loc[df_egypt['type'].str.contains('ambassador from new zealand'), 'annotation'] = 'State Official'\n",
    "\n",
    "df_egypt.loc[df_egypt['type'].str.contains('UAE permanent mission to UN'), 'annotation'] = 'NGO'\n",
    "df_egypt.loc[df_egypt['type'].str.contains('artist'), 'annotation'] = 'Entertainment'\n",
    "df_egypt.loc[df_egypt['type'].str.contains('political activist'), 'annotation'] = 'Political Activist'\n",
    "\n",
    "df_egypt.loc[df_egypt['type'].str.contains('singer'), 'annotation'] = 'Entertainment'\n",
    "df_egypt.loc[df_egypt['type'].str.contains('media office of libyan national government'), 'annotation'] = 'State Department \\n Account'\n",
    "df_egypt.loc[df_egypt['type'].str.contains('pilot'), 'annotation'] = 'Random Account'\n",
    "\n",
    "\n",
    "df_egypt.loc[df_egypt['type'].str.contains('activist'), 'annotation'] = 'Political Activist'\n",
    "df_egypt.loc[df_egypt['type'].str.contains('art historian'), 'annotation'] = 'Random Account'\n",
    "df_egypt.loc[df_egypt['type'].str.contains('chairman of entertainment'), 'annotation'] = 'Entertainment'\n",
    "df_egypt.loc[df_egypt['type'].str.contains('filmmaker'), 'annotation'] = 'Entertainment'\n",
    "\n",
    "df_egypt.loc[df_egypt['type'].str.contains('sports'), 'annotation' ] = 'Sports'\n",
    "df_egypt.loc[df_egypt['type'].str.contains('media personality'), 'annotation'] = 'Entertainment'\n",
    "df_egypt.loc[df_egypt['type'].str.contains('musician'), 'annotation'] = 'Entertainment'\n",
    "\n",
    "df_egypt.loc[df_egypt['type'].str.contains('state account'), 'annotation'] = 'State Department \\n Account'\n",
    "df_egypt.loc[df_egypt['type'].str.contains('ambassador'), 'annotation'] = 'State Official'\n",
    "df_egypt.loc[df_egypt['type'].str.contains('ceo of apex water'), 'annotation'] = 'Random Account'\n",
    "\n",
    "\n",
    "df_egypt.loc[df_egypt['type'].str.contains('religious'), 'annotation'] = 'Religious Account'\n",
    "df_egypt.loc[df_egypt['type'].str.contains('engineer'), 'annotation'] = 'Random Account'\n",
    "df_egypt.loc[df_egypt['type'].str.contains('blogger'), 'annotation'] = 'Random Account'\n",
    "\n",
    "df_egypt.loc[df_egypt['type'].str.contains('random (parody)'), 'annotation'] = 'Entertainment'\n",
    "df_egypt.loc[df_egypt['type'].str.contains('non-profit'), 'annotation'] = 'NGO'\n",
    "df_egypt.loc[df_egypt['type'].str.contains('non profit'), 'annotation'] = 'NGO'\n",
    "\n",
    "df_egypt.loc[df_egypt['type'].str.contains('DEMS specialist'), 'annotation'] = 'Random Account'\n",
    "df_egypt.loc[df_egypt['type'].str.contains('hacker'), 'annotation'] = 'Random Account'\n",
    "df_egypt.loc[df_egypt['type'].str.contains('customer'), 'annotation'] = 'Customer Support \\n Account'\n",
    "\n",
    "\n",
    "df_egypt.loc[df_egypt['type'].str.contains('researcher'), 'annotation'] = 'Researcher'\n",
    "df_egypt.loc[df_egypt['type'].str.contains('perfume brand account'), 'annotation'] = 'Customer Support \\n Account'\n",
    "df_egypt.loc[df_egypt['type'].str.contains('political leader'), 'annotation'] = 'State Official'\n",
    "\n",
    "df_egypt.loc[df_egypt['type'].str.contains('political leader'), 'annotation'] = 'State Official'\n",
    "df_egypt.loc[df_egypt['type'].str.contains('trade union'), 'annotation'] = 'State Department \\n Account'\n",
    "\n",
    "df_egypt.loc[df_egypt['type'].str.contains('social media'), 'annotation'] = 'Customer Support \\n Account'\n",
    "df_egypt.loc[df_egypt['type'].str.contains('former fighter'), 'annotation'] = 'Random Account'\n",
    "\n",
    "df_egypt.loc[df_egypt['type'].str.contains('ceo'), 'annotation'] = 'State Official'\n",
    "\n",
    "\n",
    "df_egypt.loc[\n",
    "    df_egypt['country_text'] == 'Dubai',\n",
    "    'country_text'] = 'UAE'\n",
    "df_egypt.loc[\n",
    "    df_egypt['country_text'] == 'Middle east',\n",
    "    'country_text'] = 'Saudi Arabia'\n",
    "df_egypt.loc[\n",
    "    df_egypt['country_text'] == 'Global',\n",
    "    'country_text'] = 'USA'\n",
    "df_egypt.loc[\n",
    "    df_egypt['country_text'].isin(['Arab south', 'Gulf and arab world']),\n",
    "    'country_text'] = 'Saudi Arabia'"
   ]
  },
  {
   "cell_type": "code",
   "execution_count": 76,
   "id": "ab077887-ca6a-48d9-a76d-05861e5f9aab",
   "metadata": {
    "tags": []
   },
   "outputs": [
    {
     "data": {
      "text/plain": [
       "array(['USA', 'Yemen', 'Qatar', 'Turkey', 'Egypt', 'Saudi Arabia',\n",
       "       'Kuwait', 'UAE', 'Spain', 'Syria', 'Lebanon', 'Sudan', 'Libya',\n",
       "       'Morocoo', 'Not available', 'UK', 'Oman', 'Australia', 'Pakistan',\n",
       "       'Bahrain', 'Toronto', 'Germany', 'Mauritania', 'Jordan', 'France',\n",
       "       'Tunisia', 'Vietnam', 'Portugal'], dtype=object)"
      ]
     },
     "execution_count": 76,
     "metadata": {},
     "output_type": "execute_result"
    }
   ],
   "source": [
    "df_egypt['country_text'].unique()"
   ]
  },
  {
   "cell_type": "code",
   "execution_count": 77,
   "id": "759abee1-8f64-406a-aaef-131bac61c3bf",
   "metadata": {
    "tags": []
   },
   "outputs": [
    {
     "data": {
      "text/plain": [
       "28"
      ]
     },
     "execution_count": 77,
     "metadata": {},
     "output_type": "execute_result"
    }
   ],
   "source": [
    "df_egypt['country_text'].nunique()"
   ]
  },
  {
   "cell_type": "code",
   "execution_count": 78,
   "id": "61f2335f-a2bd-4a3f-9815-b087dfc81a3c",
   "metadata": {
    "tags": []
   },
   "outputs": [
    {
     "data": {
      "text/plain": [
       "array(['State Official', 'Journalist', 'State Department \\n Account',\n",
       "       'Random Account', 'News Media', 'Entertainment', 'Lawyer',\n",
       "       'Sports', 'NGO', 'Not available', 'Influencer',\n",
       "       'Customer Support \\n Account', 'Researcher', 'Political Activist',\n",
       "       'Religious Account'], dtype=object)"
      ]
     },
     "execution_count": 78,
     "metadata": {},
     "output_type": "execute_result"
    }
   ],
   "source": [
    "df_egypt['annotation'].unique()"
   ]
  },
  {
   "cell_type": "code",
   "execution_count": 79,
   "id": "b5bea6fd-d343-4813-a248-f67fdeedbfac",
   "metadata": {
    "tags": []
   },
   "outputs": [
    {
     "data": {
      "text/plain": [
       "15"
      ]
     },
     "execution_count": 79,
     "metadata": {},
     "output_type": "execute_result"
    }
   ],
   "source": [
    "df_egypt['annotation'].nunique()"
   ]
  },
  {
   "cell_type": "code",
   "execution_count": 80,
   "id": "5cc281c5-094a-4df4-8f65-d7f0cf10b4f2",
   "metadata": {},
   "outputs": [
    {
     "data": {
      "text/html": [
       "<div>\n",
       "<style scoped>\n",
       "    .dataframe tbody tr th:only-of-type {\n",
       "        vertical-align: middle;\n",
       "    }\n",
       "\n",
       "    .dataframe tbody tr th {\n",
       "        vertical-align: top;\n",
       "    }\n",
       "\n",
       "    .dataframe thead th {\n",
       "        text-align: right;\n",
       "    }\n",
       "</style>\n",
       "<table border=\"1\" class=\"dataframe\">\n",
       "  <thead>\n",
       "    <tr style=\"text-align: right;\">\n",
       "      <th></th>\n",
       "      <th>Unnamed: 0</th>\n",
       "      <th>username</th>\n",
       "      <th>description</th>\n",
       "      <th>type</th>\n",
       "      <th>country</th>\n",
       "      <th>country_text</th>\n",
       "      <th>annotation</th>\n",
       "    </tr>\n",
       "  </thead>\n",
       "  <tbody>\n",
       "    <tr>\n",
       "      <th>0</th>\n",
       "      <td>0</td>\n",
       "      <td>realDonaldTrump</td>\n",
       "      <td>45th President of the United States of America🇺🇸</td>\n",
       "      <td>president</td>\n",
       "      <td>USA</td>\n",
       "      <td>USA</td>\n",
       "      <td>State Official</td>\n",
       "    </tr>\n",
       "  </tbody>\n",
       "</table>\n",
       "</div>"
      ],
      "text/plain": [
       "   Unnamed: 0         username  \\\n",
       "0           0  realDonaldTrump   \n",
       "\n",
       "                                        description       type country  \\\n",
       "0  45th President of the United States of America🇺🇸  president     USA   \n",
       "\n",
       "  country_text      annotation  \n",
       "0          USA  State Official  "
      ]
     },
     "execution_count": 80,
     "metadata": {},
     "output_type": "execute_result"
    }
   ],
   "source": [
    "df_egypt.head(1)"
   ]
  },
  {
   "cell_type": "code",
   "execution_count": 81,
   "id": "96ee8f6a-9a9a-4b25-a5d6-c854c48e2289",
   "metadata": {
    "tags": []
   },
   "outputs": [],
   "source": [
    "df_egypt.to_pickle('egypt_022020_preprocessed.pkl.gz')"
   ]
  },
  {
   "cell_type": "markdown",
   "id": "a5a4c9ef-bda2-4a57-9609-3797ca645d99",
   "metadata": {
    "jp-MarkdownHeadingCollapsed": true,
    "tags": []
   },
   "source": [
    "#### **The number of target from different countries**"
   ]
  },
  {
   "cell_type": "code",
   "execution_count": 2,
   "id": "8cec5bc4-2dd2-487c-8c1b-3dadf3fe2507",
   "metadata": {},
   "outputs": [],
   "source": [
    "df_egypt = pd.read_pickle('egypt_022020_preprocessed.pkl.gz')\n",
    "df_country_grp = (df_egypt.groupby(['country_text'])\n",
    "                  .size()\n",
    "                  .to_frame('count')\n",
    "                  .reset_index()\n",
    "                 )\n",
    "\n",
    "df_country_grp = df_country_grp.sort_values(by=['count'],\n",
    "                                            ascending=False)"
   ]
  },
  {
   "cell_type": "code",
   "execution_count": 3,
   "id": "e1a197e9-a933-4aaa-a08c-70608a4e541c",
   "metadata": {
    "tags": []
   },
   "outputs": [
    {
     "data": {
      "text/plain": [
       "372"
      ]
     },
     "execution_count": 3,
     "metadata": {},
     "output_type": "execute_result"
    }
   ],
   "source": [
    "df_country_grp['count'].sum()"
   ]
  },
  {
   "cell_type": "code",
   "execution_count": 4,
   "id": "c830ceaf-8211-43f1-ae03-ec3a33b60924",
   "metadata": {
    "tags": []
   },
   "outputs": [
    {
     "data": {
      "text/plain": [
       "27"
      ]
     },
     "execution_count": 4,
     "metadata": {},
     "output_type": "execute_result"
    }
   ],
   "source": [
    "df_country_grp['country_text'].nunique() - 1"
   ]
  },
  {
   "cell_type": "code",
   "execution_count": 5,
   "id": "76680fe5-af21-4f6c-8961-0d4c044aad2e",
   "metadata": {
    "tags": []
   },
   "outputs": [],
   "source": [
    "df_country_grp['count'] = df_country_grp['count'].astype(int)"
   ]
  },
  {
   "cell_type": "code",
   "execution_count": 6,
   "id": "9fb8d8ae-0142-4484-b099-e59deba10469",
   "metadata": {
    "tags": []
   },
   "outputs": [],
   "source": [
    "import helper.visualization as vz_hp\n",
    "importlib.reload(vz_hp)\n",
    "\n",
    "def bar_graph(parameters):\n",
    "    keys = parameters.keys()\n",
    "    \n",
    "    if 'size' in keys:\n",
    "        size = parameters['size']\n",
    "    else:\n",
    "        size = (8, 8)\n",
    "        \n",
    "    \n",
    "    fig, ax = plt.subplots(figsize=size)\n",
    "        \n",
    "    fontsize = parameters['fontsize']\n",
    "    colors = ['red', 'blue', 'orange', 'red', 'olive', \n",
    "              'pink', 'lime', 'maroon']\n",
    "    \n",
    "    x = parameters['x']\n",
    "    y = parameters['y']\n",
    "    \n",
    "    if ('bar' in keys) and parameters['bar'] == 'h':\n",
    "        print('here')\n",
    "        ax.barh(x,\n",
    "               y, \n",
    "               alpha=0.5,\n",
    "               color=colors[1],\n",
    "                )\n",
    "    else:\n",
    "        ax.bar(x,\n",
    "           y, \n",
    "           alpha=0.5,\n",
    "           color=colors[1],\n",
    "            )\n",
    "        \n",
    "    ax.set_ylabel(parameters['ylabel'], fontsize=fontsize)\n",
    "    ax.set_xlabel(parameters['xlabel'], fontsize=fontsize)\n",
    "\n",
    "\n",
    "    ax.tick_params(axis='both', which='both', \n",
    "                   labelsize=14, labelbottom=True)\n",
    "    ax.xaxis.set_tick_params(labelbottom=True)\n",
    "    ax.yaxis.set_tick_params(labelbottom=True)\n",
    "\n",
    "    if 'title' in keys:\n",
    "        title = parameters['title']\n",
    "        ax.set_title(f'{title}')\n",
    "\n",
    "    if ('labelrotation' in keys) and parameters['labelrotation'] != None:\n",
    "        labelrotation = parameters['labelrotation']\n",
    "    else:\n",
    "        labelrotation = None\n",
    "        \n",
    "    ax.tick_params(axis='x', labelrotation=labelrotation)\n",
    "    \n",
    "    ax.spines['top'].set_color('none')\n",
    "    ax.spines['right'].set_color('none')\n",
    "#     ax.spines['bottom'].set_color('none')\n",
    "#     ax.spines['left'].set_color('none')\n",
    "    fig.tight_layout()\n",
    "\n",
    "    if 'show' in keys and parameters['show'] == False:\n",
    "        plt.close()\n",
    "    else:\n",
    "        plt.show()\n",
    "    \n",
    "    if 'save' in keys:\n",
    "        save_path = parameters['save']['path']\n",
    "        filename = parameters['save']['filename']\n",
    "\n",
    "        fig.savefig(f'{save_path}/{filename}', \n",
    "              facecolor='white', \n",
    "              transparent=False)"
   ]
  },
  {
   "cell_type": "code",
   "execution_count": 8,
   "id": "7f41594c-3e8a-45bf-b4bf-02ac7e8c045f",
   "metadata": {
    "tags": []
   },
   "outputs": [
    {
     "data": {
      "text/plain": [
       "'/N/slate/potem/project/infoOps-strategy/plots/reply_characterization'"
      ]
     },
     "execution_count": 8,
     "metadata": {},
     "output_type": "execute_result"
    }
   ],
   "source": [
    "reply_plot_path"
   ]
  },
  {
   "cell_type": "code",
   "execution_count": 7,
   "id": "b41184fd-b41f-4345-994e-5982b68ceebd",
   "metadata": {
    "tags": []
   },
   "outputs": [
    {
     "name": "stdout",
     "output_type": "stream",
     "text": [
      "here\n"
     ]
    },
    {
     "data": {
      "image/png": "[encoded data removed]",
      "text/plain": [
       "<Figure size 1000x1200 with 1 Axes>"
      ]
     },
     "metadata": {},
     "output_type": "display_data"
    }
   ],
   "source": [
    "importlib.reload(config_hp)\n",
    "\n",
    "config = config_hp.config()\n",
    "plot_path = config['PLOTS']\n",
    "reply_plot_path = plot_path['reply_plot_path']\n",
    "\n",
    "# Sample data\n",
    "x = df_country_grp['country_text'].tolist()\n",
    "y = df_country_grp['count'].tolist()\n",
    "\n",
    "parameters =  {\n",
    "        'fontsize': 14,\n",
    "        'size': (10, 12),\n",
    "        'bar': 'h',\n",
    "        'x': x,\n",
    "        'y': y,\n",
    "        'xlabel': 'Number of targets (Egypt_022020 campaign)', \n",
    "        'ylabel': 'Countries',\n",
    "        'legend_location': '',\n",
    "        # 'labelrotation': 90,\n",
    "        # 'title': 'Egypt_022020',\n",
    "        'save': {\n",
    "            'path': reply_plot_path,\n",
    "            'filename': 'egypt_022020_target_country.png'\n",
    "        },\n",
    "        'random_color': False\n",
    "    }\n",
    "\n",
    "\n",
    "\n",
    "bar_graph(parameters)"
   ]
  },
  {
   "cell_type": "markdown",
   "id": "d5acc3ac-62e7-49e2-936d-48cf09ffc93a",
   "metadata": {
    "jp-MarkdownHeadingCollapsed": true,
    "tags": []
   },
   "source": [
    "#### **Types of targets**"
   ]
  },
  {
   "cell_type": "code",
   "execution_count": 51,
   "id": "65571b7a-307c-4609-8b8b-814d1dede814",
   "metadata": {
    "tags": []
   },
   "outputs": [],
   "source": [
    "# df_egypt['type'].unique()"
   ]
  },
  {
   "cell_type": "code",
   "execution_count": 89,
   "id": "34c3efb0-bfee-49c6-9fbf-2c7a04ec27d5",
   "metadata": {
    "tags": []
   },
   "outputs": [],
   "source": [
    "# all_types = df_egypt['type'].unique().tolist()\n",
    "# for x in all_types:\n",
    "#     print(f'\\n\\n *** {x} ** \\n\\n')\n",
    "#     df_found = df_egypt.loc[df_egypt['type'].str.contains(x)]\n",
    "    \n",
    "#     print(df_found)\n",
    "    \n",
    "#     name = input(\"Enter your name: \")"
   ]
  },
  {
   "cell_type": "code",
   "execution_count": 14,
   "id": "d4aaa7d1-6400-42f0-8007-c339050e1b62",
   "metadata": {
    "tags": []
   },
   "outputs": [
    {
     "data": {
      "text/plain": [
       "array(['State Official', 'Journalist', 'State Department \\n Account',\n",
       "       'Random Account', 'News Media', 'Entertainment', 'Lawyer',\n",
       "       'Sports', 'NGO', 'Not available', 'Influencer',\n",
       "       'Customer Support \\n Account', 'Researcher', 'Political Activist',\n",
       "       'Religious Account'], dtype=object)"
      ]
     },
     "execution_count": 14,
     "metadata": {},
     "output_type": "execute_result"
    }
   ],
   "source": [
    "df_egypt['annotation'].unique()"
   ]
  },
  {
   "cell_type": "code",
   "execution_count": 15,
   "id": "d7dcded4-ab19-4548-bd0a-e1bf86e40e43",
   "metadata": {
    "tags": []
   },
   "outputs": [],
   "source": [
    "df_egypt.loc[df_egypt['annotation'] == 'Random Account', 'annotation'] = 'Not available'"
   ]
  },
  {
   "cell_type": "code",
   "execution_count": 16,
   "id": "88ff6f30-34f5-43ab-a375-3a2d3426973b",
   "metadata": {
    "tags": []
   },
   "outputs": [
    {
     "data": {
      "text/plain": [
       "14"
      ]
     },
     "execution_count": 16,
     "metadata": {},
     "output_type": "execute_result"
    }
   ],
   "source": [
    "df_egypt['annotation'].nunique()"
   ]
  },
  {
   "cell_type": "code",
   "execution_count": 17,
   "id": "12b0f637-c5f3-447f-a87d-473f4456e3d0",
   "metadata": {
    "tags": []
   },
   "outputs": [
    {
     "data": {
      "text/html": [
       "<div>\n",
       "<style scoped>\n",
       "    .dataframe tbody tr th:only-of-type {\n",
       "        vertical-align: middle;\n",
       "    }\n",
       "\n",
       "    .dataframe tbody tr th {\n",
       "        vertical-align: top;\n",
       "    }\n",
       "\n",
       "    .dataframe thead th {\n",
       "        text-align: right;\n",
       "    }\n",
       "</style>\n",
       "<table border=\"1\" class=\"dataframe\">\n",
       "  <thead>\n",
       "    <tr style=\"text-align: right;\">\n",
       "      <th></th>\n",
       "      <th>Unnamed: 0</th>\n",
       "      <th>username</th>\n",
       "      <th>description</th>\n",
       "      <th>type</th>\n",
       "      <th>country</th>\n",
       "      <th>country_text</th>\n",
       "      <th>annotation</th>\n",
       "    </tr>\n",
       "  </thead>\n",
       "  <tbody>\n",
       "  </tbody>\n",
       "</table>\n",
       "</div>"
      ],
      "text/plain": [
       "Empty DataFrame\n",
       "Columns: [Unnamed: 0, username, description, type, country, country_text, annotation]\n",
       "Index: []"
      ]
     },
     "execution_count": 17,
     "metadata": {},
     "output_type": "execute_result"
    }
   ],
   "source": [
    "df_egypt.loc[df_egypt['annotation'].isnull()]"
   ]
  },
  {
   "cell_type": "code",
   "execution_count": 18,
   "id": "812e8363-4895-4ed3-8dc8-0ff5574bb1ad",
   "metadata": {
    "tags": []
   },
   "outputs": [
    {
     "name": "stdout",
     "output_type": "stream",
     "text": [
      "14\n",
      "14\n",
      "here\n"
     ]
    },
    {
     "data": {
      "image/png": "[encoded data removed]",
      "text/plain": [
       "<Figure size 1000x1000 with 1 Axes>"
      ]
     },
     "metadata": {},
     "output_type": "display_data"
    }
   ],
   "source": [
    "df_person_grp = (df_egypt.groupby(['annotation'])\n",
    "                  .size()\n",
    "                  .to_frame('count')\n",
    "                  .reset_index()\n",
    "                 )\n",
    "\n",
    "df_person_grp = df_person_grp.sort_values(by=['count'],\n",
    "                                          ascending=False)\n",
    "\n",
    "\n",
    "importlib.reload(config_hp)\n",
    "\n",
    "config = config_hp.config()\n",
    "plot_path = config['PLOTS']\n",
    "reply_plot_path = plot_path['reply_plot_path']\n",
    "\n",
    "\n",
    "# Sample data\n",
    "x = df_person_grp['annotation'].tolist()\n",
    "y = df_person_grp['count'].tolist()\n",
    "\n",
    "print(len(x))\n",
    "print(len(y))\n",
    "\n",
    "parameters =  {\n",
    "        'fontsize': 14,\n",
    "        'size': (10, 10),\n",
    "        'x': x,\n",
    "        'y': y,\n",
    "        'bar': 'h',\n",
    "        'labelrotation': 90,\n",
    "\n",
    "        'xlabel': 'Number of targets (Egypt_022020 campaign)',\n",
    "        'ylabel': 'Profession',\n",
    "        'legend_location': '',\n",
    "        # 'title': 'Egypt_022020',\n",
    "        'save': {\n",
    "            'path': reply_plot_path,\n",
    "            'filename': 'egypt_022020_target_profession.png'\n",
    "        },\n",
    "        'random_color': False\n",
    "    }\n",
    "\n",
    "\n",
    "\n",
    "bar_graph(parameters)"
   ]
  },
  {
   "cell_type": "markdown",
   "id": "8bcaf37b-f79e-4bb2-b2c6-a2d3eafb1853",
   "metadata": {
    "jp-MarkdownHeadingCollapsed": true,
    "tags": []
   },
   "source": [
    "#### **Make common annotation**"
   ]
  },
  {
   "cell_type": "code",
   "execution_count": 2,
   "id": "9546d1d7-2645-463c-87c9-ffa7b7e157e5",
   "metadata": {
    "tags": []
   },
   "outputs": [
    {
     "name": "stdout",
     "output_type": "stream",
     "text": [
      "Index(['Unnamed: 0', 'username', 'description', 'type', 'country',\n",
      "       'country_label', 'type_label'],\n",
      "      dtype='object')\n"
     ]
    }
   ],
   "source": [
    "df_egypt = pd.read_pickle('egypt_022020_preprocessed.pkl.gz')\n",
    "\n",
    "\n",
    "df_egypt.rename(columns={'country_text': 'country_label',\n",
    "                         'annotation': 'type_label'\n",
    "                        }, inplace=True)\n",
    "\n",
    "print(df_egypt.columns)\n",
    "\n",
    "df_egypt['type_label'].unique()\n",
    "\n",
    "replace = {\n",
    "    'Random Account': 'Random',\n",
    "    'Political Activist': 'Activist',\n",
    "    'State Department \\n Account': 'State Department',\n",
    "    'Influencer': 'Social Media Influencer',\n",
    "}\n",
    "\n",
    "df_egypt['type_label'] = df_egypt['type_label'].replace(replace)\n",
    "\n",
    "\n",
    "df_egypt[['username',\n",
    "           'description',\n",
    "           'type_label',\n",
    "           'country_label'\n",
    "          ]].to_pickle('./data/egypt_annotated_preprocessed.pkl.gz')"
   ]
  },
  {
   "cell_type": "code",
   "execution_count": null,
   "id": "e73024f0-d171-4105-b2e3-62c62e2137f8",
   "metadata": {},
   "outputs": [],
   "source": []
  }
 ],
 "metadata": {
  "kernelspec": {
   "display_name": "Python 3 (ipykernel)",
   "language": "python",
   "name": "python3"
  },
  "language_info": {
   "codemirror_mode": {
    "name": "ipython",
    "version": 3
   },
   "file_extension": ".py",
   "mimetype": "text/x-python",
   "name": "python",
   "nbconvert_exporter": "python",
   "pygments_lexer": "ipython3",
   "version": "3.10.9"
  }
 },
 "nbformat": 4,
 "nbformat_minor": 5
}
