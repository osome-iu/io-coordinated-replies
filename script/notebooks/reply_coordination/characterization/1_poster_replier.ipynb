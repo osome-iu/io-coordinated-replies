{
 "cells": [
  {
   "cell_type": "markdown",
   "id": "bfc8188e-bfa7-45a5-8454-116be166148a",
   "metadata": {},
   "source": [
    "##### **This notebook explores the poster and replier interaction**"
   ]
  },
  {
   "cell_type": "markdown",
   "id": "57eee75d-793d-4052-a28c-79ff73a8d9d1",
   "metadata": {},
   "source": [
    "**Some of the qns:** <br />\n",
    "- Jaccard of replier in 24 hours <br />\n",
    "- Context of poster tweets if present <br />\n",
    "- Duration of post to reply <br />\n",
    "- Semantic similarity of poster tweet and replies <br />"
   ]
  },
  {
   "cell_type": "markdown",
   "id": "2d3c9f29-a280-44e5-a5d9-792260edef07",
   "metadata": {},
   "source": [
    "##### **Context of poster tweets if present**"
   ]
  },
  {
   "cell_type": "code",
   "execution_count": 3,
   "id": "274e8f73-e3e8-41e9-a2ca-1c7f916d1ae0",
   "metadata": {},
   "outputs": [],
   "source": [
    "import pandas as pd\n",
    "import numpy as np\n",
    "import datetime\n",
    "import warnings\n",
    "import glob\n",
    "import seaborn as sns\n",
    "import matplotlib.pyplot as plt\n",
    "import matplotlib.colors as pltc\n",
    "import sys\n",
    "import os\n",
    "\n",
    "import importlib\n",
    "\n",
    "#### packages\n",
    "import helper.strategy_helper as st\n",
    "import helper.visualization as vz\n",
    "import helper.helper as hp\n",
    "import helper.file_helper as file_hp\n",
    "import config.config as config\n",
    "import helper.pandas_helper as pd_hp"
   ]
  },
  {
   "cell_type": "code",
   "execution_count": null,
   "id": "4771a519-88ba-4a74-a6de-ebd2c1617adc",
   "metadata": {},
   "outputs": [],
   "source": [
    "config = config.config()\n",
    "poster_path = config['POSTER_PATH']\n",
    "poster_original_tweets_file = poster_path['poster_original_tweets_file']\n",
    "# derived_path = path['derived_path']\n",
    "# all_replies = path['all_replies']"
   ]
  },
  {
   "cell_type": "code",
   "execution_count": null,
   "id": "6bfda6ba-0832-4c61-8276-dcc618666125",
   "metadata": {},
   "outputs": [],
   "source": []
  },
  {
   "cell_type": "code",
   "execution_count": null,
   "id": "b4ea26b4-1b5b-456d-9788-ecf963466b83",
   "metadata": {},
   "outputs": [],
   "source": [
    "poster_original_tweets_file"
   ]
  }
 ],
 "metadata": {
  "kernelspec": {
   "display_name": "Python 3 (ipykernel)",
   "language": "python",
   "name": "python3"
  },
  "language_info": {
   "codemirror_mode": {
    "name": "ipython",
    "version": 3
   },
   "file_extension": ".py",
   "mimetype": "text/x-python",
   "name": "python",
   "nbconvert_exporter": "python",
   "pygments_lexer": "ipython3",
   "version": "3.9.1"
  }
 },
 "nbformat": 4,
 "nbformat_minor": 5
}
