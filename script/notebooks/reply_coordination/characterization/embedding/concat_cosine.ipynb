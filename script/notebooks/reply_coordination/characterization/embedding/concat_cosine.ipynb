{
 "cells": [
  {
   "cell_type": "markdown",
   "id": "6e967f0c-2e89-4033-8cf2-76f4da5c4f84",
   "metadata": {},
   "source": [
    "#### **This notebook concats all cosine similarity**"
   ]
  },
  {
   "cell_type": "code",
   "execution_count": 1,
   "id": "1698c2fd-4285-4f0c-b804-3225168271bb",
   "metadata": {
    "tags": []
   },
   "outputs": [],
   "source": [
    "import pandas as pd\n",
    "import numpy as np\n",
    "import datetime\n",
    "import warnings\n",
    "import glob\n",
    "import seaborn as sns\n",
    "import matplotlib.pyplot as plt\n",
    "import matplotlib.colors as pltc\n",
    "import sys\n",
    "import os\n",
    "\n",
    "import importlib\n",
    "\n",
    "#### packages\n",
    "import helper.strategy_helper as st\n",
    "import helper.visualization as viz_hp\n",
    "import helper.helper as hp\n",
    "import helper.file_helper as file_hp\n",
    "import config.config as config_hp\n",
    "import helper.pandas_helper as pd_hp"
   ]
  },
  {
   "cell_type": "markdown",
   "id": "4b9e6a60-b30f-40a0-9a81-8a23a1bc3582",
   "metadata": {},
   "source": [
    "#### **Concat all cosine data**"
   ]
  },
  {
   "cell_type": "code",
   "execution_count": null,
   "id": "6bc9189b-49ab-47b3-a546-ab42f04094b5",
   "metadata": {
    "tags": []
   },
   "outputs": [],
   "source": [
    "path = '/N/slate/potem/data/derived/reply_embedding/'\n",
    "filename = 'replier_tweetid_combination*'\n",
    "files = os.path.join(path, filename)\n",
    "df_all = pd.DataFrame()\n",
    "for file in glob.glob(files):\n",
    "    print(file)\n",
    "    \n",
    "    if file == '/N/slate/potem/data/derived/reply_embedding/replier_tweetid_combination.pkl.gz':\n",
    "        continue\n",
    "        \n",
    "    df = pd.read_pickle(file)\n",
    "    \n",
    "    df_all = df_all.append(df, ignore_index=True)"
   ]
  },
  {
   "cell_type": "code",
   "execution_count": 10,
   "id": "314fce42-1d4e-43ef-b454-476d2567bf69",
   "metadata": {
    "tags": []
   },
   "outputs": [
    {
     "name": "stdout",
     "output_type": "stream",
     "text": [
      "<class 'pandas.core.frame.DataFrame'>\n",
      "RangeIndex: 1458180200 entries, 0 to 1458180199\n",
      "Data columns (total 4 columns):\n",
      " #   Column          Dtype  \n",
      "---  ------          -----  \n",
      " 0   poster_tweetid  object \n",
      " 1   replier_x       object \n",
      " 2   replier_y       object \n",
      " 3   cosine          float32\n",
      "dtypes: float32(1), object(3)\n",
      "memory usage: 38.0+ GB\n"
     ]
    }
   ],
   "source": [
    "df_all.info()"
   ]
  },
  {
   "cell_type": "code",
   "execution_count": 12,
   "id": "2060b088-0ee8-40b3-92a0-168e240d178f",
   "metadata": {
    "tags": []
   },
   "outputs": [
    {
     "name": "stderr",
     "output_type": "stream",
     "text": [
      "/tmp/ipykernel_2168346/416250505.py:10: FutureWarning: The frame.append method is deprecated and will be removed from pandas in a future version. Use pandas.concat instead.\n",
      "  df_conv = df_neg.append(df_pos)\n"
     ]
    }
   ],
   "source": [
    "config = config_hp.config()\n",
    "balanced = config['BALANCED']\n",
    "\n",
    "balanced_neg_conversation = balanced['balanced_neg_conversation']\n",
    "balanced_pos_conversation = balanced['balanced_pos_conversation']\n",
    "\n",
    "df_neg = pd.read_pickle(balanced_neg_conversation)\n",
    "df_pos = pd.read_pickle(balanced_pos_conversation)\n",
    "\n",
    "df_conv = df_neg.append(df_pos)"
   ]
  },
  {
   "cell_type": "code",
   "execution_count": 13,
   "id": "546ae076-c3b9-4db1-b431-af33762de932",
   "metadata": {
    "tags": []
   },
   "outputs": [
    {
     "data": {
      "text/plain": [
       "Index(['tweet_text', 'conversation_id', 'replier_tweetid', 'replier_userid',\n",
       "       'poster_userid', 'poster_tweetid', 'tweet_time', 'tweet_language',\n",
       "       'replier_label', 'year', 'campaign', 'tweet_label', 'tweet_time_year',\n",
       "       'common', 'id', 'username'],\n",
       "      dtype='object')"
      ]
     },
     "execution_count": 13,
     "metadata": {},
     "output_type": "execute_result"
    }
   ],
   "source": [
    "df_conv.columns"
   ]
  },
  {
   "cell_type": "code",
   "execution_count": 17,
   "id": "76288c56-d07a-468c-a8ef-7a548590224a",
   "metadata": {
    "tags": []
   },
   "outputs": [
    {
     "name": "stdout",
     "output_type": "stream",
     "text": [
      "        poster_tweetid  tweet_label\n",
      "0  1000004851579981824            1\n",
      "1  1000082706007543808            1\n",
      "2  1000082709685948416            1\n",
      "3  1000086025161625600            1\n",
      "4  1000096002135781376            1\n"
     ]
    }
   ],
   "source": [
    "grouped = df_conv.groupby(['poster_tweetid', 'tweet_label'])\n",
    "\n",
    "# Get the keys of the groupby operation\n",
    "keys = list(grouped.groups.keys())\n",
    "\n",
    "# Create a DataFrame from the keys\n",
    "df_grp = pd.DataFrame(data=keys, columns=['poster_tweetid','tweet_label'])\n",
    "\n",
    "print(df_grp.head())"
   ]
  },
  {
   "cell_type": "code",
   "execution_count": null,
   "id": "240ce038-fdbb-4dbf-bd48-8403a87a6ae6",
   "metadata": {
    "tags": []
   },
   "outputs": [],
   "source": [
    "config = config_hp.config()\n",
    "embedding_path = config['EMBEDDINGS_PATH']\n",
    "\n",
    "cosine_pair_wise = embedding_path['cosine_pair_wise']\n",
    "\n",
    "df_temp = df_all.merge(df_grp[['poster_tweetid',\n",
    "                                'tweet_label'\n",
    "                               ]])\n",
    "\n",
    "df_temp.to_pickle(cosine_pair_wise)"
   ]
  },
  {
   "cell_type": "code",
   "execution_count": null,
   "id": "9e776bca-e0ea-4646-ad2b-c6f39821f7a3",
   "metadata": {},
   "outputs": [],
   "source": []
  }
 ],
 "metadata": {
  "kernelspec": {
   "display_name": "Python 3 (ipykernel)",
   "language": "python",
   "name": "python3"
  },
  "language_info": {
   "codemirror_mode": {
    "name": "ipython",
    "version": 3
   },
   "file_extension": ".py",
   "mimetype": "text/x-python",
   "name": "python",
   "nbconvert_exporter": "python",
   "pygments_lexer": "ipython3",
   "version": "3.10.9"
  }
 },
 "nbformat": 4,
 "nbformat_minor": 5
}
