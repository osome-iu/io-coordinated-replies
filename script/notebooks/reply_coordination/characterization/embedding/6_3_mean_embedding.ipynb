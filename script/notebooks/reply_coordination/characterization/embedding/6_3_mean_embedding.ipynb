{
 "cells": [
  {
   "cell_type": "markdown",
   "id": "6eea58c6-dd51-48c6-ab60-88ab971c82f6",
   "metadata": {
    "jp-MarkdownHeadingCollapsed": true,
    "tags": []
   },
   "source": [
    "#### **This notebook takes the mean of embedding for each user**"
   ]
  },
  {
   "cell_type": "code",
   "execution_count": 10,
   "id": "d7e43c49-4c44-4bca-a0ca-00c6299aaf12",
   "metadata": {
    "tags": []
   },
   "outputs": [],
   "source": [
    "import pandas as pd\n",
    "import numpy as np\n",
    "import os\n",
    "import importlib\n",
    "import config.config as config_hp\n",
    "import torch"
   ]
  },
  {
   "cell_type": "markdown",
   "id": "11796240-bd67-40cd-88df-d91a40c35eaa",
   "metadata": {
    "jp-MarkdownHeadingCollapsed": true,
    "tags": []
   },
   "source": [
    "#### **Load data**"
   ]
  },
  {
   "cell_type": "code",
   "execution_count": 2,
   "id": "8091fbb9-d5bd-45b2-aade-f4e106f8ecd5",
   "metadata": {
    "tags": []
   },
   "outputs": [],
   "source": [
    "importlib.reload(config_hp)\n",
    "\n",
    "config = config_hp.config()\n",
    "\n",
    "embedding_path = config['EMBEDDINGS_PATH']\n",
    "reply_multilanguage_embedding = embedding_path['reply_multilanguage_embedding']\n",
    "\n",
    "df_embedding = pd.read_pickle(reply_multilanguage_embedding)"
   ]
  },
  {
   "cell_type": "markdown",
   "id": "d1451c87-25f4-4b1a-a08b-6ab35ab4fa39",
   "metadata": {
    "jp-MarkdownHeadingCollapsed": true,
    "tags": []
   },
   "source": [
    "#### **Find the mean**"
   ]
  },
  {
   "cell_type": "code",
   "execution_count": 3,
   "id": "d2f66c0a-dfd2-4fcd-abfa-a8acb1ae55ef",
   "metadata": {
    "tags": []
   },
   "outputs": [
    {
     "name": "stdout",
     "output_type": "stream",
     "text": [
      "<class 'pandas.core.frame.DataFrame'>\n",
      "RangeIndex: 2673091 entries, 0 to 2673090\n",
      "Data columns (total 5 columns):\n",
      " #   Column           Dtype \n",
      "---  ------           ----- \n",
      " 0   replier_tweetid  object\n",
      " 1   poster_userid    object\n",
      " 2   poster_tweetid   object\n",
      " 3   replier_userid   object\n",
      " 4   embeddings       object\n",
      "dtypes: object(5)\n",
      "memory usage: 102.0+ MB\n"
     ]
    }
   ],
   "source": [
    "df_embedding.info()"
   ]
  },
  {
   "cell_type": "code",
   "execution_count": 4,
   "id": "1cc49392-149d-4fb6-88d7-93c76ef43fdb",
   "metadata": {
    "tags": []
   },
   "outputs": [
    {
     "data": {
      "text/plain": [
       "1123831"
      ]
     },
     "execution_count": 4,
     "metadata": {},
     "output_type": "execute_result"
    }
   ],
   "source": [
    "df_embedding['replier_userid'].nunique()"
   ]
  },
  {
   "cell_type": "code",
   "execution_count": 40,
   "id": "50d0e322-4469-4421-9385-2e9737f043b1",
   "metadata": {
    "tags": []
   },
   "outputs": [
    {
     "data": {
      "text/plain": [
       "torch.Tensor"
      ]
     },
     "execution_count": 40,
     "metadata": {},
     "output_type": "execute_result"
    }
   ],
   "source": [
    "type(df_embedding['embeddings'][0])"
   ]
  },
  {
   "cell_type": "code",
   "execution_count": null,
   "id": "86b482c2-dd89-428e-8dfa-a644b7abb0d0",
   "metadata": {
    "tags": []
   },
   "outputs": [
    {
     "name": "stdout",
     "output_type": "stream",
     "text": [
      "1123831\n"
     ]
    }
   ],
   "source": [
    "def get_mean_of_embedding(df):\n",
    "    '''\n",
    "    Gets the mean of embedding of the replies for each user\n",
    "    :param df: dataframe\n",
    "    \n",
    "    :return dataframe\n",
    "    '''\n",
    "    print(df['replier_userid'].nunique())\n",
    "    \n",
    "    df_grp = df.groupby(['replier_userid'])['embeddings'].apply(\n",
    "        lambda x: torch.stack(x.values.tolist())  #if len(x) > 1 else torch.tensor(x.values[0])\n",
    "    ).reset_index()\n",
    "    \n",
    "    df_grp['mean_tensor'] = df_grp['embeddings'].apply(\n",
    "        lambda x: torch.mean(x, dim=0)\n",
    "    )\n",
    "\n",
    "    importlib.reload(config_hp)\n",
    "\n",
    "    config = config_hp.config()\n",
    "\n",
    "    embedding_path = config['EMBEDDINGS_PATH']\n",
    "    mean_embedding_user = embedding_path['mean_embedding_user']\n",
    "    \n",
    "    df_grp.to_pickle(mean_embedding_user)\n",
    "    \n",
    "    return df_grp\n",
    "    \n",
    "    \n",
    "df_grp = get_mean_of_embedding(df_embedding)"
   ]
  },
  {
   "cell_type": "code",
   "execution_count": 53,
   "id": "56108b40-581a-45ef-8695-983634ea0439",
   "metadata": {
    "tags": []
   },
   "outputs": [
    {
     "data": {
      "text/plain": [
       "torch.Size([1, 768])"
      ]
     },
     "execution_count": 53,
     "metadata": {},
     "output_type": "execute_result"
    }
   ],
   "source": [
    "df_grp['mean_tensor'][0].shape"
   ]
  },
  {
   "cell_type": "code",
   "execution_count": 54,
   "id": "3f73ee6e-d019-4289-92df-d7240d4f3cb2",
   "metadata": {
    "tags": []
   },
   "outputs": [
    {
     "data": {
      "text/plain": [
       "torch.Size([8, 1, 768])"
      ]
     },
     "execution_count": 54,
     "metadata": {},
     "output_type": "execute_result"
    }
   ],
   "source": [
    "df_grp['embeddings'][0].shape"
   ]
  },
  {
   "cell_type": "code",
   "execution_count": null,
   "id": "f318af8d-f185-4eb1-b86e-a901a2e38d41",
   "metadata": {},
   "outputs": [],
   "source": []
  }
 ],
 "metadata": {
  "kernelspec": {
   "display_name": "Python 3 (ipykernel)",
   "language": "python",
   "name": "python3"
  },
  "language_info": {
   "codemirror_mode": {
    "name": "ipython",
    "version": 3
   },
   "file_extension": ".py",
   "mimetype": "text/x-python",
   "name": "python",
   "nbconvert_exporter": "python",
   "pygments_lexer": "ipython3",
   "version": "3.10.9"
  }
 },
 "nbformat": 4,
 "nbformat_minor": 5
}
