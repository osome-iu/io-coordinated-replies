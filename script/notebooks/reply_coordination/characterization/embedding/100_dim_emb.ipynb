{
 "cells": [
  {
   "cell_type": "markdown",
   "id": "6082011e-de88-4292-9570-33470795f45e",
   "metadata": {},
   "source": [
    "#### **This notebook gets the 100 dimension of embedding**"
   ]
  },
  {
   "cell_type": "code",
   "execution_count": 1,
   "id": "87bfa2a2-acc1-42fb-bc8a-f2eef93085d7",
   "metadata": {
    "tags": []
   },
   "outputs": [
    {
     "name": "stderr",
     "output_type": "stream",
     "text": [
      "/N/slate/potem/miniconda3/lib/python3.10/site-packages/tqdm/auto.py:21: TqdmWarning: IProgress not found. Please update jupyter and ipywidgets. See https://ipywidgets.readthedocs.io/en/stable/user_install.html\n",
      "  from .autonotebook import tqdm as notebook_tqdm\n"
     ]
    }
   ],
   "source": [
    "import pandas as pd\n",
    "import numpy as np\n",
    "import warnings\n",
    "import glob\n",
    "import seaborn as sns\n",
    "import matplotlib.pyplot as plt\n",
    "import matplotlib.colors as pltc\n",
    "import json\n",
    "from tqdm import tqdm\n",
    "import sys\n",
    "import os\n",
    "\n",
    "import importlib\n",
    "\n",
    "#### packages\n",
    "import helper.strategy_helper as st\n",
    "import helper.visualization as vz\n",
    "import helper.helper as hp\n",
    "import helper.file_helper as file_hp\n",
    "import config.config as config_hp\n",
    "import helper.pandas_helper as pd_hp\n",
    "import helper.twitter_helper as twitter_hp\n",
    "\n",
    "import torch"
   ]
  },
  {
   "cell_type": "markdown",
   "id": "848f8d28-1226-448e-82bb-0c53a79ff53a",
   "metadata": {},
   "source": [
    "#### **Load files**"
   ]
  },
  {
   "cell_type": "code",
   "execution_count": 2,
   "id": "d7c2f3c3-e80d-4aeb-8243-b836104d1f32",
   "metadata": {
    "tags": []
   },
   "outputs": [],
   "source": [
    "importlib.reload(config_hp)\n",
    "\n",
    "config = config_hp.config()\n",
    "\n",
    "embedding_path = config['EMBEDDINGS_PATH']\n",
    "reply_multilanguage_embedding = embedding_path['reply_multilanguage_embedding']\n",
    "\n",
    "df_emb = pd.read_pickle(reply_multilanguage_embedding)"
   ]
  },
  {
   "cell_type": "code",
   "execution_count": 3,
   "id": "7e5445d7-dafa-41d0-9db5-32b4a6af2555",
   "metadata": {
    "tags": []
   },
   "outputs": [
    {
     "data": {
      "text/plain": [
       "Index(['replier_tweetid', 'poster_userid', 'poster_tweetid', 'replier_userid',\n",
       "       'embeddings'],\n",
       "      dtype='object')"
      ]
     },
     "execution_count": 3,
     "metadata": {},
     "output_type": "execute_result"
    }
   ],
   "source": [
    "df_emb.columns"
   ]
  },
  {
   "cell_type": "markdown",
   "id": "1a1eab2d-c840-44ae-918f-1b05c12366b2",
   "metadata": {},
   "source": [
    "#### **Change to 100 dimesion**"
   ]
  },
  {
   "cell_type": "code",
   "execution_count": 4,
   "id": "91e8e993-1bd4-4c8c-86dd-26d64514ae4e",
   "metadata": {
    "tags": []
   },
   "outputs": [],
   "source": [
    "X = torch.stack(df_emb['embeddings'].tolist())\n",
    "Y = X[: ,:, :100] "
   ]
  },
  {
   "cell_type": "code",
   "execution_count": 6,
   "id": "c7bca4e7-0247-4c28-9b7b-8ad2bdd28b87",
   "metadata": {
    "tags": []
   },
   "outputs": [
    {
     "data": {
      "text/plain": [
       "torch.Size([2673091, 1, 100])"
      ]
     },
     "execution_count": 6,
     "metadata": {},
     "output_type": "execute_result"
    }
   ],
   "source": [
    "Y.shape"
   ]
  },
  {
   "cell_type": "code",
   "execution_count": 7,
   "id": "feaadc2b-fc62-44b0-89e2-64c5cefc7a10",
   "metadata": {
    "tags": []
   },
   "outputs": [],
   "source": [
    "dim1_size = Y.size(0)\n",
    "\n",
    "# Convert each 2-dimensional slice to a list\n",
    "tensor_list = [Y[i, :, :] for i in range(dim1_size)]"
   ]
  },
  {
   "cell_type": "code",
   "execution_count": 8,
   "id": "242b6b60-a898-4204-af42-e9a5be102164",
   "metadata": {
    "tags": []
   },
   "outputs": [
    {
     "name": "stdout",
     "output_type": "stream",
     "text": [
      "<class 'pandas.core.frame.DataFrame'>\n",
      "RangeIndex: 2673091 entries, 0 to 2673090\n",
      "Data columns (total 5 columns):\n",
      " #   Column           Dtype \n",
      "---  ------           ----- \n",
      " 0   replier_tweetid  object\n",
      " 1   poster_userid    object\n",
      " 2   poster_tweetid   object\n",
      " 3   replier_userid   object\n",
      " 4   embeddings       object\n",
      "dtypes: object(5)\n",
      "memory usage: 102.0+ MB\n"
     ]
    }
   ],
   "source": [
    "df_emb.info()"
   ]
  },
  {
   "cell_type": "code",
   "execution_count": 9,
   "id": "a5ea589c-8538-4b85-a9a6-2cf025e1f05b",
   "metadata": {
    "tags": []
   },
   "outputs": [
    {
     "data": {
      "text/plain": [
       "torch.Size([1, 100])"
      ]
     },
     "execution_count": 9,
     "metadata": {},
     "output_type": "execute_result"
    }
   ],
   "source": [
    "tensor_list[0].shape"
   ]
  },
  {
   "cell_type": "code",
   "execution_count": 10,
   "id": "5b10e01d-e915-455c-80f5-647035885197",
   "metadata": {
    "tags": []
   },
   "outputs": [],
   "source": [
    "df_100 = df_emb[['replier_tweetid', \n",
    "                 'poster_userid',\n",
    "                 'poster_tweetid',\n",
    "                 'replier_userid']]\n",
    "df_100['embeddings'] = tensor_list"
   ]
  },
  {
   "cell_type": "code",
   "execution_count": 11,
   "id": "b04f6ae7-8bad-4ee4-9d29-cfbb8fa1a445",
   "metadata": {
    "tags": []
   },
   "outputs": [
    {
     "name": "stdout",
     "output_type": "stream",
     "text": [
      "<class 'pandas.core.frame.DataFrame'>\n",
      "RangeIndex: 2673091 entries, 0 to 2673090\n",
      "Data columns (total 5 columns):\n",
      " #   Column           Dtype \n",
      "---  ------           ----- \n",
      " 0   replier_tweetid  object\n",
      " 1   poster_userid    object\n",
      " 2   poster_tweetid   object\n",
      " 3   replier_userid   object\n",
      " 4   embeddings       object\n",
      "dtypes: object(5)\n",
      "memory usage: 102.0+ MB\n"
     ]
    }
   ],
   "source": [
    "df_100.info()"
   ]
  },
  {
   "cell_type": "code",
   "execution_count": 12,
   "id": "07e4c0aa-4b4c-4f2c-9bd8-c4bffbdd9e6b",
   "metadata": {
    "tags": []
   },
   "outputs": [
    {
     "data": {
      "text/html": [
       "<div>\n",
       "<style scoped>\n",
       "    .dataframe tbody tr th:only-of-type {\n",
       "        vertical-align: middle;\n",
       "    }\n",
       "\n",
       "    .dataframe tbody tr th {\n",
       "        vertical-align: top;\n",
       "    }\n",
       "\n",
       "    .dataframe thead th {\n",
       "        text-align: right;\n",
       "    }\n",
       "</style>\n",
       "<table border=\"1\" class=\"dataframe\">\n",
       "  <thead>\n",
       "    <tr style=\"text-align: right;\">\n",
       "      <th></th>\n",
       "      <th>replier_tweetid</th>\n",
       "      <th>poster_userid</th>\n",
       "      <th>poster_tweetid</th>\n",
       "      <th>replier_userid</th>\n",
       "      <th>embeddings</th>\n",
       "    </tr>\n",
       "  </thead>\n",
       "  <tbody>\n",
       "    <tr>\n",
       "      <th>0</th>\n",
       "      <td>1174624178554724353</td>\n",
       "      <td>889133611366195200</td>\n",
       "      <td>1174348484973142016</td>\n",
       "      <td>1166809760945098753</td>\n",
       "      <td>[[tensor(0.7289), tensor(-0.8427), tensor(-0.3...</td>\n",
       "    </tr>\n",
       "  </tbody>\n",
       "</table>\n",
       "</div>"
      ],
      "text/plain": [
       "       replier_tweetid       poster_userid       poster_tweetid  \\\n",
       "0  1174624178554724353  889133611366195200  1174348484973142016   \n",
       "\n",
       "        replier_userid                                         embeddings  \n",
       "0  1166809760945098753  [[tensor(0.7289), tensor(-0.8427), tensor(-0.3...  "
      ]
     },
     "execution_count": 12,
     "metadata": {},
     "output_type": "execute_result"
    }
   ],
   "source": [
    "df_100.head(1)"
   ]
  },
  {
   "cell_type": "markdown",
   "id": "378a8df4-613a-4ff8-a603-c89b4da63aab",
   "metadata": {},
   "source": [
    "#### **Save the embedding**"
   ]
  },
  {
   "cell_type": "code",
   "execution_count": null,
   "id": "eee079e2-4266-4880-bebd-602186dd2286",
   "metadata": {
    "tags": []
   },
   "outputs": [],
   "source": [
    "importlib.reload(config_hp)\n",
    "\n",
    "config = config_hp.config()\n",
    "\n",
    "embedding_path = config['EMBEDDINGS_PATH']\n",
    "reply_multilanguage_embedding_100 = embedding_path['100_reply_multilanguage_embedding']\n",
    "\n",
    "df_100.to_pickle(reply_multilanguage_embedding_100)"
   ]
  },
  {
   "cell_type": "code",
   "execution_count": null,
   "id": "6ac76326-be28-438a-9914-88241b7cc6b4",
   "metadata": {},
   "outputs": [],
   "source": []
  }
 ],
 "metadata": {
  "kernelspec": {
   "display_name": "Python 3 (ipykernel)",
   "language": "python",
   "name": "python3"
  },
  "language_info": {
   "codemirror_mode": {
    "name": "ipython",
    "version": 3
   },
   "file_extension": ".py",
   "mimetype": "text/x-python",
   "name": "python",
   "nbconvert_exporter": "python",
   "pygments_lexer": "ipython3",
   "version": "3.10.9"
  }
 },
 "nbformat": 4,
 "nbformat_minor": 5
}
