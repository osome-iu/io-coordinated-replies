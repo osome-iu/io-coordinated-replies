{
 "cells": [
  {
   "cell_type": "markdown",
   "id": "b36193e5-8e2a-43ea-bb2d-01a6fd92f7df",
   "metadata": {},
   "source": [
    "#### **This notebook adds poster username in converstation data**"
   ]
  },
  {
   "cell_type": "code",
   "execution_count": 1,
   "id": "65b00055-3f03-40ec-8a48-7294b252e55b",
   "metadata": {
    "tags": []
   },
   "outputs": [],
   "source": [
    "import pandas as pd\n",
    "import numpy as np\n",
    "import datetime\n",
    "import warnings\n",
    "import glob\n",
    "import seaborn as sns\n",
    "import matplotlib.pyplot as plt\n",
    "import matplotlib.colors as pltc\n",
    "import sys\n",
    "import os\n",
    "\n",
    "import importlib\n",
    "\n",
    "#### packages\n",
    "import helper.strategy_helper as st\n",
    "import helper.visualization as viz_hp\n",
    "import helper.helper as hp\n",
    "import helper.file_helper as file_hp\n",
    "import config.config as config_hp\n",
    "import helper.pandas_helper as pd_hp\n",
    "import helper.twitter_helper as twitter_hp"
   ]
  },
  {
   "cell_type": "markdown",
   "id": "fcd0899c-9d8e-441f-a423-e1cf0addd3a8",
   "metadata": {
    "jp-MarkdownHeadingCollapsed": true,
    "tags": []
   },
   "source": [
    "#### **Load conversation data**"
   ]
  },
  {
   "cell_type": "code",
   "execution_count": 4,
   "id": "05f1129a-3047-43e6-8c0f-ad5789ce702e",
   "metadata": {
    "tags": []
   },
   "outputs": [
    {
     "name": "stderr",
     "output_type": "stream",
     "text": [
      "/tmp/ipykernel_353675/1946607980.py:12: FutureWarning: The frame.append method is deprecated and will be removed from pandas in a future version. Use pandas.concat instead.\n",
      "  df_conv = df_pos.append(df_neg)\n"
     ]
    }
   ],
   "source": [
    "importlib.reload(config_hp)\n",
    "\n",
    "config = config_hp.config()\n",
    "balanced = config['BALANCED']\n",
    "\n",
    "positive_conv = balanced['balanced_pos_conversation']\n",
    "df_pos = pd.read_pickle(positive_conv)\n",
    "\n",
    "negative_conv = balanced['balanced_neg_conversation']\n",
    "df_neg = pd.read_pickle(negative_conv)\n",
    "\n",
    "df_conv = df_pos.append(df_neg)"
   ]
  },
  {
   "cell_type": "code",
   "execution_count": 15,
   "id": "46f4bb98-b388-448a-808a-3bcf36421102",
   "metadata": {
    "tags": []
   },
   "outputs": [
    {
     "name": "stdout",
     "output_type": "stream",
     "text": [
      "<class 'pandas.core.frame.DataFrame'>\n",
      "Int64Index: 2673091 entries, 118 to 4272295\n",
      "Data columns (total 14 columns):\n",
      " #   Column           Dtype  \n",
      "---  ------           -----  \n",
      " 0   tweet_text       object \n",
      " 1   conversation_id  object \n",
      " 2   replier_tweetid  object \n",
      " 3   replier_userid   object \n",
      " 4   poster_userid    object \n",
      " 5   poster_tweetid   object \n",
      " 6   tweet_time       object \n",
      " 7   tweet_language   object \n",
      " 8   replier_label    int64  \n",
      " 9   year             object \n",
      " 10  campaign         object \n",
      " 11  tweet_label      int64  \n",
      " 12  tweet_time_year  object \n",
      " 13  common           float64\n",
      "dtypes: float64(1), int64(2), object(11)\n",
      "memory usage: 305.9+ MB\n"
     ]
    }
   ],
   "source": [
    "df_conv.info()"
   ]
  },
  {
   "cell_type": "markdown",
   "id": "6dd7a5bb-00b6-44b5-94c3-fc4028442e94",
   "metadata": {
    "jp-MarkdownHeadingCollapsed": true,
    "tags": []
   },
   "source": [
    "#### **Load poster original info**"
   ]
  },
  {
   "cell_type": "code",
   "execution_count": 10,
   "id": "719d443d-71e5-4c32-a1cd-e7c39c27e5af",
   "metadata": {
    "tags": []
   },
   "outputs": [],
   "source": [
    "importlib.reload(config_hp)\n",
    "\n",
    "config = config_hp.config()\n",
    "poster_path = config['POSTER_PATH']\n",
    "\n",
    "poster_info_file = poster_path['poster_info_file']\n",
    "df_poster = pd.read_pickle(poster_info_file)"
   ]
  },
  {
   "cell_type": "code",
   "execution_count": 11,
   "id": "e2fbc258-141b-43ac-b3e1-d7014d4cf1fc",
   "metadata": {
    "tags": []
   },
   "outputs": [
    {
     "data": {
      "text/plain": [
       "Index(['created_at', 'verified', 'description', 'protected', 'username', 'id',\n",
       "       'proile_image_url', 'pinned_tweet_id', 'name', 'public_metrics',\n",
       "       'followers_count', 'following_count', 'tweet_count', 'listed_count',\n",
       "       'location', 'profile_image_url'],\n",
       "      dtype='object')"
      ]
     },
     "execution_count": 11,
     "metadata": {},
     "output_type": "execute_result"
    }
   ],
   "source": [
    "df_poster.columns"
   ]
  },
  {
   "cell_type": "markdown",
   "id": "2a42c624-3a63-49bd-8614-af402a01633d",
   "metadata": {
    "jp-MarkdownHeadingCollapsed": true,
    "tags": []
   },
   "source": [
    "#### **Merge data**"
   ]
  },
  {
   "cell_type": "code",
   "execution_count": 8,
   "id": "779635b0-9fd8-480f-90fd-1383dd474c6b",
   "metadata": {
    "tags": []
   },
   "outputs": [
    {
     "name": "stdout",
     "output_type": "stream",
     "text": [
      "<class 'pandas.core.frame.DataFrame'>\n",
      "Int64Index: 2673091 entries, 118 to 4272295\n",
      "Data columns (total 14 columns):\n",
      " #   Column           Dtype  \n",
      "---  ------           -----  \n",
      " 0   tweet_text       object \n",
      " 1   conversation_id  object \n",
      " 2   replier_tweetid  object \n",
      " 3   replier_userid   object \n",
      " 4   poster_userid    object \n",
      " 5   poster_tweetid   object \n",
      " 6   tweet_time       object \n",
      " 7   tweet_language   object \n",
      " 8   replier_label    int64  \n",
      " 9   year             object \n",
      " 10  campaign         object \n",
      " 11  tweet_label      int64  \n",
      " 12  tweet_time_year  object \n",
      " 13  common           float64\n",
      "dtypes: float64(1), int64(2), object(11)\n",
      "memory usage: 305.9+ MB\n"
     ]
    }
   ],
   "source": [
    "df_conv.info()"
   ]
  },
  {
   "cell_type": "code",
   "execution_count": 12,
   "id": "a21693c6-a0d4-4c0a-abdf-72ee799e4fa2",
   "metadata": {
    "tags": []
   },
   "outputs": [
    {
     "name": "stdout",
     "output_type": "stream",
     "text": [
      "<class 'pandas.core.frame.DataFrame'>\n",
      "RangeIndex: 15016 entries, 0 to 15015\n",
      "Data columns (total 16 columns):\n",
      " #   Column             Non-Null Count  Dtype  \n",
      "---  ------             --------------  -----  \n",
      " 0   created_at         5983 non-null   object \n",
      " 1   verified           15016 non-null  object \n",
      " 2   description        15016 non-null  object \n",
      " 3   protected          5983 non-null   object \n",
      " 4   username           5983 non-null   object \n",
      " 5   id                 15016 non-null  object \n",
      " 6   proile_image_url   0 non-null      object \n",
      " 7   pinned_tweet_id    2900 non-null   object \n",
      " 8   name               5983 non-null   object \n",
      " 9   public_metrics     0 non-null      object \n",
      " 10  followers_count    5983 non-null   float64\n",
      " 11  following_count    5983 non-null   float64\n",
      " 12  tweet_count        5983 non-null   float64\n",
      " 13  listed_count       5983 non-null   float64\n",
      " 14  location           4435 non-null   object \n",
      " 15  profile_image_url  5983 non-null   object \n",
      "dtypes: float64(4), object(12)\n",
      "memory usage: 1.8+ MB\n"
     ]
    }
   ],
   "source": [
    "df_poster.info()"
   ]
  },
  {
   "cell_type": "code",
   "execution_count": 13,
   "id": "465b93d2-025a-42a0-a832-b359a7829cb6",
   "metadata": {
    "tags": []
   },
   "outputs": [],
   "source": [
    "df = df_conv.merge(df_poster[['id', 'username']],\n",
    "                   left_on=['poster_userid'],\n",
    "                   right_on=['id']\n",
    "                  )"
   ]
  },
  {
   "cell_type": "markdown",
   "id": "a4cbe700-88db-4316-beef-d73a09841075",
   "metadata": {
    "jp-MarkdownHeadingCollapsed": true,
    "tags": []
   },
   "source": [
    "#### **Save data**"
   ]
  },
  {
   "cell_type": "code",
   "execution_count": 16,
   "id": "a7fe3661-c511-42b0-bf32-b81b3634128b",
   "metadata": {
    "tags": []
   },
   "outputs": [],
   "source": [
    "df_pos_conv = df.loc[df['tweet_label'] == 1]\n",
    "df_neg_conv = df.loc[df['tweet_label'] == 0]"
   ]
  },
  {
   "cell_type": "code",
   "execution_count": 17,
   "id": "03376666-3269-43cb-85d0-3aa5002a72e0",
   "metadata": {
    "tags": []
   },
   "outputs": [],
   "source": [
    "positive_conv = balanced['balanced_pos_conversation']\n",
    "df_pos_conv.to_pickle(positive_conv)\n",
    "\n",
    "negative_conv = balanced['balanced_neg_conversation']\n",
    "df_neg_conv.to_pickle(negative_conv)"
   ]
  },
  {
   "cell_type": "code",
   "execution_count": null,
   "id": "c0ec7b2c-2150-4dc3-9faf-e7f5ef67a931",
   "metadata": {},
   "outputs": [],
   "source": []
  }
 ],
 "metadata": {
  "kernelspec": {
   "display_name": "Python 3 (ipykernel)",
   "language": "python",
   "name": "python3"
  },
  "language_info": {
   "codemirror_mode": {
    "name": "ipython",
    "version": 3
   },
   "file_extension": ".py",
   "mimetype": "text/x-python",
   "name": "python",
   "nbconvert_exporter": "python",
   "pygments_lexer": "ipython3",
   "version": "3.10.9"
  }
 },
 "nbformat": 4,
 "nbformat_minor": 5
}
