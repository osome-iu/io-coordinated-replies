{
 "cells": [
  {
   "cell_type": "markdown",
   "id": "66dda0bf-9545-415b-8498-5a08615b15ff",
   "metadata": {},
   "source": [
    "### **BERT sentence embedding**"
   ]
  },
  {
   "cell_type": "code",
   "execution_count": 1,
   "id": "2557187b-39f9-4f69-a9fd-e78da6750e28",
   "metadata": {
    "tags": []
   },
   "outputs": [
    {
     "name": "stderr",
     "output_type": "stream",
     "text": [
      "2023-03-15 18:38:11.140974: I tensorflow/core/platform/cpu_feature_guard.cc:193] This TensorFlow binary is optimized with oneAPI Deep Neural Network Library (oneDNN) to use the following CPU instructions in performance-critical operations:  AVX2 FMA\n",
      "To enable them in other operations, rebuild TensorFlow with the appropriate compiler flags.\n",
      "2023-03-15 18:38:14.069633: W tensorflow/compiler/xla/stream_executor/platform/default/dso_loader.cc:64] Could not load dynamic library 'libcudart.so.11.0'; dlerror: libcudart.so.11.0: cannot open shared object file: No such file or directory; LD_LIBRARY_PATH: /N/soft/rhel8/mvapich/gnu/2.3.5/lib:/N/soft/rhel8/gcc/9.3.0/lib64:/N/soft/rhel8/gcc/9.3.0/lib\n",
      "2023-03-15 18:38:14.069675: I tensorflow/compiler/xla/stream_executor/cuda/cudart_stub.cc:29] Ignore above cudart dlerror if you do not have a GPU set up on your machine.\n",
      "2023-03-15 18:38:34.436442: W tensorflow/compiler/xla/stream_executor/platform/default/dso_loader.cc:64] Could not load dynamic library 'libnvinfer.so.7'; dlerror: libnvinfer.so.7: cannot open shared object file: No such file or directory; LD_LIBRARY_PATH: /N/soft/rhel8/mvapich/gnu/2.3.5/lib:/N/soft/rhel8/gcc/9.3.0/lib64:/N/soft/rhel8/gcc/9.3.0/lib\n",
      "2023-03-15 18:38:34.436634: W tensorflow/compiler/xla/stream_executor/platform/default/dso_loader.cc:64] Could not load dynamic library 'libnvinfer_plugin.so.7'; dlerror: libnvinfer_plugin.so.7: cannot open shared object file: No such file or directory; LD_LIBRARY_PATH: /N/soft/rhel8/mvapich/gnu/2.3.5/lib:/N/soft/rhel8/gcc/9.3.0/lib64:/N/soft/rhel8/gcc/9.3.0/lib\n",
      "2023-03-15 18:38:34.436641: W tensorflow/compiler/tf2tensorrt/utils/py_utils.cc:38] TF-TRT Warning: Cannot dlopen some TensorRT libraries. If you would like to use Nvidia GPU with TensorRT, please make sure the missing libraries mentioned above are installed properly.\n"
     ]
    }
   ],
   "source": [
    "import torch \n",
    "from transformers import BertTokenizerFast, BertModel\n",
    "import pandas as pd\n",
    "\n",
    "import logging\n",
    "import matplotlib.pyplot as plt"
   ]
  },
  {
   "cell_type": "code",
   "execution_count": 2,
   "id": "79a6490c-0789-423f-bca6-771e5aef05fe",
   "metadata": {},
   "outputs": [],
   "source": [
    "sentences = list('xx')"
   ]
  },
  {
   "cell_type": "markdown",
   "id": "abf73e53-9230-4712-b164-80f04397b923",
   "metadata": {
    "jp-MarkdownHeadingCollapsed": true,
    "tags": []
   },
   "source": [
    "##### **Gets bert embedding**"
   ]
  },
  {
   "cell_type": "code",
   "execution_count": 10,
   "id": "0682a65a-a13f-4cce-9588-c3701ed26bc4",
   "metadata": {},
   "outputs": [],
   "source": [
    "def get_sentence_embedding(sentences,\n",
    "                           save_path=None):\n",
    "    '''\n",
    "    Get sentence embeddings\n",
    "    :param sentences\n",
    "    '''\n",
    "    tokenizer = BertTokenizerFast.from_pretrained('bert-base-uncased')\n",
    "    model = BertModel.from_pretrained('bert-base-uncased',\n",
    "                                      output_hidden_states = True, # Whether the model returns all hidden-states.\n",
    "                                      )\n",
    "    model.eval()\n",
    "\n",
    "    all_data = []\n",
    "    batch_size = 100\n",
    "    i = 0\n",
    "    for idx in range(0, len(sentences), batch_size):\n",
    "        batch = sentences[idx : min(len(sentences), idx+batch_size)]\n",
    "\n",
    "        # encoded = tokenizer(batch, padding=True, truncation=True, return_tensors='pt')\n",
    "        encoded = tokenizer.batch_encode_plus(batch,\n",
    "                                              max_length=50, \n",
    "                                              padding='max_length', \n",
    "                                              truncation=True)\n",
    "\n",
    "        # print(encoded)\n",
    "        encoded = {key:torch.LongTensor(value) for key, value in encoded.items()}\n",
    "        # print([key for key, value in encoded.items])\n",
    "        with torch.no_grad():\n",
    "            outputs = model(**encoded)\n",
    "        lhs = outputs[2] #all embedding in 13 layer\n",
    "\n",
    "        #[# layers, # batches, # tokens, # features]\n",
    "        # token_vecs = lhs[-2]\n",
    "        # print(len(token_vecs))\n",
    "        # print(lhs[0].size())\n",
    "\n",
    "        token_embeddings = torch.stack(lhs, dim=0)\n",
    "        # print(token_embeddings.size())\n",
    "\n",
    "        # # token_embeddings = torch.squeeze(token_embeddings, dim=1)\n",
    "\n",
    "        # # print(token_embeddings.size())\n",
    "        token_embeddings = token_embeddings.permute(1, 0, 2, 3)\n",
    "        # print(token_embeddings.size())\n",
    "        for embedding in token_embeddings:\n",
    "            #layer token features\n",
    "            # embedding = embedding.permute(1, 0, 2)\n",
    "            embedding = embedding[-4:] #\n",
    "\n",
    "            # print(embedding.size())\n",
    "            sentence_embedding = torch.sum(embedding, dim=0)\n",
    "\n",
    "\n",
    "            sentence_embedding = torch.mean(sentence_embedding, dim=0)\n",
    "\n",
    "            all_data.append(sentence_embedding.tolist())\n",
    "\n",
    "        if save_path == None:\n",
    "            return all_data\n",
    "        \n",
    "        \n",
    "        \n",
    "        return df_emb\n",
    "    \n",
    "# get_sentence_embedding(sentences)"
   ]
  },
  {
   "cell_type": "code",
   "execution_count": null,
   "id": "c83caa2d-9d16-4588-9a54-2781bf46e478",
   "metadata": {},
   "outputs": [],
   "source": []
  }
 ],
 "metadata": {
  "kernelspec": {
   "display_name": "Python 3 (ipykernel)",
   "language": "python",
   "name": "python3"
  },
  "language_info": {
   "codemirror_mode": {
    "name": "ipython",
    "version": 3
   },
   "file_extension": ".py",
   "mimetype": "text/x-python",
   "name": "python",
   "nbconvert_exporter": "python",
   "pygments_lexer": "ipython3",
   "version": "3.9.1"
  }
 },
 "nbformat": 4,
 "nbformat_minor": 5
}
