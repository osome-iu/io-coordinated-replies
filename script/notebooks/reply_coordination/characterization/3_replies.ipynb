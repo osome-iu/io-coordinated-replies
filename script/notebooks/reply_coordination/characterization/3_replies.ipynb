{
 "cells": [
  {
   "cell_type": "markdown",
   "id": "79b53458-4b1f-4fb7-996b-95f70c53cc13",
   "metadata": {},
   "source": [
    "#### **This notebook explores the replies**"
   ]
  },
  {
   "cell_type": "code",
   "execution_count": 1,
   "id": "c1adce42-b220-4396-9956-4b3b80a1aac7",
   "metadata": {},
   "outputs": [],
   "source": [
    "import pandas as pd\n",
    "import numpy as np\n",
    "import datetime\n",
    "import warnings\n",
    "import glob\n",
    "import seaborn as sns\n",
    "import matplotlib.pyplot as plt\n",
    "import matplotlib.colors as pltc\n",
    "import sys\n",
    "import os\n",
    "\n",
    "import importlib\n",
    "\n",
    "#### packages\n",
    "import helper.strategy_helper as st\n",
    "import helper.visualization as viz_hp\n",
    "import helper.helper as hp\n",
    "import helper.file_helper as file_hp\n",
    "import config.config as config_hp\n",
    "import helper.pandas_helper as pd_hp"
   ]
  },
  {
   "cell_type": "markdown",
   "id": "d8ea372a-364f-44e4-a689-841e6f256cb9",
   "metadata": {
    "jp-MarkdownHeadingCollapsed": true,
    "tags": []
   },
   "source": [
    "##### **Load config files**"
   ]
  },
  {
   "cell_type": "code",
   "execution_count": 2,
   "id": "c1a7575d-1d20-4be0-a86c-fc9d6919a248",
   "metadata": {},
   "outputs": [],
   "source": [
    "config = config_hp.config()\n",
    "path = config['PATHS']\n",
    "\n",
    "derived_path = path['derived_path']\n",
    "all_tweet_data = path['all_tweet_data']\n",
    "plot_path = path['plot_path']\n",
    "external_reply = path['external_reply']\n",
    "conversation_ids_5 = path['conversation_ids_5']"
   ]
  },
  {
   "cell_type": "markdown",
   "id": "fddada01-f065-4035-851e-7e536b60e26a",
   "metadata": {
    "jp-MarkdownHeadingCollapsed": true,
    "tags": []
   },
   "source": [
    "##### **Read files**"
   ]
  },
  {
   "cell_type": "code",
   "execution_count": 3,
   "id": "faa0056b-4841-4ca6-834e-6963bb494fdb",
   "metadata": {},
   "outputs": [],
   "source": [
    "df_external = pd.read_pickle(external_reply)"
   ]
  },
  {
   "cell_type": "code",
   "execution_count": 4,
   "id": "a52f66dd-e835-4df9-ab3f-88bb1f16c664",
   "metadata": {},
   "outputs": [
    {
     "name": "stdout",
     "output_type": "stream",
     "text": [
      "<class 'pandas.core.frame.DataFrame'>\n",
      "RangeIndex: 21427154 entries, 0 to 21427153\n",
      "Data columns (total 9 columns):\n",
      " #   Column           Dtype  \n",
      "---  ------           -----  \n",
      " 0   replier_tweetid  int64  \n",
      " 1   replier_userid   object \n",
      " 2   poster_tweetid   float64\n",
      " 3   poster_userid    float64\n",
      " 4   tweet_language   object \n",
      " 5   tweet_text       object \n",
      " 6   tweet_time       object \n",
      " 7   year             object \n",
      " 8   campaign         object \n",
      "dtypes: float64(2), int64(1), object(6)\n",
      "memory usage: 1.4+ GB\n"
     ]
    }
   ],
   "source": [
    "df_external.info()"
   ]
  },
  {
   "cell_type": "code",
   "execution_count": 5,
   "id": "cff59175-6d8d-4cc1-9ba2-51f6408a423c",
   "metadata": {},
   "outputs": [],
   "source": [
    "df_external = df_external.astype({\n",
    "    'poster_tweetid': int,\n",
    "})\n",
    "\n",
    "df_external = df_external.astype({\n",
    "    'poster_tweetid': str,\n",
    "    'poster_userid': str\n",
    "})"
   ]
  },
  {
   "cell_type": "code",
   "execution_count": 6,
   "id": "865ef917-5657-4a36-8e02-fa284c645890",
   "metadata": {},
   "outputs": [],
   "source": [
    "poster_tweetids = file_hp.read_file(conversation_ids_5)"
   ]
  },
  {
   "cell_type": "code",
   "execution_count": 7,
   "id": "0521f15d-ced4-4e15-9a04-9dc6fad28195",
   "metadata": {},
   "outputs": [
    {
     "name": "stderr",
     "output_type": "stream",
     "text": [
      "/tmp/ipykernel_1308766/3949000814.py:4: SettingWithCopyWarning: \n",
      "A value is trying to be set on a copy of a slice from a DataFrame.\n",
      "Try using .loc[row_indexer,col_indexer] = value instead\n",
      "\n",
      "See the caveats in the documentation: https://pandas.pydata.org/pandas-docs/stable/user_guide/indexing.html#returning-a-view-versus-a-copy\n",
      "  df_all_5['tweet_time'] =  pd.to_datetime(\n"
     ]
    }
   ],
   "source": [
    "df_all_5 = df_external.loc[\n",
    "    df_external['poster_tweetid'].isin(poster_tweetids)]\n",
    "\n",
    "df_all_5['tweet_time'] =  pd.to_datetime(\n",
    "    df_all_5['tweet_time'])\n",
    "df_all_5 = df_all_5.drop_duplicates(subset=['replier_tweetid'], \n",
    "                                keep='last')\n",
    "df_all_5 = df_all_5.sort_values(by=['tweet_time'], \n",
    "                    ascending=True).drop_duplicates()"
   ]
  },
  {
   "cell_type": "markdown",
   "id": "f7086729-3018-4cdd-97da-563823ecce68",
   "metadata": {
    "jp-MarkdownHeadingCollapsed": true,
    "tags": []
   },
   "source": [
    "##### **RQ1: Time duration between replies** <br />\n",
    "This includes all the replies whether the poster tweets are alive or not"
   ]
  },
  {
   "cell_type": "markdown",
   "id": "26b0a7ca-1da6-4768-902e-405ca150151d",
   "metadata": {},
   "source": [
    "**1 sec is added to all the time diff to account for the zero time difference**"
   ]
  },
  {
   "cell_type": "code",
   "execution_count": 8,
   "id": "fabed6f3-431f-43b9-82bb-5b22f1dfa054",
   "metadata": {},
   "outputs": [
    {
     "name": "stderr",
     "output_type": "stream",
     "text": [
      "/tmp/ipykernel_1308766/3822694540.py:3: SettingWithCopyWarning: \n",
      "A value is trying to be set on a copy of a slice from a DataFrame.\n",
      "Try using .loc[row_indexer,col_indexer] = value instead\n",
      "\n",
      "See the caveats in the documentation: https://pandas.pydata.org/pandas-docs/stable/user_guide/indexing.html#returning-a-view-versus-a-copy\n",
      "  df_5['diff'] = df_5['diff'] + datetime.timedelta(seconds=1)\n",
      "/tmp/ipykernel_1308766/3822694540.py:5: SettingWithCopyWarning: \n",
      "A value is trying to be set on a copy of a slice from a DataFrame.\n",
      "Try using .loc[row_indexer,col_indexer] = value instead\n",
      "\n",
      "See the caveats in the documentation: https://pandas.pydata.org/pandas-docs/stable/user_guide/indexing.html#returning-a-view-versus-a-copy\n",
      "  df_5['diff_min'] = df_5['diff'].apply(\n"
     ]
    },
    {
     "name": "stdout",
     "output_type": "stream",
     "text": [
      "Min time diff : 0 days 00:00:01\n",
      "Max time diff : 1476 days 23:44:01\n",
      "Total unique conversations : 96041\n",
      "Total data points with time difference data : 1368806\n",
      "Time difference in consecutive replying less than 60 min filtering : 1196845\n"
     ]
    }
   ],
   "source": [
    "df_all_5['diff'] = df_all_5.groupby('poster_tweetid')['tweet_time'].diff()\n",
    "df_5 = df_all_5.dropna(subset=['diff'])\n",
    "df_5['diff'] = df_5['diff'] + datetime.timedelta(seconds=1)\n",
    "\n",
    "df_5['diff_min'] = df_5['diff'].apply(\n",
    "    lambda x: int(np.ceil((x.total_seconds() + 1) / 3600)))\n",
    "df_5 = df_5.loc[df_5['diff_min'] >= 1]\n",
    "\n",
    "print('Min time diff :', df_5['diff'].min())\n",
    "print('Max time diff :', df_5['diff'].max())\n",
    "\n",
    "print('Total unique conversations :', df_5['poster_tweetid'].nunique())\n",
    "print('Total data points with time difference data :', len(df_5))\n",
    "print('Time difference in consecutive replying less than 60 min filtering :', \n",
    "      len(df_5.loc[df_5['diff'] <= datetime.timedelta(minutes=60)]))"
   ]
  },
  {
   "cell_type": "code",
   "execution_count": 9,
   "id": "6a84d7d6-d053-444e-a83d-e85b79c85ba0",
   "metadata": {},
   "outputs": [
    {
     "name": "stdout",
     "output_type": "stream",
     "text": [
      "Minimum diff in time in  hour:  1.0\n",
      "Maximum diff in time in hour:  35448.0\n"
     ]
    }
   ],
   "source": [
    "print('Minimum diff in time in  hour: ', \n",
    "      df_5['diff_min'].min())\n",
    "print('Maximum diff in time in hour: ',\n",
    "      df_5['diff_min'].max())"
   ]
  },
  {
   "cell_type": "code",
   "execution_count": 10,
   "id": "b2a7537d-9a86-4997-876d-d937e104bf02",
   "metadata": {},
   "outputs": [
    {
     "data": {
      "image/png": "[encoded data removed]",
      "text/plain": [
       "<Figure size 640x480 with 1 Axes>"
      ]
     },
     "metadata": {},
     "output_type": "display_data"
    }
   ],
   "source": [
    "plot_path = path['plot_path']\n",
    "reply_plot_path = file_hp.create_folder(plot_path, \n",
    "                                        'reply_characterization')\n",
    "df_no_zero = df_5.loc[(df_5['diff_min'] > 0)]\n",
    "\n",
    "parameters =  {\n",
    "        'data': df_no_zero,\n",
    "        'fontsize': 14,\n",
    "        'columns': [\n",
    "            {'column': 'diff_min',\n",
    "             'label': 'Difference reply time in hours',\n",
    "            }\n",
    "        ],\n",
    "        'xlabel': 'Time difference in replies (in hours)',\n",
    "        'ylabel': 'Frequency',\n",
    "        'legend_location': '',\n",
    "        'log_yscale': True,\n",
    "        'log_xscale': True,\n",
    "        'bins': None,\n",
    "        'save': {\n",
    "            'path': reply_plot_path,\n",
    "            'filename': 'time_difference_between_replies.png'\n",
    "        },\n",
    "        'title': 'Time difference of replies'\n",
    "    }\n",
    "\n",
    "viz_hp.plot_histogram(parameters)"
   ]
  },
  {
   "cell_type": "code",
   "execution_count": 11,
   "id": "1b0e13b1-e40e-4659-9b16-090227eda6d6",
   "metadata": {},
   "outputs": [
    {
     "name": "stderr",
     "output_type": "stream",
     "text": [
      "No artists with labels found to put in legend.  Note that artists whose label start with an underscore are ignored when legend() is called with no argument.\n"
     ]
    },
    {
     "data": {
      "image/png": "[encoded data removed]",
      "text/plain": [
       "<Figure size 800x800 with 1 Axes>"
      ]
     },
     "metadata": {},
     "output_type": "display_data"
    }
   ],
   "source": [
    "parameters = {\n",
    "        'data': [df_no_zero],\n",
    "        'fontsize': 14,\n",
    "        'complementary': False,\n",
    "        'columns': [\n",
    "            {'column': 'diff_min',\n",
    "             'label': '',\n",
    "            },{\n",
    "            'column': '',\n",
    "             'label': ''\n",
    "            }\n",
    "        ],\n",
    "        'xlabel': 'Time difference in replies (in hours)',\n",
    "        'ylabel': 'CDF',\n",
    "        'legend_location': 'upper right',\n",
    "        # 'log_yscale': False,\n",
    "        'log_xscale': True,\n",
    "        'save': {\n",
    "            'path': reply_plot_path,\n",
    "            'filename': 'ccdf_time_difference_between_replies.png'\n",
    "        },\n",
    "        'random_color': False\n",
    "    }\n",
    "\n",
    "viz_hp.ccdf(parameters)"
   ]
  },
  {
   "cell_type": "markdown",
   "id": "34a0aa39-541b-48b0-8455-33d892115af1",
   "metadata": {},
   "source": [
    " 40% of the replies are within an day, 60% of data are within 2 hours"
   ]
  },
  {
   "cell_type": "code",
   "execution_count": 12,
   "id": "c0e970dc-6daa-4976-aa21-effb07a40b73",
   "metadata": {},
   "outputs": [],
   "source": [
    "## For alive tweets\n",
    "config = config_hp.config()\n",
    "poster_path = config['POSTER_PATH']\n",
    "poster_org_tweets = poster_path['parsed_poster_org_tweets']"
   ]
  },
  {
   "cell_type": "code",
   "execution_count": 13,
   "id": "2df26825-b236-4906-a4ff-d73e6af3e392",
   "metadata": {},
   "outputs": [
    {
     "name": "stdout",
     "output_type": "stream",
     "text": [
      "Index(['text', 'conversation_id', 'lang', 'entities', 'possibly_sensitive',\n",
      "       'reply_settings', 'created_at', 'edit_history_tweet_ids', 'tweetid',\n",
      "       'author_id', 'retweet_count', 'reply_count', 'like_count',\n",
      "       'quote_count', 'impression_count', 'expanded_url', 'display_url',\n",
      "       'in_reply_to_user_id', 'referenced_tweets', 'context_annotations',\n",
      "       'entity_annotations', 'cashtags', 'hashtags', 'mentions'],\n",
      "      dtype='object')\n"
     ]
    }
   ],
   "source": [
    "df_org = pd.read_pickle(poster_org_tweets)\n",
    "\n",
    "print(df_org.columns)"
   ]
  },
  {
   "cell_type": "code",
   "execution_count": 14,
   "id": "617b372f-a633-4ced-8f85-50c83d58b991",
   "metadata": {},
   "outputs": [],
   "source": [
    "df_alive = df_5.loc[df_5['poster_tweetid'].isin(df_org['tweetid'])]"
   ]
  },
  {
   "cell_type": "code",
   "execution_count": 15,
   "id": "8539d9ae-65ad-474a-895d-49eb02b37265",
   "metadata": {},
   "outputs": [
    {
     "data": {
      "image/png": "[encoded data removed]",
      "text/plain": [
       "<Figure size 640x480 with 1 Axes>"
      ]
     },
     "metadata": {},
     "output_type": "display_data"
    }
   ],
   "source": [
    "plot_path = path['plot_path']\n",
    "reply_plot_path = file_hp.create_folder(plot_path, \n",
    "                                        'reply_characterization')\n",
    "df_no_zero_live = df_alive.loc[~(df_alive['diff_min'] == 0)]\n",
    "\n",
    "parameters =  {\n",
    "        'data': df_no_zero_live,\n",
    "        'fontsize': 14,\n",
    "        'columns': [\n",
    "            {'column': 'diff_min',\n",
    "             'label': 'Difference reply time in hours',\n",
    "            }\n",
    "        ],\n",
    "        'xlabel': 'Time difference in replies (in hours)',\n",
    "        'ylabel': 'Frequency',\n",
    "        'legend_location': '',\n",
    "        'log_yscale': True,\n",
    "        'log_xscale': True,\n",
    "        'bins': None,\n",
    "        'save': {\n",
    "            'path': reply_plot_path,\n",
    "            'filename': 'time_difference_alive_between_replies.png'\n",
    "        },\n",
    "        'title': 'Time difference of replies'\n",
    "    }\n",
    "\n",
    "viz_hp.plot_histogram(parameters)"
   ]
  },
  {
   "cell_type": "code",
   "execution_count": 16,
   "id": "5f386a1e-88c1-44a9-959f-9885cf7c2220",
   "metadata": {},
   "outputs": [
    {
     "name": "stderr",
     "output_type": "stream",
     "text": [
      "No artists with labels found to put in legend.  Note that artists whose label start with an underscore are ignored when legend() is called with no argument.\n"
     ]
    },
    {
     "data": {
      "image/png": "[encoded data removed]",
      "text/plain": [
       "<Figure size 800x800 with 1 Axes>"
      ]
     },
     "metadata": {},
     "output_type": "display_data"
    }
   ],
   "source": [
    "parameters = {\n",
    "        'data': [df_no_zero_live],\n",
    "        'fontsize': 14,\n",
    "        'complementary': False,\n",
    "        'columns': [\n",
    "            {'column': 'diff_min',\n",
    "             'label': '',\n",
    "            },{\n",
    "            'column': '',\n",
    "             'label': ''\n",
    "            }\n",
    "        ],\n",
    "        'xlabel': 'Time difference in replies (in hours)',\n",
    "        'ylabel': 'CDF',\n",
    "        'legend_location': 'upper right',\n",
    "        # 'log_yscale': False,\n",
    "        'log_xscale': True,\n",
    "        'save': {\n",
    "            'path': reply_plot_path,\n",
    "            'filename': 'ccdf_time_difference_between_alive_tweet_replies.png'\n",
    "        },\n",
    "        'random_color': False\n",
    "    }\n",
    "\n",
    "viz_hp.ccdf(parameters)"
   ]
  },
  {
   "cell_type": "code",
   "execution_count": 50,
   "id": "5e9ed393-3774-4f01-abae-6b299eb5dc38",
   "metadata": {},
   "outputs": [
    {
     "data": {
      "text/plain": [
       "20982144    1.0\n",
       "6761367     1.0\n",
       "2826334     1.0\n",
       "6736783     1.0\n",
       "6732856     1.0\n",
       "Name: diff_min, dtype: float64"
      ]
     },
     "execution_count": 50,
     "metadata": {},
     "output_type": "execute_result"
    }
   ],
   "source": [
    "df_no_zero_live.sort_values(by=['diff_min'],\n",
    "                        ascending=True\n",
    "                       )['diff_min'].head()"
   ]
  },
  {
   "cell_type": "markdown",
   "id": "158e3888-5db6-4cce-b602-3a837d068e57",
   "metadata": {
    "jp-MarkdownHeadingCollapsed": true,
    "tags": []
   },
   "source": [
    "##### **RQ2: Time difference between poster tweet and first/last reply**"
   ]
  },
  {
   "cell_type": "code",
   "execution_count": 17,
   "id": "8eeaf233-5799-4a05-ab40-5b01dc2a84fc",
   "metadata": {},
   "outputs": [],
   "source": [
    "## For alive tweets\n",
    "config = config_hp.config()\n",
    "poster_path = config['POSTER_PATH']\n",
    "poster_org_tweets = poster_path['parsed_poster_org_tweets']\n",
    "poster_alive_file = poster_path['poster_alive_file']"
   ]
  },
  {
   "cell_type": "code",
   "execution_count": null,
   "id": "44c2ecf5-3c94-4a3d-9a45-bda1b8316d11",
   "metadata": {},
   "outputs": [],
   "source": [
    "df_poster_tweets = pd.read_pickle(poster_org_tweets)\n",
    "df_poster_tweets = df_poster_tweets.loc[\n",
    "    ~df_poster_tweets['author_id'].isna()]"
   ]
  },
  {
   "cell_type": "code",
   "execution_count": null,
   "id": "1ed1c308-f869-42cc-bd69-1606f5611fcb",
   "metadata": {},
   "outputs": [],
   "source": [
    "alive_poster = file_hp.read_file(poster_alive_file)"
   ]
  },
  {
   "cell_type": "code",
   "execution_count": null,
   "id": "8314a042-df1a-45a6-ae6a-27b3464a2e58",
   "metadata": {},
   "outputs": [
    {
     "data": {
      "text/plain": [
       "Index(['replier_tweetid', 'replier_userid', 'poster_tweetid', 'poster_userid',\n",
       "       'tweet_language', 'tweet_text', 'tweet_time', 'year', 'campaign',\n",
       "       'diff'],\n",
       "      dtype='object')"
      ]
     },
     "execution_count": 20,
     "metadata": {},
     "output_type": "execute_result"
    }
   ],
   "source": [
    "df_all_5.columns"
   ]
  },
  {
   "cell_type": "code",
   "execution_count": null,
   "id": "ca89d6c3-86a8-4b6a-b58f-43d355a78eb0",
   "metadata": {},
   "outputs": [],
   "source": [
    "df_poster_reply = df_poster_tweets[\n",
    "    ['author_id', 'created_at', 'tweetid']].merge(\n",
    "    df_all_5[['replier_userid', \n",
    "              'poster_tweetid',\n",
    "              'tweet_time']],\n",
    "    left_on=['tweetid'],\n",
    "    right_on=['poster_tweetid'])"
   ]
  },
  {
   "cell_type": "code",
   "execution_count": null,
   "id": "040a7a90-0dfa-43ba-8bf0-79865da0e701",
   "metadata": {},
   "outputs": [],
   "source": [
    "df_poster_reply = df_poster_reply.astype({\n",
    "    'author_id': str\n",
    "})"
   ]
  },
  {
   "cell_type": "code",
   "execution_count": null,
   "id": "5dc8fc15-6cba-4f27-aefb-be30838cb842",
   "metadata": {},
   "outputs": [],
   "source": [
    "df_poster_reply = df_poster_reply.loc[\n",
    "    df_poster_reply['author_id'].isin(alive_poster)]"
   ]
  },
  {
   "cell_type": "code",
   "execution_count": null,
   "id": "cc383abc-1be6-4e50-90a1-75c440a61d22",
   "metadata": {},
   "outputs": [],
   "source": [
    "df_poster_reply = df_poster_reply.sort_values(\n",
    "    by=['created_at', 'tweet_time'])"
   ]
  },
  {
   "cell_type": "code",
   "execution_count": null,
   "id": "2b2bd390-d671-4b0f-b08b-6d286906c524",
   "metadata": {},
   "outputs": [],
   "source": []
  },
  {
   "cell_type": "code",
   "execution_count": 40,
   "id": "8daf1445-cb4b-4be2-b448-c07389d5c567",
   "metadata": {},
   "outputs": [
    {
     "name": "stdout",
     "output_type": "stream",
     "text": [
      "Minimum time diff : 1\n",
      "Maximum time diff : 56004\n"
     ]
    }
   ],
   "source": [
    "df_last = df_poster_reply.groupby(\n",
    "    ['tweetid']).tail(1).reset_index(drop=True)\n",
    "\n",
    "df_last['created_at'] = pd.to_datetime(df_last['created_at'])\n",
    "df_last['created_at'] = df_last['created_at'].apply(\n",
    "    lambda x: x.replace(tzinfo=None))\n",
    "\n",
    "df_last['tweet_time'] = pd.to_datetime(df_last['tweet_time'])\n",
    "df_last['diff'] = df_last['tweet_time'] - df_last['created_at']\n",
    "df_last['diff_min'] = df_last['diff'].apply(\n",
    "    lambda x: int(np.ceil((x.total_seconds() + 1)/ 3600 )))\n",
    "df_last = df_last.loc[df_last['diff_min'] >=1]\n",
    "\n",
    "print('Minimum time diff :', df_last['diff_min'].min())\n",
    "print('Maximum time diff :', df_last['diff_min'].max())"
   ]
  },
  {
   "cell_type": "code",
   "execution_count": 41,
   "id": "c251aef2-a232-4560-a302-c7503c2372a4",
   "metadata": {},
   "outputs": [
    {
     "name": "stderr",
     "output_type": "stream",
     "text": [
      "No artists with labels found to put in legend.  Note that artists whose label start with an underscore are ignored when legend() is called with no argument.\n"
     ]
    },
    {
     "data": {
      "image/png": "[encoded data removed]",
      "text/plain": [
       "<Figure size 800x800 with 1 Axes>"
      ]
     },
     "metadata": {},
     "output_type": "display_data"
    }
   ],
   "source": [
    "parameters = {\n",
    "        'data': [df_last],\n",
    "        'fontsize': 14,\n",
    "        'complementary': False,\n",
    "        'columns': [\n",
    "            {'column': 'diff_min',\n",
    "             'label': '',\n",
    "            },{\n",
    "            'column': '',\n",
    "             'label': ''\n",
    "            }\n",
    "        ],\n",
    "        'xlabel': 'Time difference in \\n tweet and last reply (in hours)',\n",
    "        'ylabel': 'CDF',\n",
    "        'legend_location': 'upper right',\n",
    "        # 'log_yscale': False,\n",
    "        'log_xscale': True,\n",
    "        'save': {\n",
    "            'path': reply_plot_path,\n",
    "            'filename': 'ccdf_time_difference_tweet_last_reply.png'\n",
    "        },\n",
    "        'random_color': False\n",
    "    }\n",
    "\n",
    "viz_hp.ccdf(parameters)"
   ]
  },
  {
   "cell_type": "code",
   "execution_count": 42,
   "id": "721bb09b-8b6e-401c-998a-d90c07a2c64a",
   "metadata": {},
   "outputs": [
    {
     "data": {
      "text/plain": [
       "1"
      ]
     },
     "execution_count": 42,
     "metadata": {},
     "output_type": "execute_result"
    }
   ],
   "source": [
    "df_last['diff_min'].min()"
   ]
  },
  {
   "cell_type": "code",
   "execution_count": 51,
   "id": "9f87fc9a-07e7-4581-92f3-66a10f978c55",
   "metadata": {},
   "outputs": [
    {
     "data": {
      "text/plain": [
       "27994    1\n",
       "9109     1\n",
       "17200    1\n",
       "17198    1\n",
       "17195    1\n",
       "Name: diff_min, dtype: int64"
      ]
     },
     "execution_count": 51,
     "metadata": {},
     "output_type": "execute_result"
    }
   ],
   "source": [
    "df_last.sort_values(['diff_min'],\n",
    "                                ascending=True\n",
    "                               )['diff_min'].head()"
   ]
  },
  {
   "cell_type": "code",
   "execution_count": null,
   "id": "0c81aef9-73ad-4246-af6e-c7a7dd680572",
   "metadata": {},
   "outputs": [],
   "source": [
    "# df_poster_reply.loc[935564253163028480"
   ]
  },
  {
   "cell_type": "markdown",
   "id": "cfb30636-6687-449a-b78a-544d3cb89a5c",
   "metadata": {
    "jp-MarkdownHeadingCollapsed": true,
    "tags": []
   },
   "source": [
    "##### **RQ3: Similarity in reply semantics**\n",
    "Pairwise cosine similairty in embeddings of reply"
   ]
  },
  {
   "cell_type": "code",
   "execution_count": null,
   "id": "e0d2a2c1-c3a2-43b6-a94c-b52f6957aa93",
   "metadata": {},
   "outputs": [],
   "source": [
    "embedding_path = config['EMBEDDINGS_PATH']\n",
    "reply_english_cosine = embedding_path['reply_english_cosine']"
   ]
  },
  {
   "cell_type": "code",
   "execution_count": null,
   "id": "6eb62b45-9636-41ec-b231-e8a050cf5c68",
   "metadata": {},
   "outputs": [],
   "source": [
    "df_cosine = pd.read_pickle(reply_english_cosine)"
   ]
  },
  {
   "cell_type": "code",
   "execution_count": 55,
   "id": "22b2b765-33f9-4ef7-9f1c-646ddf94b52f",
   "metadata": {},
   "outputs": [
    {
     "data": {
      "text/plain": [
       "Index(['poster_tweetid', 'cosine', 'mean_cosine'], dtype='object')"
      ]
     },
     "execution_count": 55,
     "metadata": {},
     "output_type": "execute_result"
    }
   ],
   "source": [
    "df_cosine.columns"
   ]
  },
  {
   "cell_type": "code",
   "execution_count": 52,
   "id": "a02ad3dc-b132-4d5d-9990-4ba781683c7e",
   "metadata": {},
   "outputs": [],
   "source": [
    "df_cosine['mean_cosine'] = df_cosine['cosine'].apply(\n",
    "    lambda x: np.mean(x))"
   ]
  },
  {
   "cell_type": "code",
   "execution_count": 54,
   "id": "ce75fb47-b7f8-4fd4-97be-4a15023ec7ca",
   "metadata": {},
   "outputs": [
    {
     "name": "stdout",
     "output_type": "stream",
     "text": [
      "Min value mean cosine : 0.37\n",
      "Max value mean cosisne : 1.0\n"
     ]
    }
   ],
   "source": [
    "print('Min value mean cosine :',\n",
    "      df_cosine['mean_cosine'].min())\n",
    "print('Max value mean cosisne :', \n",
    "      df_cosine['mean_cosine'].max())"
   ]
  },
  {
   "cell_type": "code",
   "execution_count": 59,
   "id": "3ff568b2-55ea-48ba-a118-48142e6ade33",
   "metadata": {},
   "outputs": [
    {
     "name": "stderr",
     "output_type": "stream",
     "text": [
      "No artists with labels found to put in legend.  Note that artists whose label start with an underscore are ignored when legend() is called with no argument.\n"
     ]
    },
    {
     "data": {
      "image/png": "[encoded data removed]",
      "text/plain": [
       "<Figure size 800x800 with 1 Axes>"
      ]
     },
     "metadata": {},
     "output_type": "display_data"
    }
   ],
   "source": [
    "parameters = {\n",
    "        'data': [df_cosine],\n",
    "        'fontsize': 14,\n",
    "        'complementary': False,\n",
    "        'columns': [\n",
    "            {'column': 'mean_cosine',\n",
    "             'label': '',\n",
    "            },{\n",
    "            'column': '',\n",
    "             'label': ''\n",
    "            }\n",
    "        ],\n",
    "        'xlabel': 'Mean cosine similarity \\n between reply embedding',\n",
    "        'ylabel': 'CCDF',\n",
    "        'legend_location': 'upper right',\n",
    "        # 'log_yscale': False,\n",
    "        # 'log_xscale': True,\n",
    "        'save': {\n",
    "            'path': reply_plot_path,\n",
    "            'filename': 'ccdf_reply_embeddings.png'\n",
    "        },\n",
    "        'random_color': False\n",
    "    }\n",
    "\n",
    "viz_hp.ccdf(parameters)"
   ]
  },
  {
   "cell_type": "markdown",
   "id": "20e08a47-9658-4171-a26e-eaec37d438b4",
   "metadata": {},
   "source": [
    "#### **Similarity in post and the reply pairwise**"
   ]
  },
  {
   "cell_type": "markdown",
   "id": "58f38b43-3070-4f22-918d-a87728ce4c7a",
   "metadata": {},
   "source": [
    "#### **Time difference in reply for coordinated and non coordinated repliers (That means each tweet has full conversations)**"
   ]
  },
  {
   "cell_type": "code",
   "execution_count": null,
   "id": "61bf5964-9ef4-4555-b7e3-a6cb5cfecf6a",
   "metadata": {},
   "outputs": [],
   "source": [
    "### How many people not in IO replied to tweets?"
   ]
  },
  {
   "cell_type": "code",
   "execution_count": null,
   "id": "2a5feb5a-06f0-44c1-bcee-8b58aabc3452",
   "metadata": {},
   "outputs": [],
   "source": []
  }
 ],
 "metadata": {
  "kernelspec": {
   "display_name": "Python 3 (ipykernel)",
   "language": "python",
   "name": "python3"
  },
  "language_info": {
   "codemirror_mode": {
    "name": "ipython",
    "version": 3
   },
   "file_extension": ".py",
   "mimetype": "text/x-python",
   "name": "python",
   "nbconvert_exporter": "python",
   "pygments_lexer": "ipython3",
   "version": "3.9.1"
  }
 },
 "nbformat": 4,
 "nbformat_minor": 5
}
