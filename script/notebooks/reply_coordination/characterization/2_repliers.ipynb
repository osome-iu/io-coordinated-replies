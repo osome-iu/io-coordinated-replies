{
 "cells": [
  {
   "cell_type": "markdown",
   "id": "98c63f50-4756-401a-bc46-c6d8e36f5511",
   "metadata": {},
   "source": [
    "### **The notebook looks into characteristics of replies**"
   ]
  },
  {
   "cell_type": "code",
   "execution_count": 6,
   "id": "e393bd2b-e6c6-4934-bba9-9b343dd435dc",
   "metadata": {},
   "outputs": [],
   "source": [
    "import pandas as pd\n",
    "import numpy as np\n",
    "import datetime\n",
    "import warnings\n",
    "import glob\n",
    "import seaborn as sns\n",
    "import matplotlib.pyplot as plt\n",
    "import matplotlib.colors as pltc\n",
    "from tqdm import tqdm\n",
    "import sys\n",
    "import os\n",
    "\n",
    "import importlib\n",
    "\n",
    "#### packages\n",
    "import helper.strategy_helper as st\n",
    "import helper.visualization as vz\n",
    "import helper.helper as hp\n",
    "import helper.file_helper as file_hp\n",
    "import config.config as config\n",
    "import helper.pandas_helper as pd_hp"
   ]
  },
  {
   "cell_type": "code",
   "execution_count": 7,
   "id": "be2656f4-8b71-4c3a-b5c6-3f1104b3c3ba",
   "metadata": {},
   "outputs": [],
   "source": [
    "config = config.config()\n",
    "path = config['PATHS']\n",
    "\n",
    "derived_path = path['derived_path']\n",
    "all_tweet_data = path['all_tweet_data']\n",
    "plot_path = path['plot_path']\n",
    "external_reply = path['external_reply']\n",
    "all_replies = path['all_replies']"
   ]
  },
  {
   "cell_type": "code",
   "execution_count": 11,
   "id": "9129ac7a-bcce-4dac-85cf-370641a6e6b1",
   "metadata": {},
   "outputs": [],
   "source": [
    "df_ext = pd.read_pickle(external_reply)"
   ]
  },
  {
   "cell_type": "code",
   "execution_count": 12,
   "id": "23dea44c-3167-4d9c-86d8-2b24aafd1c04",
   "metadata": {},
   "outputs": [
    {
     "name": "stdout",
     "output_type": "stream",
     "text": [
      "<class 'pandas.core.frame.DataFrame'>\n",
      "RangeIndex: 21427154 entries, 0 to 21427153\n",
      "Data columns (total 8 columns):\n",
      " #   Column           Dtype  \n",
      "---  ------           -----  \n",
      " 0   replier_tweetid  int64  \n",
      " 1   replier_userid   object \n",
      " 2   poster_tweetid   float64\n",
      " 3   poster_userid    float64\n",
      " 4   tweet_language   object \n",
      " 5   tweet_time       object \n",
      " 6   year             object \n",
      " 7   campaign         object \n",
      "dtypes: float64(2), int64(1), object(5)\n",
      "memory usage: 1.3+ GB\n"
     ]
    }
   ],
   "source": [
    "df_ext.info()"
   ]
  },
  {
   "cell_type": "code",
   "execution_count": 13,
   "id": "a9ae5962-ce05-4b8a-8b6d-ac151a023b9a",
   "metadata": {},
   "outputs": [],
   "source": [
    "df_replies = pd.read_pickle(all_replies)"
   ]
  },
  {
   "cell_type": "code",
   "execution_count": 14,
   "id": "93fc01d2-5c14-4c7b-8df0-90d8d6e69975",
   "metadata": {},
   "outputs": [
    {
     "name": "stdout",
     "output_type": "stream",
     "text": [
      "<class 'pandas.core.frame.DataFrame'>\n",
      "RangeIndex: 21427154 entries, 0 to 21427153\n",
      "Data columns (total 8 columns):\n",
      " #   Column           Dtype  \n",
      "---  ------           -----  \n",
      " 0   replier_tweetid  int64  \n",
      " 1   replier_userid   object \n",
      " 2   poster_tweetid   float64\n",
      " 3   poster_userid    float64\n",
      " 4   tweet_language   object \n",
      " 5   tweet_time       object \n",
      " 6   year             object \n",
      " 7   campaign         object \n",
      "dtypes: float64(2), int64(1), object(5)\n",
      "memory usage: 1.3+ GB\n"
     ]
    }
   ],
   "source": [
    "df_ext.info()"
   ]
  },
  {
   "cell_type": "code",
   "execution_count": null,
   "id": "6d1a3f71-290d-4039-981f-e8d5ebc7219c",
   "metadata": {},
   "outputs": [],
   "source": []
  }
 ],
 "metadata": {
  "kernelspec": {
   "display_name": "Python 3 (ipykernel)",
   "language": "python",
   "name": "python3"
  },
  "language_info": {
   "codemirror_mode": {
    "name": "ipython",
    "version": 3
   },
   "file_extension": ".py",
   "mimetype": "text/x-python",
   "name": "python",
   "nbconvert_exporter": "python",
   "pygments_lexer": "ipython3",
   "version": "3.9.1"
  }
 },
 "nbformat": 4,
 "nbformat_minor": 5
}
