{
 "cells": [
  {
   "cell_type": "markdown",
   "id": "79f4195f-04cd-4cac-ac02-765271a25978",
   "metadata": {},
   "source": [
    "### **This notebook checks who are the targets in replying**\n",
    "**RQ1: Manually check who are they replying to (both verified and not verified accounts.)**"
   ]
  },
  {
   "cell_type": "code",
   "execution_count": 3,
   "id": "8cb0d1c6-b74d-4cf1-81a7-5dc69d050948",
   "metadata": {},
   "outputs": [],
   "source": [
    "import pandas as pd\n",
    "import numpy as np\n",
    "import datetime\n",
    "import warnings\n",
    "import glob\n",
    "import seaborn as sns\n",
    "import matplotlib.pyplot as plt\n",
    "import matplotlib.colors as pltc\n",
    "from tqdm import tqdm\n",
    "import sys\n",
    "import os\n",
    "\n",
    "import importlib\n",
    "\n",
    "#### packages\n",
    "import helper.strategy_helper as st\n",
    "import helper.visualization as vz\n",
    "import helper.helper as hp\n",
    "import helper.file_helper as file_hp\n",
    "import config.config as config_hp\n",
    "import helper.pandas_helper as pd_hp"
   ]
  },
  {
   "cell_type": "markdown",
   "id": "8491da92-56c9-4e69-b30a-d9fc6b4e06c6",
   "metadata": {
    "tags": []
   },
   "source": [
    "##### **Loading config files**"
   ]
  },
  {
   "cell_type": "code",
   "execution_count": 4,
   "id": "5deae95f-b9ad-4044-834f-d8b8af14806b",
   "metadata": {},
   "outputs": [],
   "source": [
    "config = config_hp.config()\n",
    "path = config['PATHS']\n",
    "poster_path = config['POSTER_PATH']\n",
    "\n",
    "poster_alive_file = poster_path['poster_alive_file']"
   ]
  },
  {
   "cell_type": "markdown",
   "id": "caf32759-8b1f-4c8f-872d-b2d159c6f1df",
   "metadata": {
    "tags": []
   },
   "source": [
    "##### **Read reply files**"
   ]
  },
  {
   "cell_type": "code",
   "execution_count": 4,
   "id": "af2b29f2-c436-47f1-9690-ce457adb147b",
   "metadata": {},
   "outputs": [],
   "source": [
    "df_replies = pd.read_pickle(external_reply)"
   ]
  },
  {
   "cell_type": "code",
   "execution_count": 5,
   "id": "b00556e1-cc3e-46b2-85fa-64533b93e37f",
   "metadata": {},
   "outputs": [
    {
     "name": "stdout",
     "output_type": "stream",
     "text": [
      "<class 'pandas.core.frame.DataFrame'>\n",
      "RangeIndex: 21427154 entries, 0 to 21427153\n",
      "Data columns (total 8 columns):\n",
      " #   Column           Dtype  \n",
      "---  ------           -----  \n",
      " 0   replier_tweetid  int64  \n",
      " 1   replier_userid   object \n",
      " 2   poster_tweetid   float64\n",
      " 3   poster_userid    float64\n",
      " 4   tweet_language   object \n",
      " 5   tweet_time       object \n",
      " 6   year             object \n",
      " 7   campaign         object \n",
      "dtypes: float64(2), int64(1), object(5)\n",
      "memory usage: 1.3+ GB\n"
     ]
    }
   ],
   "source": [
    "df_replies.info()"
   ]
  },
  {
   "cell_type": "markdown",
   "id": "a98abacc-b7cf-4bbc-b9f1-600c14fdd4c1",
   "metadata": {
    "jp-MarkdownHeadingCollapsed": true,
    "tags": []
   },
   "source": [
    "##### **Grouping by the poster tweetid, year, campaign**"
   ]
  },
  {
   "cell_type": "code",
   "execution_count": 12,
   "id": "6229395e-1384-4281-a22b-144bbf6458ab",
   "metadata": {},
   "outputs": [
    {
     "name": "stdout",
     "output_type": "stream",
     "text": [
      "Total tweets with 5 or more replies:  94630\n"
     ]
    }
   ],
   "source": [
    "df_replies = df_replies.drop_duplicates()\n",
    "\n",
    "df_count = (df_replies.groupby(['poster_tweetid', \n",
    "                                'year',\n",
    "                                'campaign'\n",
    "                               ])['replier_userid']\n",
    "             .nunique()\n",
    "             .to_frame('replier_count')\n",
    "             .reset_index()\n",
    "            )\n",
    "df_count_5 = df_count.loc[df_count['replier_count'] >= 5]\n",
    "\n",
    "print('Total tweets with 5 or more replies: ',\n",
    "      len(df_count_5))"
   ]
  },
  {
   "cell_type": "markdown",
   "id": "1c53e456-3750-49b6-8711-60b4f939f873",
   "metadata": {
    "tags": []
   },
   "source": [
    "##### **Grouping just by the poster tweetid**"
   ]
  },
  {
   "cell_type": "code",
   "execution_count": 11,
   "id": "4556856d-dc3e-4775-aa77-7a8ca09793d7",
   "metadata": {},
   "outputs": [
    {
     "name": "stdout",
     "output_type": "stream",
     "text": [
      "Total tweets with 5 or more replies:  96041\n"
     ]
    }
   ],
   "source": [
    "df_count_twt = (df_replies.groupby(['poster_tweetid'])['replier_userid']\n",
    "             .nunique()\n",
    "             .to_frame('replier_count')\n",
    "             .reset_index()\n",
    "            )\n",
    "\n",
    "df_5 = df_count_twt.loc[df_count_twt['replier_count'] >= 5]\n",
    "\n",
    "print('Total tweets with 5 or more replies: ',\n",
    "      len(df_5))"
   ]
  },
  {
   "cell_type": "markdown",
   "id": "3a65aabb-31a2-4a7e-9beb-6c552908baee",
   "metadata": {},
   "source": [
    "There is discrepency in number of tweets when grouping by just poster tweetids and adding campaign and year."
   ]
  },
  {
   "cell_type": "code",
   "execution_count": 53,
   "id": "6d6ee44f-74ff-44ce-a58d-642b526ff575",
   "metadata": {},
   "outputs": [
    {
     "name": "stdout",
     "output_type": "stream",
     "text": [
      "Max count :  7\n"
     ]
    }
   ],
   "source": [
    "df_common_twt = (df_replies.groupby(['poster_tweetid'])['campaign']\n",
    "                 .nunique()\n",
    "                 .to_frame('campaign_count')\n",
    "                 .reset_index()\n",
    "                )\n",
    "\n",
    "print('Max count : ', df_common_twt['campaign_count'].max())"
   ]
  },
  {
   "cell_type": "code",
   "execution_count": 26,
   "id": "2ed3fbe3-9ede-4257-a22b-09bb90da2031",
   "metadata": {},
   "outputs": [],
   "source": [
    "df_common_twt = df_common_twt.astype({\n",
    "    'poster_tweetid': int,\n",
    "})"
   ]
  },
  {
   "cell_type": "code",
   "execution_count": 27,
   "id": "2db79c8a-b6cb-4345-84a8-44316551fed0",
   "metadata": {},
   "outputs": [
    {
     "data": {
      "text/html": [
       "<div>\n",
       "<style scoped>\n",
       "    .dataframe tbody tr th:only-of-type {\n",
       "        vertical-align: middle;\n",
       "    }\n",
       "\n",
       "    .dataframe tbody tr th {\n",
       "        vertical-align: top;\n",
       "    }\n",
       "\n",
       "    .dataframe thead th {\n",
       "        text-align: right;\n",
       "    }\n",
       "</style>\n",
       "<table border=\"1\" class=\"dataframe\">\n",
       "  <thead>\n",
       "    <tr style=\"text-align: right;\">\n",
       "      <th></th>\n",
       "      <th>poster_tweetid</th>\n",
       "      <th>campaign_count</th>\n",
       "    </tr>\n",
       "  </thead>\n",
       "  <tbody>\n",
       "    <tr>\n",
       "      <th>10568076</th>\n",
       "      <td>1021234525626609664</td>\n",
       "      <td>7</td>\n",
       "    </tr>\n",
       "  </tbody>\n",
       "</table>\n",
       "</div>"
      ],
      "text/plain": [
       "               poster_tweetid  campaign_count\n",
       "10568076  1021234525626609664               7"
      ]
     },
     "execution_count": 27,
     "metadata": {},
     "output_type": "execute_result"
    }
   ],
   "source": [
    "df_common_twt.loc[df_common_twt['campaign_count'] == df_common_twt['campaign_count'].max()]"
   ]
  },
  {
   "cell_type": "code",
   "execution_count": 33,
   "id": "eb1ef37b-2840-4dd9-a3de-fbe586401af5",
   "metadata": {},
   "outputs": [],
   "source": [
    "df_replies = df_replies.astype({\n",
    "    'poster_tweetid': int,\n",
    "    'poster_userid': int\n",
    "})\n",
    "\n",
    "df_count = df_count.astype({\n",
    "    'poster_tweetid': int,\n",
    "    # 'poster_userid': int\n",
    "})"
   ]
  },
  {
   "cell_type": "code",
   "execution_count": 34,
   "id": "7eebf3ca-0d90-497e-9cff-700290a7695f",
   "metadata": {},
   "outputs": [
    {
     "data": {
      "text/html": [
       "<div>\n",
       "<style scoped>\n",
       "    .dataframe tbody tr th:only-of-type {\n",
       "        vertical-align: middle;\n",
       "    }\n",
       "\n",
       "    .dataframe tbody tr th {\n",
       "        vertical-align: top;\n",
       "    }\n",
       "\n",
       "    .dataframe thead th {\n",
       "        text-align: right;\n",
       "    }\n",
       "</style>\n",
       "<table border=\"1\" class=\"dataframe\">\n",
       "  <thead>\n",
       "    <tr style=\"text-align: right;\">\n",
       "      <th></th>\n",
       "      <th>poster_tweetid</th>\n",
       "      <th>year</th>\n",
       "      <th>campaign</th>\n",
       "      <th>replier_count</th>\n",
       "    </tr>\n",
       "  </thead>\n",
       "  <tbody>\n",
       "    <tr>\n",
       "      <th>10600328</th>\n",
       "      <td>1021234525626609664</td>\n",
       "      <td>2018_10</td>\n",
       "      <td>iranian</td>\n",
       "      <td>6</td>\n",
       "    </tr>\n",
       "    <tr>\n",
       "      <th>10600329</th>\n",
       "      <td>1021234525626609664</td>\n",
       "      <td>2019_01</td>\n",
       "      <td>iran_201901_1</td>\n",
       "      <td>8</td>\n",
       "    </tr>\n",
       "    <tr>\n",
       "      <th>10600330</th>\n",
       "      <td>1021234525626609664</td>\n",
       "      <td>2019_01</td>\n",
       "      <td>russia_201901_1</td>\n",
       "      <td>1</td>\n",
       "    </tr>\n",
       "    <tr>\n",
       "      <th>10600331</th>\n",
       "      <td>1021234525626609664</td>\n",
       "      <td>2019_06</td>\n",
       "      <td>iran_201906</td>\n",
       "      <td>7</td>\n",
       "    </tr>\n",
       "    <tr>\n",
       "      <th>10600332</th>\n",
       "      <td>1021234525626609664</td>\n",
       "      <td>2019_11</td>\n",
       "      <td>saudi_arabia_112019</td>\n",
       "      <td>1</td>\n",
       "    </tr>\n",
       "    <tr>\n",
       "      <th>10600333</th>\n",
       "      <td>1021234525626609664</td>\n",
       "      <td>2020_04</td>\n",
       "      <td>sa_eg_ae_022020</td>\n",
       "      <td>1</td>\n",
       "    </tr>\n",
       "    <tr>\n",
       "      <th>10600334</th>\n",
       "      <td>1021234525626609664</td>\n",
       "      <td>2020_12</td>\n",
       "      <td>iran_202012</td>\n",
       "      <td>2</td>\n",
       "    </tr>\n",
       "  </tbody>\n",
       "</table>\n",
       "</div>"
      ],
      "text/plain": [
       "               poster_tweetid     year             campaign  replier_count\n",
       "10600328  1021234525626609664  2018_10              iranian              6\n",
       "10600329  1021234525626609664  2019_01        iran_201901_1              8\n",
       "10600330  1021234525626609664  2019_01      russia_201901_1              1\n",
       "10600331  1021234525626609664  2019_06          iran_201906              7\n",
       "10600332  1021234525626609664  2019_11  saudi_arabia_112019              1\n",
       "10600333  1021234525626609664  2020_04      sa_eg_ae_022020              1\n",
       "10600334  1021234525626609664  2020_12          iran_202012              2"
      ]
     },
     "execution_count": 34,
     "metadata": {},
     "output_type": "execute_result"
    }
   ],
   "source": [
    "df_count.loc[df_count['poster_tweetid'] == 1021234525626609664]"
   ]
  },
  {
   "cell_type": "markdown",
   "id": "c399a7a1-5248-4b66-9ce5-76dbf9165ae5",
   "metadata": {
    "jp-MarkdownHeadingCollapsed": true,
    "tags": []
   },
   "source": [
    "##### **Tweets common accross the campaigns**"
   ]
  },
  {
   "cell_type": "code",
   "execution_count": 37,
   "id": "1bdf29f3-8ab9-49dc-b076-29d1ff9241cd",
   "metadata": {
    "tags": []
   },
   "outputs": [
    {
     "data": {
      "text/plain": [
       "array([2, 3, 4, 6, 5, 7])"
      ]
     },
     "execution_count": 37,
     "metadata": {},
     "output_type": "execute_result"
    }
   ],
   "source": [
    "df_common_twt.loc[df_common_twt['campaign_count'] >=2]['campaign_count'].unique()"
   ]
  },
  {
   "cell_type": "code",
   "execution_count": 42,
   "id": "84ef0444-ad8a-48ee-ad8c-692e42f44c68",
   "metadata": {},
   "outputs": [
    {
     "name": "stderr",
     "output_type": "stream",
     "text": [
      "/tmp/ipykernel_726856/2404418315.py:1: DeprecationWarning: the imp module is deprecated in favour of importlib; see the module's documentation for alternative uses\n",
      "  import imp\n"
     ]
    },
    {
     "data": {
      "image/png": "[encoded data removed]",
      "text/plain": [
       "<Figure size 640x480 with 1 Axes>"
      ]
     },
     "metadata": {},
     "output_type": "display_data"
    }
   ],
   "source": [
    "import imp\n",
    "\n",
    "imp.reload(vz)\n",
    "\n",
    "parameters =  {\n",
    "    'data': df_common_twt,\n",
    "    'fontsize': 14,\n",
    "    'columns': [\n",
    "        {'column': 'campaign_count',\n",
    "         'label': 'Count of Replies',\n",
    "        }\n",
    "    ],\n",
    "    'xlabel': 'Number of campaigns ',\n",
    "    'ylabel': 'Frequeny of tweets',\n",
    "    'legend_location': '',\n",
    "    'log_yscale': True,\n",
    "    'log_xscale': False,\n",
    "    'bins': None,\n",
    "    'save': {\n",
    "        'path': path['plot_path'],\n",
    "        'filename': 'common_tweets_in_campaing.png'\n",
    "    },\n",
    "    'title': 'Common poster tweets in one or more campaign'\n",
    "}\n",
    "\n",
    "vz.plot_histogram(parameters)"
   ]
  },
  {
   "cell_type": "markdown",
   "id": "cefb437a-8ca0-4c6c-959c-860523557ca6",
   "metadata": {},
   "source": [
    "**What could be the case:** <br />\n",
    "Two or more campaign going on in the same time. <br />\n",
    "Targeting the same person. <br />"
   ]
  },
  {
   "cell_type": "markdown",
   "id": "1aa3a1d5-53c6-45a8-9801-e020d82a98f1",
   "metadata": {
    "jp-MarkdownHeadingCollapsed": true,
    "tags": []
   },
   "source": [
    "##### **Jaccard coefficient: Which campaigns have highest common tweets**"
   ]
  },
  {
   "cell_type": "code",
   "execution_count": 54,
   "id": "9f6525de-4cbe-4554-b263-4cc8ba2cf97c",
   "metadata": {},
   "outputs": [
    {
     "name": "stdout",
     "output_type": "stream",
     "text": [
      "<class 'pandas.core.frame.DataFrame'>\n",
      "Int64Index: 15256547 entries, 0 to 15256546\n",
      "Data columns (total 2 columns):\n",
      " #   Column          Dtype\n",
      "---  ------          -----\n",
      " 0   poster_tweetid  int64\n",
      " 1   campaign_count  int64\n",
      "dtypes: int64(2)\n",
      "memory usage: 349.2 MB\n"
     ]
    }
   ],
   "source": [
    "df_common_twt = df_common_twt.drop_duplicates()\n",
    "\n",
    "df_common_twt.info()"
   ]
  },
  {
   "cell_type": "code",
   "execution_count": 55,
   "id": "0dd706c3-de10-4ed2-8c59-8a6f423ebf49",
   "metadata": {},
   "outputs": [],
   "source": [
    "df_common_twt_2 = df_common_twt.loc[df_common_twt['campaign_count'] >= 2]"
   ]
  },
  {
   "cell_type": "code",
   "execution_count": 56,
   "id": "1a52adb1-6906-4502-b480-2cb48bdf06c9",
   "metadata": {},
   "outputs": [],
   "source": [
    "df_count_camp = df_count.loc[\n",
    "    df_count['poster_tweetid'].isin(df_common_twt_2['poster_tweetid'])]"
   ]
  },
  {
   "cell_type": "code",
   "execution_count": 57,
   "id": "8861a78f-24a4-4ff1-b50b-1ae31a6ecb81",
   "metadata": {},
   "outputs": [
    {
     "data": {
      "text/html": [
       "<div>\n",
       "<style scoped>\n",
       "    .dataframe tbody tr th:only-of-type {\n",
       "        vertical-align: middle;\n",
       "    }\n",
       "\n",
       "    .dataframe tbody tr th {\n",
       "        vertical-align: top;\n",
       "    }\n",
       "\n",
       "    .dataframe thead th {\n",
       "        text-align: right;\n",
       "    }\n",
       "</style>\n",
       "<table border=\"1\" class=\"dataframe\">\n",
       "  <thead>\n",
       "    <tr style=\"text-align: right;\">\n",
       "      <th></th>\n",
       "      <th>poster_tweetid</th>\n",
       "      <th>year</th>\n",
       "      <th>campaign</th>\n",
       "      <th>replier_count</th>\n",
       "    </tr>\n",
       "  </thead>\n",
       "  <tbody>\n",
       "    <tr>\n",
       "      <th>17891</th>\n",
       "      <td>5432223636</td>\n",
       "      <td>2019_01</td>\n",
       "      <td>venezuela_201901</td>\n",
       "      <td>2</td>\n",
       "    </tr>\n",
       "    <tr>\n",
       "      <th>17892</th>\n",
       "      <td>5432223636</td>\n",
       "      <td>2019_08</td>\n",
       "      <td>ecuador_082019</td>\n",
       "      <td>1</td>\n",
       "    </tr>\n",
       "    <tr>\n",
       "      <th>70670</th>\n",
       "      <td>16983799828</td>\n",
       "      <td>2019_01</td>\n",
       "      <td>venezuela_201901</td>\n",
       "      <td>1</td>\n",
       "    </tr>\n",
       "    <tr>\n",
       "      <th>70671</th>\n",
       "      <td>16983799828</td>\n",
       "      <td>2019_08</td>\n",
       "      <td>ecuador_082019</td>\n",
       "      <td>1</td>\n",
       "    </tr>\n",
       "    <tr>\n",
       "      <th>93557</th>\n",
       "      <td>21461138919</td>\n",
       "      <td>2019_01</td>\n",
       "      <td>venezuela_201901</td>\n",
       "      <td>1</td>\n",
       "    </tr>\n",
       "  </tbody>\n",
       "</table>\n",
       "</div>"
      ],
      "text/plain": [
       "       poster_tweetid     year          campaign  replier_count\n",
       "17891      5432223636  2019_01  venezuela_201901              2\n",
       "17892      5432223636  2019_08    ecuador_082019              1\n",
       "70670     16983799828  2019_01  venezuela_201901              1\n",
       "70671     16983799828  2019_08    ecuador_082019              1\n",
       "93557     21461138919  2019_01  venezuela_201901              1"
      ]
     },
     "execution_count": 57,
     "metadata": {},
     "output_type": "execute_result"
    }
   ],
   "source": [
    "df_count_camp.head()"
   ]
  },
  {
   "cell_type": "code",
   "execution_count": 60,
   "id": "211745b8-b4ec-464d-969b-3f1cac43ea28",
   "metadata": {},
   "outputs": [],
   "source": [
    "df_tweet_list = (df_count_camp\n",
    "    .groupby(['campaign', 'year'])['poster_tweetid']\n",
    "    .apply(lambda x: set(np.unique(x)))\n",
    "    .to_frame('tweet_list')\n",
    "    .reset_index())"
   ]
  },
  {
   "cell_type": "code",
   "execution_count": 70,
   "id": "68cefd57-f5de-427c-9d36-387004b94de7",
   "metadata": {},
   "outputs": [],
   "source": [
    "df_tweet_list['tweet_count'] = df_tweet_list['tweet_list'].apply(\n",
    "    lambda x: len(x)\n",
    ")"
   ]
  },
  {
   "cell_type": "code",
   "execution_count": 71,
   "id": "8338a2ce-f558-4edd-bf03-9c8d24d021ea",
   "metadata": {},
   "outputs": [
    {
     "name": "stdout",
     "output_type": "stream",
     "text": [
      "Max tweets are from this campaign :\n"
     ]
    },
    {
     "data": {
      "text/html": [
       "<div>\n",
       "<style scoped>\n",
       "    .dataframe tbody tr th:only-of-type {\n",
       "        vertical-align: middle;\n",
       "    }\n",
       "\n",
       "    .dataframe tbody tr th {\n",
       "        vertical-align: top;\n",
       "    }\n",
       "\n",
       "    .dataframe thead th {\n",
       "        text-align: right;\n",
       "    }\n",
       "</style>\n",
       "<table border=\"1\" class=\"dataframe\">\n",
       "  <thead>\n",
       "    <tr style=\"text-align: right;\">\n",
       "      <th></th>\n",
       "      <th>campaign</th>\n",
       "      <th>year</th>\n",
       "      <th>tweet_list</th>\n",
       "      <th>jaccard</th>\n",
       "      <th>tweet_count</th>\n",
       "    </tr>\n",
       "  </thead>\n",
       "  <tbody>\n",
       "    <tr>\n",
       "      <th>27</th>\n",
       "      <td>sa_eg_ae_022020</td>\n",
       "      <td>2020_04</td>\n",
       "      <td>{171460960001851392, 463034024269971456, 68695...</td>\n",
       "      <td>0.457702</td>\n",
       "      <td>26603</td>\n",
       "    </tr>\n",
       "  </tbody>\n",
       "</table>\n",
       "</div>"
      ],
      "text/plain": [
       "           campaign     year  \\\n",
       "27  sa_eg_ae_022020  2020_04   \n",
       "\n",
       "                                           tweet_list   jaccard  tweet_count  \n",
       "27  {171460960001851392, 463034024269971456, 68695...  0.457702        26603  "
      ]
     },
     "execution_count": 71,
     "metadata": {},
     "output_type": "execute_result"
    }
   ],
   "source": [
    "print('Max tweets are from this campaign :')\n",
    "\n",
    "df_tweet_list.loc[\n",
    "    df_tweet_list['tweet_count'] == df_tweet_list['tweet_count'].max()]"
   ]
  },
  {
   "cell_type": "code",
   "execution_count": 95,
   "id": "4fad8ee8-ee97-4a3a-9a32-ab88e3382646",
   "metadata": {},
   "outputs": [],
   "source": [
    "jaccard_for_campaign = []\n",
    "for index, row in df_tweet_list.iterrows():\n",
    "    temp = {}\n",
    "    temp['campaing'] = row['campaign']\n",
    "    temp['year'] = row['year']\n",
    "    temp['jaccard'] = {}\n",
    "    \n",
    "    for index_next, row_next in df_tweet_list.iterrows():\n",
    "        if index == index_next:\n",
    "            continue\n",
    "        all_in = len(row['tweet_list'].union(row_next['tweet_list']))\n",
    "        intersect = len(list(row['tweet_list'] & row_next['tweet_list']))\n",
    "        temp['jaccard'][row_next['campaign']] = round(intersect/all_in, 4)\n",
    "        \n",
    "    jaccard_for_campaign.append(temp)"
   ]
  },
  {
   "cell_type": "code",
   "execution_count": 99,
   "id": "fe77fd17-5eb7-4b7e-9d0d-e5e86be4b49a",
   "metadata": {},
   "outputs": [],
   "source": [
    "# jaccard_for_campaign"
   ]
  },
  {
   "cell_type": "markdown",
   "id": "0c0c1355-4739-4abc-be1c-d40b19737402",
   "metadata": {
    "tags": []
   },
   "source": [
    "##### **Note on the targets:**\n",
    "|Job| USERID      | Description |\n",
    "|----| ----------- | ----------- |\n",
    "| 1 | Header      | Title       |\n",
    "|   | Paragraph   | Text        |"
   ]
  },
  {
   "cell_type": "code",
   "execution_count": 109,
   "id": "d15630ab-f7e2-434e-af5e-68e1f94498e2",
   "metadata": {},
   "outputs": [
    {
     "name": "stdout",
     "output_type": "stream",
     "text": [
      "poster path : /N/slate/potem/data/derived/posters\n",
      "splitted conversation ids : /N/slate/potem/data/derived/conversation/5_reply_count\n"
     ]
    }
   ],
   "source": [
    "poster_path = path['poster_path']\n",
    "print('poster path :', poster_path)\n",
    "print('splitted conversation ids :', splited_reply_ids)"
   ]
  },
  {
   "cell_type": "code",
   "execution_count": 114,
   "id": "37ea329d-33ca-48e8-ba08-9e7b00ec4fd0",
   "metadata": {},
   "outputs": [],
   "source": [
    "poster_info_path = file_hp.create_folder(derived_path, \n",
    "                                          'posters_info')"
   ]
  },
  {
   "cell_type": "code",
   "execution_count": 116,
   "id": "6a3ede91-80b7-4e57-b3b9-1bacaddab50b",
   "metadata": {},
   "outputs": [],
   "source": [
    "poster_info = os.path.join(poster_info_path, 'poster_info.txt')"
   ]
  },
  {
   "cell_type": "code",
   "execution_count": 155,
   "id": "9b99fae7-219f-4495-a6b6-e1419a5f4b3a",
   "metadata": {},
   "outputs": [
    {
     "name": "stdout",
     "output_type": "stream",
     "text": [
      "Account userid : 326930115\n"
     ]
    },
    {
     "name": "stdin",
     "output_type": "stream",
     "text": [
      "About this account description ?  Chairman of the Board of Directors of the Saudi Charity Association for Autism\n",
      "Possible country ? Saudi Arabia\n",
      "Status ? : active\n",
      "Username ?:  faisalbinturki1\n",
      "Any remark ? :  verified acccount with more than 3.3M followers\n",
      "Screename ? : faisalbinturki1\n"
     ]
    },
    {
     "name": "stdout",
     "output_type": "stream",
     "text": [
      "[1, 326930115, 'Chairman of the Board of Directors of the Saudi Charity Association for Autism', 'Saudi Arabia', 'active', 'faisalbinturki1', 'verified acccount with more than 3.3M followers', 'faisalbinturki1']\n",
      "Account userid : 200524435\n"
     ]
    },
    {
     "name": "stdin",
     "output_type": "stream",
     "text": [
      "About this account description ?  stubborn reader\n",
      "Possible country ? Russia\n",
      "Status ? : activve\n",
      "Username ?:  \n",
      "Any remark ? :  De_Agosto, normal user\n",
      "Screename ? : De_Agosto\n"
     ]
    },
    {
     "name": "stdout",
     "output_type": "stream",
     "text": [
      "[1, 200524435, 'stubborn reader', 'Russia', 'activve', '', 'De_Agosto, normal user', 'De_Agosto']\n",
      "Account userid : 378534651\n"
     ]
    },
    {
     "name": "stdin",
     "output_type": "stream",
     "text": [
      "About this account description ?  President of the Turkish Republic\n",
      "Possible country ? Turkey\n",
      "Status ? : vrified, high number of followers\n",
      "Username ?:  rterdogan_ar\n",
      "Any remark ? :  verified, high number of followerss\n",
      "Screename ? : rterdogan_ar\n"
     ]
    },
    {
     "name": "stdout",
     "output_type": "stream",
     "text": [
      "[1, 378534651, 'President of the Turkish Republic', 'Turkey', 'vrified, high number of followers', 'rterdogan_ar', 'verified, high number of followerss', 'rterdogan_ar']\n",
      "Account userid : 1154679618\n"
     ]
    },
    {
     "name": "stdin",
     "output_type": "stream",
     "text": [
      "About this account description ?  0\n",
      "Possible country ? 0\n",
      "Status ? : 0\n",
      "Username ?:  0\n",
      "Any remark ? :  not found\n",
      "Screename ? : 0\n"
     ]
    },
    {
     "name": "stdout",
     "output_type": "stream",
     "text": [
      "[1, 1154679618, '0', '0', '0', '0', 'not found', '0']\n",
      "Account userid : 736906248\n"
     ]
    },
    {
     "name": "stdin",
     "output_type": "stream",
     "text": [
      "About this account description ?  suspended\n",
      "Possible country ? suspended\n",
      "Status ? : suspended\n",
      "Username ?:  suspended\n",
      "Any remark ? :  suspended\n",
      "Screename ? : suspended\n"
     ]
    },
    {
     "name": "stdout",
     "output_type": "stream",
     "text": [
      "[1, 736906248, 'suspended', 'suspended', 'suspended', 'suspended', 'suspended', 'suspended']\n",
      "Account userid : 254152016\n"
     ]
    },
    {
     "name": "stdin",
     "output_type": "stream",
     "text": [
      "About this account description ?  Saudi | Businessman |  @adidasmena  Ambassador | Chairman of the advisory board  @nejreeapp\n",
      "Possible country ? Saudi Arabia\n",
      "Status ? : active\n",
      "Username ?:  SamiAlJaber\n",
      "Any remark ? :  has high number of followers\n",
      "Screename ? : SamiAlJaber\n"
     ]
    },
    {
     "name": "stdout",
     "output_type": "stream",
     "text": [
      "[1, 254152016, 'Saudi | Businessman |  @adidasmena  Ambassador | Chairman of the advisory board  @nejreeapp', 'Saudi Arabia', 'active', 'SamiAlJaber', 'has high number of followers', 'SamiAlJaber']\n",
      "Account userid : 508761973\n"
     ]
    },
    {
     "name": "stdin",
     "output_type": "stream",
     "text": [
      "About this account description ?  suspended\n",
      "Possible country ? suspended\n",
      "Status ? : suspended\n",
      "Username ?:  suspended\n",
      "Any remark ? :  suspended\n",
      "Screename ? : suspended\n"
     ]
    },
    {
     "name": "stdout",
     "output_type": "stream",
     "text": [
      "[1, 508761973, 'suspended', 'suspended', 'suspended', 'suspended', 'suspended', 'suspended']\n",
      "Account userid : 356450858\n"
     ]
    },
    {
     "name": "stdin",
     "output_type": "stream",
     "text": [
      "About this account description ?  Official account of the President of Serbia and the President of the Serbian Progressive Party / Званичан налог председника Србије и председника СНС\n",
      "Possible country ? Serbian, Beograd\n",
      "Status ? : active\n",
      "Username ?:  Александар Вучић\n",
      "Any remark ? :  high number of followers\n",
      "Screename ? : avucic\n"
     ]
    },
    {
     "name": "stdout",
     "output_type": "stream",
     "text": [
      "[1, 356450858, 'Official account of the President of Serbia and the President of the Serbian Progressive Party / Званичан налог председника Србије и председника СНС', 'Serbian, Beograd', 'active', 'Александар Вучић', 'high number of followers', 'avucic']\n",
      "Account userid : 68034431\n"
     ]
    },
    {
     "name": "stdin",
     "output_type": "stream",
     "text": [
      "About this account description ?  President of Turkey and AK Party Chairman - President of Turkey and AK Party Chairman\n",
      "Possible country ? Turkey\n",
      "Status ? : active\n",
      "Username ?:  Recep Tayyip Erdoğan\n",
      "Any remark ? :  high number of followers\n",
      "Screename ? : RTErdogan\n"
     ]
    },
    {
     "name": "stdout",
     "output_type": "stream",
     "text": [
      "[1, 68034431, 'President of Turkey and AK Party Chairman - President of Turkey and AK Party Chairman', 'Turkey', 'active', 'Recep Tayyip Erdoğan', 'high number of followers', 'RTErdogan']\n",
      "Account userid : 205153283\n"
     ]
    },
    {
     "name": "stdin",
     "output_type": "stream",
     "text": [
      "About this account description ?  Anin, Sofijin, Jovanin and Vukov tata.\n",
      "Possible country ? 0\n",
      "Status ? : active\n",
      "Username ?:  Dragan Djilas\n",
      "Any remark ? :  high number of followers\n",
      "Screename ? : DraganDjilas\n"
     ]
    },
    {
     "name": "stdout",
     "output_type": "stream",
     "text": [
      "[1, 205153283, 'Anin, Sofijin, Jovanin and Vukov tata.', '0', 'active', 'Dragan Djilas', 'high number of followers', 'DraganDjilas']\n",
      "Account userid : 495178226\n"
     ]
    },
    {
     "name": "stdin",
     "output_type": "stream",
     "text": [
      "About this account description ?  suspended\n",
      "Possible country ? suspended\n",
      "Status ? : suspended\n",
      "Username ?:  suspended\n",
      "Any remark ? :  suspended\n",
      "Screename ? : suspended\n"
     ]
    },
    {
     "name": "stdout",
     "output_type": "stream",
     "text": [
      "[1, 495178226, 'suspended', 'suspended', 'suspended', 'suspended', 'suspended', 'suspended']\n",
      "Account userid : 2194063201\n"
     ]
    },
    {
     "name": "stdin",
     "output_type": "stream",
     "text": [
      "About this account description ?  0\n",
      "Possible country ? Turkey\n",
      "Status ? : active\n",
      "Username ?:  ben kendim yaparim\n",
      "Any remark ? :  not that many followers, ordinary accounts\n",
      "Screename ? : kcrngrck\n"
     ]
    },
    {
     "name": "stdout",
     "output_type": "stream",
     "text": [
      "[1, 2194063201, '0', 'Turkey', 'active', 'ben kendim yaparim', 'not that many followers, ordinary accounts', 'kcrngrck']\n",
      "Account userid : 735420294\n"
     ]
    },
    {
     "name": "stdin",
     "output_type": "stream",
     "text": [
      "About this account description ?  suspended\n",
      "Possible country ? suspended\n",
      "Status ? : suspended\n",
      "Username ?:  suspended\n",
      "Any remark ? :  suspended\n",
      "Screename ? : suspended\n"
     ]
    },
    {
     "name": "stdout",
     "output_type": "stream",
     "text": [
      "[1, 735420294, 'suspended', 'suspended', 'suspended', 'suspended', 'suspended', 'suspended']\n",
      "Account userid : 368157378\n"
     ]
    },
    {
     "name": "stdin",
     "output_type": "stream",
     "text": [
      "About this account description ?  Official Twitter of The Emirati singer Follow me on #Instagram  @ahlamalshamsi\n",
      "Possible country ? Saudi Arabia\n",
      "Status ? : active\n",
      "Username ?:  A H L A M ~ ♥️ 2023\n",
      "Any remark ? :  high number of followers\n",
      "Screename ? : AhlamAlShamsi\n"
     ]
    },
    {
     "name": "stdout",
     "output_type": "stream",
     "text": [
      "[1, 368157378, 'Official Twitter of The Emirati singer Follow me on #Instagram  @ahlamalshamsi', 'Saudi Arabia', 'active', 'A H L A M ~ ♥️ 2023', 'high number of followers', 'AhlamAlShamsi']\n",
      "Account userid : 2200880839\n"
     ]
    },
    {
     "name": "stdin",
     "output_type": "stream",
     "text": [
      "About this account description ?  suspended\n",
      "Possible country ? suspended\n",
      "Status ? : suspended\n",
      "Username ?:  suspended\n",
      "Any remark ? :  suspended\n",
      "Screename ? : suspended\n"
     ]
    },
    {
     "name": "stdout",
     "output_type": "stream",
     "text": [
      "[1, 2200880839, 'suspended', 'suspended', 'suspended', 'suspended', 'suspended', 'suspended']\n",
      "Account userid : 337092191\n"
     ]
    },
    {
     "ename": "KeyboardInterrupt",
     "evalue": "Interrupted by user",
     "output_type": "error",
     "traceback": [
      "\u001b[0;31m---------------------------------------------------------------------------\u001b[0m",
      "\u001b[0;31mKeyboardInterrupt\u001b[0m                         Traceback (most recent call last)",
      "Cell \u001b[0;32mIn [155], line 30\u001b[0m\n\u001b[1;32m     27\u001b[0m     \u001b[38;5;28;01mcontinue\u001b[39;00m\n\u001b[1;32m     29\u001b[0m \u001b[38;5;28mprint\u001b[39m(\u001b[38;5;124m'\u001b[39m\u001b[38;5;124mAccount userid :\u001b[39m\u001b[38;5;124m'\u001b[39m, user)\n\u001b[0;32m---> 30\u001b[0m val \u001b[38;5;241m=\u001b[39m \u001b[38;5;28;43minput\u001b[39;49m\u001b[43m(\u001b[49m\u001b[38;5;124;43m\"\u001b[39;49m\u001b[38;5;124;43mAbout this account description ? \u001b[39;49m\u001b[38;5;124;43m\"\u001b[39;49m\u001b[43m)\u001b[49m\n\u001b[1;32m     31\u001b[0m country \u001b[38;5;241m=\u001b[39m \u001b[38;5;28minput\u001b[39m(\u001b[38;5;124m'\u001b[39m\u001b[38;5;124mPossible country ?\u001b[39m\u001b[38;5;124m'\u001b[39m)\n\u001b[1;32m     32\u001b[0m status \u001b[38;5;241m=\u001b[39m \u001b[38;5;28minput\u001b[39m(\u001b[38;5;124m'\u001b[39m\u001b[38;5;124mStatus ? :\u001b[39m\u001b[38;5;124m'\u001b[39m)\n",
      "File \u001b[0;32m~/miniconda3/lib/python3.9/site-packages/ipykernel/kernelbase.py:1177\u001b[0m, in \u001b[0;36mKernel.raw_input\u001b[0;34m(self, prompt)\u001b[0m\n\u001b[1;32m   1173\u001b[0m \u001b[38;5;28;01mif\u001b[39;00m \u001b[38;5;129;01mnot\u001b[39;00m \u001b[38;5;28mself\u001b[39m\u001b[38;5;241m.\u001b[39m_allow_stdin:\n\u001b[1;32m   1174\u001b[0m     \u001b[38;5;28;01mraise\u001b[39;00m StdinNotImplementedError(\n\u001b[1;32m   1175\u001b[0m         \u001b[38;5;124m\"\u001b[39m\u001b[38;5;124mraw_input was called, but this frontend does not support input requests.\u001b[39m\u001b[38;5;124m\"\u001b[39m\n\u001b[1;32m   1176\u001b[0m     )\n\u001b[0;32m-> 1177\u001b[0m \u001b[38;5;28;01mreturn\u001b[39;00m \u001b[38;5;28;43mself\u001b[39;49m\u001b[38;5;241;43m.\u001b[39;49m\u001b[43m_input_request\u001b[49m\u001b[43m(\u001b[49m\n\u001b[1;32m   1178\u001b[0m \u001b[43m    \u001b[49m\u001b[38;5;28;43mstr\u001b[39;49m\u001b[43m(\u001b[49m\u001b[43mprompt\u001b[49m\u001b[43m)\u001b[49m\u001b[43m,\u001b[49m\n\u001b[1;32m   1179\u001b[0m \u001b[43m    \u001b[49m\u001b[38;5;28;43mself\u001b[39;49m\u001b[38;5;241;43m.\u001b[39;49m\u001b[43m_parent_ident\u001b[49m\u001b[43m[\u001b[49m\u001b[38;5;124;43m\"\u001b[39;49m\u001b[38;5;124;43mshell\u001b[39;49m\u001b[38;5;124;43m\"\u001b[39;49m\u001b[43m]\u001b[49m\u001b[43m,\u001b[49m\n\u001b[1;32m   1180\u001b[0m \u001b[43m    \u001b[49m\u001b[38;5;28;43mself\u001b[39;49m\u001b[38;5;241;43m.\u001b[39;49m\u001b[43mget_parent\u001b[49m\u001b[43m(\u001b[49m\u001b[38;5;124;43m\"\u001b[39;49m\u001b[38;5;124;43mshell\u001b[39;49m\u001b[38;5;124;43m\"\u001b[39;49m\u001b[43m)\u001b[49m\u001b[43m,\u001b[49m\n\u001b[1;32m   1181\u001b[0m \u001b[43m    \u001b[49m\u001b[43mpassword\u001b[49m\u001b[38;5;241;43m=\u001b[39;49m\u001b[38;5;28;43;01mFalse\u001b[39;49;00m\u001b[43m,\u001b[49m\n\u001b[1;32m   1182\u001b[0m \u001b[43m\u001b[49m\u001b[43m)\u001b[49m\n",
      "File \u001b[0;32m~/miniconda3/lib/python3.9/site-packages/ipykernel/kernelbase.py:1219\u001b[0m, in \u001b[0;36mKernel._input_request\u001b[0;34m(self, prompt, ident, parent, password)\u001b[0m\n\u001b[1;32m   1216\u001b[0m             \u001b[38;5;28;01mbreak\u001b[39;00m\n\u001b[1;32m   1217\u001b[0m \u001b[38;5;28;01mexcept\u001b[39;00m \u001b[38;5;167;01mKeyboardInterrupt\u001b[39;00m:\n\u001b[1;32m   1218\u001b[0m     \u001b[38;5;66;03m# re-raise KeyboardInterrupt, to truncate traceback\u001b[39;00m\n\u001b[0;32m-> 1219\u001b[0m     \u001b[38;5;28;01mraise\u001b[39;00m \u001b[38;5;167;01mKeyboardInterrupt\u001b[39;00m(\u001b[38;5;124m\"\u001b[39m\u001b[38;5;124mInterrupted by user\u001b[39m\u001b[38;5;124m\"\u001b[39m) \u001b[38;5;28;01mfrom\u001b[39;00m \u001b[38;5;28mNone\u001b[39m\n\u001b[1;32m   1220\u001b[0m \u001b[38;5;28;01mexcept\u001b[39;00m \u001b[38;5;167;01mException\u001b[39;00m:\n\u001b[1;32m   1221\u001b[0m     \u001b[38;5;28mself\u001b[39m\u001b[38;5;241m.\u001b[39mlog\u001b[38;5;241m.\u001b[39mwarning(\u001b[38;5;124m\"\u001b[39m\u001b[38;5;124mInvalid Message:\u001b[39m\u001b[38;5;124m\"\u001b[39m, exc_info\u001b[38;5;241m=\u001b[39m\u001b[38;5;28;01mTrue\u001b[39;00m)\n",
      "\u001b[0;31mKeyboardInterrupt\u001b[0m: Interrupted by user"
     ]
    }
   ],
   "source": [
    "all_posters = []\n",
    "isExist = os.path.exists(poster_info)\n",
    "if isExist == True:\n",
    "    with open(f'{poster_info}', 'r') as fp:\n",
    "        lines = fp.readlines()\n",
    "        for line in lines:\n",
    "            x = line.replace(\"\\n\", \"\").strip('][').split(', ')\n",
    "\n",
    "            #x - job_id,poster_userid,info\n",
    "            all_posters.append(int(x[1]))\n",
    "\n",
    "\n",
    "ids = [i for i in range(1, 62)]\n",
    "index = 0\n",
    "for i in ids:\n",
    "    filename = f'posters_job_{i}_{index}_{index+50}.txt'\n",
    "    conv_file = f'job_{i}_{index}_{index+50}.txt'\n",
    "    index = index + 50\n",
    "    poster_id_path = os.path.join(poster_path, filename)\n",
    "    # conversation_id_path = os.path.join(splited_reply_ids, conv_file)\n",
    "    \n",
    "    posters = list(set(file_hp.read_file(poster_id_path)))\n",
    "    # conv_ids = file_hp.read_file(conversation_id_path)\n",
    "    with open(poster_info, 'a+') as f:\n",
    "        for ind, user in enumerate(posters):\n",
    "            if int(user) in all_posters:\n",
    "                continue\n",
    "                \n",
    "            print('Account userid :', user)\n",
    "            val = input(\"About this account description ? \")\n",
    "            country = input('Possible country ?')\n",
    "            status = input('Status ? :')\n",
    "            username = input('Username ?: ')\n",
    "            remark = input('Any remark ? : ')\n",
    "            screename = input('Screename ? :')\n",
    "            while len(val) == 0:\n",
    "                print('Account userid :', user)\n",
    "                val = input(\"About this account ? \")\n",
    "                \n",
    "            row = [i, int(user), val, country, status, \n",
    "                   username, remark, screename]\n",
    "            f.write(f'{row}\\n')\n",
    "\n",
    "            print(row)"
   ]
  },
  {
   "cell_type": "code",
   "execution_count": 119,
   "id": "bbcb0384-c791-4984-97bf-e31440178412",
   "metadata": {},
   "outputs": [
    {
     "data": {
      "text/plain": [
       "'/N/slate/potem/data/derived/posters_info/poster_info.txt'"
      ]
     },
     "execution_count": 119,
     "metadata": {},
     "output_type": "execute_result"
    }
   ],
   "source": [
    "poster_info"
   ]
  },
  {
   "cell_type": "code",
   "execution_count": null,
   "id": "569b01ec-e685-4889-a4ae-b4887caac7a9",
   "metadata": {},
   "outputs": [],
   "source": []
  }
 ],
 "metadata": {
  "kernelspec": {
   "display_name": "Python 3 (ipykernel)",
   "language": "python",
   "name": "python3"
  },
  "language_info": {
   "codemirror_mode": {
    "name": "ipython",
    "version": 3
   },
   "file_extension": ".py",
   "mimetype": "text/x-python",
   "name": "python",
   "nbconvert_exporter": "python",
   "pygments_lexer": "ipython3",
   "version": "3.9.1"
  }
 },
 "nbformat": 4,
 "nbformat_minor": 5
}
