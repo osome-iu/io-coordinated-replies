{
 "cells": [
  {
   "cell_type": "markdown",
   "id": "3d052c81-ab6e-4066-a10c-d86d748f8a0f",
   "metadata": {},
   "source": [
    "#### **This notebook creates campaign wise features for tweet classifier**"
   ]
  },
  {
   "cell_type": "code",
   "execution_count": 3,
   "id": "8fc9853f-7225-4df7-9856-60285d2a2df3",
   "metadata": {
    "tags": []
   },
   "outputs": [],
   "source": [
    "import pandas as pd\n",
    "import numpy as np\n",
    "import warnings\n",
    "import os\n",
    "\n",
    "import importlib\n",
    "\n",
    "#### packages\n",
    "import helper.strategy_helper as st_hp\n",
    "import config.config as config_hp\n",
    "import helper.stat_helper as stat_hp"
   ]
  },
  {
   "cell_type": "markdown",
   "id": "d6dc1eef-22d4-416c-a8a4-9a5f1a18b91a",
   "metadata": {
    "jp-MarkdownHeadingCollapsed": true,
    "tags": []
   },
   "source": [
    "#### **Load files**"
   ]
  },
  {
   "cell_type": "code",
   "execution_count": 4,
   "id": "7ef62235-fb08-4342-bdb3-5384be39bf6a",
   "metadata": {
    "tags": []
   },
   "outputs": [],
   "source": [
    "config = config_hp.config()\n",
    "\n",
    "balanced_pos = config['BALANCED']['balanced_pos_conversation']\n",
    "balanced_neg = config['BALANCED']['balanced_neg_conversation']\n",
    "\n",
    "df_pos = pd.read_pickle(balanced_pos)\n",
    "df_neg = pd.read_pickle(balanced_neg)"
   ]
  },
  {
   "cell_type": "code",
   "execution_count": 5,
   "id": "61ad9ca9-9517-4dba-8948-a2b92bb54b8c",
   "metadata": {
    "tags": []
   },
   "outputs": [
    {
     "data": {
      "text/plain": [
       "Index(['tweet_text', 'conversation_id', 'replier_tweetid', 'replier_userid',\n",
       "       'poster_userid', 'poster_tweetid', 'tweet_time', 'tweet_language',\n",
       "       'replier_label', 'year', 'campaign', 'tweet_label', 'tweet_time_year',\n",
       "       'common', 'id', 'username'],\n",
       "      dtype='object')"
      ]
     },
     "execution_count": 5,
     "metadata": {},
     "output_type": "execute_result"
    }
   ],
   "source": [
    "df_pos.columns"
   ]
  },
  {
   "cell_type": "markdown",
   "id": "bbb6dd74-90fa-464e-bd93-602fc34fe8f5",
   "metadata": {
    "jp-MarkdownHeadingCollapsed": true,
    "tags": []
   },
   "source": [
    "#### **Add campaign info to all poster tweets**"
   ]
  },
  {
   "cell_type": "code",
   "execution_count": 6,
   "id": "6cf37b3d-e528-46c4-93ff-089822bac129",
   "metadata": {
    "tags": []
   },
   "outputs": [],
   "source": [
    "def add_camapign_info(df):\n",
    "    '''\n",
    "    Adds the campaign data into positive dataset\n",
    "    \n",
    "    :param df: Dataframe\n",
    "    '''\n",
    "    df_no_null = df.loc[~df['campaign'].isnull()]\n",
    "\n",
    "    df_grp_name = (df_no_null\n",
    "              .groupby(['poster_tweetid'])['campaign']\n",
    "               .first()\n",
    "               .reset_index()\n",
    "              )\n",
    "    df_new = df.merge(df_grp_name,\n",
    "                      on='poster_tweetid',\n",
    "                     )\n",
    "    df_new.drop(columns=['campaign_x'], inplace=True)\n",
    "    df_new.rename(columns={'campaign_y': 'campaign'}, inplace=True)\n",
    "    \n",
    "    return df_new"
   ]
  },
  {
   "cell_type": "code",
   "execution_count": 7,
   "id": "975cd517-912f-459a-bc63-e49030895dcd",
   "metadata": {
    "tags": []
   },
   "outputs": [
    {
     "data": {
      "text/plain": [
       "3866"
      ]
     },
     "execution_count": 7,
     "metadata": {},
     "output_type": "execute_result"
    }
   ],
   "source": [
    "df_no_null = df_pos.loc[~df_pos['campaign'].isnull()]\n",
    "\n",
    "df_no_null['poster_tweetid'].nunique()"
   ]
  },
  {
   "cell_type": "code",
   "execution_count": 8,
   "id": "ff4dd5f1-b4a8-44f5-aa5e-61e7663482b3",
   "metadata": {
    "tags": []
   },
   "outputs": [],
   "source": [
    "df_grp_name = (df_no_null\n",
    "              .groupby(['poster_tweetid'])['campaign']\n",
    "               .first()\n",
    "               .reset_index()\n",
    "              )"
   ]
  },
  {
   "cell_type": "markdown",
   "id": "0455e1e3-ce86-4830-af48-0515fbbca765",
   "metadata": {
    "tags": []
   },
   "source": [
    "Adds the campaign info in all the tweets"
   ]
  },
  {
   "cell_type": "code",
   "execution_count": 9,
   "id": "acd525d5-5e7f-4055-abf4-39661a4e5359",
   "metadata": {
    "tags": []
   },
   "outputs": [],
   "source": [
    "df_new = df_pos.merge(df_grp_name,\n",
    "                      on='poster_tweetid',\n",
    "                     )"
   ]
  },
  {
   "cell_type": "code",
   "execution_count": 10,
   "id": "4545c62c-e477-4bff-b2e2-e3bdf013422f",
   "metadata": {
    "tags": []
   },
   "outputs": [],
   "source": [
    "df_new.drop(columns=['campaign_x'], inplace=True)\n",
    "df_new.rename(columns={'campaign_y': 'campaign'},\n",
    "              inplace=True)"
   ]
  },
  {
   "cell_type": "code",
   "execution_count": 11,
   "id": "f27a3f20-40e5-4001-b20a-d6d78c69b9ca",
   "metadata": {
    "tags": []
   },
   "outputs": [],
   "source": [
    "# df_new.loc[df_new['campaign'].isnull()]"
   ]
  },
  {
   "cell_type": "markdown",
   "id": "5e52e9b9-1307-4652-8d4d-d1775557f55c",
   "metadata": {
    "jp-MarkdownHeadingCollapsed": true,
    "tags": []
   },
   "source": [
    "#### **Check number of data in each campaign**"
   ]
  },
  {
   "cell_type": "markdown",
   "id": "fa37a658-3bf6-43e6-be10-df2b9a48d5a8",
   "metadata": {
    "tags": []
   },
   "source": [
    "Gets the campaign specific and rest of the data"
   ]
  },
  {
   "cell_type": "code",
   "execution_count": 12,
   "id": "339a5bf6-8ca9-4680-bb3b-f791318283db",
   "metadata": {
    "tags": []
   },
   "outputs": [],
   "source": [
    "df_grp_camp = (df_new\n",
    "               .groupby(['campaign'])['poster_tweetid']\n",
    "               .nunique(dropna=False)\n",
    "               .to_frame('count')\n",
    "               .reset_index()\n",
    "               .sort_values(by=['count'],\n",
    "                            ascending=False\n",
    "                           )\n",
    "               \n",
    "              )"
   ]
  },
  {
   "cell_type": "code",
   "execution_count": 13,
   "id": "dbae885e-e1fc-440a-8d00-bf411cc68e48",
   "metadata": {
    "tags": []
   },
   "outputs": [
    {
     "data": {
      "text/html": [
       "<div>\n",
       "<style scoped>\n",
       "    .dataframe tbody tr th:only-of-type {\n",
       "        vertical-align: middle;\n",
       "    }\n",
       "\n",
       "    .dataframe tbody tr th {\n",
       "        vertical-align: top;\n",
       "    }\n",
       "\n",
       "    .dataframe thead th {\n",
       "        text-align: right;\n",
       "    }\n",
       "</style>\n",
       "<table border=\"1\" class=\"dataframe\">\n",
       "  <thead>\n",
       "    <tr style=\"text-align: right;\">\n",
       "      <th></th>\n",
       "      <th>campaign</th>\n",
       "      <th>count</th>\n",
       "    </tr>\n",
       "  </thead>\n",
       "  <tbody>\n",
       "    <tr>\n",
       "      <th>20</th>\n",
       "      <td>serbia_022020</td>\n",
       "      <td>1140</td>\n",
       "    </tr>\n",
       "    <tr>\n",
       "      <th>19</th>\n",
       "      <td>saudi_arabia_112019</td>\n",
       "      <td>888</td>\n",
       "    </tr>\n",
       "    <tr>\n",
       "      <th>23</th>\n",
       "      <td>turkey_052020</td>\n",
       "      <td>660</td>\n",
       "    </tr>\n",
       "    <tr>\n",
       "      <th>8</th>\n",
       "      <td>egypt_022020</td>\n",
       "      <td>330</td>\n",
       "    </tr>\n",
       "    <tr>\n",
       "      <th>18</th>\n",
       "      <td>sa_eg_ae_022020</td>\n",
       "      <td>219</td>\n",
       "    </tr>\n",
       "  </tbody>\n",
       "</table>\n",
       "</div>"
      ],
      "text/plain": [
       "               campaign  count\n",
       "20        serbia_022020   1140\n",
       "19  saudi_arabia_112019    888\n",
       "23        turkey_052020    660\n",
       "8          egypt_022020    330\n",
       "18      sa_eg_ae_022020    219"
      ]
     },
     "execution_count": 13,
     "metadata": {},
     "output_type": "execute_result"
    }
   ],
   "source": [
    "df_grp_camp.head()"
   ]
  },
  {
   "cell_type": "markdown",
   "id": "b57d9692-8069-405e-98f3-849ee13b94fc",
   "metadata": {
    "jp-MarkdownHeadingCollapsed": true,
    "tags": []
   },
   "source": [
    "#### **Get data related to campaign**"
   ]
  },
  {
   "cell_type": "code",
   "execution_count": 14,
   "id": "16816b0a-a684-4de9-8eb0-73edb3d61102",
   "metadata": {
    "tags": []
   },
   "outputs": [],
   "source": [
    "import random\n",
    "\n",
    "def get_camp_data(df_pos, df_neg, campaign):\n",
    "    if campaign == 'remain':\n",
    "        top_5 =  df_grp_camp['campaign'].head().tolist()\n",
    "        df_pos_camp = df_pos.loc[~df_pos['campaign'].isin(top_5)]\n",
    "    else:\n",
    "        df_pos_camp = df_pos.loc[df_pos['campaign'] == campaign]\n",
    "    \n",
    "    #find number of tweets of each user in positive\n",
    "    df_pos_grp = (df_pos_camp\n",
    "                  .groupby('poster_userid')['poster_tweetid']\n",
    "                  .nunique()\n",
    "                  .to_frame('count_pos')\n",
    "                  .reset_index()\n",
    "                 )\n",
    "    \n",
    "    print(df_pos_camp['poster_tweetid'].nunique())\n",
    "    \n",
    "    #Get users in negative\n",
    "    df_neg_camp = df_neg.loc[df_neg['poster_userid'].isin(\n",
    "        df_pos_camp['poster_userid']\n",
    "    )]\n",
    "    \n",
    "    #find out how many tweets in negative set\n",
    "    df_neg_grp = (df_neg_camp\n",
    "                  .groupby('poster_userid')['poster_tweetid']\n",
    "                  .nunique()\n",
    "                  .to_frame('count_neg')\n",
    "                  .reset_index()\n",
    "                 )\n",
    "    \n",
    "    #Find least of all\n",
    "    df_grp = df_pos_grp.merge(df_neg_grp,\n",
    "                              on='poster_userid',\n",
    "                             )\n",
    "    df_grp['min_count'] = df_grp[['count_pos', 'count_neg']].min(axis=1)\n",
    "   \n",
    "    #sample least in negative dataset\n",
    "    df_neg_common = df_neg.merge(df_grp,\n",
    "                              on='poster_userid'\n",
    "                             )\n",
    "    \n",
    "    #Balance the data in negative\n",
    "    sampled_df = df_neg_common.groupby(['poster_userid'], group_keys=False).apply(\n",
    "        lambda group: group.loc[group['poster_tweetid'].isin(\n",
    "            random.sample(list(set(group['poster_tweetid'])),\n",
    "                          list(set(group['min_count']))[0]\n",
    "                         )\n",
    "        )]\n",
    "    ).reset_index(drop=True)\n",
    "    \n",
    "    sampled_df.drop(columns=['min_count', \n",
    "                             'count_pos',\n",
    "                             'count_neg',\n",
    "                             'common'\n",
    "                            ],\n",
    "                    inplace=True)\n",
    "\n",
    "    df_pos_camp.drop('common',\n",
    "                     inplace=True,\n",
    "                     axis=1\n",
    "                    )\n",
    "    \n",
    "    #Get rest of the data\n",
    "    df_rest_pos = df_pos.loc[\n",
    "        ~df_pos['poster_tweetid'].isin(df_pos_camp['poster_tweetid'])\n",
    "    ]\n",
    "    \n",
    "    df_rest_neg = df_neg.loc[~df_neg['poster_tweetid'].isin(sampled_df['poster_tweetid'])]\n",
    "    \n",
    "    df_rest = pd.concat([df_rest_pos, df_rest_neg],\n",
    "                        ignore_index=True\n",
    "                       )\n",
    "    \n",
    "    print('Total +ve :', df_pos_camp['poster_tweetid'].nunique())\n",
    "    print('Total -ve :', sampled_df['poster_tweetid'].nunique())\n",
    "    print('Total Rest +ve :', df_rest_pos['poster_tweetid'].nunique())\n",
    "    print('Total Rest -ve :', df_rest_neg['poster_tweetid'].nunique())\n",
    "    \n",
    "    df_camp = pd.concat([df_pos_camp, sampled_df],\n",
    "                        ignore_index=True\n",
    "                       )\n",
    "    \n",
    "    return df_camp, df_rest"
   ]
  },
  {
   "cell_type": "markdown",
   "id": "cb796c8c-3ad1-443d-870f-bc8c76a32ef4",
   "metadata": {
    "jp-MarkdownHeadingCollapsed": true,
    "tags": []
   },
   "source": [
    "#### **Testing if there are equal tweets in both positive and negative**"
   ]
  },
  {
   "cell_type": "code",
   "execution_count": 4,
   "id": "95b2f673-d1d5-4bbe-b2ad-e36151ab2da4",
   "metadata": {
    "tags": []
   },
   "outputs": [],
   "source": [
    "def save_list_cosine():\n",
    "    '''\n",
    "    Load cosine files\n",
    "    \n",
    "    :return Dataframe of positive and negative class\n",
    "    '''\n",
    "    config = config_hp.config()\n",
    "    pos_cosine = config['EMBEDDINGS_PATH']['pos_cosine_with_replier_info']\n",
    "    neg_cosine = config['EMBEDDINGS_PATH']['neg_cosine_with_replier_info']\n",
    "    \n",
    "    print('\\n\\n Load the data \\n\\n')\n",
    "    \n",
    "    # df_pos = pd.read_pickle(pos_cosine)\n",
    "    df_neg = pd.read_pickle(neg_cosine)\n",
    "    \n",
    "    # df_pos['poster_tweetid'] = df_pos['poster_tweetid'].astype(str)\n",
    "    df_neg['poster_tweetid'] = df_neg['poster_tweetid'].astype(str)\n",
    "    \n",
    "    save_path = os.path.join(config['EMBEDDINGS_PATH']['embedding_path'],\n",
    "                             'negative_list_cosine.pkl.gz'\n",
    "                            )\n",
    "    print('\\n\\n Grouping the data \\n\\n')\n",
    "    print(f'\\n Saving the data {save_path} \\n')\n",
    "    \n",
    "    (df_neg\n",
    "     .groupby(['poster_tweetid'])['cosine'].apply(list)\n",
    "     .reset_index()\n",
    "    ).to_pickle(save_path)"
   ]
  },
  {
   "cell_type": "code",
   "execution_count": 15,
   "id": "5eea4a32-7a48-453b-9a65-87fbf341b174",
   "metadata": {
    "tags": []
   },
   "outputs": [],
   "source": [
    "def load_cosine():\n",
    "    config = config_hp.config()\n",
    "    pos_cosine = config['EMBEDDINGS_PATH']['pos_list_cosine']\n",
    "    neg_cosine = config['EMBEDDINGS_PATH']['neg_list_cosine']\n",
    "    \n",
    "    print('\\n\\n Load the data \\n\\n')\n",
    "    \n",
    "    df_pos = pd.read_pickle(pos_cosine)\n",
    "    df_neg = pd.read_pickle(neg_cosine)\n",
    "    \n",
    "    print(df_pos.head())\n",
    "    print(df_neg.head())\n",
    "    \n",
    "    return df_pos, df_neg"
   ]
  },
  {
   "cell_type": "code",
   "execution_count": 11,
   "id": "7c5877a9-4965-4707-9db6-77ffe0f3e37c",
   "metadata": {
    "tags": []
   },
   "outputs": [],
   "source": [
    "# df_pos_cosine, df_neg_cosine = load_cosine()"
   ]
  },
  {
   "cell_type": "code",
   "execution_count": 16,
   "id": "1e2efe22-3922-4adb-af11-b91618f7b7fe",
   "metadata": {
    "tags": []
   },
   "outputs": [],
   "source": [
    "def load_cosine_stat():\n",
    "    config = config_hp.config()\n",
    "    cosine = config['STATS']['cosine']\n",
    "   \n",
    "    \n",
    "    print('\\n\\n Load the data \\n\\n')\n",
    "    \n",
    "    df_cosine = pd.read_pickle(cosine)\n",
    "    \n",
    "    return df_cosine"
   ]
  },
  {
   "cell_type": "code",
   "execution_count": 17,
   "id": "8cb66be6-9491-4b3e-b9c2-7673c70864cb",
   "metadata": {
    "tags": []
   },
   "outputs": [
    {
     "name": "stdout",
     "output_type": "stream",
     "text": [
      "\n",
      "\n",
      " Load the data \n",
      "\n",
      "\n"
     ]
    }
   ],
   "source": [
    "df_cosine_stat = load_cosine_stat()"
   ]
  },
  {
   "cell_type": "markdown",
   "id": "b3d0501d-1509-419a-9984-fabac4b1d882",
   "metadata": {
    "jp-MarkdownHeadingCollapsed": true,
    "tags": []
   },
   "source": [
    "#### **Find campaign specific cosine**"
   ]
  },
  {
   "cell_type": "code",
   "execution_count": 30,
   "id": "61410cea-b544-4fd2-9b58-8e1c7355147f",
   "metadata": {
    "tags": []
   },
   "outputs": [],
   "source": [
    "def cosine(df_camp=None, \n",
    "           campaign=None,\n",
    "           df_cosine_stat=None\n",
    "          ):\n",
    "    '''\n",
    "    Calculates the summary statistics of the cosine similarity\n",
    "    :param df_camp: Dataframe of campaign\n",
    "    :param stats: List of dataframe\n",
    "    :param df_pos: Dataframe of positive class that has cosine\n",
    "    :param df_neg: Dataframe of negative class that has cosine\n",
    "    \n",
    "    :return dataframe-\n",
    "    '''\n",
    "    \n",
    "    print('**** Cosine starting ****')\n",
    "    \n",
    "    config = config_hp.config()\n",
    "    camp_cosine = config['CAMP_FEAT']['camp_features']\n",
    "    campaign_cosine = os.path.join(camp_cosine, \n",
    "                                   f'{campaign}_cosine.pkl.gz'\n",
    "                                  )\n",
    "    \n",
    "    if os.path.exists(campaign_cosine):\n",
    "        df = pd.read_pickle(campaign_cosine)\n",
    "        \n",
    "        return df\n",
    "    \n",
    "    \n",
    "    df_camp['poster_tweetid'] = df_camp['poster_tweetid'].astype(str)\n",
    "    df_cosine_stat['poster_tweetid'] = df_cosine_stat['poster_tweetid'].astype(str)\n",
    "    \n",
    "    df_camp_stat = df_cosine_stat.loc[\n",
    "        df_cosine_stat['poster_tweetid'].isin(\n",
    "            df_camp['poster_tweetid']\n",
    "        )\n",
    "    ]\n",
    "\n",
    "    print('Class :', df_camp_stat['tweet_label'].unique())\n",
    "    \n",
    "    df_camp_stat = df_camp_stat.drop(columns=['list_cosine', 'var_cosine'])\n",
    "    \n",
    "    df_camp_stat.to_pickle(f'{campaign_cosine}')\n",
    "    \n",
    "    print('file saved')\n",
    "    \n",
    "    return df_camp_stat\n"
   ]
  },
  {
   "cell_type": "markdown",
   "id": "cb6ea529-bca1-4fb5-a841-64431270bd42",
   "metadata": {
    "jp-MarkdownHeadingCollapsed": true,
    "tags": []
   },
   "source": [
    "#### **Save campaign specific cosine score**"
   ]
  },
  {
   "cell_type": "code",
   "execution_count": null,
   "id": "f1fb2654-9db7-4165-b438-697df7bababa",
   "metadata": {
    "tags": []
   },
   "outputs": [],
   "source": [
    "camp_list = df_grp_camp['campaign'].head().tolist()\n",
    "camp_list.append('remain')\n",
    "\n",
    "for campaign in camp_list:\n",
    "    print('Campaign ', campaign) \n",
    "    df_camp, df_rest = get_camp_data(df_new, df_neg, campaign)\n",
    "    \n",
    "    cosine(df_camp=df_camp, \n",
    "           campaign=campaign,\n",
    "           df_cosine_stat=df_cosine_stat\n",
    "          )\n",
    "    \n",
    "    # break"
   ]
  },
  {
   "cell_type": "markdown",
   "id": "df9f066f-222d-4d7a-a7de-92bc22c0c817",
   "metadata": {},
   "source": [
    "#### **Get statistics**"
   ]
  },
  {
   "cell_type": "code",
   "execution_count": 34,
   "id": "e41c6c72-e7cb-4ed8-8b7f-a21ffe7f2ab2",
   "metadata": {
    "tags": []
   },
   "outputs": [],
   "source": [
    "import datetime\n",
    "import re\n",
    "import helper.helper as hp"
   ]
  },
  {
   "cell_type": "code",
   "execution_count": 39,
   "id": "50925ea8-8302-427c-b328-2c56f4f65bba",
   "metadata": {
    "tags": []
   },
   "outputs": [],
   "source": [
    "def get_statistics(df_camp=None, \n",
    "                   campagin_name=None, \n",
    "                   df_stat=None\n",
    "                  ):\n",
    "    '''\n",
    "    Gets the features for the campaign data\n",
    "    '''\n",
    "    print(campagin_name)\n",
    "    \n",
    "    config = config_hp.config()\n",
    "    camp_feat = config['CAMP_FEAT']['camp_features']\n",
    "    campaign_feat = os.path.join(camp_feat, \n",
    "                                 f'{campagin_name}_features.pkl.gz'\n",
    "                                )\n",
    "    print(campaign_feat)\n",
    "    \n",
    "    df_camp['poster_tweetid'] = df_camp['poster_tweetid'].astype(str)\n",
    "    df_stat['poster_tweetid'] = df_stat['poster_tweetid'].astype(str)\n",
    "    \n",
    "    df_camp_stat = df_stat.loc[\n",
    "        df_stat['poster_tweetid'].isin(\n",
    "            df_camp['poster_tweetid']\n",
    "        )\n",
    "    ]\n",
    "   \n",
    "    df_camp_stat.to_pickle(f'{campaign_feat}')\n",
    "    \n",
    "    print('** All features saved **')"
   ]
  },
  {
   "cell_type": "markdown",
   "id": "45103303-6b26-49e6-818d-0a7d4044d287",
   "metadata": {
    "tags": []
   },
   "source": [
    "#### **Run stat for each campaign**"
   ]
  },
  {
   "cell_type": "code",
   "execution_count": 40,
   "id": "5f9d1186-8c5b-4dcd-8352-76048576a70a",
   "metadata": {
    "tags": []
   },
   "outputs": [
    {
     "data": {
      "text/plain": [
       "20          serbia_022020\n",
       "19    saudi_arabia_112019\n",
       "23          turkey_052020\n",
       "8            egypt_022020\n",
       "18        sa_eg_ae_022020\n",
       "Name: campaign, dtype: object"
      ]
     },
     "execution_count": 40,
     "metadata": {},
     "output_type": "execute_result"
    }
   ],
   "source": [
    "df_grp_camp['campaign'].head()"
   ]
  },
  {
   "cell_type": "code",
   "execution_count": 43,
   "id": "f2469cba-9d66-4c98-bef8-00b282e1d687",
   "metadata": {
    "tags": []
   },
   "outputs": [
    {
     "name": "stdout",
     "output_type": "stream",
     "text": [
      "Campaign  remain\n",
      "629\n"
     ]
    },
    {
     "name": "stderr",
     "output_type": "stream",
     "text": [
      "/tmp/ipykernel_577897/2094667303.py:60: SettingWithCopyWarning: \n",
      "A value is trying to be set on a copy of a slice from a DataFrame\n",
      "\n",
      "See the caveats in the documentation: https://pandas.pydata.org/pandas-docs/stable/user_guide/indexing.html#returning-a-view-versus-a-copy\n",
      "  df_pos_camp.drop('common',\n"
     ]
    },
    {
     "name": "stdout",
     "output_type": "stream",
     "text": [
      "Total +ve : 629\n",
      "Total -ve : 629\n",
      "Total Rest +ve : 3237\n",
      "Total Rest -ve : 3237\n",
      "remain\n",
      "/N/slate/potem/data/derived/camp_features/remain_features.pkl.gz\n",
      "** All features saved **\n"
     ]
    }
   ],
   "source": [
    "total = 0\n",
    "# camp_list = df_grp_camp['campaign'].head().tolist()\n",
    "camp_list = ['remain']\n",
    "\n",
    "config = config_hp.config()\n",
    "final_stat = config['STATS']['final_stat']\n",
    "df_stat = pd.read_pickle(final_stat)\n",
    "\n",
    "for campaign in camp_list:\n",
    "    print('Campaign ', campaign) \n",
    "    \n",
    "    df_camp, df_rest = get_camp_data(df_new, df_neg, campaign)\n",
    "    \n",
    "    get_statistics(df_camp,\n",
    "                   campaign, \n",
    "                   df_stat\n",
    "                   )\n",
    "    \n",
    "    # break"
   ]
  },
  {
   "cell_type": "code",
   "execution_count": null,
   "id": "12c1f0fd-04e4-4e29-a3e0-86a1ec5ea771",
   "metadata": {},
   "outputs": [],
   "source": []
  }
 ],
 "metadata": {
  "kernelspec": {
   "display_name": "Python 3 (ipykernel)",
   "language": "python",
   "name": "python3"
  },
  "language_info": {
   "codemirror_mode": {
    "name": "ipython",
    "version": 3
   },
   "file_extension": ".py",
   "mimetype": "text/x-python",
   "name": "python",
   "nbconvert_exporter": "python",
   "pygments_lexer": "ipython3",
   "version": "3.10.9"
  }
 },
 "nbformat": 4,
 "nbformat_minor": 5
}
