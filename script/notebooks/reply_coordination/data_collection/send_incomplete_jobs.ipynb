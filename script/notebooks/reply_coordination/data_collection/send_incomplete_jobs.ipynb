{
 "cells": [
  {
   "cell_type": "markdown",
   "id": "8646023d-6274-494e-9f58-f33c8dfd1c44",
   "metadata": {},
   "source": [
    "##### **This notebook sends incomplete jobs again**"
   ]
  },
  {
   "cell_type": "code",
   "execution_count": 22,
   "id": "fc28c79e-7164-4d76-9afb-236fb254d1b5",
   "metadata": {},
   "outputs": [],
   "source": [
    "import pandas as pd\n",
    "import numpy as np\n",
    "import warnings\n",
    "import glob\n",
    "import seaborn as sns\n",
    "import matplotlib.pyplot as plt\n",
    "import matplotlib.colors as pltc\n",
    "import json\n",
    "from tqdm import tqdm\n",
    "import sys\n",
    "import os\n",
    "\n",
    "import importlib\n",
    "\n",
    "#### packages\n",
    "import helper.strategy_helper as st\n",
    "import helper.visualization as vz\n",
    "import helper.helper as hp\n",
    "import helper.file_helper as file_hp\n",
    "import config.config as config\n",
    "import helper.pandas_helper as pd_hp\n",
    "import helper.twitter_helper as twitter_hp"
   ]
  },
  {
   "cell_type": "markdown",
   "id": "1eca2ef4-7483-4312-96f6-4b8a6dcdf72e",
   "metadata": {
    "tags": []
   },
   "source": [
    "##### **Read config files**"
   ]
  },
  {
   "cell_type": "code",
   "execution_count": 34,
   "id": "d39be9c2-09dd-4c7e-afee-8a9ea76b45ce",
   "metadata": {},
   "outputs": [],
   "source": [
    "config = config.config()\n",
    "path = config['PATHS']\n",
    "\n",
    "derived_path = path['derived_path']\n",
    "all_tweet_data = path['all_tweet_data']\n",
    "plot_path = path['plot_path']\n",
    "conversation_path = path['conversation_path']\n",
    "\n",
    "conversation_ids_5 = path['conversation_ids_5']\n",
    "conv_ids_5_path = os.path.join(conversation_path, \n",
    "                               conversation_ids_5)"
   ]
  },
  {
   "cell_type": "markdown",
   "id": "5ca8c216-9c94-4dff-a5b9-578efa471e80",
   "metadata": {
    "tags": []
   },
   "source": [
    "##### **Create the temporary files of incomplete conversation ids**"
   ]
  },
  {
   "cell_type": "code",
   "execution_count": 74,
   "id": "611d6800-663c-45c7-8501-25d661134347",
   "metadata": {},
   "outputs": [],
   "source": [
    "extracted_reply_5 = path['extracted_reply_5']\n",
    "temp_extracted_json_path = os.path.join(extracted_reply_5, f'*temp.jsonl')\n",
    "\n",
    "slurm_path = config['SLURM_PATH']\n",
    "job_log_path = slurm_path['job_log_path']\n",
    "\n",
    "multiple_job = path['multiple_job']\n",
    "\n",
    "conv_splited_ids = path['splited_reply_ids']\n",
    "conv_splited_ids_files = os.path.join(conv_splited_ids, f'*.txt')\n",
    "temp_conv_splited_ids_files = os.path.join(conv_splited_ids, f'temp.txt')"
   ]
  },
  {
   "cell_type": "code",
   "execution_count": 75,
   "id": "10d7e0e1-b4ba-42eb-9b18-e38680c37fad",
   "metadata": {},
   "outputs": [],
   "source": [
    "def check_if_error_terminated(error_path):\n",
    "    '''\n",
    "    Checks if the job is terminated due to error\n",
    "    :param error_path: path where error file is present\n",
    "    \n",
    "    :return Boolean\n",
    "    '''\n",
    "    error_string = file_hp.read_file(error_path)[-1]\n",
    "    \n",
    "    return 'Terminated' in error_string"
   ]
  },
  {
   "cell_type": "code",
   "execution_count": 76,
   "id": "4ade9bed-9a32-48fa-8342-435404ba4026",
   "metadata": {},
   "outputs": [
    {
     "data": {
      "text/plain": [
       "<module 'helper.twitter_helper' from '/geode2/home/u070/potem/Quartz/project/infoOps-strategy/package/helper/twitter_helper.py'>"
      ]
     },
     "execution_count": 76,
     "metadata": {},
     "output_type": "execute_result"
    }
   ],
   "source": [
    "import imp\n",
    "\n",
    "imp.reload(twitter_hp)"
   ]
  },
  {
   "cell_type": "code",
   "execution_count": 70,
   "id": "10aac272-5e2c-4e11-8ab0-edcbc6efc3db",
   "metadata": {},
   "outputs": [],
   "source": []
  },
  {
   "cell_type": "code",
   "execution_count": 80,
   "id": "af6c6eb3-9188-424f-b326-f25f15ac7138",
   "metadata": {
    "tags": []
   },
   "outputs": [],
   "source": [
    "def get_remaining_ids(conv_splited_ids_files,\n",
    "                      extracted_json_path,\n",
    "                      job_log_path):\n",
    "    '''\n",
    "    Gets remaining ids of conversations if the job is terminated\n",
    "    :param conv_splited_ids_files: spitted id files\n",
    "    :param extracted_json_path: extracted json files\n",
    "    :param slurm_script_path: path to slurm script files\n",
    "    :param job_log_path: path to error files\n",
    "    '''\n",
    "    for file in glob.glob(extracted_json_path): \n",
    "        print(file)\n",
    "        parts = (file.split(os.sep)[-1]).split('.')[0]\n",
    "        error_path = os.path.join(job_log_path, f'{parts}*.err')\n",
    "        error_file = glob.glob(error_path)\n",
    "        \n",
    "        if len(error_file) == 0:\n",
    "            continue\n",
    "        \n",
    "        error_file = error_file[-1]\n",
    "        if check_if_error_terminated(error_file) == False:\n",
    "            continue\n",
    "            \n",
    "        df = twitter_hp.parse_tweets(file)\n",
    "        \n",
    "        if len(df) == 0:\n",
    "            continue\n",
    "        \n",
    "        conv_id_path = os.path.join(conv_splited_ids, parts + '.txt')\n",
    "        ids = file_hp.read_file(conv_id_path)\n",
    "        set_ids = set(ids)\n",
    "        set_df = set(df['conversation_id'].unique())\n",
    "        \n",
    "        if len(set_ids) > len(set_df):\n",
    "            remaining = list(set_ids - set_df)\n",
    "            filename = f'{parts}_1.txt'\n",
    "            \n",
    "            print(filename , ' has remaining ', len(remaining))\n",
    "\n",
    "            file_hp.write_to_file_row_each_line(conv_splited_ids,\n",
    "                                            filename,\n",
    "                                            remaining\n",
    "                                           )\n",
    "            \n",
    "# get_remaining_ids(temp_conv_splited_ids_files,\n",
    "#                   temp_extracted_json_path,\n",
    "#                   job_log_path)"
   ]
  },
  {
   "cell_type": "markdown",
   "id": "0c21eef6-02ba-426f-bc22-36ec541fb0a8",
   "metadata": {
    "tags": []
   },
   "source": [
    "##### **Create slurm script for incomplete ids**"
   ]
  },
  {
   "cell_type": "code",
   "execution_count": 82,
   "id": "29ed2487-24d1-4d53-b088-443e70abcd6d",
   "metadata": {},
   "outputs": [],
   "source": [
    "def create_jobs(path_conversation,\n",
    "                python_script,\n",
    "                path_slurm,\n",
    "                files\n",
    "               ):\n",
    "    '''\n",
    "    Path of splited conversations\n",
    "    :param path_conversation: path to conversation ids\n",
    "    :param path_slurm: path where slurm script to be saved\n",
    "    '''\n",
    "    new_path = os.path.join(path_conversation, f'{files}')\n",
    "    i = 0\n",
    "    for file in glob.glob(new_path):\n",
    "        print(file)\n",
    "        i = i + 1\n",
    "        parts = file.split(os.sep)\n",
    "        filename = (parts[-1]).split('.')[0]\n",
    "        command = f'python {python_script} --file={file}'\n",
    "        job_name = f'{filename}'\n",
    "        \n",
    "        \n",
    "        script = \\\n",
    "f'''#!/bin/bash -i\n",
    "\n",
    "#SBATCH --job-name={job_name}\n",
    "#SBATCH -p general\n",
    "#SBATCH -o {job_name}_%j.txt\n",
    "#SBATCH -e {job_name}_%j.err\n",
    "#SBATCH --mail-type=ALL\n",
    "#SBATCH --mail-user=potem@iu.edu\n",
    "#SBATCH --nodes=1\n",
    "#SBATCH --time=3-00:00:00\n",
    "#SBATCH --cpus-per-task=2 # Request that ncpus be allocated per process.\n",
    "#SBATCH --mem=150GB\n",
    "\n",
    "\n",
    "#Load any modules that your program needs\n",
    "source /N/u/potem/Quartz/miniconda3/etc/profile.d/conda.sh\n",
    "conda activate\n",
    "\n",
    "#cd /N/u/potem/Quartz/sbatch/multiple_jobs/logs\n",
    "#Run your program\n",
    "srun {command}\n",
    "        '''\n",
    "        new_slurm_path = os.path.join(path_slurm, f'{job_name}.sh')\n",
    "        \n",
    "        with open(new_slurm_path, 'w') as f:\n",
    "            f.write(script)\n",
    "\n",
    "            \n",
    "script_path = '/N/u/potem/Quartz/project/infoOps-strategy/script/py_scripts/data_sourcing/get_conversation.py'\n",
    "slurm_path = path['multiple_job']\n",
    "\n",
    "# create_jobs(conv_splited_ids, \n",
    "#             script_path,\n",
    "#             slurm_path, \n",
    "#             '*_temp_1.txt')"
   ]
  },
  {
   "cell_type": "markdown",
   "id": "17f9e81e-29ac-464d-8c96-c67aa3a19f86",
   "metadata": {
    "tags": []
   },
   "source": [
    "##### **Dispatch the job**"
   ]
  },
  {
   "cell_type": "code",
   "execution_count": 83,
   "id": "4254f356-9ded-47b3-8c7b-54ae54c9992a",
   "metadata": {
    "tags": []
   },
   "outputs": [
    {
     "name": "stdout",
     "output_type": "stream",
     "text": [
      "Submitted batch job 1463113\n",
      "Submitted batch job 1463114\n",
      "Submitted batch job 1463115\n",
      "Submitted batch job 1463116\n",
      "Submitted batch job 1463117\n",
      "Submitted batch job 1463118\n",
      "Submitted batch job 1463119\n",
      "Submitted batch job 1463120\n",
      "Submitted batch job 1463121\n",
      "Submitted batch job 1463122\n",
      "Submitted batch job 1463123\n",
      "Submitted batch job 1463124\n",
      "Submitted batch job 1463125\n",
      "Submitted batch job 1463126\n",
      "Submitted batch job 1463127\n",
      "Submitted batch job 1463128\n",
      "Submitted batch job 1463129\n",
      "Submitted batch job 1463130\n",
      "Submitted batch job 1463131\n",
      "Submitted batch job 1463132\n",
      "Submitted batch job 1463133\n",
      "Submitted batch job 1463134\n",
      "Submitted batch job 1463135\n",
      "Submitted batch job 1463136\n",
      "Submitted batch job 1463137\n"
     ]
    }
   ],
   "source": [
    "def despatch_job(path, logs_path):\n",
    "    '''\n",
    "    Despatch the jobs\n",
    "    :param path: path where slurm scripts are\n",
    "    :param logs_path: path where the slurm script to be dispatched\n",
    "    '''\n",
    "    all_job_ids = []\n",
    "    for file in glob.glob(path):\n",
    "        job_index = file.split('/')[-1].split('_')[1]\n",
    "        \n",
    "        if int(job_index) > 60:\n",
    "            continue\n",
    "            \n",
    "        command = f'sbatch {file}'\n",
    "        \n",
    "        os.chdir(logs_path)\n",
    "        \n",
    "        id = os.system(command)\n",
    "        \n",
    "        all_job_ids.append(id)\n",
    "        \n",
    "    return all_job_ids\n",
    "\n",
    "total = 3000\n",
    "\n",
    "new_path = os.path.join(multiple_job, f'*_temp_1.sh')\n",
    "all_jobs = despatch_job(new_path, job_log_path)"
   ]
  },
  {
   "cell_type": "code",
   "execution_count": 16,
   "id": "2bb5ba73-4af8-4597-a8de-7e1ceb5c1f44",
   "metadata": {},
   "outputs": [],
   "source": [
    "def cancel_jobs(all_jobs, start_no, job_log_path):\n",
    "    for i, job in enumerate(all_jobs):\n",
    "        id = start_no + i\n",
    "\n",
    "        command = f'scancel -u potem {id}'\n",
    "\n",
    "        os.chdir(job_log_path)\n",
    "\n",
    "        os.system(command)"
   ]
  },
  {
   "cell_type": "code",
   "execution_count": 84,
   "id": "29367e9f-15da-4771-b80e-f77132e988d5",
   "metadata": {},
   "outputs": [
    {
     "data": {
      "text/plain": [
       "[0, 0, 0, 0, 0, 0, 0, 0, 0, 0, 0, 0, 0, 0, 0, 0, 0, 0, 0, 0, 0, 0, 0, 0, 0]"
      ]
     },
     "execution_count": 84,
     "metadata": {},
     "output_type": "execute_result"
    }
   ],
   "source": []
  },
  {
   "cell_type": "code",
   "execution_count": null,
   "id": "6181e635-d723-49d7-a96a-c643a54e360f",
   "metadata": {},
   "outputs": [],
   "source": []
  }
 ],
 "metadata": {
  "kernelspec": {
   "display_name": "Python 3 (ipykernel)",
   "language": "python",
   "name": "python3"
  },
  "language_info": {
   "codemirror_mode": {
    "name": "ipython",
    "version": 3
   },
   "file_extension": ".py",
   "mimetype": "text/x-python",
   "name": "python",
   "nbconvert_exporter": "python",
   "pygments_lexer": "ipython3",
   "version": "3.9.1"
  }
 },
 "nbformat": 4,
 "nbformat_minor": 5
}
