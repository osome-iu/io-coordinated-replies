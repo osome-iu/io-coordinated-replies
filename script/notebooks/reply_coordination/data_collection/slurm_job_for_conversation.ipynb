{
 "cells": [
  {
   "cell_type": "markdown",
   "id": "bc38f310-78be-42f7-9bcd-7ffb246d8e0e",
   "metadata": {},
   "source": [
    "##### **This notebook sends the job in slurm**"
   ]
  },
  {
   "cell_type": "code",
   "execution_count": 1,
   "id": "fd0a6e03-8ee5-4945-9926-783a8e69a380",
   "metadata": {},
   "outputs": [],
   "source": [
    "import pandas as pd\n",
    "import numpy as np\n",
    "import warnings\n",
    "import glob\n",
    "import seaborn as sns\n",
    "import matplotlib.pyplot as plt\n",
    "import matplotlib.colors as pltc\n",
    "from tqdm import tqdm\n",
    "import sys\n",
    "import os\n",
    "\n",
    "import importlib\n",
    "\n",
    "#### packages\n",
    "import helper.strategy_helper as st\n",
    "import helper.visualization as vz\n",
    "import helper.helper as hp\n",
    "import helper.file_helper as file_hp\n",
    "import config.config as config_hp\n",
    "import helper.pandas_helper as pd_hp"
   ]
  },
  {
   "cell_type": "markdown",
   "id": "17d4603a-c27c-4978-8055-6bbc8740c1c0",
   "metadata": {
    "tags": []
   },
   "source": [
    "##### **Read config files**"
   ]
  },
  {
   "cell_type": "code",
   "execution_count": 2,
   "id": "18b1e66c-4254-49ba-9f6f-9466f1c61c49",
   "metadata": {},
   "outputs": [],
   "source": [
    "config = config_hp.config()\n",
    "path = config['PATHS']\n",
    "poster_path = config['POSTER_PATH']\n",
    "derived_path = path['derived_path']\n",
    "all_tweet_data = path['all_tweet_data']\n",
    "plot_path = path['plot_path']\n",
    "conversation_path = path['conversation_path']\n",
    "\n",
    "file_hp.create_folder(conversation_path, '5_reply_count')\n",
    "reply_path_5 = os.path.join(conversation_path, '5_reply_count')\n",
    "\n",
    "conversation_ids_5 = path['conversation_ids_5']\n",
    "conv_ids_5_path = os.path.join(conversation_path, \n",
    "                               conversation_ids_5)\n",
    "poster_dead_tweet_file = poster_path['poster_dead_tweet_file']"
   ]
  },
  {
   "cell_type": "markdown",
   "id": "a487706d-7598-4e96-ac45-5eae5fca1aa0",
   "metadata": {
    "tags": []
   },
   "source": [
    "##### **Split the conversation file**"
   ]
  },
  {
   "cell_type": "code",
   "execution_count": 3,
   "id": "36c3f1ef-05db-4ced-a34d-21e6cc12df79",
   "metadata": {},
   "outputs": [],
   "source": [
    "def read_file(file):\n",
    "    '''\n",
    "    This function read files and return the content\n",
    "    :param file: file name with location\n",
    "    '''\n",
    "    \n",
    "    with open(f'{file}') as f:\n",
    "        lines = f.read().splitlines()\n",
    "\n",
    "        return lines\n",
    "    \n",
    "    \n",
    "ids = read_file(conv_ids_5_path)"
   ]
  },
  {
   "cell_type": "code",
   "execution_count": 4,
   "id": "83dc1740-d97b-44cf-9885-0a3125a43376",
   "metadata": {},
   "outputs": [
    {
     "name": "stdout",
     "output_type": "stream",
     "text": [
      "96041\n"
     ]
    }
   ],
   "source": [
    "print(len(ids))"
   ]
  },
  {
   "cell_type": "code",
   "execution_count": 5,
   "id": "e433737a-32ab-40ee-8916-409f35dffe1b",
   "metadata": {},
   "outputs": [],
   "source": [
    "def keep_only_alive_conversations(ids, \n",
    "                                  file,\n",
    "                                  save_path\n",
    "                                 ):\n",
    "    dead_ids = file_hp.read_file(file)\n",
    "    alive_ids = list(set(ids) - set(dead_ids))\n",
    "    \n",
    "    file_hp.write_to_file_row_each_line(save_path,\n",
    "                                         None,\n",
    "                                         alive_ids)\n",
    "    return alive_ids\n",
    "\n",
    "save_path = conversation_path + os.sep + 'alive_conversation_ids.txt'\n",
    "\n",
    "alive_ids = keep_only_alive_conversations(ids, \n",
    "                                          poster_dead_tweet_file,\n",
    "                                          save_path)                                        "
   ]
  },
  {
   "cell_type": "code",
   "execution_count": 6,
   "id": "90e0cc7b-c8d7-4cab-b2d3-ea2795e5c052",
   "metadata": {},
   "outputs": [
    {
     "data": {
      "text/plain": [
       "'/N/slate/potem/data/derived/conversation/alive_conversation_ids.txt'"
      ]
     },
     "execution_count": 6,
     "metadata": {},
     "output_type": "execute_result"
    }
   ],
   "source": [
    "len(alive_ids)\n",
    "save_path"
   ]
  },
  {
   "cell_type": "markdown",
   "id": "d573e69c-7281-4222-a6d4-d1786ed84c13",
   "metadata": {},
   "source": [
    "##### **Test few alive tweets**"
   ]
  },
  {
   "cell_type": "code",
   "execution_count": 7,
   "id": "79bfbff4-8313-4bc2-8e28-6cfc49cc7ae2",
   "metadata": {},
   "outputs": [
    {
     "name": "stdout",
     "output_type": "stream",
     "text": [
      "['840268627353972736', '1174348484973142016', '930380638817046528', '902859409990320128', '1175143370064220160', '1212856206144016384', '1118070930780106752', '1000442215448104960', '1041773853142384640', '1059498356949573632']\n"
     ]
    }
   ],
   "source": [
    "test_alive = file_hp.read_file(save_path)\n",
    "print(test_alive[:10])"
   ]
  },
  {
   "cell_type": "code",
   "execution_count": 12,
   "id": "59945aec-1a12-450c-8474-953fbca8a049",
   "metadata": {},
   "outputs": [
    {
     "name": "stdout",
     "output_type": "stream",
     "text": [
      "['840268627353972736', '1174348484973142016', '930380638817046528', '902859409990320128', '1175143370064220160', '1212856206144016384', '1118070930780106752', '1000442215448104960', '1041773853142384640', '1059498356949573632']\n"
     ]
    }
   ],
   "source": [
    "splitted_test = file_hp.read_file(reply_path_5 + os.sep + 'job_1_0_10.txt')\n",
    "\n",
    "print(splitted_test)"
   ]
  },
  {
   "cell_type": "code",
   "execution_count": 14,
   "id": "96dc48f8-ea1a-4621-88bb-c9a937f6e5cf",
   "metadata": {},
   "outputs": [
    {
     "data": {
      "text/plain": [
       "10"
      ]
     },
     "execution_count": 14,
     "metadata": {},
     "output_type": "execute_result"
    }
   ],
   "source": [
    "len(set(test_alive[:10]).intersection(set(splitted_test)))"
   ]
  },
  {
   "cell_type": "code",
   "execution_count": 20,
   "id": "271856d7-45e6-4cc0-91a2-0e1d593afad5",
   "metadata": {},
   "outputs": [],
   "source": [
    "split_threshold = 5\n",
    "index = 1\n",
    "for i in range(0, len(test_alive), split_threshold):\n",
    "    ids_split = alive_ids[i:i+split_threshold]\n",
    "    last = i + split_threshold\n",
    "    \n",
    "    #first is the index of job\n",
    "    #second and third are the index of conversation ids\n",
    "    filename = f'job_{index}_{i}_{last}.txt'\n",
    "    \n",
    "    file_hp.write_to_file_row_each_line(reply_path_5,\n",
    "                                        filename,\n",
    "                                        ids_split\n",
    "                                       )\n",
    "    \n",
    "    index = index + 1"
   ]
  },
  {
   "cell_type": "markdown",
   "id": "d155921c-95ad-4bff-a5a3-88ff7b20febe",
   "metadata": {
    "tags": []
   },
   "source": [
    "##### **Send the job to get conversations**"
   ]
  },
  {
   "cell_type": "code",
   "execution_count": 15,
   "id": "1f25a38b-a901-4a51-9f83-e75509e3dfcb",
   "metadata": {},
   "outputs": [],
   "source": [
    "slurm_path_og='/N/u/potem/Quartz/sbatch'\n",
    "\n",
    "file_hp.create_folder(slurm_path_og, 'multiple_jobs')\n",
    "\n",
    "slurm_path = os.path.join(slurm_path_og, \n",
    "                        'multiple_jobs')"
   ]
  },
  {
   "cell_type": "code",
   "execution_count": 22,
   "id": "06930a22-155a-4689-ae8b-69c1e6cbc175",
   "metadata": {},
   "outputs": [],
   "source": [
    "def create_jobs(path_conversation,\n",
    "                python_script,\n",
    "                path_slurm,\n",
    "               ):\n",
    "    '''\n",
    "    Path of splited conversations\n",
    "    :param path_conversation: path to conversation ids\n",
    "    :param path_slurm: path where slurm script to be saved\n",
    "    '''\n",
    "    new_path = os.path.join(path_conversation, f'job_*.txt')\n",
    "    i = 0\n",
    "    for file in glob.glob(new_path):\n",
    "        i = i + 1\n",
    "        parts = file.split(os.sep)\n",
    "        filename = (parts[-1]).split('.')[0]\n",
    "        command = f'python {python_script} --file={file}'\n",
    "        job_name = f'{filename}'\n",
    "        \n",
    "        script = \\\n",
    "f'''#!/bin/bash -i\n",
    "\n",
    "#SBATCH --job-name={job_name}\n",
    "#SBATCH -p general\n",
    "#SBATCH -A general\n",
    "#SBATCH -o {job_name}_%j.txt\n",
    "#SBATCH -e {job_name}_%j.err\n",
    "#SBATCH --mail-type=ALL\n",
    "#SBATCH --mail-user=potem@iu.edu\n",
    "#SBATCH --nodes=1\n",
    "#SBATCH --time=2-00:00:00\n",
    "#SBATCH --cpus-per-task=2 # Request that ncpus be allocated per process.\n",
    "#SBATCH --mem=150GB\n",
    "\n",
    "\n",
    "#Load any modules that your program needs\n",
    "source /N/u/potem/Quartz/miniconda3/etc/profile.d/conda.sh\n",
    "conda activate\n",
    "\n",
    "#cd /N/u/potem/Quartz/sbatch/multiple_jobs/logs\n",
    "#Run your program\n",
    "srun {command}\n",
    "        '''\n",
    "        new_slurm_path = os.path.join(path_slurm, f'{job_name}.sh')\n",
    "        \n",
    "        with open(new_slurm_path, 'w') as f:\n",
    "            f.write(script)\n",
    "\n",
    "            \n",
    "script_path = '/N/u/potem/Quartz/project/infoOps-strategy/script/py_scripts/data_sourcing/get_conversation.py'\n",
    "# create_jobs(reply_path_5, script_path,\n",
    "#             slurm_path)"
   ]
  },
  {
   "cell_type": "code",
   "execution_count": 10,
   "id": "5fc1307e-ff88-41d5-97d3-b23ecbdb0802",
   "metadata": {},
   "outputs": [],
   "source": [
    "# abs_path = os.path.dirname(os.path.abspath(__file__))"
   ]
  },
  {
   "cell_type": "code",
   "execution_count": 11,
   "id": "1d311db3-0ac1-4234-9ceb-6df6b24349cf",
   "metadata": {},
   "outputs": [],
   "source": [
    "# python_command = f'python get_conversation.py --file={file}"
   ]
  },
  {
   "cell_type": "markdown",
   "id": "7db9971f-6e49-4a6a-8894-b82704934f66",
   "metadata": {
    "tags": []
   },
   "source": [
    "##### **Despatch job**"
   ]
  },
  {
   "cell_type": "code",
   "execution_count": 28,
   "id": "6f908014-c18e-45c9-a315-f1a3a63d9f67",
   "metadata": {},
   "outputs": [],
   "source": [
    "def despatch_job(path, logs_path):\n",
    "    \n",
    "    for file in glob.glob(path):\n",
    "        job_index = file.split('/')[-1].split('_')[1]\n",
    "        \n",
    "        if int(job_index) > 100:\n",
    "            continue\n",
    "            \n",
    "        command = f'sbatch {file}'\n",
    "        \n",
    "        os.chdir(logs_path)\n",
    "        os.system(command)\n",
    "\n",
    "        \n",
    "slurm_path_og='/N/u/potem/Quartz/sbatch'\n",
    "slurm_path = os.path.join(slurm_path_og, \n",
    "                        'multiple_jobs')\n",
    "file_hp.create_folder(slurm_path, 'logs')\n",
    "logs_path = file_hp.create_folder(slurm_path, 'logs')\n",
    "new_path = os.path.join(slurm_path, f'*.sh')\n",
    "\n",
    "## Do not forget to change get_conversation file\n",
    "# despatch_job(new_path, logs_path)"
   ]
  },
  {
   "cell_type": "code",
   "execution_count": 26,
   "id": "b731e152-d0b6-48da-b271-542ca109fbc3",
   "metadata": {},
   "outputs": [],
   "source": [
    "import helper.slurm_helper as slurm_hp\n",
    "\n",
    "# slurm_hp.cancel_jobs(1473957, 1474056)"
   ]
  },
  {
   "cell_type": "code",
   "execution_count": null,
   "id": "f2432efe-10dc-409e-a062-934c59d24d52",
   "metadata": {},
   "outputs": [],
   "source": []
  }
 ],
 "metadata": {
  "kernelspec": {
   "display_name": "Python 3 (ipykernel)",
   "language": "python",
   "name": "python3"
  },
  "language_info": {
   "codemirror_mode": {
    "name": "ipython",
    "version": 3
   },
   "file_extension": ".py",
   "mimetype": "text/x-python",
   "name": "python",
   "nbconvert_exporter": "python",
   "pygments_lexer": "ipython3",
   "version": "3.9.1"
  }
 },
 "nbformat": 4,
 "nbformat_minor": 5
}
