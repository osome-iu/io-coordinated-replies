{
 "cells": [
  {
   "cell_type": "markdown",
   "id": "1d75cffd-68fd-4039-a328-be136e433b73",
   "metadata": {},
   "source": [
    "#### **This notebook saves tweet metrics**"
   ]
  },
  {
   "cell_type": "code",
   "execution_count": 1,
   "id": "0d82705c-99e6-4687-8f66-415047993494",
   "metadata": {
    "tags": []
   },
   "outputs": [],
   "source": [
    "import pandas as pd\n",
    "import numpy as np\n",
    "import warnings\n",
    "import glob\n",
    "import seaborn as sns\n",
    "import matplotlib.pyplot as plt\n",
    "import matplotlib.colors as pltc\n",
    "from tqdm import tqdm\n",
    "import sys\n",
    "import os\n",
    "\n",
    "import importlib\n",
    "\n",
    "#### packages\n",
    "import helper.strategy_helper as st\n",
    "import helper.visualization as vz\n",
    "import helper.helper as hp\n",
    "import helper.file_helper as file_hp\n",
    "import config.config as config_hp"
   ]
  },
  {
   "cell_type": "markdown",
   "id": "46b94ae1-28b9-478a-9828-16c164cefb63",
   "metadata": {},
   "source": [
    "#### **Load files**"
   ]
  },
  {
   "cell_type": "code",
   "execution_count": 2,
   "id": "ffbcf9b3-2bbc-470a-aab3-d065f8c65a5b",
   "metadata": {
    "tags": []
   },
   "outputs": [],
   "source": [
    "config = config_hp.config()\n",
    "path = config['PATHS']\n",
    "\n",
    "derived_path = path['derived_path']\n",
    "all_tweet_data = path['all_tweet_data']\n",
    "plot_path = path['plot_path']"
   ]
  },
  {
   "cell_type": "code",
   "execution_count": 3,
   "id": "2c26bbff-5ad3-4df0-84e1-749124b76de5",
   "metadata": {
    "tags": []
   },
   "outputs": [],
   "source": [
    "file_hp.create_folder(plot_path, 'mix_replies')\n",
    "reply_plot_path = os.path.join(plot_path, 'mix_replies')"
   ]
  },
  {
   "cell_type": "code",
   "execution_count": 4,
   "id": "bea80e91-fdba-44ce-b7c6-830fa323a9c5",
   "metadata": {
    "tags": []
   },
   "outputs": [],
   "source": [
    "all_campaigns, names = st.bundle_campaign()"
   ]
  },
  {
   "cell_type": "code",
   "execution_count": 5,
   "id": "969bddf9-9ecf-4e0c-8b2d-b74a3dc33f90",
   "metadata": {
    "tags": []
   },
   "outputs": [],
   "source": [
    "def get_path(path, \n",
    "             year, \n",
    "             campaign,\n",
    "            ):\n",
    "    '''\n",
    "    Gets path to control and IO tweet file\n",
    "    \n",
    "    :param path: path to the directory where tweet is present\n",
    "    :param year: year of compaign\n",
    "    :param campaign: name of campaign\n",
    "    :param check_control: whether to check if control is present\n",
    "    \n",
    "    return list\n",
    "    '''\n",
    "    \n",
    "    ops_file_path = os.path.join(path, \n",
    "                                 year, \n",
    "                                 campaign, \n",
    "                                 f'{campaign}_tweets.pkl.gz')\n",
    "    control_file_path = os.path.join(path, \n",
    "                                     year, \n",
    "                                     campaign, \n",
    "                                     'DriversControl', \n",
    "                                     f'{campaign}_control.pkl.gz')\n",
    "    \n",
    "    if os.path.isfile(control_file_path) == False:\n",
    "        control_file_path = os.path.join(path, \n",
    "                                     year, \n",
    "                                     campaign, \n",
    "                                     'DriversControl', \n",
    "                                     f'{campaign}_tweets_control.pkl.gz')\n",
    "        \n",
    "    ops_flag = os.path.isfile(ops_file_path) == True\n",
    "    \n",
    "    if ops_flag:\n",
    "        return {'ops': ops_file_path,\n",
    "                'control': control_file_path\n",
    "               }\n",
    "    \n",
    "    print('Files not found')\n",
    "    \n",
    "    return None"
   ]
  },
  {
   "cell_type": "code",
   "execution_count": 21,
   "id": "11387559-1aba-4ab0-b0f8-70c70eed9266",
   "metadata": {
    "tags": []
   },
   "outputs": [],
   "source": [
    "def combine_all_replies(all_campaigns, \n",
    "                        derived_path, \n",
    "                        type_of, \n",
    "                        filename, \n",
    "                        external=False,\n",
    "                        language=None\n",
    "                       ):\n",
    "    '''\n",
    "    Combines all the replies of data\n",
    "    \n",
    "    :param all_campaigns: dictionary of all campaign\n",
    "    :param derived_path: path where the data to be saved\n",
    "    :param type_of: type of data either information operation or control\n",
    "    :param filename: name of file to be saved\n",
    "    '''\n",
    "\n",
    "    df = pd.DataFrame()\n",
    "    for row in all_campaigns:\n",
    "        for year in row:\n",
    "            for new_campaign in row[year]:\n",
    "\n",
    "                print(f'\\n ------START: {year}: {new_campaign} ------- \\n')\n",
    "\n",
    "                data_path = get_path(all_tweet_data, year, \n",
    "                                     new_campaign)\n",
    "\n",
    "                data = st.read_ops_control_data(data_path['ops'],\n",
    "                                                data_path['control'], \n",
    "                                             [type_of])\n",
    "                df_test = data[type_of]\n",
    "                \n",
    "                if len(df_test) == 0:\n",
    "                    print(f'\\n ------END: {year}: {new_campaign} ------- \\n')\n",
    "                    continue\n",
    "                    \n",
    "                if 'in_reply_to_tweetid' not in df_test.columns:\n",
    "                    continue\n",
    "\n",
    "                df_ops = df_test.loc[~df_test['in_reply_to_tweetid'].isnull()]\n",
    "                \n",
    "                # if language is not None:\n",
    "                #     df_ops = df_ops.loc[df_ops['tweet_language'] == language]\n",
    "                    \n",
    "                df_ops['year'] = year\n",
    "                df_ops['campaign'] = new_campaign\n",
    "                \n",
    "                if external == True:\n",
    "                    df_ops = st.reply_to_external_users(df_ops)\n",
    "                    \n",
    "                print(df_ops.columns)\n",
    "                \n",
    "                return \n",
    "            \n",
    "                df = df.append(df_ops[['tweetid', \n",
    "                                       'userid',\n",
    "                                       'quote_count',\n",
    "                                       'reply_count',\n",
    "                                       'like_count',\n",
    "                                       'retweet_count',\n",
    "                                       'year', \n",
    "                                       'campaign']], \n",
    "                               ignore_index=True)\n",
    "                \n",
    "\n",
    "                print(len(df))\n",
    "                \n",
    "    df.rename(columns={'tweetid': 'replier_tweetid',\n",
    "                        'userid': 'replier_userid',\n",
    "                        'quote_count': 'quote_count',\n",
    "                        'reply_count': 'reply_count',\n",
    "                        'like_count': 'like_count',\n",
    "                       'retweet_count': 'retweet_count',\n",
    "                        'year': 'year',\n",
    "                        'campaign': 'campaign'\n",
    "                       },\n",
    "               inplace=True)\n",
    "    \n",
    "    # path = os.path.join(derived_path, filename)\n",
    "\n",
    "    df.to_pickle(f'{filename}')\n",
    "                "
   ]
  },
  {
   "cell_type": "markdown",
   "id": "5f5a0ca0-7391-492c-a879-29b971b856a5",
   "metadata": {},
   "source": [
    "#### **Run the function**"
   ]
  },
  {
   "cell_type": "code",
   "execution_count": 22,
   "id": "aa86882f-a009-4b9e-a54f-93ef09608509",
   "metadata": {
    "tags": []
   },
   "outputs": [
    {
     "name": "stdout",
     "output_type": "stream",
     "text": [
      "\n",
      " ------START: 2021_12: CNHU_0621 ------- \n",
      "\n",
      "Index(['tweetid', 'userid', 'user_display_name', 'user_screen_name',\n",
      "       'user_reported_location', 'user_profile_description',\n",
      "       'user_profile_url', 'follower_count', 'following_count',\n",
      "       'account_creation_date', 'account_language', 'tweet_language',\n",
      "       'tweet_text', 'tweet_time', 'tweet_client_name', 'in_reply_to_userid',\n",
      "       'in_reply_to_tweetid', 'quoted_tweet_tweetid', 'is_retweet',\n",
      "       'retweet_userid', 'retweet_tweetid', 'latitude', 'longitude',\n",
      "       'quote_count', 'reply_count', 'like_count', 'retweet_count', 'hashtags',\n",
      "       'urls', 'user_mentions', 'year', 'campaign'],\n",
      "      dtype='object')\n"
     ]
    },
    {
     "name": "stderr",
     "output_type": "stream",
     "text": [
      "/tmp/ipykernel_2904154/237635865.py:44: SettingWithCopyWarning: \n",
      "A value is trying to be set on a copy of a slice from a DataFrame.\n",
      "Try using .loc[row_indexer,col_indexer] = value instead\n",
      "\n",
      "See the caveats in the documentation: https://pandas.pydata.org/pandas-docs/stable/user_guide/indexing.html#returning-a-view-versus-a-copy\n",
      "  df_ops['year'] = year\n",
      "/tmp/ipykernel_2904154/237635865.py:45: SettingWithCopyWarning: \n",
      "A value is trying to be set on a copy of a slice from a DataFrame.\n",
      "Try using .loc[row_indexer,col_indexer] = value instead\n",
      "\n",
      "See the caveats in the documentation: https://pandas.pydata.org/pandas-docs/stable/user_guide/indexing.html#returning-a-view-versus-a-copy\n",
      "  df_ops['campaign'] = new_campaign\n"
     ]
    }
   ],
   "source": [
    "importlib.reload(config_hp)\n",
    "\n",
    "config = config_hp.config()\n",
    "metric = config['METRIC']\n",
    "\n",
    "tweet_metric = metric['tweet_metric']\n",
    "combine_all_replies(all_campaigns, \n",
    "                    derived_path, \n",
    "                    'ops', \n",
    "                    tweet_metric,\n",
    "                    False,\n",
    "                    None\n",
    "                   )"
   ]
  },
  {
   "cell_type": "markdown",
   "id": "3ef4ae9d-205d-4983-b4f7-1861fcf94fbb",
   "metadata": {},
   "source": [
    "#### **Test file is there**"
   ]
  },
  {
   "cell_type": "code",
   "execution_count": 9,
   "id": "0b2ee7a6-3405-412e-962a-7c00d5f80eec",
   "metadata": {
    "tags": []
   },
   "outputs": [],
   "source": [
    "importlib.reload(config_hp)\n",
    "\n",
    "config = config_hp.config()\n",
    "metric = config['METRIC']\n",
    "\n",
    "tweet_metric = metric['tweet_metric']\n",
    "\n",
    "\n",
    "df_metric = pd.read_pickle(tweet_metric)"
   ]
  },
  {
   "cell_type": "code",
   "execution_count": 11,
   "id": "e8235689-e6f0-46ae-8382-f36049c16c4a",
   "metadata": {
    "tags": []
   },
   "outputs": [
    {
     "data": {
      "text/html": [
       "<div>\n",
       "<style scoped>\n",
       "    .dataframe tbody tr th:only-of-type {\n",
       "        vertical-align: middle;\n",
       "    }\n",
       "\n",
       "    .dataframe tbody tr th {\n",
       "        vertical-align: top;\n",
       "    }\n",
       "\n",
       "    .dataframe thead th {\n",
       "        text-align: right;\n",
       "    }\n",
       "</style>\n",
       "<table border=\"1\" class=\"dataframe\">\n",
       "  <thead>\n",
       "    <tr style=\"text-align: right;\">\n",
       "      <th></th>\n",
       "      <th>replier_tweetid</th>\n",
       "      <th>replier_userid</th>\n",
       "      <th>quote_count</th>\n",
       "      <th>reply_count</th>\n",
       "      <th>like_count</th>\n",
       "      <th>retweet_count</th>\n",
       "      <th>year</th>\n",
       "      <th>campaign</th>\n",
       "    </tr>\n",
       "  </thead>\n",
       "  <tbody>\n",
       "    <tr>\n",
       "      <th>0</th>\n",
       "      <td>1214512781459771394</td>\n",
       "      <td>1181565607675756544</td>\n",
       "      <td>0</td>\n",
       "      <td>0</td>\n",
       "      <td>1</td>\n",
       "      <td>1</td>\n",
       "      <td>2021_12</td>\n",
       "      <td>CNHU_0621</td>\n",
       "    </tr>\n",
       "    <tr>\n",
       "      <th>1</th>\n",
       "      <td>1321737129039290368</td>\n",
       "      <td>1291564118487339011</td>\n",
       "      <td>0</td>\n",
       "      <td>0</td>\n",
       "      <td>1</td>\n",
       "      <td>0</td>\n",
       "      <td>2021_12</td>\n",
       "      <td>CNHU_0621</td>\n",
       "    </tr>\n",
       "    <tr>\n",
       "      <th>2</th>\n",
       "      <td>1257247935470821376</td>\n",
       "      <td>1205428631473778689</td>\n",
       "      <td>0</td>\n",
       "      <td>0</td>\n",
       "      <td>0</td>\n",
       "      <td>0</td>\n",
       "      <td>2021_12</td>\n",
       "      <td>CNHU_0621</td>\n",
       "    </tr>\n",
       "    <tr>\n",
       "      <th>3</th>\n",
       "      <td>1308232949108670464</td>\n",
       "      <td>1181565607675756544</td>\n",
       "      <td>0</td>\n",
       "      <td>0</td>\n",
       "      <td>0</td>\n",
       "      <td>0</td>\n",
       "      <td>2021_12</td>\n",
       "      <td>CNHU_0621</td>\n",
       "    </tr>\n",
       "    <tr>\n",
       "      <th>4</th>\n",
       "      <td>1265941843696422915</td>\n",
       "      <td>1181763761591308289</td>\n",
       "      <td>0</td>\n",
       "      <td>0</td>\n",
       "      <td>0</td>\n",
       "      <td>0</td>\n",
       "      <td>2021_12</td>\n",
       "      <td>CNHU_0621</td>\n",
       "    </tr>\n",
       "  </tbody>\n",
       "</table>\n",
       "</div>"
      ],
      "text/plain": [
       "       replier_tweetid       replier_userid quote_count reply_count  \\\n",
       "0  1214512781459771394  1181565607675756544           0           0   \n",
       "1  1321737129039290368  1291564118487339011           0           0   \n",
       "2  1257247935470821376  1205428631473778689           0           0   \n",
       "3  1308232949108670464  1181565607675756544           0           0   \n",
       "4  1265941843696422915  1181763761591308289           0           0   \n",
       "\n",
       "  like_count retweet_count     year   campaign  \n",
       "0          1             1  2021_12  CNHU_0621  \n",
       "1          1             0  2021_12  CNHU_0621  \n",
       "2          0             0  2021_12  CNHU_0621  \n",
       "3          0             0  2021_12  CNHU_0621  \n",
       "4          0             0  2021_12  CNHU_0621  "
      ]
     },
     "execution_count": 11,
     "metadata": {},
     "output_type": "execute_result"
    }
   ],
   "source": [
    "df_metric.head()"
   ]
  },
  {
   "cell_type": "code",
   "execution_count": 12,
   "id": "6824b792-762d-4f55-b752-90592a0af748",
   "metadata": {
    "tags": []
   },
   "outputs": [
    {
     "data": {
      "text/plain": [
       "1592.0"
      ]
     },
     "execution_count": 12,
     "metadata": {},
     "output_type": "execute_result"
    }
   ],
   "source": [
    "df_metric['quote_count'].max()"
   ]
  },
  {
   "cell_type": "code",
   "execution_count": 15,
   "id": "284f3dec-bc32-4220-99d0-2fd9c1b08d7d",
   "metadata": {
    "tags": []
   },
   "outputs": [
    {
     "data": {
      "text/plain": [
       "2008.0"
      ]
     },
     "execution_count": 15,
     "metadata": {},
     "output_type": "execute_result"
    }
   ],
   "source": [
    "df_metric['reply_count'].max()"
   ]
  },
  {
   "cell_type": "code",
   "execution_count": 16,
   "id": "b4c76a4b-6e68-4052-8502-aadd55a5427d",
   "metadata": {
    "tags": []
   },
   "outputs": [
    {
     "data": {
      "text/plain": [
       "37518.0"
      ]
     },
     "execution_count": 16,
     "metadata": {},
     "output_type": "execute_result"
    }
   ],
   "source": [
    "df_metric['like_count'].max()"
   ]
  },
  {
   "cell_type": "code",
   "execution_count": 17,
   "id": "90bf28c1-6048-42a4-986f-d682fa33211e",
   "metadata": {
    "tags": []
   },
   "outputs": [
    {
     "data": {
      "text/plain": [
       "33616.0"
      ]
     },
     "execution_count": 17,
     "metadata": {},
     "output_type": "execute_result"
    }
   ],
   "source": [
    "df_metric['retweet_count'].max()"
   ]
  },
  {
   "cell_type": "code",
   "execution_count": 27,
   "id": "50980db5-ca8a-4054-8925-254fae0b02e3",
   "metadata": {},
   "outputs": [],
   "source": [
    "# df_metric.loc[df_metric['retweet_count'].isnull()]"
   ]
  },
  {
   "cell_type": "code",
   "execution_count": null,
   "id": "d2f6c9f9-f1a2-46fb-8f8e-49c7b843eebd",
   "metadata": {},
   "outputs": [],
   "source": []
  }
 ],
 "metadata": {
  "kernelspec": {
   "display_name": "Python 3 (ipykernel)",
   "language": "python",
   "name": "python3"
  },
  "language_info": {
   "codemirror_mode": {
    "name": "ipython",
    "version": 3
   },
   "file_extension": ".py",
   "mimetype": "text/x-python",
   "name": "python",
   "nbconvert_exporter": "python",
   "pygments_lexer": "ipython3",
   "version": "3.10.9"
  }
 },
 "nbformat": 4,
 "nbformat_minor": 5
}
