{
 "cells": [
  {
   "cell_type": "markdown",
   "id": "4df3ac9a-b2b8-426b-9bf6-44f0271ff008",
   "metadata": {},
   "source": [
    "#### **This notebook tests the topic of the original tweets**"
   ]
  },
  {
   "cell_type": "markdown",
   "id": "0dc12f3d-90f1-4976-aeef-fe9a71437a63",
   "metadata": {
    "jp-MarkdownHeadingCollapsed": true,
    "tags": []
   },
   "source": [
    "#### **Test LDA**"
   ]
  },
  {
   "cell_type": "code",
   "execution_count": 9,
   "id": "5601c261-c35d-439d-b266-62210edc5843",
   "metadata": {
    "tags": []
   },
   "outputs": [
    {
     "name": "stdout",
     "output_type": "stream",
     "text": [
      "2\n",
      "(0, '0.092*\"i\" + 0.092*\"basketball\" + 0.092*\"football\" + 0.092*\"sport\" + 0.088*\"is\" + 0.055*\"to\" + 0.055*\"love\" + 0.055*\"play\" + 0.055*\"enjoy\" + 0.055*\"playing\"')\n",
      "(1, '0.121*\"a\" + 0.117*\"is\" + 0.107*\"great\" + 0.107*\"game\" + 0.107*\"soccer\" + 0.038*\"popular\" + 0.038*\"sport\" + 0.037*\"football\" + 0.037*\"basketball\" + 0.037*\"my\"')\n",
      "Document 1 - Topic Distribution: [(0, 0.91029227), (1, 0.08970776)]\n",
      "Document 2 - Topic Distribution: [(0, 0.85039765), (1, 0.14960231)]\n",
      "Document 3 - Topic Distribution: [(0, 0.892833), (1, 0.10716701)]\n",
      "Document 4 - Topic Distribution: [(0, 0.90283024), (1, 0.09716974)]\n",
      "Document 5 - Topic Distribution: [(0, 0.09132651), (1, 0.90867347)]\n"
     ]
    }
   ],
   "source": [
    "import gensim\n",
    "from gensim import corpora\n",
    "\n",
    "# Sample documents\n",
    "documents = [\n",
    "    \"I love to play football\",\n",
    "    \"Football is a popular sport\",\n",
    "    \"I enjoy playing basketball\",\n",
    "    \"Basketball is my favorite sport\",\n",
    "    \"Soccer is a great game\"\n",
    "]\n",
    "\n",
    "# Tokenize the documents\n",
    "tokenized_docs = [doc.lower().split() for doc in documents]\n",
    "\n",
    "# Create a dictionary from the tokenized documents\n",
    "dictionary = corpora.Dictionary(tokenized_docs)\n",
    "\n",
    "# Convert tokenized documents to vectors (bag of words representation)\n",
    "corpus = [dictionary.doc2bow(doc) for doc in tokenized_docs]\n",
    "# print(corpus)\n",
    "\n",
    "# Perform LDA topic modeling\n",
    "num_topics = 2\n",
    "lda_model = gensim.models.LdaModel(corpus, \n",
    "                                   num_topics=num_topics, \n",
    "                                   id2word=dictionary, \n",
    "                                   passes=10\n",
    "                                  )\n",
    "\n",
    "# Print the topics and their corresponding words\n",
    "print(len(lda_model.print_topics()[0]))\n",
    "for topic in lda_model.print_topics():\n",
    "    print(topic)\n",
    "\n",
    "# Get the topic distribution for each document\n",
    "for i, doc in enumerate(corpus):\n",
    "    print(f\"Document {i+1} - Topic Distribution:\", lda_model.get_document_topics(doc))\n"
   ]
  },
  {
   "cell_type": "markdown",
   "id": "371cbb7b-c2bd-4171-982d-5dd5880c0ff2",
   "metadata": {
    "tags": []
   },
   "source": [
    "#### **Import Packages**"
   ]
  },
  {
   "cell_type": "code",
   "execution_count": 1,
   "id": "133622ac-4fb7-44c4-b24c-fcc68745fce5",
   "metadata": {
    "tags": []
   },
   "outputs": [],
   "source": [
    "import pandas as pd\n",
    "import numpy as np\n",
    "from sklearn.metrics.pairwise import cosine_similarity\n",
    "\n",
    "import datetime\n",
    "import warnings\n",
    "import glob\n",
    "import seaborn as sns\n",
    "import matplotlib.pyplot as plt\n",
    "import matplotlib.colors as pltc\n",
    "import sys\n",
    "import os\n",
    "\n",
    "import importlib\n",
    "\n",
    "#### packages\n",
    "import helper.strategy_helper as st\n",
    "import helper.visualization as viz_hp\n",
    "import helper.helper as hp\n",
    "import helper.file_helper as file_hp\n",
    "import config.config as config_hp\n",
    "import helper.pandas_helper as pd_hp\n",
    "import helper.twitter_helper as twitter_hp"
   ]
  },
  {
   "cell_type": "markdown",
   "id": "ad392564-6dad-4ad0-aedd-1a820f6fc97c",
   "metadata": {},
   "source": [
    "#### **Original tweets for IO: This includes all the original tweetids**"
   ]
  },
  {
   "cell_type": "code",
   "execution_count": 2,
   "id": "65112d58-33aa-47d0-bdc6-8307a1c62edc",
   "metadata": {},
   "outputs": [],
   "source": [
    "## For alive tweets\n",
    "config = config_hp.config()\n",
    "poster_path = config['POSTER_PATH']\n",
    "poster_org_tweets = poster_path['parsed_poster_org_tweets']\n",
    "# poster_alive_file = poster_path['poster_alive_file']\n",
    "\n",
    "df_org = pd.read_pickle(poster_org_tweets)"
   ]
  },
  {
   "cell_type": "code",
   "execution_count": 49,
   "id": "35fd1336-7c72-4a5d-a94c-3381fec3a906",
   "metadata": {
    "tags": []
   },
   "outputs": [
    {
     "data": {
      "text/plain": [
       "96041"
      ]
     },
     "execution_count": 49,
     "metadata": {},
     "output_type": "execute_result"
    }
   ],
   "source": [
    "df_org['tweetid'].nunique()"
   ]
  },
  {
   "cell_type": "code",
   "execution_count": 31,
   "id": "08c021ce-90e8-410b-939e-6052998c070e",
   "metadata": {
    "tags": []
   },
   "outputs": [
    {
     "name": "stdout",
     "output_type": "stream",
     "text": [
      "<class 'pandas.core.frame.DataFrame'>\n",
      "RangeIndex: 96041 entries, 0 to 96040\n",
      "Data columns (total 24 columns):\n",
      " #   Column                  Non-Null Count  Dtype  \n",
      "---  ------                  --------------  -----  \n",
      " 0   text                    96041 non-null  object \n",
      " 1   conversation_id         34185 non-null  object \n",
      " 2   lang                    34185 non-null  object \n",
      " 3   entities                0 non-null      object \n",
      " 4   possibly_sensitive      34185 non-null  object \n",
      " 5   reply_settings          34185 non-null  object \n",
      " 6   created_at              96041 non-null  object \n",
      " 7   edit_history_tweet_ids  34185 non-null  object \n",
      " 8   tweetid                 96041 non-null  object \n",
      " 9   author_id               34185 non-null  object \n",
      " 10  retweet_count           34185 non-null  float64\n",
      " 11  reply_count             34185 non-null  float64\n",
      " 12  like_count              34185 non-null  float64\n",
      " 13  quote_count             34185 non-null  float64\n",
      " 14  impression_count        34185 non-null  float64\n",
      " 15  expanded_url            25158 non-null  object \n",
      " 16  display_url             25158 non-null  object \n",
      " 17  in_reply_to_user_id     2681 non-null   object \n",
      " 18  referenced_tweets       5703 non-null   object \n",
      " 19  context_annotations     6279 non-null   object \n",
      " 20  entity_annotations      7862 non-null   object \n",
      " 21  cashtags                0 non-null      object \n",
      " 22  hashtags                10622 non-null  object \n",
      " 23  mentions                10043 non-null  object \n",
      "dtypes: float64(5), object(19)\n",
      "memory usage: 17.6+ MB\n"
     ]
    }
   ],
   "source": [
    "df_org.info()"
   ]
  },
  {
   "cell_type": "code",
   "execution_count": 3,
   "id": "09c7406b-2366-4315-b518-45542a6d5d7d",
   "metadata": {
    "tags": []
   },
   "outputs": [
    {
     "data": {
      "text/plain": [
       "array(['Could not find tweet with ids: [64953578015571968].',\n",
       "       'Could not find tweet with ids: [138715327608524800].',\n",
       "       'Could not find tweet with ids: [175649582045347840].', ...,\n",
       "       'Could not find tweet with ids: [1387924316130619392].',\n",
       "       'Could not find tweet with ids: [1387938253119033088].',\n",
       "       '@rinasketch 仕事終わりに買ってきます👋😃'], dtype=object)"
      ]
     },
     "execution_count": 3,
     "metadata": {},
     "output_type": "execute_result"
    }
   ],
   "source": [
    "df_org['text'].unique()"
   ]
  },
  {
   "cell_type": "code",
   "execution_count": 6,
   "id": "f3dbadf0-9fd3-4483-a807-1caef15a6db3",
   "metadata": {
    "tags": []
   },
   "outputs": [
    {
     "data": {
      "text/plain": [
       "Index(['text', 'conversation_id', 'lang', 'entities', 'possibly_sensitive',\n",
       "       'reply_settings', 'created_at', 'edit_history_tweet_ids', 'tweetid',\n",
       "       'author_id', 'retweet_count', 'reply_count', 'like_count',\n",
       "       'quote_count', 'impression_count', 'expanded_url', 'display_url',\n",
       "       'in_reply_to_user_id', 'referenced_tweets', 'context_annotations',\n",
       "       'entity_annotations', 'cashtags', 'hashtags', 'mentions'],\n",
       "      dtype='object')"
      ]
     },
     "execution_count": 6,
     "metadata": {},
     "output_type": "execute_result"
    }
   ],
   "source": [
    "df_org.columns"
   ]
  },
  {
   "cell_type": "markdown",
   "id": "3d11e356-de9d-47d4-936b-a423e6dc492f",
   "metadata": {},
   "source": [
    "#### **Load Replies**"
   ]
  },
  {
   "cell_type": "code",
   "execution_count": 4,
   "id": "e4e4be09-d837-4da6-9514-a1546afbad09",
   "metadata": {
    "tags": []
   },
   "outputs": [
    {
     "name": "stdout",
     "output_type": "stream",
     "text": [
      "Unique poster tweetid:  3866\n"
     ]
    }
   ],
   "source": [
    "config = config_hp.config()\n",
    "balanced = config['BALANCED']\n",
    "\n",
    "balanced_neg_conversation = balanced['balanced_neg_conversation']\n",
    "balanced_pos_conversation = balanced['balanced_pos_conversation']\n",
    "\n",
    "#### Load positive \n",
    "df_pos = pd.read_pickle(balanced_pos_conversation)\n",
    "print('Unique poster tweetid: ', \n",
    "      df_pos['poster_tweetid'].nunique())\n",
    "\n",
    "# #### Load negative \n",
    "# df_neg = pd.read_pickle(balanced_neg_conversation)\n",
    "# print('Unique poster tweetid: ', \n",
    "#       df_neg['poster_tweetid'].nunique())"
   ]
  },
  {
   "cell_type": "code",
   "execution_count": 5,
   "id": "a7c10580-8f1b-4b2c-bfc3-5d0d158887f6",
   "metadata": {
    "tags": []
   },
   "outputs": [
    {
     "name": "stdout",
     "output_type": "stream",
     "text": [
      "<class 'pandas.core.frame.DataFrame'>\n",
      "Int64Index: 2160484 entries, 0 to 2673080\n",
      "Data columns (total 16 columns):\n",
      " #   Column           Dtype  \n",
      "---  ------           -----  \n",
      " 0   tweet_text       object \n",
      " 1   conversation_id  object \n",
      " 2   replier_tweetid  object \n",
      " 3   replier_userid   object \n",
      " 4   poster_userid    object \n",
      " 5   poster_tweetid   object \n",
      " 6   tweet_time       object \n",
      " 7   tweet_language   object \n",
      " 8   replier_label    int64  \n",
      " 9   year             object \n",
      " 10  campaign         object \n",
      " 11  tweet_label      int64  \n",
      " 12  tweet_time_year  object \n",
      " 13  common           float64\n",
      " 14  id               object \n",
      " 15  username         object \n",
      "dtypes: float64(1), int64(2), object(13)\n",
      "memory usage: 280.2+ MB\n"
     ]
    }
   ],
   "source": [
    "df_pos.info()"
   ]
  },
  {
   "cell_type": "markdown",
   "id": "d72ad548-39da-4025-bac9-01845f2ad471",
   "metadata": {},
   "source": [
    "#### **Check the missing campaign**"
   ]
  },
  {
   "cell_type": "code",
   "execution_count": 9,
   "id": "ed27c4a8-bf2a-4752-b703-fe7074633a24",
   "metadata": {
    "tags": []
   },
   "outputs": [],
   "source": [
    "df_campaign_null = df_pos.loc[df_pos['campaign'].isnull()]"
   ]
  },
  {
   "cell_type": "code",
   "execution_count": 10,
   "id": "6798249a-ba83-4704-a278-91e90654f274",
   "metadata": {
    "tags": []
   },
   "outputs": [
    {
     "data": {
      "text/plain": [
       "1"
      ]
     },
     "execution_count": 10,
     "metadata": {},
     "output_type": "execute_result"
    }
   ],
   "source": [
    "df_campaign_null['replier_label'].nunique()"
   ]
  },
  {
   "cell_type": "code",
   "execution_count": 26,
   "id": "3aa8e8ce-bef7-4d44-aa7a-0b6d8beeb722",
   "metadata": {
    "tags": []
   },
   "outputs": [
    {
     "data": {
      "text/plain": [
       "2093113"
      ]
     },
     "execution_count": 26,
     "metadata": {},
     "output_type": "execute_result"
    }
   ],
   "source": [
    "df_campaign_null['poster_tweetid'].count()"
   ]
  },
  {
   "cell_type": "code",
   "execution_count": 16,
   "id": "cefab66b-fc46-45a6-8fcf-0114f017275c",
   "metadata": {
    "tags": []
   },
   "outputs": [
    {
     "data": {
      "text/plain": [
       "3866"
      ]
     },
     "execution_count": 16,
     "metadata": {},
     "output_type": "execute_result"
    }
   ],
   "source": [
    "df_campaign_null['poster_tweetid'].nunique()"
   ]
  },
  {
   "cell_type": "code",
   "execution_count": 17,
   "id": "51c3bee9-e611-4989-a66c-df1d9913b2be",
   "metadata": {
    "tags": []
   },
   "outputs": [
    {
     "name": "stdout",
     "output_type": "stream",
     "text": [
      "28\n",
      "3866\n"
     ]
    }
   ],
   "source": [
    "df_campaign = df_pos.loc[~df_pos['campaign'].isnull()]\n",
    "\n",
    "print(df_campaign['campaign'].nunique())\n",
    "print(df_campaign['poster_tweetid'].nunique())"
   ]
  },
  {
   "cell_type": "code",
   "execution_count": 18,
   "id": "ef78305d-86ff-450b-ac13-c2095809b875",
   "metadata": {
    "tags": []
   },
   "outputs": [
    {
     "data": {
      "text/plain": [
       "3866"
      ]
     },
     "execution_count": 18,
     "metadata": {},
     "output_type": "execute_result"
    }
   ],
   "source": [
    "len(\n",
    "    set(\n",
    "        df_campaign['poster_tweetid']).intersection(\n",
    "        set(df_campaign_null['poster_tweetid'])\n",
    "    )\n",
    ")"
   ]
  },
  {
   "cell_type": "code",
   "execution_count": 37,
   "id": "2a224766-cf9a-4997-a46a-7e1fcce1fc2e",
   "metadata": {
    "tags": []
   },
   "outputs": [
    {
     "name": "stdout",
     "output_type": "stream",
     "text": [
      "<class 'pandas.core.frame.DataFrame'>\n",
      "RangeIndex: 3866 entries, 0 to 3865\n",
      "Data columns (total 1 columns):\n",
      " #   Column          Non-Null Count  Dtype \n",
      "---  ------          --------------  ----- \n",
      " 0   poster_tweetid  3866 non-null   object\n",
      "dtypes: object(1)\n",
      "memory usage: 30.3+ KB\n",
      "None\n",
      "['serbia_022020' 'saudi_arabia_112019' 'ecuador_082019' 'turkey_052020'\n",
      " 'sa_eg_ae_022020' 'uae_082019' 'iran_201906' 'honduras_022020'\n",
      " 'egypt_022020' 'iran_201901_1' 'iranian' 'uganda_0621' 'china_082019'\n",
      " 'qatar_082020' 'iran_202012' 'venezuela_201901' 'indonesia_022020'\n",
      " 'spain_082019' 'egypt_uae_082019' 'cuba_082020' 'china_052020'\n",
      " 'thailand_092020' 'MX_0621' 'Tanzania_0621' 'CNHU_0621' 'Venezuela_0621'\n",
      " 'ira' 'russia_201901_1']\n",
      "<class 'pandas.core.frame.DataFrame'>\n",
      "Int64Index: 4271 entries, 0 to 4270\n",
      "Data columns (total 2 columns):\n",
      " #   Column          Non-Null Count  Dtype \n",
      "---  ------          --------------  ----- \n",
      " 0   poster_tweetid  4271 non-null   object\n",
      " 1   campaign        4271 non-null   object\n",
      "dtypes: object(2)\n",
      "memory usage: 100.1+ KB\n",
      "None\n",
      "3866\n",
      "['serbia_022020' 'saudi_arabia_112019' 'ecuador_082019' 'turkey_052020'\n",
      " 'sa_eg_ae_022020' 'uae_082019' 'iran_201906' 'honduras_022020'\n",
      " 'egypt_022020' 'iran_201901_1' 'iranian' 'uganda_0621' 'china_082019'\n",
      " 'qatar_082020' 'iran_202012' 'venezuela_201901' 'indonesia_022020'\n",
      " 'spain_082019' 'egypt_uae_082019' 'cuba_082020' 'china_052020'\n",
      " 'thailand_092020' 'MX_0621' 'Tanzania_0621' 'CNHU_0621' 'Venezuela_0621'\n",
      " 'ira' 'russia_201901_1']\n"
     ]
    }
   ],
   "source": [
    "keys = list(df_campaign_null\n",
    "            .groupby(['poster_tweetid'])\n",
    "            .groups.keys()\n",
    "           )\n",
    "\n",
    "df_poster_tweetid = pd.DataFrame(data=keys,\n",
    "                              columns=['poster_tweetid']\n",
    "                              )\n",
    "\n",
    "print(df_poster_tweetid.info())\n",
    "\n",
    "keys = list(df_campaign\n",
    "            .groupby(['poster_tweetid', 'campaign'])\n",
    "            .groups.keys()\n",
    "           )\n",
    "\n",
    "df_pos_campaign = pd.DataFrame(data=keys,\n",
    "                              columns=['poster_tweetid', 'campaign']\n",
    "                              )\n",
    "print(df_pos_campaign['campaign'].unique())\n",
    "\n",
    "df_merge = df_poster_tweetid[['poster_tweetid']].merge(\n",
    "    df_pos_campaign[['poster_tweetid', 'campaign']])\n",
    "\n",
    "print(df_merge.info())\n",
    "print(df_merge['poster_tweetid'].nunique())\n",
    "print(df_merge['campaign'].unique())"
   ]
  },
  {
   "cell_type": "code",
   "execution_count": 38,
   "id": "1f0c5de2-4a44-4180-bd62-57379ee8e2f1",
   "metadata": {
    "tags": []
   },
   "outputs": [],
   "source": [
    "df_org.loc[df_org['tweetid'].isin(df_merge['poster_tweetid']), \n",
    "           'campaign'] = df_merge['campaign']"
   ]
  },
  {
   "cell_type": "code",
   "execution_count": 47,
   "id": "2df1acf3-332e-4da2-af53-0af2591ed3d3",
   "metadata": {
    "tags": []
   },
   "outputs": [
    {
     "name": "stdout",
     "output_type": "stream",
     "text": [
      "28\n"
     ]
    }
   ],
   "source": [
    "print(df_merge['campaign'].nunique())"
   ]
  },
  {
   "cell_type": "code",
   "execution_count": 48,
   "id": "3622b8f5-109c-4d98-bd78-0bc486991df6",
   "metadata": {
    "tags": []
   },
   "outputs": [
    {
     "data": {
      "text/plain": [
       "15"
      ]
     },
     "execution_count": 48,
     "metadata": {},
     "output_type": "execute_result"
    }
   ],
   "source": [
    "df_org['campaign'].nunique()"
   ]
  },
  {
   "cell_type": "code",
   "execution_count": 51,
   "id": "f013a1b3-a092-41e2-87ba-1c35970bd7ae",
   "metadata": {
    "tags": []
   },
   "outputs": [
    {
     "data": {
      "text/plain": [
       "Index(['text', 'conversation_id', 'lang', 'entities', 'possibly_sensitive',\n",
       "       'reply_settings', 'created_at', 'edit_history_tweet_ids', 'tweetid',\n",
       "       'author_id', 'retweet_count', 'reply_count', 'like_count',\n",
       "       'quote_count', 'impression_count', 'expanded_url', 'display_url',\n",
       "       'in_reply_to_user_id', 'referenced_tweets', 'context_annotations',\n",
       "       'entity_annotations', 'cashtags', 'hashtags', 'mentions', 'campaign'],\n",
       "      dtype='object')"
      ]
     },
     "execution_count": 51,
     "metadata": {},
     "output_type": "execute_result"
    }
   ],
   "source": [
    "df_org.columns"
   ]
  },
  {
   "cell_type": "code",
   "execution_count": 41,
   "id": "f9ccefa5-cc8d-4950-93bc-e5535d1f5af2",
   "metadata": {
    "tags": []
   },
   "outputs": [],
   "source": [
    "config = config_hp.config()\n",
    "path = config['POSTER_PATH']\n",
    "\n",
    "org_tweet = path['poster_org_tweet_with_campaign']\n",
    "\n",
    "df_org.to_pickle(org_tweet)"
   ]
  },
  {
   "cell_type": "markdown",
   "id": "29245918-48c4-457f-b376-ef7acfb968ae",
   "metadata": {},
   "source": [
    "#### **Get text of original post with campaign?**"
   ]
  },
  {
   "cell_type": "code",
   "execution_count": 53,
   "id": "4d0a695a-0e99-4ebd-ac41-6ee85699aeea",
   "metadata": {},
   "outputs": [],
   "source": [
    "df_merge.loc[df_merge['poster_tweetid'].isin(df_org['tweetid']),\n",
    "             'tweet_text'\n",
    "            ] = df_org['text']"
   ]
  },
  {
   "cell_type": "code",
   "execution_count": 63,
   "id": "762bc97f-6887-46a3-8f6f-814dd8144e19",
   "metadata": {
    "tags": []
   },
   "outputs": [],
   "source": [
    "df_merge.loc[df_merge['poster_tweetid'].isin(df_org['tweetid']),\n",
    "             'author_id'\n",
    "            ] = df_org['author_id']"
   ]
  },
  {
   "cell_type": "code",
   "execution_count": 74,
   "id": "e89f9cf0-424c-4c82-8ed6-dfebe0fa3bc8",
   "metadata": {
    "tags": []
   },
   "outputs": [],
   "source": [
    "df_merge.loc[df_merge['poster_tweetid'].isin(df_org['tweetid']),\n",
    "             'lang'\n",
    "            ] = df_org['lang']"
   ]
  },
  {
   "cell_type": "code",
   "execution_count": 75,
   "id": "26cad424-bae6-40ba-9c82-c4f26868be86",
   "metadata": {
    "tags": []
   },
   "outputs": [
    {
     "data": {
      "text/plain": [
       "array(['serbia_022020', 'saudi_arabia_112019', 'ecuador_082019',\n",
       "       'turkey_052020', 'sa_eg_ae_022020', 'uae_082019', 'iran_201906',\n",
       "       'honduras_022020', 'egypt_022020', 'iran_201901_1', 'iranian',\n",
       "       'uganda_0621', 'china_082019', 'qatar_082020', 'iran_202012',\n",
       "       'venezuela_201901', 'indonesia_022020', 'spain_082019',\n",
       "       'egypt_uae_082019', 'cuba_082020', 'china_052020',\n",
       "       'thailand_092020', 'MX_0621', 'Tanzania_0621', 'CNHU_0621',\n",
       "       'Venezuela_0621', 'ira', 'russia_201901_1'], dtype=object)"
      ]
     },
     "execution_count": 75,
     "metadata": {},
     "output_type": "execute_result"
    }
   ],
   "source": [
    "df_merge['campaign'].unique()"
   ]
  },
  {
   "cell_type": "code",
   "execution_count": 66,
   "id": "e5fa7295-4391-49cb-a701-9a0046695ecf",
   "metadata": {
    "tags": []
   },
   "outputs": [],
   "source": [
    "# df_merge['author_id'].unique()"
   ]
  },
  {
   "cell_type": "code",
   "execution_count": 56,
   "id": "d70817ea-36f3-4ee4-8ea1-d6c4d2302e01",
   "metadata": {
    "tags": []
   },
   "outputs": [
    {
     "data": {
      "text/plain": [
       "3866"
      ]
     },
     "execution_count": 56,
     "metadata": {},
     "output_type": "execute_result"
    }
   ],
   "source": [
    "df_merge['poster_tweetid'].nunique()"
   ]
  },
  {
   "cell_type": "code",
   "execution_count": 76,
   "id": "d63188e9-22a3-4cc1-b27e-733f1f7665ef",
   "metadata": {
    "tags": []
   },
   "outputs": [],
   "source": [
    "config = config_hp.config()\n",
    "path = config['POSTER_PATH']\n",
    "\n",
    "coordinated_org_tweet = path['coordinated_org_tweet']\n",
    "\n",
    "df_to_save = df_merge.loc[~df_merge['author_id'].isnull()]\n",
    "df_to_save.to_pickle(coordinated_org_tweet)"
   ]
  },
  {
   "cell_type": "markdown",
   "id": "a9fddd9f-c0b3-4a18-897a-6daf442e423c",
   "metadata": {},
   "source": [
    "#### **Topic for each campaings**"
   ]
  },
  {
   "cell_type": "markdown",
   "id": "ef70436f-9c6a-4175-a497-5a9dbbcbd6dd",
   "metadata": {},
   "source": [
    "- Problems: one campaign might have multiple languages"
   ]
  },
  {
   "cell_type": "code",
   "execution_count": 83,
   "id": "819d779b-7a8f-4825-a55f-c6191eee58ef",
   "metadata": {
    "tags": []
   },
   "outputs": [
    {
     "name": "stdout",
     "output_type": "stream",
     "text": [
      "turkey_052020\n",
      "                                             tweet_text lang\n",
      "42    Как я голосовал в режиме он-лайн - http://t.co...   ru\n",
      "69    Куда идти 1 сентября детям Донбасса? http://t....   ru\n",
      "498                    This is so fucking aggravating 😑   en\n",
      "693   @LBC consultants have a life too. Just like th...   en\n",
      "798   @AkilahObviously stop talking. Hot tea. I ice ...   en\n",
      "...                                                 ...  ...\n",
      "4083  Is DJ Shiru Uganda's all-time best Deejay? htt...   en\n",
      "4150  VUČIĆ OTKRIO: Nemačka kompanija gradiće istraž...  und\n",
      "4183  \"Ko je imao sreće da se jutros probudi u Beogr...  und\n",
      "4197  #ArpiaIII en curso. Asegurando e inspeccionand...   es\n",
      "4246  Continúa operación #ArpiaIII primeras cápsulas...   es\n",
      "\n",
      "[235 rows x 2 columns]\n",
      "['ru' 'en' 'und' 'zxx' 'sr' 'es' 'qht' 'fa' 'tr' 'ar' 'qme' 'ja']\n",
      "   lang  count\n",
      "0    ar     69\n",
      "1    en     20\n",
      "2    es     32\n",
      "3    fa      2\n",
      "4    ja      1\n",
      "5   qht      1\n",
      "6   qme      1\n",
      "7    ru      3\n",
      "8    sr     37\n",
      "9    tr      7\n",
      "10  und     59\n",
      "11  zxx      3\n"
     ]
    }
   ],
   "source": [
    "campaigns = df_to_save['campaign'].unique().tolist()\n",
    "\n",
    "for campaign in campaigns:\n",
    "    print(campaign)\n",
    "    df_campaign = df_to_save.loc[df_to_save['campaign'] == campaign]\n",
    "    \n",
    "    print(df_campaign[['tweet_text', 'lang']])\n",
    "    \n",
    "    print(df_campaign['lang'].unique())\n",
    "    \n",
    "    df_grp = (df_campaign.groupby(['lang'])\n",
    "              .size()\n",
    "              .to_frame('count')\n",
    "              .reset_index()\n",
    "             )\n",
    "    \n",
    "    language = \n",
    "    df_tr = df_campaign.loc[df_campaign['\n",
    "    \n",
    "    \n",
    "    break"
   ]
  },
  {
   "cell_type": "markdown",
   "id": "5c1d05e9-65cc-4109-a860-34cf13b8e36e",
   "metadata": {},
   "source": [
    "#### **Embedding based topic modeling models**"
   ]
  },
  {
   "cell_type": "markdown",
   "id": "7df1545c-849a-496e-8901-397e26874ed5",
   "metadata": {},
   "source": [
    "mBERTopic, MUSE, LASER\n",
    "\n",
    "https://www.pinecone.io/learn/bertopic/\n",
    "\n",
    "https://github.com/ddangelov/Top2Vec"
   ]
  },
  {
   "cell_type": "code",
   "execution_count": null,
   "id": "c51be2f6-b8be-4051-b2ac-b157a4400907",
   "metadata": {},
   "outputs": [],
   "source": []
  }
 ],
 "metadata": {
  "kernelspec": {
   "display_name": "Python 3 (ipykernel)",
   "language": "python",
   "name": "python3"
  },
  "language_info": {
   "codemirror_mode": {
    "name": "ipython",
    "version": 3
   },
   "file_extension": ".py",
   "mimetype": "text/x-python",
   "name": "python",
   "nbconvert_exporter": "python",
   "pygments_lexer": "ipython3",
   "version": "3.10.9"
  }
 },
 "nbformat": 4,
 "nbformat_minor": 5
}
