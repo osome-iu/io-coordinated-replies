{
 "cells": [
  {
   "cell_type": "markdown",
   "id": "df9b8345-9fb7-4977-a2b3-e48a990de328",
   "metadata": {},
   "source": [
    "#### **This script test for different cross campaign**"
   ]
  },
  {
   "cell_type": "code",
   "execution_count": 2,
   "id": "1b78c60c-85ee-4df0-821b-c0d2889e0b12",
   "metadata": {
    "tags": []
   },
   "outputs": [],
   "source": [
    "import pandas as pd\n",
    "import numpy as np\n",
    "import warnings\n",
    "import seaborn as sns\n",
    "import matplotlib.pyplot as plt\n",
    "import matplotlib.colors as pltc\n",
    "\n",
    "import importlib\n",
    "import os\n",
    "\n",
    "#### packages\n",
    "import helper.visualization as viz_hp\n",
    "import config.config as config_hp\n",
    "\n",
    "import copy\n",
    "import helper.stat_helper as stat_hp"
   ]
  },
  {
   "cell_type": "code",
   "execution_count": null,
   "id": "a13c06f6-1104-48d4-860a-9eff58d50bd8",
   "metadata": {},
   "outputs": [],
   "source": [
    "config = config_hp.config()\n",
    "camp_feat = config['USER_CAMP']['replier_camp_features']\n"
   ]
  },
  {
   "cell_type": "code",
   "execution_count": 1,
   "id": "a18a09ab-e6bf-453a-b314-3f51a00a82e1",
   "metadata": {
    "tags": []
   },
   "outputs": [],
   "source": [
    "list_camp =[\n",
    "    'saudi_arabia_112019',\n",
    "    'serbia_022020',\n",
    "    'turkey_052020',\n",
    "    'egypt_022020',\n",
    "    'honduras_022020',\n",
    "    'remain'\n",
    "]"
   ]
  },
  {
   "cell_type": "code",
   "execution_count": null,
   "id": "74ce899d-a005-417a-bb6b-c5f75f9e0c20",
   "metadata": {},
   "outputs": [],
   "source": [
    "for camp in list_campaign:\n",
    "    print('Camp--- :', camp)\n",
    "    \n",
    "    get_statistics(campagin_name=camp, \n",
    "                   df=df_stat_camp\n",
    "                  )\n",
    "    print(camp, ' Done!')\n",
    "\n",
    "campaign_feat = os.path.join(camp_feat, \n",
    "                             f'{campagin_name}_features.pkl.gz'\n",
    "                            )"
   ]
  }
 ],
 "metadata": {
  "kernelspec": {
   "display_name": "Python 3 (ipykernel)",
   "language": "python",
   "name": "python3"
  },
  "language_info": {
   "codemirror_mode": {
    "name": "ipython",
    "version": 3
   },
   "file_extension": ".py",
   "mimetype": "text/x-python",
   "name": "python",
   "nbconvert_exporter": "python",
   "pygments_lexer": "ipython3",
   "version": "3.10.9"
  }
 },
 "nbformat": 4,
 "nbformat_minor": 5
}
