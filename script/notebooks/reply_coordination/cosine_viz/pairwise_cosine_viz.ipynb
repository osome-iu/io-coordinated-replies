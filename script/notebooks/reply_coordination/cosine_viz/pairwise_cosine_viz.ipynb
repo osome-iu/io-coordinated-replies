{
 "cells": [
  {
   "cell_type": "markdown",
   "id": "31c5cfaf-ffe7-4d01-bdac-f52abfe1d6eb",
   "metadata": {
    "tags": []
   },
   "source": [
    "#### **This notebook visualize the cosine similarity**"
   ]
  },
  {
   "cell_type": "code",
   "execution_count": 1,
   "id": "056492ae-1e9e-4ee1-9cfe-b4c8e38f1746",
   "metadata": {
    "tags": []
   },
   "outputs": [],
   "source": [
    "import pandas as pd\n",
    "import numpy as np\n",
    "import datetime\n",
    "import warnings\n",
    "import glob\n",
    "import seaborn as sns\n",
    "import matplotlib.pyplot as plt\n",
    "import matplotlib.colors as pltc\n",
    "from tqdm import tqdm\n",
    "import sys\n",
    "import os\n",
    "import re\n",
    "\n",
    "import importlib\n",
    "\n",
    "#### packages\n",
    "import helper.strategy_helper as st_hp\n",
    "import helper.visualization as vz_hp\n",
    "import config.config as config_hp"
   ]
  },
  {
   "cell_type": "markdown",
   "id": "8bb5f88d-7a9c-4de2-a219-6b6cf70a4c80",
   "metadata": {
    "tags": []
   },
   "source": [
    "#### **Load the cosine file**"
   ]
  },
  {
   "cell_type": "code",
   "execution_count": 2,
   "id": "3ae75de5-c55a-4adf-8bb5-4f078231ca74",
   "metadata": {},
   "outputs": [],
   "source": [
    "config = config_hp.config()\n",
    "\n",
    "pos_cosine_path = config['EMBEDDINGS_PATH']['pos_cosine_with_replier_info']\n",
    "\n",
    "neg_cosine_path = config['EMBEDDINGS_PATH']['neg_cosine_with_replier_info']"
   ]
  },
  {
   "cell_type": "code",
   "execution_count": 3,
   "id": "fec9a432-99be-4f54-87df-ae8e928b7840",
   "metadata": {
    "tags": []
   },
   "outputs": [],
   "source": [
    "df_pos_cosine = pd.read_pickle(pos_cosine_path)"
   ]
  },
  {
   "cell_type": "code",
   "execution_count": 4,
   "id": "db6204b8-c0cb-405c-b3b0-f507a12993e9",
   "metadata": {
    "tags": []
   },
   "outputs": [
    {
     "data": {
      "text/plain": [
       "Index(['poster_tweetid', 'cosine', 'tweet_label', 'replier_tweetid_x',\n",
       "       'replier_userid_x', 'replier_label_x', 'replier_tweetid_y',\n",
       "       'replier_userid_y', 'replier_label_y'],\n",
       "      dtype='object')"
      ]
     },
     "execution_count": 4,
     "metadata": {},
     "output_type": "execute_result"
    }
   ],
   "source": [
    "df_pos_cosine.columns"
   ]
  },
  {
   "cell_type": "code",
   "execution_count": 5,
   "id": "64643d12-b081-4edd-90e0-74553f6a8242",
   "metadata": {},
   "outputs": [],
   "source": [
    "df_pos_cosine_0 = df_pos_cosine.loc[(df_pos_cosine['replier_label_x'] == 0) & (df_pos_cosine['replier_label_y'] == 0)]"
   ]
  },
  {
   "cell_type": "code",
   "execution_count": 6,
   "id": "dcc91100-80cc-4fe4-b514-e32df7ca624c",
   "metadata": {},
   "outputs": [],
   "source": [
    "df_pos_cosine_1 = df_pos_cosine.loc[(df_pos_cosine['replier_label_x'] == 1) & (df_pos_cosine['replier_label_y'] == 1)]"
   ]
  },
  {
   "cell_type": "code",
   "execution_count": 5,
   "id": "ac07321a-bcf6-434f-8d2c-f6fc6f36e56e",
   "metadata": {},
   "outputs": [],
   "source": [
    "# print('cosine mean IO', df_pos_cosine_1['cosine'].mean())\n",
    "# print('cosine median IO', df_pos_cosine_0['cosine'].median())"
   ]
  },
  {
   "cell_type": "code",
   "execution_count": 6,
   "id": "dd555f20-2249-4e1d-8bff-c3d4a7b3bbee",
   "metadata": {
    "tags": []
   },
   "outputs": [],
   "source": [
    "# df_neg_cosine = pd.read_pickle(neg_cosine_path)"
   ]
  },
  {
   "cell_type": "code",
   "execution_count": 7,
   "id": "29bf2173-e0ac-45c5-9029-06bbaebe9829",
   "metadata": {
    "tags": []
   },
   "outputs": [
    {
     "data": {
      "text/plain": [
       "0"
      ]
     },
     "execution_count": 7,
     "metadata": {},
     "output_type": "execute_result"
    }
   ],
   "source": [
    "import gc\n",
    "\n",
    "del df_pos_cosine\n",
    "gc.collect()"
   ]
  },
  {
   "cell_type": "code",
   "execution_count": 7,
   "id": "2cebd115-3757-4fc8-acfd-d72de6963fe0",
   "metadata": {
    "tags": []
   },
   "outputs": [
    {
     "data": {
      "text/plain": [
       "3866"
      ]
     },
     "execution_count": 7,
     "metadata": {},
     "output_type": "execute_result"
    }
   ],
   "source": [
    "df_pos_cosine['poster_tweetid'].nunique()"
   ]
  },
  {
   "cell_type": "code",
   "execution_count": null,
   "id": "da30eac6-156a-4e38-ad3e-96dd750664d9",
   "metadata": {
    "tags": []
   },
   "outputs": [],
   "source": [
    "# df_neg_cosine['poster_tweetid'].nunique()"
   ]
  },
  {
   "cell_type": "code",
   "execution_count": null,
   "id": "903da56d-0196-4a98-9526-9fadbeecf567",
   "metadata": {
    "tags": []
   },
   "outputs": [],
   "source": [
    "7670/2"
   ]
  },
  {
   "cell_type": "code",
   "execution_count": null,
   "id": "23197edd-d7e1-4d9d-a36e-3e0558f869c3",
   "metadata": {
    "tags": []
   },
   "outputs": [],
   "source": [
    "# df_neg_cosine['cosine'].head()"
   ]
  },
  {
   "cell_type": "code",
   "execution_count": null,
   "id": "e33fbad3-454b-4499-8f54-5a5493838cce",
   "metadata": {
    "tags": []
   },
   "outputs": [],
   "source": [
    "# df_cosine_1 = df_cosine.loc[df_cosine['tweet_label'] == 1]"
   ]
  },
  {
   "cell_type": "code",
   "execution_count": null,
   "id": "f1a630ca-203e-475d-94ee-75cd9ec14d9e",
   "metadata": {
    "tags": []
   },
   "outputs": [],
   "source": [
    "# df_cosine_1['poster_tweetid'].nunique()"
   ]
  },
  {
   "cell_type": "markdown",
   "id": "19856b50-4863-4fbb-b640-138330b3c223",
   "metadata": {
    "tags": []
   },
   "source": [
    "#### **Cosine between IO repliers**"
   ]
  },
  {
   "cell_type": "code",
   "execution_count": 11,
   "id": "9167bbd8-7867-44a4-8dc3-44ee47a68a37",
   "metadata": {
    "tags": []
   },
   "outputs": [
    {
     "name": "stdout",
     "output_type": "stream",
     "text": [
      "Pos  0.39966017\n",
      "Neg  0.40479538\n"
     ]
    }
   ],
   "source": [
    "# print('Pos ', df_pos_cosine['cosine'].mean())\n",
    "# print('Neg ', df_neg_cosine['cosine'].mean())"
   ]
  },
  {
   "cell_type": "code",
   "execution_count": 13,
   "id": "8a73ece1-4062-42c4-b583-c7a41d3c5be1",
   "metadata": {
    "tags": []
   },
   "outputs": [],
   "source": [
    "df_pos_cosine_1 = df_pos_cosine.loc[(df_pos_cosine['replier_label_x'] == 1) & (df_pos_cosine['replier_label_y'] == 1)]"
   ]
  },
  {
   "cell_type": "code",
   "execution_count": 14,
   "id": "e415155c-45e6-4b4f-a33f-ca29c3ce42d6",
   "metadata": {
    "tags": []
   },
   "outputs": [],
   "source": [
    "df_pos_cosine_0 = df_pos_cosine.loc[(df_pos_cosine['replier_label_x'] == 0) & (df_pos_cosine['replier_label_y'] == 0)]"
   ]
  },
  {
   "cell_type": "code",
   "execution_count": 10,
   "id": "3d70d4e4-cdc6-47f0-ae10-5c5484451c4e",
   "metadata": {
    "tags": []
   },
   "outputs": [
    {
     "name": "stdout",
     "output_type": "stream",
     "text": [
      "cosine IO 0.46\n",
      "cosine Normal 0.33\n"
     ]
    }
   ],
   "source": [
    "print('cosine IO', df_pos_cosine_1['cosine'].median())\n",
    "print('cosine Normal', df_pos_cosine_0['cosine'].median())"
   ]
  },
  {
   "cell_type": "code",
   "execution_count": null,
   "id": "ba5e3fd7-1558-4a9a-b255-1ba1a6d1a40b",
   "metadata": {
    "tags": []
   },
   "outputs": [],
   "source": [
    "# df_pos_cosine_01 = df_pos_cosine.loc[(df_pos_cosine['replier_label_x'] == 0) & (df_pos_cosine['replier_label_y'] == 1)]"
   ]
  },
  {
   "cell_type": "markdown",
   "id": "e90edf6a-094b-4058-8871-fabeadefb964",
   "metadata": {},
   "source": [
    "#### **Plot IO vs Normal**"
   ]
  },
  {
   "cell_type": "code",
   "execution_count": 9,
   "id": "38489b56-895b-4217-9158-a09e4d2c136e",
   "metadata": {},
   "outputs": [],
   "source": [
    "def plot_single_histogram(parameters):\n",
    "    '''\n",
    "    Plots histogram\n",
    "    :param parameters: parameters for the plot\n",
    "    '''\n",
    "       \n",
    "    # parameters =  {\n",
    "    #     'data': df,\n",
    "    #     'fontsize': 14,\n",
    "    #     'columns': [\n",
    "    #         {'column': 'count',\n",
    "    #          'label': 'Count of Replies',\n",
    "    #         }\n",
    "    #     ],\n",
    "    #     'xlabel': '',\n",
    "    #     'ylabel': '',\n",
    "    #     'legend_location': '',\n",
    "    #     'log_yscale': True,\n",
    "    #     'log_xscale': True,\n",
    "    #     'bins': 60,\n",
    "    #     'save': {\n",
    "    #         'path': '',\n",
    "    #         'filename': ''\n",
    "    #     },\n",
    "    #     'title': ''\n",
    "    # }\n",
    "    \n",
    "    import numpy as np\n",
    "    \n",
    "    num_bins = parameters['bins']\n",
    "    column = parameters['columns'][0]['column']\n",
    "    # df = parameters['data']\n",
    "    \n",
    "    if 'fontsize' in parameters:\n",
    "        fontsize = parameters['fontsize']\n",
    "    else:\n",
    "        fontsize = 14\n",
    "    \n",
    "    if parameters['bins'] == None:\n",
    "        num_bins = df[column].nunique()\n",
    "        \n",
    "    if parameters['log_xscale'] == True:\n",
    "        num_bins=np.logspace(start=np.log10(min(df[column])), \n",
    "                             stop=np.log10(max(df[column])),\n",
    "                             num=num_bins\n",
    "                            )\n",
    "    fig, ax = plt.subplots(figsize=(10,10))\n",
    "\n",
    "    colors = ['red', 'blue', 'green', \n",
    "              'orange', 'olive', 'pink', 'lime',\n",
    "              'maroon'\n",
    "             ]\n",
    "    for i, df in enumerate(parameters['data']):\n",
    "        counts, bin_edges, patches  = ax.hist(df[column],\n",
    "                    bins=num_bins, \n",
    "                    color=colors[i],\n",
    "                    alpha=0.5,\n",
    "                    density=True,\n",
    "                    label=parameters['columns'][i]['label']\n",
    "                   )\n",
    "        max_density = np.max(counts)\n",
    "        \n",
    "        print(max_density)\n",
    "\n",
    "    y_min, y_max = ax.get_ylim()\n",
    "    \n",
    "    # Print the y-axis range\n",
    "    print(f\"Y-axis range: min={y_min}, max={y_max}\")\n",
    "\n",
    "    ax.set_xlabel(parameters['xlabel'],\n",
    "                  fontsize=fontsize\n",
    "                 )\n",
    "    ax.set_ylabel(parameters['ylabel'],\n",
    "                  fontsize=fontsize\n",
    "                 )\n",
    "    if 'tick_size' in parameters:\n",
    "        tick_size = parameters['tick_size']\n",
    "    else:\n",
    "        tick_size = fontsize\n",
    "        \n",
    "    ax.tick_params(axis='both', \n",
    "                   which='both', \n",
    "                   labelsize=tick_size,\n",
    "                   labelbottom=True\n",
    "                  )\n",
    "\n",
    "    if 'legend_location' in parameters:\n",
    "        if 'legend_font' in parameters:\n",
    "            legend_font = parameters['legend_font']\n",
    "        else:\n",
    "            legend_font = fontsize\n",
    "            \n",
    "        ax.legend(loc=parameters['legend_location'], \n",
    "                  frameon=True, \n",
    "                  fontsize=legend_font\n",
    "             )\n",
    "    \n",
    "    if parameters['log_yscale'] == True:\n",
    "        plt.yscale('log')\n",
    "    if parameters['log_xscale'] == True:\n",
    "        plt.xscale('log')\n",
    "        \n",
    "    plt.title(parameters['title'],\n",
    "              fontsize=fontsize\n",
    "             )\n",
    "    fig.tight_layout()\n",
    "    \n",
    "    if 'save' in parameters:\n",
    "        plot_path = parameters['save']['path']\n",
    "        title = parameters['save']['filename']\n",
    "\n",
    "        path = os.path.join(plot_path, title)\n",
    "        fig.savefig(f'{path}', \n",
    "                  facecolor='white', \n",
    "                  transparent=False)\n",
    "    plt.show()"
   ]
  },
  {
   "cell_type": "code",
   "execution_count": 13,
   "id": "378cea64-feaf-4cca-b6e8-79695874da6e",
   "metadata": {},
   "outputs": [
    {
     "name": "stdout",
     "output_type": "stream",
     "text": [
      "2.612842787866031\n",
      "1.7889725292480805\n",
      "Y-axis range: min=0.0, max=2.743484927259333\n"
     ]
    },
    {
     "data": {
      "image/png": "[encoded data removed]",
      "text/plain": [
       "<Figure size 1000x1000 with 1 Axes>"
      ]
     },
     "metadata": {},
     "output_type": "display_data"
    }
   ],
   "source": [
    "bins = list(np.arange(0, 1.01, 0.1))\n",
    "parameters =  {\n",
    "        'data': [df_pos_cosine_1,df_pos_cosine_0] ,\n",
    "        'fontsize': 36,\n",
    "        'legend_font': 24,\n",
    "        'columns': [\n",
    "            {'column': 'cosine',\n",
    "             'label': 'IO repliers',\n",
    "            },\n",
    "            {'column': 'cosine',\n",
    "             'label': 'Normal repliers',\n",
    "            }\n",
    "           ],\n",
    "        'tick_size': 26,\n",
    "        'xlabel': 'Cosine similarity',\n",
    "        'ylabel': 'Density',\n",
    "        # 'legend_location': 'upper left',\n",
    "        'log_yscale': False,\n",
    "        'log_xscale': False,\n",
    "        'bins': bins,\n",
    "        # 'save': {\n",
    "        #     'path': './plots',\n",
    "        #     'filename': 'kde_sample_histogram_io_normal_replier.png'\n",
    "        # },\n",
    "        'title': ''\n",
    "    }\n",
    "\n",
    "plot_single_histogram(parameters)"
   ]
  },
  {
   "cell_type": "markdown",
   "id": "3d86a9a5-1863-4524-92d8-6689e92ddff9",
   "metadata": {},
   "source": [
    "#### **Sample plot**"
   ]
  },
  {
   "cell_type": "code",
   "execution_count": 14,
   "id": "fc37e421-7ee5-4f2a-b665-ee9f325e3802",
   "metadata": {},
   "outputs": [],
   "source": [
    "config = config_hp.config()\n",
    "stat = config['USER_FEATURES']\n",
    "\n",
    "all_feature = stat['all_feature']\n",
    "\n",
    "df_stat = pd.read_pickle(all_feature)"
   ]
  },
  {
   "cell_type": "code",
   "execution_count": 15,
   "id": "4764e018-e3cb-445e-aed8-a2e354aab105",
   "metadata": {},
   "outputs": [],
   "source": [
    "df_0 = df_stat.loc[df_stat['replier_label'] == 0]\n",
    "df_1 = df_stat.loc[df_stat['replier_label'] == 1]"
   ]
  },
  {
   "cell_type": "code",
   "execution_count": 16,
   "id": "75da4d87-c142-405c-9aaa-c4ccd9af887a",
   "metadata": {},
   "outputs": [
    {
     "data": {
      "text/plain": [
       "4144"
      ]
     },
     "execution_count": 16,
     "metadata": {},
     "output_type": "execute_result"
    }
   ],
   "source": [
    "import gc\n",
    "\n",
    "del df_stat\n",
    "gc.collect()"
   ]
  },
  {
   "cell_type": "code",
   "execution_count": 17,
   "id": "4a1d8286-67f5-4172-8c49-b589f1f63fed",
   "metadata": {},
   "outputs": [
    {
     "name": "stderr",
     "output_type": "stream",
     "text": [
      "IOStream.flush timed out\n"
     ]
    }
   ],
   "source": [
    "all_df = [df_pos_cosine_0]\n",
    "for i in range(0,10):\n",
    "    df_sample = df_0.sample(len(df_1), random_state=i)\n",
    "    \n",
    "    df_0 = df_0.loc[~df_0['replier_userid'].isin(\n",
    "        df_sample['replier_userid']\n",
    "    )]\n",
    "    \n",
    "    df_all = pd.concat([df_sample,\n",
    "                        df_1\n",
    "                       ])\n",
    "\n",
    "    df_sample_cosine = df_pos_cosine_0.loc[\n",
    "        df_pos_cosine_0['replier_userid_x'].isin(\n",
    "            df_all['replier_userid']\n",
    "        ) | df_pos_cosine_0['replier_userid_y'].isin(\n",
    "            df_all['replier_userid']\n",
    "        )\n",
    "    ]\n",
    "    all_df.append(df_sample_cosine)\n",
    "    \n",
    "    del df_all\n",
    "    del df_sample\n",
    "\n",
    "    gc.collect()"
   ]
  },
  {
   "cell_type": "markdown",
   "id": "cac6d723-93e0-46c2-b058-cd846b01399e",
   "metadata": {},
   "source": [
    "#### **Histogram**"
   ]
  },
  {
   "cell_type": "code",
   "execution_count": 18,
   "id": "f4cca811-2bc7-48bb-a457-3459ae3a8b7d",
   "metadata": {},
   "outputs": [],
   "source": [
    "def plot_histogram(parameters):\n",
    "    '''\n",
    "    Plots histogram\n",
    "    :param parameters: parameters for the plot\n",
    "    '''\n",
    "       \n",
    "    # parameters =  {\n",
    "    #     'data': df,\n",
    "    #     'fontsize': 14,\n",
    "    #     'columns': [\n",
    "    #         {'column': 'count',\n",
    "    #          'label': 'Count of Replies',\n",
    "    #         }\n",
    "    #     ],\n",
    "    #     'xlabel': '',\n",
    "    #     'ylabel': '',\n",
    "    #     'legend_location': '',\n",
    "    #     'log_yscale': True,\n",
    "    #     'log_xscale': True,\n",
    "    #     'bins': 60,\n",
    "    #     'save': {\n",
    "    #         'path': '',\n",
    "    #         'filename': ''\n",
    "    #     },\n",
    "    #     'title': ''\n",
    "    # }\n",
    "    \n",
    "    \n",
    "    num_bins = parameters['bins']\n",
    "    column = parameters['columns'][0]['column']\n",
    "    # df = parameters['data']\n",
    "    \n",
    "    if 'fontsize' in parameters:\n",
    "        fontsize = parameters['fontsize']\n",
    "    else:\n",
    "        fontsize = 14\n",
    "    \n",
    "    if parameters['bins'] == None:\n",
    "        num_bins = df[column].nunique()\n",
    "        \n",
    "    if parameters['log_xscale'] == True:\n",
    "        num_bins=np.logspace(start=np.log10(min(df[column])), \n",
    "                             stop=np.log10(max(df[column])),\n",
    "                             num=num_bins\n",
    "                            )\n",
    "    fig, ax = plt.subplots(figsize=(10,10))\n",
    "\n",
    "    colors = ['red', 'blue', 'green', \n",
    "              'orange', 'olive', 'pink', 'lime',\n",
    "              'maroon'\n",
    "             ]\n",
    "    colors = ['blue', \n",
    "              'pink', \n",
    "              'pink', \n",
    "              'pink', \n",
    "              'pink', \n",
    "              'pink', \n",
    "              'pink', \n",
    "              'pink', \n",
    "              'pink'\n",
    "              'pink', \n",
    "              'pink',\n",
    "              'pink'\n",
    "             ]\n",
    "    for i, df in enumerate(parameters['data']):\n",
    "        if i == 0:\n",
    "            color = 'blue'\n",
    "            alpha = 0.5\n",
    "            histtype='bar'\n",
    "            linewidth =4\n",
    "        else:\n",
    "            color = None\n",
    "            alpha = 0.5\n",
    "            histtype='step'\n",
    "            linewidth=2\n",
    "            style = {'facecolor': 'none', 'edgecolor': 'C0', 'linewidth': 3}\n",
    "            \n",
    "        n = ax.hist(df[column],\n",
    "                    bins=num_bins, \n",
    "                    color=color,\n",
    "                    alpha=alpha,\n",
    "                    density=True,\n",
    "                    histtype=histtype,\n",
    "                    linewidth=linewidth\n",
    "                    # label=parameters['columns'][i]['label']\n",
    "                   )\n",
    "        # n = ax.plot(df[column],\n",
    "        #             # bins=num_bins, \n",
    "        #             color=color,\n",
    "        #             alpha=0.3,\n",
    "        #             # density=True,\n",
    "        #             label=parameters['columns'][i]['label']\n",
    "        #            )\n",
    "\n",
    "    ax.set_ylim(0, 2.74)\n",
    "    ax.set_xlabel(parameters['xlabel'],\n",
    "                  fontsize=fontsize\n",
    "                 )\n",
    "    ax.set_ylabel(parameters['ylabel'],\n",
    "                  fontsize=fontsize\n",
    "                 )\n",
    "    if 'tick_size' in parameters:\n",
    "        tick_size = parameters['tick_size']\n",
    "    else:\n",
    "        tick_size = fontsize\n",
    "        \n",
    "        \n",
    "    ax.tick_params(axis='both', \n",
    "                   which='both', \n",
    "                   labelsize=tick_size,\n",
    "                   labelbottom=True\n",
    "                  )\n",
    "\n",
    "    if 'legend_location' in parameters:\n",
    "        if 'legend_font' in parameters:\n",
    "            legend_font = parameters['legend_font']\n",
    "        else:\n",
    "            legend_font = fontsize\n",
    "            \n",
    "        ax.legend(loc=parameters['legend_location'], \n",
    "                  frameon=True, \n",
    "                  fontsize=legend_font\n",
    "             )\n",
    "    \n",
    "    if parameters['log_yscale'] == True:\n",
    "        plt.yscale('log')\n",
    "    if parameters['log_xscale'] == True:\n",
    "        plt.xscale('log')\n",
    "        \n",
    "    plt.title(parameters['title'],\n",
    "              fontsize=fontsize\n",
    "             )\n",
    "    fig.tight_layout()\n",
    "    \n",
    "    if 'save' in parameters:\n",
    "        plot_path = parameters['save']['path']\n",
    "        title = parameters['save']['filename']\n",
    "\n",
    "        path = os.path.join(plot_path, title)\n",
    "        fig.savefig(f'{path}', \n",
    "                  facecolor='white', \n",
    "                  transparent=False)\n",
    "    plt.show()"
   ]
  },
  {
   "cell_type": "code",
   "execution_count": 19,
   "id": "8e6e0e3f-555c-42b6-9e7d-74b7e098f2c4",
   "metadata": {},
   "outputs": [
    {
     "data": {
      "image/png": "[encoded data removed]",
      "text/plain": [
       "<Figure size 1000x1000 with 1 Axes>"
      ]
     },
     "metadata": {},
     "output_type": "display_data"
    }
   ],
   "source": [
    "import helper.visualization as vz_hp\n",
    "\n",
    "bins = list(np.arange(0, 1.01, 0.1))\n",
    "\n",
    "columns = []\n",
    "columns= [{'column': 'cosine',\n",
    "             'label': 'Normal repliers',\n",
    "            }]\n",
    "for i in range(1, 11):\n",
    "    columns.append(\n",
    "        {'column': 'cosine',\n",
    "         'label': f'Sample {i}',\n",
    "        }\n",
    "    )\n",
    "                   \n",
    "parameters =  {\n",
    "        'data': all_df, #[df_pos_cosine_1,df_pos_cosine_0] ,\n",
    "        'fontsize': 36,\n",
    "        'legend_font': 24,\n",
    "        'columns':columns,\n",
    "        'tick_size': 26,\n",
    "        'xlabel': 'Cosine similarity',\n",
    "        'ylabel': 'Density',\n",
    "        # 'legend_location': 'upper left',\n",
    "        'log_yscale': False,\n",
    "        'log_xscale': False,\n",
    "        'bins': bins,\n",
    "        'save': {\n",
    "            'path': './plots',\n",
    "            'filename': 'kde_sample_histogram_io_normal_replier.png'\n",
    "        },\n",
    "        'title': ''\n",
    "    }\n",
    "\n",
    "plot_histogram(parameters)"
   ]
  },
  {
   "cell_type": "markdown",
   "id": "bd597208-1522-40b1-974e-4f02991d3452",
   "metadata": {
    "jp-MarkdownHeadingCollapsed": true
   },
   "source": [
    "#### **KDE**"
   ]
  },
  {
   "cell_type": "code",
   "execution_count": null,
   "id": "5c2050f1-027c-4748-b814-34c8148301c7",
   "metadata": {
    "tags": []
   },
   "outputs": [],
   "source": [
    "len(df_pos_cosine_01)"
   ]
  },
  {
   "cell_type": "code",
   "execution_count": null,
   "id": "9141a5dd-a227-476b-9313-db48845f061a",
   "metadata": {
    "tags": []
   },
   "outputs": [],
   "source": [
    "parameters =   {\n",
    "        'data': [df_pos_cosine_1, \n",
    "                 df_pos_cosine_0, \n",
    "                 # df_pos_cosine_01\n",
    "                ],\n",
    "        'fontsize': 14,\n",
    "        'complementary': True,\n",
    "        'columns': [\n",
    "            {'column': 'cosine',\n",
    "             'label': 'IO replier',\n",
    "            },\n",
    "            {\n",
    "            'column': 'cosine',\n",
    "             'label': 'Normal replier'\n",
    "            },\n",
    "            {\n",
    "            'column': 'cosine',\n",
    "             'label': 'IO-Normal replier'\n",
    "            }\n",
    "        ],\n",
    "        'xlabel': 'Cosine',\n",
    "        'ylabel': 'Density',\n",
    "        'legend_location': 'upper right',\n",
    "        'log_yscale': False,\n",
    "        'log_xscale': False,\n",
    "        'save': {\n",
    "            'path': './plots',\n",
    "            'filename': 'exp_tweets_IO_normal_cosine.png'\n",
    "        },\n",
    "        'random_color': False\n",
    "    }\n",
    "\n",
    "vz_hp.kde(parameters)"
   ]
  },
  {
   "cell_type": "markdown",
   "id": "1c999cd9-a3ae-4025-9e93-582f130f2543",
   "metadata": {
    "jp-MarkdownHeadingCollapsed": true,
    "tags": []
   },
   "source": [
    "#### **KDE for targeted tweets**"
   ]
  },
  {
   "cell_type": "code",
   "execution_count": null,
   "id": "1bd2780a-a063-4412-9880-4e7160519efd",
   "metadata": {
    "tags": []
   },
   "outputs": [],
   "source": [
    "parameters =   {\n",
    "        'data': [df_pos_cosine, df_neg_cosine],\n",
    "        'fontsize': 14,\n",
    "        'complementary': True,\n",
    "        'columns': [\n",
    "            {'column': 'cosine',\n",
    "             'label': 'IO',\n",
    "            },\n",
    "            {\n",
    "            'column': 'cosine',\n",
    "             'label': 'Control'\n",
    "            }\n",
    "        ],\n",
    "        'xlabel': '',\n",
    "        'ylabel': '',\n",
    "        'legend_location': 'upper right',\n",
    "        'log_yscale': False,\n",
    "        'log_xscale': False,\n",
    "        'save': {\n",
    "            'path': './plots',\n",
    "            'filename': 'IO_control_cosine.png'\n",
    "        },\n",
    "        'random_color': False\n",
    "    }\n",
    "\n",
    "vz_hp.kde(parameters)"
   ]
  },
  {
   "cell_type": "code",
   "execution_count": null,
   "id": "315b9173-8003-4454-88e4-7c05b65683ab",
   "metadata": {
    "tags": []
   },
   "outputs": [],
   "source": [
    "# df_cosine_1.head()"
   ]
  },
  {
   "cell_type": "code",
   "execution_count": null,
   "id": "c0c8b271-3e45-4ede-8f23-beacd938fa8f",
   "metadata": {},
   "outputs": [],
   "source": [
    "### Check if cosine similarity is < 0"
   ]
  }
 ],
 "metadata": {
  "kernelspec": {
   "display_name": "Python 3 (ipykernel)",
   "language": "python",
   "name": "python3"
  },
  "language_info": {
   "codemirror_mode": {
    "name": "ipython",
    "version": 3
   },
   "file_extension": ".py",
   "mimetype": "text/x-python",
   "name": "python",
   "nbconvert_exporter": "python",
   "pygments_lexer": "ipython3",
   "version": "3.12.2"
  }
 },
 "nbformat": 4,
 "nbformat_minor": 5
}
