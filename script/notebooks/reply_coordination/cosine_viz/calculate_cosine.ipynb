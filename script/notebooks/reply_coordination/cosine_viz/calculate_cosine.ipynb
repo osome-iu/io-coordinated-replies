{
 "cells": [
  {
   "cell_type": "markdown",
   "id": "f35a3bd4-fe2d-479f-bfed-f7e0f9f33595",
   "metadata": {},
   "source": [
    "#### **This script calculates the cosine similarity**"
   ]
  },
  {
   "cell_type": "code",
   "execution_count": 3,
   "id": "401e0105-2c3a-497d-9920-e6bdc954b322",
   "metadata": {
    "tags": []
   },
   "outputs": [],
   "source": [
    "import pandas as pd\n",
    "\n",
    "import helper.strategy_helper as st_hp\n",
    "import helper.visualization as vz_hp\n",
    "import config.config as config_hp\n",
    "from sklearn.metrics.pairwise import cosine_similarity"
   ]
  },
  {
   "cell_type": "markdown",
   "id": "b6eb02a9-76c7-4936-ae7c-2c9ff5e7d626",
   "metadata": {
    "tags": []
   },
   "source": [
    "#### **Get embedding**"
   ]
  },
  {
   "cell_type": "code",
   "execution_count": 4,
   "id": "242ba28b-0df3-434a-8672-394624312861",
   "metadata": {
    "tags": []
   },
   "outputs": [
    {
     "name": "stderr",
     "output_type": "stream",
     "text": [
      "\n",
      "KeyboardInterrupt\n",
      "\n"
     ]
    }
   ],
   "source": [
    "config = config_hp.config()\n",
    "\n",
    "emb = config['EMBEDDINGS_PATH']['100_dim_reply_multilanguage_embedding']\n",
    "\n",
    "df_emb = pd.read_pickle(emb)"
   ]
  },
  {
   "cell_type": "code",
   "execution_count": null,
   "id": "ac242295-3ade-4e88-a26f-03def180297e",
   "metadata": {
    "tags": []
   },
   "outputs": [],
   "source": [
    "df_emb.columns"
   ]
  },
  {
   "cell_type": "code",
   "execution_count": null,
   "id": "043fbf83-3fc4-4a2e-bb07-8dbd8351348b",
   "metadata": {},
   "outputs": [],
   "source": [
    "df_grp = df_emb_req.groupby(['poster_tweetid'])\n",
    "all_data = []\n",
    "for grp, emb in df_grp:\n",
    "    # print(emb['embedding'])\n",
    "    numpy_array = np.array([tensor[0].numpy() for tensor in emb['embedding']])\n",
    "    # print(numpy_array)\n",
    "\n",
    "    similarities_1 = cosine_similarity(numpy_array)\n",
    "    \n",
    "    dis_1 = similarities_1[\n",
    "            np.triu_indices(similarities_1.shape[0], k=1)]\n",
    "    \n",
    "    all_data.append([grp, dis_1])\n",
    "\n",
    "print(len(all_data))\n",
    "(pd.DataFrame(data=all_data,\n",
    "              columns=['poster_tweetid', 'cosine similarity']\n",
    "             )\n",
    ").to_pickle(f'{save_path}/cosine.pkl.gz')"
   ]
  }
 ],
 "metadata": {
  "kernelspec": {
   "display_name": "Python 3 (ipykernel)",
   "language": "python",
   "name": "python3"
  },
  "language_info": {
   "codemirror_mode": {
    "name": "ipython",
    "version": 3
   },
   "file_extension": ".py",
   "mimetype": "text/x-python",
   "name": "python",
   "nbconvert_exporter": "python",
   "pygments_lexer": "ipython3",
   "version": "3.10.9"
  }
 },
 "nbformat": 4,
 "nbformat_minor": 5
}
