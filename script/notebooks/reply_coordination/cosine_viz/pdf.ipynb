{
 "cells": [
  {
   "cell_type": "markdown",
   "id": "1fc2a068-3097-4c45-8377-aecf7d85ea3d",
   "metadata": {},
   "source": [
    "#### **This note book test pdf plots**"
   ]
  },
  {
   "cell_type": "code",
   "execution_count": 25,
   "id": "da8cf264-6ace-4a5a-bdd0-f2470c13e71b",
   "metadata": {},
   "outputs": [],
   "source": [
    "def plot_histogram(parameters):\n",
    "    '''\n",
    "    Plots histogram\n",
    "    :param parameters: parameters for the plot\n",
    "    '''\n",
    "       \n",
    "    # parameters =  {\n",
    "    #     'data': df,\n",
    "    #     'fontsize': 14,\n",
    "    #     'columns': [\n",
    "    #         {'column': 'count',\n",
    "    #          'label': 'Count of Replies',\n",
    "    #         }\n",
    "    #     ],\n",
    "    #     'xlabel': '',\n",
    "    #     'ylabel': '',\n",
    "    #     'legend_location': '',\n",
    "    #     'log_yscale': True,\n",
    "    #     'log_xscale': True,\n",
    "    #     'bins': 60,\n",
    "    #     'save': {\n",
    "    #         'path': '',\n",
    "    #         'filename': ''\n",
    "    #     },\n",
    "    #     'title': ''\n",
    "    # }\n",
    "    \n",
    "    \n",
    "    num_bins = parameters['bins']\n",
    "    column = parameters['columns'][0]['column']\n",
    "    df = parameters['data']\n",
    "    \n",
    "    if 'fontsize' in parameters:\n",
    "        fontsize = parameters['fontsize']\n",
    "    else:\n",
    "        fontsize = 14\n",
    "    \n",
    "    if parameters['bins'] == None:\n",
    "        num_bins = df[column].nunique()\n",
    "        \n",
    "    if parameters['log_xscale'] == True:\n",
    "        num_bins=np.logspace(start=np.log10(min(df[column])), \n",
    "                             stop=np.log10(max(df[column])),\n",
    "                             num=num_bins\n",
    "                            )\n",
    "    fig, ax = plt.subplots()\n",
    "\n",
    "    colors = ['red', 'blue', 'green', \n",
    "              'orange', 'olive', 'pink', 'lime',\n",
    "              'maroon'\n",
    "             ]\n",
    "    for i, df in enumerate(parameters['data']):\n",
    "        n = ax.plot(df[column],\n",
    "                    # bins=num_bins, \n",
    "                    color=colors[i]\n",
    "                   )\n",
    "    ax.set_xlabel(parameters['xlabel'],\n",
    "                  fontsize=fontsize\n",
    "                 )\n",
    "    ax.set_ylabel(parameters['ylabel'],\n",
    "                  fontsize=fontsize\n",
    "                 )\n",
    "    \n",
    "    if parameters['log_yscale'] == True:\n",
    "        plt.yscale('log')\n",
    "    if parameters['log_xscale'] == True:\n",
    "        plt.xscale('log')\n",
    "        \n",
    "    plt.title(parameters['title'],\n",
    "              fontsize=fontsize\n",
    "             )\n",
    "    \n",
    "    if 'save' in parameters:\n",
    "        plot_path = parameters['save']['path']\n",
    "        title = parameters['save']['filename']\n",
    "\n",
    "        path = os.path.join(plot_path, title)\n",
    "        fig.savefig(f'{path}', \n",
    "                  facecolor='white', \n",
    "                  transparent=False)\n",
    "    plt.show()"
   ]
  },
  {
   "cell_type": "code",
   "execution_count": 6,
   "id": "d221537c-1e36-4ae5-a95f-8cd05bc1fb21",
   "metadata": {},
   "outputs": [],
   "source": [
    "import pandas as pd\n",
    "import numpy as np\n",
    "import warnings\n",
    "import seaborn as sns\n",
    "import matplotlib.pyplot as plt\n",
    "import matplotlib.colors as pltc\n",
    "from random import sample\n",
    "import matplotlib.ticker as tck\n",
    "import os"
   ]
  },
  {
   "cell_type": "code",
   "execution_count": 26,
   "id": "6cd9d8e9-dbaa-4871-93f5-3a726f88285b",
   "metadata": {},
   "outputs": [],
   "source": [
    "df = pd.DataFrame(data = [0.1,0.2, 0.1, 0.2, 0.1,0.3],\n",
    "                  columns=['count']\n",
    "                 )\n",
    "\n",
    "df_new = pd.DataFrame(data = [0.6,0.6, 0.9, 0.8, 0.9,0.5],\n",
    "                  columns=['count']\n",
    "                 )"
   ]
  },
  {
   "cell_type": "code",
   "execution_count": 27,
   "id": "7c103b72-4daf-4980-9007-67c88d353d9e",
   "metadata": {},
   "outputs": [
    {
     "data": {
      "image/png": "[encoded data removed]",
      "text/plain": [
       "<Figure size 640x480 with 1 Axes>"
      ]
     },
     "metadata": {},
     "output_type": "display_data"
    }
   ],
   "source": [
    "import helper.visualization as vz_hp\n",
    "\n",
    "bins = list(np.arange(0, 1, 0.01))\n",
    "parameters =  {\n",
    "        'data': [df,df_new] ,\n",
    "        'fontsize': 14,\n",
    "        'columns': [\n",
    "            {'column': 'count',\n",
    "             'label': 'Count of Replies',\n",
    "            },\n",
    "            {'column': 'count',\n",
    "             'label': 'Count of Replies',\n",
    "            }\n",
    "        ],\n",
    "        'xlabel': '',\n",
    "        'ylabel': '',\n",
    "        'legend_location': '',\n",
    "        'log_yscale': False,\n",
    "        'log_xscale': False,\n",
    "        'bins': bins,\n",
    "        # 'save': {\n",
    "        #     'path': '',\n",
    "        #     'filename': ''\n",
    "        # },\n",
    "        'title': ''\n",
    "    }\n",
    "\n",
    "plot_histogram(parameters)"
   ]
  },
  {
   "cell_type": "code",
   "execution_count": null,
   "id": "91d123f7-7541-4456-b5e8-efcd71ee89b5",
   "metadata": {},
   "outputs": [],
   "source": []
  }
 ],
 "metadata": {
  "kernelspec": {
   "display_name": "Python 3 (ipykernel)",
   "language": "python",
   "name": "python3"
  },
  "language_info": {
   "codemirror_mode": {
    "name": "ipython",
    "version": 3
   },
   "file_extension": ".py",
   "mimetype": "text/x-python",
   "name": "python",
   "nbconvert_exporter": "python",
   "pygments_lexer": "ipython3",
   "version": "3.12.2"
  }
 },
 "nbformat": 4,
 "nbformat_minor": 5
}
