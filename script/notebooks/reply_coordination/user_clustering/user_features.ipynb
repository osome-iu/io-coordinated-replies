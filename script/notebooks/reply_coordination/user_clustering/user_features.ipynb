{
 "cells": [
  {
   "cell_type": "markdown",
   "id": "7384abeb-8757-46c0-8fd4-009afaa1ab3c",
   "metadata": {},
   "source": [
    "#### **This notebook creates features for users**"
   ]
  },
  {
   "cell_type": "code",
   "execution_count": 1,
   "id": "30092b1a-7b1f-42a8-a764-8cf0c8584df9",
   "metadata": {
    "tags": []
   },
   "outputs": [
    {
     "name": "stderr",
     "output_type": "stream",
     "text": [
      "/N/slate/potem/miniconda3/lib/python3.10/site-packages/tqdm/auto.py:21: TqdmWarning: IProgress not found. Please update jupyter and ipywidgets. See https://ipywidgets.readthedocs.io/en/stable/user_install.html\n",
      "  from .autonotebook import tqdm as notebook_tqdm\n"
     ]
    }
   ],
   "source": [
    "import pandas as pd\n",
    "import numpy as np\n",
    "from sklearn.metrics.pairwise import cosine_similarity\n",
    "\n",
    "import datetime\n",
    "import warnings\n",
    "import glob\n",
    "import seaborn as sns\n",
    "import matplotlib.pyplot as plt\n",
    "import matplotlib.colors as pltc\n",
    "import sys\n",
    "import os\n",
    "\n",
    "import importlib\n",
    "\n",
    "#### packages\n",
    "import helper.strategy_helper as st\n",
    "import helper.visualization as viz_hp\n",
    "import helper.helper as hp\n",
    "import helper.file_helper as file_hp\n",
    "import config.config as config_hp\n",
    "import helper.pandas_helper as pd_hp\n",
    "import helper.twitter_helper as twitter_hp\n",
    "\n",
    "import torch"
   ]
  },
  {
   "cell_type": "markdown",
   "id": "d4a7e54c-847c-4347-9332-be5e7803075c",
   "metadata": {
    "jp-MarkdownHeadingCollapsed": true,
    "tags": []
   },
   "source": [
    "#### **Mean Embedding testing**"
   ]
  },
  {
   "cell_type": "code",
   "execution_count": null,
   "id": "03587612-07d4-4f5c-a11d-b3c8aa57cbec",
   "metadata": {
    "tags": []
   },
   "outputs": [],
   "source": [
    "importlib.reload(config_hp)\n",
    "\n",
    "config = config_hp.config()\n",
    "\n",
    "embedding_path = config['EMBEDDINGS_PATH']\n",
    "mean_embedding_user = embedding_path['mean_embedding_user']\n",
    "\n",
    "df_mean = pd.read_pickle(mean_embedding_user)"
   ]
  },
  {
   "cell_type": "code",
   "execution_count": 4,
   "id": "6fbe5735-fb8f-4cbd-8c96-53aa69bf53a2",
   "metadata": {
    "tags": []
   },
   "outputs": [
    {
     "name": "stdout",
     "output_type": "stream",
     "text": [
      "<class 'pandas.core.frame.DataFrame'>\n",
      "RangeIndex: 1123831 entries, 0 to 1123830\n",
      "Data columns (total 3 columns):\n",
      " #   Column          Non-Null Count    Dtype \n",
      "---  ------          --------------    ----- \n",
      " 0   replier_userid  1123831 non-null  object\n",
      " 1   embeddings      1123831 non-null  object\n",
      " 2   mean_tensor     1123831 non-null  object\n",
      "dtypes: object(3)\n",
      "memory usage: 25.7+ MB\n"
     ]
    }
   ],
   "source": [
    "df_mean.info()"
   ]
  },
  {
   "cell_type": "markdown",
   "id": "3623ef40-0810-42f8-aa31-47445c6f05ec",
   "metadata": {
    "jp-MarkdownHeadingCollapsed": true,
    "tags": []
   },
   "source": [
    "#### **Label for tweet and replier**"
   ]
  },
  {
   "cell_type": "code",
   "execution_count": 15,
   "id": "cbdca589-473b-4b57-b89d-713c189a3d27",
   "metadata": {
    "tags": []
   },
   "outputs": [],
   "source": [
    "importlib.reload(config_hp)\n",
    "\n",
    "config = config_hp.config()\n",
    "\n",
    "balanced = config['BALANCED']\n",
    "balanced_pos_replier = balanced['balanced_pos_conversation']\n",
    "\n",
    "df_pos = pd.read_pickle(balanced_pos_replier)"
   ]
  },
  {
   "cell_type": "code",
   "execution_count": 16,
   "id": "1bc73ce1-46d0-410a-962f-e81c525e91bb",
   "metadata": {
    "tags": []
   },
   "outputs": [
    {
     "name": "stdout",
     "output_type": "stream",
     "text": [
      "<class 'pandas.core.frame.DataFrame'>\n",
      "Int64Index: 2160484 entries, 0 to 2673080\n",
      "Data columns (total 16 columns):\n",
      " #   Column           Dtype  \n",
      "---  ------           -----  \n",
      " 0   tweet_text       object \n",
      " 1   conversation_id  object \n",
      " 2   replier_tweetid  object \n",
      " 3   replier_userid   object \n",
      " 4   poster_userid    object \n",
      " 5   poster_tweetid   object \n",
      " 6   tweet_time       object \n",
      " 7   tweet_language   object \n",
      " 8   replier_label    int64  \n",
      " 9   year             object \n",
      " 10  campaign         object \n",
      " 11  tweet_label      int64  \n",
      " 12  tweet_time_year  object \n",
      " 13  common           float64\n",
      " 14  id               object \n",
      " 15  username         object \n",
      "dtypes: float64(1), int64(2), object(13)\n",
      "memory usage: 280.2+ MB\n"
     ]
    }
   ],
   "source": [
    "df_pos.info()"
   ]
  },
  {
   "cell_type": "code",
   "execution_count": 17,
   "id": "ddc5ef6c-ed43-49cf-b06d-fc16fdceb488",
   "metadata": {
    "tags": []
   },
   "outputs": [],
   "source": [
    "# df_pos.loc[df_pos['replier_label'] == 0].info()\n",
    "\n",
    "\n",
    "grps = df_pos.groupby(['replier_userid', 'replier_label'])\n",
    "df_grps = pd.DataFrame(grps.groups.keys(), columns=['replier_userid', 'replier_label'])"
   ]
  },
  {
   "cell_type": "code",
   "execution_count": 18,
   "id": "407bbf18-c64a-4da5-af76-ceb27e8ecb10",
   "metadata": {
    "tags": []
   },
   "outputs": [
    {
     "name": "stdout",
     "output_type": "stream",
     "text": [
      "<class 'pandas.core.frame.DataFrame'>\n",
      "RangeIndex: 881918 entries, 0 to 881917\n",
      "Data columns (total 2 columns):\n",
      " #   Column          Non-Null Count   Dtype \n",
      "---  ------          --------------   ----- \n",
      " 0   replier_userid  881918 non-null  object\n",
      " 1   replier_label   881918 non-null  int64 \n",
      "dtypes: int64(1), object(1)\n",
      "memory usage: 13.5+ MB\n"
     ]
    }
   ],
   "source": [
    "df_grps.info()"
   ]
  },
  {
   "cell_type": "code",
   "execution_count": 20,
   "id": "8c896cdb-96ee-4bcb-b99d-ecd57bf897bf",
   "metadata": {
    "tags": []
   },
   "outputs": [
    {
     "name": "stdout",
     "output_type": "stream",
     "text": [
      "<class 'pandas.core.frame.DataFrame'>\n",
      "Int64Index: 7670 entries, 0 to 7669\n",
      "Data columns (total 2 columns):\n",
      " #   Column          Non-Null Count  Dtype \n",
      "---  ------          --------------  ----- \n",
      " 0   replier_userid  7670 non-null   object\n",
      " 1   replier_label   7670 non-null   int64 \n",
      "dtypes: int64(1), object(1)\n",
      "memory usage: 179.8+ KB\n"
     ]
    }
   ],
   "source": [
    "df_grps.loc[df_grps['replier_label'] == 1].info()"
   ]
  },
  {
   "cell_type": "code",
   "execution_count": 21,
   "id": "3d18f730-847e-4b47-a07a-730cdda1470b",
   "metadata": {
    "tags": []
   },
   "outputs": [],
   "source": [
    "df_merge = df_mean[['replier_userid', 'mean_tensor']].merge(df_grps[['replier_userid', 'replier_label']],\n",
    "              left_on=['replier_userid'],\n",
    "              right_on=['replier_userid']\n",
    "             )"
   ]
  },
  {
   "cell_type": "code",
   "execution_count": 22,
   "id": "cee12ffc-3fb3-4187-9916-4cc410aa5a80",
   "metadata": {
    "tags": []
   },
   "outputs": [
    {
     "name": "stdout",
     "output_type": "stream",
     "text": [
      "<class 'pandas.core.frame.DataFrame'>\n",
      "Int64Index: 881918 entries, 0 to 881917\n",
      "Data columns (total 3 columns):\n",
      " #   Column          Non-Null Count   Dtype \n",
      "---  ------          --------------   ----- \n",
      " 0   replier_userid  881918 non-null  object\n",
      " 1   mean_tensor     881918 non-null  object\n",
      " 2   replier_label   881918 non-null  int64 \n",
      "dtypes: int64(1), object(2)\n",
      "memory usage: 26.9+ MB\n"
     ]
    }
   ],
   "source": [
    "df_merge.info()"
   ]
  },
  {
   "cell_type": "code",
   "execution_count": 23,
   "id": "155b8e65-28fa-47e5-8b52-b04af9049df5",
   "metadata": {
    "tags": []
   },
   "outputs": [
    {
     "name": "stdout",
     "output_type": "stream",
     "text": [
      "<class 'pandas.core.frame.DataFrame'>\n",
      "Int64Index: 874248 entries, 7670 to 881917\n",
      "Data columns (total 3 columns):\n",
      " #   Column          Non-Null Count   Dtype \n",
      "---  ------          --------------   ----- \n",
      " 0   replier_userid  874248 non-null  object\n",
      " 1   mean_tensor     874248 non-null  object\n",
      " 2   replier_label   874248 non-null  int64 \n",
      "dtypes: int64(1), object(2)\n",
      "memory usage: 26.7+ MB\n"
     ]
    }
   ],
   "source": [
    "df_merge.loc[df_merge['replier_label'] == 0].info()"
   ]
  },
  {
   "cell_type": "markdown",
   "id": "79111f35-fdce-4701-b9de-8a095ca93723",
   "metadata": {},
   "source": [
    "**7670 positive examples** <br />\n",
    "**874,248 negative examples** <br />"
   ]
  },
  {
   "cell_type": "markdown",
   "id": "84a1daea-13a6-445b-b293-e7145ab02839",
   "metadata": {
    "jp-MarkdownHeadingCollapsed": true,
    "tags": []
   },
   "source": [
    "#### **Save the user features**"
   ]
  },
  {
   "cell_type": "code",
   "execution_count": 24,
   "id": "f484db62-ae08-44b7-98b3-1917cb11ea2e",
   "metadata": {
    "tags": []
   },
   "outputs": [],
   "source": [
    "importlib.reload(config_hp)\n",
    "\n",
    "config = config_hp.config()\n",
    "\n",
    "user_features = config['USER_FEATURES']\n",
    "\n",
    "emb_features = user_features['emb_features']\n",
    "\n",
    "df_merge.to_pickle(emb_features)"
   ]
  },
  {
   "cell_type": "markdown",
   "id": "d6a4a218-2e9c-4549-ad2d-d9dd7a9b24c7",
   "metadata": {
    "tags": []
   },
   "source": [
    "#### **Load user embedding data**"
   ]
  },
  {
   "cell_type": "code",
   "execution_count": 2,
   "id": "762f7ce2-4b25-49bb-9f89-fa0e5857ed8c",
   "metadata": {
    "tags": []
   },
   "outputs": [],
   "source": [
    "importlib.reload(config_hp)\n",
    "\n",
    "config = config_hp.config()\n",
    "\n",
    "user_features = config['USER_FEATURES']\n",
    "\n",
    "emb_features = user_features['emb_features']\n",
    "\n",
    "df_merge = pd.read_pickle(emb_features)"
   ]
  },
  {
   "cell_type": "markdown",
   "id": "c94d1c17-c8d3-4ef8-b4da-3d24781cf2b7",
   "metadata": {
    "jp-MarkdownHeadingCollapsed": true,
    "tags": []
   },
   "source": [
    "#### **Info on merge data**"
   ]
  },
  {
   "cell_type": "code",
   "execution_count": 3,
   "id": "db125ed0-51b1-4c39-90b0-28598613a0c8",
   "metadata": {
    "tags": []
   },
   "outputs": [
    {
     "name": "stdout",
     "output_type": "stream",
     "text": [
      "<class 'pandas.core.frame.DataFrame'>\n",
      "Int64Index: 881918 entries, 0 to 881917\n",
      "Data columns (total 3 columns):\n",
      " #   Column          Non-Null Count   Dtype \n",
      "---  ------          --------------   ----- \n",
      " 0   replier_userid  881918 non-null  object\n",
      " 1   mean_tensor     881918 non-null  object\n",
      " 2   replier_label   881918 non-null  int64 \n",
      "dtypes: int64(1), object(2)\n",
      "memory usage: 26.9+ MB\n"
     ]
    }
   ],
   "source": [
    "df_merge.info()"
   ]
  },
  {
   "cell_type": "markdown",
   "id": "a77fd724-22bc-441a-a765-258b6a808a04",
   "metadata": {
    "jp-MarkdownHeadingCollapsed": true,
    "tags": []
   },
   "source": [
    "#### **Visualization of embedding**"
   ]
  },
  {
   "cell_type": "code",
   "execution_count": null,
   "id": "e99d548d-85bd-4234-a762-652f779bf78b",
   "metadata": {
    "tags": []
   },
   "outputs": [
    {
     "name": "stdout",
     "output_type": "stream",
     "text": [
      "torch.Size([881918, 1, 768])\n",
      "torch.Size([881918, 768])\n"
     ]
    }
   ],
   "source": [
    "def tsne_visualization(df):\n",
    "\n",
    "    import numpy as np\n",
    "    import matplotlib.pyplot as plt\n",
    "    from sklearn.manifold import TSNE\n",
    "\n",
    "    # Assuming you have your data stored in a numpy array 'X' of shape (n_samples, n_features)\n",
    "    X = torch.stack(df['mean_tensor'].tolist())\n",
    "    \n",
    "    # Create a t-SNE instance\n",
    "    tsne = TSNE(n_components=2, random_state=42)\n",
    "    print(X.shape)\n",
    "    \n",
    "    X = torch.squeeze(X)\n",
    "    \n",
    "    print(X.shape)\n",
    "\n",
    "\n",
    "    # Apply t-SNE to your data\n",
    "    X_tsne = tsne.fit_transform(X)\n",
    "\n",
    "    labels = df['replier_label']\n",
    "    # Plot the t-SNE visualization\n",
    "    plt.figure(figsize=(10, 8))\n",
    "    plt.scatter(X_tsne[:, 0], X_tsne[:, 1], \n",
    "                c=labels, cmap='viridis')\n",
    "    plt.colorbar(label='Labels')\n",
    "\n",
    "    plt.title(\"t-SNE Visualization\")\n",
    "    plt.xlabel(\"Dimension 1\")\n",
    "    plt.ylabel(\"Dimension 2\")\n",
    "    plt.show()\n",
    "\n",
    "    \n",
    "# X = torch.stack(df_merge['mean_tensor'].tolist())\n",
    "\n",
    "tsne_visualization(df_merge)"
   ]
  },
  {
   "cell_type": "markdown",
   "id": "1811b0a7-d081-4b22-aa9c-51bee897a757",
   "metadata": {},
   "source": [
    "#### **Test regression model with embeddings**"
   ]
  },
  {
   "cell_type": "code",
   "execution_count": 3,
   "id": "5f9ea5fc-165a-4d8a-9fdc-da7bdca34e7d",
   "metadata": {
    "tags": []
   },
   "outputs": [
    {
     "data": {
      "text/plain": [
       "torch.Size([768])"
      ]
     },
     "execution_count": 3,
     "metadata": {},
     "output_type": "execute_result"
    }
   ],
   "source": [
    "df_merge['mean_tensor'][0][0].shape"
   ]
  },
  {
   "cell_type": "code",
   "execution_count": 4,
   "id": "9f22c9e4-6d28-45f9-ac5f-aee9a65569dd",
   "metadata": {
    "tags": []
   },
   "outputs": [],
   "source": [
    "df_merge['mean_tensor'] = df_merge['mean_tensor'].apply(lambda x: torch.squeeze(x))"
   ]
  },
  {
   "cell_type": "code",
   "execution_count": 5,
   "id": "a174a81f-c07d-4136-88f6-17e0b6052cf3",
   "metadata": {
    "tags": []
   },
   "outputs": [
    {
     "data": {
      "text/html": [
       "<div>\n",
       "<style scoped>\n",
       "    .dataframe tbody tr th:only-of-type {\n",
       "        vertical-align: middle;\n",
       "    }\n",
       "\n",
       "    .dataframe tbody tr th {\n",
       "        vertical-align: top;\n",
       "    }\n",
       "\n",
       "    .dataframe thead th {\n",
       "        text-align: right;\n",
       "    }\n",
       "</style>\n",
       "<table border=\"1\" class=\"dataframe\">\n",
       "  <thead>\n",
       "    <tr style=\"text-align: right;\">\n",
       "      <th></th>\n",
       "      <th>replier_userid</th>\n",
       "      <th>mean_tensor</th>\n",
       "      <th>replier_label</th>\n",
       "    </tr>\n",
       "  </thead>\n",
       "  <tbody>\n",
       "    <tr>\n",
       "      <th>0</th>\n",
       "      <td>14596653</td>\n",
       "      <td>[tensor(-0.0261), tensor(-0.4502), tensor(-0.1...</td>\n",
       "      <td>1</td>\n",
       "    </tr>\n",
       "    <tr>\n",
       "      <th>1</th>\n",
       "      <td>17471204</td>\n",
       "      <td>[tensor(-0.2698), tensor(-0.3507), tensor(0.08...</td>\n",
       "      <td>1</td>\n",
       "    </tr>\n",
       "    <tr>\n",
       "      <th>2</th>\n",
       "      <td>22088672</td>\n",
       "      <td>[tensor(-0.0125), tensor(-0.2361), tensor(-0.0...</td>\n",
       "      <td>1</td>\n",
       "    </tr>\n",
       "    <tr>\n",
       "      <th>3</th>\n",
       "      <td>25481010</td>\n",
       "      <td>[tensor(-0.3391), tensor(-0.4503), tensor(-0.0...</td>\n",
       "      <td>1</td>\n",
       "    </tr>\n",
       "    <tr>\n",
       "      <th>4</th>\n",
       "      <td>26337604</td>\n",
       "      <td>[tensor(-0.0735), tensor(-0.2688), tensor(-0.1...</td>\n",
       "      <td>1</td>\n",
       "    </tr>\n",
       "  </tbody>\n",
       "</table>\n",
       "</div>"
      ],
      "text/plain": [
       "  replier_userid                                        mean_tensor  \\\n",
       "0       14596653  [tensor(-0.0261), tensor(-0.4502), tensor(-0.1...   \n",
       "1       17471204  [tensor(-0.2698), tensor(-0.3507), tensor(0.08...   \n",
       "2       22088672  [tensor(-0.0125), tensor(-0.2361), tensor(-0.0...   \n",
       "3       25481010  [tensor(-0.3391), tensor(-0.4503), tensor(-0.0...   \n",
       "4       26337604  [tensor(-0.0735), tensor(-0.2688), tensor(-0.1...   \n",
       "\n",
       "   replier_label  \n",
       "0              1  \n",
       "1              1  \n",
       "2              1  \n",
       "3              1  \n",
       "4              1  "
      ]
     },
     "execution_count": 5,
     "metadata": {},
     "output_type": "execute_result"
    }
   ],
   "source": [
    "df_merge.head()"
   ]
  },
  {
   "cell_type": "code",
   "execution_count": null,
   "id": "055af8d0-6078-45a3-84c3-1dbcecd7df8a",
   "metadata": {},
   "outputs": [],
   "source": [
    "from sklearn.linear_model import LogisticRegression\n",
    "from sklearn.model_selection import train_test_split\n",
    "from sklearn.metrics import classification_report\n",
    "from sklearn.preprocessing import StandardScaler\n",
    "from sklearn.decomposition import PCA\n",
    "from sklearn.model_selection import cross_val_score\n",
    "from sklearn.ensemble import RandomForestClassifier\n",
    "from sklearn.metrics import roc_curve\n",
    "from sklearn.metrics import roc_auc_score\n",
    "from sklearn.metrics import auc"
   ]
  },
  {
   "cell_type": "markdown",
   "id": "06b0f65c-d178-40d9-8356-e95b1ca42581",
   "metadata": {
    "jp-MarkdownHeadingCollapsed": true,
    "tags": []
   },
   "source": [
    "#### **Logistic regression**"
   ]
  },
  {
   "cell_type": "code",
   "execution_count": 8,
   "id": "6d505b6c-dbc2-4e02-afbe-91ebc3a5a6b4",
   "metadata": {
    "tags": []
   },
   "outputs": [],
   "source": [
    "from sklearn.linear_model import LogisticRegression\n",
    "from sklearn.model_selection import train_test_split\n",
    "from sklearn.metrics import classification_report\n",
    "from sklearn.preprocessing import StandardScaler\n",
    "from sklearn.decomposition import PCA\n",
    "from sklearn.model_selection import cross_val_score\n",
    "from sklearn.ensemble import RandomForestClassifier\n",
    "from sklearn.metrics import roc_curve\n",
    "from sklearn.metrics import roc_auc_score\n",
    "from sklearn.metrics import auc"
   ]
  },
  {
   "cell_type": "code",
   "execution_count": 29,
   "id": "51b42ee9-1e7a-419e-91b6-974b5197fe53",
   "metadata": {
    "tags": []
   },
   "outputs": [],
   "source": [
    "def run_model(df,\n",
    "              columns_not_include=['list_age'],\n",
    "              model_type='random', \n",
    "              pca=False,\n",
    "              y_column = 'tweet_label'\n",
    "             ):\n",
    "    '''\n",
    "    Trains the model and prints the result\n",
    "    :param df: Dataframe\n",
    "    :param model_type: Type of model\n",
    "    :param pca: Whether to do PCA or not\n",
    "    :param columns_not_include: columns to not include\n",
    "    '''\n",
    "    print(df.columns)\n",
    "          \n",
    "    columns_not_include.extend(\n",
    "        ['poster_tweetid','tweet_label', 'replier_userid', 'replier_label'])\n",
    "    \n",
    "    columns_to_keep = list(set(df.columns) - set(columns_not_include))\n",
    "    \n",
    "    print('Columns to keep :', columns_to_keep)\n",
    "    \n",
    "    X = torch.stack(df[columns_to_keep[0]].tolist())\n",
    "    X = X[:, :100] \n",
    "    print(X.shape)\n",
    "    y = df[y_column]\n",
    "\n",
    "    #PCA \n",
    "    scaler = StandardScaler()\n",
    "    X = scaler.fit_transform(X)\n",
    "    indices = df.index\n",
    "    \n",
    "    if pca == True:\n",
    "        print('here')\n",
    "        pca = PCA()\n",
    "\n",
    "        # Fit the PCA object to the data and transform the data\n",
    "        X = pca.fit_transform(X)\n",
    "        print('After PCA shape ', X.shape)\n",
    "\n",
    "    X_train, X_test, y_train, y_test, indices_train, indices_test = train_test_split(X,\n",
    "                                                                                     y,\n",
    "                                                                                     indices,\n",
    "                                                        # random_state=104, \n",
    "                                                        stratify=y,\n",
    "                                                        test_size=0.20, \n",
    "                                                        shuffle=True)\n",
    "\n",
    "    print('Xtrain: ', len(X_train))\n",
    "    print('Xtrain shape: ', X_train.shape)\n",
    "    print('Xtest: ', len(X_test))\n",
    "    print('Ytrain: ', len(y_train))\n",
    "    print('Ytest: ', len(y_test))\n",
    "\n",
    "    if model_type == 'logistic':\n",
    "        model = LogisticRegression(random_state=0)\n",
    "\n",
    "    if model_type == 'random':\n",
    "        model = RandomForestClassifier(n_estimators=100, \n",
    "                                       # random_state=42\n",
    "                                      )\n",
    "\n",
    "    model.fit(X_train, y_train)\n",
    "    \n",
    "    print(model.score(X_train, y_train))\n",
    "\n",
    "    y_pred = model.predict(X_test)\n",
    "\n",
    "    result = classification_report(y_test, y_pred, labels=[0,1])\n",
    "\n",
    "    print(result)\n",
    "    \n",
    "    #Cross validation\n",
    "    scores = cross_val_score(model, X_train, y_train, cv=5)\n",
    "    mean_score = round(scores.mean(), 2)\n",
    "    std_score = round(scores.std(), 2)\n",
    "    \n",
    "    print(f'Cross validation: mean {mean_score} accuracy with a standard deviation of {std_score}')\n",
    "    \n",
    "    #feature importance\n",
    "    if model_type == 'random' and pca == False:\n",
    "        importances = model.feature_importances_\n",
    "        df_imp = pd.DataFrame({'Feature': columns_to_keep, \n",
    "                                    'Importance': model.feature_importances_})\n",
    "        df_imp = df_imp.sort_values('Importance', \n",
    "                                         ascending=False).set_index('Feature')\n",
    "        print(df_imp)\n",
    "\n",
    "    #ROC curve\n",
    "    lr_probs = model.predict_proba(X_test)\n",
    "    \n",
    "    fpr, tpr, thresholds = roc_curve(y_test, lr_probs[:, 1])\n",
    "    \n",
    "    # Compute the AUC score\n",
    "    roc_auc = auc(fpr, tpr)\n",
    "    \n",
    "    # Plot the ROC curve\n",
    "    plt.figure()\n",
    "    plt.plot(fpr, tpr, color='darkorange', \n",
    "             lw=2, label='ROC curve (area = %0.2f)' % roc_auc)\n",
    "    plt.plot([0, 1], [0, 1], color='navy', \n",
    "             lw=2, linestyle='--')\n",
    "    plt.xlim([0.0, 1.0])\n",
    "    plt.ylim([0.0, 1.05])\n",
    "    plt.xlabel('False Positive Rate')\n",
    "    plt.ylabel('True Positive Rate')\n",
    "    plt.title('Receiver Operating Characteristic (ROC) Curve')\n",
    "    plt.legend(loc=\"lower right\")\n",
    "    plt.show()\n",
    "    \n",
    "    from sklearn.metrics import precision_recall_curve\n",
    "\n",
    "    # y_true and y_scores are the true labels and predicted scores, respectively\n",
    "    precision, recall, thresholds = precision_recall_curve(y_test,\n",
    "                                                        lr_probs[:, 1])\n",
    "\n",
    "    # plot the precision-recall curve\n",
    "    plt.plot(recall, precision)\n",
    "    plt.xlabel('Recall')\n",
    "    plt.ylabel('Precision')\n",
    "    plt.title('Precision-Recall Curve')\n",
    "    plt.show()\n",
    "    \n",
    "    df_pred = df.loc[indices_test]\n",
    "    df_pred['pred'] = y_pred\n",
    "    \n",
    "    return df_pred\n"
   ]
  },
  {
   "cell_type": "code",
   "execution_count": 30,
   "id": "61143f45-ed1b-4fcc-a96b-99ff58fcb014",
   "metadata": {
    "tags": []
   },
   "outputs": [
    {
     "name": "stdout",
     "output_type": "stream",
     "text": [
      "Index(['replier_userid', 'mean_tensor', 'replier_label'], dtype='object')\n",
      "Columns to keep : ['mean_tensor']\n",
      "torch.Size([881918, 100])\n",
      "here\n",
      "After PCA shape  (881918, 100)\n",
      "Xtrain:  705534\n",
      "Xtrain shape:  (705534, 100)\n",
      "Xtest:  176384\n",
      "Ytrain:  705534\n",
      "Ytest:  176384\n",
      "0.9996017201155437\n",
      "              precision    recall  f1-score   support\n",
      "\n",
      "           0       0.99      1.00      1.00    174850\n",
      "           1       0.78      0.02      0.05      1534\n",
      "\n",
      "    accuracy                           0.99    176384\n",
      "   macro avg       0.88      0.51      0.52    176384\n",
      "weighted avg       0.99      0.99      0.99    176384\n",
      "\n",
      "Cross validation: mean 0.99 accuracy with a standard deviation of 0.0\n"
     ]
    },
    {
     "data": {
      "image/png": "[encoded data removed]",
      "text/plain": [
       "<Figure size 640x480 with 1 Axes>"
      ]
     },
     "metadata": {},
     "output_type": "display_data"
    },
    {
     "data": {
      "image/png": "[encoded data removed]",
      "text/plain": [
       "<Figure size 640x480 with 1 Axes>"
      ]
     },
     "metadata": {},
     "output_type": "display_data"
    },
    {
     "data": {
      "text/html": [
       "<div>\n",
       "<style scoped>\n",
       "    .dataframe tbody tr th:only-of-type {\n",
       "        vertical-align: middle;\n",
       "    }\n",
       "\n",
       "    .dataframe tbody tr th {\n",
       "        vertical-align: top;\n",
       "    }\n",
       "\n",
       "    .dataframe thead th {\n",
       "        text-align: right;\n",
       "    }\n",
       "</style>\n",
       "<table border=\"1\" class=\"dataframe\">\n",
       "  <thead>\n",
       "    <tr style=\"text-align: right;\">\n",
       "      <th></th>\n",
       "      <th>replier_userid</th>\n",
       "      <th>mean_tensor</th>\n",
       "      <th>replier_label</th>\n",
       "      <th>pred</th>\n",
       "    </tr>\n",
       "  </thead>\n",
       "  <tbody>\n",
       "    <tr>\n",
       "      <th>534674</th>\n",
       "      <td>493502775</td>\n",
       "      <td>[tensor(-0.1137), tensor(-0.1963), tensor(0.09...</td>\n",
       "      <td>0</td>\n",
       "      <td>0</td>\n",
       "    </tr>\n",
       "    <tr>\n",
       "      <th>621282</th>\n",
       "      <td>738963363775053824</td>\n",
       "      <td>[tensor(-0.0079), tensor(0.0143), tensor(-0.15...</td>\n",
       "      <td>0</td>\n",
       "      <td>0</td>\n",
       "    </tr>\n",
       "    <tr>\n",
       "      <th>236447</th>\n",
       "      <td>1686569178</td>\n",
       "      <td>[tensor(-0.1801), tensor(-0.2021), tensor(0.15...</td>\n",
       "      <td>0</td>\n",
       "      <td>0</td>\n",
       "    </tr>\n",
       "    <tr>\n",
       "      <th>362455</th>\n",
       "      <td>2936379024</td>\n",
       "      <td>[tensor(0.1821), tensor(-0.1080), tensor(-0.04...</td>\n",
       "      <td>0</td>\n",
       "      <td>0</td>\n",
       "    </tr>\n",
       "    <tr>\n",
       "      <th>202875</th>\n",
       "      <td>1402924772</td>\n",
       "      <td>[tensor(0.0862), tensor(-0.3501), tensor(0.163...</td>\n",
       "      <td>0</td>\n",
       "      <td>0</td>\n",
       "    </tr>\n",
       "    <tr>\n",
       "      <th>...</th>\n",
       "      <td>...</td>\n",
       "      <td>...</td>\n",
       "      <td>...</td>\n",
       "      <td>...</td>\n",
       "    </tr>\n",
       "    <tr>\n",
       "      <th>392791</th>\n",
       "      <td>3150534973</td>\n",
       "      <td>[tensor(0.0433), tensor(-0.3802), tensor(-0.60...</td>\n",
       "      <td>0</td>\n",
       "      <td>0</td>\n",
       "    </tr>\n",
       "    <tr>\n",
       "      <th>287690</th>\n",
       "      <td>2363174301</td>\n",
       "      <td>[tensor(-0.4861), tensor(-0.1955), tensor(-0.2...</td>\n",
       "      <td>0</td>\n",
       "      <td>0</td>\n",
       "    </tr>\n",
       "    <tr>\n",
       "      <th>223323</th>\n",
       "      <td>1573499569</td>\n",
       "      <td>[tensor(0.5213), tensor(0.3147), tensor(-0.583...</td>\n",
       "      <td>0</td>\n",
       "      <td>0</td>\n",
       "    </tr>\n",
       "    <tr>\n",
       "      <th>26299</th>\n",
       "      <td>1007421779147620352</td>\n",
       "      <td>[tensor(0.1007), tensor(-0.3659), tensor(0.012...</td>\n",
       "      <td>0</td>\n",
       "      <td>0</td>\n",
       "    </tr>\n",
       "    <tr>\n",
       "      <th>501743</th>\n",
       "      <td>4541911576</td>\n",
       "      <td>[tensor(-0.1306), tensor(-0.1676), tensor(-0.1...</td>\n",
       "      <td>0</td>\n",
       "      <td>0</td>\n",
       "    </tr>\n",
       "  </tbody>\n",
       "</table>\n",
       "<p>176384 rows × 4 columns</p>\n",
       "</div>"
      ],
      "text/plain": [
       "             replier_userid  \\\n",
       "534674            493502775   \n",
       "621282   738963363775053824   \n",
       "236447           1686569178   \n",
       "362455           2936379024   \n",
       "202875           1402924772   \n",
       "...                     ...   \n",
       "392791           3150534973   \n",
       "287690           2363174301   \n",
       "223323           1573499569   \n",
       "26299   1007421779147620352   \n",
       "501743           4541911576   \n",
       "\n",
       "                                              mean_tensor  replier_label  pred  \n",
       "534674  [tensor(-0.1137), tensor(-0.1963), tensor(0.09...              0     0  \n",
       "621282  [tensor(-0.0079), tensor(0.0143), tensor(-0.15...              0     0  \n",
       "236447  [tensor(-0.1801), tensor(-0.2021), tensor(0.15...              0     0  \n",
       "362455  [tensor(0.1821), tensor(-0.1080), tensor(-0.04...              0     0  \n",
       "202875  [tensor(0.0862), tensor(-0.3501), tensor(0.163...              0     0  \n",
       "...                                                   ...            ...   ...  \n",
       "392791  [tensor(0.0433), tensor(-0.3802), tensor(-0.60...              0     0  \n",
       "287690  [tensor(-0.4861), tensor(-0.1955), tensor(-0.2...              0     0  \n",
       "223323  [tensor(0.5213), tensor(0.3147), tensor(-0.583...              0     0  \n",
       "26299   [tensor(0.1007), tensor(-0.3659), tensor(0.012...              0     0  \n",
       "501743  [tensor(-0.1306), tensor(-0.1676), tensor(-0.1...              0     0  \n",
       "\n",
       "[176384 rows x 4 columns]"
      ]
     },
     "execution_count": 30,
     "metadata": {},
     "output_type": "execute_result"
    }
   ],
   "source": [
    "import helper.stat_helper as stat_hp\n",
    "importlib.reload(stat_hp)\n",
    "\n",
    "run_model(df_merge,\n",
    "                  columns_not_include=[],\n",
    "                   model_type='random', \n",
    "                  pca=True,\n",
    "                  y_column = 'replier_label'\n",
    "                 )"
   ]
  },
  {
   "cell_type": "markdown",
   "id": "7b669f80-fee9-4634-9ce6-f721d8d92331",
   "metadata": {
    "jp-MarkdownHeadingCollapsed": true,
    "tags": []
   },
   "source": [
    "#### **Test with Kmeans**"
   ]
  },
  {
   "cell_type": "code",
   "execution_count": null,
   "id": "7a052816-c358-403d-9136-11c423764c74",
   "metadata": {
    "tags": []
   },
   "outputs": [],
   "source": [
    "from sklearn.neighbors import KNeighborsClassifier\n",
    "\n",
    "knnClassifier = KNeighborsClassifier(n_neighbors = 5, \n",
    "                                     metric = 'cosine', )\n",
    "                                     \n",
    "y_column = 'replier_label'  \n",
    "print(df_merge['replier_label'].unique())\n",
    "\n",
    "#Testing purpose\n",
    "# df_test = df_merge.sample(n=7000)\n",
    "# print(df_test['replier_label'].unique())\n",
    "# X = torch.stack(df_test['mean_tensor'].tolist())\n",
    "\n",
    "#Real expriment\n",
    "df_test = df_merge\n",
    "X = torch.stack(df_test['mean_tensor'].tolist())\n",
    "X = X[:, :100] \n",
    "print(X.shape)\n",
    "y = df_test[y_column]\n",
    "\n",
    "#PCA \n",
    "scaler = StandardScaler()\n",
    "X = scaler.fit_transform(X)\n",
    "indices = df_test.index\n",
    "\n",
    "print('here')\n",
    "pca = PCA()\n",
    "\n",
    "# Fit the PCA object to the data and transform the data\n",
    "X = pca.fit_transform(X)\n",
    "print('After PCA shape ', X.shape)\n",
    "\n",
    "X_train, X_test, y_train, y_test, indices_train, indices_test = train_test_split(X,\n",
    "                                                                                 y,\n",
    "                                                                                 indices,\n",
    "                                                    # random_state=104, \n",
    "                                                    stratify=y,\n",
    "                                                    test_size=0.20, \n",
    "                                                    shuffle=True)\n",
    "\n",
    "print('Xtrain: ', len(X_train))\n",
    "print('Xtrain shape: ', X_train.shape)\n",
    "print('Xtest: ', len(X_test))\n",
    "print('Ytrain: ', len(y_train))\n",
    "print('Ytest: ', len(y_test))\n",
    "\n",
    "\n",
    "knnClassifier.fit(X_train, y_train)\n",
    "y_pred = knnClassifier.predict(X_test)\n",
    "                                     \n",
    "result = classification_report(y_test,\n",
    "                               y_pred, \n",
    "                               labels=[0,1])\n",
    "\n",
    "print(result)\n",
    "\n",
    "#Cross validation\n",
    "scores = cross_val_score(knnClassifier,\n",
    "                         X_train, \n",
    "                         y_train,\n",
    "                         cv=5)\n",
    "mean_score = round(scores.mean(), 2)\n",
    "std_score = round(scores.std(), 2)\n",
    "\n",
    "print(f'Cross validation: mean {mean_score} accuracy with a standard deviation of {std_score}')\n",
    "\n",
    "lr_probs = knnClassifier.predict_proba(X_test)\n",
    "    \n",
    "\n",
    "fpr, tpr, thresholds = roc_curve(y_test, lr_probs[:, 1])\n",
    "\n",
    "# Compute the AUC score\n",
    "roc_auc = auc(fpr, tpr)\n",
    "\n",
    "# Plot the ROC curve\n",
    "fig, ax = plt.subplots(figsize=(8,8))\n",
    "ax.plot(fpr, tpr, color='darkorange', \n",
    "         lw=2, label='ROC curve (area = %0.2f)' % roc_auc)\n",
    "ax.plot([0, 1], [0, 1], color='navy', \n",
    "         lw=2, linestyle='--')\n",
    "ax.set_xlim([0.0, 1.0])\n",
    "ax.set_ylim([0.0, 1.05])\n",
    "ax.set_xlabel('False Positive Rate')\n",
    "ax.set_ylabel('True Positive Rate')\n",
    "ax.set_title('Receiver Operating Characteristic (ROC) Curve \\n Knearest neighbor \\n Reply Embedding')\n",
    "ax.legend(loc=\"lower right\")\n",
    "plt.show()\n",
    "\n",
    "config = config_hp.config()\n",
    "plot_path = config['PLOTS']\n",
    "reply_plot_path = plot_path['reply_plot_path']\n",
    "\n",
    "fig.savefig(f'{reply_plot_path}/knearest_neighbor_emb.png')"
   ]
  },
  {
   "cell_type": "code",
   "execution_count": null,
   "id": "5651e6a5-d8de-44c5-b475-c615059ddeb1",
   "metadata": {},
   "outputs": [],
   "source": []
  }
 ],
 "metadata": {
  "kernelspec": {
   "display_name": "Python 3 (ipykernel)",
   "language": "python",
   "name": "python3"
  },
  "language_info": {
   "codemirror_mode": {
    "name": "ipython",
    "version": 3
   },
   "file_extension": ".py",
   "mimetype": "text/x-python",
   "name": "python",
   "nbconvert_exporter": "python",
   "pygments_lexer": "ipython3",
   "version": "3.10.9"
  }
 },
 "nbformat": 4,
 "nbformat_minor": 5
}
