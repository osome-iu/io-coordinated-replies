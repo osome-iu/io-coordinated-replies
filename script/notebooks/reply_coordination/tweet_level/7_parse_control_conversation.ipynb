{
 "cells": [
  {
   "cell_type": "markdown",
   "id": "b79f18c8-f104-4d31-9f03-4f9537f0b8af",
   "metadata": {},
   "source": [
    "##### **This notebook parse the control tweets collected.**"
   ]
  },
  {
   "cell_type": "code",
   "execution_count": 3,
   "id": "e8e45b0b-3d99-47af-b561-839d92f703dc",
   "metadata": {},
   "outputs": [],
   "source": [
    "import pandas as pd\n",
    "import numpy as np\n",
    "import datetime\n",
    "import warnings\n",
    "import glob\n",
    "import seaborn as sns\n",
    "import matplotlib.pyplot as plt\n",
    "import matplotlib.colors as pltc\n",
    "from tqdm import tqdm\n",
    "import sys\n",
    "import os\n",
    "\n",
    "import importlib\n",
    "\n",
    "#### packages\n",
    "import helper.strategy_helper as st\n",
    "import helper.visualization as vz\n",
    "import helper.helper as hp\n",
    "import helper.file_helper as file_hp\n",
    "import config.config as config_hp\n",
    "import helper.pandas_helper as pd_hp\n",
    "import helper.twitter_helper as emb_hp"
   ]
  },
  {
   "cell_type": "markdown",
   "id": "3759241e-9eae-4d48-aeea-d7219dc634e6",
   "metadata": {},
   "source": [
    "##### **Load config**"
   ]
  },
  {
   "cell_type": "code",
   "execution_count": 5,
   "id": "ab60ad78-881a-4d4d-a308-95a46ba9d778",
   "metadata": {},
   "outputs": [],
   "source": [
    "import imp\n",
    "\n",
    "imp.reload(config_hp)\n",
    "\n",
    "config = config_hp.config()\n",
    "poster_control = config['POSTER_CONTROL']\n",
    "\n",
    "poster_control_tweets = poster_control['poster_control_tweets']"
   ]
  },
  {
   "cell_type": "code",
   "execution_count": 11,
   "id": "c9e2cb70-6a1f-45a7-8ea7-238b2c10452f",
   "metadata": {},
   "outputs": [],
   "source": [
    "tweet_path = os.path.join(poster_control_tweets, \n",
    "                          'posters_*.jsonl')"
   ]
  },
  {
   "cell_type": "code",
   "execution_count": 13,
   "id": "16a2c286-1fd6-4db1-a71e-f01c53c2f612",
   "metadata": {},
   "outputs": [],
   "source": [
    "for tweet_file in glob.glob(tweet_path):\n",
    "    print(t\n",
    "    with open(tweet_file, 'r') as json_file:\n",
    "        for row in json_file:\n",
    "                one_row = json.loads(row)\n",
    "                print(one_row)\n",
    "                break"
   ]
  },
  {
   "cell_type": "code",
   "execution_count": null,
   "id": "4fee7c80-5a5f-4c0f-859c-330fb5ce7d45",
   "metadata": {},
   "outputs": [],
   "source": []
  }
 ],
 "metadata": {
  "kernelspec": {
   "display_name": "Python 3 (ipykernel)",
   "language": "python",
   "name": "python3"
  },
  "language_info": {
   "codemirror_mode": {
    "name": "ipython",
    "version": 3
   },
   "file_extension": ".py",
   "mimetype": "text/x-python",
   "name": "python",
   "nbconvert_exporter": "python",
   "pygments_lexer": "ipython3",
   "version": "3.9.1"
  }
 },
 "nbformat": 4,
 "nbformat_minor": 5
}
