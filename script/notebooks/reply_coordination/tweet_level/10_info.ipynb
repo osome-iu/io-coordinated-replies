{
 "cells": [
  {
   "cell_type": "markdown",
   "id": "1f8d6c91-cec3-45e7-ba48-e222a92ab368",
   "metadata": {},
   "source": [
    "##### **This notebook gets information on data sets (external replies only considered)**"
   ]
  },
  {
   "cell_type": "code",
   "execution_count": 205,
   "id": "6a7313f4-d71b-458c-9fdf-2b8f612b479c",
   "metadata": {},
   "outputs": [],
   "source": [
    "import pandas as pd\n",
    "import numpy as np\n",
    "import datetime\n",
    "import warnings\n",
    "import glob\n",
    "import seaborn as sns\n",
    "import matplotlib.pyplot as plt\n",
    "import matplotlib.colors as pltc\n",
    "import json\n",
    "import sys\n",
    "import os\n",
    "\n",
    "import importlib\n",
    "\n",
    "#### packages\n",
    "import helper.strategy_helper as st\n",
    "import helper.visualization as vz\n",
    "import helper.helper as hp\n",
    "import helper.file_helper as file_hp\n",
    "import config.config as config_hp\n",
    "import helper.pandas_helper as pd_hp"
   ]
  },
  {
   "cell_type": "markdown",
   "id": "ce74d5f7-e3b0-48da-9fe3-31016240bfd5",
   "metadata": {
    "jp-MarkdownHeadingCollapsed": true,
    "tags": []
   },
   "source": [
    "##### **Load config files**"
   ]
  },
  {
   "cell_type": "code",
   "execution_count": 199,
   "id": "4c18bb71-cdab-43ee-8b7d-43c110bc0cdf",
   "metadata": {},
   "outputs": [],
   "source": [
    "config = config.config()\n",
    "path = config['PATHS']\n",
    "poster_path = config['POSTER_PATH']\n",
    "\n",
    "external_reply = path['external_reply']\n",
    "conversation_ids_5 = path['conversation_ids_5']\n",
    "poster_id_path = poster_path['poster_id_path']\n",
    "poster_info_file = poster_path['poster_info_file']"
   ]
  },
  {
   "cell_type": "markdown",
   "id": "dd8fe4b0-49f3-4d63-9853-36ca5208ed88",
   "metadata": {
    "jp-MarkdownHeadingCollapsed": true,
    "tags": []
   },
   "source": [
    "##### **Information on all replies**"
   ]
  },
  {
   "cell_type": "code",
   "execution_count": 56,
   "id": "68bb4274-c603-45da-92da-70321773248b",
   "metadata": {},
   "outputs": [],
   "source": [
    "df_replies = pd.read_pickle(external_reply)"
   ]
  },
  {
   "cell_type": "code",
   "execution_count": 57,
   "id": "a6f928ff-2983-4a84-a10b-14f56f2058ac",
   "metadata": {},
   "outputs": [],
   "source": [
    "total = df_replies['replier_tweetid'].nunique()"
   ]
  },
  {
   "cell_type": "code",
   "execution_count": 58,
   "id": "0d81a2d1-6a77-4ad2-9260-6bd6a1f9e58c",
   "metadata": {},
   "outputs": [
    {
     "name": "stdout",
     "output_type": "stream",
     "text": [
      "Total replies in data : 17873714\n"
     ]
    }
   ],
   "source": [
    "print('Total replies in data :', total)"
   ]
  },
  {
   "cell_type": "code",
   "execution_count": 60,
   "id": "92cd6e5d-4bb5-4bcb-9bc6-9d8cf1375e1c",
   "metadata": {},
   "outputs": [
    {
     "name": "stdout",
     "output_type": "stream",
     "text": [
      "Total tweets in datasets : 15256547\n"
     ]
    }
   ],
   "source": [
    "df_tweets = (df_replies.groupby(['poster_tweetid',\n",
    "                                  # 'poster_userid'\n",
    "                                 ])['replier_userid']\n",
    "                              .nunique()\n",
    "                              .to_frame('count_replies')\n",
    "                              .reset_index())\n",
    "total_tweet = len(df_tweets)\n",
    "\n",
    "print('Total tweets in datasets :', total_tweet)"
   ]
  },
  {
   "cell_type": "code",
   "execution_count": 71,
   "id": "b5dd7282-9545-43c6-82d8-6fda8ecff440",
   "metadata": {},
   "outputs": [
    {
     "name": "stdout",
     "output_type": "stream",
     "text": [
      "Total posters in all data : 1763084\n"
     ]
    }
   ],
   "source": [
    "total_posters = df_replies['poster_userid'].nunique()\n",
    "\n",
    "print('Total posters in all data :', total_posters)"
   ]
  },
  {
   "cell_type": "markdown",
   "id": "edc40049-b298-4d62-b2cb-7798846623a4",
   "metadata": {
    "jp-MarkdownHeadingCollapsed": true,
    "tags": []
   },
   "source": [
    "##### **Information on number of tweets with 5 or more replies**"
   ]
  },
  {
   "cell_type": "code",
   "execution_count": null,
   "id": "82ee3622-b0ff-4420-8cc4-e6231bbe81b9",
   "metadata": {},
   "outputs": [],
   "source": [
    "conv_ids = file_hp.read_file(conversation_ids_5)"
   ]
  },
  {
   "cell_type": "code",
   "execution_count": 25,
   "id": "d2717ad0-8330-47b6-b338-7110521775d7",
   "metadata": {},
   "outputs": [
    {
     "name": "stdout",
     "output_type": "stream",
     "text": [
      "Total number of tweets with 5 or more replies : 96041\n"
     ]
    }
   ],
   "source": [
    "print('Total number of tweets with 5 or more replies :', \n",
    "      len(conv_ids))"
   ]
  },
  {
   "cell_type": "markdown",
   "id": "3b704e0f-78ef-4dfd-89a8-9bc5b520698b",
   "metadata": {
    "jp-MarkdownHeadingCollapsed": true,
    "tags": []
   },
   "source": [
    "##### **Information on number of tweets with 10 or more replies**"
   ]
  },
  {
   "cell_type": "code",
   "execution_count": 65,
   "id": "112455c1-9a22-4e3a-bd45-acbe36a43432",
   "metadata": {},
   "outputs": [],
   "source": [
    "df_replies = pd.read_pickle(external_reply)"
   ]
  },
  {
   "cell_type": "code",
   "execution_count": null,
   "id": "d5679b29-2bb3-4dc6-a49c-02ba3eb83d04",
   "metadata": {},
   "outputs": [],
   "source": [
    "df_replies = df_replies.astype({\n",
    "    'poster_tweetid': str,\n",
    "    'poster_userid': str\n",
    "})"
   ]
  },
  {
   "cell_type": "code",
   "execution_count": 67,
   "id": "01e8b6d9-35e8-4783-81ec-967c7d33b335",
   "metadata": {},
   "outputs": [],
   "source": [
    "df_count = (df_replies.groupby(['poster_tweetid',\n",
    "                                  'poster_userid'\n",
    "                                 ])['replier_userid']\n",
    "                              .nunique()\n",
    "                              .to_frame('count_replies')\n",
    "                              .reset_index())"
   ]
  },
  {
   "cell_type": "code",
   "execution_count": 68,
   "id": "00a7815e-061b-4c4b-a598-aedb57e1182a",
   "metadata": {},
   "outputs": [
    {
     "name": "stdout",
     "output_type": "stream",
     "text": [
      "Total tweets with 10 or more replies from IO accounts : 31301\n"
     ]
    }
   ],
   "source": [
    "total_10 = len(df_count.loc[df_count['count_replies'] >= 10])\n",
    "\n",
    "print('Total tweets with 10 or more replies from IO accounts :', total_10)"
   ]
  },
  {
   "cell_type": "markdown",
   "id": "79b00736-2b39-45b7-94d1-694d1e40f8e9",
   "metadata": {
    "jp-MarkdownHeadingCollapsed": true,
    "tags": []
   },
   "source": [
    "##### **Verifying 5 or more replies**"
   ]
  },
  {
   "cell_type": "code",
   "execution_count": 73,
   "id": "ebf7aa1f-4b3c-47e9-94dd-6fcfdb6e35f3",
   "metadata": {},
   "outputs": [
    {
     "name": "stdout",
     "output_type": "stream",
     "text": [
      "Total tweets with 5 or more replies from IO accounts : 96040\n"
     ]
    }
   ],
   "source": [
    "df_5 = df_count.loc[df_count['count_replies'] >= 5]\n",
    "\n",
    "print('Total tweets with 5 or more replies from IO accounts :', \n",
    "      len(df_5))"
   ]
  },
  {
   "cell_type": "code",
   "execution_count": 80,
   "id": "bc01dc34-a971-4568-aa34-a60ec3b9bc1b",
   "metadata": {},
   "outputs": [],
   "source": [
    "df_5 = df_5.astype({\n",
    "    'poster_tweetid': str,\n",
    "    'poster_userid': str\n",
    "})"
   ]
  },
  {
   "cell_type": "code",
   "execution_count": 81,
   "id": "fa430fba-ad38-48d8-ad4f-116c823d0a54",
   "metadata": {},
   "outputs": [
    {
     "name": "stdout",
     "output_type": "stream",
     "text": [
      "Total unique posters with 5 or more replies : 15014\n"
     ]
    }
   ],
   "source": [
    "posters_org = df_5['poster_userid'].unique()\n",
    "\n",
    "print('Total unique posters with 5 or more replies :',\n",
    "      len(posters_org))"
   ]
  },
  {
   "cell_type": "markdown",
   "id": "d8fa3d56-94a8-4b28-9103-218df7e6be39",
   "metadata": {
    "jp-MarkdownHeadingCollapsed": true,
    "tags": []
   },
   "source": [
    "##### **Information on number of posters that got 5 or more replies on their tweets**"
   ]
  },
  {
   "cell_type": "code",
   "execution_count": 83,
   "id": "4d4cfea9-fe35-4e82-9918-17cc7bfb7352",
   "metadata": {},
   "outputs": [
    {
     "name": "stdout",
     "output_type": "stream",
     "text": [
      "Remaining posters :  {'1134445195863437312', '757779763406704640'}\n",
      "Total number of posters that got 5 or more replies : 15016\n"
     ]
    }
   ],
   "source": [
    "poster_ids = file_hp.read_file(poster_id_path)\n",
    "\n",
    "\n",
    "print('Remaining posters : ', set(poster_ids) - set(posters_org))\n",
    "print('Total number of posters that got 5 or more replies :', \n",
    "      len(poster_ids))"
   ]
  },
  {
   "cell_type": "markdown",
   "id": "99adb9c3-5aea-41f0-aded-da3121c22524",
   "metadata": {
    "jp-MarkdownHeadingCollapsed": true,
    "tags": []
   },
   "source": [
    "##### **Information on status of posters**"
   ]
  },
  {
   "cell_type": "code",
   "execution_count": 40,
   "id": "d78dbe59-a5ea-4595-b798-f79b0941d502",
   "metadata": {},
   "outputs": [],
   "source": [
    "df_poster = pd.read_pickle(poster_info_file)"
   ]
  },
  {
   "cell_type": "code",
   "execution_count": 227,
   "id": "ffdde974-8157-4615-a727-9f832c1f4ac9",
   "metadata": {},
   "outputs": [],
   "source": [
    "# df_poster.head()"
   ]
  },
  {
   "cell_type": "code",
   "execution_count": 45,
   "id": "2496dc81-fcab-41ee-bb94-49282827c467",
   "metadata": {},
   "outputs": [
    {
     "data": {
      "text/plain": [
       "array(['not found', 'suspended', True, False], dtype=object)"
      ]
     },
     "execution_count": 45,
     "metadata": {},
     "output_type": "execute_result"
    }
   ],
   "source": [
    "df_poster['verified'].unique()"
   ]
  },
  {
   "cell_type": "code",
   "execution_count": 44,
   "id": "d8b6f138-77b2-42d7-8f1b-1e89a59872a2",
   "metadata": {},
   "outputs": [
    {
     "name": "stdout",
     "output_type": "stream",
     "text": [
      "Suspended accounts : 5041\n"
     ]
    }
   ],
   "source": [
    "suspended = len(df_poster.loc[df_poster['verified'] == 'suspended'])\n",
    "\n",
    "print('Suspended accounts :', suspended)"
   ]
  },
  {
   "cell_type": "code",
   "execution_count": 47,
   "id": "47f29fe1-0d5a-4253-aa05-89942f061011",
   "metadata": {},
   "outputs": [
    {
     "name": "stdout",
     "output_type": "stream",
     "text": [
      "Number of accounts not found : 3992\n"
     ]
    }
   ],
   "source": [
    "not_found = len(df_poster.loc[df_poster['verified'] == 'not found'])\n",
    "\n",
    "print('Number of accounts not found :', not_found)"
   ]
  },
  {
   "cell_type": "code",
   "execution_count": 49,
   "id": "b1287282-c695-4d85-9557-a18460be27f5",
   "metadata": {},
   "outputs": [
    {
     "name": "stdout",
     "output_type": "stream",
     "text": [
      "Verified accounts : 2031\n"
     ]
    }
   ],
   "source": [
    "verified = len(df_poster.loc[df_poster['verified'] == True])\n",
    "\n",
    "print('Verified accounts :', verified)"
   ]
  },
  {
   "cell_type": "code",
   "execution_count": 48,
   "id": "7486c8e8-c4f8-4b9c-95a6-8ffe914a5d27",
   "metadata": {},
   "outputs": [
    {
     "name": "stdout",
     "output_type": "stream",
     "text": [
      "Not verified accounts : 3952\n"
     ]
    }
   ],
   "source": [
    "not_verified = len(df_poster.loc[df_poster['verified'] == False])\n",
    "\n",
    "print('Not verified accounts :', not_verified)"
   ]
  },
  {
   "cell_type": "markdown",
   "id": "71423991-debe-4031-abbe-3cdf0de40d83",
   "metadata": {
    "jp-MarkdownHeadingCollapsed": true,
    "tags": []
   },
   "source": [
    "##### **Information on poster tweets**"
   ]
  },
  {
   "cell_type": "code",
   "execution_count": 89,
   "id": "eccea605-03b2-44e0-b5b2-b17afef95c2f",
   "metadata": {},
   "outputs": [],
   "source": [
    "config = config.config()\n",
    "\n",
    "poster_path = config['POSTER_PATH']"
   ]
  },
  {
   "cell_type": "code",
   "execution_count": 90,
   "id": "be44e28f-721d-4206-ac39-587ba2598310",
   "metadata": {},
   "outputs": [],
   "source": [
    "parsed_poster_org_tweets = poster_path['parsed_poster_org_tweets']"
   ]
  },
  {
   "cell_type": "code",
   "execution_count": 91,
   "id": "d172d0e8-fb56-4fff-9018-d3c5ab4860bd",
   "metadata": {},
   "outputs": [],
   "source": [
    "df_org = pd.read_pickle(parsed_poster_org_tweets)"
   ]
  },
  {
   "cell_type": "code",
   "execution_count": 130,
   "id": "701455de-cb6e-4e80-8d7e-30ebc47f48d6",
   "metadata": {},
   "outputs": [
    {
     "data": {
      "text/plain": [
       "96041"
      ]
     },
     "execution_count": 130,
     "metadata": {},
     "output_type": "execute_result"
    }
   ],
   "source": [
    "df_org['tweetid'].nunique()"
   ]
  },
  {
   "cell_type": "code",
   "execution_count": 126,
   "id": "af847b78-f263-4bd0-8671-dfaccb873884",
   "metadata": {},
   "outputs": [],
   "source": [
    "total_not_found = df_org.loc[df_org['created_at'] == 'Not Found Error']['tweetid'].nunique()"
   ]
  },
  {
   "cell_type": "code",
   "execution_count": 127,
   "id": "c7cff5fb-267e-41f2-ba54-c869ecc3fb95",
   "metadata": {},
   "outputs": [
    {
     "name": "stdout",
     "output_type": "stream",
     "text": [
      "Total deleted tweets : 43048\n"
     ]
    }
   ],
   "source": [
    "print('Total deleted tweets :', total_not_found)"
   ]
  },
  {
   "cell_type": "code",
   "execution_count": 123,
   "id": "9bed959f-163e-4495-9626-a086ea59136a",
   "metadata": {},
   "outputs": [],
   "source": [
    "total_auth = df_org.loc[df_org['created_at'] == 'Authorization Error']['tweetid'].nunique()"
   ]
  },
  {
   "cell_type": "code",
   "execution_count": 124,
   "id": "c4b4be5e-264a-4703-a7ec-b027ed65234e",
   "metadata": {},
   "outputs": [
    {
     "name": "stdout",
     "output_type": "stream",
     "text": [
      "Total tweets are not authorized to view  : 18808\n"
     ]
    }
   ],
   "source": [
    "print('Total tweets are not authorized to view  :', \n",
    "      total_auth)"
   ]
  },
  {
   "cell_type": "code",
   "execution_count": 115,
   "id": "8a9aa42f-08fe-4913-8a2e-bb94bdcaca58",
   "metadata": {},
   "outputs": [
    {
     "name": "stdout",
     "output_type": "stream",
     "text": [
      "Remaining tweets : 34545\n"
     ]
    }
   ],
   "source": [
    "print('Remaining tweets :', 96401 - 43048 - 18808)"
   ]
  },
  {
   "cell_type": "code",
   "execution_count": 141,
   "id": "78373c09-a0d2-44fa-a9e7-4595ec83336c",
   "metadata": {},
   "outputs": [
    {
     "data": {
      "text/plain": [
       "61856"
      ]
     },
     "execution_count": 141,
     "metadata": {},
     "output_type": "execute_result"
    }
   ],
   "source": [
    "43048 + 18808"
   ]
  },
  {
   "cell_type": "code",
   "execution_count": 152,
   "id": "e02c7a61-7879-4261-8458-b3cc3fe01df0",
   "metadata": {},
   "outputs": [],
   "source": [
    "df_remaining_tweets = df_org.loc[~df_org['author_id'].isnull()]"
   ]
  },
  {
   "cell_type": "code",
   "execution_count": 153,
   "id": "8c2381f4-3f5d-4eb3-847d-762e3052f573",
   "metadata": {},
   "outputs": [
    {
     "data": {
      "text/plain": [
       "34185"
      ]
     },
     "execution_count": 153,
     "metadata": {},
     "output_type": "execute_result"
    }
   ],
   "source": [
    "df_remaining_tweets['tweetid'].nunique()"
   ]
  },
  {
   "cell_type": "markdown",
   "id": "4e82f00f-df89-44ca-a900-4578ff62144d",
   "metadata": {
    "jp-MarkdownHeadingCollapsed": true,
    "tags": []
   },
   "source": [
    "##### **Remove unalive poster tweet ids**"
   ]
  },
  {
   "cell_type": "code",
   "execution_count": 150,
   "id": "21f0b3bc-54ff-4ef4-8f53-cf64cf8349bf",
   "metadata": {},
   "outputs": [],
   "source": [
    "config = config.config()\n",
    "\n",
    "path = config['PATHS']\n",
    "\n",
    "splited_reply_ids = path['splited_reply_ids']\n",
    "poster_path = config['POSTER_PATH']\n",
    "parsed_poster_org_tweets = poster_path['parsed_poster_org_tweets']"
   ]
  },
  {
   "cell_type": "code",
   "execution_count": 154,
   "id": "ba001ce5-035f-48ca-9473-0fafd66bfd89",
   "metadata": {},
   "outputs": [],
   "source": [
    "df_org = pd.read_pickle(parsed_poster_org_tweets)"
   ]
  },
  {
   "cell_type": "code",
   "execution_count": 169,
   "id": "39aa64ec-e005-4bed-b154-a8811196e2cf",
   "metadata": {},
   "outputs": [],
   "source": [
    "df_live = df_org.loc[~df_org['author_id'].isnull()]\n",
    "org_tweets = set(df_live['tweetid'].unique().tolist())"
   ]
  },
  {
   "cell_type": "code",
   "execution_count": 191,
   "id": "3086dcba-6ec1-414b-99eb-6aecdbf90dbb",
   "metadata": {},
   "outputs": [],
   "source": [
    "def remove_unalive_tweets(path, save_path, org_list):\n",
    "    '''\n",
    "    Removes unwanted rows from file\n",
    "    :param path: Path where files are\n",
    "    :param save_path: Path where the files to be saved\n",
    "    :param org_list: List of original data without unwanted rows\n",
    "    '''\n",
    "    for file in glob.glob(path):\n",
    "        filename = file.split(os.sep)[-1]\n",
    "        ids = set(file_hp.read_file(file))\n",
    "        remaining = ids - org_list #unalive tweets\n",
    "        \n",
    "        if len(remaining) == 0:\n",
    "            print(0)\n",
    "            continue\n",
    "            \n",
    "        ids = ids - remaining\n",
    "        temp_file = open(f'{file}', 'r+')\n",
    "        \n",
    "        temp_file.truncate(0)\n",
    "        \n",
    "        file_hp.write_to_file_row_each_line(save_path, \n",
    "                                            filename, \n",
    "                                            ids)\n",
    "\n",
    "            \n",
    "id_path = splited_reply_ids + os.sep + '*.txt'\n",
    "\n",
    "# remove_unalive_tweets(id_path, splited_reply_ids, org_tweets)"
   ]
  },
  {
   "cell_type": "code",
   "execution_count": 190,
   "id": "6c0e97d5-dd63-4dfb-9962-97aef117db51",
   "metadata": {},
   "outputs": [],
   "source": [
    "def remove_empty_files(path):\n",
    "    '''\n",
    "    Checks the number of ids in txt files\n",
    "    :param path: Path of files\n",
    "    '''\n",
    "    for file in glob.glob(path):\n",
    "        ids = set(file_hp.read_file(file))\n",
    "        print(file, len(ids))\n",
    "        \n",
    "id_path = splited_reply_ids + os.sep + '*temp_1.txt'\n",
    "\n",
    "# remove_empty_files(id_path)"
   ]
  },
  {
   "cell_type": "markdown",
   "id": "556f0d87-6cad-4644-958c-791c818be4af",
   "metadata": {
    "jp-MarkdownHeadingCollapsed": true,
    "tags": []
   },
   "source": [
    "##### **Save dead tweetids**"
   ]
  },
  {
   "cell_type": "code",
   "execution_count": 192,
   "id": "8f1812ca-237a-43b2-9806-25c43d63c6ec",
   "metadata": {},
   "outputs": [],
   "source": [
    "df_org = pd.read_pickle(parsed_poster_org_tweets)"
   ]
  },
  {
   "cell_type": "code",
   "execution_count": 193,
   "id": "cc69144b-085b-4d9b-b0e9-37dd88fcb9a8",
   "metadata": {},
   "outputs": [],
   "source": [
    "df_dead = df_org.loc[df_org['author_id'].isnull()]\n",
    "dead_tweets = set(df_dead['tweetid'].unique().tolist())"
   ]
  },
  {
   "cell_type": "code",
   "execution_count": 218,
   "id": "e718b562-c532-4966-a47b-d5637dcbf79c",
   "metadata": {},
   "outputs": [],
   "source": [
    "import imp\n",
    "\n",
    "imp.reload(config_hp)\n",
    "imp.reload(file_hp)\n",
    "\n",
    "config = config_hp.config()\n",
    "\n",
    "poster_path = config['POSTER_PATH']\n",
    "poster_dead_tweet_file = poster_path['poster_dead_tweet_file']"
   ]
  },
  {
   "cell_type": "code",
   "execution_count": 208,
   "id": "8c5360e5-f098-4e82-b0b1-b127ec720627",
   "metadata": {},
   "outputs": [],
   "source": [
    "# file_hp.write_to_file_row_each_line(poster_dead_tweet_file,\n",
    "#                                     None, \n",
    "#                                     dead_tweets)"
   ]
  },
  {
   "cell_type": "markdown",
   "id": "aa72c564-ce8f-4adb-afba-a48137fbeb69",
   "metadata": {
    "jp-MarkdownHeadingCollapsed": true,
    "tags": []
   },
   "source": [
    "##### **Save unalive posters**"
   ]
  },
  {
   "cell_type": "code",
   "execution_count": 225,
   "id": "709eff68-31bd-45c6-9a08-caccd177fb1d",
   "metadata": {},
   "outputs": [],
   "source": [
    "import imp\n",
    "\n",
    "imp.reload(config_hp)\n",
    "imp.reload(file_hp)\n",
    "\n",
    "config = config_hp.config()\n",
    "\n",
    "poster_path = config['POSTER_PATH']\n",
    "\n",
    "poster_info_file = poster_path['poster_info_file']\n",
    "poster_dead_file = poster_path['poster_dead_file']\n",
    "poster_id_path = poster_path['poster_id_path']"
   ]
  },
  {
   "cell_type": "code",
   "execution_count": 213,
   "id": "4fbffef9-42cd-412d-a118-23a00f6f0480",
   "metadata": {},
   "outputs": [],
   "source": [
    "df_poster = pd.read_pickle(poster_info_file)"
   ]
  },
  {
   "cell_type": "code",
   "execution_count": 216,
   "id": "0e966c6f-1a03-49bd-bb09-19d1b5742f51",
   "metadata": {},
   "outputs": [],
   "source": [
    "df_alive_posters = df_poster.loc[~df_poster['verified'].isin(\n",
    "    ['suspended', 'not found'])]\n",
    "\n",
    "alive_posters = df_alive_posters['id'].unique().tolist()"
   ]
  },
  {
   "cell_type": "code",
   "execution_count": 217,
   "id": "6213f96b-0293-492b-8ab6-e08a9d7ae4b3",
   "metadata": {},
   "outputs": [],
   "source": [
    "# file_hp.write_to_file_row_each_line(poster_dead_file,\n",
    "#                                     None, \n",
    "#                                     alive_posters)"
   ]
  },
  {
   "cell_type": "code",
   "execution_count": 226,
   "id": "c04353c4-80e9-4221-b6d7-bb5786060462",
   "metadata": {},
   "outputs": [],
   "source": [
    "file_hp.remove_row_in_file(poster_id_path, alive_posters)"
   ]
  },
  {
   "cell_type": "code",
   "execution_count": null,
   "id": "edec6d8b-688e-4a89-9497-2f8d89dac35d",
   "metadata": {},
   "outputs": [],
   "source": []
  }
 ],
 "metadata": {
  "kernelspec": {
   "display_name": "Python 3 (ipykernel)",
   "language": "python",
   "name": "python3"
  },
  "language_info": {
   "codemirror_mode": {
    "name": "ipython",
    "version": 3
   },
   "file_extension": ".py",
   "mimetype": "text/x-python",
   "name": "python",
   "nbconvert_exporter": "python",
   "pygments_lexer": "ipython3",
   "version": "3.9.1"
  }
 },
 "nbformat": 4,
 "nbformat_minor": 5
}
