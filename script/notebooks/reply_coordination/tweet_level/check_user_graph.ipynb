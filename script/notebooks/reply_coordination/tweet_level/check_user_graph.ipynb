{
 "cells": [
  {
   "cell_type": "code",
   "execution_count": 1,
   "id": "a9402af0-4215-4b7a-bdd1-caed9355524b",
   "metadata": {},
   "outputs": [],
   "source": [
    "### This notebook checks if graph for each user is correct"
   ]
  },
  {
   "cell_type": "code",
   "execution_count": 14,
   "id": "27425b5b-df4f-4131-a816-c5a2a0844400",
   "metadata": {},
   "outputs": [],
   "source": [
    "import pandas as pd\n",
    "import numpy as np\n",
    "import warnings\n",
    "import glob\n",
    "import seaborn as sns\n",
    "import matplotlib.pyplot as plt\n",
    "import matplotlib.colors as pltc\n",
    "from tqdm import tqdm\n",
    "import networkx as nx\n",
    "\n",
    "import importlib\n",
    "\n",
    "#### packages\n",
    "import helper.strategy_helper as st\n",
    "import helper.visualization as vz\n",
    "import helper.helper as hp\n",
    "import helper.file_helper as file_hp\n",
    "import config.config as config"
   ]
  },
  {
   "cell_type": "code",
   "execution_count": 4,
   "id": "3f8770e5-a98f-4933-9783-4af0a7181a8d",
   "metadata": {},
   "outputs": [],
   "source": [
    "config = config.config()\n",
    "path = config['PATHS']\n",
    "\n",
    "derived_path = path['derived_path']\n",
    "all_tweet_data = path['all_tweet_data']\n",
    "graph_path = path['graph_path']"
   ]
  },
  {
   "cell_type": "code",
   "execution_count": 5,
   "id": "1c105250-5ec3-497b-b856-dcef36e9c08a",
   "metadata": {},
   "outputs": [],
   "source": [
    "year = '2020_05'\n",
    "type_of = 'ops'\n",
    "campaign = 'china_052020'"
   ]
  },
  {
   "cell_type": "code",
   "execution_count": 8,
   "id": "6205a5cb-d745-4159-8e19-973a2e28eb08",
   "metadata": {},
   "outputs": [],
   "source": [
    "user_file = f'{graph_path}/{campaign}/*_user_network.pkl.gz'"
   ]
  },
  {
   "cell_type": "code",
   "execution_count": 28,
   "id": "9800bf71-0bee-4946-b22e-681dfb4a49a3",
   "metadata": {},
   "outputs": [],
   "source": [
    "def get_giant_component(df, source_column, \n",
    "                        target_column, weight_column\n",
    "                       ):\n",
    "    G = nx.from_pandas_edgelist(df, \n",
    "                                source_column, \n",
    "                                target_column, \n",
    "                                [weight_column])\n",
    "    \n",
    "    print(nx.info(G))\n",
    "    \n",
    "    Gcc = sorted(nx.connected_components(G), \n",
    "                 key=len, reverse=True)\n",
    "    \n",
    "    G0 = G.subgraph(Gcc[0])\n",
    "    \n",
    "    print('\\n Number of connected components :', len(Gcc)) \n",
    "    print(nx.info(G0))\n",
    "    nx.draw(G0)"
   ]
  },
  {
   "cell_type": "code",
   "execution_count": 30,
   "id": "3a228f23-3a97-4e5b-9819-f1edf78e5e4f",
   "metadata": {},
   "outputs": [
    {
     "name": "stdout",
     "output_type": "stream",
     "text": [
      "/N/slate/potem/data/derived/user_coordination_graph/china_052020/40273_user_network.pkl.gz\n",
      "Graph with 6040 nodes and 6040 edges\n"
     ]
    },
    {
     "name": "stderr",
     "output_type": "stream",
     "text": [
      "/tmp/ipykernel_45393/2176769106.py:9: DeprecationWarning: info is deprecated and will be removed in version 3.0.\n",
      "\n",
      "  print(nx.info(G))\n",
      "/tmp/ipykernel_45393/2176769106.py:17: DeprecationWarning: info is deprecated and will be removed in version 3.0.\n",
      "\n",
      "  print(nx.info(G0))\n",
      "/tmp/ipykernel_45393/2176769106.py:9: DeprecationWarning: info is deprecated and will be removed in version 3.0.\n",
      "\n",
      "  print(nx.info(G))\n",
      "/tmp/ipykernel_45393/2176769106.py:17: DeprecationWarning: info is deprecated and will be removed in version 3.0.\n",
      "\n",
      "  print(nx.info(G0))\n"
     ]
    },
    {
     "name": "stdout",
     "output_type": "stream",
     "text": [
      "\n",
      " Number of connected components : 6040\n",
      "Graph with 1 nodes and 1 edges\n",
      "/N/slate/potem/data/derived/user_coordination_graph/china_052020/15012486_user_network.pkl.gz\n",
      "Graph with 6040 nodes and 6040 edges\n",
      "\n",
      " Number of connected components : 6040\n",
      "Graph with 1 nodes and 1 edges\n",
      "/N/slate/potem/data/derived/user_coordination_graph/china_052020/18705236_user_network.pkl.gz\n",
      "Graph with 6040 nodes and 6040 edges\n",
      "\n",
      " Number of connected components : 6040\n",
      "Graph with 1 nodes and 1 edges\n"
     ]
    },
    {
     "name": "stderr",
     "output_type": "stream",
     "text": [
      "/tmp/ipykernel_45393/2176769106.py:9: DeprecationWarning: info is deprecated and will be removed in version 3.0.\n",
      "\n",
      "  print(nx.info(G))\n",
      "/tmp/ipykernel_45393/2176769106.py:17: DeprecationWarning: info is deprecated and will be removed in version 3.0.\n",
      "\n",
      "  print(nx.info(G0))\n",
      "/tmp/ipykernel_45393/2176769106.py:9: DeprecationWarning: info is deprecated and will be removed in version 3.0.\n",
      "\n",
      "  print(nx.info(G))\n",
      "/tmp/ipykernel_45393/2176769106.py:17: DeprecationWarning: info is deprecated and will be removed in version 3.0.\n",
      "\n",
      "  print(nx.info(G0))\n",
      "/tmp/ipykernel_45393/2176769106.py:9: DeprecationWarning: info is deprecated and will be removed in version 3.0.\n",
      "\n",
      "  print(nx.info(G))\n",
      "/tmp/ipykernel_45393/2176769106.py:17: DeprecationWarning: info is deprecated and will be removed in version 3.0.\n",
      "\n",
      "  print(nx.info(G0))\n"
     ]
    },
    {
     "name": "stdout",
     "output_type": "stream",
     "text": [
      "/N/slate/potem/data/derived/user_coordination_graph/china_052020/14308180_user_network.pkl.gz\n",
      "Graph with 6040 nodes and 6040 edges\n",
      "\n",
      " Number of connected components : 6040\n",
      "Graph with 1 nodes and 1 edges\n",
      "/N/slate/potem/data/derived/user_coordination_graph/china_052020/20845447_user_network.pkl.gz\n",
      "Graph with 6040 nodes and 6040 edges\n",
      "\n",
      " Number of connected components : 6040\n",
      "Graph with 1 nodes and 1 edges\n",
      "/N/slate/potem/data/derived/user_coordination_graph/china_052020/20097777_user_network.pkl.gz\n",
      "Graph with 6040 nodes and 6040 edges\n",
      "\n",
      " Number of connected components : 6040\n",
      "Graph with 1 nodes and 1 edges\n",
      "/N/slate/potem/data/derived/user_coordination_graph/china_052020/15195240_user_network.pkl.gz\n",
      "Graph with 6040 nodes and 6040 edges\n"
     ]
    },
    {
     "name": "stderr",
     "output_type": "stream",
     "text": [
      "/tmp/ipykernel_45393/2176769106.py:9: DeprecationWarning: info is deprecated and will be removed in version 3.0.\n",
      "\n",
      "  print(nx.info(G))\n",
      "/tmp/ipykernel_45393/2176769106.py:17: DeprecationWarning: info is deprecated and will be removed in version 3.0.\n",
      "\n",
      "  print(nx.info(G0))\n",
      "/tmp/ipykernel_45393/2176769106.py:9: DeprecationWarning: info is deprecated and will be removed in version 3.0.\n",
      "\n",
      "  print(nx.info(G))\n",
      "/tmp/ipykernel_45393/2176769106.py:17: DeprecationWarning: info is deprecated and will be removed in version 3.0.\n",
      "\n",
      "  print(nx.info(G0))\n",
      "/tmp/ipykernel_45393/2176769106.py:9: DeprecationWarning: info is deprecated and will be removed in version 3.0.\n",
      "\n",
      "  print(nx.info(G))\n"
     ]
    },
    {
     "name": "stdout",
     "output_type": "stream",
     "text": [
      "\n",
      " Number of connected components : 6040\n",
      "Graph with 1 nodes and 1 edges\n",
      "/N/slate/potem/data/derived/user_coordination_graph/china_052020/19956026_user_network.pkl.gz\n",
      "Graph with 6040 nodes and 6040 edges\n",
      "\n",
      " Number of connected components : 6040\n",
      "Graph with 1 nodes and 1 edges\n",
      "/N/slate/potem/data/derived/user_coordination_graph/china_052020/18472382_user_network.pkl.gz\n",
      "Graph with 6040 nodes and 6040 edges\n"
     ]
    },
    {
     "name": "stderr",
     "output_type": "stream",
     "text": [
      "/tmp/ipykernel_45393/2176769106.py:17: DeprecationWarning: info is deprecated and will be removed in version 3.0.\n",
      "\n",
      "  print(nx.info(G0))\n",
      "/tmp/ipykernel_45393/2176769106.py:9: DeprecationWarning: info is deprecated and will be removed in version 3.0.\n",
      "\n",
      "  print(nx.info(G))\n",
      "/tmp/ipykernel_45393/2176769106.py:17: DeprecationWarning: info is deprecated and will be removed in version 3.0.\n",
      "\n",
      "  print(nx.info(G0))\n"
     ]
    },
    {
     "name": "stdout",
     "output_type": "stream",
     "text": [
      "\n",
      " Number of connected components : 6040\n",
      "Graph with 1 nodes and 1 edges\n",
      "/N/slate/potem/data/derived/user_coordination_graph/china_052020/17057248_user_network.pkl.gz\n",
      "Graph with 6040 nodes and 6040 edges\n",
      "\n",
      " Number of connected components : 6040\n",
      "Graph with 1 nodes and 1 edges\n",
      "/N/slate/potem/data/derived/user_coordination_graph/china_052020/18538218_user_network.pkl.gz\n",
      "Graph with 6040 nodes and 6040 edges\n",
      "\n",
      " Number of connected components : 6040\n",
      "Graph with 1 nodes and 1 edges\n"
     ]
    },
    {
     "name": "stderr",
     "output_type": "stream",
     "text": [
      "/tmp/ipykernel_45393/2176769106.py:9: DeprecationWarning: info is deprecated and will be removed in version 3.0.\n",
      "\n",
      "  print(nx.info(G))\n",
      "/tmp/ipykernel_45393/2176769106.py:17: DeprecationWarning: info is deprecated and will be removed in version 3.0.\n",
      "\n",
      "  print(nx.info(G0))\n",
      "/tmp/ipykernel_45393/2176769106.py:9: DeprecationWarning: info is deprecated and will be removed in version 3.0.\n",
      "\n",
      "  print(nx.info(G))\n",
      "/tmp/ipykernel_45393/2176769106.py:17: DeprecationWarning: info is deprecated and will be removed in version 3.0.\n",
      "\n",
      "  print(nx.info(G0))\n",
      "/tmp/ipykernel_45393/2176769106.py:9: DeprecationWarning: info is deprecated and will be removed in version 3.0.\n",
      "\n",
      "  print(nx.info(G))\n"
     ]
    },
    {
     "name": "stdout",
     "output_type": "stream",
     "text": [
      "/N/slate/potem/data/derived/user_coordination_graph/china_052020/11348282_user_network.pkl.gz\n",
      "Graph with 6040 nodes and 6040 edges\n",
      "\n",
      " Number of connected components : 6040\n",
      "Graph with 1 nodes and 1 edges\n",
      "/N/slate/potem/data/derived/user_coordination_graph/china_052020/13992132_user_network.pkl.gz\n",
      "Graph with 6040 nodes and 6040 edges\n",
      "\n",
      " Number of connected components : 6040\n",
      "Graph with 1 nodes and 1 edges\n"
     ]
    },
    {
     "name": "stderr",
     "output_type": "stream",
     "text": [
      "/tmp/ipykernel_45393/2176769106.py:17: DeprecationWarning: info is deprecated and will be removed in version 3.0.\n",
      "\n",
      "  print(nx.info(G0))\n",
      "/tmp/ipykernel_45393/2176769106.py:9: DeprecationWarning: info is deprecated and will be removed in version 3.0.\n",
      "\n",
      "  print(nx.info(G))\n",
      "/tmp/ipykernel_45393/2176769106.py:17: DeprecationWarning: info is deprecated and will be removed in version 3.0.\n",
      "\n",
      "  print(nx.info(G0))\n",
      "/tmp/ipykernel_45393/2176769106.py:9: DeprecationWarning: info is deprecated and will be removed in version 3.0.\n",
      "\n",
      "  print(nx.info(G))\n"
     ]
    },
    {
     "name": "stdout",
     "output_type": "stream",
     "text": [
      "/N/slate/potem/data/derived/user_coordination_graph/china_052020/16255571_user_network.pkl.gz\n",
      "Graph with 6040 nodes and 6040 edges\n",
      "\n",
      " Number of connected components : 6040\n",
      "Graph with 1 nodes and 1 edges\n",
      "/N/slate/potem/data/derived/user_coordination_graph/china_052020/15603705_user_network.pkl.gz\n",
      "Graph with 6040 nodes and 6040 edges\n",
      "\n",
      " Number of connected components : 6040\n",
      "Graph with 1 nodes and 1 edges\n"
     ]
    },
    {
     "name": "stderr",
     "output_type": "stream",
     "text": [
      "/tmp/ipykernel_45393/2176769106.py:17: DeprecationWarning: info is deprecated and will be removed in version 3.0.\n",
      "\n",
      "  print(nx.info(G0))\n",
      "/tmp/ipykernel_45393/2176769106.py:9: DeprecationWarning: info is deprecated and will be removed in version 3.0.\n",
      "\n",
      "  print(nx.info(G))\n",
      "/tmp/ipykernel_45393/2176769106.py:17: DeprecationWarning: info is deprecated and will be removed in version 3.0.\n",
      "\n",
      "  print(nx.info(G0))\n",
      "/tmp/ipykernel_45393/2176769106.py:9: DeprecationWarning: info is deprecated and will be removed in version 3.0.\n",
      "\n",
      "  print(nx.info(G))\n"
     ]
    },
    {
     "name": "stdout",
     "output_type": "stream",
     "text": [
      "/N/slate/potem/data/derived/user_coordination_graph/china_052020/8149482_user_network.pkl.gz\n",
      "Graph with 6040 nodes and 6040 edges\n",
      "\n",
      " Number of connected components : 6040\n",
      "Graph with 1 nodes and 1 edges\n",
      "/N/slate/potem/data/derived/user_coordination_graph/china_052020/19829905_user_network.pkl.gz\n",
      "Graph with 6040 nodes and 6040 edges\n"
     ]
    },
    {
     "name": "stderr",
     "output_type": "stream",
     "text": [
      "/tmp/ipykernel_45393/2176769106.py:17: DeprecationWarning: info is deprecated and will be removed in version 3.0.\n",
      "\n",
      "  print(nx.info(G0))\n",
      "/tmp/ipykernel_45393/2176769106.py:9: DeprecationWarning: info is deprecated and will be removed in version 3.0.\n",
      "\n",
      "  print(nx.info(G))\n",
      "/tmp/ipykernel_45393/2176769106.py:17: DeprecationWarning: info is deprecated and will be removed in version 3.0.\n",
      "\n",
      "  print(nx.info(G0))\n"
     ]
    },
    {
     "name": "stdout",
     "output_type": "stream",
     "text": [
      "\n",
      " Number of connected components : 6040\n",
      "Graph with 1 nodes and 1 edges\n",
      "/N/slate/potem/data/derived/user_coordination_graph/china_052020/14138733_user_network.pkl.gz\n",
      "Graph with 6040 nodes and 6040 edges\n",
      "\n",
      " Number of connected components : 6040\n",
      "Graph with 1 nodes and 1 edges\n",
      "/N/slate/potem/data/derived/user_coordination_graph/china_052020/16936781_user_network.pkl.gz\n",
      "Graph with 6040 nodes and 6040 edges\n"
     ]
    },
    {
     "name": "stderr",
     "output_type": "stream",
     "text": [
      "/tmp/ipykernel_45393/2176769106.py:9: DeprecationWarning: info is deprecated and will be removed in version 3.0.\n",
      "\n",
      "  print(nx.info(G))\n",
      "/tmp/ipykernel_45393/2176769106.py:17: DeprecationWarning: info is deprecated and will be removed in version 3.0.\n",
      "\n",
      "  print(nx.info(G0))\n",
      "/tmp/ipykernel_45393/2176769106.py:9: DeprecationWarning: info is deprecated and will be removed in version 3.0.\n",
      "\n",
      "  print(nx.info(G))\n",
      "/tmp/ipykernel_45393/2176769106.py:17: DeprecationWarning: info is deprecated and will be removed in version 3.0.\n",
      "\n",
      "  print(nx.info(G0))\n",
      "/tmp/ipykernel_45393/2176769106.py:9: DeprecationWarning: info is deprecated and will be removed in version 3.0.\n",
      "\n",
      "  print(nx.info(G))\n"
     ]
    },
    {
     "name": "stdout",
     "output_type": "stream",
     "text": [
      "\n",
      " Number of connected components : 6040\n",
      "Graph with 1 nodes and 1 edges\n",
      "/N/slate/potem/data/derived/user_coordination_graph/china_052020/17926614_user_network.pkl.gz\n",
      "Graph with 6040 nodes and 6040 edges\n",
      "\n",
      " Number of connected components : 6040\n",
      "Graph with 1 nodes and 1 edges\n",
      "/N/slate/potem/data/derived/user_coordination_graph/china_052020/19889565_user_network.pkl.gz\n",
      "Graph with 6040 nodes and 6040 edges\n",
      "\n",
      " Number of connected components : 6040\n",
      "Graph with 1 nodes and 1 edges\n"
     ]
    },
    {
     "name": "stderr",
     "output_type": "stream",
     "text": [
      "/tmp/ipykernel_45393/2176769106.py:17: DeprecationWarning: info is deprecated and will be removed in version 3.0.\n",
      "\n",
      "  print(nx.info(G0))\n",
      "/tmp/ipykernel_45393/2176769106.py:9: DeprecationWarning: info is deprecated and will be removed in version 3.0.\n",
      "\n",
      "  print(nx.info(G))\n",
      "/tmp/ipykernel_45393/2176769106.py:17: DeprecationWarning: info is deprecated and will be removed in version 3.0.\n",
      "\n",
      "  print(nx.info(G0))\n",
      "/tmp/ipykernel_45393/2176769106.py:9: DeprecationWarning: info is deprecated and will be removed in version 3.0.\n",
      "\n",
      "  print(nx.info(G))\n"
     ]
    },
    {
     "name": "stdout",
     "output_type": "stream",
     "text": [
      "/N/slate/potem/data/derived/user_coordination_graph/china_052020/15652389_user_network.pkl.gz\n",
      "Graph with 6040 nodes and 6040 edges\n",
      "\n",
      " Number of connected components : 6040\n",
      "Graph with 1 nodes and 1 edges\n",
      "/N/slate/potem/data/derived/user_coordination_graph/china_052020/16486333_user_network.pkl.gz\n",
      "Graph with 6040 nodes and 6040 edges\n",
      "\n",
      " Number of connected components : 6040\n",
      "Graph with 1 nodes and 1 edges\n"
     ]
    },
    {
     "name": "stderr",
     "output_type": "stream",
     "text": [
      "/tmp/ipykernel_45393/2176769106.py:17: DeprecationWarning: info is deprecated and will be removed in version 3.0.\n",
      "\n",
      "  print(nx.info(G0))\n",
      "/tmp/ipykernel_45393/2176769106.py:9: DeprecationWarning: info is deprecated and will be removed in version 3.0.\n",
      "\n",
      "  print(nx.info(G))\n",
      "/tmp/ipykernel_45393/2176769106.py:17: DeprecationWarning: info is deprecated and will be removed in version 3.0.\n",
      "\n",
      "  print(nx.info(G0))\n",
      "/tmp/ipykernel_45393/2176769106.py:9: DeprecationWarning: info is deprecated and will be removed in version 3.0.\n",
      "\n",
      "  print(nx.info(G))\n"
     ]
    },
    {
     "name": "stdout",
     "output_type": "stream",
     "text": [
      "/N/slate/potem/data/derived/user_coordination_graph/china_052020/14498713_user_network.pkl.gz\n",
      "Graph with 6040 nodes and 6040 edges\n",
      "\n",
      " Number of connected components : 6040\n",
      "Graph with 1 nodes and 1 edges\n",
      "/N/slate/potem/data/derived/user_coordination_graph/china_052020/17044773_user_network.pkl.gz\n"
     ]
    },
    {
     "name": "stderr",
     "output_type": "stream",
     "text": [
      "/tmp/ipykernel_45393/2176769106.py:17: DeprecationWarning: info is deprecated and will be removed in version 3.0.\n",
      "\n",
      "  print(nx.info(G0))\n",
      "/tmp/ipykernel_45393/2176769106.py:9: DeprecationWarning: info is deprecated and will be removed in version 3.0.\n",
      "\n",
      "  print(nx.info(G))\n",
      "/tmp/ipykernel_45393/2176769106.py:17: DeprecationWarning: info is deprecated and will be removed in version 3.0.\n",
      "\n",
      "  print(nx.info(G0))\n"
     ]
    },
    {
     "name": "stdout",
     "output_type": "stream",
     "text": [
      "Graph with 6040 nodes and 6040 edges\n",
      "\n",
      " Number of connected components : 6040\n",
      "Graph with 1 nodes and 1 edges\n",
      "/N/slate/potem/data/derived/user_coordination_graph/china_052020/9677612_user_network.pkl.gz\n",
      "Graph with 6040 nodes and 6040 edges\n",
      "\n",
      " Number of connected components : 6040\n",
      "Graph with 1 nodes and 1 edges\n",
      "/N/slate/potem/data/derived/user_coordination_graph/china_052020/16418966_user_network.pkl.gz\n",
      "Graph with 6040 nodes and 6040 edges\n"
     ]
    },
    {
     "name": "stderr",
     "output_type": "stream",
     "text": [
      "/tmp/ipykernel_45393/2176769106.py:9: DeprecationWarning: info is deprecated and will be removed in version 3.0.\n",
      "\n",
      "  print(nx.info(G))\n",
      "/tmp/ipykernel_45393/2176769106.py:17: DeprecationWarning: info is deprecated and will be removed in version 3.0.\n",
      "\n",
      "  print(nx.info(G0))\n",
      "/tmp/ipykernel_45393/2176769106.py:9: DeprecationWarning: info is deprecated and will be removed in version 3.0.\n",
      "\n",
      "  print(nx.info(G))\n",
      "/tmp/ipykernel_45393/2176769106.py:17: DeprecationWarning: info is deprecated and will be removed in version 3.0.\n",
      "\n",
      "  print(nx.info(G0))\n",
      "/tmp/ipykernel_45393/2176769106.py:9: DeprecationWarning: info is deprecated and will be removed in version 3.0.\n",
      "\n",
      "  print(nx.info(G))\n"
     ]
    },
    {
     "name": "stdout",
     "output_type": "stream",
     "text": [
      "\n",
      " Number of connected components : 6040\n",
      "Graph with 1 nodes and 1 edges\n",
      "/N/slate/potem/data/derived/user_coordination_graph/china_052020/13298072_user_network.pkl.gz\n",
      "Graph with 6040 nodes and 6040 edges\n",
      "\n",
      " Number of connected components : 6040\n",
      "Graph with 1 nodes and 1 edges\n",
      "/N/slate/potem/data/derived/user_coordination_graph/china_052020/782622_user_network.pkl.gz\n",
      "Graph with 6040 nodes and 6040 edges\n"
     ]
    },
    {
     "name": "stderr",
     "output_type": "stream",
     "text": [
      "/tmp/ipykernel_45393/2176769106.py:17: DeprecationWarning: info is deprecated and will be removed in version 3.0.\n",
      "\n",
      "  print(nx.info(G0))\n",
      "/tmp/ipykernel_45393/2176769106.py:9: DeprecationWarning: info is deprecated and will be removed in version 3.0.\n",
      "\n",
      "  print(nx.info(G))\n",
      "/tmp/ipykernel_45393/2176769106.py:17: DeprecationWarning: info is deprecated and will be removed in version 3.0.\n",
      "\n",
      "  print(nx.info(G0))\n",
      "/tmp/ipykernel_45393/2176769106.py:9: DeprecationWarning: info is deprecated and will be removed in version 3.0.\n",
      "\n",
      "  print(nx.info(G))\n",
      "/tmp/ipykernel_45393/2176769106.py:17: DeprecationWarning: info is deprecated and will be removed in version 3.0.\n",
      "\n",
      "  print(nx.info(G0))\n"
     ]
    },
    {
     "name": "stdout",
     "output_type": "stream",
     "text": [
      "\n",
      " Number of connected components : 6040\n",
      "Graph with 1 nodes and 1 edges\n",
      "/N/slate/potem/data/derived/user_coordination_graph/china_052020/17695903_user_network.pkl.gz\n",
      "Graph with 6040 nodes and 6040 edges\n",
      "\n",
      " Number of connected components : 6040\n",
      "Graph with 1 nodes and 1 edges\n",
      "/N/slate/potem/data/derived/user_coordination_graph/china_052020/17919972_user_network.pkl.gz\n",
      "Graph with 6040 nodes and 6040 edges\n"
     ]
    },
    {
     "name": "stderr",
     "output_type": "stream",
     "text": [
      "/tmp/ipykernel_45393/2176769106.py:9: DeprecationWarning: info is deprecated and will be removed in version 3.0.\n",
      "\n",
      "  print(nx.info(G))\n",
      "/tmp/ipykernel_45393/2176769106.py:17: DeprecationWarning: info is deprecated and will be removed in version 3.0.\n",
      "\n",
      "  print(nx.info(G0))\n",
      "/tmp/ipykernel_45393/2176769106.py:9: DeprecationWarning: info is deprecated and will be removed in version 3.0.\n",
      "\n",
      "  print(nx.info(G))\n",
      "/tmp/ipykernel_45393/2176769106.py:17: DeprecationWarning: info is deprecated and will be removed in version 3.0.\n",
      "\n",
      "  print(nx.info(G0))\n"
     ]
    },
    {
     "name": "stdout",
     "output_type": "stream",
     "text": [
      "\n",
      " Number of connected components : 6040\n",
      "Graph with 1 nodes and 1 edges\n",
      "/N/slate/potem/data/derived/user_coordination_graph/china_052020/17594983_user_network.pkl.gz\n",
      "Graph with 6040 nodes and 6040 edges\n",
      "\n",
      " Number of connected components : 6040\n",
      "Graph with 1 nodes and 1 edges\n",
      "/N/slate/potem/data/derived/user_coordination_graph/china_052020/807095_user_network.pkl.gz\n"
     ]
    },
    {
     "name": "stderr",
     "output_type": "stream",
     "text": [
      "/tmp/ipykernel_45393/2176769106.py:9: DeprecationWarning: info is deprecated and will be removed in version 3.0.\n",
      "\n",
      "  print(nx.info(G))\n",
      "/tmp/ipykernel_45393/2176769106.py:17: DeprecationWarning: info is deprecated and will be removed in version 3.0.\n",
      "\n",
      "  print(nx.info(G0))\n",
      "/tmp/ipykernel_45393/2176769106.py:9: DeprecationWarning: info is deprecated and will be removed in version 3.0.\n",
      "\n",
      "  print(nx.info(G))\n",
      "/tmp/ipykernel_45393/2176769106.py:17: DeprecationWarning: info is deprecated and will be removed in version 3.0.\n",
      "\n",
      "  print(nx.info(G0))\n",
      "/tmp/ipykernel_45393/2176769106.py:9: DeprecationWarning: info is deprecated and will be removed in version 3.0.\n",
      "\n",
      "  print(nx.info(G))\n"
     ]
    },
    {
     "name": "stdout",
     "output_type": "stream",
     "text": [
      "Graph with 6040 nodes and 6040 edges\n",
      "\n",
      " Number of connected components : 6040\n",
      "Graph with 1 nodes and 1 edges\n",
      "/N/slate/potem/data/derived/user_coordination_graph/china_052020/14230524_user_network.pkl.gz\n",
      "Graph with 6040 nodes and 6040 edges\n",
      "\n",
      " Number of connected components : 6040\n",
      "Graph with 1 nodes and 1 edges\n",
      "/N/slate/potem/data/derived/user_coordination_graph/china_052020/17868557_user_network.pkl.gz\n",
      "Graph with 6040 nodes and 6040 edges\n",
      "\n",
      " Number of connected components : 6040\n",
      "Graph with 1 nodes and 1 edges\n"
     ]
    },
    {
     "name": "stderr",
     "output_type": "stream",
     "text": [
      "/tmp/ipykernel_45393/2176769106.py:17: DeprecationWarning: info is deprecated and will be removed in version 3.0.\n",
      "\n",
      "  print(nx.info(G0))\n",
      "/tmp/ipykernel_45393/2176769106.py:9: DeprecationWarning: info is deprecated and will be removed in version 3.0.\n",
      "\n",
      "  print(nx.info(G))\n",
      "/tmp/ipykernel_45393/2176769106.py:17: DeprecationWarning: info is deprecated and will be removed in version 3.0.\n",
      "\n",
      "  print(nx.info(G0))\n",
      "/tmp/ipykernel_45393/2176769106.py:9: DeprecationWarning: info is deprecated and will be removed in version 3.0.\n",
      "\n",
      "  print(nx.info(G))\n"
     ]
    },
    {
     "name": "stdout",
     "output_type": "stream",
     "text": [
      "/N/slate/potem/data/derived/user_coordination_graph/china_052020/17659206_user_network.pkl.gz\n",
      "Graph with 6040 nodes and 6040 edges\n",
      "\n",
      " Number of connected components : 6040\n",
      "Graph with 1 nodes and 1 edges\n",
      "/N/slate/potem/data/derived/user_coordination_graph/china_052020/2786701_user_network.pkl.gz\n",
      "Graph with 6040 nodes and 6040 edges\n",
      "\n",
      " Number of connected components : 6040\n",
      "Graph with 1 nodes and 1 edges\n"
     ]
    },
    {
     "name": "stderr",
     "output_type": "stream",
     "text": [
      "/tmp/ipykernel_45393/2176769106.py:17: DeprecationWarning: info is deprecated and will be removed in version 3.0.\n",
      "\n",
      "  print(nx.info(G0))\n",
      "/tmp/ipykernel_45393/2176769106.py:9: DeprecationWarning: info is deprecated and will be removed in version 3.0.\n",
      "\n",
      "  print(nx.info(G))\n",
      "/tmp/ipykernel_45393/2176769106.py:17: DeprecationWarning: info is deprecated and will be removed in version 3.0.\n",
      "\n",
      "  print(nx.info(G0))\n",
      "/tmp/ipykernel_45393/2176769106.py:9: DeprecationWarning: info is deprecated and will be removed in version 3.0.\n",
      "\n",
      "  print(nx.info(G))\n",
      "/tmp/ipykernel_45393/2176769106.py:17: DeprecationWarning: info is deprecated and will be removed in version 3.0.\n",
      "\n",
      "  print(nx.info(G0))\n"
     ]
    },
    {
     "name": "stdout",
     "output_type": "stream",
     "text": [
      "/N/slate/potem/data/derived/user_coordination_graph/china_052020/14872237_user_network.pkl.gz\n",
      "Graph with 6040 nodes and 6040 edges\n",
      "\n",
      " Number of connected components : 6040\n",
      "Graph with 1 nodes and 1 edges\n",
      "/N/slate/potem/data/derived/user_coordination_graph/china_052020/18798768_user_network.pkl.gz\n",
      "Graph with 6040 nodes and 6040 edges\n",
      "\n",
      " Number of connected components : 6040\n",
      "Graph with 1 nodes and 1 edges\n",
      "/N/slate/potem/data/derived/user_coordination_graph/china_052020/5402612_user_network.pkl.gz\n",
      "Graph with 6040 nodes and 6040 edges\n",
      "\n",
      " Number of connected components : 6040\n",
      "Graph with 1 nodes and 1 edges\n",
      "/N/slate/potem/data/derived/user_coordination_graph/china_052020/18122784_user_network.pkl.gz\n",
      "Graph with 6040 nodes and 6040 edges\n",
      "\n",
      " Number of connected components : 6040\n",
      "Graph with 1 nodes and 1 edges\n"
     ]
    },
    {
     "name": "stderr",
     "output_type": "stream",
     "text": [
      "/tmp/ipykernel_45393/2176769106.py:9: DeprecationWarning: info is deprecated and will be removed in version 3.0.\n",
      "\n",
      "  print(nx.info(G))\n",
      "/tmp/ipykernel_45393/2176769106.py:17: DeprecationWarning: info is deprecated and will be removed in version 3.0.\n",
      "\n",
      "  print(nx.info(G0))\n",
      "/tmp/ipykernel_45393/2176769106.py:9: DeprecationWarning: info is deprecated and will be removed in version 3.0.\n",
      "\n",
      "  print(nx.info(G))\n",
      "/tmp/ipykernel_45393/2176769106.py:17: DeprecationWarning: info is deprecated and will be removed in version 3.0.\n",
      "\n",
      "  print(nx.info(G0))\n"
     ]
    },
    {
     "name": "stdout",
     "output_type": "stream",
     "text": [
      "/N/slate/potem/data/derived/user_coordination_graph/china_052020/759251_user_network.pkl.gz\n"
     ]
    },
    {
     "ename": "KeyboardInterrupt",
     "evalue": "",
     "output_type": "error",
     "traceback": [
      "\u001b[0;31m---------------------------------------------------------------------------\u001b[0m",
      "\u001b[0;31mKeyboardInterrupt\u001b[0m                         Traceback (most recent call last)",
      "Cell \u001b[0;32mIn [30], line 6\u001b[0m\n\u001b[1;32m      3\u001b[0m df \u001b[38;5;241m=\u001b[39m pd\u001b[38;5;241m.\u001b[39mread_pickle(ops_file)\n\u001b[1;32m      5\u001b[0m \u001b[38;5;66;03m# print(df)\u001b[39;00m\n\u001b[0;32m----> 6\u001b[0m \u001b[43mget_giant_component\u001b[49m\u001b[43m(\u001b[49m\u001b[43mdf\u001b[49m\u001b[43m,\u001b[49m\u001b[43m \u001b[49m\u001b[38;5;124;43m'\u001b[39;49m\u001b[38;5;124;43msource\u001b[39;49m\u001b[38;5;124;43m'\u001b[39;49m\u001b[43m,\u001b[49m\n\u001b[1;32m      7\u001b[0m \u001b[43m                    \u001b[49m\u001b[38;5;124;43m'\u001b[39;49m\u001b[38;5;124;43msource\u001b[39;49m\u001b[38;5;124;43m'\u001b[39;49m\u001b[43m,\u001b[49m\u001b[43m \u001b[49m\u001b[38;5;124;43m'\u001b[39;49m\u001b[38;5;124;43mcosine\u001b[39;49m\u001b[38;5;124;43m'\u001b[39;49m\n\u001b[1;32m      8\u001b[0m \u001b[43m                   \u001b[49m\u001b[43m)\u001b[49m\n\u001b[1;32m      9\u001b[0m \u001b[38;5;66;03m# break\u001b[39;00m\n",
      "Cell \u001b[0;32mIn [28], line 4\u001b[0m, in \u001b[0;36mget_giant_component\u001b[0;34m(df, source_column, target_column, weight_column)\u001b[0m\n\u001b[1;32m      1\u001b[0m \u001b[38;5;28;01mdef\u001b[39;00m \u001b[38;5;21mget_giant_component\u001b[39m(df, source_column, \n\u001b[1;32m      2\u001b[0m                         target_column, weight_column\n\u001b[1;32m      3\u001b[0m                        ):\n\u001b[0;32m----> 4\u001b[0m     G \u001b[38;5;241m=\u001b[39m \u001b[43mnx\u001b[49m\u001b[38;5;241;43m.\u001b[39;49m\u001b[43mfrom_pandas_edgelist\u001b[49m\u001b[43m(\u001b[49m\u001b[43mdf\u001b[49m\u001b[43m,\u001b[49m\u001b[43m \u001b[49m\n\u001b[1;32m      5\u001b[0m \u001b[43m                                \u001b[49m\u001b[43msource_column\u001b[49m\u001b[43m,\u001b[49m\u001b[43m \u001b[49m\n\u001b[1;32m      6\u001b[0m \u001b[43m                                \u001b[49m\u001b[43mtarget_column\u001b[49m\u001b[43m,\u001b[49m\u001b[43m \u001b[49m\n\u001b[1;32m      7\u001b[0m \u001b[43m                                \u001b[49m\u001b[43m[\u001b[49m\u001b[43mweight_column\u001b[49m\u001b[43m]\u001b[49m\u001b[43m)\u001b[49m\n\u001b[1;32m      9\u001b[0m     \u001b[38;5;28mprint\u001b[39m(nx\u001b[38;5;241m.\u001b[39minfo(G))\n\u001b[1;32m     11\u001b[0m     Gcc \u001b[38;5;241m=\u001b[39m \u001b[38;5;28msorted\u001b[39m(nx\u001b[38;5;241m.\u001b[39mconnected_components(G), \n\u001b[1;32m     12\u001b[0m                  key\u001b[38;5;241m=\u001b[39m\u001b[38;5;28mlen\u001b[39m, reverse\u001b[38;5;241m=\u001b[39m\u001b[38;5;28;01mTrue\u001b[39;00m)\n",
      "File \u001b[0;32m~/miniconda3/lib/python3.9/site-packages/networkx/convert_matrix.py:472\u001b[0m, in \u001b[0;36mfrom_pandas_edgelist\u001b[0;34m(df, source, target, edge_attr, create_using, edge_key)\u001b[0m\n\u001b[1;32m    470\u001b[0m         g[s][t][key]\u001b[38;5;241m.\u001b[39mupdate(\u001b[38;5;28mzip\u001b[39m(attr_col_headings, attrs))\n\u001b[1;32m    471\u001b[0m \u001b[38;5;28;01melse\u001b[39;00m:\n\u001b[0;32m--> 472\u001b[0m     \u001b[38;5;28;01mfor\u001b[39;00m s, t, attrs \u001b[38;5;129;01min\u001b[39;00m \u001b[38;5;28mzip\u001b[39m(df[source], df[target], attribute_data):\n\u001b[1;32m    473\u001b[0m         g\u001b[38;5;241m.\u001b[39madd_edge(s, t)\n\u001b[1;32m    474\u001b[0m         g[s][t]\u001b[38;5;241m.\u001b[39mupdate(\u001b[38;5;28mzip\u001b[39m(attr_col_headings, attrs))\n",
      "\u001b[0;31mKeyboardInterrupt\u001b[0m: "
     ]
    },
    {
     "data": {
      "image/png": "[encoded data removed]",
      "text/plain": [
       "<Figure size 640x480 with 1 Axes>"
      ]
     },
     "metadata": {},
     "output_type": "display_data"
    }
   ],
   "source": [
    "for ops_file in glob.glob(user_file):\n",
    "    print(ops_file)\n",
    "    df = pd.read_pickle(ops_file)\n",
    "    \n",
    "    # print(df)\n",
    "    get_giant_component(df, 'source',\n",
    "                        'source', 'cosine'\n",
    "                       )\n",
    "    # break"
   ]
  },
  {
   "cell_type": "code",
   "execution_count": null,
   "id": "9f9f5390-d81d-4cde-9002-a9c34f50adb8",
   "metadata": {},
   "outputs": [],
   "source": []
  }
 ],
 "metadata": {
  "kernelspec": {
   "display_name": "Python 3 (ipykernel)",
   "language": "python",
   "name": "python3"
  },
  "language_info": {
   "codemirror_mode": {
    "name": "ipython",
    "version": 3
   },
   "file_extension": ".py",
   "mimetype": "text/x-python",
   "name": "python",
   "nbconvert_exporter": "python",
   "pygments_lexer": "ipython3",
   "version": "3.9.1"
  }
 },
 "nbformat": 4,
 "nbformat_minor": 5
}
