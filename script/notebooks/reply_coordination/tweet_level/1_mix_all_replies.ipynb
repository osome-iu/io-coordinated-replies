{
 "cells": [
  {
   "cell_type": "markdown",
   "id": "ea1bafc3-501f-4301-a217-82501077d5c5",
   "metadata": {
    "tags": []
   },
   "source": [
    "### **This notebook combines all the replies and tests how many replies are there for each user**"
   ]
  },
  {
   "cell_type": "code",
   "execution_count": 1,
   "id": "ad0ec84a-6628-431b-8a0d-4faf65e303ef",
   "metadata": {},
   "outputs": [],
   "source": [
    "import pandas as pd\n",
    "import numpy as np\n",
    "import warnings\n",
    "import glob\n",
    "import seaborn as sns\n",
    "import matplotlib.pyplot as plt\n",
    "import matplotlib.colors as pltc\n",
    "from tqdm import tqdm\n",
    "import sys\n",
    "import os\n",
    "\n",
    "import importlib\n",
    "\n",
    "#### packages\n",
    "import helper.strategy_helper as st\n",
    "import helper.visualization as vz\n",
    "import helper.helper as hp\n",
    "import helper.file_helper as file_hp\n",
    "import config.config as config"
   ]
  },
  {
   "cell_type": "markdown",
   "id": "bc6c59d3-5115-48f6-97a4-b2fe2e2e913c",
   "metadata": {
    "tags": []
   },
   "source": [
    "##### **Config files**"
   ]
  },
  {
   "cell_type": "code",
   "execution_count": 2,
   "id": "c4bd667d-32ab-4ce7-aab1-a10f38bc9fd1",
   "metadata": {},
   "outputs": [],
   "source": [
    "config = config.config()\n",
    "path = config['PATHS']\n",
    "\n",
    "derived_path = path['derived_path']\n",
    "all_tweet_data = path['all_tweet_data']\n",
    "plot_path = path['plot_path']"
   ]
  },
  {
   "cell_type": "code",
   "execution_count": 3,
   "id": "948b7779-cae2-449d-91cd-510c5d8ca854",
   "metadata": {},
   "outputs": [],
   "source": [
    "file_hp.create_folder(plot_path, 'mix_replies')\n",
    "reply_plot_path = os.path.join(plot_path, 'mix_replies')"
   ]
  },
  {
   "cell_type": "markdown",
   "id": "cca0f546-9eb6-4ade-8fa5-acf6d25a1401",
   "metadata": {
    "tags": []
   },
   "source": [
    "##### **All campaigns**"
   ]
  },
  {
   "cell_type": "code",
   "execution_count": 4,
   "id": "7fdb0c95-5936-4899-8642-8ca7373c92a0",
   "metadata": {},
   "outputs": [],
   "source": [
    "all_campaigns, names = st.bundle_campaign()"
   ]
  },
  {
   "cell_type": "code",
   "execution_count": 5,
   "id": "f799f8c6-9220-4731-9a72-143c3563b330",
   "metadata": {},
   "outputs": [],
   "source": [
    "def get_path(path, \n",
    "             year, \n",
    "             campaign,\n",
    "            ):\n",
    "    '''\n",
    "    Gets path to control and IO tweet file\n",
    "    \n",
    "    :param path: path to the directory where tweet is present\n",
    "    :param year: year of compaign\n",
    "    :param campaign: name of campaign\n",
    "    :param check_control: whether to check if control is present\n",
    "    \n",
    "    return list\n",
    "    '''\n",
    "    \n",
    "    ops_file_path = os.path.join(path, \n",
    "                                 year, \n",
    "                                 campaign, \n",
    "                                 f'{campaign}_tweets.pkl.gz')\n",
    "    control_file_path = os.path.join(path, \n",
    "                                     year, \n",
    "                                     campaign, \n",
    "                                     'DriversControl', \n",
    "                                     f'{campaign}_control.pkl.gz')\n",
    "    \n",
    "    if os.path.isfile(control_file_path) == False:\n",
    "        control_file_path = os.path.join(path, \n",
    "                                     year, \n",
    "                                     campaign, \n",
    "                                     'DriversControl', \n",
    "                                     f'{campaign}_tweets_control.pkl.gz')\n",
    "        \n",
    "    ops_flag = os.path.isfile(ops_file_path) == True\n",
    "    \n",
    "    if ops_flag:\n",
    "        return {'ops': ops_file_path,\n",
    "                'control': control_file_path\n",
    "               }\n",
    "    \n",
    "    print('Files not found')\n",
    "    \n",
    "    return None"
   ]
  },
  {
   "cell_type": "code",
   "execution_count": 6,
   "id": "28e97318-8d6a-4aac-84ca-ea78875d241d",
   "metadata": {},
   "outputs": [],
   "source": [
    "def combine_all_replies(all_campaigns, derived_path, \n",
    "                        type_of, filename, \n",
    "                        external=False,\n",
    "                        language=None\n",
    "                       ):\n",
    "    '''\n",
    "    Combines all the replies of data\n",
    "    \n",
    "    :param all_campaigns: dictionary of all campaign\n",
    "    :param derived_path: path where the data to be saved\n",
    "    :param type_of: type of data either information operation or control\n",
    "    :param filename: name of file to be saved\n",
    "    '''\n",
    "\n",
    "    df = pd.DataFrame()\n",
    "    for row in all_campaigns:\n",
    "        for year in row:\n",
    "            for new_campaign in row[year]:\n",
    "\n",
    "                print(f'\\n ------START: {year}: {new_campaign} ------- \\n')\n",
    "\n",
    "                data_path = get_path(all_tweet_data, year, \n",
    "                                     new_campaign)\n",
    "\n",
    "                data = st.read_ops_control_data(data_path['ops'],\n",
    "                                                data_path['control'], \n",
    "                                             [type_of])\n",
    "                df_test = data[type_of]\n",
    "                \n",
    "                if len(df_test) == 0:\n",
    "                    print(f'\\n ------END: {year}: {new_campaign} ------- \\n')\n",
    "                    continue\n",
    "                    \n",
    "                if 'in_reply_to_tweetid' not in df_test.columns:\n",
    "                    continue\n",
    "\n",
    "                df_ops = df_test.loc[~df_test['in_reply_to_tweetid'].isnull()]\n",
    "                \n",
    "                # if language is not None:\n",
    "                #     df_ops = df_ops.loc[df_ops['tweet_language'] == language]\n",
    "                    \n",
    "                df_ops['year'] = year\n",
    "                df_ops['campaign'] = new_campaign\n",
    "\n",
    "                if external == True:\n",
    "                    df_ops = st.reply_to_external_users(df_ops)\n",
    "                    \n",
    "                df = df.append(df_ops[['tweetid', 'userid',\n",
    "                                       'in_reply_to_tweetid', \n",
    "                                       'in_reply_to_userid',\n",
    "                                       'tweet_language',\n",
    "                                       'tweet_text',\n",
    "                                       'tweet_time', \n",
    "                                       'year', 'campaign']], \n",
    "                               ignore_index=True)\n",
    "\n",
    "                print(len(df))\n",
    "                \n",
    "    df.rename(columns={'tweetid': 'replier_tweetid',\n",
    "                        'userid': 'replier_userid',\n",
    "                        'in_reply_to_tweetid': 'poster_tweetid',\n",
    "                        'in_reply_to_userid': 'poster_userid',\n",
    "                        'created_at': 'tweet_time',\n",
    "                        'year': 'year',\n",
    "                        'campaign': 'campaign'\n",
    "                       },\n",
    "               inplace=True)\n",
    "    \n",
    "    path = os.path.join(derived_path, filename)\n",
    "\n",
    "    df.to_pickle(f'{path}')\n",
    "                "
   ]
  },
  {
   "cell_type": "markdown",
   "id": "61355ccc-dbfa-44e2-9c79-f5f1e8e0a1a4",
   "metadata": {
    "jp-MarkdownHeadingCollapsed": true,
    "tags": []
   },
   "source": [
    "##### **Combine all the replies (regardless of language)**"
   ]
  },
  {
   "cell_type": "code",
   "execution_count": 8,
   "id": "ed9f18d0-797d-4d68-93b2-5c48b8c46ed1",
   "metadata": {},
   "outputs": [],
   "source": [
    "filename = 'all_replies_campaign.pkl.gz'\n",
    "ops_path = os.path.join(derived_path, filename)\n",
    "\n",
    "# combine_all_replies(all_campaigns, \n",
    "#                     derived_path, \n",
    "#                     'ops', \n",
    "#                     filename,\n",
    "#                     False,\n",
    "#                     None\n",
    "#                    )"
   ]
  },
  {
   "cell_type": "markdown",
   "id": "ff91d647-3bf6-4ac4-a685-80f0966fdf3e",
   "metadata": {},
   "source": [
    "##### **Combine all external replies (regardless of language)**"
   ]
  },
  {
   "cell_type": "code",
   "execution_count": 7,
   "id": "07f0d780-8611-46ba-9e7a-3873212557e9",
   "metadata": {},
   "outputs": [
    {
     "name": "stdout",
     "output_type": "stream",
     "text": [
      "\n",
      " ------START: 2021_12: CNHU_0621 ------- \n",
      "\n",
      "1183\n",
      "\n",
      " ------START: 2021_12: CNCC_0621 ------- \n",
      "\n"
     ]
    },
    {
     "name": "stderr",
     "output_type": "stream",
     "text": [
      "/tmp/ipykernel_1237285/169188010.py:42: SettingWithCopyWarning: \n",
      "A value is trying to be set on a copy of a slice from a DataFrame.\n",
      "Try using .loc[row_indexer,col_indexer] = value instead\n",
      "\n",
      "See the caveats in the documentation: https://pandas.pydata.org/pandas-docs/stable/user_guide/indexing.html#returning-a-view-versus-a-copy\n",
      "  df_ops['year'] = year\n",
      "/tmp/ipykernel_1237285/169188010.py:43: SettingWithCopyWarning: \n",
      "A value is trying to be set on a copy of a slice from a DataFrame.\n",
      "Try using .loc[row_indexer,col_indexer] = value instead\n",
      "\n",
      "See the caveats in the documentation: https://pandas.pydata.org/pandas-docs/stable/user_guide/indexing.html#returning-a-view-versus-a-copy\n",
      "  df_ops['campaign'] = new_campaign\n",
      "/tmp/ipykernel_1237285/169188010.py:48: FutureWarning: The frame.append method is deprecated and will be removed from pandas in a future version. Use pandas.concat instead.\n",
      "  df = df.append(df_ops[['tweetid', 'userid',\n",
      "/tmp/ipykernel_1237285/169188010.py:42: SettingWithCopyWarning: \n",
      "A value is trying to be set on a copy of a slice from a DataFrame.\n",
      "Try using .loc[row_indexer,col_indexer] = value instead\n",
      "\n",
      "See the caveats in the documentation: https://pandas.pydata.org/pandas-docs/stable/user_guide/indexing.html#returning-a-view-versus-a-copy\n",
      "  df_ops['year'] = year\n",
      "/tmp/ipykernel_1237285/169188010.py:43: SettingWithCopyWarning: \n",
      "A value is trying to be set on a copy of a slice from a DataFrame.\n",
      "Try using .loc[row_indexer,col_indexer] = value instead\n",
      "\n",
      "See the caveats in the documentation: https://pandas.pydata.org/pandas-docs/stable/user_guide/indexing.html#returning-a-view-versus-a-copy\n",
      "  df_ops['campaign'] = new_campaign\n",
      "/tmp/ipykernel_1237285/169188010.py:48: FutureWarning: The frame.append method is deprecated and will be removed from pandas in a future version. Use pandas.concat instead.\n",
      "  df = df.append(df_ops[['tweetid', 'userid',\n",
      "/tmp/ipykernel_1237285/169188010.py:42: SettingWithCopyWarning: \n",
      "A value is trying to be set on a copy of a slice from a DataFrame.\n",
      "Try using .loc[row_indexer,col_indexer] = value instead\n",
      "\n",
      "See the caveats in the documentation: https://pandas.pydata.org/pandas-docs/stable/user_guide/indexing.html#returning-a-view-versus-a-copy\n",
      "  df_ops['year'] = year\n",
      "/tmp/ipykernel_1237285/169188010.py:43: SettingWithCopyWarning: \n",
      "A value is trying to be set on a copy of a slice from a DataFrame.\n",
      "Try using .loc[row_indexer,col_indexer] = value instead\n",
      "\n",
      "See the caveats in the documentation: https://pandas.pydata.org/pandas-docs/stable/user_guide/indexing.html#returning-a-view-versus-a-copy\n",
      "  df_ops['campaign'] = new_campaign\n",
      "/tmp/ipykernel_1237285/169188010.py:48: FutureWarning: The frame.append method is deprecated and will be removed from pandas in a future version. Use pandas.concat instead.\n",
      "  df = df.append(df_ops[['tweetid', 'userid',\n"
     ]
    },
    {
     "name": "stdout",
     "output_type": "stream",
     "text": [
      "14395\n",
      "\n",
      " ------START: 2021_12: MX_0621 ------- \n",
      "\n",
      "19972\n",
      "\n",
      " ------START: 2021_12: REA_0621 ------- \n",
      "\n"
     ]
    },
    {
     "name": "stderr",
     "output_type": "stream",
     "text": [
      "/tmp/ipykernel_1237285/169188010.py:42: SettingWithCopyWarning: \n",
      "A value is trying to be set on a copy of a slice from a DataFrame.\n",
      "Try using .loc[row_indexer,col_indexer] = value instead\n",
      "\n",
      "See the caveats in the documentation: https://pandas.pydata.org/pandas-docs/stable/user_guide/indexing.html#returning-a-view-versus-a-copy\n",
      "  df_ops['year'] = year\n",
      "/tmp/ipykernel_1237285/169188010.py:43: SettingWithCopyWarning: \n",
      "A value is trying to be set on a copy of a slice from a DataFrame.\n",
      "Try using .loc[row_indexer,col_indexer] = value instead\n",
      "\n",
      "See the caveats in the documentation: https://pandas.pydata.org/pandas-docs/stable/user_guide/indexing.html#returning-a-view-versus-a-copy\n",
      "  df_ops['campaign'] = new_campaign\n",
      "/tmp/ipykernel_1237285/169188010.py:48: FutureWarning: The frame.append method is deprecated and will be removed from pandas in a future version. Use pandas.concat instead.\n",
      "  df = df.append(df_ops[['tweetid', 'userid',\n",
      "/tmp/ipykernel_1237285/169188010.py:42: SettingWithCopyWarning: \n",
      "A value is trying to be set on a copy of a slice from a DataFrame.\n",
      "Try using .loc[row_indexer,col_indexer] = value instead\n",
      "\n",
      "See the caveats in the documentation: https://pandas.pydata.org/pandas-docs/stable/user_guide/indexing.html#returning-a-view-versus-a-copy\n",
      "  df_ops['year'] = year\n",
      "/tmp/ipykernel_1237285/169188010.py:43: SettingWithCopyWarning: \n",
      "A value is trying to be set on a copy of a slice from a DataFrame.\n",
      "Try using .loc[row_indexer,col_indexer] = value instead\n",
      "\n",
      "See the caveats in the documentation: https://pandas.pydata.org/pandas-docs/stable/user_guide/indexing.html#returning-a-view-versus-a-copy\n",
      "  df_ops['campaign'] = new_campaign\n",
      "/tmp/ipykernel_1237285/169188010.py:48: FutureWarning: The frame.append method is deprecated and will be removed from pandas in a future version. Use pandas.concat instead.\n",
      "  df = df.append(df_ops[['tweetid', 'userid',\n"
     ]
    },
    {
     "name": "stdout",
     "output_type": "stream",
     "text": [
      "20850\n",
      "\n",
      " ------START: 2021_12: RNA_0621 ------- \n",
      "\n",
      "24721\n",
      "\n",
      " ------START: 2021_12: Tanzania_0621 ------- \n",
      "\n"
     ]
    },
    {
     "name": "stderr",
     "output_type": "stream",
     "text": [
      "/tmp/ipykernel_1237285/169188010.py:42: SettingWithCopyWarning: \n",
      "A value is trying to be set on a copy of a slice from a DataFrame.\n",
      "Try using .loc[row_indexer,col_indexer] = value instead\n",
      "\n",
      "See the caveats in the documentation: https://pandas.pydata.org/pandas-docs/stable/user_guide/indexing.html#returning-a-view-versus-a-copy\n",
      "  df_ops['year'] = year\n",
      "/tmp/ipykernel_1237285/169188010.py:43: SettingWithCopyWarning: \n",
      "A value is trying to be set on a copy of a slice from a DataFrame.\n",
      "Try using .loc[row_indexer,col_indexer] = value instead\n",
      "\n",
      "See the caveats in the documentation: https://pandas.pydata.org/pandas-docs/stable/user_guide/indexing.html#returning-a-view-versus-a-copy\n",
      "  df_ops['campaign'] = new_campaign\n",
      "/tmp/ipykernel_1237285/169188010.py:48: FutureWarning: The frame.append method is deprecated and will be removed from pandas in a future version. Use pandas.concat instead.\n",
      "  df = df.append(df_ops[['tweetid', 'userid',\n"
     ]
    },
    {
     "name": "stdout",
     "output_type": "stream",
     "text": [
      "37502\n",
      "\n",
      " ------START: 2021_12: uganda_0621 ------- \n",
      "\n"
     ]
    },
    {
     "name": "stderr",
     "output_type": "stream",
     "text": [
      "/tmp/ipykernel_1237285/169188010.py:42: SettingWithCopyWarning: \n",
      "A value is trying to be set on a copy of a slice from a DataFrame.\n",
      "Try using .loc[row_indexer,col_indexer] = value instead\n",
      "\n",
      "See the caveats in the documentation: https://pandas.pydata.org/pandas-docs/stable/user_guide/indexing.html#returning-a-view-versus-a-copy\n",
      "  df_ops['year'] = year\n",
      "/tmp/ipykernel_1237285/169188010.py:43: SettingWithCopyWarning: \n",
      "A value is trying to be set on a copy of a slice from a DataFrame.\n",
      "Try using .loc[row_indexer,col_indexer] = value instead\n",
      "\n",
      "See the caveats in the documentation: https://pandas.pydata.org/pandas-docs/stable/user_guide/indexing.html#returning-a-view-versus-a-copy\n",
      "  df_ops['campaign'] = new_campaign\n",
      "/tmp/ipykernel_1237285/169188010.py:48: FutureWarning: The frame.append method is deprecated and will be removed from pandas in a future version. Use pandas.concat instead.\n",
      "  df = df.append(df_ops[['tweetid', 'userid',\n"
     ]
    },
    {
     "name": "stdout",
     "output_type": "stream",
     "text": [
      "174707\n",
      "\n",
      " ------START: 2021_12: Venezuela_0621 ------- \n",
      "\n"
     ]
    },
    {
     "name": "stderr",
     "output_type": "stream",
     "text": [
      "/tmp/ipykernel_1237285/169188010.py:42: SettingWithCopyWarning: \n",
      "A value is trying to be set on a copy of a slice from a DataFrame.\n",
      "Try using .loc[row_indexer,col_indexer] = value instead\n",
      "\n",
      "See the caveats in the documentation: https://pandas.pydata.org/pandas-docs/stable/user_guide/indexing.html#returning-a-view-versus-a-copy\n",
      "  df_ops['year'] = year\n",
      "/tmp/ipykernel_1237285/169188010.py:43: SettingWithCopyWarning: \n",
      "A value is trying to be set on a copy of a slice from a DataFrame.\n",
      "Try using .loc[row_indexer,col_indexer] = value instead\n",
      "\n",
      "See the caveats in the documentation: https://pandas.pydata.org/pandas-docs/stable/user_guide/indexing.html#returning-a-view-versus-a-copy\n",
      "  df_ops['campaign'] = new_campaign\n",
      "/tmp/ipykernel_1237285/169188010.py:48: FutureWarning: The frame.append method is deprecated and will be removed from pandas in a future version. Use pandas.concat instead.\n",
      "  df = df.append(df_ops[['tweetid', 'userid',\n"
     ]
    },
    {
     "name": "stdout",
     "output_type": "stream",
     "text": [
      "253883\n",
      "\n",
      " ------START: 2020_12: armenia_202012 ------- \n",
      "\n"
     ]
    },
    {
     "name": "stderr",
     "output_type": "stream",
     "text": [
      "/tmp/ipykernel_1237285/169188010.py:42: SettingWithCopyWarning: \n",
      "A value is trying to be set on a copy of a slice from a DataFrame.\n",
      "Try using .loc[row_indexer,col_indexer] = value instead\n",
      "\n",
      "See the caveats in the documentation: https://pandas.pydata.org/pandas-docs/stable/user_guide/indexing.html#returning-a-view-versus-a-copy\n",
      "  df_ops['year'] = year\n",
      "/tmp/ipykernel_1237285/169188010.py:43: SettingWithCopyWarning: \n",
      "A value is trying to be set on a copy of a slice from a DataFrame.\n",
      "Try using .loc[row_indexer,col_indexer] = value instead\n",
      "\n",
      "See the caveats in the documentation: https://pandas.pydata.org/pandas-docs/stable/user_guide/indexing.html#returning-a-view-versus-a-copy\n",
      "  df_ops['campaign'] = new_campaign\n",
      "/tmp/ipykernel_1237285/169188010.py:48: FutureWarning: The frame.append method is deprecated and will be removed from pandas in a future version. Use pandas.concat instead.\n",
      "  df = df.append(df_ops[['tweetid', 'userid',\n"
     ]
    },
    {
     "name": "stdout",
     "output_type": "stream",
     "text": [
      "254146\n",
      "\n",
      " ------START: 2020_12: GRU_202012 ------- \n",
      "\n"
     ]
    },
    {
     "name": "stderr",
     "output_type": "stream",
     "text": [
      "/tmp/ipykernel_1237285/169188010.py:42: SettingWithCopyWarning: \n",
      "A value is trying to be set on a copy of a slice from a DataFrame.\n",
      "Try using .loc[row_indexer,col_indexer] = value instead\n",
      "\n",
      "See the caveats in the documentation: https://pandas.pydata.org/pandas-docs/stable/user_guide/indexing.html#returning-a-view-versus-a-copy\n",
      "  df_ops['year'] = year\n",
      "/tmp/ipykernel_1237285/169188010.py:43: SettingWithCopyWarning: \n",
      "A value is trying to be set on a copy of a slice from a DataFrame.\n",
      "Try using .loc[row_indexer,col_indexer] = value instead\n",
      "\n",
      "See the caveats in the documentation: https://pandas.pydata.org/pandas-docs/stable/user_guide/indexing.html#returning-a-view-versus-a-copy\n",
      "  df_ops['campaign'] = new_campaign\n",
      "/tmp/ipykernel_1237285/169188010.py:48: FutureWarning: The frame.append method is deprecated and will be removed from pandas in a future version. Use pandas.concat instead.\n",
      "  df = df.append(df_ops[['tweetid', 'userid',\n"
     ]
    },
    {
     "name": "stdout",
     "output_type": "stream",
     "text": [
      "257016\n",
      "\n",
      " ------START: 2020_12: IRA_202012 ------- \n",
      "\n"
     ]
    },
    {
     "name": "stderr",
     "output_type": "stream",
     "text": [
      "/tmp/ipykernel_1237285/169188010.py:42: SettingWithCopyWarning: \n",
      "A value is trying to be set on a copy of a slice from a DataFrame.\n",
      "Try using .loc[row_indexer,col_indexer] = value instead\n",
      "\n",
      "See the caveats in the documentation: https://pandas.pydata.org/pandas-docs/stable/user_guide/indexing.html#returning-a-view-versus-a-copy\n",
      "  df_ops['year'] = year\n",
      "/tmp/ipykernel_1237285/169188010.py:43: SettingWithCopyWarning: \n",
      "A value is trying to be set on a copy of a slice from a DataFrame.\n",
      "Try using .loc[row_indexer,col_indexer] = value instead\n",
      "\n",
      "See the caveats in the documentation: https://pandas.pydata.org/pandas-docs/stable/user_guide/indexing.html#returning-a-view-versus-a-copy\n",
      "  df_ops['campaign'] = new_campaign\n",
      "/tmp/ipykernel_1237285/169188010.py:48: FutureWarning: The frame.append method is deprecated and will be removed from pandas in a future version. Use pandas.concat instead.\n",
      "  df = df.append(df_ops[['tweetid', 'userid',\n"
     ]
    },
    {
     "name": "stdout",
     "output_type": "stream",
     "text": [
      "262603\n",
      "\n",
      " ------START: 2020_12: iran_202012 ------- \n",
      "\n"
     ]
    },
    {
     "name": "stderr",
     "output_type": "stream",
     "text": [
      "/tmp/ipykernel_1237285/169188010.py:42: SettingWithCopyWarning: \n",
      "A value is trying to be set on a copy of a slice from a DataFrame.\n",
      "Try using .loc[row_indexer,col_indexer] = value instead\n",
      "\n",
      "See the caveats in the documentation: https://pandas.pydata.org/pandas-docs/stable/user_guide/indexing.html#returning-a-view-versus-a-copy\n",
      "  df_ops['year'] = year\n",
      "/tmp/ipykernel_1237285/169188010.py:43: SettingWithCopyWarning: \n",
      "A value is trying to be set on a copy of a slice from a DataFrame.\n",
      "Try using .loc[row_indexer,col_indexer] = value instead\n",
      "\n",
      "See the caveats in the documentation: https://pandas.pydata.org/pandas-docs/stable/user_guide/indexing.html#returning-a-view-versus-a-copy\n",
      "  df_ops['campaign'] = new_campaign\n",
      "/tmp/ipykernel_1237285/169188010.py:48: FutureWarning: The frame.append method is deprecated and will be removed from pandas in a future version. Use pandas.concat instead.\n",
      "  df = df.append(df_ops[['tweetid', 'userid',\n",
      "/tmp/ipykernel_1237285/169188010.py:42: SettingWithCopyWarning: \n",
      "A value is trying to be set on a copy of a slice from a DataFrame.\n",
      "Try using .loc[row_indexer,col_indexer] = value instead\n",
      "\n",
      "See the caveats in the documentation: https://pandas.pydata.org/pandas-docs/stable/user_guide/indexing.html#returning-a-view-versus-a-copy\n",
      "  df_ops['year'] = year\n",
      "/tmp/ipykernel_1237285/169188010.py:43: SettingWithCopyWarning: \n",
      "A value is trying to be set on a copy of a slice from a DataFrame.\n",
      "Try using .loc[row_indexer,col_indexer] = value instead\n",
      "\n",
      "See the caveats in the documentation: https://pandas.pydata.org/pandas-docs/stable/user_guide/indexing.html#returning-a-view-versus-a-copy\n",
      "  df_ops['campaign'] = new_campaign\n",
      "/tmp/ipykernel_1237285/169188010.py:48: FutureWarning: The frame.append method is deprecated and will be removed from pandas in a future version. Use pandas.concat instead.\n",
      "  df = df.append(df_ops[['tweetid', 'userid',\n"
     ]
    },
    {
     "name": "stdout",
     "output_type": "stream",
     "text": [
      "351742\n",
      "\n",
      " ------START: 2020_09: ira_092020 ------- \n",
      "\n",
      "351814\n",
      "\n",
      " ------START: 2020_09: iran_092020 ------- \n",
      "\n",
      "352477\n",
      "\n",
      " ------START: 2020_09: thailand_092020 ------- \n",
      "\n"
     ]
    },
    {
     "name": "stderr",
     "output_type": "stream",
     "text": [
      "/tmp/ipykernel_1237285/169188010.py:42: SettingWithCopyWarning: \n",
      "A value is trying to be set on a copy of a slice from a DataFrame.\n",
      "Try using .loc[row_indexer,col_indexer] = value instead\n",
      "\n",
      "See the caveats in the documentation: https://pandas.pydata.org/pandas-docs/stable/user_guide/indexing.html#returning-a-view-versus-a-copy\n",
      "  df_ops['year'] = year\n",
      "/tmp/ipykernel_1237285/169188010.py:43: SettingWithCopyWarning: \n",
      "A value is trying to be set on a copy of a slice from a DataFrame.\n",
      "Try using .loc[row_indexer,col_indexer] = value instead\n",
      "\n",
      "See the caveats in the documentation: https://pandas.pydata.org/pandas-docs/stable/user_guide/indexing.html#returning-a-view-versus-a-copy\n",
      "  df_ops['campaign'] = new_campaign\n",
      "/tmp/ipykernel_1237285/169188010.py:48: FutureWarning: The frame.append method is deprecated and will be removed from pandas in a future version. Use pandas.concat instead.\n",
      "  df = df.append(df_ops[['tweetid', 'userid',\n",
      "/tmp/ipykernel_1237285/169188010.py:42: SettingWithCopyWarning: \n",
      "A value is trying to be set on a copy of a slice from a DataFrame.\n",
      "Try using .loc[row_indexer,col_indexer] = value instead\n",
      "\n",
      "See the caveats in the documentation: https://pandas.pydata.org/pandas-docs/stable/user_guide/indexing.html#returning-a-view-versus-a-copy\n",
      "  df_ops['year'] = year\n",
      "/tmp/ipykernel_1237285/169188010.py:43: SettingWithCopyWarning: \n",
      "A value is trying to be set on a copy of a slice from a DataFrame.\n",
      "Try using .loc[row_indexer,col_indexer] = value instead\n",
      "\n",
      "See the caveats in the documentation: https://pandas.pydata.org/pandas-docs/stable/user_guide/indexing.html#returning-a-view-versus-a-copy\n",
      "  df_ops['campaign'] = new_campaign\n",
      "/tmp/ipykernel_1237285/169188010.py:48: FutureWarning: The frame.append method is deprecated and will be removed from pandas in a future version. Use pandas.concat instead.\n",
      "  df = df.append(df_ops[['tweetid', 'userid',\n"
     ]
    },
    {
     "name": "stdout",
     "output_type": "stream",
     "text": [
      "359321\n",
      "\n",
      " ------START: 2020_08: cuba_082020 ------- \n",
      "\n"
     ]
    },
    {
     "name": "stderr",
     "output_type": "stream",
     "text": [
      "/tmp/ipykernel_1237285/169188010.py:42: SettingWithCopyWarning: \n",
      "A value is trying to be set on a copy of a slice from a DataFrame.\n",
      "Try using .loc[row_indexer,col_indexer] = value instead\n",
      "\n",
      "See the caveats in the documentation: https://pandas.pydata.org/pandas-docs/stable/user_guide/indexing.html#returning-a-view-versus-a-copy\n",
      "  df_ops['year'] = year\n",
      "/tmp/ipykernel_1237285/169188010.py:43: SettingWithCopyWarning: \n",
      "A value is trying to be set on a copy of a slice from a DataFrame.\n",
      "Try using .loc[row_indexer,col_indexer] = value instead\n",
      "\n",
      "See the caveats in the documentation: https://pandas.pydata.org/pandas-docs/stable/user_guide/indexing.html#returning-a-view-versus-a-copy\n",
      "  df_ops['campaign'] = new_campaign\n",
      "/tmp/ipykernel_1237285/169188010.py:48: FutureWarning: The frame.append method is deprecated and will be removed from pandas in a future version. Use pandas.concat instead.\n",
      "  df = df.append(df_ops[['tweetid', 'userid',\n"
     ]
    },
    {
     "name": "stdout",
     "output_type": "stream",
     "text": [
      "510442\n",
      "\n",
      " ------START: 2020_08: qatar_082020 ------- \n",
      "\n"
     ]
    },
    {
     "name": "stderr",
     "output_type": "stream",
     "text": [
      "/tmp/ipykernel_1237285/169188010.py:42: SettingWithCopyWarning: \n",
      "A value is trying to be set on a copy of a slice from a DataFrame.\n",
      "Try using .loc[row_indexer,col_indexer] = value instead\n",
      "\n",
      "See the caveats in the documentation: https://pandas.pydata.org/pandas-docs/stable/user_guide/indexing.html#returning-a-view-versus-a-copy\n",
      "  df_ops['year'] = year\n",
      "/tmp/ipykernel_1237285/169188010.py:43: SettingWithCopyWarning: \n",
      "A value is trying to be set on a copy of a slice from a DataFrame.\n",
      "Try using .loc[row_indexer,col_indexer] = value instead\n",
      "\n",
      "See the caveats in the documentation: https://pandas.pydata.org/pandas-docs/stable/user_guide/indexing.html#returning-a-view-versus-a-copy\n",
      "  df_ops['campaign'] = new_campaign\n",
      "/tmp/ipykernel_1237285/169188010.py:48: FutureWarning: The frame.append method is deprecated and will be removed from pandas in a future version. Use pandas.concat instead.\n",
      "  df = df.append(df_ops[['tweetid', 'userid',\n"
     ]
    },
    {
     "name": "stdout",
     "output_type": "stream",
     "text": [
      "516089\n",
      "\n",
      " ------START: 2020_05: china_052020 ------- \n",
      "\n"
     ]
    },
    {
     "name": "stderr",
     "output_type": "stream",
     "text": [
      "/tmp/ipykernel_1237285/169188010.py:42: SettingWithCopyWarning: \n",
      "A value is trying to be set on a copy of a slice from a DataFrame.\n",
      "Try using .loc[row_indexer,col_indexer] = value instead\n",
      "\n",
      "See the caveats in the documentation: https://pandas.pydata.org/pandas-docs/stable/user_guide/indexing.html#returning-a-view-versus-a-copy\n",
      "  df_ops['year'] = year\n",
      "/tmp/ipykernel_1237285/169188010.py:43: SettingWithCopyWarning: \n",
      "A value is trying to be set on a copy of a slice from a DataFrame.\n",
      "Try using .loc[row_indexer,col_indexer] = value instead\n",
      "\n",
      "See the caveats in the documentation: https://pandas.pydata.org/pandas-docs/stable/user_guide/indexing.html#returning-a-view-versus-a-copy\n",
      "  df_ops['campaign'] = new_campaign\n",
      "/tmp/ipykernel_1237285/169188010.py:48: FutureWarning: The frame.append method is deprecated and will be removed from pandas in a future version. Use pandas.concat instead.\n",
      "  df = df.append(df_ops[['tweetid', 'userid',\n"
     ]
    },
    {
     "name": "stdout",
     "output_type": "stream",
     "text": [
      "595390\n",
      "\n",
      " ------START: 2020_05: turkey_052020 ------- \n",
      "\n"
     ]
    },
    {
     "name": "stderr",
     "output_type": "stream",
     "text": [
      "/tmp/ipykernel_1237285/169188010.py:42: SettingWithCopyWarning: \n",
      "A value is trying to be set on a copy of a slice from a DataFrame.\n",
      "Try using .loc[row_indexer,col_indexer] = value instead\n",
      "\n",
      "See the caveats in the documentation: https://pandas.pydata.org/pandas-docs/stable/user_guide/indexing.html#returning-a-view-versus-a-copy\n",
      "  df_ops['year'] = year\n",
      "/tmp/ipykernel_1237285/169188010.py:43: SettingWithCopyWarning: \n",
      "A value is trying to be set on a copy of a slice from a DataFrame.\n",
      "Try using .loc[row_indexer,col_indexer] = value instead\n",
      "\n",
      "See the caveats in the documentation: https://pandas.pydata.org/pandas-docs/stable/user_guide/indexing.html#returning-a-view-versus-a-copy\n",
      "  df_ops['campaign'] = new_campaign\n",
      "/tmp/ipykernel_1237285/169188010.py:48: FutureWarning: The frame.append method is deprecated and will be removed from pandas in a future version. Use pandas.concat instead.\n",
      "  df = df.append(df_ops[['tweetid', 'userid',\n"
     ]
    },
    {
     "name": "stdout",
     "output_type": "stream",
     "text": [
      "3669563\n",
      "\n",
      " ------START: 2020_05: russia_052020 ------- \n",
      "\n",
      "\n",
      " ------START: 2020_04: egypt_022020 ------- \n",
      "\n"
     ]
    },
    {
     "name": "stderr",
     "output_type": "stream",
     "text": [
      "/tmp/ipykernel_1237285/169188010.py:42: SettingWithCopyWarning: \n",
      "A value is trying to be set on a copy of a slice from a DataFrame.\n",
      "Try using .loc[row_indexer,col_indexer] = value instead\n",
      "\n",
      "See the caveats in the documentation: https://pandas.pydata.org/pandas-docs/stable/user_guide/indexing.html#returning-a-view-versus-a-copy\n",
      "  df_ops['year'] = year\n",
      "/tmp/ipykernel_1237285/169188010.py:43: SettingWithCopyWarning: \n",
      "A value is trying to be set on a copy of a slice from a DataFrame.\n",
      "Try using .loc[row_indexer,col_indexer] = value instead\n",
      "\n",
      "See the caveats in the documentation: https://pandas.pydata.org/pandas-docs/stable/user_guide/indexing.html#returning-a-view-versus-a-copy\n",
      "  df_ops['campaign'] = new_campaign\n",
      "/tmp/ipykernel_1237285/169188010.py:48: FutureWarning: The frame.append method is deprecated and will be removed from pandas in a future version. Use pandas.concat instead.\n",
      "  df = df.append(df_ops[['tweetid', 'userid',\n"
     ]
    },
    {
     "name": "stdout",
     "output_type": "stream",
     "text": [
      "4068486\n",
      "\n",
      " ------START: 2020_04: honduras_022020 ------- \n",
      "\n"
     ]
    },
    {
     "name": "stderr",
     "output_type": "stream",
     "text": [
      "/tmp/ipykernel_1237285/169188010.py:42: SettingWithCopyWarning: \n",
      "A value is trying to be set on a copy of a slice from a DataFrame.\n",
      "Try using .loc[row_indexer,col_indexer] = value instead\n",
      "\n",
      "See the caveats in the documentation: https://pandas.pydata.org/pandas-docs/stable/user_guide/indexing.html#returning-a-view-versus-a-copy\n",
      "  df_ops['year'] = year\n",
      "/tmp/ipykernel_1237285/169188010.py:43: SettingWithCopyWarning: \n",
      "A value is trying to be set on a copy of a slice from a DataFrame.\n",
      "Try using .loc[row_indexer,col_indexer] = value instead\n",
      "\n",
      "See the caveats in the documentation: https://pandas.pydata.org/pandas-docs/stable/user_guide/indexing.html#returning-a-view-versus-a-copy\n",
      "  df_ops['campaign'] = new_campaign\n",
      "/tmp/ipykernel_1237285/169188010.py:48: FutureWarning: The frame.append method is deprecated and will be removed from pandas in a future version. Use pandas.concat instead.\n",
      "  df = df.append(df_ops[['tweetid', 'userid',\n"
     ]
    },
    {
     "name": "stdout",
     "output_type": "stream",
     "text": [
      "4254643\n",
      "\n",
      " ------START: 2020_04: indonesia_022020 ------- \n",
      "\n"
     ]
    },
    {
     "name": "stderr",
     "output_type": "stream",
     "text": [
      "/tmp/ipykernel_1237285/169188010.py:42: SettingWithCopyWarning: \n",
      "A value is trying to be set on a copy of a slice from a DataFrame.\n",
      "Try using .loc[row_indexer,col_indexer] = value instead\n",
      "\n",
      "See the caveats in the documentation: https://pandas.pydata.org/pandas-docs/stable/user_guide/indexing.html#returning-a-view-versus-a-copy\n",
      "  df_ops['year'] = year\n",
      "/tmp/ipykernel_1237285/169188010.py:43: SettingWithCopyWarning: \n",
      "A value is trying to be set on a copy of a slice from a DataFrame.\n",
      "Try using .loc[row_indexer,col_indexer] = value instead\n",
      "\n",
      "See the caveats in the documentation: https://pandas.pydata.org/pandas-docs/stable/user_guide/indexing.html#returning-a-view-versus-a-copy\n",
      "  df_ops['campaign'] = new_campaign\n",
      "/tmp/ipykernel_1237285/169188010.py:48: FutureWarning: The frame.append method is deprecated and will be removed from pandas in a future version. Use pandas.concat instead.\n",
      "  df = df.append(df_ops[['tweetid', 'userid',\n"
     ]
    },
    {
     "name": "stdout",
     "output_type": "stream",
     "text": [
      "4804841\n",
      "\n",
      " ------START: 2020_04: sa_eg_ae_022020 ------- \n",
      "\n"
     ]
    },
    {
     "name": "stderr",
     "output_type": "stream",
     "text": [
      "/tmp/ipykernel_1237285/169188010.py:42: SettingWithCopyWarning: \n",
      "A value is trying to be set on a copy of a slice from a DataFrame.\n",
      "Try using .loc[row_indexer,col_indexer] = value instead\n",
      "\n",
      "See the caveats in the documentation: https://pandas.pydata.org/pandas-docs/stable/user_guide/indexing.html#returning-a-view-versus-a-copy\n",
      "  df_ops['year'] = year\n",
      "/tmp/ipykernel_1237285/169188010.py:43: SettingWithCopyWarning: \n",
      "A value is trying to be set on a copy of a slice from a DataFrame.\n",
      "Try using .loc[row_indexer,col_indexer] = value instead\n",
      "\n",
      "See the caveats in the documentation: https://pandas.pydata.org/pandas-docs/stable/user_guide/indexing.html#returning-a-view-versus-a-copy\n",
      "  df_ops['campaign'] = new_campaign\n",
      "/tmp/ipykernel_1237285/169188010.py:48: FutureWarning: The frame.append method is deprecated and will be removed from pandas in a future version. Use pandas.concat instead.\n",
      "  df = df.append(df_ops[['tweetid', 'userid',\n"
     ]
    },
    {
     "name": "stdout",
     "output_type": "stream",
     "text": [
      "5674075\n",
      "\n",
      " ------START: 2020_04: serbia_022020 ------- \n",
      "\n"
     ]
    },
    {
     "name": "stderr",
     "output_type": "stream",
     "text": [
      "/tmp/ipykernel_1237285/169188010.py:42: SettingWithCopyWarning: \n",
      "A value is trying to be set on a copy of a slice from a DataFrame.\n",
      "Try using .loc[row_indexer,col_indexer] = value instead\n",
      "\n",
      "See the caveats in the documentation: https://pandas.pydata.org/pandas-docs/stable/user_guide/indexing.html#returning-a-view-versus-a-copy\n",
      "  df_ops['year'] = year\n",
      "/tmp/ipykernel_1237285/169188010.py:43: SettingWithCopyWarning: \n",
      "A value is trying to be set on a copy of a slice from a DataFrame.\n",
      "Try using .loc[row_indexer,col_indexer] = value instead\n",
      "\n",
      "See the caveats in the documentation: https://pandas.pydata.org/pandas-docs/stable/user_guide/indexing.html#returning-a-view-versus-a-copy\n",
      "  df_ops['campaign'] = new_campaign\n",
      "/tmp/ipykernel_1237285/169188010.py:48: FutureWarning: The frame.append method is deprecated and will be removed from pandas in a future version. Use pandas.concat instead.\n",
      "  df = df.append(df_ops[['tweetid', 'userid',\n"
     ]
    },
    {
     "name": "stdout",
     "output_type": "stream",
     "text": [
      "7552035\n",
      "\n",
      " ------START: 2020_03: ghana_nigeria_032020 ------- \n",
      "\n"
     ]
    },
    {
     "name": "stderr",
     "output_type": "stream",
     "text": [
      "/tmp/ipykernel_1237285/169188010.py:42: SettingWithCopyWarning: \n",
      "A value is trying to be set on a copy of a slice from a DataFrame.\n",
      "Try using .loc[row_indexer,col_indexer] = value instead\n",
      "\n",
      "See the caveats in the documentation: https://pandas.pydata.org/pandas-docs/stable/user_guide/indexing.html#returning-a-view-versus-a-copy\n",
      "  df_ops['year'] = year\n",
      "/tmp/ipykernel_1237285/169188010.py:43: SettingWithCopyWarning: \n",
      "A value is trying to be set on a copy of a slice from a DataFrame.\n",
      "Try using .loc[row_indexer,col_indexer] = value instead\n",
      "\n",
      "See the caveats in the documentation: https://pandas.pydata.org/pandas-docs/stable/user_guide/indexing.html#returning-a-view-versus-a-copy\n",
      "  df_ops['campaign'] = new_campaign\n",
      "/tmp/ipykernel_1237285/169188010.py:48: FutureWarning: The frame.append method is deprecated and will be removed from pandas in a future version. Use pandas.concat instead.\n",
      "  df = df.append(df_ops[['tweetid', 'userid',\n"
     ]
    },
    {
     "name": "stdout",
     "output_type": "stream",
     "text": [
      "7560732\n",
      "\n",
      " ------START: 2019_11: saudi_arabia_112019 ------- \n",
      "\n"
     ]
    },
    {
     "name": "stderr",
     "output_type": "stream",
     "text": [
      "/tmp/ipykernel_1237285/169188010.py:42: SettingWithCopyWarning: \n",
      "A value is trying to be set on a copy of a slice from a DataFrame.\n",
      "Try using .loc[row_indexer,col_indexer] = value instead\n",
      "\n",
      "See the caveats in the documentation: https://pandas.pydata.org/pandas-docs/stable/user_guide/indexing.html#returning-a-view-versus-a-copy\n",
      "  df_ops['year'] = year\n",
      "/tmp/ipykernel_1237285/169188010.py:43: SettingWithCopyWarning: \n",
      "A value is trying to be set on a copy of a slice from a DataFrame.\n",
      "Try using .loc[row_indexer,col_indexer] = value instead\n",
      "\n",
      "See the caveats in the documentation: https://pandas.pydata.org/pandas-docs/stable/user_guide/indexing.html#returning-a-view-versus-a-copy\n",
      "  df_ops['campaign'] = new_campaign\n",
      "/tmp/ipykernel_1237285/169188010.py:48: FutureWarning: The frame.append method is deprecated and will be removed from pandas in a future version. Use pandas.concat instead.\n",
      "  df = df.append(df_ops[['tweetid', 'userid',\n"
     ]
    },
    {
     "name": "stdout",
     "output_type": "stream",
     "text": [
      "12903886\n",
      "\n",
      " ------START: 2019_08: china_082019 ------- \n",
      "\n"
     ]
    },
    {
     "name": "stderr",
     "output_type": "stream",
     "text": [
      "/tmp/ipykernel_1237285/169188010.py:42: SettingWithCopyWarning: \n",
      "A value is trying to be set on a copy of a slice from a DataFrame.\n",
      "Try using .loc[row_indexer,col_indexer] = value instead\n",
      "\n",
      "See the caveats in the documentation: https://pandas.pydata.org/pandas-docs/stable/user_guide/indexing.html#returning-a-view-versus-a-copy\n",
      "  df_ops['year'] = year\n",
      "/tmp/ipykernel_1237285/169188010.py:43: SettingWithCopyWarning: \n",
      "A value is trying to be set on a copy of a slice from a DataFrame.\n",
      "Try using .loc[row_indexer,col_indexer] = value instead\n",
      "\n",
      "See the caveats in the documentation: https://pandas.pydata.org/pandas-docs/stable/user_guide/indexing.html#returning-a-view-versus-a-copy\n",
      "  df_ops['campaign'] = new_campaign\n",
      "/tmp/ipykernel_1237285/169188010.py:48: FutureWarning: The frame.append method is deprecated and will be removed from pandas in a future version. Use pandas.concat instead.\n",
      "  df = df.append(df_ops[['tweetid', 'userid',\n"
     ]
    },
    {
     "name": "stdout",
     "output_type": "stream",
     "text": [
      "19452126\n",
      "\n",
      " ------START: 2019_08: ecuador_082019 ------- \n",
      "\n"
     ]
    },
    {
     "name": "stderr",
     "output_type": "stream",
     "text": [
      "/tmp/ipykernel_1237285/169188010.py:42: SettingWithCopyWarning: \n",
      "A value is trying to be set on a copy of a slice from a DataFrame.\n",
      "Try using .loc[row_indexer,col_indexer] = value instead\n",
      "\n",
      "See the caveats in the documentation: https://pandas.pydata.org/pandas-docs/stable/user_guide/indexing.html#returning-a-view-versus-a-copy\n",
      "  df_ops['year'] = year\n",
      "/tmp/ipykernel_1237285/169188010.py:43: SettingWithCopyWarning: \n",
      "A value is trying to be set on a copy of a slice from a DataFrame.\n",
      "Try using .loc[row_indexer,col_indexer] = value instead\n",
      "\n",
      "See the caveats in the documentation: https://pandas.pydata.org/pandas-docs/stable/user_guide/indexing.html#returning-a-view-versus-a-copy\n",
      "  df_ops['campaign'] = new_campaign\n",
      "/tmp/ipykernel_1237285/169188010.py:48: FutureWarning: The frame.append method is deprecated and will be removed from pandas in a future version. Use pandas.concat instead.\n",
      "  df = df.append(df_ops[['tweetid', 'userid',\n"
     ]
    },
    {
     "name": "stdout",
     "output_type": "stream",
     "text": [
      "19498285\n",
      "\n",
      " ------START: 2019_08: egypt_uae_082019 ------- \n",
      "\n"
     ]
    },
    {
     "name": "stderr",
     "output_type": "stream",
     "text": [
      "/tmp/ipykernel_1237285/169188010.py:42: SettingWithCopyWarning: \n",
      "A value is trying to be set on a copy of a slice from a DataFrame.\n",
      "Try using .loc[row_indexer,col_indexer] = value instead\n",
      "\n",
      "See the caveats in the documentation: https://pandas.pydata.org/pandas-docs/stable/user_guide/indexing.html#returning-a-view-versus-a-copy\n",
      "  df_ops['year'] = year\n",
      "/tmp/ipykernel_1237285/169188010.py:43: SettingWithCopyWarning: \n",
      "A value is trying to be set on a copy of a slice from a DataFrame.\n",
      "Try using .loc[row_indexer,col_indexer] = value instead\n",
      "\n",
      "See the caveats in the documentation: https://pandas.pydata.org/pandas-docs/stable/user_guide/indexing.html#returning-a-view-versus-a-copy\n",
      "  df_ops['campaign'] = new_campaign\n",
      "/tmp/ipykernel_1237285/169188010.py:48: FutureWarning: The frame.append method is deprecated and will be removed from pandas in a future version. Use pandas.concat instead.\n",
      "  df = df.append(df_ops[['tweetid', 'userid',\n"
     ]
    },
    {
     "name": "stdout",
     "output_type": "stream",
     "text": [
      "19509869\n",
      "\n",
      " ------START: 2019_08: saudi_arabia_082019_1 ------- \n",
      "\n"
     ]
    },
    {
     "name": "stderr",
     "output_type": "stream",
     "text": [
      "/tmp/ipykernel_1237285/169188010.py:48: FutureWarning: The frame.append method is deprecated and will be removed from pandas in a future version. Use pandas.concat instead.\n",
      "  df = df.append(df_ops[['tweetid', 'userid',\n"
     ]
    },
    {
     "name": "stdout",
     "output_type": "stream",
     "text": [
      "19509869\n",
      "\n",
      " ------START: 2019_08: spain_082019 ------- \n",
      "\n"
     ]
    },
    {
     "name": "stderr",
     "output_type": "stream",
     "text": [
      "/tmp/ipykernel_1237285/169188010.py:42: SettingWithCopyWarning: \n",
      "A value is trying to be set on a copy of a slice from a DataFrame.\n",
      "Try using .loc[row_indexer,col_indexer] = value instead\n",
      "\n",
      "See the caveats in the documentation: https://pandas.pydata.org/pandas-docs/stable/user_guide/indexing.html#returning-a-view-versus-a-copy\n",
      "  df_ops['year'] = year\n",
      "/tmp/ipykernel_1237285/169188010.py:43: SettingWithCopyWarning: \n",
      "A value is trying to be set on a copy of a slice from a DataFrame.\n",
      "Try using .loc[row_indexer,col_indexer] = value instead\n",
      "\n",
      "See the caveats in the documentation: https://pandas.pydata.org/pandas-docs/stable/user_guide/indexing.html#returning-a-view-versus-a-copy\n",
      "  df_ops['campaign'] = new_campaign\n",
      "/tmp/ipykernel_1237285/169188010.py:48: FutureWarning: The frame.append method is deprecated and will be removed from pandas in a future version. Use pandas.concat instead.\n",
      "  df = df.append(df_ops[['tweetid', 'userid',\n"
     ]
    },
    {
     "name": "stdout",
     "output_type": "stream",
     "text": [
      "19518854\n",
      "\n",
      " ------START: 2019_08: uae_082019 ------- \n",
      "\n"
     ]
    },
    {
     "name": "stderr",
     "output_type": "stream",
     "text": [
      "/tmp/ipykernel_1237285/169188010.py:42: SettingWithCopyWarning: \n",
      "A value is trying to be set on a copy of a slice from a DataFrame.\n",
      "Try using .loc[row_indexer,col_indexer] = value instead\n",
      "\n",
      "See the caveats in the documentation: https://pandas.pydata.org/pandas-docs/stable/user_guide/indexing.html#returning-a-view-versus-a-copy\n",
      "  df_ops['year'] = year\n",
      "/tmp/ipykernel_1237285/169188010.py:43: SettingWithCopyWarning: \n",
      "A value is trying to be set on a copy of a slice from a DataFrame.\n",
      "Try using .loc[row_indexer,col_indexer] = value instead\n",
      "\n",
      "See the caveats in the documentation: https://pandas.pydata.org/pandas-docs/stable/user_guide/indexing.html#returning-a-view-versus-a-copy\n",
      "  df_ops['campaign'] = new_campaign\n",
      "/tmp/ipykernel_1237285/169188010.py:48: FutureWarning: The frame.append method is deprecated and will be removed from pandas in a future version. Use pandas.concat instead.\n",
      "  df = df.append(df_ops[['tweetid', 'userid',\n"
     ]
    },
    {
     "name": "stdout",
     "output_type": "stream",
     "text": [
      "19618006\n",
      "\n",
      " ------START: 2019_06: catalonia_201906_1 ------- \n",
      "\n"
     ]
    },
    {
     "name": "stderr",
     "output_type": "stream",
     "text": [
      "/tmp/ipykernel_1237285/169188010.py:42: SettingWithCopyWarning: \n",
      "A value is trying to be set on a copy of a slice from a DataFrame.\n",
      "Try using .loc[row_indexer,col_indexer] = value instead\n",
      "\n",
      "See the caveats in the documentation: https://pandas.pydata.org/pandas-docs/stable/user_guide/indexing.html#returning-a-view-versus-a-copy\n",
      "  df_ops['year'] = year\n",
      "/tmp/ipykernel_1237285/169188010.py:43: SettingWithCopyWarning: \n",
      "A value is trying to be set on a copy of a slice from a DataFrame.\n",
      "Try using .loc[row_indexer,col_indexer] = value instead\n",
      "\n",
      "See the caveats in the documentation: https://pandas.pydata.org/pandas-docs/stable/user_guide/indexing.html#returning-a-view-versus-a-copy\n",
      "  df_ops['campaign'] = new_campaign\n",
      "/tmp/ipykernel_1237285/169188010.py:48: FutureWarning: The frame.append method is deprecated and will be removed from pandas in a future version. Use pandas.concat instead.\n",
      "  df = df.append(df_ops[['tweetid', 'userid',\n"
     ]
    },
    {
     "name": "stdout",
     "output_type": "stream",
     "text": [
      "19620207\n",
      "\n",
      " ------START: 2019_06: russia_201906_1 ------- \n",
      "\n"
     ]
    },
    {
     "name": "stderr",
     "output_type": "stream",
     "text": [
      "/tmp/ipykernel_1237285/169188010.py:48: FutureWarning: The frame.append method is deprecated and will be removed from pandas in a future version. Use pandas.concat instead.\n",
      "  df = df.append(df_ops[['tweetid', 'userid',\n"
     ]
    },
    {
     "name": "stdout",
     "output_type": "stream",
     "text": [
      "19620207\n",
      "\n",
      " ------START: 2019_06: iran_201906 ------- \n",
      "\n"
     ]
    },
    {
     "name": "stderr",
     "output_type": "stream",
     "text": [
      "/tmp/ipykernel_1237285/169188010.py:42: SettingWithCopyWarning: \n",
      "A value is trying to be set on a copy of a slice from a DataFrame.\n",
      "Try using .loc[row_indexer,col_indexer] = value instead\n",
      "\n",
      "See the caveats in the documentation: https://pandas.pydata.org/pandas-docs/stable/user_guide/indexing.html#returning-a-view-versus-a-copy\n",
      "  df_ops['year'] = year\n",
      "/tmp/ipykernel_1237285/169188010.py:43: SettingWithCopyWarning: \n",
      "A value is trying to be set on a copy of a slice from a DataFrame.\n",
      "Try using .loc[row_indexer,col_indexer] = value instead\n",
      "\n",
      "See the caveats in the documentation: https://pandas.pydata.org/pandas-docs/stable/user_guide/indexing.html#returning-a-view-versus-a-copy\n",
      "  df_ops['campaign'] = new_campaign\n",
      "/tmp/ipykernel_1237285/169188010.py:48: FutureWarning: The frame.append method is deprecated and will be removed from pandas in a future version. Use pandas.concat instead.\n",
      "  df = df.append(df_ops[['tweetid', 'userid',\n"
     ]
    },
    {
     "name": "stdout",
     "output_type": "stream",
     "text": [
      "19936149\n",
      "\n",
      " ------START: 2019_06: venezuela_201906_1 ------- \n",
      "\n"
     ]
    },
    {
     "name": "stderr",
     "output_type": "stream",
     "text": [
      "/tmp/ipykernel_1237285/169188010.py:42: SettingWithCopyWarning: \n",
      "A value is trying to be set on a copy of a slice from a DataFrame.\n",
      "Try using .loc[row_indexer,col_indexer] = value instead\n",
      "\n",
      "See the caveats in the documentation: https://pandas.pydata.org/pandas-docs/stable/user_guide/indexing.html#returning-a-view-versus-a-copy\n",
      "  df_ops['year'] = year\n",
      "/tmp/ipykernel_1237285/169188010.py:43: SettingWithCopyWarning: \n",
      "A value is trying to be set on a copy of a slice from a DataFrame.\n",
      "Try using .loc[row_indexer,col_indexer] = value instead\n",
      "\n",
      "See the caveats in the documentation: https://pandas.pydata.org/pandas-docs/stable/user_guide/indexing.html#returning-a-view-versus-a-copy\n",
      "  df_ops['campaign'] = new_campaign\n",
      "/tmp/ipykernel_1237285/169188010.py:48: FutureWarning: The frame.append method is deprecated and will be removed from pandas in a future version. Use pandas.concat instead.\n",
      "  df = df.append(df_ops[['tweetid', 'userid',\n"
     ]
    },
    {
     "name": "stdout",
     "output_type": "stream",
     "text": [
      "19936274\n",
      "\n",
      " ------START: 2019_01: iran_201901_1 ------- \n",
      "\n"
     ]
    },
    {
     "name": "stderr",
     "output_type": "stream",
     "text": [
      "/tmp/ipykernel_1237285/169188010.py:42: SettingWithCopyWarning: \n",
      "A value is trying to be set on a copy of a slice from a DataFrame.\n",
      "Try using .loc[row_indexer,col_indexer] = value instead\n",
      "\n",
      "See the caveats in the documentation: https://pandas.pydata.org/pandas-docs/stable/user_guide/indexing.html#returning-a-view-versus-a-copy\n",
      "  df_ops['year'] = year\n",
      "/tmp/ipykernel_1237285/169188010.py:43: SettingWithCopyWarning: \n",
      "A value is trying to be set on a copy of a slice from a DataFrame.\n",
      "Try using .loc[row_indexer,col_indexer] = value instead\n",
      "\n",
      "See the caveats in the documentation: https://pandas.pydata.org/pandas-docs/stable/user_guide/indexing.html#returning-a-view-versus-a-copy\n",
      "  df_ops['campaign'] = new_campaign\n",
      "/tmp/ipykernel_1237285/169188010.py:48: FutureWarning: The frame.append method is deprecated and will be removed from pandas in a future version. Use pandas.concat instead.\n",
      "  df = df.append(df_ops[['tweetid', 'userid',\n"
     ]
    },
    {
     "name": "stdout",
     "output_type": "stream",
     "text": [
      "20487693\n",
      "\n",
      " ------START: 2019_01: russia_201901_1 ------- \n",
      "\n"
     ]
    },
    {
     "name": "stderr",
     "output_type": "stream",
     "text": [
      "/tmp/ipykernel_1237285/169188010.py:42: SettingWithCopyWarning: \n",
      "A value is trying to be set on a copy of a slice from a DataFrame.\n",
      "Try using .loc[row_indexer,col_indexer] = value instead\n",
      "\n",
      "See the caveats in the documentation: https://pandas.pydata.org/pandas-docs/stable/user_guide/indexing.html#returning-a-view-versus-a-copy\n",
      "  df_ops['year'] = year\n",
      "/tmp/ipykernel_1237285/169188010.py:43: SettingWithCopyWarning: \n",
      "A value is trying to be set on a copy of a slice from a DataFrame.\n",
      "Try using .loc[row_indexer,col_indexer] = value instead\n",
      "\n",
      "See the caveats in the documentation: https://pandas.pydata.org/pandas-docs/stable/user_guide/indexing.html#returning-a-view-versus-a-copy\n",
      "  df_ops['campaign'] = new_campaign\n",
      "/tmp/ipykernel_1237285/169188010.py:48: FutureWarning: The frame.append method is deprecated and will be removed from pandas in a future version. Use pandas.concat instead.\n",
      "  df = df.append(df_ops[['tweetid', 'userid',\n"
     ]
    },
    {
     "name": "stdout",
     "output_type": "stream",
     "text": [
      "20560073\n",
      "\n",
      " ------START: 2019_01: bangladesh_201901_1 ------- \n",
      "\n"
     ]
    },
    {
     "name": "stderr",
     "output_type": "stream",
     "text": [
      "/tmp/ipykernel_1237285/169188010.py:42: SettingWithCopyWarning: \n",
      "A value is trying to be set on a copy of a slice from a DataFrame.\n",
      "Try using .loc[row_indexer,col_indexer] = value instead\n",
      "\n",
      "See the caveats in the documentation: https://pandas.pydata.org/pandas-docs/stable/user_guide/indexing.html#returning-a-view-versus-a-copy\n",
      "  df_ops['year'] = year\n",
      "/tmp/ipykernel_1237285/169188010.py:43: SettingWithCopyWarning: \n",
      "A value is trying to be set on a copy of a slice from a DataFrame.\n",
      "Try using .loc[row_indexer,col_indexer] = value instead\n",
      "\n",
      "See the caveats in the documentation: https://pandas.pydata.org/pandas-docs/stable/user_guide/indexing.html#returning-a-view-versus-a-copy\n",
      "  df_ops['campaign'] = new_campaign\n",
      "/tmp/ipykernel_1237285/169188010.py:48: FutureWarning: The frame.append method is deprecated and will be removed from pandas in a future version. Use pandas.concat instead.\n",
      "  df = df.append(df_ops[['tweetid', 'userid',\n"
     ]
    },
    {
     "name": "stdout",
     "output_type": "stream",
     "text": [
      "20560383\n",
      "\n",
      " ------START: 2019_01: venezuela_201901 ------- \n",
      "\n"
     ]
    },
    {
     "name": "stderr",
     "output_type": "stream",
     "text": [
      "/tmp/ipykernel_1237285/169188010.py:42: SettingWithCopyWarning: \n",
      "A value is trying to be set on a copy of a slice from a DataFrame.\n",
      "Try using .loc[row_indexer,col_indexer] = value instead\n",
      "\n",
      "See the caveats in the documentation: https://pandas.pydata.org/pandas-docs/stable/user_guide/indexing.html#returning-a-view-versus-a-copy\n",
      "  df_ops['year'] = year\n",
      "/tmp/ipykernel_1237285/169188010.py:43: SettingWithCopyWarning: \n",
      "A value is trying to be set on a copy of a slice from a DataFrame.\n",
      "Try using .loc[row_indexer,col_indexer] = value instead\n",
      "\n",
      "See the caveats in the documentation: https://pandas.pydata.org/pandas-docs/stable/user_guide/indexing.html#returning-a-view-versus-a-copy\n",
      "  df_ops['campaign'] = new_campaign\n",
      "/tmp/ipykernel_1237285/169188010.py:48: FutureWarning: The frame.append method is deprecated and will be removed from pandas in a future version. Use pandas.concat instead.\n",
      "  df = df.append(df_ops[['tweetid', 'userid',\n"
     ]
    },
    {
     "name": "stdout",
     "output_type": "stream",
     "text": [
      "20821598\n",
      "\n",
      " ------START: 2018_10: ira ------- \n",
      "\n"
     ]
    },
    {
     "name": "stderr",
     "output_type": "stream",
     "text": [
      "/tmp/ipykernel_1237285/169188010.py:42: SettingWithCopyWarning: \n",
      "A value is trying to be set on a copy of a slice from a DataFrame.\n",
      "Try using .loc[row_indexer,col_indexer] = value instead\n",
      "\n",
      "See the caveats in the documentation: https://pandas.pydata.org/pandas-docs/stable/user_guide/indexing.html#returning-a-view-versus-a-copy\n",
      "  df_ops['year'] = year\n",
      "/tmp/ipykernel_1237285/169188010.py:43: SettingWithCopyWarning: \n",
      "A value is trying to be set on a copy of a slice from a DataFrame.\n",
      "Try using .loc[row_indexer,col_indexer] = value instead\n",
      "\n",
      "See the caveats in the documentation: https://pandas.pydata.org/pandas-docs/stable/user_guide/indexing.html#returning-a-view-versus-a-copy\n",
      "  df_ops['campaign'] = new_campaign\n",
      "/tmp/ipykernel_1237285/169188010.py:48: FutureWarning: The frame.append method is deprecated and will be removed from pandas in a future version. Use pandas.concat instead.\n",
      "  df = df.append(df_ops[['tweetid', 'userid',\n"
     ]
    },
    {
     "name": "stdout",
     "output_type": "stream",
     "text": [
      "21087804\n",
      "\n",
      " ------START: 2018_10: iranian ------- \n",
      "\n"
     ]
    },
    {
     "name": "stderr",
     "output_type": "stream",
     "text": [
      "/tmp/ipykernel_1237285/169188010.py:42: SettingWithCopyWarning: \n",
      "A value is trying to be set on a copy of a slice from a DataFrame.\n",
      "Try using .loc[row_indexer,col_indexer] = value instead\n",
      "\n",
      "See the caveats in the documentation: https://pandas.pydata.org/pandas-docs/stable/user_guide/indexing.html#returning-a-view-versus-a-copy\n",
      "  df_ops['year'] = year\n",
      "/tmp/ipykernel_1237285/169188010.py:43: SettingWithCopyWarning: \n",
      "A value is trying to be set on a copy of a slice from a DataFrame.\n",
      "Try using .loc[row_indexer,col_indexer] = value instead\n",
      "\n",
      "See the caveats in the documentation: https://pandas.pydata.org/pandas-docs/stable/user_guide/indexing.html#returning-a-view-versus-a-copy\n",
      "  df_ops['campaign'] = new_campaign\n",
      "/tmp/ipykernel_1237285/169188010.py:48: FutureWarning: The frame.append method is deprecated and will be removed from pandas in a future version. Use pandas.concat instead.\n",
      "  df = df.append(df_ops[['tweetid', 'userid',\n"
     ]
    },
    {
     "name": "stdout",
     "output_type": "stream",
     "text": [
      "21427154\n"
     ]
    }
   ],
   "source": [
    "filename = 'all_external_replies_campaign.pkl.gz'\n",
    "filename_control = 'all_external_replies_control_campaign.pkl.gz'\n",
    "\n",
    "\n",
    "ops_path = os.path.join(derived_path, filename)\n",
    "\n",
    "combine_all_replies(all_campaigns, \n",
    "                    derived_path, \n",
    "                    'ops', \n",
    "                    filename,\n",
    "                    True,\n",
    "                    None\n",
    "                   )"
   ]
  },
  {
   "cell_type": "markdown",
   "id": "906c85fc-f2bf-417b-bc76-38e2dd3210b3",
   "metadata": {
    "tags": []
   },
   "source": [
    "##### **Get count of how many IO accounts replied to each poster**\n",
    "    **Get count of replies each tweet got**"
   ]
  },
  {
   "cell_type": "code",
   "execution_count": 12,
   "id": "a08e77ce-216c-4088-91c8-51b7174ce849",
   "metadata": {},
   "outputs": [],
   "source": [
    "def plot_histogram(df, path, column, xlabel, ylabel):\n",
    "    fig, ax = plt.subplots()\n",
    "    num_bins = max(df[column])\n",
    "\n",
    "    n = ax.hist(df[column],\n",
    "                num_bins, )\n",
    "    ax.set_xlabel(xlabel)\n",
    "    ax.set_ylabel(ylabel)\n",
    "\n",
    "    plt.yscale('log')\n",
    "    plt.xscale('log')\n",
    "    \n",
    "    fig.savefig(path,\n",
    "                facecolor='white', \n",
    "                transparent=False)\n",
    "    plt.show()\n",
    "    \n",
    "    \n",
    "def test(df, filename, \n",
    "         type_of='ops'):\n",
    "    '''\n",
    "    Get count of how many IO accounts replied to each poster\n",
    "    Get count of replies each tweet got\n",
    "    \n",
    "    :param df: Dataframe\n",
    "    :param filename: name of file to saved (information about 5 or more replies)\n",
    "    :param type_of: type of data to consider for the count either ops or\n",
    "    control\n",
    "    '''\n",
    "    ### How many replies each poster got\n",
    "    df_grps = (df.groupby(['year', 'campaign', \n",
    "                        'poster_userid'])['replier_userid']\n",
    "                          .nunique()\n",
    "                          .to_frame('count_replies')\n",
    "                          .reset_index())\n",
    "\n",
    "    df_grps = df_grps.loc[df_grps['count_replies'] > 1]\n",
    "    \n",
    "    \n",
    "    print('Min: Number of unique IO accounts replying to each poster in each campaign :', \n",
    "          min(df_grps['count_replies']))\n",
    "    print('Max: Number of unique IO accounts replying to each poster in each campaign :', \n",
    "          max(df_grps['count_replies']))\n",
    "    \n",
    "    xlabel = 'Number of unique IO accounts replying to each poster'\n",
    "    ylabel = 'Frequency of IO accounts'\n",
    "    \n",
    "    file_path = os.path.join(reply_plot_path, \n",
    "                        f'all_{type_of}_unique_IO_accounts_replying_to_each_poster.png')\n",
    "                        \n",
    "    plot_histogram(df_grps, file_path,\n",
    "                   'count_replies',\n",
    "                   xlabel, ylabel)\n",
    "    \n",
    "    #Number of posters that got 5 or more replies in each campaign\n",
    "    \n",
    "    df_grps_user_size = df_grps.loc[df_grps['count_replies'] >= 5]\n",
    "\n",
    "    df_grps_user_size = (df_grps_user_size.groupby(['year', 'campaign'])['poster_userid']\n",
    "                          .size()\n",
    "                          .to_frame('poster_count_that_got_5_or_more_replies')\n",
    "                          .reset_index())\n",
    "    \n",
    "    df_grps_user_size.to_pickle(filename)\n",
    "        # 'each_campaign_count_of_reply_data.pkl.gz')\n",
    "        \n",
    "    print('Min number of posters that got reply from 5 or more IO accounts in each campaign :', \n",
    "          min(df_grps_user_size['poster_count_that_got_5_or_more_replies']))\n",
    "    print('Max number of posters that got reply from 5 or more IO accounts in each campaign :', \n",
    "          max(df_grps_user_size['poster_count_that_got_5_or_more_replies']))\n",
    "    \n",
    "    #How many replies each tweet got from IO accounts\n",
    "    df_grps_tweet = (df.groupby(['year', 'campaign', 'poster_tweetid',\n",
    "                    'poster_userid'])['replier_userid']\n",
    "                      .nunique()\n",
    "                      .to_frame('count_replies')\n",
    "                      .reset_index())\n",
    "    \n",
    "    xlabel = 'Number of replies each tweet got'\n",
    "    ylabel = 'Frequency of tweets'\n",
    "    file_path = os.path.join(reply_plot_path, \n",
    "                        f'all_{type_of}_replies_each_tweet_got.png')\n",
    "    \n",
    "    plot_histogram(df_grps_tweet,\n",
    "                   file_path,\n",
    "                   'count_replies',\n",
    "                   xlabel, ylabel)"
   ]
  },
  {
   "cell_type": "code",
   "execution_count": 13,
   "id": "8674af9e-3498-46aa-b568-b1840b0fedec",
   "metadata": {},
   "outputs": [],
   "source": [
    "def number_of_tweets_per_poster(df, file_path, type_of='ops'):\n",
    "    '''\n",
    "    Gets number of tweets per poster\n",
    "    :param df: Dataframe\n",
    "    :param file_path: path to save the file\n",
    "    :param type_of: type of file\n",
    "    '''\n",
    "    df_grps_tweet = (df.groupby(['year', 'campaign',\n",
    "                                 'poster_userid'])['poster_tweetid']\n",
    "                      .nunique()\n",
    "                      .to_frame('count_replies')\n",
    "                      .reset_index())\n",
    "    \n",
    "    xlabel = 'Number of tweets from each poster'\n",
    "    ylabel = 'Frequency of poster'\n",
    "    file_path = os.path.join(file_path, \n",
    "                        f'all_{type_of}_tweets_from_each_poster.png')\n",
    "    \n",
    "    plot_histogram(df_grps_tweet,\n",
    "                   file_path,\n",
    "                   'count_replies',\n",
    "                   xlabel, ylabel)"
   ]
  },
  {
   "cell_type": "code",
   "execution_count": 26,
   "id": "b346e343-265c-49c2-b455-7c32b979bff7",
   "metadata": {},
   "outputs": [],
   "source": [
    "def poster_each_io(df, file_path, type_of='ops'):\n",
    "    '''\n",
    "    Number of poster than IO accounts are replying to\n",
    "    :param df: DataFrame\n",
    "    :param file_path: path where plot to be saved\n",
    "    :param type_of: type of file\n",
    "    '''\n",
    "    df_grps = (df.groupby(['year', 'campaign', 'replier_userid'])['poster_userid']\n",
    "                          .nunique()\n",
    "                          .to_frame('count_replies')\n",
    "                          .reset_index())\n",
    "    \n",
    "    xlabel = 'Number of poster each IO account replied to'\n",
    "    ylabel = 'Frequency of IO accounts'\n",
    "    file_path = os.path.join(file_path, \n",
    "                        f'all_{type_of}_poster_each_io.png')\n",
    "    \n",
    "    # plot_histogram(df_grps,\n",
    "    #                file_path,\n",
    "    #                'count_replies',\n",
    "    #                xlabel, ylabel)\n",
    "    \n",
    "    df_10 = df_grps.loc[df_grps['count_replies'] >= 10]\n",
    "    \n",
    "    print('IO accounts replied to more than or equal to 10 posters in all campaign :',\n",
    "          len(df_10['count_replies']))"
   ]
  },
  {
   "cell_type": "code",
   "execution_count": 15,
   "id": "724357da-c722-4d22-9a98-efb73c549f66",
   "metadata": {},
   "outputs": [],
   "source": [
    "def replies_each_poster_each_io(df, file_path, type_of='ops'):\n",
    "    '''\n",
    "    Number of replies each poster got from each IO accounts\n",
    "    \n",
    "    :param df: Dataframe\n",
    "    :param file_path: Path where plot is to be saved\n",
    "    :param type_of: type of data\n",
    "    '''\n",
    "    df_grps = (df.groupby(['year', 'campaign', 'replier_userid',\n",
    "                           'poster_userid', \n",
    "                          ])['poster_tweetid']\n",
    "                          .nunique()\n",
    "                          .to_frame('count_replies')\n",
    "                          .reset_index())\n",
    "    xlabel = 'Number of replies each poster got from each IO account'\n",
    "    ylabel = 'Frequency IO and poster pair'\n",
    "    file_path = os.path.join(file_path, \n",
    "                        f'all_{type_of}_poster_io_pair.png')\n",
    "    \n",
    "    plot_histogram(df_grps,\n",
    "                   file_path,\n",
    "                   'count_replies',\n",
    "                   xlabel, ylabel)\n",
    "    \n",
    "    df_10 = df_grps.loc[df_grps['count_replies'] >= 10]\n",
    "    \n",
    "    print('Number of io account and poster pair that got more than 10 replies:',\n",
    "          len(df_10))"
   ]
  },
  {
   "cell_type": "code",
   "execution_count": 16,
   "id": "8a685cf9-7dd8-4666-a20b-c2ae00af9dd1",
   "metadata": {},
   "outputs": [],
   "source": [
    "filename = 'all_replies_campaign.pkl.gz'\n",
    "filename_control = 'all_replies_control_campaign.pkl.gz'\n",
    "\n",
    "\n",
    "ops_path = os.path.join(derived_path, filename)\n",
    "control_path = os.path.join(derived_path, filename_control)"
   ]
  },
  {
   "cell_type": "code",
   "execution_count": null,
   "id": "91e56fe7-25c5-4c52-8e9e-4b9df65fb212",
   "metadata": {},
   "outputs": [],
   "source": [
    "### For IO"
   ]
  },
  {
   "cell_type": "code",
   "execution_count": 17,
   "id": "83ee5513-80c3-4754-a846-14bd43e52a1b",
   "metadata": {},
   "outputs": [],
   "source": [
    "filename = 'all_external_replies_campaign.pkl.gz'\n",
    "ops_path = os.path.join(derived_path, filename)\n",
    "\n",
    "df_ops = pd.read_pickle(ops_path)"
   ]
  },
  {
   "cell_type": "code",
   "execution_count": 18,
   "id": "be9a0b13-0cc8-4fb8-adea-743e0fd03fc7",
   "metadata": {},
   "outputs": [
    {
     "name": "stdout",
     "output_type": "stream",
     "text": [
      "Min: Number of unique IO accounts replying to each poster in each campaign : 2\n",
      "Max: Number of unique IO accounts replying to each poster in each campaign : 3438\n"
     ]
    },
    {
     "data": {
      "image/png": "[encoded data removed]",
      "text/plain": [
       "<Figure size 640x480 with 1 Axes>"
      ]
     },
     "metadata": {},
     "output_type": "display_data"
    },
    {
     "name": "stdout",
     "output_type": "stream",
     "text": [
      "Min number of posters that got reply from 5 or more IO accounts in each campaign : 1\n",
      "Max number of posters that got reply from 5 or more IO accounts in each campaign : 25291\n"
     ]
    },
    {
     "data": {
      "image/png": "[encoded data removed]",
      "text/plain": [
       "<Figure size 640x480 with 1 Axes>"
      ]
     },
     "metadata": {},
     "output_type": "display_data"
    }
   ],
   "source": [
    "reply_info = os.path.join(derived_path, \n",
    "                          'ops_reply_info.pkl.gz')\n",
    "test(df_ops, reply_info)"
   ]
  },
  {
   "cell_type": "code",
   "execution_count": 19,
   "id": "9ff964bb-9d7c-4e10-a2c2-9959b1cd824b",
   "metadata": {},
   "outputs": [
    {
     "data": {
      "image/png": "[encoded data removed]",
      "text/plain": [
       "<Figure size 640x480 with 1 Axes>"
      ]
     },
     "metadata": {},
     "output_type": "display_data"
    }
   ],
   "source": [
    "number_of_tweets_per_poster(df_ops, reply_plot_path)"
   ]
  },
  {
   "cell_type": "code",
   "execution_count": 27,
   "id": "5f995bec-3596-4120-b292-a3ff4a436138",
   "metadata": {},
   "outputs": [
    {
     "name": "stdout",
     "output_type": "stream",
     "text": [
      "IO accounts replied to more than or equal to 10 posters in all campaign : 18424\n"
     ]
    }
   ],
   "source": [
    "poster_each_io(df_ops, reply_plot_path)"
   ]
  },
  {
   "cell_type": "code",
   "execution_count": 21,
   "id": "a28138c2-63fb-47f6-8465-06cd970989f0",
   "metadata": {},
   "outputs": [
    {
     "data": {
      "image/png": "[encoded data removed]",
      "text/plain": [
       "<Figure size 640x480 with 1 Axes>"
      ]
     },
     "metadata": {},
     "output_type": "display_data"
    },
    {
     "name": "stdout",
     "output_type": "stream",
     "text": [
      "Number of io account and poster pair that got more than 10 replies: 254102\n"
     ]
    }
   ],
   "source": [
    "replies_each_poster_each_io(df_ops, reply_plot_path)"
   ]
  },
  {
   "cell_type": "markdown",
   "id": "e0137da1-8ca3-4988-ae74-3f6d772f3854",
   "metadata": {
    "jp-MarkdownHeadingCollapsed": true,
    "tags": []
   },
   "source": [
    "### **All campaign information for all reply**"
   ]
  },
  {
   "cell_type": "code",
   "execution_count": 22,
   "id": "0fe41cf9-dc49-467c-96b4-977497d59a01",
   "metadata": {},
   "outputs": [
    {
     "data": {
      "text/html": [
       "<div>\n",
       "<style scoped>\n",
       "    .dataframe tbody tr th:only-of-type {\n",
       "        vertical-align: middle;\n",
       "    }\n",
       "\n",
       "    .dataframe tbody tr th {\n",
       "        vertical-align: top;\n",
       "    }\n",
       "\n",
       "    .dataframe thead th {\n",
       "        text-align: right;\n",
       "    }\n",
       "</style>\n",
       "<table border=\"1\" class=\"dataframe\">\n",
       "  <thead>\n",
       "    <tr style=\"text-align: right;\">\n",
       "      <th></th>\n",
       "      <th>year</th>\n",
       "      <th>campaign</th>\n",
       "      <th>poster_count_that_got_5_or_more_replies</th>\n",
       "    </tr>\n",
       "  </thead>\n",
       "  <tbody>\n",
       "    <tr>\n",
       "      <th>0</th>\n",
       "      <td>2018_10</td>\n",
       "      <td>ira</td>\n",
       "      <td>970</td>\n",
       "    </tr>\n",
       "    <tr>\n",
       "      <th>1</th>\n",
       "      <td>2018_10</td>\n",
       "      <td>iranian</td>\n",
       "      <td>330</td>\n",
       "    </tr>\n",
       "    <tr>\n",
       "      <th>2</th>\n",
       "      <td>2019_01</td>\n",
       "      <td>iran_201901_1</td>\n",
       "      <td>2131</td>\n",
       "    </tr>\n",
       "    <tr>\n",
       "      <th>3</th>\n",
       "      <td>2019_01</td>\n",
       "      <td>russia_201901_1</td>\n",
       "      <td>92</td>\n",
       "    </tr>\n",
       "    <tr>\n",
       "      <th>4</th>\n",
       "      <td>2019_01</td>\n",
       "      <td>venezuela_201901</td>\n",
       "      <td>960</td>\n",
       "    </tr>\n",
       "  </tbody>\n",
       "</table>\n",
       "</div>"
      ],
      "text/plain": [
       "      year          campaign  poster_count_that_got_5_or_more_replies\n",
       "0  2018_10               ira                                      970\n",
       "1  2018_10           iranian                                      330\n",
       "2  2019_01     iran_201901_1                                     2131\n",
       "3  2019_01   russia_201901_1                                       92\n",
       "4  2019_01  venezuela_201901                                      960"
      ]
     },
     "execution_count": 22,
     "metadata": {},
     "output_type": "execute_result"
    }
   ],
   "source": [
    "reply_info = os.path.join(derived_path, \n",
    "                          'ops_reply_info.pkl.gz')\n",
    "\n",
    "\n",
    "df_ops_info = pd.read_pickle(reply_info)\n",
    "\n",
    "df_ops_info.head()"
   ]
  },
  {
   "cell_type": "markdown",
   "id": "2425be40-7057-474b-a079-9f1bbfefe0b5",
   "metadata": {
    "jp-MarkdownHeadingCollapsed": true,
    "tags": []
   },
   "source": [
    "### **Checking for control**"
   ]
  },
  {
   "cell_type": "code",
   "execution_count": 64,
   "id": "50c1856c-da1d-405c-83fc-8cf98d42c72a",
   "metadata": {},
   "outputs": [],
   "source": [
    "def all_replies_control():\n",
    "    all_campaigns, names = st.bundle_campaign()\n",
    "    df = pd.DataFrame()\n",
    "    for row in all_campaigns:\n",
    "        for year in row:\n",
    "            for new_campaign in row[year]:\n",
    "\n",
    "                print(f'\\n ------START: {year}: {new_campaign} ------- \\n')\n",
    "\n",
    "                ops_file_path = os.path.join(all_tweet_data, \n",
    "                                             year, \n",
    "                                             new_campaign, \n",
    "                                             f'{new_campaign}_tweets.pkl.gz')\n",
    "                control_file_path = os.path.join(all_tweet_data, \n",
    "                                     year, \n",
    "                                     new_campaign, \n",
    "                                     'DriversControl', \n",
    "                                f'{new_campaign}_control.pkl.gz')\n",
    "\n",
    "                data = st.read_ops_control_data(ops_file_path, \n",
    "                                             control_file_path, \n",
    "                                             ['control'])\n",
    "                df_test = data['control']\n",
    "\n",
    "                if len(df_test) == 0:\n",
    "                    control_file_path = os.path.join(all_tweet_data, \n",
    "                                                     year, \n",
    "                                                     new_campaign, \n",
    "                                                     'DriversControl', \n",
    "                                                     f'{new_campaign}_control.pkl.gz')\n",
    "                    df_test = st.read_ops_control_data(ops_file_path, \n",
    "                                             control_file_path, \n",
    "                                             ['control'])['control']\n",
    "\n",
    "                    if len(df_test) == 0:\n",
    "                        print(f'\\n ------END: {year}: {new_campaign} ------- \\n')\n",
    "                        continue\n",
    "\n",
    "                if 'in_reply_to_tweetid' not in df_test.columns:\n",
    "                    continue\n",
    "\n",
    "                df_ops = df_test.loc[~df_test['in_reply_to_tweetid'].isnull()]\n",
    "                df_ops['year'] = year\n",
    "                df_ops['campaign'] = new_campaign\n",
    "\n",
    "                df = df.append(df_ops[['tweetid', 'userid',\n",
    "                           'in_reply_to_tweetid', 'in_reply_to_userid',\n",
    "                           'tweet_time', 'year', 'campaign']], \n",
    "                          ignore_index=True)\n",
    "\n",
    "                print(len(df))\n",
    "\n",
    "\n",
    "    df.rename(columns={'tweetid': 'replier_tweetid',\n",
    "                            'userid': 'replier_userid',\n",
    "                            'in_reply_to_tweetid': 'poster_tweetid',\n",
    "                            'in_reply_to_userid': 'poster_userid',\n",
    "                            'created_at': 'tweet_time',\n",
    "                            'year': 'year',\n",
    "                            'campaign': 'campaign'\n",
    "                           },\n",
    "                   inplace=True)\n",
    "\n",
    "    df.to_pickle('all_replies_control_campaign.pkl.gz')"
   ]
  },
  {
   "cell_type": "code",
   "execution_count": 65,
   "id": "2d2822b5-ffe1-4433-9865-f490d91195ce",
   "metadata": {},
   "outputs": [],
   "source": [
    "filename_control = 'all_replies_control_campaign.pkl.gz'\n",
    "\n",
    "\n",
    "ops_path = os.path.join(derived_path, filename)\n",
    "control_path = os.path.join(derived_path, filename_control)\n",
    "\n",
    "# combine_all_replies(all_campaigns, \n",
    "#                     derived_path, \n",
    "#                     'control', \n",
    "#                     filename_control)\n",
    "\n",
    "df_control = pd.read_pickle(control_path)"
   ]
  }
 ],
 "metadata": {
  "kernelspec": {
   "display_name": "Python 3 (ipykernel)",
   "language": "python",
   "name": "python3"
  },
  "language_info": {
   "codemirror_mode": {
    "name": "ipython",
    "version": 3
   },
   "file_extension": ".py",
   "mimetype": "text/x-python",
   "name": "python",
   "nbconvert_exporter": "python",
   "pygments_lexer": "ipython3",
   "version": "3.9.1"
  }
 },
 "nbformat": 4,
 "nbformat_minor": 5
}
