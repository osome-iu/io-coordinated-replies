{
 "cells": [
  {
   "cell_type": "markdown",
   "id": "e20840f0-e6d2-4201-a45e-c0a2e138619d",
   "metadata": {},
   "source": [
    "##### **This notebook manually verifies whether there is coordinated reply**"
   ]
  },
  {
   "cell_type": "code",
   "execution_count": 42,
   "id": "2ae4ebc1-b668-43c3-8a34-931e8751ecce",
   "metadata": {},
   "outputs": [],
   "source": [
    "import pandas as pd\n",
    "import numpy as np\n",
    "import datetime\n",
    "import warnings\n",
    "import glob\n",
    "import seaborn as sns\n",
    "import matplotlib.pyplot as plt\n",
    "import matplotlib.colors as pltc\n",
    "from tqdm import tqdm\n",
    "import sys\n",
    "import os\n",
    "\n",
    "import importlib\n",
    "\n",
    "#### packages\n",
    "import helper.strategy_helper as st\n",
    "import helper.visualization as vz\n",
    "import helper.helper as hp\n",
    "import helper.file_helper as file_hp\n",
    "import config.config as config\n",
    "import helper.pandas_helper as pd_hp"
   ]
  },
  {
   "cell_type": "markdown",
   "id": "b7510e71-352f-436f-834e-4978f94d9deb",
   "metadata": {
    "jp-MarkdownHeadingCollapsed": true,
    "tags": []
   },
   "source": [
    "##### **Configuration files**"
   ]
  },
  {
   "cell_type": "code",
   "execution_count": 43,
   "id": "07fe5596-670f-4404-89aa-cd1ea1a4b9f7",
   "metadata": {},
   "outputs": [],
   "source": [
    "config = config.config()\n",
    "path = config['PATHS']\n",
    "\n",
    "derived_path = path['derived_path']\n",
    "all_tweet_data = path['all_tweet_data']\n",
    "plot_path = path['plot_path']\n",
    "external_reply = path['external_reply']\n",
    "\n",
    "\n",
    "file_hp.create_folder(plot_path, 'reply_count')\n",
    "reply_path = os.path.join(plot_path, 'reply_count')"
   ]
  },
  {
   "cell_type": "markdown",
   "id": "3f66ecd2-6646-41f5-b93b-3e820a6f8a4f",
   "metadata": {
    "jp-MarkdownHeadingCollapsed": true,
    "tags": []
   },
   "source": [
    "##### **Bundle for all Campaign**"
   ]
  },
  {
   "cell_type": "code",
   "execution_count": 3,
   "id": "b6ccd14b-18f1-4a53-934c-9270b99d6493",
   "metadata": {},
   "outputs": [],
   "source": [
    "all_campaigns, names = st.bundle_campaign()"
   ]
  },
  {
   "cell_type": "markdown",
   "id": "83af4d55-6865-47ad-bfe5-e5f7601666bd",
   "metadata": {
    "jp-MarkdownHeadingCollapsed": true,
    "tags": []
   },
   "source": [
    "##### **Test campaign**"
   ]
  },
  {
   "cell_type": "code",
   "execution_count": 4,
   "id": "d25f2989-3dc8-46b9-8ec3-ca8aecc2b903",
   "metadata": {},
   "outputs": [],
   "source": [
    "year = '2020_12'\n",
    "campaign = 'iran_202012'\n",
    "type_of = 'ops'\n",
    "\n",
    "data_path = st.get_data_path(all_tweet_data, \n",
    "                                 year, \n",
    "                                 campaign)\n",
    "\n",
    "df_iran = st.read_ops_control_data(data_path['ops'],\n",
    "                                data_path['control'], \n",
    "                             [type_of])['ops']"
   ]
  },
  {
   "cell_type": "code",
   "execution_count": 5,
   "id": "ca4eaf2b-957d-4d63-b33b-bda0ca1ae4f6",
   "metadata": {},
   "outputs": [],
   "source": [
    "df_grps = (df_iran.groupby(['in_reply_to_userid',\n",
    "                            'in_reply_to_tweetid'])['userid'].nunique()\n",
    "                              # .size()\n",
    "                              .to_frame('count_replies')\n",
    "                              .reset_index())"
   ]
  },
  {
   "cell_type": "code",
   "execution_count": 6,
   "id": "12b6641c-0d47-41ef-87fe-f5960dcca409",
   "metadata": {},
   "outputs": [
    {
     "data": {
      "text/plain": [
       "23"
      ]
     },
     "execution_count": 6,
     "metadata": {},
     "output_type": "execute_result"
    }
   ],
   "source": [
    "len(df_grps.loc[df_grps['count_replies'] >= 5])"
   ]
  },
  {
   "cell_type": "code",
   "execution_count": 7,
   "id": "a1f2b3d1-398d-4f5d-9c88-868d56897ea7",
   "metadata": {},
   "outputs": [],
   "source": [
    "df_grps_userid = (df_iran.groupby(['in_reply_to_userid',\n",
    "                                       'userid'\n",
    "                                      ])['in_reply_to_tweetid'].nunique()\n",
    "                              # .size()\n",
    "                              .to_frame('count_replies')\n",
    "                              .reset_index())"
   ]
  },
  {
   "cell_type": "code",
   "execution_count": 8,
   "id": "7d9067a3-8e8d-4280-a505-76071fda2a29",
   "metadata": {},
   "outputs": [
    {
     "data": {
      "text/html": [
       "<div>\n",
       "<style scoped>\n",
       "    .dataframe tbody tr th:only-of-type {\n",
       "        vertical-align: middle;\n",
       "    }\n",
       "\n",
       "    .dataframe tbody tr th {\n",
       "        vertical-align: top;\n",
       "    }\n",
       "\n",
       "    .dataframe thead th {\n",
       "        text-align: right;\n",
       "    }\n",
       "</style>\n",
       "<table border=\"1\" class=\"dataframe\">\n",
       "  <thead>\n",
       "    <tr style=\"text-align: right;\">\n",
       "      <th></th>\n",
       "      <th>in_reply_to_userid</th>\n",
       "      <th>userid</th>\n",
       "      <th>count_replies</th>\n",
       "    </tr>\n",
       "  </thead>\n",
       "  <tbody>\n",
       "    <tr>\n",
       "      <th>16308</th>\n",
       "      <td>8.847826e+17</td>\n",
       "      <td>884782586328776709</td>\n",
       "      <td>1673</td>\n",
       "    </tr>\n",
       "    <tr>\n",
       "      <th>24334</th>\n",
       "      <td>1.169137e+18</td>\n",
       "      <td>1169137349508382720</td>\n",
       "      <td>1662</td>\n",
       "    </tr>\n",
       "  </tbody>\n",
       "</table>\n",
       "</div>"
      ],
      "text/plain": [
       "       in_reply_to_userid               userid  count_replies\n",
       "16308        8.847826e+17   884782586328776709           1673\n",
       "24334        1.169137e+18  1169137349508382720           1662"
      ]
     },
     "execution_count": 8,
     "metadata": {},
     "output_type": "execute_result"
    }
   ],
   "source": [
    "(df_grps_userid.loc[df_grps_userid['count_replies'] >= 5]\n",
    " .sort_values(by=['count_replies'],\n",
    "              ascending=False)\n",
    ").head(2)"
   ]
  },
  {
   "cell_type": "markdown",
   "id": "96da00c2-508c-4c8f-bd1d-6d4470b85039",
   "metadata": {
    "tags": []
   },
   "source": [
    "##### **All campaigns considered**"
   ]
  },
  {
   "cell_type": "code",
   "execution_count": 9,
   "id": "03a94a4d-52d5-4674-9610-0d3b40d916aa",
   "metadata": {},
   "outputs": [],
   "source": [
    "def plot_histogram(df, xlabel, ylabel,\n",
    "                   plot_path, title\n",
    "                  ):\n",
    "    fig, ax = plt.subplots()\n",
    "    num_bins = max(df['count_replies'])\n",
    "\n",
    "    n = ax.hist(df['count_replies'],\n",
    "                               num_bins, )\n",
    "    ax.set_xlabel(xlabel)\n",
    "    ax.set_ylabel(ylabel)\n",
    "\n",
    "    plt.yscale('log')\n",
    "    plt.title(title)\n",
    "    plt.xscale('log')\n",
    "    fig.savefig(f'{plot_path}/{title}', \n",
    "              facecolor='white', \n",
    "              transparent=False)\n",
    "    plt.show()"
   ]
  },
  {
   "cell_type": "code",
   "execution_count": 11,
   "id": "cf5c127f-e363-4ec4-9820-9c7235737cbf",
   "metadata": {
    "tags": []
   },
   "outputs": [],
   "source": [
    "def test_count(path, external=True,\n",
    "               threshold = 10):\n",
    "    type_of = 'ops'\n",
    "    info =[]\n",
    "\n",
    "    for row in all_campaigns:\n",
    "        for year in row:\n",
    "            for new_campaign in row[year]:\n",
    "\n",
    "                print(f'\\n ------START: {year}: {new_campaign} ------- \\n')\n",
    "\n",
    "                data_path = st.get_data_path(all_tweet_data, year, \n",
    "                                     new_campaign)\n",
    "\n",
    "                data = st.read_ops_control_data(data_path['ops'],\n",
    "                                                data_path['control'], \n",
    "                                             [type_of])\n",
    "                df_w = data[type_of]\n",
    "\n",
    "                if 'tweet_language' not in df_w.columns:\n",
    "                    continue\n",
    "\n",
    "                # df_test = df_w.loc[df_w['tweet_language'] == 'en']\n",
    "                df_test = df_w\n",
    "                \n",
    "                df = df_test.loc[~df_test['in_reply_to_tweetid'].isnull()]\n",
    "                \n",
    "                if external == True:\n",
    "                    df = st.reply_to_external_users(df)\n",
    "\n",
    "                # print('Eng lang replies ', len(df))\n",
    "                \n",
    "                df_grps = (df.groupby([\n",
    "                    # 'in_reply_to_userid',\n",
    "                                       'in_reply_to_tweetid'\n",
    "                                      ])['userid']\n",
    "                              .nunique()\n",
    "                              .to_frame('count_replies')\n",
    "                              .reset_index())\n",
    "                \n",
    "                df_grps_size = df_grps.loc[df_grps['count_replies'] >= threshold]\n",
    "                total = len(df_grps_size)\n",
    "                \n",
    "                print(f'Greater than equal to {threshold} :', \n",
    "                      total)\n",
    "                \n",
    "                if total == 0:\n",
    "                    min_val = 0\n",
    "                    max_val = 0\n",
    "                else:\n",
    "                    min_val = min(df_grps_size['count_replies'])\n",
    "                    max_val = max(df_grps_size['count_replies'])\n",
    "\n",
    "                info.append([year,\n",
    "                             new_campaign,\n",
    "                             total,\n",
    "                             min_val,\n",
    "                             max_val\n",
    "                            ])\n",
    "                \n",
    "                if len(df_grps_size) == 0:\n",
    "                    continue\n",
    "\n",
    "                xlabel = 'Number of users replying to each tweet'\n",
    "                ylabel = 'Raw count of tweets'\n",
    "\n",
    "                print('Min no. of reply ', \n",
    "                      min(df_grps_size['count_replies']))\n",
    "                print('Max no. of reply ', \n",
    "                      max(df_grps_size['count_replies']))\n",
    "\n",
    "    (pd.DataFrame(data=info,\n",
    "                  columns=['year', 'campaign', \n",
    "                           f'total_number_of_tweet_with_{threshold}_or_more_replies', \n",
    "                           'min','max']\n",
    "                 )\n",
    "     .to_csv(f'{path}')\n",
    "    )"
   ]
  },
  {
   "cell_type": "markdown",
   "id": "8fd5aaff-89cf-40e6-8c3e-d0495b2f6268",
   "metadata": {
    "tags": []
   },
   "source": [
    "#### **Number of tweets with 5 or more replies in english: 1977**\n",
    "#### **Number of tweets with 10 or more replies in english: 351**"
   ]
  },
  {
   "cell_type": "code",
   "execution_count": 14,
   "id": "69025788-44de-4771-a27c-9d1bc5633255",
   "metadata": {},
   "outputs": [],
   "source": [
    "filename = 'replies_5_english_tweet_level_reply_info.csv'\n",
    "filename ='5_tweet_level_reply_info.csv'\n",
    "\n",
    "# test_count(filename, \n",
    "#            external=True, \n",
    "#            threshold = 5)"
   ]
  },
  {
   "cell_type": "code",
   "execution_count": 16,
   "id": "b5c1f4a4-aa5b-4532-8379-feb499ec50c3",
   "metadata": {},
   "outputs": [
    {
     "name": "stdout",
     "output_type": "stream",
     "text": [
      "Number of tweets with 5 or more replies : 94630\n"
     ]
    }
   ],
   "source": [
    "df_5 = pd.read_csv(filename)\n",
    "\n",
    "print('Number of tweets with 5 or more replies :',\n",
    "      df_5['total_number_of_tweet_with_5_or_more_replies'].sum())"
   ]
  },
  {
   "cell_type": "markdown",
   "id": "a3087871-e56d-450b-88e4-42999396bc7e",
   "metadata": {
    "tags": []
   },
   "source": [
    "##### **10 or more replies**"
   ]
  },
  {
   "cell_type": "code",
   "execution_count": 20,
   "id": "ef45d7e6-e74f-4fb6-b5ba-09f3b15434db",
   "metadata": {},
   "outputs": [],
   "source": [
    "filename ='10_or_more_replies_external_info.csv'\n",
    "\n",
    "# test_count(filename, \n",
    "#            external=True, \n",
    "#            threshold = 10)"
   ]
  },
  {
   "cell_type": "code",
   "execution_count": 23,
   "id": "280fdfbe-4574-459c-9d48-6f59f2b5c161",
   "metadata": {},
   "outputs": [
    {
     "name": "stdout",
     "output_type": "stream",
     "text": [
      "Number of tweets with 10 or more replies : 30816\n"
     ]
    }
   ],
   "source": [
    "df_10 = pd.read_csv(filename)\n",
    "\n",
    "print('Number of tweets with 10 or more replies :',\n",
    "      df_10['total_number_of_tweet_with_10_or_more_replies'].sum())"
   ]
  },
  {
   "cell_type": "markdown",
   "id": "f4b2b47a-cd1c-435c-9d2d-ee2cc8945985",
   "metadata": {
    "jp-MarkdownHeadingCollapsed": true,
    "tags": []
   },
   "source": [
    "#### **Testing the time period of between consequtive replies**"
   ]
  },
  {
   "cell_type": "code",
   "execution_count": 24,
   "id": "4d4f2f7c-121f-474a-9170-91f9786ef16e",
   "metadata": {},
   "outputs": [
    {
     "name": "stderr",
     "output_type": "stream",
     "text": [
      "/tmp/ipykernel_563702/69407271.py:1: DeprecationWarning: the imp module is deprecated in favour of importlib; see the module's documentation for alternative uses\n",
      "  import imp\n"
     ]
    }
   ],
   "source": [
    "import imp\n",
    "\n",
    "imp.reload(st)\n",
    "\n",
    "df_replies = pd.read_pickle(external_reply)"
   ]
  },
  {
   "cell_type": "code",
   "execution_count": 25,
   "id": "e4debdf0-be45-4a7f-bd74-5e6d2d790557",
   "metadata": {},
   "outputs": [
    {
     "data": {
      "text/plain": [
       "Index(['replier_tweetid', 'replier_userid', 'poster_tweetid', 'poster_userid',\n",
       "       'tweet_language', 'tweet_time', 'year', 'campaign'],\n",
       "      dtype='object')"
      ]
     },
     "execution_count": 25,
     "metadata": {},
     "output_type": "execute_result"
    }
   ],
   "source": [
    "df_replies.columns"
   ]
  },
  {
   "cell_type": "code",
   "execution_count": 37,
   "id": "7e40e720-0bdf-4c20-9ae9-6323a2a4c6f6",
   "metadata": {},
   "outputs": [],
   "source": [
    "df_replies = df_replies.drop_duplicates()\n",
    "\n",
    "df_count = (df_replies.groupby(['poster_tweetid'])['replier_userid']\n",
    "             .nunique()\n",
    "             .to_frame('replier_count')\n",
    "             .reset_index()\n",
    "            )"
   ]
  },
  {
   "cell_type": "code",
   "execution_count": 38,
   "id": "774c2d8a-deb7-4488-97d5-f989cf4bc6cb",
   "metadata": {},
   "outputs": [],
   "source": [
    "df_count_5 = df_count.loc[df_count['replier_count'] >= 5]"
   ]
  },
  {
   "cell_type": "code",
   "execution_count": 39,
   "id": "1cd90ca2-138f-4087-80cc-b6d3e3e97e2e",
   "metadata": {},
   "outputs": [
    {
     "name": "stdout",
     "output_type": "stream",
     "text": [
      "Total tweets with 5 or more replies:  96041\n"
     ]
    }
   ],
   "source": [
    "print('Total tweets with 5 or more replies: ', a\n",
    "      len(df_count_5))"
   ]
  },
  {
   "cell_type": "markdown",
   "id": "1e6ffac5-e143-458a-9c8c-f189c46195ac",
   "metadata": {
    "jp-MarkdownHeadingCollapsed": true,
    "tags": []
   },
   "source": [
    "##### **Saving the conversation ids with greater than equal to 5 replies**"
   ]
  },
  {
   "cell_type": "code",
   "execution_count": 47,
   "id": "121a7db4-9fea-4c0f-948f-d79ebb9794f1",
   "metadata": {},
   "outputs": [],
   "source": [
    "df_count_5 = df_count_5.astype({'poster_tweetid': int})"
   ]
  },
  {
   "cell_type": "code",
   "execution_count": 48,
   "id": "bc1194d7-ccfc-41e1-9991-f7b0ef0afef2",
   "metadata": {},
   "outputs": [
    {
     "data": {
      "text/html": [
       "<div>\n",
       "<style scoped>\n",
       "    .dataframe tbody tr th:only-of-type {\n",
       "        vertical-align: middle;\n",
       "    }\n",
       "\n",
       "    .dataframe tbody tr th {\n",
       "        vertical-align: top;\n",
       "    }\n",
       "\n",
       "    .dataframe thead th {\n",
       "        text-align: right;\n",
       "    }\n",
       "</style>\n",
       "<table border=\"1\" class=\"dataframe\">\n",
       "  <thead>\n",
       "    <tr style=\"text-align: right;\">\n",
       "      <th></th>\n",
       "      <th>poster_tweetid</th>\n",
       "      <th>replier_count</th>\n",
       "    </tr>\n",
       "  </thead>\n",
       "  <tbody>\n",
       "    <tr>\n",
       "      <th>189165</th>\n",
       "      <td>64953578015571968</td>\n",
       "      <td>7</td>\n",
       "    </tr>\n",
       "    <tr>\n",
       "      <th>319572</th>\n",
       "      <td>138715327608524800</td>\n",
       "      <td>7</td>\n",
       "    </tr>\n",
       "    <tr>\n",
       "      <th>398962</th>\n",
       "      <td>175649582045347840</td>\n",
       "      <td>8</td>\n",
       "    </tr>\n",
       "    <tr>\n",
       "      <th>400677</th>\n",
       "      <td>176283333385396224</td>\n",
       "      <td>5</td>\n",
       "    </tr>\n",
       "    <tr>\n",
       "      <th>403667</th>\n",
       "      <td>177373540574695424</td>\n",
       "      <td>5</td>\n",
       "    </tr>\n",
       "  </tbody>\n",
       "</table>\n",
       "</div>"
      ],
      "text/plain": [
       "            poster_tweetid  replier_count\n",
       "189165   64953578015571968              7\n",
       "319572  138715327608524800              7\n",
       "398962  175649582045347840              8\n",
       "400677  176283333385396224              5\n",
       "403667  177373540574695424              5"
      ]
     },
     "execution_count": 48,
     "metadata": {},
     "output_type": "execute_result"
    }
   ],
   "source": [
    "df_count_5.head()"
   ]
  },
  {
   "cell_type": "code",
   "execution_count": 57,
   "id": "c5cb1bf7-3be2-4717-887a-1e3b17340890",
   "metadata": {},
   "outputs": [],
   "source": [
    "conversation_path = path['conversation_path']\n",
    "rows = df_count_5['poster_tweetid']\n",
    "file_name = '5_or_more_replies_conversation.txt'\n",
    "\n",
    "file_hp.write_to_file_row_each_line(conversation_path, \n",
    "                            file_name, \n",
    "                            rows)"
   ]
  },
  {
   "cell_type": "code",
   "execution_count": 56,
   "id": "a978c2e4-edeb-47cc-a907-c8c096d362a9",
   "metadata": {},
   "outputs": [
    {
     "data": {
      "text/html": [
       "<div>\n",
       "<style scoped>\n",
       "    .dataframe tbody tr th:only-of-type {\n",
       "        vertical-align: middle;\n",
       "    }\n",
       "\n",
       "    .dataframe tbody tr th {\n",
       "        vertical-align: top;\n",
       "    }\n",
       "\n",
       "    .dataframe thead th {\n",
       "        text-align: right;\n",
       "    }\n",
       "</style>\n",
       "<table border=\"1\" class=\"dataframe\">\n",
       "  <thead>\n",
       "    <tr style=\"text-align: right;\">\n",
       "      <th></th>\n",
       "      <th>poster_tweetid</th>\n",
       "      <th>replier_count</th>\n",
       "    </tr>\n",
       "  </thead>\n",
       "  <tbody>\n",
       "  </tbody>\n",
       "</table>\n",
       "</div>"
      ],
      "text/plain": [
       "Empty DataFrame\n",
       "Columns: [poster_tweetid, replier_count]\n",
       "Index: []"
      ]
     },
     "execution_count": 56,
     "metadata": {},
     "output_type": "execute_result"
    }
   ],
   "source": [
    "df_count_5.loc[df_count_5['poster_tweetid'].isnull()]"
   ]
  },
  {
   "cell_type": "markdown",
   "id": "16468560-ca43-4d9c-bec1-25c328c0b503",
   "metadata": {
    "jp-MarkdownHeadingCollapsed": true,
    "tags": []
   },
   "source": [
    "##### **Time duration of replies**"
   ]
  },
  {
   "cell_type": "code",
   "execution_count": 77,
   "id": "24ae782d-5959-428b-93da-6eeeab18400c",
   "metadata": {},
   "outputs": [],
   "source": [
    "df_time = df_replies.loc[\n",
    "    df_replies['poster_tweetid'].isin(df_count_5['poster_tweetid'])]"
   ]
  },
  {
   "cell_type": "code",
   "execution_count": 78,
   "id": "706a0440-ab49-47c1-8c85-93ee94d0898f",
   "metadata": {},
   "outputs": [],
   "source": [
    "df_time = df_time.astype({\n",
    "    'poster_tweetid': int\n",
    "})\n",
    "\n",
    "df_time['tweet_time'] =  pd.to_datetime(df_time['tweet_time'])"
   ]
  },
  {
   "cell_type": "code",
   "execution_count": 79,
   "id": "8f2ccdf4-3474-4b95-8af4-c62ffa77fa40",
   "metadata": {},
   "outputs": [],
   "source": [
    "df_time = df_time.sort_values(by=['tweet_time'], \n",
    "                    ascending=True).drop_duplicates()"
   ]
  },
  {
   "cell_type": "code",
   "execution_count": 84,
   "id": "1ac0e5dc-f6e0-417a-b315-661514f88e93",
   "metadata": {},
   "outputs": [],
   "source": [
    "df_time['diff'] = df_time.groupby('poster_tweetid')['tweet_time'].diff()"
   ]
  },
  {
   "cell_type": "code",
   "execution_count": 99,
   "id": "6167d7cd-072d-4827-9322-e567e2445128",
   "metadata": {},
   "outputs": [],
   "source": [
    "df_time = df_time.dropna(subset=['diff'])"
   ]
  },
  {
   "cell_type": "code",
   "execution_count": 115,
   "id": "ec84b26d-df73-4ba0-ba27-546a6032c62a",
   "metadata": {},
   "outputs": [
    {
     "name": "stdout",
     "output_type": "stream",
     "text": [
      "Min time diff : 0 days 00:00:00\n",
      "Max time diff : 624 days 17:42:00\n"
     ]
    }
   ],
   "source": [
    "print('Min time diff :', df_time['diff'].min())\n",
    "print('Max time diff :', df_time['diff'].max())"
   ]
  },
  {
   "cell_type": "code",
   "execution_count": 131,
   "id": "384a3028-c260-42df-ac9e-71a39496c811",
   "metadata": {},
   "outputs": [
    {
     "name": "stdout",
     "output_type": "stream",
     "text": [
      "Total unique conversations : 3475\n",
      "Total data points with time difference data : 30773\n",
      "Time difference in consecutive replying less than 60 min filtering : 26565\n"
     ]
    }
   ],
   "source": [
    "print('Total unique conversations :', len(df_count_5))\n",
    "print('Total data points with time difference data :', len(df_time))\n",
    "print('Time difference in consecutive replying less than 60 min filtering :', \n",
    "      len(df_time.loc[df_time['diff'] <= datetime.timedelta(minutes=60)]))"
   ]
  },
  {
   "cell_type": "markdown",
   "id": "14fe93e2-080a-4438-a862-cdee4fc0fcc4",
   "metadata": {
    "jp-MarkdownHeadingCollapsed": true,
    "tags": []
   },
   "source": [
    "##### **Considering time difference between first and last reply**"
   ]
  },
  {
   "cell_type": "code",
   "execution_count": 129,
   "id": "eccc7c30-9407-4ef8-8a2c-81be9ee637a6",
   "metadata": {},
   "outputs": [
    {
     "name": "stdout",
     "output_type": "stream",
     "text": [
      "Total conversation after droping the null : 3419\n",
      "Min difference in first and last reply:  0 days 00:00:00\n",
      "Max difference in first and last reply:  624 days 17:42:00\n",
      "Total conversation with replies within 60 mins : 3318\n"
     ]
    }
   ],
   "source": [
    "df_first_last = pd_hp.read_first_last_row_of_grp(df_time, \n",
    "                                                 'tweet_time',\n",
    "                                                 'tweet_time'\n",
    "                                                )\n",
    "\n",
    "df_first_last['diff'] = df_first_last.groupby('poster_tweetid')['tweet_time'].diff()\n",
    "df_first_last = df_first_last.dropna(subset=['diff'])\n",
    "total_60 = df_first_last.loc[df_first_last['diff'] <= datetime.timedelta(minutes=60)]['poster_tweetid'].nunique()\n",
    "\n",
    "print('Total conversation after droping the null :', \n",
    "      df_first_last['poster_tweetid'].nunique())\n",
    "\n",
    "print('Min difference in first and last reply: ', \n",
    "      df_first_last['diff'].min())\n",
    "print('Max difference in first and last reply: ',\n",
    "      df_first_last['diff'].max())\n",
    "print('Total conversation with replies within 60 mins :', total_60)"
   ]
  },
  {
   "cell_type": "code",
   "execution_count": 119,
   "id": "e47711f6-e2d9-4dbc-ba3e-89aa31f5b934",
   "metadata": {},
   "outputs": [
    {
     "data": {
      "text/plain": [
       "380580    >960s\n",
       "380652      >0s\n",
       "380624      >0s\n",
       "380558     >60s\n",
       "224777      NaN\n",
       "          ...  \n",
       "98154     >960s\n",
       "99637     >960s\n",
       "98455     >960s\n",
       "99575     >960s\n",
       "99491     >960s\n",
       "Name: diff, Length: 30773, dtype: category\n",
       "Categories (17, object): ['>0s' < '>60s' < '>120s' < '>180s' ... '>780s' < '>840s' < '>900s' < '>960s']"
      ]
     },
     "execution_count": 119,
     "metadata": {},
     "output_type": "execute_result"
    }
   ],
   "source": [
    "bins = np.arange(0, 1000, 60)\n",
    "\n",
    "pd.cut(df_time['diff'], \n",
    "       bins=[pd.Timedelta(f'{i}s') for i in bins]+[pd.Timedelta.max],\n",
    "       labels=[f'>{i}s' for i in bins])\n"
   ]
  },
  {
   "cell_type": "code",
   "execution_count": null,
   "id": "41c9d3d2-b917-4af9-a8dd-19cc5e738ed9",
   "metadata": {},
   "outputs": [],
   "source": [
    "def time_binned_histogram(df, column='diff'):\n",
    "    "
   ]
  },
  {
   "cell_type": "markdown",
   "id": "1eb90845-524a-488e-8912-d521daf7b836",
   "metadata": {
    "jp-MarkdownHeadingCollapsed": true,
    "tags": []
   },
   "source": [
    "### **Isolation Forest for iran campaign**"
   ]
  },
  {
   "cell_type": "code",
   "execution_count": 31,
   "id": "53236a0d-bcde-4dd1-b3c1-8db2d50ffd30",
   "metadata": {},
   "outputs": [],
   "source": [
    "year = '2020_12'\n",
    "campaign = 'iran_202012'\n",
    "type_of = 'ops'\n",
    "\n",
    "data_path = st.get_data_path(all_tweet_data, \n",
    "                                 year, \n",
    "                                 campaign)\n",
    "\n",
    "df_iran = st.read_ops_control_data(data_path['ops'],\n",
    "                                data_path['control'], \n",
    "                             [type_of])['ops']"
   ]
  },
  {
   "cell_type": "code",
   "execution_count": 32,
   "id": "86294fb4-7ef9-4844-ae4c-f446b45d951a",
   "metadata": {},
   "outputs": [],
   "source": [
    "from sklearn.ensemble import IsolationForest"
   ]
  },
  {
   "cell_type": "code",
   "execution_count": 34,
   "id": "52ad4f99-079d-4eb1-9030-d1d9f05af175",
   "metadata": {},
   "outputs": [],
   "source": [
    "df_w = df_iran\n",
    "\n",
    "if 'tweet_language' not in df_w.columns:\n",
    "    print('No language column')\n",
    "\n",
    "# df_test = df_w \n",
    "df_test = df_w.loc[df_w['tweet_language'] == 'en']\n",
    "\n",
    "df = df_test.loc[~df_test['in_reply_to_tweetid'].isnull()]\n",
    "\n",
    "df = st.reply_to_external_users(df)\n",
    "\n",
    "df_grps = (df.groupby(['in_reply_to_userid',\n",
    "                       'in_reply_to_tweetid'\n",
    "                      ])['userid']\n",
    "              .nunique()\n",
    "              .to_frame('count_replies')\n",
    "              .reset_index())\n",
    "\n",
    "# threshold = 10\n",
    "# df_grps_size = df_grps.loc[df_grps['count_replies']>=threshold]\n",
    "# total = len(df_grps_size)\n",
    "                "
   ]
  },
  {
   "cell_type": "code",
   "execution_count": 37,
   "id": "9a5d1b53-f31e-4ac0-9fca-4580c22a0b7f",
   "metadata": {},
   "outputs": [
    {
     "name": "stdout",
     "output_type": "stream",
     "text": [
      "[1 1 1 1 1 1 1 1 1 1 1 1 1 1 1 1 1 1 1 1]\n",
      "Number of outliers detected: -559\n",
      "Number of normal samples detected: 28851\n"
     ]
    }
   ],
   "source": [
    "iforest = IsolationForest(n_estimators = 100, \n",
    "                          contamination = 0.03,\n",
    "                          max_samples ='auto')\n",
    "prediction = iforest.fit_predict(df_grps[['count_replies']])\n",
    "print(prediction[:20])\n",
    "print(\"Number of outliers detected: {}\".format(prediction[prediction < 0].sum()))\n",
    "print(\"Number of normal samples detected: {}\".format(prediction[prediction > 0].sum()))"
   ]
  },
  {
   "cell_type": "code",
   "execution_count": 39,
   "id": "46bfe9c3-4e46-41de-adc8-6554e86e273c",
   "metadata": {},
   "outputs": [],
   "source": [
    "df_grps['prediction'] = prediction"
   ]
  },
  {
   "cell_type": "code",
   "execution_count": 42,
   "id": "9735aeea-bc5a-464c-a8d6-4fe26d826088",
   "metadata": {},
   "outputs": [
    {
     "data": {
      "text/plain": [
       "array([2, 3, 4, 6])"
      ]
     },
     "execution_count": 42,
     "metadata": {},
     "output_type": "execute_result"
    }
   ],
   "source": [
    "df_grps.loc[df_grps['prediction'] == -1]['count_replies'].unique()"
   ]
  },
  {
   "cell_type": "markdown",
   "id": "df1370af-a9ad-4939-9dc9-c71e6762c613",
   "metadata": {
    "jp-MarkdownHeadingCollapsed": true,
    "tags": []
   },
   "source": [
    "### **Isolation Forest for all replies**"
   ]
  },
  {
   "cell_type": "code",
   "execution_count": 81,
   "id": "28a72424-f2b1-43a6-9aa9-5eb731bbc9ae",
   "metadata": {},
   "outputs": [],
   "source": [
    "replies_to_external_user = 'all_external_replies_campaign.pkl.gz'\n",
    "\n",
    "all_replies = os.path.join(derived_path, \n",
    "                           replies_to_external_user)"
   ]
  },
  {
   "cell_type": "code",
   "execution_count": 83,
   "id": "f0a18668-6617-4af7-88d5-2db0217b178f",
   "metadata": {},
   "outputs": [
    {
     "name": "stdout",
     "output_type": "stream",
     "text": [
      "All replies : 1060042\n",
      "Only english replies : 1060042\n"
     ]
    }
   ],
   "source": [
    "df_all = pd.read_pickle(all_replies)\n",
    "\n",
    "print('All replies :', len(df_all))\n",
    "\n",
    "df_all = df_all.loc[df_all['tweet_language'] == 'en']\n",
    "\n",
    "print('Only english replies :', len(df_all))"
   ]
  },
  {
   "cell_type": "code",
   "execution_count": 85,
   "id": "bc7f01de-7c08-411a-b950-c6a9d3b14fd0",
   "metadata": {},
   "outputs": [
    {
     "data": {
      "text/plain": [
       "array(['en'], dtype=object)"
      ]
     },
     "execution_count": 85,
     "metadata": {},
     "output_type": "execute_result"
    }
   ],
   "source": [
    "df_all['tweet_language'].unique()"
   ]
  },
  {
   "cell_type": "code",
   "execution_count": 89,
   "id": "0af0ee74-f221-430d-a8a8-8ac18f5ee6d4",
   "metadata": {},
   "outputs": [
    {
     "data": {
      "text/html": [
       "<div>\n",
       "<style scoped>\n",
       "    .dataframe tbody tr th:only-of-type {\n",
       "        vertical-align: middle;\n",
       "    }\n",
       "\n",
       "    .dataframe tbody tr th {\n",
       "        vertical-align: top;\n",
       "    }\n",
       "\n",
       "    .dataframe thead th {\n",
       "        text-align: right;\n",
       "    }\n",
       "</style>\n",
       "<table border=\"1\" class=\"dataframe\">\n",
       "  <thead>\n",
       "    <tr style=\"text-align: right;\">\n",
       "      <th></th>\n",
       "      <th>replier_tweetid</th>\n",
       "      <th>replier_userid</th>\n",
       "      <th>poster_tweetid</th>\n",
       "      <th>poster_userid</th>\n",
       "      <th>tweet_language</th>\n",
       "      <th>tweet_time</th>\n",
       "      <th>year</th>\n",
       "      <th>campaign</th>\n",
       "      <th>tweet_time_year</th>\n",
       "    </tr>\n",
       "  </thead>\n",
       "  <tbody>\n",
       "    <tr>\n",
       "      <th>0</th>\n",
       "      <td>1214512781459771394</td>\n",
       "      <td>1181565607675756544</td>\n",
       "      <td>1173568360870629376</td>\n",
       "      <td>3.559891e+08</td>\n",
       "      <td>en</td>\n",
       "      <td>2020-01-07 11:43:00</td>\n",
       "      <td>2021_12</td>\n",
       "      <td>CNHU_0621</td>\n",
       "      <td>2020-01-07</td>\n",
       "    </tr>\n",
       "    <tr>\n",
       "      <th>1</th>\n",
       "      <td>1265941843696422915</td>\n",
       "      <td>1181763761591308289</td>\n",
       "      <td>1265907888381480960</td>\n",
       "      <td>5.990651e+08</td>\n",
       "      <td>en</td>\n",
       "      <td>2020-05-28 09:43:00</td>\n",
       "      <td>2021_12</td>\n",
       "      <td>CNHU_0621</td>\n",
       "      <td>2020-05-28</td>\n",
       "    </tr>\n",
       "    <tr>\n",
       "      <th>2</th>\n",
       "      <td>1250993547488026624</td>\n",
       "      <td>1181763761591308289</td>\n",
       "      <td>1250547774111784960</td>\n",
       "      <td>8.652669e+17</td>\n",
       "      <td>en</td>\n",
       "      <td>2020-04-17 03:44:00</td>\n",
       "      <td>2021_12</td>\n",
       "      <td>CNHU_0621</td>\n",
       "      <td>2020-04-17</td>\n",
       "    </tr>\n",
       "    <tr>\n",
       "      <th>3</th>\n",
       "      <td>1256894720732565505</td>\n",
       "      <td>1181565607675756544</td>\n",
       "      <td>1256583556786270208</td>\n",
       "      <td>4.739702e+08</td>\n",
       "      <td>en</td>\n",
       "      <td>2020-05-03 10:33:00</td>\n",
       "      <td>2021_12</td>\n",
       "      <td>CNHU_0621</td>\n",
       "      <td>2020-05-03</td>\n",
       "    </tr>\n",
       "    <tr>\n",
       "      <th>4</th>\n",
       "      <td>1299265857063809024</td>\n",
       "      <td>1181565607675756544</td>\n",
       "      <td>1299020570445656064</td>\n",
       "      <td>2.026103e+08</td>\n",
       "      <td>en</td>\n",
       "      <td>2020-08-28 08:41:00</td>\n",
       "      <td>2021_12</td>\n",
       "      <td>CNHU_0621</td>\n",
       "      <td>2020-08-28</td>\n",
       "    </tr>\n",
       "  </tbody>\n",
       "</table>\n",
       "</div>"
      ],
      "text/plain": [
       "       replier_tweetid       replier_userid       poster_tweetid  \\\n",
       "0  1214512781459771394  1181565607675756544  1173568360870629376   \n",
       "1  1265941843696422915  1181763761591308289  1265907888381480960   \n",
       "2  1250993547488026624  1181763761591308289  1250547774111784960   \n",
       "3  1256894720732565505  1181565607675756544  1256583556786270208   \n",
       "4  1299265857063809024  1181565607675756544  1299020570445656064   \n",
       "\n",
       "   poster_userid tweet_language          tweet_time     year   campaign  \\\n",
       "0   3.559891e+08             en 2020-01-07 11:43:00  2021_12  CNHU_0621   \n",
       "1   5.990651e+08             en 2020-05-28 09:43:00  2021_12  CNHU_0621   \n",
       "2   8.652669e+17             en 2020-04-17 03:44:00  2021_12  CNHU_0621   \n",
       "3   4.739702e+08             en 2020-05-03 10:33:00  2021_12  CNHU_0621   \n",
       "4   2.026103e+08             en 2020-08-28 08:41:00  2021_12  CNHU_0621   \n",
       "\n",
       "  tweet_time_year  \n",
       "0      2020-01-07  \n",
       "1      2020-05-28  \n",
       "2      2020-04-17  \n",
       "3      2020-05-03  \n",
       "4      2020-08-28  "
      ]
     },
     "execution_count": 89,
     "metadata": {},
     "output_type": "execute_result"
    }
   ],
   "source": [
    "df_all.head()"
   ]
  },
  {
   "cell_type": "code",
   "execution_count": 86,
   "id": "7bda421b-ee25-47bd-9bd7-c7e69e33e3fe",
   "metadata": {},
   "outputs": [],
   "source": [
    "df_all = df_all.astype({\n",
    "    'poster_tweetid': int\n",
    "    })\n",
    "\n",
    "df_all = st.add_YYYY_MM_DD(df_all)"
   ]
  },
  {
   "cell_type": "code",
   "execution_count": 90,
   "id": "930370d3-194b-45f3-baeb-763198e6708e",
   "metadata": {},
   "outputs": [
    {
     "name": "stdout",
     "output_type": "stream",
     "text": [
      "Total data after grouping  729936\n"
     ]
    }
   ],
   "source": [
    "df_all_grp = (df_all.groupby(['poster_tweetid'])['replier_userid']\n",
    "              .nunique()\n",
    "              .to_frame('count_replies')\n",
    "              .reset_index())\n",
    "\n",
    "print('Total data after grouping ', len(df_all_grp))"
   ]
  },
  {
   "cell_type": "code",
   "execution_count": 92,
   "id": "c1c57f96-87cd-4c83-a3e2-87e9c3e8738b",
   "metadata": {},
   "outputs": [
    {
     "name": "stdout",
     "output_type": "stream",
     "text": [
      "Tweet with 5 or more replies  1994\n"
     ]
    }
   ],
   "source": [
    "total_5 = len(df_all_grp.loc[df_all_grp['count_replies'] >= 5])\n",
    "\n",
    "print('Tweet with 5 or more replies ', total_5)"
   ]
  },
  {
   "cell_type": "code",
   "execution_count": 93,
   "id": "aa6dc376-5e53-4d2e-b678-40e4a8a0ba02",
   "metadata": {},
   "outputs": [
    {
     "name": "stdout",
     "output_type": "stream",
     "text": [
      "Maximum replies : 108\n"
     ]
    }
   ],
   "source": [
    "print('Maximum replies :', df_all_grp['count_replies'].max())"
   ]
  },
  {
   "cell_type": "code",
   "execution_count": 94,
   "id": "fe1ae219-f6d9-4ef2-8758-182c22ae142b",
   "metadata": {},
   "outputs": [],
   "source": [
    "iforest = IsolationForest(n_estimators = 100, \n",
    "                          contamination = 0.03,\n",
    "                          max_samples ='auto')\n",
    "prediction = iforest.fit_predict(df_all_grp[['count_replies']])\n",
    "\n",
    "df_all_grp['prediction'] = prediction"
   ]
  },
  {
   "cell_type": "code",
   "execution_count": 96,
   "id": "9939b8db-74fa-4f04-b8e9-2616c9420e88",
   "metadata": {},
   "outputs": [
    {
     "data": {
      "text/plain": [
       "array([  2,   3,   5,   7,   4,   6,  10,   8,  11,   9,  15,  43,  46,\n",
       "        26,  14,  28,  13,  16,  31,  33,  12,  30,  22,  35,  20,  34,\n",
       "        19,  37,  21,  23,  18,  17,  90,  38,  40,  48,  25,  24, 102,\n",
       "        77,  63,  81,  44,  27,  56,  45,  53,  52,  47,  32, 108,  64])"
      ]
     },
     "execution_count": 96,
     "metadata": {},
     "output_type": "execute_result"
    }
   ],
   "source": [
    "df_all_grp.loc[df_all_grp['prediction'] == -1]['count_replies'].unique()"
   ]
  },
  {
   "cell_type": "code",
   "execution_count": null,
   "id": "13986e44-1d46-476b-9dc3-3c748321962b",
   "metadata": {},
   "outputs": [],
   "source": [
    "### Get all conversation_ids/tweets with more and equal than 5"
   ]
  }
 ],
 "metadata": {
  "kernelspec": {
   "display_name": "Python 3 (ipykernel)",
   "language": "python",
   "name": "python3"
  },
  "language_info": {
   "codemirror_mode": {
    "name": "ipython",
    "version": 3
   },
   "file_extension": ".py",
   "mimetype": "text/x-python",
   "name": "python",
   "nbconvert_exporter": "python",
   "pygments_lexer": "ipython3",
   "version": "3.9.1"
  }
 },
 "nbformat": 4,
 "nbformat_minor": 5
}
