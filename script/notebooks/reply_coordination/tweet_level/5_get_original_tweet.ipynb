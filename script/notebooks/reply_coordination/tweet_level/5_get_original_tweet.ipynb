{
 "cells": [
  {
   "cell_type": "markdown",
   "id": "ed0928d4-6915-4b63-9496-f133b0f726b2",
   "metadata": {},
   "source": [
    "### **This notebook gets the original tweets of posters and parse it**"
   ]
  },
  {
   "cell_type": "code",
   "execution_count": 121,
   "id": "c12e9772-72dd-4b10-a462-2469c403744b",
   "metadata": {},
   "outputs": [],
   "source": [
    "import pandas as pd\n",
    "import numpy as np\n",
    "import datetime\n",
    "import warnings\n",
    "import glob\n",
    "import seaborn as sns\n",
    "import matplotlib.pyplot as plt\n",
    "import matplotlib.colors as pltc\n",
    "from tqdm import tqdm\n",
    "import sys\n",
    "import os\n",
    "\n",
    "import importlib\n",
    "\n",
    "#### packages\n",
    "import helper.strategy_helper as st\n",
    "import helper.visualization as vz\n",
    "import helper.helper as hp\n",
    "import helper.file_helper as file_hp\n",
    "import config.config as config\n",
    "import helper.pandas_helper as pd_hp"
   ]
  },
  {
   "cell_type": "markdown",
   "id": "e939fb97-4eb3-4818-8f48-bbfd627be4f0",
   "metadata": {
    "jp-MarkdownHeadingCollapsed": true,
    "tags": []
   },
   "source": [
    "##### **Load log files**"
   ]
  },
  {
   "cell_type": "code",
   "execution_count": 90,
   "id": "a85d85f8-1add-4d0a-bb36-18c4f905b4ed",
   "metadata": {},
   "outputs": [
    {
     "data": {
      "text/plain": [
       "'/N/slate/potem/data/derived/poster_original_tweets/poster_original_tweets.jsonl'"
      ]
     },
     "execution_count": 90,
     "metadata": {},
     "output_type": "execute_result"
    }
   ],
   "source": [
    "config = config.config()\n",
    "path = config['PATHS']\n",
    "conversation_ids_5 = path['conversation_ids_5']\n",
    "\n",
    "poster_path = config['POSTER_PATH']\n",
    "poster_original_tweets_file = poster_path['poster_original_tweets_file']\n",
    "\n",
    "poster_original_tweets_file"
   ]
  },
  {
   "cell_type": "markdown",
   "id": "36bf6252-ec20-4627-8966-bc868c9410af",
   "metadata": {
    "jp-MarkdownHeadingCollapsed": true,
    "tags": []
   },
   "source": [
    "##### **Get all poster original tweets**"
   ]
  },
  {
   "cell_type": "code",
   "execution_count": 28,
   "id": "e872c678-d7f3-41cc-a0cc-c05f676e246e",
   "metadata": {},
   "outputs": [],
   "source": [
    "def get_tweets(id_file, output_file):\n",
    "    '''\n",
    "    Get tweets from tweet id file\n",
    "    :param id_file: file which contain tweet ids\n",
    "    :param output_file: file which will save json file\n",
    "    '''\n",
    "    command = f'twarc2 hydrate {id_file} {output_file}'\n",
    "    \n",
    "    os.system(command) \n",
    "    \n",
    "    \n",
    "# get_tweets(conversation_ids_5,\n",
    "#            poster_original_tweets_file)"
   ]
  },
  {
   "cell_type": "markdown",
   "id": "97c7f1f7-5d05-4179-813e-ae2314033510",
   "metadata": {
    "jp-MarkdownHeadingCollapsed": true,
    "tags": []
   },
   "source": [
    "##### **Parse all original tweets**"
   ]
  },
  {
   "cell_type": "code",
   "execution_count": 122,
   "id": "6d792dc0-ed0f-4262-9341-d917be0b3a62",
   "metadata": {},
   "outputs": [
    {
     "data": {
      "text/plain": [
       "<module 'config.config' from '/geode2/home/u070/potem/Quartz/project/infoOps-strategy/package/config/config.py'>"
      ]
     },
     "execution_count": 122,
     "metadata": {},
     "output_type": "execute_result"
    }
   ],
   "source": [
    "import json\n",
    "import imp\n",
    "\n",
    "imp.reload(config)"
   ]
  },
  {
   "cell_type": "code",
   "execution_count": 123,
   "id": "40c25baa-b968-4f02-9167-4ce81af4abfa",
   "metadata": {},
   "outputs": [],
   "source": [
    "config = config.config()\n",
    "poster_path = config['POSTER_PATH']\n",
    "poster_original_tweets_file = poster_path['poster_original_tweets_file']"
   ]
  },
  {
   "cell_type": "code",
   "execution_count": 124,
   "id": "8d9d7f79-eb3f-4e6b-b23e-2bdd6091068a",
   "metadata": {},
   "outputs": [],
   "source": [
    "parsed_poster_org_tweets = poster_path['parsed_poster_org_tweets']"
   ]
  },
  {
   "cell_type": "code",
   "execution_count": 125,
   "id": "34ce8e41-8ab2-4ed5-924f-52014044ccb7",
   "metadata": {
    "tags": []
   },
   "outputs": [
    {
     "name": "stdout",
     "output_type": "stream",
     "text": [
      "96041\n",
      "96041\n"
     ]
    }
   ],
   "source": [
    "def get_empty_tweet_dict():\n",
    "    '''\n",
    "    Gets the empty tweet dictionary\n",
    "    \n",
    "    :return dictionary\n",
    "    '''\n",
    "    \n",
    "    tweet = {\n",
    "        'text': None,\n",
    "        'conversation_id': None,\n",
    "        'lang': None,\n",
    "        'entities': None,\n",
    "        'possibly_sensitive': None,\n",
    "        'reply_settings': None,\n",
    "        'created_at': None,\n",
    "        'edit_history_tweet_ids': None,\n",
    "        'tweetid': None,\n",
    "        'author_id': None,\n",
    "        'retweet_count': None,\n",
    "        'reply_count': None,\n",
    "        'like_count': None,\n",
    "        'quote_count': None,\n",
    "        'impression_count': None,\n",
    "        'expanded_url': None,\n",
    "        'display_url': None,\n",
    "        'in_reply_to_user_id': None,\n",
    "        'referenced_tweets': None,\n",
    "        'context_annotations': None,\n",
    "        'entity_annotations': None,\n",
    "        'cashtags': None,\n",
    "        'hashtags': None,\n",
    "        'mentions': None,\n",
    "    }\n",
    "    \n",
    "    return tweet\n",
    "\n",
    "\n",
    "def add_entity_values(tweet, values):\n",
    "    '''\n",
    "    Parse the entities in tweet\n",
    "    \n",
    "    :param tweet: New tweet object which hold values\n",
    "    :param values: Return object from twitter API\n",
    "    \n",
    "    :return dictionary\n",
    "    '''\n",
    "\n",
    "    if 'entities' not in values:\n",
    "        return tweet\n",
    "    \n",
    "    if 'urls' in values['entities']:\n",
    "        urls = values['entities']['urls']\n",
    "        expanded_url = []\n",
    "        display_url = []\n",
    "\n",
    "        for url in urls:\n",
    "            expanded_url.append(url['expanded_url'])\n",
    "            display_url.append(url['display_url'])\n",
    "\n",
    "        tweet['expanded_url'] = expanded_url\n",
    "        tweet['display_url'] = display_url\n",
    "    \n",
    "    if 'annotations' in values['entities']:\n",
    "        annotations = values['entities']['annotations']\n",
    "        all_ann = []\n",
    "        for ann in annotations:\n",
    "            all_ann.append({'type': ann['type'], \n",
    "                            'probability': ann['probability']\n",
    "                           })\n",
    "        tweet['entity_annotations'] = all_ann\n",
    "        \n",
    "    if 'cashtags' in values['entities']:\n",
    "        cashtags = values['entities']['cashtags']\n",
    "        all_ann = []\n",
    "        for ann in cashtags:\n",
    "            all_ann.append(ann['tag'])\n",
    "            \n",
    "        tweet['cashtags'] = all_ann\n",
    "        \n",
    "    if 'hashtags' in values['entities']:\n",
    "        hashtags = values['entities']['hashtags']\n",
    "        all_ann = []\n",
    "        for ann in hashtags:\n",
    "            all_ann.append(ann['tag'])\n",
    "            \n",
    "        tweet['hashtags'] = all_ann\n",
    "    \n",
    "    if 'mentions' in values['entities']:\n",
    "        mentions = values['entities']['mentions']\n",
    "        all_ann = []\n",
    "        for ann in mentions:\n",
    "            all_ann.append([ann['username'], ann['id']])\n",
    "            \n",
    "        tweet['mentions'] = all_ann\n",
    "        \n",
    "        \n",
    "    return tweet\n",
    "\n",
    "\n",
    "def add_public_metric(tweet, values):\n",
    "    '''\n",
    "    Adds the public metric values to tweet \n",
    "    :param tweet: New tweet object\n",
    "    :param values: Return object from Twitter API\n",
    "    \n",
    "    :return dictionary\n",
    "    '''\n",
    "    \n",
    "    if 'public_metrics' not in values:\n",
    "        return tweet\n",
    "    \n",
    "    metric = values['public_metrics']\n",
    "\n",
    "    if 'retweet_count' in metric:\n",
    "        tweet['retweet_count'] = metric['retweet_count']\n",
    "    if 'reply_count' in metric:\n",
    "        tweet['reply_count'] = metric['reply_count']\n",
    "    if 'like_count' in metric:\n",
    "        tweet['like_count'] = metric['like_count']\n",
    "    if 'quote_count' in metric:\n",
    "        tweet['quote_count'] = metric['quote_count']\n",
    "    if 'impression_count' in metric:\n",
    "        tweet['impression_count'] = metric['impression_count']\n",
    "        \n",
    "    return tweet\n",
    "   \n",
    "    \n",
    "def set_tweet_values(values):\n",
    "    '''\n",
    "    Set the values of tweet object\n",
    "    \n",
    "    :return dictionary\n",
    "    '''\n",
    "    \n",
    "    tweet = get_empty_tweet_dict()\n",
    "    \n",
    "    tweet['text'] = values['text']\n",
    "    tweet['conversation_id'] = values['conversation_id']\n",
    "    tweet['lang'] = values['lang']\n",
    "    tweet['possibly_sensitive'] = values['possibly_sensitive']\n",
    "    tweet['reply_settings'] = values['reply_settings']\n",
    "    tweet['created_at'] = values['created_at']\n",
    "    tweet['edit_history_tweet_ids'] = values['edit_history_tweet_ids']\n",
    "    tweet['tweetid'] = values['id']\n",
    "    tweet['author_id'] = values['author_id']\n",
    "    \n",
    "    if 'in_reply_to_user_id' in values:\n",
    "        tweet['in_reply_to_user_id'] = values['in_reply_to_user_id']\n",
    "    if 'referenced_tweets' in values:\n",
    "        tweet['referenced_tweets'] = values['referenced_tweets']\n",
    "    \n",
    "    tweet = add_entity_values(tweet, values)\n",
    "    tweet = add_public_metric(tweet, values)\n",
    "    \n",
    "    if 'context_annotations' in values:\n",
    "        tweet['context_annotations'] = values['context_annotations']\n",
    "            \n",
    "    return tweet\n",
    "\n",
    "def set_values_for_tweet_with_error(values):\n",
    "    '''\n",
    "    Sets values for tweets not found\n",
    "    :param values: return object of twitter API\n",
    "    \n",
    "    :return dictionary\n",
    "    '''\n",
    "\n",
    "    if values['resource_type'] != 'tweet':\n",
    "        return None\n",
    "    \n",
    "    if 'referenced_tweets' in values['detail']:\n",
    "        return None\n",
    "    \n",
    "    tweet = get_empty_tweet_dict()\n",
    "    tweet['tweetid']= values['value']\n",
    "    tweet['text'] = values['detail']\n",
    "    tweet['author_id'] = None\n",
    "    tweet['created_at'] = values['title']\n",
    "    \n",
    "    return tweet\n",
    "    \n",
    "\n",
    "def parse_tweets(tweet_file, output_file=None):\n",
    "    all_tweets = []\n",
    "    total = 0\n",
    "    with open(tweet_file, 'r') as json_file:\n",
    "        for row in json_file:\n",
    "            one_row = json.loads(row)\n",
    "            \n",
    "            if 'errors' in one_row:\n",
    "                for values in one_row['errors']:\n",
    "                    tweet = set_values_for_tweet_with_error(values)\n",
    "                    if tweet != None:\n",
    "                        all_tweets.append(tweet)\n",
    "            \n",
    "            if 'data' not in one_row:\n",
    "                continue\n",
    "            for tweet in one_row['data']:\n",
    "                tweet_set = set_tweet_values(tweet)\n",
    "                \n",
    "                all_tweets.append(tweet_set)\n",
    "                \n",
    "    df = pd.DataFrame.from_records(data=all_tweets)\n",
    "    \n",
    "    if output_file is not None:\n",
    "        df.to_pickle(output_file)\n",
    "\n",
    "    return df          \n",
    "            \n",
    "df = parse_tweets(poster_original_tweets_file, parsed_poster_org_tweets)"
   ]
  },
  {
   "cell_type": "code",
   "execution_count": 128,
   "id": "105d5dfc-996d-48ab-91bd-27bf76b4fc03",
   "metadata": {},
   "outputs": [
    {
     "name": "stdout",
     "output_type": "stream",
     "text": [
      "Total original tweets : 96041\n",
      "Total parsed tweets : 96041\n"
     ]
    }
   ],
   "source": [
    "df = pd.read_pickle(parsed_poster_org_tweets)\n",
    "ids = file_hp.read_file(conversation_ids_5)\n",
    "print('Total original tweets :', len(set(ids)))\n",
    "print('Total parsed tweets :', len(df))"
   ]
  },
  {
   "cell_type": "markdown",
   "id": "5a54e961-9fbc-4272-8c78-3b088b72dd0d",
   "metadata": {
    "jp-MarkdownHeadingCollapsed": true,
    "tags": []
   },
   "source": [
    "#####  **More info**\n",
    "author_id is None for tweets not found\n",
    "\n"
   ]
  },
  {
   "cell_type": "code",
   "execution_count": null,
   "id": "e82b591a-d60c-48b0-b135-ea2f477915b1",
   "metadata": {},
   "outputs": [],
   "source": []
  }
 ],
 "metadata": {
  "kernelspec": {
   "display_name": "Python 3 (ipykernel)",
   "language": "python",
   "name": "python3"
  },
  "language_info": {
   "codemirror_mode": {
    "name": "ipython",
    "version": 3
   },
   "file_extension": ".py",
   "mimetype": "text/x-python",
   "name": "python",
   "nbconvert_exporter": "python",
   "pygments_lexer": "ipython3",
   "version": "3.9.1"
  }
 },
 "nbformat": 4,
 "nbformat_minor": 5
}
