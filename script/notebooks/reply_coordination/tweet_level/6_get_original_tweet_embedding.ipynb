{
 "cells": [
  {
   "cell_type": "markdown",
   "id": "f74351dc-8c22-4db0-b93c-51edf129e64d",
   "metadata": {},
   "source": [
    "### **This notebook gets original tweet embedding**"
   ]
  },
  {
   "cell_type": "code",
   "execution_count": 1,
   "id": "e7b54482-ec44-4067-b093-b8d71eb1cd3d",
   "metadata": {},
   "outputs": [
    {
     "name": "stderr",
     "output_type": "stream",
     "text": [
      "2023-03-22 23:33:44.670236: I tensorflow/core/platform/cpu_feature_guard.cc:193] This TensorFlow binary is optimized with oneAPI Deep Neural Network Library (oneDNN) to use the following CPU instructions in performance-critical operations:  AVX2 FMA\n",
      "To enable them in other operations, rebuild TensorFlow with the appropriate compiler flags.\n",
      "2023-03-22 23:33:47.492054: W tensorflow/compiler/xla/stream_executor/platform/default/dso_loader.cc:64] Could not load dynamic library 'libcudart.so.11.0'; dlerror: libcudart.so.11.0: cannot open shared object file: No such file or directory; LD_LIBRARY_PATH: /N/soft/rhel8/mvapich/gnu/2.3.5/lib:/N/soft/rhel8/gcc/9.3.0/lib64:/N/soft/rhel8/gcc/9.3.0/lib\n",
      "2023-03-22 23:33:47.492099: I tensorflow/compiler/xla/stream_executor/cuda/cudart_stub.cc:29] Ignore above cudart dlerror if you do not have a GPU set up on your machine.\n",
      "2023-03-22 23:34:08.074272: W tensorflow/compiler/xla/stream_executor/platform/default/dso_loader.cc:64] Could not load dynamic library 'libnvinfer.so.7'; dlerror: libnvinfer.so.7: cannot open shared object file: No such file or directory; LD_LIBRARY_PATH: /N/soft/rhel8/mvapich/gnu/2.3.5/lib:/N/soft/rhel8/gcc/9.3.0/lib64:/N/soft/rhel8/gcc/9.3.0/lib\n",
      "2023-03-22 23:34:08.074452: W tensorflow/compiler/xla/stream_executor/platform/default/dso_loader.cc:64] Could not load dynamic library 'libnvinfer_plugin.so.7'; dlerror: libnvinfer_plugin.so.7: cannot open shared object file: No such file or directory; LD_LIBRARY_PATH: /N/soft/rhel8/mvapich/gnu/2.3.5/lib:/N/soft/rhel8/gcc/9.3.0/lib64:/N/soft/rhel8/gcc/9.3.0/lib\n",
      "2023-03-22 23:34:08.074458: W tensorflow/compiler/tf2tensorrt/utils/py_utils.cc:38] TF-TRT Warning: Cannot dlopen some TensorRT libraries. If you would like to use Nvidia GPU with TensorRT, please make sure the missing libraries mentioned above are installed properly.\n"
     ]
    }
   ],
   "source": [
    "import pandas as pd\n",
    "import numpy as np\n",
    "import datetime\n",
    "import warnings\n",
    "import glob\n",
    "import seaborn as sns\n",
    "import matplotlib.pyplot as plt\n",
    "import matplotlib.colors as pltc\n",
    "from tqdm import tqdm\n",
    "import sys\n",
    "import os\n",
    "\n",
    "import importlib\n",
    "\n",
    "#### packages\n",
    "import helper.strategy_helper as st\n",
    "import helper.visualization as vz\n",
    "import helper.helper as hp\n",
    "import helper.file_helper as file_hp\n",
    "import config.config as config_hp\n",
    "import helper.pandas_helper as pd_hp\n",
    "import helper.embedding as emb_hp"
   ]
  },
  {
   "cell_type": "markdown",
   "id": "07553640-bda5-46ed-b98d-de80698511cb",
   "metadata": {
    "tags": []
   },
   "source": [
    "##### **Get log files**"
   ]
  },
  {
   "cell_type": "code",
   "execution_count": 23,
   "id": "72e89470-01b6-4c6c-989d-348115105d71",
   "metadata": {},
   "outputs": [],
   "source": [
    "config = config_hp.config()\n",
    "path = config['PATHS']\n",
    "external_reply = path['external_reply']\n",
    "poster_path = config['POSTER_PATH']\n",
    "parsed_poster_org_tweets = poster_path['parsed_poster_org_tweets']"
   ]
  },
  {
   "cell_type": "markdown",
   "id": "afe112a1-3140-4783-a8d0-c4e57447b2b3",
   "metadata": {
    "jp-MarkdownHeadingCollapsed": true,
    "tags": []
   },
   "source": [
    "##### **Get english original tweets**"
   ]
  },
  {
   "cell_type": "code",
   "execution_count": 8,
   "id": "f680fb2d-5167-4a5d-87ea-c402a29db5e0",
   "metadata": {},
   "outputs": [],
   "source": [
    "df = pd.read_pickle(parsed_poster_org_tweets)"
   ]
  },
  {
   "cell_type": "code",
   "execution_count": 27,
   "id": "ec7b9ff4-2b9d-4e8c-b6d9-2cff3c28a525",
   "metadata": {},
   "outputs": [
    {
     "data": {
      "text/plain": [
       "array([None, 'ru', 'ar', 'qme', 'en', 'tr', 'no', 'sr', 'und', 'zxx',\n",
       "       'fa', 'pt', 'sl', 'in', 'art', 'fr', 'es', 'de', 'da', 'ja', 'et',\n",
       "       'th', 'qht', 'sv', 'uk', 'bg', 'tl', 'pl', 'hu', 'ko', 'nl', 'it',\n",
       "       'ca', 'lt', 'eu', 'cs', 'zh', 'el', 'qst', 'qam', 'vi', 'lv', 'hi',\n",
       "       'ur', 'ckb', 'ne', 'ps', 'ht', 'ro', 'iw', 'ta', 'fi', 'cy', 'mr'],\n",
       "      dtype=object)"
      ]
     },
     "execution_count": 27,
     "metadata": {},
     "output_type": "execute_result"
    }
   ],
   "source": [
    "df['lang'].unique()"
   ]
  },
  {
   "cell_type": "code",
   "execution_count": 22,
   "id": "81ae35bc-3d97-44ba-9c10-352c2088554a",
   "metadata": {},
   "outputs": [],
   "source": [
    "df_eng = df.loc[df['lang'] == 'en'].head()"
   ]
  },
  {
   "cell_type": "code",
   "execution_count": 25,
   "id": "fc343f00-6f85-4eab-b7d9-72135ddcfdc9",
   "metadata": {},
   "outputs": [
    {
     "name": "stderr",
     "output_type": "stream",
     "text": [
      "Some weights of the model checkpoint at bert-base-uncased were not used when initializing BertModel: ['cls.predictions.decoder.weight', 'cls.predictions.transform.dense.bias', 'cls.predictions.transform.LayerNorm.weight', 'cls.seq_relationship.weight', 'cls.seq_relationship.bias', 'cls.predictions.transform.LayerNorm.bias', 'cls.predictions.transform.dense.weight', 'cls.predictions.bias']\n",
      "- This IS expected if you are initializing BertModel from the checkpoint of a model trained on another task or with another architecture (e.g. initializing a BertForSequenceClassification model from a BertForPreTraining model).\n",
      "- This IS NOT expected if you are initializing BertModel from the checkpoint of a model that you expect to be exactly identical (initializing a BertForSequenceClassification model from a BertForSequenceClassification model).\n"
     ]
    }
   ],
   "source": [
    "sentences = df_eng['text'].tolist()\n",
    "embeddings = emb_hp.get_sentence_embedding(sentences)\n",
    "\n",
    "df_emb = pd.DataFrame(columns=['embeddings', 'tweetid'])\n",
    "df_emb['embeddings'] = embeddings\n",
    "df_emb['tweetid'] = df_eng['tweetid'].tolist()"
   ]
  },
  {
   "cell_type": "markdown",
   "id": "be44cdf8-da3c-4c72-b14f-c86f23567821",
   "metadata": {
    "tags": []
   },
   "source": [
    "##### **Get cosine of reply and original posted tweet**"
   ]
  },
  {
   "cell_type": "code",
   "execution_count": 29,
   "id": "7907e7d6-14b2-4afc-87a3-fe7d11a69c6e",
   "metadata": {},
   "outputs": [],
   "source": [
    "poster_path = config['POSTER_PATH']"
   ]
  },
  {
   "cell_type": "code",
   "execution_count": 30,
   "id": "f5438820-ac3b-4b9f-97da-0d3a48a6c80e",
   "metadata": {},
   "outputs": [],
   "source": [
    "poster_org_tweet_embedding = poster_path['poster_org_tweet_embedding']"
   ]
  },
  {
   "cell_type": "code",
   "execution_count": 31,
   "id": "6f2ea4ac-9c1a-4724-997a-217bd05a9569",
   "metadata": {
    "tags": []
   },
   "outputs": [],
   "source": [
    "df_poster_emb = pd.read_pickle(poster_org_tweet_embedding)"
   ]
  },
  {
   "cell_type": "code",
   "execution_count": 33,
   "id": "727e96d0-bffd-4818-92e7-0fae43dfe220",
   "metadata": {},
   "outputs": [
    {
     "data": {
      "text/html": [
       "<div>\n",
       "<style scoped>\n",
       "    .dataframe tbody tr th:only-of-type {\n",
       "        vertical-align: middle;\n",
       "    }\n",
       "\n",
       "    .dataframe tbody tr th {\n",
       "        vertical-align: top;\n",
       "    }\n",
       "\n",
       "    .dataframe thead th {\n",
       "        text-align: right;\n",
       "    }\n",
       "</style>\n",
       "<table border=\"1\" class=\"dataframe\">\n",
       "  <thead>\n",
       "    <tr style=\"text-align: right;\">\n",
       "      <th></th>\n",
       "      <th>tweetid</th>\n",
       "      <th>author_id</th>\n",
       "      <th>embeddings</th>\n",
       "    </tr>\n",
       "  </thead>\n",
       "  <tbody>\n",
       "    <tr>\n",
       "      <th>0</th>\n",
       "      <td>240862454089920512</td>\n",
       "      <td>63796828</td>\n",
       "      <td>[1.2969120740890503, -0.647092342376709, 1.747...</td>\n",
       "    </tr>\n",
       "  </tbody>\n",
       "</table>\n",
       "</div>"
      ],
      "text/plain": [
       "              tweetid author_id  \\\n",
       "0  240862454089920512  63796828   \n",
       "\n",
       "                                          embeddings  \n",
       "0  [1.2969120740890503, -0.647092342376709, 1.747...  "
      ]
     },
     "execution_count": 33,
     "metadata": {},
     "output_type": "execute_result"
    }
   ],
   "source": [
    "df_poster_emb.head(1)"
   ]
  },
  {
   "cell_type": "code",
   "execution_count": 34,
   "id": "09da1cad-11fc-4acb-8531-c37e90555ae4",
   "metadata": {},
   "outputs": [],
   "source": [
    "embedding_path = config['EMBEDDINGS_PATH']\n",
    "reply_english_embd = embedding_path['reply_embedding']"
   ]
  },
  {
   "cell_type": "code",
   "execution_count": 35,
   "id": "7eb28f67-fcb6-4b54-bb8d-fc6b56419f6f",
   "metadata": {},
   "outputs": [],
   "source": [
    "df_replies = pd.read_pickle(reply_english_embd)"
   ]
  },
  {
   "cell_type": "code",
   "execution_count": 36,
   "id": "642d11a0-cb14-4901-9136-e1d1e2fa1aa7",
   "metadata": {},
   "outputs": [
    {
     "data": {
      "text/plain": [
       "Index(['embeddings', 'replier_tweetid', 'poster_tweetid', 'poster_userid'], dtype='object')"
      ]
     },
     "execution_count": 36,
     "metadata": {},
     "output_type": "execute_result"
    }
   ],
   "source": [
    "df_replies.columns"
   ]
  },
  {
   "cell_type": "code",
   "execution_count": 37,
   "id": "7ecf8741-d540-4df8-b9f2-1da53e1b022e",
   "metadata": {},
   "outputs": [
    {
     "data": {
      "text/plain": [
       "Index(['tweetid', 'author_id', 'embeddings'], dtype='object')"
      ]
     },
     "execution_count": 37,
     "metadata": {},
     "output_type": "execute_result"
    }
   ],
   "source": [
    "df_poster_emb.columns"
   ]
  },
  {
   "cell_type": "markdown",
   "id": "c9d6e907-1e78-430c-a556-238a3e5c6b88",
   "metadata": {},
   "source": [
    "##### **External reply**"
   ]
  },
  {
   "cell_type": "code",
   "execution_count": 26,
   "id": "3ab0a0c4-f673-4e01-8565-515cbdd5ebbc",
   "metadata": {},
   "outputs": [
    {
     "data": {
      "text/plain": [
       "Index(['embeddings', 'replier_tweetid', 'poster_tweetid', 'poster_userid'], dtype='object')"
      ]
     },
     "execution_count": 26,
     "metadata": {},
     "output_type": "execute_result"
    }
   ],
   "source": [
    "df_replies.columns"
   ]
  },
  {
   "cell_type": "code",
   "execution_count": 27,
   "id": "5cece2bb-57a8-45a0-a146-1aa6f11fc9c2",
   "metadata": {},
   "outputs": [],
   "source": [
    "df_replies.to_pickle(reply_english_embd)"
   ]
  },
  {
   "cell_type": "code",
   "execution_count": null,
   "id": "432b0e86-f378-44ff-9483-7241b84ce6e8",
   "metadata": {},
   "outputs": [],
   "source": [
    "# poster_alive_file"
   ]
  },
  {
   "cell_type": "code",
   "execution_count": null,
   "id": "2c376055-02c1-4809-b868-ce9847847a2d",
   "metadata": {},
   "outputs": [],
   "source": []
  },
  {
   "cell_type": "code",
   "execution_count": null,
   "id": "760959c4-9d09-4871-9786-c0127fb881b6",
   "metadata": {},
   "outputs": [],
   "source": [
    "df_all = df_poster_emb.merge(df_replies[['']],\n",
    "                             left_on='',\n",
    "                             right_on='',\n",
    "                             "
   ]
  }
 ],
 "metadata": {
  "kernelspec": {
   "display_name": "Python 3 (ipykernel)",
   "language": "python",
   "name": "python3"
  },
  "language_info": {
   "codemirror_mode": {
    "name": "ipython",
    "version": 3
   },
   "file_extension": ".py",
   "mimetype": "text/x-python",
   "name": "python",
   "nbconvert_exporter": "python",
   "pygments_lexer": "ipython3",
   "version": "3.9.1"
  }
 },
 "nbformat": 4,
 "nbformat_minor": 5
}
