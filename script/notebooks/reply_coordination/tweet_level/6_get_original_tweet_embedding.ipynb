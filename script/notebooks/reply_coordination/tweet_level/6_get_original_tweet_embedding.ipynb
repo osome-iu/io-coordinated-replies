{
 "cells": [
  {
   "cell_type": "markdown",
   "id": "f74351dc-8c22-4db0-b93c-51edf129e64d",
   "metadata": {},
   "source": [
    "### **This notebook gets original tweet embedding**"
   ]
  },
  {
   "cell_type": "code",
   "execution_count": 6,
   "id": "e7b54482-ec44-4067-b093-b8d71eb1cd3d",
   "metadata": {},
   "outputs": [],
   "source": [
    "import pandas as pd\n",
    "import numpy as np\n",
    "import datetime\n",
    "import warnings\n",
    "import glob\n",
    "import seaborn as sns\n",
    "import matplotlib.pyplot as plt\n",
    "import matplotlib.colors as pltc\n",
    "from tqdm import tqdm\n",
    "import sys\n",
    "import os\n",
    "\n",
    "import importlib\n",
    "\n",
    "#### packages\n",
    "import helper.strategy_helper as st\n",
    "import helper.visualization as vz\n",
    "import helper.helper as hp\n",
    "import helper.file_helper as file_hp\n",
    "import config.config as config\n",
    "import helper.pandas_helper as pd_hp\n",
    "import helper.embedding as emb_hp"
   ]
  },
  {
   "cell_type": "markdown",
   "id": "07553640-bda5-46ed-b98d-de80698511cb",
   "metadata": {
    "jp-MarkdownHeadingCollapsed": true,
    "tags": []
   },
   "source": [
    "##### **Get log files**"
   ]
  },
  {
   "cell_type": "code",
   "execution_count": 7,
   "id": "72e89470-01b6-4c6c-989d-348115105d71",
   "metadata": {},
   "outputs": [],
   "source": [
    "config = config.config()\n",
    "poster_path = config['POSTER_PATH']\n",
    "parsed_poster_org_tweets = poster_path['parsed_poster_org_tweets']"
   ]
  },
  {
   "cell_type": "markdown",
   "id": "afe112a1-3140-4783-a8d0-c4e57447b2b3",
   "metadata": {
    "jp-MarkdownHeadingCollapsed": true,
    "tags": []
   },
   "source": [
    "##### **Get english original tweets**"
   ]
  },
  {
   "cell_type": "code",
   "execution_count": 8,
   "id": "f680fb2d-5167-4a5d-87ea-c402a29db5e0",
   "metadata": {},
   "outputs": [],
   "source": [
    "df = pd.read_pickle(parsed_poster_org_tweets)"
   ]
  },
  {
   "cell_type": "code",
   "execution_count": 27,
   "id": "ec7b9ff4-2b9d-4e8c-b6d9-2cff3c28a525",
   "metadata": {},
   "outputs": [
    {
     "data": {
      "text/plain": [
       "array([None, 'ru', 'ar', 'qme', 'en', 'tr', 'no', 'sr', 'und', 'zxx',\n",
       "       'fa', 'pt', 'sl', 'in', 'art', 'fr', 'es', 'de', 'da', 'ja', 'et',\n",
       "       'th', 'qht', 'sv', 'uk', 'bg', 'tl', 'pl', 'hu', 'ko', 'nl', 'it',\n",
       "       'ca', 'lt', 'eu', 'cs', 'zh', 'el', 'qst', 'qam', 'vi', 'lv', 'hi',\n",
       "       'ur', 'ckb', 'ne', 'ps', 'ht', 'ro', 'iw', 'ta', 'fi', 'cy', 'mr'],\n",
       "      dtype=object)"
      ]
     },
     "execution_count": 27,
     "metadata": {},
     "output_type": "execute_result"
    }
   ],
   "source": [
    "df['lang'].unique()"
   ]
  },
  {
   "cell_type": "code",
   "execution_count": 22,
   "id": "81ae35bc-3d97-44ba-9c10-352c2088554a",
   "metadata": {},
   "outputs": [],
   "source": [
    "df_eng = df.loc[df['lang'] == 'en'].head()"
   ]
  },
  {
   "cell_type": "code",
   "execution_count": 25,
   "id": "fc343f00-6f85-4eab-b7d9-72135ddcfdc9",
   "metadata": {},
   "outputs": [
    {
     "name": "stderr",
     "output_type": "stream",
     "text": [
      "Some weights of the model checkpoint at bert-base-uncased were not used when initializing BertModel: ['cls.predictions.decoder.weight', 'cls.predictions.transform.dense.bias', 'cls.predictions.transform.LayerNorm.weight', 'cls.seq_relationship.weight', 'cls.seq_relationship.bias', 'cls.predictions.transform.LayerNorm.bias', 'cls.predictions.transform.dense.weight', 'cls.predictions.bias']\n",
      "- This IS expected if you are initializing BertModel from the checkpoint of a model trained on another task or with another architecture (e.g. initializing a BertForSequenceClassification model from a BertForPreTraining model).\n",
      "- This IS NOT expected if you are initializing BertModel from the checkpoint of a model that you expect to be exactly identical (initializing a BertForSequenceClassification model from a BertForSequenceClassification model).\n"
     ]
    }
   ],
   "source": [
    "sentences = df_eng['text'].tolist()\n",
    "embeddings = emb_hp.get_sentence_embedding(sentences)\n",
    "\n",
    "df_emb = pd.DataFrame(columns=['embeddings', 'tweetid'])\n",
    "df_emb['embeddings'] = embeddings\n",
    "df_emb['tweetid'] = df_eng['tweetid'].tolist()"
   ]
  },
  {
   "cell_type": "markdown",
   "id": "be44cdf8-da3c-4c72-b14f-c86f23567821",
   "metadata": {},
   "source": [
    "##### **Get cosine of reply and original posted tweet**"
   ]
  },
  {
   "cell_type": "code",
   "execution_count": null,
   "id": "f5438820-ac3b-4b9f-97da-0d3a48a6c80e",
   "metadata": {},
   "outputs": [],
   "source": []
  }
 ],
 "metadata": {
  "kernelspec": {
   "display_name": "Python 3 (ipykernel)",
   "language": "python",
   "name": "python3"
  },
  "language_info": {
   "codemirror_mode": {
    "name": "ipython",
    "version": 3
   },
   "file_extension": ".py",
   "mimetype": "text/x-python",
   "name": "python",
   "nbconvert_exporter": "python",
   "pygments_lexer": "ipython3",
   "version": "3.9.1"
  }
 },
 "nbformat": 4,
 "nbformat_minor": 5
}
