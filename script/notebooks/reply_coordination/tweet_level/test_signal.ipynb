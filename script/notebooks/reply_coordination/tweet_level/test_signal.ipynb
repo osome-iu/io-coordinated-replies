{
 "cells": [
  {
   "cell_type": "markdown",
   "id": "14608366-19a3-4872-9579-2615f85bfe5f",
   "metadata": {},
   "source": [
    "### **This notebook tests whether there is any signal**"
   ]
  },
  {
   "cell_type": "code",
   "execution_count": 2,
   "id": "5cb5a32e-5c15-48a1-a393-e28faf5e971c",
   "metadata": {},
   "outputs": [],
   "source": [
    "import pandas as pd\n",
    "import numpy as np\n",
    "import warnings\n",
    "import glob\n",
    "import seaborn as sns\n",
    "import matplotlib.pyplot as plt\n",
    "import matplotlib.colors as pltc\n",
    "from tqdm import tqdm\n",
    "import sys\n",
    "import os\n",
    "\n",
    "import importlib\n",
    "\n",
    "#### packages\n",
    "import helper.strategy_helper as st\n",
    "import helper.visualization as vz\n",
    "import helper.helper as hp\n",
    "import helper.file_helper as file_hp\n",
    "import config.config as config"
   ]
  },
  {
   "cell_type": "code",
   "execution_count": 3,
   "id": "a7483c2e-9330-49f4-9660-e80bf1e65665",
   "metadata": {},
   "outputs": [],
   "source": [
    "config = config.config()\n",
    "path = config['PATHS']\n",
    "\n",
    "derived_path = path['derived_path']\n",
    "all_tweet_data = path['all_tweet_data']\n",
    "plot_path = path['plot_path']\n",
    "\n",
    "file_hp.create_folder(plot_path, 'reply_count')\n",
    "reply_path = os.path.join(plot_path, 'reply_count')"
   ]
  },
  {
   "cell_type": "code",
   "execution_count": 5,
   "id": "37f9360c-deb9-49c8-9d11-b321a5635758",
   "metadata": {},
   "outputs": [],
   "source": [
    "year = '2020_12'\n",
    "type_of = 'ops'\n",
    "campaign = 'iran_202012'"
   ]
  },
  {
   "cell_type": "code",
   "execution_count": 6,
   "id": "3294b08c-6ae8-4137-b009-ef1eed358e47",
   "metadata": {},
   "outputs": [],
   "source": [
    "data_path = st.get_data_path(all_tweet_data, year, \n",
    "                                     campaign)\n",
    "\n",
    "data = st.read_ops_control_data(data_path['ops'],\n",
    "                                data_path['control'], \n",
    "                             [type_of])\n",
    "df_w = data[type_of]"
   ]
  },
  {
   "cell_type": "code",
   "execution_count": 7,
   "id": "eceab215-2808-460b-957d-e2339aaee697",
   "metadata": {},
   "outputs": [],
   "source": [
    "df = st.reply_to_external_users(df_w)"
   ]
  },
  {
   "cell_type": "code",
   "execution_count": 15,
   "id": "057f9ec6-18dc-4c45-8b56-5dd3f04f5867",
   "metadata": {},
   "outputs": [],
   "source": [
    "df = df.astype({'in_reply_to_userid': int,\n",
    "                'in_reply_to_tweetid': int\n",
    "               })"
   ]
  },
  {
   "cell_type": "code",
   "execution_count": 16,
   "id": "ac5e6f71-2006-4c7b-9712-ceea689f86a6",
   "metadata": {},
   "outputs": [
    {
     "data": {
      "text/html": [
       "<div>\n",
       "<style scoped>\n",
       "    .dataframe tbody tr th:only-of-type {\n",
       "        vertical-align: middle;\n",
       "    }\n",
       "\n",
       "    .dataframe tbody tr th {\n",
       "        vertical-align: top;\n",
       "    }\n",
       "\n",
       "    .dataframe thead th {\n",
       "        text-align: right;\n",
       "    }\n",
       "</style>\n",
       "<table border=\"1\" class=\"dataframe\">\n",
       "  <thead>\n",
       "    <tr style=\"text-align: right;\">\n",
       "      <th></th>\n",
       "      <th>tweetid</th>\n",
       "      <th>userid</th>\n",
       "      <th>tweet_text</th>\n",
       "      <th>in_reply_to_userid</th>\n",
       "      <th>in_reply_to_tweetid</th>\n",
       "    </tr>\n",
       "  </thead>\n",
       "  <tbody>\n",
       "    <tr>\n",
       "      <th>79</th>\n",
       "      <td>1272844638005735425</td>\n",
       "      <td>827246726021005314</td>\n",
       "      <td>@kiando_ اوه دهنم سرویس تر شد که 😖😖</td>\n",
       "      <td>1143906346686963712</td>\n",
       "      <td>1272843640801505280</td>\n",
       "    </tr>\n",
       "    <tr>\n",
       "      <th>82</th>\n",
       "      <td>1247717737155215361</td>\n",
       "      <td>827246726021005314</td>\n",
       "      <td>@Adisia5 انتخابت درستِ ✊🏼✊🏼🤤</td>\n",
       "      <td>1223364749322342400</td>\n",
       "      <td>1247290722442776576</td>\n",
       "    </tr>\n",
       "    <tr>\n",
       "      <th>83</th>\n",
       "      <td>1213896951483097089</td>\n",
       "      <td>827246726021005314</td>\n",
       "      <td>@kermeabrisham2 ابجو میخورم میرم شمال</td>\n",
       "      <td>1138878994525413376</td>\n",
       "      <td>1213559912330121216</td>\n",
       "    </tr>\n",
       "    <tr>\n",
       "      <th>93</th>\n",
       "      <td>1236505668053590016</td>\n",
       "      <td>827246726021005314</td>\n",
       "      <td>@itspersephoneh 👏🏼👏🏼👌🏼</td>\n",
       "      <td>1157649340174876672</td>\n",
       "      <td>1236504670052515840</td>\n",
       "    </tr>\n",
       "    <tr>\n",
       "      <th>112</th>\n",
       "      <td>1339061299745964033</td>\n",
       "      <td>1170591537081671680</td>\n",
       "      <td>@_llemonade Hadeeh</td>\n",
       "      <td>1278111685744619520</td>\n",
       "      <td>1339009263507701760</td>\n",
       "    </tr>\n",
       "  </tbody>\n",
       "</table>\n",
       "</div>"
      ],
      "text/plain": [
       "                 tweetid               userid  \\\n",
       "79   1272844638005735425   827246726021005314   \n",
       "82   1247717737155215361   827246726021005314   \n",
       "83   1213896951483097089   827246726021005314   \n",
       "93   1236505668053590016   827246726021005314   \n",
       "112  1339061299745964033  1170591537081671680   \n",
       "\n",
       "                                tweet_text   in_reply_to_userid  \\\n",
       "79     @kiando_ اوه دهنم سرویس تر شد که 😖😖  1143906346686963712   \n",
       "82            @Adisia5 انتخابت درستِ ✊🏼✊🏼🤤  1223364749322342400   \n",
       "83   @kermeabrisham2 ابجو میخورم میرم شمال  1138878994525413376   \n",
       "93                  @itspersephoneh 👏🏼👏🏼👌🏼  1157649340174876672   \n",
       "112                     @_llemonade Hadeeh  1278111685744619520   \n",
       "\n",
       "     in_reply_to_tweetid  \n",
       "79   1272843640801505280  \n",
       "82   1247290722442776576  \n",
       "83   1213559912330121216  \n",
       "93   1236504670052515840  \n",
       "112  1339009263507701760  "
      ]
     },
     "execution_count": 16,
     "metadata": {},
     "output_type": "execute_result"
    }
   ],
   "source": [
    "df[['tweetid', 'userid', 'tweet_text', 'in_reply_to_userid',\n",
    "    'in_reply_to_tweetid'\n",
    "   ]] .head()"
   ]
  },
  {
   "cell_type": "code",
   "execution_count": null,
   "id": "8531461c-b4f8-48c2-bef1-d2201cd4e5c2",
   "metadata": {},
   "outputs": [],
   "source": []
  }
 ],
 "metadata": {
  "kernelspec": {
   "display_name": "Python 3 (ipykernel)",
   "language": "python",
   "name": "python3"
  },
  "language_info": {
   "codemirror_mode": {
    "name": "ipython",
    "version": 3
   },
   "file_extension": ".py",
   "mimetype": "text/x-python",
   "name": "python",
   "nbconvert_exporter": "python",
   "pygments_lexer": "ipython3",
   "version": "3.9.1"
  }
 },
 "nbformat": 4,
 "nbformat_minor": 5
}
