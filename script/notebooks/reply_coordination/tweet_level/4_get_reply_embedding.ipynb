{
 "cells": [
  {
   "cell_type": "markdown",
   "id": "7c3acb7b-9861-4edd-87b8-c115d195d908",
   "metadata": {},
   "source": [
    "##### **This embedding gets the reply embeddings for english replies**"
   ]
  },
  {
   "cell_type": "code",
   "execution_count": 1,
   "id": "88d24d53-d28f-41ea-b096-7ca3fc72df9c",
   "metadata": {
    "tags": []
   },
   "outputs": [
    {
     "name": "stderr",
     "output_type": "stream",
     "text": [
      "2023-03-19 17:32:41.327210: I tensorflow/core/platform/cpu_feature_guard.cc:193] This TensorFlow binary is optimized with oneAPI Deep Neural Network Library (oneDNN) to use the following CPU instructions in performance-critical operations:  AVX2 FMA\n",
      "To enable them in other operations, rebuild TensorFlow with the appropriate compiler flags.\n",
      "2023-03-19 17:32:41.765203: W tensorflow/compiler/xla/stream_executor/platform/default/dso_loader.cc:64] Could not load dynamic library 'libcudart.so.11.0'; dlerror: libcudart.so.11.0: cannot open shared object file: No such file or directory; LD_LIBRARY_PATH: /N/soft/rhel8/mvapich/gnu/2.3.5/lib:/N/soft/rhel8/gcc/9.3.0/lib64:/N/soft/rhel8/gcc/9.3.0/lib\n",
      "2023-03-19 17:32:41.765243: I tensorflow/compiler/xla/stream_executor/cuda/cudart_stub.cc:29] Ignore above cudart dlerror if you do not have a GPU set up on your machine.\n",
      "2023-03-19 17:32:45.010056: W tensorflow/compiler/xla/stream_executor/platform/default/dso_loader.cc:64] Could not load dynamic library 'libnvinfer.so.7'; dlerror: libnvinfer.so.7: cannot open shared object file: No such file or directory; LD_LIBRARY_PATH: /N/soft/rhel8/mvapich/gnu/2.3.5/lib:/N/soft/rhel8/gcc/9.3.0/lib64:/N/soft/rhel8/gcc/9.3.0/lib\n",
      "2023-03-19 17:32:45.010360: W tensorflow/compiler/xla/stream_executor/platform/default/dso_loader.cc:64] Could not load dynamic library 'libnvinfer_plugin.so.7'; dlerror: libnvinfer_plugin.so.7: cannot open shared object file: No such file or directory; LD_LIBRARY_PATH: /N/soft/rhel8/mvapich/gnu/2.3.5/lib:/N/soft/rhel8/gcc/9.3.0/lib64:/N/soft/rhel8/gcc/9.3.0/lib\n",
      "2023-03-19 17:32:45.010371: W tensorflow/compiler/tf2tensorrt/utils/py_utils.cc:38] TF-TRT Warning: Cannot dlopen some TensorRT libraries. If you would like to use Nvidia GPU with TensorRT, please make sure the missing libraries mentioned above are installed properly.\n"
     ]
    }
   ],
   "source": [
    "import pandas as pd\n",
    "import numpy as np\n",
    "import datetime\n",
    "import warnings\n",
    "import glob\n",
    "import seaborn as sns\n",
    "import matplotlib.pyplot as plt\n",
    "import matplotlib.colors as pltc\n",
    "from tqdm import tqdm\n",
    "import sys\n",
    "import os\n",
    "\n",
    "import importlib\n",
    "\n",
    "#### packages\n",
    "import helper.strategy_helper as st\n",
    "import helper.visualization as vz\n",
    "import helper.helper as hp\n",
    "import helper.file_helper as file_hp\n",
    "import config.config as config_hp\n",
    "import helper.pandas_helper as pd_hp\n",
    "import helper.embedding as emb_hp"
   ]
  },
  {
   "cell_type": "markdown",
   "id": "8be8f176-aa42-48c3-9d64-4c2df90ec0a0",
   "metadata": {
    "jp-MarkdownHeadingCollapsed": true,
    "tags": []
   },
   "source": [
    "##### **Get log files**"
   ]
  },
  {
   "cell_type": "code",
   "execution_count": 2,
   "id": "8c2ea5a8-7f49-442b-805f-73b6b7bd77b9",
   "metadata": {},
   "outputs": [
    {
     "name": "stdout",
     "output_type": "stream",
     "text": [
      "/N/slate/potem/data/derived/reply_embedding/all_reply_embedding.pkl.gz\n"
     ]
    }
   ],
   "source": [
    "config = config_hp.config()\n",
    "path = config['PATHS']\n",
    "\n",
    "derived_path = path['derived_path']\n",
    "all_replies = path['all_replies']\n",
    "\n",
    "file_hp.create_folder(derived_path, 'reply_embedding')\n",
    "reply_embedding_path = os.path.join(derived_path, 'reply_embedding')\n",
    "reply_embedding_file = os.path.join(reply_embedding_path, \n",
    "                                    'all_reply_embedding.pkl.gz')\n",
    "print(reply_embedding_file)"
   ]
  },
  {
   "cell_type": "markdown",
   "id": "80d96a2a-4331-41fc-8ff6-c4c5a1343044",
   "metadata": {
    "jp-MarkdownHeadingCollapsed": true,
    "tags": []
   },
   "source": [
    "##### **Get all replies in english**"
   ]
  },
  {
   "cell_type": "code",
   "execution_count": 3,
   "id": "f1092650-0cc4-42c7-9944-12902f69e48c",
   "metadata": {},
   "outputs": [],
   "source": [
    "df_replies = pd.read_pickle(all_replies)"
   ]
  },
  {
   "cell_type": "code",
   "execution_count": 4,
   "id": "574313c9-a0c8-44ca-b15c-7334f2bcfc6e",
   "metadata": {},
   "outputs": [
    {
     "name": "stdout",
     "output_type": "stream",
     "text": [
      "<class 'pandas.core.frame.DataFrame'>\n",
      "RangeIndex: 21427155 entries, 0 to 21427154\n",
      "Data columns (total 9 columns):\n",
      " #   Column           Dtype \n",
      "---  ------           ----- \n",
      " 0   replier_tweetid  object\n",
      " 1   replier_userid   object\n",
      " 2   poster_tweetid   object\n",
      " 3   poster_userid    object\n",
      " 4   tweet_language   object\n",
      " 5   tweet_text       object\n",
      " 6   tweet_time       object\n",
      " 7   year             object\n",
      " 8   campaign         object\n",
      "dtypes: object(9)\n",
      "memory usage: 1.4+ GB\n"
     ]
    }
   ],
   "source": [
    "df_replies.info()"
   ]
  },
  {
   "cell_type": "code",
   "execution_count": 5,
   "id": "6714057e-a7ab-405c-b2a4-16bde9772ff7",
   "metadata": {},
   "outputs": [
    {
     "data": {
      "text/plain": [
       "Index(['replier_tweetid', 'replier_userid', 'poster_tweetid', 'poster_userid',\n",
       "       'tweet_language', 'tweet_text', 'tweet_time', 'year', 'campaign'],\n",
       "      dtype='object')"
      ]
     },
     "execution_count": 5,
     "metadata": {},
     "output_type": "execute_result"
    }
   ],
   "source": [
    "df_replies.columns"
   ]
  },
  {
   "cell_type": "code",
   "execution_count": 16,
   "id": "30d1fc2a-a16d-4a63-9b0f-a438694465d4",
   "metadata": {},
   "outputs": [],
   "source": [
    "# df_replies['replier_tweetid'].unique()"
   ]
  },
  {
   "cell_type": "code",
   "execution_count": 6,
   "id": "5e431c74-1f0d-45e7-b704-553a1f82f3ba",
   "metadata": {},
   "outputs": [],
   "source": [
    "df_eng = df_replies.loc[df_replies['tweet_language'] == 'en']\n",
    "df_eng = df_eng.drop_duplicates()"
   ]
  },
  {
   "cell_type": "code",
   "execution_count": 7,
   "id": "a05ca5fd-e5dd-4750-87d2-134bdc3ba647",
   "metadata": {},
   "outputs": [
    {
     "name": "stdout",
     "output_type": "stream",
     "text": [
      "<class 'pandas.core.frame.DataFrame'>\n",
      "Int64Index: 798186 entries, 0 to 21427154\n",
      "Data columns (total 9 columns):\n",
      " #   Column           Non-Null Count   Dtype \n",
      "---  ------           --------------   ----- \n",
      " 0   replier_tweetid  798186 non-null  object\n",
      " 1   replier_userid   798186 non-null  object\n",
      " 2   poster_tweetid   798186 non-null  object\n",
      " 3   poster_userid    798186 non-null  object\n",
      " 4   tweet_language   798186 non-null  object\n",
      " 5   tweet_text       798186 non-null  object\n",
      " 6   tweet_time       798186 non-null  object\n",
      " 7   year             798186 non-null  object\n",
      " 8   campaign         798186 non-null  object\n",
      "dtypes: object(9)\n",
      "memory usage: 60.9+ MB\n"
     ]
    }
   ],
   "source": [
    "df_eng.info()"
   ]
  },
  {
   "cell_type": "code",
   "execution_count": 8,
   "id": "9c603fa1-9a21-4855-bde7-31650c7f6769",
   "metadata": {},
   "outputs": [],
   "source": [
    "sentences = df_eng.head()['tweet_text'].tolist()"
   ]
  },
  {
   "cell_type": "code",
   "execution_count": 9,
   "id": "930adcfc-51a7-4d2c-b425-077d6ef23cf4",
   "metadata": {},
   "outputs": [
    {
     "name": "stderr",
     "output_type": "stream",
     "text": [
      "Some weights of the model checkpoint at bert-base-uncased were not used when initializing BertModel: ['cls.seq_relationship.bias', 'cls.predictions.transform.dense.weight', 'cls.seq_relationship.weight', 'cls.predictions.transform.LayerNorm.bias', 'cls.predictions.bias', 'cls.predictions.decoder.weight', 'cls.predictions.transform.dense.bias', 'cls.predictions.transform.LayerNorm.weight']\n",
      "- This IS expected if you are initializing BertModel from the checkpoint of a model trained on another task or with another architecture (e.g. initializing a BertForSequenceClassification model from a BertForPreTraining model).\n",
      "- This IS NOT expected if you are initializing BertModel from the checkpoint of a model that you expect to be exactly identical (initializing a BertForSequenceClassification model from a BertForSequenceClassification model).\n"
     ]
    }
   ],
   "source": [
    "embeddings = emb_hp.get_sentence_embedding(sentences)\n",
    "\n",
    "df_emb = pd.DataFrame(columns=['embeddings', 'replier_tweetid'])\n",
    "df_emb['embeddings'] = embeddings\n",
    "df_emb['replier_tweetid'] = df_eng['replier_tweetid']\n",
    "\n",
    "df_emb.to_pickle(f'{reply_embedding_file}')"
   ]
  },
  {
   "cell_type": "markdown",
   "id": "93dab2fc-867e-4372-8dcc-6b71f8eccf34",
   "metadata": {
    "tags": []
   },
   "source": [
    "##### **Get cosine of reply embeddings**"
   ]
  },
  {
   "cell_type": "markdown",
   "id": "e052eb19-c768-4aad-a095-dcbdf07491ee",
   "metadata": {
    "tags": []
   },
   "source": [
    "###### **Load config**"
   ]
  },
  {
   "cell_type": "code",
   "execution_count": 2,
   "id": "e1fb6ae2-2854-47c7-b63e-c6f43d41e2f9",
   "metadata": {},
   "outputs": [],
   "source": [
    "config = config_hp.config()\n",
    "path = config['PATHS']\n",
    "external_replies = path['external_reply']\n",
    "emb_path = config['EMBEDDINGS_PATH']\n",
    "reply_embedding = emb_path['reply_embedding']\n",
    "english_reply_cosine = emb_path['reply_english_cosine']"
   ]
  },
  {
   "cell_type": "markdown",
   "id": "175ff2eb-f815-494b-bf36-bb4a9d2a4c83",
   "metadata": {
    "tags": []
   },
   "source": [
    "###### **Read external replies and filter english replies**"
   ]
  },
  {
   "cell_type": "code",
   "execution_count": 3,
   "id": "a9144e0e-27f1-4eac-a1a2-84d4d8180c08",
   "metadata": {},
   "outputs": [],
   "source": [
    "df_replies = pd.read_pickle(external_replies)\n",
    "df_eng = df_replies.loc[df_replies['tweet_language'] == 'en']"
   ]
  },
  {
   "cell_type": "code",
   "execution_count": 4,
   "id": "365ddae1-9979-4198-8b40-626be7835420",
   "metadata": {},
   "outputs": [
    {
     "name": "stdout",
     "output_type": "stream",
     "text": [
      "<class 'pandas.core.frame.DataFrame'>\n",
      "Int64Index: 798186 entries, 0 to 21427153\n",
      "Data columns (total 8 columns):\n",
      " #   Column           Non-Null Count   Dtype  \n",
      "---  ------           --------------   -----  \n",
      " 0   replier_tweetid  798186 non-null  int64  \n",
      " 1   replier_userid   798186 non-null  object \n",
      " 2   poster_tweetid   798186 non-null  float64\n",
      " 3   poster_userid    798186 non-null  float64\n",
      " 4   tweet_language   798186 non-null  object \n",
      " 5   tweet_time       798186 non-null  object \n",
      " 6   year             798186 non-null  object \n",
      " 7   campaign         798186 non-null  object \n",
      "dtypes: float64(2), int64(1), object(5)\n",
      "memory usage: 54.8+ MB\n"
     ]
    }
   ],
   "source": [
    "df_eng = df_eng.drop_duplicates()\n",
    "\n",
    "df_eng.info()"
   ]
  },
  {
   "cell_type": "code",
   "execution_count": 5,
   "id": "3be39e83-bb14-480a-8566-67eadbdbd33a",
   "metadata": {},
   "outputs": [],
   "source": [
    "df_eng = df_eng.drop_duplicates(subset=['replier_tweetid'], \n",
    "                                keep='last')"
   ]
  },
  {
   "cell_type": "code",
   "execution_count": 6,
   "id": "fcce77b1-81ad-4dc9-8069-04799b89087c",
   "metadata": {},
   "outputs": [
    {
     "data": {
      "text/plain": [
       "795335"
      ]
     },
     "execution_count": 6,
     "metadata": {},
     "output_type": "execute_result"
    }
   ],
   "source": [
    "df_eng['replier_tweetid'].nunique()"
   ]
  },
  {
   "cell_type": "markdown",
   "id": "840ce7c6-b21b-4a85-9605-7389943c60ef",
   "metadata": {},
   "source": [
    "###### **Read embedding of all replies**"
   ]
  },
  {
   "cell_type": "code",
   "execution_count": 7,
   "id": "b33337e6-440e-4ee3-8aa1-96373400b573",
   "metadata": {},
   "outputs": [],
   "source": [
    "df_emb = pd.read_pickle(f'{reply_embedding}')"
   ]
  },
  {
   "cell_type": "code",
   "execution_count": 8,
   "id": "94b2bd1c-7308-41e1-9b5e-41f78193820d",
   "metadata": {},
   "outputs": [
    {
     "name": "stdout",
     "output_type": "stream",
     "text": [
      "<class 'pandas.core.frame.DataFrame'>\n",
      "RangeIndex: 795833 entries, 0 to 795832\n",
      "Data columns (total 2 columns):\n",
      " #   Column           Non-Null Count   Dtype \n",
      "---  ------           --------------   ----- \n",
      " 0   embeddings       795833 non-null  object\n",
      " 1   replier_tweetid  795833 non-null  int64 \n",
      "dtypes: int64(1), object(1)\n",
      "memory usage: 12.1+ MB\n"
     ]
    }
   ],
   "source": [
    "df_emb.info()"
   ]
  },
  {
   "cell_type": "markdown",
   "id": "11969fe3-5f40-40a1-aa3a-311452b19762",
   "metadata": {},
   "source": [
    "###### **Get only replies in english**"
   ]
  },
  {
   "cell_type": "code",
   "execution_count": 9,
   "id": "42ddb4e4-d13c-49c0-8320-5894a0c9e8f5",
   "metadata": {},
   "outputs": [],
   "source": [
    "df_ex_emb = df_emb.loc[\n",
    "    df_emb['replier_tweetid'].isin(\n",
    "        df_eng['replier_tweetid'])]"
   ]
  },
  {
   "cell_type": "code",
   "execution_count": 10,
   "id": "dce9869a-0edd-4422-8ab5-8cd4b8928632",
   "metadata": {},
   "outputs": [],
   "source": [
    "df_ex_emb = df_ex_emb.merge(df_eng, on=['replier_tweetid'])"
   ]
  },
  {
   "cell_type": "code",
   "execution_count": 12,
   "id": "8a1260f0-cc05-4ed0-a439-7497128919fb",
   "metadata": {},
   "outputs": [],
   "source": [
    "from itertools import combinations\n",
    "from sklearn.metrics.pairwise import cosine_similarity\n",
    "\n",
    "def get_cosine(vector_list):\n",
    "    '''\n",
    "    Get the cosine similarity of the vector list\n",
    "    :param vector_list: list of embedding vectors\n",
    "    \n",
    "    :return list\n",
    "    '''\n",
    "    ref_comb = combinations(vector_list, 2)\n",
    "    all_cosine = []\n",
    "    \n",
    "    for ref in ref_comb:\n",
    "        cosine_ref_ref = round(cosine_similarity([ref[0]],\n",
    "                                                 [ref[1]])[0][0],\n",
    "                               2)\n",
    "        all_cosine.append(cosine_ref_ref)\n",
    "        \n",
    "    return all_cosine"
   ]
  },
  {
   "cell_type": "code",
   "execution_count": 25,
   "id": "4b481821-0d54-4400-986f-7bdee1d3bc28",
   "metadata": {},
   "outputs": [],
   "source": [
    "grps = df_ex_emb.groupby(['poster_tweetid'])"
   ]
  },
  {
   "cell_type": "code",
   "execution_count": 46,
   "id": "c5662c6f-9a90-4af8-a9a3-0b030f4a7a40",
   "metadata": {},
   "outputs": [],
   "source": [
    "def get_reply_cosines(grps, save_path=None):\n",
    "    '''\n",
    "    Get the cosines of all reply combinations\n",
    "    :param grps: the group of replies to poster tweet ids\n",
    "    '''\n",
    "    all_cosine = []\n",
    "    for grp in grps:\n",
    "        if len(grp[1]) > 1:\n",
    "            cosine_value = get_cosine(grp[1]['embeddings'].tolist())\n",
    "            all_cosine.append([grp[0], cosine_value])\n",
    "\n",
    "    df = pd.DataFrame(data=all_reply_cosine, \n",
    "                  columns=['poster_tweetid', 'cosine']\n",
    "                     )\n",
    "    if save_path == None:\n",
    "        return df\n",
    "    \n",
    "    df.to_pickle(save_path)\n",
    "\n",
    "    \n",
    "# get_reply_cosines(grps, english_reply_cosine)"
   ]
  },
  {
   "cell_type": "markdown",
   "id": "8085087e-523b-4e13-a28c-dcafc619a766",
   "metadata": {},
   "source": [
    "###### **Read poster tweets with 2 or more replies in english and find number of tweets with less than 2**"
   ]
  },
  {
   "cell_type": "code",
   "execution_count": 47,
   "id": "a57be986-5319-402d-abd1-8807afd839dd",
   "metadata": {},
   "outputs": [],
   "source": [
    "df_cosine = pd.read_pickle(english_reply_cosine)"
   ]
  },
  {
   "cell_type": "code",
   "execution_count": 48,
   "id": "fdaf4fdb-7f3b-4647-a81c-55ade2f2b4d4",
   "metadata": {},
   "outputs": [
    {
     "name": "stdout",
     "output_type": "stream",
     "text": [
      "<class 'pandas.core.frame.DataFrame'>\n",
      "RangeIndex: 30109 entries, 0 to 30108\n",
      "Data columns (total 2 columns):\n",
      " #   Column          Non-Null Count  Dtype  \n",
      "---  ------          --------------  -----  \n",
      " 0   poster_tweetid  30109 non-null  float64\n",
      " 1   cosine          0 non-null      object \n",
      "dtypes: float64(1), object(1)\n",
      "memory usage: 470.6+ KB\n"
     ]
    }
   ],
   "source": [
    "df_cosine.info()"
   ]
  },
  {
   "cell_type": "code",
   "execution_count": null,
   "id": "1f8fc690-3995-453e-ae31-947629fe7061",
   "metadata": {},
   "outputs": [],
   "source": []
  }
 ],
 "metadata": {
  "kernelspec": {
   "display_name": "Python 3 (ipykernel)",
   "language": "python",
   "name": "python3"
  },
  "language_info": {
   "codemirror_mode": {
    "name": "ipython",
    "version": 3
   },
   "file_extension": ".py",
   "mimetype": "text/x-python",
   "name": "python",
   "nbconvert_exporter": "python",
   "pygments_lexer": "ipython3",
   "version": "3.9.1"
  }
 },
 "nbformat": 4,
 "nbformat_minor": 5
}
