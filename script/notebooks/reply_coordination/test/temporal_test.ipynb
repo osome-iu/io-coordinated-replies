{
 "cells": [
  {
   "cell_type": "markdown",
   "id": "6452dc62-3f75-4d51-b81e-20730379fbd5",
   "metadata": {},
   "source": [
    "### **This notebook looks into the timeseries of reply each poster got from IO account within different interval.**"
   ]
  },
  {
   "cell_type": "code",
   "execution_count": 1,
   "id": "46a7bfd3-74d0-4553-bd85-c45fa1882ed5",
   "metadata": {},
   "outputs": [],
   "source": [
    "import pandas as pd\n",
    "import numpy as np\n",
    "import warnings\n",
    "import glob\n",
    "import seaborn as sns\n",
    "import matplotlib.pyplot as plt\n",
    "import matplotlib.colors as pltc\n",
    "from tqdm import tqdm\n",
    "import sys\n",
    "import os\n",
    "import networkx as nx\n",
    "import datetime\n",
    "\n",
    "import importlib\n",
    "\n",
    "#### packages\n",
    "import helper.strategy_helper as st\n",
    "import helper.visualization as vz\n",
    "import helper.helper as hp\n",
    "import helper.file_helper as file_hp\n",
    "import config.config as config"
   ]
  },
  {
   "cell_type": "markdown",
   "id": "858ae3e0-1d7f-4163-ad06-18880ef1d02c",
   "metadata": {},
   "source": [
    "##### **Read paths**Test campaign"
   ]
  },
  {
   "cell_type": "code",
   "execution_count": 2,
   "id": "876b076e-23b5-47f3-8a93-16a827183feb",
   "metadata": {},
   "outputs": [],
   "source": [
    "config = config.config()\n",
    "path = config['PATHS']\n",
    "\n",
    "derived_path = path['derived_path']\n",
    "all_tweet_data = path['all_tweet_data']\n",
    "plot_path = path['plot_path']"
   ]
  },
  {
   "cell_type": "markdown",
   "id": "974d1c3a-1947-4b4b-b1ef-d93bd391f77d",
   "metadata": {},
   "source": [
    "##### **Read all campaigns**"
   ]
  },
  {
   "cell_type": "code",
   "execution_count": 3,
   "id": "27fced56-af5c-45f7-bdb8-1f7ce7059053",
   "metadata": {},
   "outputs": [],
   "source": [
    "all_campaigns, names = st.bundle_campaign()"
   ]
  },
  {
   "cell_type": "markdown",
   "id": "e3895e34-4603-4c66-bfc5-bfbe3a6ba1d4",
   "metadata": {},
   "source": [
    "##### **Create folder for plots**"
   ]
  },
  {
   "cell_type": "code",
   "execution_count": 4,
   "id": "870efce9-39ab-4dab-8aa8-357740b31390",
   "metadata": {},
   "outputs": [],
   "source": [
    "file_hp.create_folder(plot_path, \n",
    "                      'reply_time_series')\n",
    "time_plot_path = os.path.join(plot_path, \n",
    "                          'reply_time_series')"
   ]
  },
  {
   "cell_type": "markdown",
   "id": "d9919d08-1202-4996-89eb-5b1636250808",
   "metadata": {},
   "source": [
    "##### **Test campaign**"
   ]
  },
  {
   "cell_type": "code",
   "execution_count": 5,
   "id": "b86929e0-fa38-402e-ae28-dfad185989ca",
   "metadata": {},
   "outputs": [],
   "source": [
    "year = '2020_12'\n",
    "campaign = 'iran_202012'\n",
    "type_of = 'ops'"
   ]
  },
  {
   "cell_type": "markdown",
   "id": "0dd5e36a-8c12-4775-a6bd-213cb79e73fc",
   "metadata": {},
   "source": [
    "##### **Read IO data**"
   ]
  },
  {
   "cell_type": "code",
   "execution_count": 6,
   "id": "896ea5bf-b56a-44ed-87ca-77474edae650",
   "metadata": {},
   "outputs": [],
   "source": [
    "data_path = st.get_data_path(all_tweet_data, \n",
    "                                 year, \n",
    "                                 campaign)\n",
    "\n",
    "df = st.read_ops_control_data(data_path['ops'],\n",
    "                                data_path['control'], \n",
    "                             [type_of])['ops']\n",
    "\n",
    "df_iran = st.reply_to_external_users(df)"
   ]
  },
  {
   "cell_type": "code",
   "execution_count": 7,
   "id": "e458eea4-1aed-4efb-a687-da746534fdf5",
   "metadata": {},
   "outputs": [
    {
     "name": "stdout",
     "output_type": "stream",
     "text": [
      "<class 'pandas.core.frame.DataFrame'>\n",
      "Int64Index: 89139 entries, 79 to 559907\n",
      "Data columns (total 30 columns):\n",
      " #   Column                    Non-Null Count  Dtype  \n",
      "---  ------                    --------------  -----  \n",
      " 0   tweetid                   89139 non-null  int64  \n",
      " 1   userid                    89139 non-null  int64  \n",
      " 2   user_display_name         89139 non-null  object \n",
      " 3   user_screen_name          89139 non-null  object \n",
      " 4   user_reported_location    89139 non-null  object \n",
      " 5   user_profile_description  89139 non-null  object \n",
      " 6   user_profile_url          89139 non-null  object \n",
      " 7   follower_count            89139 non-null  int64  \n",
      " 8   following_count           89139 non-null  int64  \n",
      " 9   account_creation_date     89139 non-null  object \n",
      " 10  account_language          89139 non-null  object \n",
      " 11  tweet_language            89139 non-null  object \n",
      " 12  tweet_text                89139 non-null  object \n",
      " 13  tweet_time                89139 non-null  object \n",
      " 14  tweet_client_name         89139 non-null  object \n",
      " 15  in_reply_to_userid        89139 non-null  float64\n",
      " 16  in_reply_to_tweetid       89139 non-null  float64\n",
      " 17  quoted_tweet_tweetid      89139 non-null  float64\n",
      " 18  is_retweet                89139 non-null  bool   \n",
      " 19  retweet_userid            89139 non-null  float64\n",
      " 20  retweet_tweetid           89139 non-null  float64\n",
      " 21  latitude                  89139 non-null  object \n",
      " 22  longitude                 89139 non-null  object \n",
      " 23  quote_count               89139 non-null  int64  \n",
      " 24  reply_count               89139 non-null  int64  \n",
      " 25  like_count                89139 non-null  int64  \n",
      " 26  retweet_count             89139 non-null  int64  \n",
      " 27  hashtags                  89139 non-null  object \n",
      " 28  urls                      89139 non-null  object \n",
      " 29  user_mentions             89139 non-null  object \n",
      "dtypes: bool(1), float64(5), int64(8), object(16)\n",
      "memory usage: 20.5+ MB\n"
     ]
    }
   ],
   "source": [
    "df_iran.info()"
   ]
  },
  {
   "cell_type": "code",
   "execution_count": 8,
   "id": "12904b66-e71f-4ee2-8a64-b9c8ec3bfedc",
   "metadata": {},
   "outputs": [],
   "source": [
    "df_iran = df_iran.astype({\n",
    "    'in_reply_to_userid': int,\n",
    "    'in_reply_to_tweetid': int\n",
    "})"
   ]
  },
  {
   "cell_type": "code",
   "execution_count": 9,
   "id": "152ae7ca-42f7-40cb-96a7-20295f4719a0",
   "metadata": {},
   "outputs": [
    {
     "name": "stdout",
     "output_type": "stream",
     "text": [
      "Min time  2010-07-28 23:43\n",
      "Max time  2020-12-27 18:08\n"
     ]
    }
   ],
   "source": [
    "print('Min time ', df_iran['tweet_time'].min())\n",
    "print('Max time ', df_iran['tweet_time'].max())"
   ]
  },
  {
   "cell_type": "markdown",
   "id": "4061d0d6-183a-4ce4-96f1-4544433646fc",
   "metadata": {
    "jp-MarkdownHeadingCollapsed": true,
    "tags": []
   },
   "source": [
    "##### **Lets check how many replies each user got in a day (not considering unique tweetids)**"
   ]
  },
  {
   "cell_type": "code",
   "execution_count": 10,
   "id": "aa0d6d51-d63b-415c-b7d0-7fa26157281c",
   "metadata": {},
   "outputs": [],
   "source": [
    "df_iran = st.add_YYYY_MM_DD(df_iran)"
   ]
  },
  {
   "cell_type": "code",
   "execution_count": 11,
   "id": "46ab2293-f6f4-41b7-a790-8120f8713002",
   "metadata": {},
   "outputs": [
    {
     "data": {
      "text/html": [
       "<div>\n",
       "<style scoped>\n",
       "    .dataframe tbody tr th:only-of-type {\n",
       "        vertical-align: middle;\n",
       "    }\n",
       "\n",
       "    .dataframe tbody tr th {\n",
       "        vertical-align: top;\n",
       "    }\n",
       "\n",
       "    .dataframe thead th {\n",
       "        text-align: right;\n",
       "    }\n",
       "</style>\n",
       "<table border=\"1\" class=\"dataframe\">\n",
       "  <thead>\n",
       "    <tr style=\"text-align: right;\">\n",
       "      <th></th>\n",
       "      <th>in_reply_to_userid</th>\n",
       "      <th>tweet_time_year</th>\n",
       "      <th>count</th>\n",
       "    </tr>\n",
       "  </thead>\n",
       "  <tbody>\n",
       "    <tr>\n",
       "      <th>0</th>\n",
       "      <td>767</td>\n",
       "      <td>2018-10-24</td>\n",
       "      <td>1</td>\n",
       "    </tr>\n",
       "    <tr>\n",
       "      <th>1</th>\n",
       "      <td>3839</td>\n",
       "      <td>2020-10-11</td>\n",
       "      <td>1</td>\n",
       "    </tr>\n",
       "    <tr>\n",
       "      <th>2</th>\n",
       "      <td>62653</td>\n",
       "      <td>2020-06-01</td>\n",
       "      <td>1</td>\n",
       "    </tr>\n",
       "    <tr>\n",
       "      <th>3</th>\n",
       "      <td>246103</td>\n",
       "      <td>2019-06-11</td>\n",
       "      <td>1</td>\n",
       "    </tr>\n",
       "    <tr>\n",
       "      <th>4</th>\n",
       "      <td>246103</td>\n",
       "      <td>2019-06-25</td>\n",
       "      <td>1</td>\n",
       "    </tr>\n",
       "  </tbody>\n",
       "</table>\n",
       "</div>"
      ],
      "text/plain": [
       "   in_reply_to_userid tweet_time_year  count\n",
       "0                 767      2018-10-24      1\n",
       "1                3839      2020-10-11      1\n",
       "2               62653      2020-06-01      1\n",
       "3              246103      2019-06-11      1\n",
       "4              246103      2019-06-25      1"
      ]
     },
     "execution_count": 11,
     "metadata": {},
     "output_type": "execute_result"
    }
   ],
   "source": [
    "df_day_grp = (df_iran.groupby(['in_reply_to_userid', \n",
    "                              'tweet_time_year'])['in_reply_to_tweetid']\n",
    "              .size()\n",
    "              .to_frame('count')\n",
    "              .reset_index()\n",
    "             )\n",
    "\n",
    "df_day_grp.head()"
   ]
  },
  {
   "cell_type": "code",
   "execution_count": 12,
   "id": "f9398226-aa53-4184-853e-eddc29758ede",
   "metadata": {},
   "outputs": [
    {
     "name": "stdout",
     "output_type": "stream",
     "text": [
      "Max replies in  day  196\n"
     ]
    }
   ],
   "source": [
    "print('Max replies in  day ', df_day_grp['count'].max())"
   ]
  },
  {
   "cell_type": "code",
   "execution_count": 13,
   "id": "9556e993-b91a-47bc-8dd4-0ac204ab231d",
   "metadata": {},
   "outputs": [],
   "source": [
    "def plot_histogram(parameters):\n",
    "    '''\n",
    "    Plots histogram\n",
    "    :param parameters: parameters for the plot\n",
    "    '''\n",
    "       \n",
    "    # parameters =  {\n",
    "    #     'data': df,\n",
    "    #     'fontsize': 14,\n",
    "    #     'columns': [\n",
    "    #         {'column': 'count',\n",
    "    #          'label': 'Count of Replies',\n",
    "    #         }\n",
    "    #     ],\n",
    "    #     'xlabel': '',\n",
    "    #     'ylabel': '',\n",
    "    #     'legend_location': '',\n",
    "    #     'log_yscale': True,\n",
    "    #     'log_xscale': True,\n",
    "    #     'bins': 60,\n",
    "    #     'save': {\n",
    "    #         'path': '',\n",
    "    #         'filename': ''\n",
    "    #     },\n",
    "    #     'title': ''\n",
    "    # }\n",
    "    \n",
    "    \n",
    "    num_bins = parameters['bins']\n",
    "    column = parameters['columns'][0]['column']\n",
    "    df = parameters['data']\n",
    "    \n",
    "    if parameters['bins'] == None:\n",
    "        num_bins = df[column].nunique()\n",
    "        \n",
    "    if parameters['log_xscale'] == True:\n",
    "        num_bins=np.logspace(start=np.log10(min(df[column])), \n",
    "                             stop=np.log10(max(df[column])),\n",
    "                             num=num_bins\n",
    "                            )\n",
    "    fig, ax = plt.subplots()\n",
    "    \n",
    "    n = ax.hist(df[column],\n",
    "                bins=num_bins, \n",
    "               )\n",
    "    ax.set_xlabel(parameters['xlabel'])\n",
    "    ax.set_ylabel(parameters['ylabel'])\n",
    "    \n",
    "    if parameters['log_yscale'] == True:\n",
    "        plt.yscale('log')\n",
    "    if parameters['log_xscale'] == True:\n",
    "        plt.xscale('log')\n",
    "        \n",
    "    plt.title(parameters['title'])\n",
    "    \n",
    "    plot_path = parameters['save']['path']\n",
    "    title = parameters['save']['filename']\n",
    "    \n",
    "    path = os.path.join(plot_path, title)\n",
    "    fig.savefig(f'{path}', \n",
    "              facecolor='white', \n",
    "              transparent=False)\n",
    "    plt.show()"
   ]
  },
  {
   "cell_type": "code",
   "execution_count": 14,
   "id": "98aa2999-26a7-44c0-bd0f-a652eaf1d2b6",
   "metadata": {},
   "outputs": [
    {
     "data": {
      "image/png": "[encoded data removed]",
      "text/plain": [
       "<Figure size 640x480 with 1 Axes>"
      ]
     },
     "metadata": {},
     "output_type": "display_data"
    }
   ],
   "source": [
    "parameters =  {\n",
    "    'data': df_day_grp,\n",
    "    'fontsize': 14,\n",
    "    'columns': [\n",
    "        {'column': 'count',\n",
    "         'label': 'Count of Replies',\n",
    "        }\n",
    "    ],\n",
    "    'xlabel': 'Number of replies a poster got in a day',\n",
    "    'ylabel': 'Frequency of posters',\n",
    "    'legend_location': '',\n",
    "    'log_yscale': True,\n",
    "    'log_xscale': None,\n",
    "    'bins': None,\n",
    "    'title': f'{year}_{campaign}_times_1day',\n",
    "    'save': {\n",
    "        'path': f'{time_plot_path}',\n",
    "        'filename': f'{year}_{campaign}_times_1day.png'\n",
    "    },\n",
    "}\n",
    "    \n",
    "plot_histogram(parameters)"
   ]
  },
  {
   "cell_type": "markdown",
   "id": "f1b53356-61d6-4e56-bb5f-488a7f0fab45",
   "metadata": {},
   "source": [
    "How many replies each poster got in a day? <br />\n",
    "Most of the poster got 1 to 25 replies in a day."
   ]
  },
  {
   "cell_type": "markdown",
   "id": "14f4b9a5-ac80-4615-824b-240fccb70a73",
   "metadata": {
    "jp-MarkdownHeadingCollapsed": true,
    "tags": []
   },
   "source": [
    "##### **How many replies a poster got in a day from each IO accounts?**"
   ]
  },
  {
   "cell_type": "code",
   "execution_count": 15,
   "id": "0580a518-42ab-41c6-bb6e-1331088771f7",
   "metadata": {},
   "outputs": [
    {
     "data": {
      "image/png": "[encoded data removed]",
      "text/plain": [
       "<Figure size 640x480 with 1 Axes>"
      ]
     },
     "metadata": {},
     "output_type": "display_data"
    }
   ],
   "source": [
    "df_per_day_per_io = (df_iran.groupby([\n",
    "    'userid',\n",
    "    'in_reply_to_userid', \n",
    "    'tweet_time_year'])['in_reply_to_tweetid']\n",
    "                     .nunique()\n",
    "                     .to_frame('count')\n",
    "                     .reset_index())\n",
    "parameters =  {\n",
    "    'data': df_per_day_per_io,\n",
    "    'fontsize': 14,\n",
    "    'columns': [\n",
    "        {'column': 'count',\n",
    "         'label': 'Count of Replies',\n",
    "        }\n",
    "    ],\n",
    "    'xlabel': 'Number of replies a poster got \\n from a IO account in a day',\n",
    "    'ylabel': 'Frequency of poster',\n",
    "    'legend_location': '',\n",
    "    'log_yscale': True,\n",
    "    'log_xscale': False,\n",
    "    'bins': None,\n",
    "    'title': f'{year}_{campaign}_per_io_per_poster_1day',\n",
    "    'save': {\n",
    "        'path': f'{time_plot_path}',\n",
    "        'filename': f'{year}_{campaign}_per_io_per_poster_1day.png'\n",
    "    },\n",
    "}\n",
    "    \n",
    "plot_histogram(parameters)"
   ]
  },
  {
   "cell_type": "markdown",
   "id": "2d16d5c1-3871-4724-b4b1-b5b19507f6b6",
   "metadata": {},
   "source": [
    "**How many replies a poster got in a day from each IO accounts?** <br />\n",
    "Most of the IO accounts replied from 1-25 times in a day to each user. <br />\n",
    "Could there be a case that a poster is posting alot of tweets in a day. <br />\n",
    "This plot is very similar to previous plot. The number of replies that poster got in a day is similar to number of replies from each IO account <br />\n",
    "Is the poster being replied targeted on specific day?"
   ]
  },
  {
   "cell_type": "markdown",
   "id": "3946c11d-089e-483d-a73e-9accdf611dc1",
   "metadata": {
    "tags": []
   },
   "source": [
    "##### **ALL campaign: How many IO accounts with 10 or more replies to each poster**"
   ]
  },
  {
   "cell_type": "code",
   "execution_count": 99,
   "id": "141ddfed-7acd-4552-8401-fe29754d4e83",
   "metadata": {},
   "outputs": [
    {
     "name": "stdout",
     "output_type": "stream",
     "text": [
      "Greater than 10 tweets 272\n"
     ]
    }
   ],
   "source": [
    "df_test = (df_iran.groupby([\n",
    "    'userid',\n",
    "    'in_reply_to_userid', \n",
    "    'tweet_time_year'])['in_reply_to_tweetid']\n",
    "                     .nunique()\n",
    "                     .to_frame('count')\n",
    "                     .reset_index())\n",
    "\n",
    "gt_10 = df_test.loc[df_test['count'] >= 10]\n",
    "\n",
    "print('Greater than 10 tweets', len(gt_10))"
   ]
  },
  {
   "cell_type": "code",
   "execution_count": 100,
   "id": "5658962e-f5de-4162-bb48-d4cc28bd97e3",
   "metadata": {},
   "outputs": [
    {
     "name": "stdout",
     "output_type": "stream",
     "text": [
      "Total tweets  7987\n"
     ]
    }
   ],
   "source": [
    "print('Total tweets ', gt_10['count'].sum())"
   ]
  },
  {
   "cell_type": "markdown",
   "id": "13d077aa-114d-40bd-9e81-e5b418f91d3c",
   "metadata": {},
   "source": [
    "#### **Save conversation ids of posters that got more than 10  replies in a day**"
   ]
  },
  {
   "cell_type": "code",
   "execution_count": 122,
   "id": "db35b386-5472-45ba-88e1-6a30ff24316b",
   "metadata": {},
   "outputs": [],
   "source": [
    "df_conv_count = (df_iran.groupby(['userid',\n",
    "                                  'in_reply_to_userid', \n",
    "                                  'tweet_time_year'])['in_reply_to_tweetid']\n",
    "                 .nunique()\n",
    "                 .to_frame('count')\n",
    "                 .reset_index())\n",
    "\n",
    "df_conv_count = df_conv_count.loc[\n",
    "    df_conv_count['count'] >= 5]\n",
    "\n",
    "df_conv_text = df_iran.merge(df_conv_count[['userid',\n",
    "                                            'in_reply_to_userid',\n",
    "                                            'tweet_time_year']],\n",
    "                             on=['userid','in_reply_to_userid',\n",
    "                                 'tweet_time_year'],)"
   ]
  },
  {
   "cell_type": "code",
   "execution_count": 123,
   "id": "e98be9e0-e868-45a2-803c-c784ed7a87af",
   "metadata": {},
   "outputs": [],
   "source": [
    "df_test = (df_conv_text.groupby(['in_reply_to_userid', \n",
    "                                 'tweet_time_year'])['userid']\n",
    "             .nunique()\n",
    "             .to_frame('count')\n",
    "             .reset_index()\n",
    "            )\n",
    "\n"
   ]
  },
  {
   "cell_type": "code",
   "execution_count": 130,
   "id": "db8764d7-8f97-4eb6-b62a-3c45ec41bebd",
   "metadata": {},
   "outputs": [
    {
     "data": {
      "text/plain": [
       "'2020-06-18'"
      ]
     },
     "execution_count": 130,
     "metadata": {},
     "output_type": "execute_result"
    }
   ],
   "source": [
    "time = df_test.loc[df_test['count'] >= 4]['tweet_time_year']\n",
    "\n",
    "time.values[0]"
   ]
  },
  {
   "cell_type": "code",
   "execution_count": 131,
   "id": "493e850d-1f34-4f8f-bb1a-fd3f8b89c21f",
   "metadata": {},
   "outputs": [
    {
     "data": {
      "text/html": [
       "<div>\n",
       "<style scoped>\n",
       "    .dataframe tbody tr th:only-of-type {\n",
       "        vertical-align: middle;\n",
       "    }\n",
       "\n",
       "    .dataframe tbody tr th {\n",
       "        vertical-align: top;\n",
       "    }\n",
       "\n",
       "    .dataframe thead th {\n",
       "        text-align: right;\n",
       "    }\n",
       "</style>\n",
       "<table border=\"1\" class=\"dataframe\">\n",
       "  <thead>\n",
       "    <tr style=\"text-align: right;\">\n",
       "      <th></th>\n",
       "      <th>userid</th>\n",
       "      <th>in_reply_to_userid</th>\n",
       "      <th>tweet_time_year</th>\n",
       "      <th>count</th>\n",
       "    </tr>\n",
       "  </thead>\n",
       "  <tbody>\n",
       "    <tr>\n",
       "      <th>18450</th>\n",
       "      <td>853499764461142016</td>\n",
       "      <td>1160409968216018944</td>\n",
       "      <td>2020-06-18</td>\n",
       "      <td>5</td>\n",
       "    </tr>\n",
       "    <tr>\n",
       "      <th>18616</th>\n",
       "      <td>884782586328776709</td>\n",
       "      <td>1160409968216018944</td>\n",
       "      <td>2020-06-18</td>\n",
       "      <td>5</td>\n",
       "    </tr>\n",
       "    <tr>\n",
       "      <th>25520</th>\n",
       "      <td>1067743222317924352</td>\n",
       "      <td>1065513923728891904</td>\n",
       "      <td>2020-06-18</td>\n",
       "      <td>5</td>\n",
       "    </tr>\n",
       "    <tr>\n",
       "      <th>25638</th>\n",
       "      <td>1067743222317924352</td>\n",
       "      <td>1160409968216018944</td>\n",
       "      <td>2020-06-18</td>\n",
       "      <td>8</td>\n",
       "    </tr>\n",
       "    <tr>\n",
       "      <th>35114</th>\n",
       "      <td>1131190838829223938</td>\n",
       "      <td>25073877</td>\n",
       "      <td>2020-06-18</td>\n",
       "      <td>6</td>\n",
       "    </tr>\n",
       "    <tr>\n",
       "      <th>39219</th>\n",
       "      <td>1131190838829223938</td>\n",
       "      <td>1213566509693296640</td>\n",
       "      <td>2020-06-18</td>\n",
       "      <td>5</td>\n",
       "    </tr>\n",
       "    <tr>\n",
       "      <th>40999</th>\n",
       "      <td>1169137349508382720</td>\n",
       "      <td>1065513923728891904</td>\n",
       "      <td>2020-06-18</td>\n",
       "      <td>5</td>\n",
       "    </tr>\n",
       "    <tr>\n",
       "      <th>41023</th>\n",
       "      <td>1169137349508382720</td>\n",
       "      <td>1160409968216018944</td>\n",
       "      <td>2020-06-18</td>\n",
       "      <td>5</td>\n",
       "    </tr>\n",
       "    <tr>\n",
       "      <th>51862</th>\n",
       "      <td>1250951293218193411</td>\n",
       "      <td>1187437657514823680</td>\n",
       "      <td>2020-06-18</td>\n",
       "      <td>6</td>\n",
       "    </tr>\n",
       "  </tbody>\n",
       "</table>\n",
       "</div>"
      ],
      "text/plain": [
       "                    userid   in_reply_to_userid tweet_time_year  count\n",
       "18450   853499764461142016  1160409968216018944      2020-06-18      5\n",
       "18616   884782586328776709  1160409968216018944      2020-06-18      5\n",
       "25520  1067743222317924352  1065513923728891904      2020-06-18      5\n",
       "25638  1067743222317924352  1160409968216018944      2020-06-18      8\n",
       "35114  1131190838829223938             25073877      2020-06-18      6\n",
       "39219  1131190838829223938  1213566509693296640      2020-06-18      5\n",
       "40999  1169137349508382720  1065513923728891904      2020-06-18      5\n",
       "41023  1169137349508382720  1160409968216018944      2020-06-18      5\n",
       "51862  1250951293218193411  1187437657514823680      2020-06-18      6"
      ]
     },
     "execution_count": 131,
     "metadata": {},
     "output_type": "execute_result"
    }
   ],
   "source": [
    "df_conv_count.loc[df_conv_count['tweet_time_year'] == time.values[0]]"
   ]
  },
  {
   "cell_type": "code",
   "execution_count": 111,
   "id": "5cebe3ee-1f31-4ffb-ab36-5f2476b2502d",
   "metadata": {},
   "outputs": [
    {
     "name": "stdout",
     "output_type": "stream",
     "text": [
      "***********\n"
     ]
    },
    {
     "ename": "NameError",
     "evalue": "name 'group' is not defined",
     "output_type": "error",
     "traceback": [
      "\u001b[0;31m---------------------------------------------------------------------------\u001b[0m",
      "\u001b[0;31mNameError\u001b[0m                                 Traceback (most recent call last)",
      "Cell \u001b[0;32mIn [111], line 6\u001b[0m\n\u001b[1;32m      4\u001b[0m \u001b[38;5;28;01mfor\u001b[39;00m grp \u001b[38;5;129;01min\u001b[39;00m grps:\n\u001b[1;32m      5\u001b[0m     \u001b[38;5;28mprint\u001b[39m(\u001b[38;5;124m'\u001b[39m\u001b[38;5;124m***********\u001b[39m\u001b[38;5;124m'\u001b[39m)\n\u001b[0;32m----> 6\u001b[0m     \u001b[38;5;28mprint\u001b[39m(\u001b[43mgroup\u001b[49m[\u001b[38;5;241m0\u001b[39m])\n\u001b[1;32m      7\u001b[0m     \u001b[38;5;28mprint\u001b[39m(\u001b[38;5;124m'\u001b[39m\u001b[38;5;124m************\u001b[39m\u001b[38;5;124m'\u001b[39m)\n\u001b[1;32m      8\u001b[0m     \u001b[38;5;28mprint\u001b[39m(grp[\u001b[38;5;241m1\u001b[39m][[\u001b[38;5;124m'\u001b[39m\u001b[38;5;124muserid\u001b[39m\u001b[38;5;124m'\u001b[39m, \u001b[38;5;124m'\u001b[39m\u001b[38;5;124mtweet_text\u001b[39m\u001b[38;5;124m'\u001b[39m]])\n",
      "\u001b[0;31mNameError\u001b[0m: name 'group' is not defined"
     ]
    }
   ],
   "source": [
    "grps = df_conv_text.groupby(['in_reply_to_userid',\n",
    "                      'tweet_time_year'])\n",
    "\n",
    "for grp in grps:\n",
    "    print('***********')\n",
    "    print(grp[0])\n",
    "    print('************')\n",
    "    print(grp[1][['userid', 'tweet_text']])\n",
    "    \n",
    "    in = ra\n",
    "    \n",
    "    # break"
   ]
  },
  {
   "cell_type": "code",
   "execution_count": null,
   "id": "37680278-3bd3-499b-af92-d8730aabdce8",
   "metadata": {},
   "outputs": [],
   "source": [
    "rows = df.loc[\n",
    "        df['in_reply_to_tweetid'] != 0]['in_reply_to_tweetid'].unique()"
   ]
  },
  {
   "cell_type": "code",
   "execution_count": 88,
   "id": "60366cc3-01ac-4b3d-914f-0d50f76aff9c",
   "metadata": {},
   "outputs": [],
   "source": [
    "def test_count(path, external=True,\n",
    "               threshold = 10):\n",
    "    type_of = 'ops'\n",
    "    info =[]\n",
    "\n",
    "    all_campaigns, names = st.bundle_campaign()\n",
    "\n",
    "    for row in all_campaigns:\n",
    "        for year in row:\n",
    "            for new_campaign in row[year]:\n",
    "\n",
    "                print(f'\\n ------START: {year}: {new_campaign} ------- \\n')\n",
    "\n",
    "                data_path = st.get_data_path(all_tweet_data, year, \n",
    "                                     new_campaign)\n",
    "\n",
    "                data = st.read_ops_control_data(data_path['ops'],\n",
    "                                                data_path['control'], \n",
    "                                             [type_of])\n",
    "                df_w = data[type_of]\n",
    "                \n",
    "                if 'in_reply_to_tweetid' not in df_w.columns:\n",
    "                    continue\n",
    "                    \n",
    "                if external == True:\n",
    "                    df_w = st.reply_to_external_users(df_w)\n",
    "            \n",
    "                df_w = st.add_YYYY_MM_DD(df_w)\n",
    "            \n",
    "                df_test = (df_w.groupby(['userid', \n",
    "                                         'in_reply_to_userid', \n",
    "                                         'tweet_time_year'])['in_reply_to_tweetid']\n",
    "                           .nunique()\n",
    "                           .to_frame('count')\n",
    "                           .reset_index())\n",
    "\n",
    "                total = len(df_test.loc[df_test['count'] >= threshold])\n",
    "                \n",
    "                info.append([year, new_campaign, total])\n",
    "   \n",
    "                print(f'\\n ------END: {year}: {new_campaign} ------- \\n')\n",
    "\n",
    "    (pd.DataFrame(data=info,\n",
    "                  columns=['year', 'campaign', \n",
    "                           f'number_of_replies_to_poster_greater_than_10_in_a_day']\n",
    "                 )\n",
    "     .to_csv(f'{path}')\n",
    "    )"
   ]
  },
  {
   "cell_type": "code",
   "execution_count": 90,
   "id": "142b0d90-5ec0-4188-b982-48629871f45a",
   "metadata": {},
   "outputs": [],
   "source": [
    "threshold = 10\n",
    "\n",
    "filename = f'{threshold}_or_more_replies_each_poster_got_in_a_day_from_each_io.csv'\n",
    "\n",
    "file_path = os.path.join(derived_path, filename)\n",
    "\n",
    "# test_count(file_path, external=True,\n",
    "#                threshold = threshold)"
   ]
  },
  {
   "cell_type": "code",
   "execution_count": 97,
   "id": "36a34926-be3b-4173-9012-881ca093633d",
   "metadata": {},
   "outputs": [
    {
     "data": {
      "text/html": [
       "<div>\n",
       "<style scoped>\n",
       "    .dataframe tbody tr th:only-of-type {\n",
       "        vertical-align: middle;\n",
       "    }\n",
       "\n",
       "    .dataframe tbody tr th {\n",
       "        vertical-align: top;\n",
       "    }\n",
       "\n",
       "    .dataframe thead th {\n",
       "        text-align: right;\n",
       "    }\n",
       "</style>\n",
       "<table border=\"1\" class=\"dataframe\">\n",
       "  <thead>\n",
       "    <tr style=\"text-align: right;\">\n",
       "      <th></th>\n",
       "      <th>Unnamed: 0</th>\n",
       "      <th>year</th>\n",
       "      <th>campaign</th>\n",
       "      <th>number_of_replies_to_poster_greater_than_10_in_a_day</th>\n",
       "    </tr>\n",
       "  </thead>\n",
       "  <tbody>\n",
       "    <tr>\n",
       "      <th>0</th>\n",
       "      <td>0</td>\n",
       "      <td>2021_12</td>\n",
       "      <td>CNHU_0621</td>\n",
       "      <td>0</td>\n",
       "    </tr>\n",
       "    <tr>\n",
       "      <th>1</th>\n",
       "      <td>1</td>\n",
       "      <td>2021_12</td>\n",
       "      <td>CNCC_0621</td>\n",
       "      <td>68</td>\n",
       "    </tr>\n",
       "    <tr>\n",
       "      <th>2</th>\n",
       "      <td>2</td>\n",
       "      <td>2021_12</td>\n",
       "      <td>MX_0621</td>\n",
       "      <td>52</td>\n",
       "    </tr>\n",
       "    <tr>\n",
       "      <th>3</th>\n",
       "      <td>3</td>\n",
       "      <td>2021_12</td>\n",
       "      <td>REA_0621</td>\n",
       "      <td>2</td>\n",
       "    </tr>\n",
       "    <tr>\n",
       "      <th>4</th>\n",
       "      <td>4</td>\n",
       "      <td>2021_12</td>\n",
       "      <td>RNA_0621</td>\n",
       "      <td>0</td>\n",
       "    </tr>\n",
       "    <tr>\n",
       "      <th>5</th>\n",
       "      <td>5</td>\n",
       "      <td>2021_12</td>\n",
       "      <td>Tanzania_0621</td>\n",
       "      <td>16</td>\n",
       "    </tr>\n",
       "    <tr>\n",
       "      <th>6</th>\n",
       "      <td>6</td>\n",
       "      <td>2021_12</td>\n",
       "      <td>uganda_0621</td>\n",
       "      <td>338</td>\n",
       "    </tr>\n",
       "    <tr>\n",
       "      <th>7</th>\n",
       "      <td>7</td>\n",
       "      <td>2021_12</td>\n",
       "      <td>Venezuela_0621</td>\n",
       "      <td>432</td>\n",
       "    </tr>\n",
       "    <tr>\n",
       "      <th>8</th>\n",
       "      <td>8</td>\n",
       "      <td>2020_12</td>\n",
       "      <td>armenia_202012</td>\n",
       "      <td>4</td>\n",
       "    </tr>\n",
       "    <tr>\n",
       "      <th>9</th>\n",
       "      <td>9</td>\n",
       "      <td>2020_12</td>\n",
       "      <td>GRU_202012</td>\n",
       "      <td>3</td>\n",
       "    </tr>\n",
       "    <tr>\n",
       "      <th>10</th>\n",
       "      <td>10</td>\n",
       "      <td>2020_12</td>\n",
       "      <td>IRA_202012</td>\n",
       "      <td>16</td>\n",
       "    </tr>\n",
       "    <tr>\n",
       "      <th>11</th>\n",
       "      <td>11</td>\n",
       "      <td>2020_12</td>\n",
       "      <td>iran_202012</td>\n",
       "      <td>272</td>\n",
       "    </tr>\n",
       "    <tr>\n",
       "      <th>12</th>\n",
       "      <td>12</td>\n",
       "      <td>2020_09</td>\n",
       "      <td>ira_092020</td>\n",
       "      <td>0</td>\n",
       "    </tr>\n",
       "    <tr>\n",
       "      <th>13</th>\n",
       "      <td>13</td>\n",
       "      <td>2020_09</td>\n",
       "      <td>iran_092020</td>\n",
       "      <td>0</td>\n",
       "    </tr>\n",
       "    <tr>\n",
       "      <th>14</th>\n",
       "      <td>14</td>\n",
       "      <td>2020_09</td>\n",
       "      <td>thailand_092020</td>\n",
       "      <td>11</td>\n",
       "    </tr>\n",
       "    <tr>\n",
       "      <th>15</th>\n",
       "      <td>15</td>\n",
       "      <td>2020_08</td>\n",
       "      <td>cuba_082020</td>\n",
       "      <td>323</td>\n",
       "    </tr>\n",
       "    <tr>\n",
       "      <th>16</th>\n",
       "      <td>16</td>\n",
       "      <td>2020_08</td>\n",
       "      <td>qatar_082020</td>\n",
       "      <td>8</td>\n",
       "    </tr>\n",
       "    <tr>\n",
       "      <th>17</th>\n",
       "      <td>17</td>\n",
       "      <td>2020_05</td>\n",
       "      <td>china_052020</td>\n",
       "      <td>85</td>\n",
       "    </tr>\n",
       "    <tr>\n",
       "      <th>18</th>\n",
       "      <td>18</td>\n",
       "      <td>2020_05</td>\n",
       "      <td>turkey_052020</td>\n",
       "      <td>13147</td>\n",
       "    </tr>\n",
       "    <tr>\n",
       "      <th>19</th>\n",
       "      <td>19</td>\n",
       "      <td>2020_04</td>\n",
       "      <td>egypt_022020</td>\n",
       "      <td>3046</td>\n",
       "    </tr>\n",
       "    <tr>\n",
       "      <th>20</th>\n",
       "      <td>20</td>\n",
       "      <td>2020_04</td>\n",
       "      <td>honduras_022020</td>\n",
       "      <td>974</td>\n",
       "    </tr>\n",
       "    <tr>\n",
       "      <th>21</th>\n",
       "      <td>21</td>\n",
       "      <td>2020_04</td>\n",
       "      <td>indonesia_022020</td>\n",
       "      <td>9022</td>\n",
       "    </tr>\n",
       "    <tr>\n",
       "      <th>22</th>\n",
       "      <td>22</td>\n",
       "      <td>2020_04</td>\n",
       "      <td>sa_eg_ae_022020</td>\n",
       "      <td>5154</td>\n",
       "    </tr>\n",
       "    <tr>\n",
       "      <th>23</th>\n",
       "      <td>23</td>\n",
       "      <td>2020_04</td>\n",
       "      <td>serbia_022020</td>\n",
       "      <td>5954</td>\n",
       "    </tr>\n",
       "    <tr>\n",
       "      <th>24</th>\n",
       "      <td>24</td>\n",
       "      <td>2020_03</td>\n",
       "      <td>ghana_nigeria_032020</td>\n",
       "      <td>14</td>\n",
       "    </tr>\n",
       "    <tr>\n",
       "      <th>25</th>\n",
       "      <td>25</td>\n",
       "      <td>2019_11</td>\n",
       "      <td>saudi_arabia_112019</td>\n",
       "      <td>32541</td>\n",
       "    </tr>\n",
       "    <tr>\n",
       "      <th>26</th>\n",
       "      <td>26</td>\n",
       "      <td>2019_08</td>\n",
       "      <td>china_082019</td>\n",
       "      <td>52175</td>\n",
       "    </tr>\n",
       "    <tr>\n",
       "      <th>27</th>\n",
       "      <td>27</td>\n",
       "      <td>2019_08</td>\n",
       "      <td>ecuador_082019</td>\n",
       "      <td>116</td>\n",
       "    </tr>\n",
       "    <tr>\n",
       "      <th>28</th>\n",
       "      <td>28</td>\n",
       "      <td>2019_08</td>\n",
       "      <td>egypt_uae_082019</td>\n",
       "      <td>180</td>\n",
       "    </tr>\n",
       "    <tr>\n",
       "      <th>29</th>\n",
       "      <td>29</td>\n",
       "      <td>2019_08</td>\n",
       "      <td>saudi_arabia_082019_1</td>\n",
       "      <td>0</td>\n",
       "    </tr>\n",
       "    <tr>\n",
       "      <th>30</th>\n",
       "      <td>30</td>\n",
       "      <td>2019_08</td>\n",
       "      <td>spain_082019</td>\n",
       "      <td>23</td>\n",
       "    </tr>\n",
       "    <tr>\n",
       "      <th>31</th>\n",
       "      <td>31</td>\n",
       "      <td>2019_08</td>\n",
       "      <td>uae_082019</td>\n",
       "      <td>17</td>\n",
       "    </tr>\n",
       "    <tr>\n",
       "      <th>32</th>\n",
       "      <td>32</td>\n",
       "      <td>2019_06</td>\n",
       "      <td>catalonia_201906_1</td>\n",
       "      <td>5</td>\n",
       "    </tr>\n",
       "    <tr>\n",
       "      <th>33</th>\n",
       "      <td>33</td>\n",
       "      <td>2019_06</td>\n",
       "      <td>russia_201906_1</td>\n",
       "      <td>0</td>\n",
       "    </tr>\n",
       "    <tr>\n",
       "      <th>34</th>\n",
       "      <td>34</td>\n",
       "      <td>2019_06</td>\n",
       "      <td>iran_201906</td>\n",
       "      <td>997</td>\n",
       "    </tr>\n",
       "    <tr>\n",
       "      <th>35</th>\n",
       "      <td>35</td>\n",
       "      <td>2019_06</td>\n",
       "      <td>venezuela_201906_1</td>\n",
       "      <td>0</td>\n",
       "    </tr>\n",
       "    <tr>\n",
       "      <th>36</th>\n",
       "      <td>36</td>\n",
       "      <td>2019_01</td>\n",
       "      <td>iran_201901_1</td>\n",
       "      <td>649</td>\n",
       "    </tr>\n",
       "    <tr>\n",
       "      <th>37</th>\n",
       "      <td>37</td>\n",
       "      <td>2019_01</td>\n",
       "      <td>russia_201901_1</td>\n",
       "      <td>374</td>\n",
       "    </tr>\n",
       "    <tr>\n",
       "      <th>38</th>\n",
       "      <td>38</td>\n",
       "      <td>2019_01</td>\n",
       "      <td>bangladesh_201901_1</td>\n",
       "      <td>1</td>\n",
       "    </tr>\n",
       "    <tr>\n",
       "      <th>39</th>\n",
       "      <td>39</td>\n",
       "      <td>2019_01</td>\n",
       "      <td>venezuela_201901</td>\n",
       "      <td>1597</td>\n",
       "    </tr>\n",
       "    <tr>\n",
       "      <th>40</th>\n",
       "      <td>40</td>\n",
       "      <td>2018_10</td>\n",
       "      <td>ira</td>\n",
       "      <td>869</td>\n",
       "    </tr>\n",
       "    <tr>\n",
       "      <th>41</th>\n",
       "      <td>41</td>\n",
       "      <td>2018_10</td>\n",
       "      <td>iranian</td>\n",
       "      <td>299</td>\n",
       "    </tr>\n",
       "  </tbody>\n",
       "</table>\n",
       "</div>"
      ],
      "text/plain": [
       "    Unnamed: 0     year               campaign  \\\n",
       "0            0  2021_12              CNHU_0621   \n",
       "1            1  2021_12              CNCC_0621   \n",
       "2            2  2021_12                MX_0621   \n",
       "3            3  2021_12               REA_0621   \n",
       "4            4  2021_12               RNA_0621   \n",
       "5            5  2021_12          Tanzania_0621   \n",
       "6            6  2021_12            uganda_0621   \n",
       "7            7  2021_12         Venezuela_0621   \n",
       "8            8  2020_12         armenia_202012   \n",
       "9            9  2020_12             GRU_202012   \n",
       "10          10  2020_12             IRA_202012   \n",
       "11          11  2020_12            iran_202012   \n",
       "12          12  2020_09             ira_092020   \n",
       "13          13  2020_09            iran_092020   \n",
       "14          14  2020_09        thailand_092020   \n",
       "15          15  2020_08            cuba_082020   \n",
       "16          16  2020_08           qatar_082020   \n",
       "17          17  2020_05           china_052020   \n",
       "18          18  2020_05          turkey_052020   \n",
       "19          19  2020_04           egypt_022020   \n",
       "20          20  2020_04        honduras_022020   \n",
       "21          21  2020_04       indonesia_022020   \n",
       "22          22  2020_04        sa_eg_ae_022020   \n",
       "23          23  2020_04          serbia_022020   \n",
       "24          24  2020_03   ghana_nigeria_032020   \n",
       "25          25  2019_11    saudi_arabia_112019   \n",
       "26          26  2019_08           china_082019   \n",
       "27          27  2019_08         ecuador_082019   \n",
       "28          28  2019_08       egypt_uae_082019   \n",
       "29          29  2019_08  saudi_arabia_082019_1   \n",
       "30          30  2019_08           spain_082019   \n",
       "31          31  2019_08             uae_082019   \n",
       "32          32  2019_06     catalonia_201906_1   \n",
       "33          33  2019_06        russia_201906_1   \n",
       "34          34  2019_06            iran_201906   \n",
       "35          35  2019_06     venezuela_201906_1   \n",
       "36          36  2019_01          iran_201901_1   \n",
       "37          37  2019_01        russia_201901_1   \n",
       "38          38  2019_01    bangladesh_201901_1   \n",
       "39          39  2019_01       venezuela_201901   \n",
       "40          40  2018_10                    ira   \n",
       "41          41  2018_10                iranian   \n",
       "\n",
       "    number_of_replies_to_poster_greater_than_10_in_a_day  \n",
       "0                                                   0     \n",
       "1                                                  68     \n",
       "2                                                  52     \n",
       "3                                                   2     \n",
       "4                                                   0     \n",
       "5                                                  16     \n",
       "6                                                 338     \n",
       "7                                                 432     \n",
       "8                                                   4     \n",
       "9                                                   3     \n",
       "10                                                 16     \n",
       "11                                                272     \n",
       "12                                                  0     \n",
       "13                                                  0     \n",
       "14                                                 11     \n",
       "15                                                323     \n",
       "16                                                  8     \n",
       "17                                                 85     \n",
       "18                                              13147     \n",
       "19                                               3046     \n",
       "20                                                974     \n",
       "21                                               9022     \n",
       "22                                               5154     \n",
       "23                                               5954     \n",
       "24                                                 14     \n",
       "25                                              32541     \n",
       "26                                              52175     \n",
       "27                                                116     \n",
       "28                                                180     \n",
       "29                                                  0     \n",
       "30                                                 23     \n",
       "31                                                 17     \n",
       "32                                                  5     \n",
       "33                                                  0     \n",
       "34                                                997     \n",
       "35                                                  0     \n",
       "36                                                649     \n",
       "37                                                374     \n",
       "38                                                  1     \n",
       "39                                               1597     \n",
       "40                                                869     \n",
       "41                                                299     "
      ]
     },
     "execution_count": 97,
     "metadata": {},
     "output_type": "execute_result"
    }
   ],
   "source": [
    "#per day reply to each poster to each io\n",
    "#shows have enough data\n",
    "\n",
    "df_info = pd.read_csv(file_path)\n",
    "\n",
    "df_info #['number_of_replies_to_poster_greater_than_10_in_a_day']"
   ]
  },
  {
   "cell_type": "markdown",
   "id": "2af85d7f-f09b-49e1-831f-8bdf8f3303b3",
   "metadata": {
    "jp-MarkdownHeadingCollapsed": true,
    "tags": []
   },
   "source": [
    "##### **How many replies a poster got in an hour?**"
   ]
  },
  {
   "cell_type": "code",
   "execution_count": 16,
   "id": "24556552-d18b-4ba9-a610-39434497ca88",
   "metadata": {},
   "outputs": [],
   "source": [
    "def bin_replies_in_time(df, \n",
    "                       columns_to_include=['userid', 'tweetid'],\n",
    "                       time_bin=24, time_part='H') -> dict:\n",
    "    '''\n",
    "    Bins the tweets based on time_bin\n",
    "    \n",
    "    :param time_bin: time to bin the tweets with\n",
    "    \n",
    "    :return dictionary with end time as key and dataframe of tweets within time range \\\n",
    "    as values\n",
    "    '''\n",
    "    \n",
    "    df['tweet_time'] = pd.to_datetime(df['tweet_time'])\n",
    "   \n",
    "    #Time bins\n",
    "    if time_part == 'H':\n",
    "        delta_time = datetime.timedelta(hours=time_bin)\n",
    "    else:\n",
    "        delta_time = datetime.timedelta(0,1)\n",
    "        \n",
    "    time_lists = (pd.DataFrame(columns=['NULL'],\n",
    "                               index=pd.date_range(df['tweet_time'].min(),\n",
    "                                                   df['tweet_time'].max() + delta_time,\n",
    "                                                freq =f'{time_bin}{time_part}'))\n",
    "                  .index\n",
    "                  .tolist())\n",
    "                  \n",
    "    \n",
    "    #Filter tweets in bins\n",
    "    new_column = columns_to_include + ['time_interval']\n",
    "    df_time = pd.DataFrame(columns=new_column)\n",
    "    \n",
    "    for i in tqdm((range(1, len(time_lists)))):\n",
    "        temp_df = df.loc[(time_lists[i-1] <= df['tweet_time']) & \\\n",
    "                           (df['tweet_time'] < time_lists[i])]\n",
    "\n",
    "        if len(temp_df) <= 1:\n",
    "            continue\n",
    "            \n",
    "        temp_df = temp_df[columns_to_include]\n",
    "        temp_df['time_interval'] = time_lists[i]\n",
    "        df_time = pd.concat([df_time, temp_df])\n",
    "\n",
    "    return df_time"
   ]
  },
  {
   "cell_type": "code",
   "execution_count": 17,
   "id": "aeb1c117-ef2b-47b8-b137-4d06edc4244e",
   "metadata": {},
   "outputs": [
    {
     "name": "stdout",
     "output_type": "stream",
     "text": [
      "Min time  2010-07-28 23:43:00\n",
      "Max time  2020-12-27 18:08:00\n",
      "Start time  2010-07-28 23:13:00\n",
      "End time  2020-12-27 18:38:00\n"
     ]
    },
    {
     "name": "stderr",
     "output_type": "stream",
     "text": [
      "100%|██████████| 91315/91315 [01:12<00:00, 1255.07it/s]\n"
     ]
    },
    {
     "name": "stdout",
     "output_type": "stream",
     "text": [
      "Maximum reply in 1 hour  158\n"
     ]
    }
   ],
   "source": [
    "print('Min time ', df_iran['tweet_time'].min())\n",
    "print('Max time ', df_iran['tweet_time'].max())\n",
    "\n",
    "start_time = df_iran['tweet_time'].min() - pd.to_timedelta(30, unit=\"m\")\n",
    "end_time = df_iran['tweet_time'].max() + pd.to_timedelta(30, unit=\"m\")\n",
    "\n",
    "print('Start time ', start_time)\n",
    "print('End time ', end_time)\n",
    "\n",
    "time_interval = pd.date_range(\n",
    "    start=start_time, \n",
    "    end=end_time, \n",
    "    freq='1H',\n",
    "    inclusive='both'\n",
    ")\n",
    "\n",
    "df_time = pd.DataFrame(data=time_interval,\n",
    "                       columns=['time_interval']\n",
    "                      )\n",
    "                       \n",
    "    \n",
    "df_time = df_time.sort_values(by='time_interval',\n",
    "                              ascending=True\n",
    "                             )\n",
    "df_time['end_time'] = df_time['time_interval'].shift(-1)\n",
    "\n",
    "df_time = df_time.dropna()\n",
    "\n",
    "df_time = df_time.rename(\n",
    "    columns={'time_interval': 'start_time'})\n",
    "\n",
    "columns_to_include = ['in_reply_to_tweetid', \n",
    "                      'userid',\n",
    "                      'in_reply_to_userid', \n",
    "                      'tweetid']\n",
    "\n",
    "time_data = bin_replies_in_time(df_iran, \n",
    "                                columns_to_include,\n",
    "                                time_bin=1, time_part='H')\n",
    "\n",
    "time_data = time_data.reset_index(drop=True)\n",
    "\n",
    "df_time_binned = (time_data.groupby(['in_reply_to_userid', \n",
    "                                     'time_interval'])['tweetid']\n",
    "                  .size()\n",
    "                  .to_frame('count')\n",
    "                  .reset_index())\n",
    "\n",
    "print('Maximum reply in 1 hour ', \n",
    "      df_time_binned['count'].max())"
   ]
  },
  {
   "cell_type": "code",
   "execution_count": 18,
   "id": "9813b144-85dc-45f1-a35f-021a71f83236",
   "metadata": {},
   "outputs": [
    {
     "data": {
      "image/png": "[encoded data removed]",
      "text/plain": [
       "<Figure size 640x480 with 1 Axes>"
      ]
     },
     "metadata": {},
     "output_type": "display_data"
    }
   ],
   "source": [
    "parameters =  {\n",
    "    'data': df_time_binned,\n",
    "    'fontsize': 14,\n",
    "    'columns': [\n",
    "        {'column': 'count',\n",
    "         'label': 'Count of Replies',\n",
    "        }\n",
    "    ],\n",
    "    'xlabel': 'Number of replies a poster got in 1 hour \\n (from all IO accounts)',\n",
    "    'ylabel': 'Frequency of poster',\n",
    "    'legend_location': '',\n",
    "    'log_yscale': True,\n",
    "    'log_xscale': False,\n",
    "    'bins': None,\n",
    "    'title': f'{year}_{campaign}_per_poster_1hour',\n",
    "    'save': {\n",
    "        'path': f'{time_plot_path}',\n",
    "        'filename': f'{year}_{campaign}_per_poster_1h.png'\n",
    "    },\n",
    "}\n",
    "    \n",
    "plot_histogram(parameters)"
   ]
  },
  {
   "cell_type": "markdown",
   "id": "238dceda-8025-4584-8261-939f47b0e5b5",
   "metadata": {},
   "source": [
    "How many replies a poster got in an hour? <br />\n",
    "- Most of the poster got 1 to 20 replies in an hour"
   ]
  },
  {
   "cell_type": "markdown",
   "id": "01d1d563-9697-4920-a28f-6ad7f670293e",
   "metadata": {
    "jp-MarkdownHeadingCollapsed": true,
    "tags": []
   },
   "source": [
    "##### **How many replies each poster got from each IO account in 1 hour?**"
   ]
  },
  {
   "cell_type": "code",
   "execution_count": 19,
   "id": "d1818b75-9796-4276-a50d-96d07993dee7",
   "metadata": {},
   "outputs": [
    {
     "name": "stdout",
     "output_type": "stream",
     "text": [
      "<class 'pandas.core.frame.DataFrame'>\n",
      "RangeIndex: 86020 entries, 0 to 86019\n",
      "Data columns (total 5 columns):\n",
      " #   Column               Non-Null Count  Dtype         \n",
      "---  ------               --------------  -----         \n",
      " 0   in_reply_to_tweetid  86020 non-null  object        \n",
      " 1   userid               86020 non-null  object        \n",
      " 2   in_reply_to_userid   86020 non-null  object        \n",
      " 3   tweetid              86020 non-null  object        \n",
      " 4   time_interval        86020 non-null  datetime64[ns]\n",
      "dtypes: datetime64[ns](1), object(4)\n",
      "memory usage: 3.3+ MB\n"
     ]
    }
   ],
   "source": [
    "time_data.info()"
   ]
  },
  {
   "cell_type": "code",
   "execution_count": 20,
   "id": "12b0fc6a-39a1-492c-aa6e-42bef32c8712",
   "metadata": {},
   "outputs": [
    {
     "name": "stdout",
     "output_type": "stream",
     "text": [
      "Maximum reply in 1 hour  158\n"
     ]
    }
   ],
   "source": [
    "df_time_user_binned = (time_data.groupby(['in_reply_to_userid',\n",
    "                                          'userid',\n",
    "                                          'time_interval'])['tweetid']\n",
    "                  .size()\n",
    "                  .to_frame('count')\n",
    "                  .reset_index())\n",
    "\n",
    "print('Maximum reply in 1 hour ', \n",
    "      df_time_user_binned['count'].max())"
   ]
  },
  {
   "cell_type": "code",
   "execution_count": 21,
   "id": "fa9595f2-9a6b-4dae-a152-b1c678f86090",
   "metadata": {},
   "outputs": [
    {
     "data": {
      "image/png": "[encoded data removed]",
      "text/plain": [
       "<Figure size 640x480 with 1 Axes>"
      ]
     },
     "metadata": {},
     "output_type": "display_data"
    }
   ],
   "source": [
    "parameters =  {\n",
    "    'data': df_time_user_binned,\n",
    "    'fontsize': 14,\n",
    "    'columns': [\n",
    "        {'column': 'count',\n",
    "         'label': 'Count of Replies',\n",
    "        }\n",
    "    ],\n",
    "    'xlabel': 'Number of replies a poster got in 1 hour \\n (from each IO accounts)',\n",
    "    'ylabel': 'Frequency of poster',\n",
    "    'legend_location': '',\n",
    "    'log_yscale': True,\n",
    "    'log_xscale': False,\n",
    "    'bins': None,\n",
    "    'title': f'{year}_{campaign}_per_poster_per_IO_1hour',\n",
    "    'save': {\n",
    "        'path': f'{time_plot_path}',\n",
    "        'filename': f'{year}_{campaign}_per_io_per_poster_1h.png'\n",
    "    },\n",
    "}\n",
    "    \n",
    "plot_histogram(parameters)"
   ]
  },
  {
   "cell_type": "markdown",
   "id": "360bd47c-c100-41a2-ac05-c157050d1454",
   "metadata": {},
   "source": [
    "In an hour most of the posters got 1 to 20 replies."
   ]
  },
  {
   "cell_type": "markdown",
   "id": "01ea9db6-8aad-4b05-a55c-6e84c71091a8",
   "metadata": {
    "tags": []
   },
   "source": [
    "##### **How many unique tweets were replied to by IO accounts in a day?**\n",
    "This could hints if the poster is posting more in a single day."
   ]
  },
  {
   "cell_type": "code",
   "execution_count": 22,
   "id": "1bf11bee-a059-4600-9b45-2a69545d3039",
   "metadata": {},
   "outputs": [
    {
     "name": "stdout",
     "output_type": "stream",
     "text": [
      "Maximum reply in 1 hour  158\n"
     ]
    }
   ],
   "source": [
    "df_time_tweet_binned = (time_data.groupby(['in_reply_to_userid',\n",
    "                                          'userid',\n",
    "                                          'time_interval'])['in_reply_to_tweetid']\n",
    "                  .nunique()\n",
    "                  .to_frame('count')\n",
    "                  .reset_index())\n",
    "\n",
    "print('Maximum reply in 1 hour ', \n",
    "      df_time_tweet_binned['count'].max())"
   ]
  },
  {
   "cell_type": "code",
   "execution_count": 23,
   "id": "56057017-7dd7-45a2-96ed-8c6795360b7b",
   "metadata": {},
   "outputs": [
    {
     "data": {
      "image/png": "[encoded data removed]",
      "text/plain": [
       "<Figure size 640x480 with 1 Axes>"
      ]
     },
     "metadata": {},
     "output_type": "display_data"
    }
   ],
   "source": [
    "parameters =  {\n",
    "    'data': df_time_tweet_binned,\n",
    "    'fontsize': 14,\n",
    "    'columns': [\n",
    "        {'column': 'count',\n",
    "         'label': 'Count of Replies',\n",
    "        }\n",
    "    ],\n",
    "    'xlabel': 'Number of unique tweets that were replied to each poster \\n in 1 day (from all IO accounts)',\n",
    "    'ylabel': 'Frequency of poster',\n",
    "    'legend_location': '',\n",
    "    'log_yscale': True,\n",
    "    'log_xscale': False,\n",
    "    'bins': None,\n",
    "    'title': f'{year}_{campaign}_per_poster_per_tweet_1day',\n",
    "    'save': {\n",
    "        'path': f'{time_plot_path}',\n",
    "        'filename': f'{year}_{campaign}_per_tweet_per_poster_1day.png'\n",
    "    },\n",
    "}\n",
    "    \n",
    "plot_histogram(parameters)"
   ]
  },
  {
   "cell_type": "markdown",
   "id": "de9c6da7-30c7-4c7f-a875-4f17a65f488e",
   "metadata": {},
   "source": [
    "In a day, 1 to 30 tweets are being replied to from IO accounts to each poster. <br />\n",
    "This seems to be mass reply on specific day of posting tweets."
   ]
  },
  {
   "cell_type": "markdown",
   "id": "eff9ac70-370b-4c85-a10e-599769d32d59",
   "metadata": {
    "tags": []
   },
   "source": [
    "## **1 day analysis: Lets check Jaccard coefficient for each IO account. Only poster with 5 or more unique tweets in a day were considered for analysis**"
   ]
  },
  {
   "cell_type": "code",
   "execution_count": 26,
   "id": "ed18b66c-0609-4ba7-8835-7f1e9928dcee",
   "metadata": {},
   "outputs": [
    {
     "data": {
      "text/plain": [
       "Index(['tweetid', 'userid', 'user_display_name', 'user_screen_name',\n",
       "       'user_reported_location', 'user_profile_description',\n",
       "       'user_profile_url', 'follower_count', 'following_count',\n",
       "       'account_creation_date', 'account_language', 'tweet_language',\n",
       "       'tweet_text', 'tweet_time', 'tweet_client_name', 'in_reply_to_userid',\n",
       "       'in_reply_to_tweetid', 'quoted_tweet_tweetid', 'is_retweet',\n",
       "       'retweet_userid', 'retweet_tweetid', 'latitude', 'longitude',\n",
       "       'quote_count', 'reply_count', 'like_count', 'retweet_count', 'hashtags',\n",
       "       'urls', 'user_mentions', 'tweet_time_year'],\n",
       "      dtype='object')"
      ]
     },
     "execution_count": 26,
     "metadata": {},
     "output_type": "execute_result"
    }
   ],
   "source": [
    "df_iran.columns"
   ]
  },
  {
   "cell_type": "code",
   "execution_count": 27,
   "id": "bae6d6b2-c2ef-45c0-a8ef-03af5bdd9643",
   "metadata": {},
   "outputs": [
    {
     "data": {
      "text/html": [
       "<div>\n",
       "<style scoped>\n",
       "    .dataframe tbody tr th:only-of-type {\n",
       "        vertical-align: middle;\n",
       "    }\n",
       "\n",
       "    .dataframe tbody tr th {\n",
       "        vertical-align: top;\n",
       "    }\n",
       "\n",
       "    .dataframe thead th {\n",
       "        text-align: right;\n",
       "    }\n",
       "</style>\n",
       "<table border=\"1\" class=\"dataframe\">\n",
       "  <thead>\n",
       "    <tr style=\"text-align: right;\">\n",
       "      <th></th>\n",
       "      <th>in_reply_to_userid</th>\n",
       "      <th>tweet_time_year</th>\n",
       "      <th>count</th>\n",
       "    </tr>\n",
       "  </thead>\n",
       "  <tbody>\n",
       "    <tr>\n",
       "      <th>0</th>\n",
       "      <td>767</td>\n",
       "      <td>2018-10-24</td>\n",
       "      <td>1</td>\n",
       "    </tr>\n",
       "    <tr>\n",
       "      <th>1</th>\n",
       "      <td>3839</td>\n",
       "      <td>2020-10-11</td>\n",
       "      <td>1</td>\n",
       "    </tr>\n",
       "    <tr>\n",
       "      <th>2</th>\n",
       "      <td>62653</td>\n",
       "      <td>2020-06-01</td>\n",
       "      <td>1</td>\n",
       "    </tr>\n",
       "    <tr>\n",
       "      <th>3</th>\n",
       "      <td>246103</td>\n",
       "      <td>2019-06-11</td>\n",
       "      <td>1</td>\n",
       "    </tr>\n",
       "    <tr>\n",
       "      <th>4</th>\n",
       "      <td>246103</td>\n",
       "      <td>2019-06-25</td>\n",
       "      <td>1</td>\n",
       "    </tr>\n",
       "  </tbody>\n",
       "</table>\n",
       "</div>"
      ],
      "text/plain": [
       "   in_reply_to_userid tweet_time_year  count\n",
       "0                 767      2018-10-24      1\n",
       "1                3839      2020-10-11      1\n",
       "2               62653      2020-06-01      1\n",
       "3              246103      2019-06-11      1\n",
       "4              246103      2019-06-25      1"
      ]
     },
     "execution_count": 27,
     "metadata": {},
     "output_type": "execute_result"
    }
   ],
   "source": [
    "df_day_grp = (df_iran.groupby(['in_reply_to_userid', \n",
    "                              'tweet_time_year'])['in_reply_to_tweetid']\n",
    "              .nunique()\n",
    "              .to_frame('count')\n",
    "              .reset_index()\n",
    "             )\n",
    "\n",
    "df_day_grp.head()"
   ]
  },
  {
   "cell_type": "code",
   "execution_count": 28,
   "id": "369426b5-bb96-46e5-b164-e4e932214522",
   "metadata": {},
   "outputs": [
    {
     "name": "stdout",
     "output_type": "stream",
     "text": [
      "Max count of reply in a day to a poster : 196\n"
     ]
    }
   ],
   "source": [
    "print('Max count of reply in a day to a poster :', \n",
    "      df_day_grp['count'].max())"
   ]
  },
  {
   "cell_type": "markdown",
   "id": "e64f9d81-efc1-4009-b650-57d8d8946021",
   "metadata": {},
   "source": [
    "Only posters **with 5 or more unique tweetids in one day** were considered"
   ]
  },
  {
   "cell_type": "code",
   "execution_count": 29,
   "id": "a626c9e4-3722-47ad-a37e-b92667aa3612",
   "metadata": {},
   "outputs": [
    {
     "name": "stdout",
     "output_type": "stream",
     "text": [
      "Min count  5\n"
     ]
    }
   ],
   "source": [
    "df_day = df_day_grp.loc[df_day_grp['count'] >= 5]\n",
    "\n",
    "print('Min count ', df_day['count'].min())"
   ]
  },
  {
   "cell_type": "code",
   "execution_count": 50,
   "id": "d2c64093-d1c7-47c1-9a52-3a75852d96ac",
   "metadata": {},
   "outputs": [
    {
     "data": {
      "text/plain": [
       "510"
      ]
     },
     "execution_count": 50,
     "metadata": {},
     "output_type": "execute_result"
    }
   ],
   "source": [
    "df_day['in_reply_to_userid'].nunique()"
   ]
  },
  {
   "cell_type": "code",
   "execution_count": 54,
   "id": "1d82acd8-86a5-4ac8-b55b-3c1654ab3b12",
   "metadata": {},
   "outputs": [
    {
     "name": "stdout",
     "output_type": "stream",
     "text": [
      "Min number of tweets replied by each io account 1\n",
      "Min number of unique tweets from poster in a day  5\n"
     ]
    }
   ],
   "source": [
    "# one can reply mulitple times so the repeated replied tweetid are \n",
    "# not considered\n",
    "# for both io and poster accounts for jaccard coefficient calculation\n",
    "\n",
    "#reply to same user in a day, how many times (including repeated reply)\n",
    "#Day has to be considered remember that\n",
    "\n",
    "df_day_per_io_grp = df_iran.merge(df_day[['in_reply_to_userid', \n",
    "                                      'tweet_time_year']],\n",
    "                              on=['in_reply_to_userid', \n",
    "                                  'tweet_time_year'],\n",
    "                              how='inner')\n",
    "\n",
    "df_day_io_total_per_poster = (df_day_per_io_grp\n",
    "                  .groupby(['in_reply_to_userid',\n",
    "                          'userid',\n",
    "                          'tweet_time_year'\n",
    "                         ])['in_reply_to_tweetid']\n",
    "                 .nunique() #only unique were considered\n",
    "                 .to_frame('count_replies')\n",
    "                 .reset_index()\n",
    "                )\n",
    "\n",
    "print('Min number of tweets replied by each io account',\n",
    "      df_day_io_total_per_poster['count_replies'].min())\n",
    "\n",
    "#total reply each poster got in specific day that \n",
    "#is greater than equal 5\n",
    "\n",
    "df_day_poster_total = (df_day_per_io_grp\n",
    "                       .groupby(['in_reply_to_userid',\n",
    "                                 'tweet_time_year'])['in_reply_to_tweetid']\n",
    "              .nunique()\n",
    "              .to_frame('count_total_replies')\n",
    "              .reset_index())\n",
    "            \n",
    "print('Min number of unique tweets from poster in a day ', \n",
    "      df_day_poster_total['count_total_replies'].min())\n",
    "\n",
    "\n",
    "df_jaccard = df_day_io_total_per_poster.merge(df_day_poster_total,\n",
    "                                              on=['in_reply_to_userid',\n",
    "                                                  'tweet_time_year'])\n",
    "\n",
    "\n",
    "df_jaccard['ratio'] = df_jaccard['count_replies'] / df_jaccard['count_total_replies']\n",
    "print(df_jaccard.head())\n",
    "\n"
   ]
  },
  {
   "cell_type": "code",
   "execution_count": 62,
   "id": "3c13513d-f733-44c5-a881-277c82987871",
   "metadata": {},
   "outputs": [
    {
     "name": "stdout",
     "output_type": "stream",
     "text": [
      "Min jaccard : 0.03\n",
      "Max jaccard : 1.0\n"
     ]
    }
   ],
   "source": [
    "df_jaccard['ratio'] = df_jaccard['ratio'].apply(\n",
    "    lambda x: round(x,2))\n",
    "\n",
    "print('Min jaccard :', df_jaccard['ratio'].min())\n",
    "print('Max jaccard :', df_jaccard['ratio'].max())"
   ]
  },
  {
   "cell_type": "code",
   "execution_count": 71,
   "id": "99b45c78-77bd-4b9d-81d4-dbde2512e554",
   "metadata": {},
   "outputs": [
    {
     "data": {
      "image/png": "[encoded data removed]",
      "text/plain": [
       "<Figure size 800x800 with 1 Axes>"
      ]
     },
     "metadata": {},
     "output_type": "display_data"
    }
   ],
   "source": [
    "parameters =  {\n",
    "    'data': df_jaccard,\n",
    "    'fontsize': 14,\n",
    "    'columns': {\n",
    "        'x': 'ratio',\n",
    "        'y': 'count_total_replies',\n",
    "    },\n",
    "    'alpha': 0.5,\n",
    "    'marker_size': 5,\n",
    "    'marker': None,\n",
    "    'xlabel': 'Jaccard coefficent \\n (for each IO account, each poster)',\n",
    "    'ylabel': 'Number of daily tweets from poster  ',\n",
    "    'legend_location': '',\n",
    "    'log_yscale': False,\n",
    "    'log_xscale': False,\n",
    "    'bins': None,\n",
    "    'title': f'{year}_{campaign}_per_poster_per_tweet_1day',\n",
    "    'save': {\n",
    "        'path': f'{time_plot_path}',\n",
    "        'filename': f'{year}_{campaign}_jaccard_1day.png'\n",
    "    },\n",
    "}\n",
    "    \n",
    "scatter_plot(parameters)\n"
   ]
  },
  {
   "cell_type": "code",
   "execution_count": 73,
   "id": "fa713bb2-b0f3-434b-ad4d-4f50cda4fea0",
   "metadata": {},
   "outputs": [],
   "source": [
    "def scatter_plot(parameters):\n",
    "    '''\n",
    "    Plots the scatterplot\n",
    "    :param parameters: parameters for the plot\n",
    "    '''\n",
    "    \n",
    "    # parameters =  {\n",
    "    #     'data': df_jaccard,\n",
    "    #     'fontsize': 14,\n",
    "    #     'columns': {\n",
    "    #         'x': 'ratio',\n",
    "    #         'y': 'count_total_replies',\n",
    "    #     },\n",
    "    #     'alpha': 0.5,\n",
    "    #     'marker_size': 5,\n",
    "    #     'marker': None,\n",
    "    #     'xlabel': 'Jaccard coefficent \\n (for each IO account, each poster)',\n",
    "    #     'ylabel': 'Number of daily tweets from poster  ',\n",
    "    #     'legend_location': '',\n",
    "    #     'log_yscale': False,\n",
    "    #     'log_xscale': False,\n",
    "    #     'bins': None,\n",
    "    #     'title': f'{year}_{campaign}_per_poster_per_tweet_1day',\n",
    "    #     'save': {\n",
    "    #         'path': f'{time_plot_path}',\n",
    "    #         'filename': f'{year}_{campaign}_jaccard_1day.png'\n",
    "    #     },\n",
    "    # }\n",
    "    \n",
    "    keys = parameters.keys()\n",
    "    fig, ax = plt.subplots(figsize=(8, 8))\n",
    "    fontsize = parameters['fontsize']\n",
    "    \n",
    "    colors = ['blue', 'red', 'green', 'orange', 'olive', 'pink', 'lime', 'maroon']\n",
    "    symbols = ['.', 'o', '+', 'x', '*', 'v', '^', '>']\n",
    "    \n",
    "    x_column = parameters['columns']['x']\n",
    "    y_column = parameters['columns']['y']\n",
    "    data = parameters['data']\n",
    "    color = colors[0]\n",
    "    \n",
    "    alpha = parameters['alpha'] if 'alpha' in keys else 0.5\n",
    "    marker_size = parameters['marker_size'] if 'marker_size' in keys else 3\n",
    "    \n",
    "    if 'marker' in keys:\n",
    "        marker = symbols[1]\n",
    "    else:\n",
    "        marker = symbols[0]\n",
    "        \n",
    "    ax.scatter(data[x_column], \n",
    "               data[y_column], \n",
    "               marker_size, \n",
    "               c=color, \n",
    "               alpha=alpha, \n",
    "               marker=marker,\n",
    "           label=\"Luck\")\n",
    "\n",
    "    ax.set_xlabel(parameters['xlabel'], \n",
    "                  fontsize=fontsize)\n",
    "    ax.set_ylabel(parameters['ylabel'], \n",
    "                  fontsize=fontsize)\n",
    "\n",
    "    ax.tick_params(axis='both', labelsize=fontsize) \n",
    "    \n",
    "    if 'log_yscale' in keys and parameters['log_yscale'] == True:\n",
    "        ax.set_yscale('log')\n",
    "    if 'log_xscale' in keys and parameters['log_xscale'] == True:\n",
    "        ax.set_xscale('log')\n",
    "        \n",
    "    if 'title' in keys:\n",
    "        plt.title(parameters['title'])\n",
    "\n",
    "    if 'save' in keys:\n",
    "        path = parameters['save']['path']\n",
    "        filename = parameters['save']['filename']\n",
    "        \n",
    "        file_path = os.path.join(path, filename)\n",
    "        \n",
    "        fig.savefig(f'{file_path}', \n",
    "              facecolor='white', \n",
    "              transparent=False)\n",
    "        \n",
    "    plt.show()\n"
   ]
  },
  {
   "cell_type": "markdown",
   "id": "a2bcfec7-7f9c-40d9-aeec-8c6592901c3f",
   "metadata": {},
   "source": [
    "#### **Manually inspect each user each day replies**"
   ]
  },
  {
   "cell_type": "code",
   "execution_count": 74,
   "id": "e1e11a46-e4ba-4d40-b16e-53870b872801",
   "metadata": {},
   "outputs": [],
   "source": [
    "day_poster_gt_5 = df_iran.merge(df_day[['in_reply_to_userid', \n",
    "                                      'tweet_time_year']],\n",
    "                              on=['in_reply_to_userid', \n",
    "                                  'tweet_time_year'],\n",
    "                              how='inner')"
   ]
  },
  {
   "cell_type": "code",
   "execution_count": 31,
   "id": "a442d56c-cd66-4647-a471-dc76770b16aa",
   "metadata": {},
   "outputs": [],
   "source": [
    "##################################################"
   ]
  },
  {
   "cell_type": "markdown",
   "id": "783061d3-8abe-4391-b822-dff2db7c5261",
   "metadata": {
    "jp-MarkdownHeadingCollapsed": true,
    "tags": []
   },
   "source": [
    "##### **How many unique posters and cpnversations were there in data sets?**"
   ]
  },
  {
   "cell_type": "code",
   "execution_count": 32,
   "id": "373a8e8f-54ed-4269-b13c-8dcc4f379db5",
   "metadata": {},
   "outputs": [
    {
     "name": "stdout",
     "output_type": "stream",
     "text": [
      "Number of unique poster in dataset : 510\n",
      "Number of unique replied to tweetids in dataset : 26487\n"
     ]
    }
   ],
   "source": [
    "print('Number of unique poster in dataset :', \n",
    "      df_day['in_reply_to_userid'].nunique())\n",
    "\n",
    "\n",
    "tweet_unique = df_iran.loc[\n",
    "    df_iran['in_reply_to_userid'].isin(\n",
    "        df_day['in_reply_to_userid'])]['in_reply_to_tweetid']\n",
    "                \n",
    "print('Number of unique replied to tweetids in dataset :', \n",
    "      len(set(tweet_unique)))\n",
    "      "
   ]
  },
  {
   "cell_type": "code",
   "execution_count": 33,
   "id": "ff0c2fee-55a9-4c2f-adc2-789c152c66a3",
   "metadata": {},
   "outputs": [],
   "source": [
    "df_day = df_day.sort_values(by=['count'],\n",
    "                            ascending=False\n",
    "                           )"
   ]
  },
  {
   "cell_type": "code",
   "execution_count": 34,
   "id": "2035a9db-35f9-4327-8235-1d788eb83718",
   "metadata": {},
   "outputs": [],
   "source": [
    "df_filter_higher = df_iran.loc[\n",
    "    df_iran['in_reply_to_userid'].isin(\n",
    "        df_day['in_reply_to_userid'])]\n",
    "\n",
    "df_day_tweets = df_day.merge(df_filter_higher[['in_reply_to_tweetid',\n",
    "                                               'in_reply_to_userid'\n",
    "                                              ]])\n",
    "df_day_tweets = df_day_tweets.sort_values(by=['count'],\n",
    "                                          ascending=False)\n",
    "\n",
    "df_save = df_day_tweets[['in_reply_to_userid', 'in_reply_to_tweetid']]\n",
    "df_save = df_save.drop_duplicates().reset_index(drop=True)"
   ]
  },
  {
   "cell_type": "code",
   "execution_count": 35,
   "id": "d92f93bb-4427-42d1-a8dc-0438a3d3e785",
   "metadata": {},
   "outputs": [],
   "source": [
    "threshold = 500\n",
    "\n",
    "rows = df_save.iloc[:threshold]['in_reply_to_tweetid']\n",
    "\n",
    "file_name = f'{threshold}_{campaign}_{type_of}_conversation_ids.txt'\n",
    "conversation_path = os.path.join(derived_path, \n",
    "                                 'conversation')\n",
    "\n",
    "file_hp.write_to_file_row_each_line(conversation_path, \n",
    "                                        file_name,\n",
    "                                        rows)"
   ]
  },
  {
   "cell_type": "code",
   "execution_count": 36,
   "id": "db3baa91-f226-4064-b636-6122516d0dd1",
   "metadata": {},
   "outputs": [
    {
     "data": {
      "text/html": [
       "<div>\n",
       "<style scoped>\n",
       "    .dataframe tbody tr th:only-of-type {\n",
       "        vertical-align: middle;\n",
       "    }\n",
       "\n",
       "    .dataframe tbody tr th {\n",
       "        vertical-align: top;\n",
       "    }\n",
       "\n",
       "    .dataframe thead th {\n",
       "        text-align: right;\n",
       "    }\n",
       "</style>\n",
       "<table border=\"1\" class=\"dataframe\">\n",
       "  <thead>\n",
       "    <tr style=\"text-align: right;\">\n",
       "      <th></th>\n",
       "      <th>in_reply_to_userid</th>\n",
       "      <th>in_reply_to_tweetid</th>\n",
       "    </tr>\n",
       "  </thead>\n",
       "  <tbody>\n",
       "    <tr>\n",
       "      <th>0</th>\n",
       "      <td>1169137349508382720</td>\n",
       "      <td>1260249122931523584</td>\n",
       "    </tr>\n",
       "    <tr>\n",
       "      <th>1</th>\n",
       "      <td>1169137349508382720</td>\n",
       "      <td>1262366717570777088</td>\n",
       "    </tr>\n",
       "    <tr>\n",
       "      <th>2</th>\n",
       "      <td>1169137349508382720</td>\n",
       "      <td>1262373337730297856</td>\n",
       "    </tr>\n",
       "    <tr>\n",
       "      <th>3</th>\n",
       "      <td>1169137349508382720</td>\n",
       "      <td>1261583279020314624</td>\n",
       "    </tr>\n",
       "    <tr>\n",
       "      <th>4</th>\n",
       "      <td>1169137349508382720</td>\n",
       "      <td>1261233813532766208</td>\n",
       "    </tr>\n",
       "    <tr>\n",
       "      <th>...</th>\n",
       "      <td>...</td>\n",
       "      <td>...</td>\n",
       "    </tr>\n",
       "    <tr>\n",
       "      <th>495</th>\n",
       "      <td>1169137349508382720</td>\n",
       "      <td>1220654599549440000</td>\n",
       "    </tr>\n",
       "    <tr>\n",
       "      <th>496</th>\n",
       "      <td>1169137349508382720</td>\n",
       "      <td>1260593661407932416</td>\n",
       "    </tr>\n",
       "    <tr>\n",
       "      <th>497</th>\n",
       "      <td>1169137349508382720</td>\n",
       "      <td>1263104316123971584</td>\n",
       "    </tr>\n",
       "    <tr>\n",
       "      <th>498</th>\n",
       "      <td>1169137349508382720</td>\n",
       "      <td>1261594609186029568</td>\n",
       "    </tr>\n",
       "    <tr>\n",
       "      <th>499</th>\n",
       "      <td>1169137349508382720</td>\n",
       "      <td>1263102648703565824</td>\n",
       "    </tr>\n",
       "  </tbody>\n",
       "</table>\n",
       "<p>500 rows × 2 columns</p>\n",
       "</div>"
      ],
      "text/plain": [
       "      in_reply_to_userid  in_reply_to_tweetid\n",
       "0    1169137349508382720  1260249122931523584\n",
       "1    1169137349508382720  1262366717570777088\n",
       "2    1169137349508382720  1262373337730297856\n",
       "3    1169137349508382720  1261583279020314624\n",
       "4    1169137349508382720  1261233813532766208\n",
       "..                   ...                  ...\n",
       "495  1169137349508382720  1220654599549440000\n",
       "496  1169137349508382720  1260593661407932416\n",
       "497  1169137349508382720  1263104316123971584\n",
       "498  1169137349508382720  1261594609186029568\n",
       "499  1169137349508382720  1263102648703565824\n",
       "\n",
       "[500 rows x 2 columns]"
      ]
     },
     "execution_count": 36,
     "metadata": {},
     "output_type": "execute_result"
    }
   ],
   "source": [
    "df_save.iloc[:threshold]"
   ]
  },
  {
   "cell_type": "code",
   "execution_count": null,
   "id": "f143fac2-9c9a-4cf5-8715-afdebdab32dd",
   "metadata": {},
   "outputs": [],
   "source": []
  }
 ],
 "metadata": {
  "kernelspec": {
   "display_name": "Python 3 (ipykernel)",
   "language": "python",
   "name": "python3"
  },
  "language_info": {
   "codemirror_mode": {
    "name": "ipython",
    "version": 3
   },
   "file_extension": ".py",
   "mimetype": "text/x-python",
   "name": "python",
   "nbconvert_exporter": "python",
   "pygments_lexer": "ipython3",
   "version": "3.9.1"
  }
 },
 "nbformat": 4,
 "nbformat_minor": 5
}
