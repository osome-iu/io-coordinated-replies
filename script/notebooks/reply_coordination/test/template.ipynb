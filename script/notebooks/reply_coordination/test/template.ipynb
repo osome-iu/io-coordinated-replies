{
 "cells": [
  {
   "cell_type": "markdown",
   "id": "6452dc62-3f75-4d51-b81e-20730379fbd5",
   "metadata": {},
   "source": [
    "### **This notebook looks into the timeseries of reply each poster got from IO account within different interval.**"
   ]
  },
  {
   "cell_type": "code",
   "execution_count": 1,
   "id": "46a7bfd3-74d0-4553-bd85-c45fa1882ed5",
   "metadata": {},
   "outputs": [],
   "source": [
    "import pandas as pd\n",
    "import numpy as np\n",
    "import warnings\n",
    "import glob\n",
    "import seaborn as sns\n",
    "import matplotlib.pyplot as plt\n",
    "import matplotlib.colors as pltc\n",
    "from tqdm import tqdm\n",
    "import sys\n",
    "import os\n",
    "import networkx as nx\n",
    "\n",
    "import importlib\n",
    "\n",
    "#### packages\n",
    "import helper.strategy_helper as st\n",
    "import helper.visualization as vz\n",
    "import helper.helper as hp\n",
    "import helper.file_helper as file_hp\n",
    "import config.config as config"
   ]
  },
  {
   "cell_type": "markdown",
   "id": "858ae3e0-1d7f-4163-ad06-18880ef1d02c",
   "metadata": {},
   "source": [
    "##### **Read paths**Test campaign"
   ]
  },
  {
   "cell_type": "code",
   "execution_count": 2,
   "id": "876b076e-23b5-47f3-8a93-16a827183feb",
   "metadata": {},
   "outputs": [],
   "source": [
    "config = config.config()\n",
    "path = config['PATHS']\n",
    "\n",
    "derived_path = path['derived_path']\n",
    "all_tweet_data = path['all_tweet_data']\n",
    "plot_path = path['plot_path']"
   ]
  },
  {
   "cell_type": "markdown",
   "id": "974d1c3a-1947-4b4b-b1ef-d93bd391f77d",
   "metadata": {},
   "source": [
    "##### **Read all campaigns**"
   ]
  },
  {
   "cell_type": "code",
   "execution_count": 3,
   "id": "27fced56-af5c-45f7-bdb8-1f7ce7059053",
   "metadata": {},
   "outputs": [],
   "source": [
    "all_campaigns, names = st.bundle_campaign()"
   ]
  },
  {
   "cell_type": "markdown",
   "id": "e3895e34-4603-4c66-bfc5-bfbe3a6ba1d4",
   "metadata": {},
   "source": [
    "##### **Create folder for plots**"
   ]
  },
  {
   "cell_type": "code",
   "execution_count": 4,
   "id": "870efce9-39ab-4dab-8aa8-357740b31390",
   "metadata": {},
   "outputs": [],
   "source": [
    "file_hp.create_folder(plot_path, \n",
    "                      'reply_time_series')\n",
    "time_plot_path = os.path.join(plot_path, \n",
    "                          'reply_time_series')"
   ]
  },
  {
   "cell_type": "markdown",
   "id": "d9919d08-1202-4996-89eb-5b1636250808",
   "metadata": {},
   "source": [
    "##### **Test campaign**"
   ]
  },
  {
   "cell_type": "code",
   "execution_count": 6,
   "id": "b86929e0-fa38-402e-ae28-dfad185989ca",
   "metadata": {},
   "outputs": [],
   "source": [
    "year = '2020_12'\n",
    "campaign = 'iran_202012'\n",
    "type_of = 'ops'"
   ]
  },
  {
   "cell_type": "markdown",
   "id": "3f0e2d92-b016-49ca-859a-a4b086adb971",
   "metadata": {},
   "source": [
    "##### **Read IO data**"
   ]
  },
  {
   "cell_type": "code",
   "execution_count": null,
   "id": "896ea5bf-b56a-44ed-87ca-77474edae650",
   "metadata": {},
   "outputs": [],
   "source": [
    "data_path = st.get_data_path(all_tweet_data, \n",
    "                                 year, \n",
    "                                 campaign)\n",
    "\n",
    "df = st.read_ops_control_data(data_path['ops'],\n",
    "                                data_path['control'], \n",
    "                             [type_of])['ops']\n",
    "\n",
    "df_iran = st.reply_to_external_users(df)"
   ]
  }
 ],
 "metadata": {
  "kernelspec": {
   "display_name": "Python 3 (ipykernel)",
   "language": "python",
   "name": "python3"
  },
  "language_info": {
   "codemirror_mode": {
    "name": "ipython",
    "version": 3
   },
   "file_extension": ".py",
   "mimetype": "text/x-python",
   "name": "python",
   "nbconvert_exporter": "python",
   "pygments_lexer": "ipython3",
   "version": "3.9.1"
  }
 },
 "nbformat": 4,
 "nbformat_minor": 5
}
