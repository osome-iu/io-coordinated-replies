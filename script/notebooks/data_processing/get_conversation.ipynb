{
 "cells": [
  {
   "cell_type": "markdown",
   "id": "10cc566a-4ddf-4c52-877c-e234ecf4dd99",
   "metadata": {},
   "source": [
    "#### **This notebook get the tweetids that were replied by the IO accounts, save it to text files and gets the replies to these tweetids (accounts outside) IO**"
   ]
  },
  {
   "cell_type": "code",
   "execution_count": 1,
   "id": "b5cef82f-b7cc-4b57-afa4-772c46774865",
   "metadata": {},
   "outputs": [],
   "source": [
    "import pandas as pd\n",
    "import numpy as np\n",
    "import warnings\n",
    "import glob\n",
    "import seaborn as sns\n",
    "import matplotlib.pyplot as plt\n",
    "import matplotlib.colors as pltc\n",
    "from tqdm import tqdm\n",
    "import sys\n",
    "import os\n",
    "\n",
    "import importlib\n",
    "\n",
    "#### packages\n",
    "import helper.strategy_helper as st\n",
    "import helper.visualization as vz\n",
    "import helper.helper as hp\n",
    "import helper.file_helper as file_hp\n",
    "import config.config as config"
   ]
  },
  {
   "cell_type": "markdown",
   "id": "a227a5c2-6bd2-458e-9062-45fa1c4674b9",
   "metadata": {
    "jp-MarkdownHeadingCollapsed": true,
    "tags": []
   },
   "source": [
    "##### ***Load config***"
   ]
  },
  {
   "cell_type": "code",
   "execution_count": 2,
   "id": "59c38d61-9374-4c5c-bd10-6c17184a79ff",
   "metadata": {},
   "outputs": [],
   "source": [
    "config = config.config()\n",
    "path = config['PATHS']\n",
    "\n",
    "derived_path = path['derived_path']\n",
    "all_tweet_data = path['all_tweet_data']"
   ]
  },
  {
   "cell_type": "code",
   "execution_count": 3,
   "id": "b6ad23c7-86ca-47f9-8d68-e0a46431d1e8",
   "metadata": {},
   "outputs": [],
   "source": [
    "file_hp.create_folder(derived_path, 'conversation')\n",
    "\n",
    "conversation_path = os.path.join(derived_path, \n",
    "                                 'conversation')"
   ]
  },
  {
   "cell_type": "markdown",
   "id": "5a970f2d-3efb-4df2-8b9e-051baaec9f41",
   "metadata": {
    "jp-MarkdownHeadingCollapsed": true,
    "tags": []
   },
   "source": [
    "##### ***Getting replied_to_tweet ids for replies to external accounts***"
   ]
  },
  {
   "cell_type": "code",
   "execution_count": 4,
   "id": "a37dbbea-2013-40ff-b780-7344074646f8",
   "metadata": {},
   "outputs": [],
   "source": [
    "def save_replied_to_tweetid_external(df, file_name,\n",
    "                                     conversation_path,\n",
    "                                    ):\n",
    "    ''' \n",
    "    Gets in_reply_to_tweetid tweetids and save it to text file\n",
    "\n",
    "    :param all_campaigns: dictionary of all campaigns\n",
    "    :param all_tweet_data: path to all tweet data\n",
    "    :param conversation_path: path to save the conversation/in_reply_to_tweetid ids\n",
    "    '''\n",
    "\n",
    "    if 'in_reply_to_tweetid' not in df.columns:\n",
    "        return False\n",
    "\n",
    "    df = st.reply_to_external_users(df, 'all')\n",
    "\n",
    "    df = df.astype({\n",
    "        'in_reply_to_tweetid': int\n",
    "    })\n",
    "\n",
    "    rows = df.loc[\n",
    "        df['in_reply_to_tweetid'] != 0]['in_reply_to_tweetid'].unique()\n",
    "\n",
    "    if len(rows) == 0:\n",
    "        return False\n",
    "\n",
    "\n",
    "    file_hp.write_to_file_row_each_line(conversation_path, \n",
    "                                        file_name,\n",
    "                                        rows)\n",
    "    return True"
   ]
  },
  {
   "cell_type": "code",
   "execution_count": 5,
   "id": "56343876-4eb6-484f-89ca-951d9916ed5a",
   "metadata": {
    "tags": []
   },
   "outputs": [],
   "source": [
    "all_campaigns, names = st.bundle_campaign()\n",
    "\n",
    "def run_for_all_campaign(all_campaigns, \n",
    "                         all_tweet_data,\n",
    "                         conversation_path, \n",
    "                         type_of='ops'):\n",
    "    '''\n",
    "    Gets in_reply_to_tweetid tweetids and save it to text file \n",
    "    for all_campaigns\n",
    "    \n",
    "    :param all_campaigns: dictionary of all campaigns\n",
    "    :param all_tweet_data: path to all tweet data\n",
    "    :param conversation_path: path to save the conversation/in_reply_to_tweetid ids\n",
    "    '''\n",
    "    for row in all_campaigns:\n",
    "        for year in row:\n",
    "            for new_campaign in row[year]:\n",
    "\n",
    "                print(f'\\n ------START: {year}: {new_campaign} ------- \\n')\n",
    "\n",
    "                ops_file_path = os.path.join(all_tweet_data, year, \n",
    "                                             new_campaign, \n",
    "                                             f'{new_campaign}_tweets.pkl.gz')\n",
    "                control_file_path = os.path.join(all_tweet_data, \n",
    "                                                 year, \n",
    "                                                 new_campaign, \n",
    "                                                 'DriversControl', \n",
    "                                 f'{new_campaign}_tweets_control.pkl.gz')\n",
    "\n",
    "                data = st.read_ops_control_data(ops_file_path, \n",
    "                                             control_file_path, \n",
    "                                             [type_of])\n",
    "\n",
    "                df = data[type_of]\n",
    "                \n",
    "                if len(df) == 0 and type_of == 'control':\n",
    "                    control_file_path = os.path.join(all_tweet_data, \n",
    "                                                     year, \n",
    "                                                     new_campaign, \n",
    "                                                     'DriversControl', \n",
    "                                                     f'{new_campaign}_control.pkl.gz')\n",
    "                    df = st.read_ops_control_data(ops_file_path, \n",
    "                                             control_file_path, \n",
    "                                             [type_of])['control']\n",
    "                \n",
    "                if len(df_test) == 0:\n",
    "                    print(f'\\n ------END: {year}: {new_campaign} ------- \\n')\n",
    "                    continue\n",
    "                    \n",
    "                file_name = f'{campaign}_{type_of}_conversation_ids.txt'\n",
    "                \n",
    "                flag = save_replied_to_tweetid_external(df,\n",
    "                                                 conversation_path,\n",
    "                                                 file_name)\n",
    "                \n",
    "                if flag == False:\n",
    "                    print('Problem in extrating conversation ids')\n",
    "                    \n",
    "                    return\n",
    "                \n",
    "                print(f'\\n ------END: {year}: {new_campaign} ------- \\n')"
   ]
  },
  {
   "cell_type": "code",
   "execution_count": 5,
   "id": "767167f1-77ec-4cc7-b803-08375cffd24d",
   "metadata": {},
   "outputs": [],
   "source": [
    "# run_for_all_campaign(all_campaigns, all_tweet_data,\n",
    "#                                     conversation_path)"
   ]
  },
  {
   "cell_type": "markdown",
   "id": "9ba1201e-bcba-4741-b212-15f6cd524836",
   "metadata": {
    "jp-MarkdownHeadingCollapsed": true,
    "tags": []
   },
   "source": [
    "##### ***Search conversation_ids***"
   ]
  },
  {
   "cell_type": "code",
   "execution_count": 6,
   "id": "4c3b73f4-141c-4079-9142-914700ac6904",
   "metadata": {},
   "outputs": [],
   "source": [
    "def get_conversation(conversation_file,\n",
    "                     extraction_location,\n",
    "                     filename=None\n",
    "                    ):\n",
    "    '''\n",
    "    Get the conversation from conversation ids (conversation ids\n",
    "    are in txt file. Each line is one conversation id\n",
    "    \n",
    "    :param conversation_file: location where conversation file is\n",
    "    located\n",
    "    :param extraction_location: location where extracted conversation is\n",
    "    saved\n",
    "    '''\n",
    "    for id_file in glob.glob(conversation_file):\n",
    "        conversation_id_file = id_file.split(os.sep)[-1]\n",
    "        campaign = conversation_id_file.split('.')[0]\n",
    "\n",
    "        print(f'\\n\\n ---- Starting for campaign : {campaign} -- \\n')\n",
    "\n",
    "        if filename == None:\n",
    "            campaign_json = f'{campaign}.jsonl'\n",
    "        else:\n",
    "            campaign_json = filename\n",
    "            \n",
    "        path_to_json = os.path.join(extraction_location, campaign_json)\n",
    "        command = f'twarc2 conversations  --archive {id_file} > {path_to_json}'\n",
    "\n",
    "        os.system(command)  \n",
    "\n",
    "        print(f'\\n ---- Ending for campaign : {campaign} ------- \\n')"
   ]
  },
  {
   "cell_type": "code",
   "execution_count": 7,
   "id": "505a3ea4-df0f-42c1-a323-8246031f224c",
   "metadata": {},
   "outputs": [
    {
     "name": "stdout",
     "output_type": "stream",
     "text": [
      "\n",
      "\n",
      " ---- Starting for campaign : iran_202012_conversation_ids -- \n",
      "\n",
      "\n",
      " ---- Ending for campaign : iran_202012_conversation_ids ------- \n",
      "\n"
     ]
    },
    {
     "name": "stderr",
     "output_type": "stream",
     "text": [
      "\n",
      "Aborted!\n"
     ]
    }
   ],
   "source": [
    "conversation_file = os.path.join(conversation_path, \n",
    "                                 'iran_202012_conversation_ids.txt')\n",
    "\n",
    "file_hp.create_folder(derived_path,\n",
    "                      'extracted_conversation')\n",
    "extraction_location = os.path.join(derived_path, \n",
    "                                   'extracted_conversation')\n",
    "\n",
    "\n",
    "get_conversation(conversation_file, extraction_location)"
   ]
  },
  {
   "cell_type": "code",
   "execution_count": null,
   "id": "ed4f9622-2c56-4658-b917-026fda75c8ae",
   "metadata": {},
   "outputs": [],
   "source": [
    "###Testing for control"
   ]
  },
  {
   "cell_type": "code",
   "execution_count": null,
   "id": "3934a30a-e035-43ed-9883-8c05c5509f03",
   "metadata": {},
   "outputs": [],
   "source": []
  }
 ],
 "metadata": {
  "kernelspec": {
   "display_name": "Python 3 (ipykernel)",
   "language": "python",
   "name": "python3"
  },
  "language_info": {
   "codemirror_mode": {
    "name": "ipython",
    "version": 3
   },
   "file_extension": ".py",
   "mimetype": "text/x-python",
   "name": "python",
   "nbconvert_exporter": "python",
   "pygments_lexer": "ipython3",
   "version": "3.9.1"
  }
 },
 "nbformat": 4,
 "nbformat_minor": 5
}
