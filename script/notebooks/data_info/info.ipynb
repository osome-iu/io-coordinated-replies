{
 "cells": [
  {
   "cell_type": "markdown",
   "id": "eb560036-4312-458b-9f44-a8da6b7b9f95",
   "metadata": {},
   "source": [
    "##### **This notebook contains information about the control and IO datasets**"
   ]
  },
  {
   "cell_type": "code",
   "execution_count": 1,
   "id": "ee393996-b115-443d-adbd-3188cede64e5",
   "metadata": {},
   "outputs": [],
   "source": [
    "import pandas as pd\n",
    "import numpy as np\n",
    "import warnings\n",
    "import glob\n",
    "import seaborn as sns\n",
    "import matplotlib.pyplot as plt\n",
    "import matplotlib.colors as pltc\n",
    "from tqdm import tqdm\n",
    "import sys\n",
    "import os\n",
    "import networkx as nx\n",
    "import datetime\n",
    "\n",
    "import importlib\n",
    "\n",
    "#### packages\n",
    "import helper.strategy_helper as st\n",
    "import helper.visualization as vz\n",
    "import helper.helper as hp\n",
    "import helper.file_helper as file_hp\n",
    "import config.config as config"
   ]
  },
  {
   "cell_type": "code",
   "execution_count": 2,
   "id": "5c803cbc-fca8-490f-b5c8-cf7c42db6899",
   "metadata": {},
   "outputs": [],
   "source": [
    "all_campaigns, names = st.bundle_campaign()"
   ]
  },
  {
   "cell_type": "code",
   "execution_count": 5,
   "id": "94b9baeb-38d6-4926-b965-c83f0cae29b5",
   "metadata": {},
   "outputs": [
    {
     "name": "stdout",
     "output_type": "stream",
     "text": [
      "Total IO Datasets : 43\n"
     ]
    }
   ],
   "source": [
    "total = 0\n",
    "for element in all_campaigns:\n",
    "    for key in element:\n",
    "        total = total + len(element[key])\n",
    "print('Total IO Datasets :', total)"
   ]
  },
  {
   "cell_type": "code",
   "execution_count": 6,
   "id": "3d11bd75-0ea2-4fd8-bef4-00ab0c4109c5",
   "metadata": {},
   "outputs": [],
   "source": [
    "config = config.config()\n",
    "path = config['PATHS']\n",
    "\n",
    "derived_path = path['derived_path']\n",
    "all_tweet_data = path['all_tweet_data']\n",
    "plot_path = path['plot_path']"
   ]
  },
  {
   "cell_type": "code",
   "execution_count": 7,
   "id": "a243b1d6-3a2d-45c6-8b36-5952098d920e",
   "metadata": {},
   "outputs": [],
   "source": [
    "year = '2020_12'\n",
    "campaign = 'iran_202012'\n",
    "type_of = 'ops'"
   ]
  },
  {
   "cell_type": "markdown",
   "id": "3603a145-bf70-4617-ad34-741ba520d942",
   "metadata": {},
   "source": [
    "##### **IO data**"
   ]
  },
  {
   "cell_type": "code",
   "execution_count": 8,
   "id": "88a3e31c-13a5-4d6c-b728-a376f5e51aa2",
   "metadata": {},
   "outputs": [],
   "source": [
    "data_path = st.get_data_path(all_tweet_data, \n",
    "                                 year, \n",
    "                                 campaign)\n",
    "\n",
    "df = st.read_ops_control_data(data_path['ops'],\n",
    "                                data_path['control'], \n",
    "                             [type_of])['ops']"
   ]
  },
  {
   "cell_type": "code",
   "execution_count": null,
   "id": "33b55e2e-9c67-48e3-aa63-88c177edc37e",
   "metadata": {},
   "outputs": [],
   "source": [
    "#Checking time"
   ]
  },
  {
   "cell_type": "code",
   "execution_count": 13,
   "id": "92b2b31d-a4f3-4cb2-80ae-b262afebe020",
   "metadata": {},
   "outputs": [
    {
     "name": "stdout",
     "output_type": "stream",
     "text": [
      "Min time:  2009-09-06 13:56\n",
      "Max time:  2020-12-27 18:08\n"
     ]
    }
   ],
   "source": [
    "print('Min time: ', df['tweet_time'].min())\n",
    "print('Max time: ', df['tweet_time'].max())"
   ]
  },
  {
   "cell_type": "markdown",
   "id": "542d8e7c-f354-4cf3-b7e3-fca0a06abd99",
   "metadata": {},
   "source": [
    "### **Checking for single account if the data is its whole timeline**"
   ]
  },
  {
   "cell_type": "code",
   "execution_count": 16,
   "id": "053538b1-855a-4465-96c1-cf65b91ad006",
   "metadata": {},
   "outputs": [
    {
     "name": "stdout",
     "output_type": "stream",
     "text": [
      "<class 'pandas.core.frame.DataFrame'>\n",
      "RangeIndex: 560571 entries, 0 to 560570\n",
      "Data columns (total 30 columns):\n",
      " #   Column                    Non-Null Count   Dtype  \n",
      "---  ------                    --------------   -----  \n",
      " 0   tweetid                   560571 non-null  int64  \n",
      " 1   userid                    560571 non-null  int64  \n",
      " 2   user_display_name         560571 non-null  object \n",
      " 3   user_screen_name          560571 non-null  object \n",
      " 4   user_reported_location    417523 non-null  object \n",
      " 5   user_profile_description  530518 non-null  object \n",
      " 6   user_profile_url          338535 non-null  object \n",
      " 7   follower_count            560571 non-null  int64  \n",
      " 8   following_count           560571 non-null  int64  \n",
      " 9   account_creation_date     560571 non-null  object \n",
      " 10  account_language          560571 non-null  object \n",
      " 11  tweet_language            444758 non-null  object \n",
      " 12  tweet_text                560571 non-null  object \n",
      " 13  tweet_time                560571 non-null  object \n",
      " 14  tweet_client_name         560571 non-null  object \n",
      " 15  in_reply_to_userid        95096 non-null   float64\n",
      " 16  in_reply_to_tweetid       89139 non-null   float64\n",
      " 17  quoted_tweet_tweetid      18513 non-null   float64\n",
      " 18  is_retweet                560571 non-null  bool   \n",
      " 19  retweet_userid            100446 non-null  float64\n",
      " 20  retweet_tweetid           100446 non-null  float64\n",
      " 21  latitude                  560571 non-null  object \n",
      " 22  longitude                 560571 non-null  object \n",
      " 23  quote_count               560571 non-null  int64  \n",
      " 24  reply_count               560571 non-null  int64  \n",
      " 25  like_count                560571 non-null  int64  \n",
      " 26  retweet_count             560571 non-null  int64  \n",
      " 27  hashtags                  444588 non-null  object \n",
      " 28  urls                      465724 non-null  object \n",
      " 29  user_mentions             444951 non-null  object \n",
      "dtypes: bool(1), float64(5), int64(8), object(16)\n",
      "memory usage: 124.6+ MB\n"
     ]
    }
   ],
   "source": [
    "df.info()"
   ]
  },
  {
   "cell_type": "code",
   "execution_count": 18,
   "id": "c4e03d7a-16ff-419e-bf8b-0edc9ee5dfe8",
   "metadata": {},
   "outputs": [],
   "source": [
    "df_user = df.loc[df['userid'] == 1262795522206773251]"
   ]
  },
  {
   "cell_type": "code",
   "execution_count": 27,
   "id": "2c554d8b-c0c5-484d-9ab5-1ad34c1338c4",
   "metadata": {},
   "outputs": [],
   "source": []
  },
  {
   "cell_type": "code",
   "execution_count": 23,
   "id": "ed41e8c6-a037-41b4-be74-5843c853c28b",
   "metadata": {},
   "outputs": [
    {
     "name": "stdout",
     "output_type": "stream",
     "text": [
      "Min time:  2009-09-06 13:56\n",
      "Max time:  2020-12-27 18:08\n"
     ]
    }
   ],
   "source": []
  },
  {
   "cell_type": "code",
   "execution_count": 24,
   "id": "bda5acc4-d2fb-4a4a-a5a0-339d1d612093",
   "metadata": {},
   "outputs": [],
   "source": [
    "df = st.add_YYYY_MM_DD(df)"
   ]
  },
  {
   "cell_type": "code",
   "execution_count": 26,
   "id": "698c72a0-13fe-4d53-a801-bd45ca76bad7",
   "metadata": {},
   "outputs": [
    {
     "name": "stdout",
     "output_type": "stream",
     "text": [
      "Min time:  2009-09-06\n",
      "Max time:  2020-12-27\n"
     ]
    }
   ],
   "source": [
    "print('Min time: ', df['tweet_time_year'].min())\n",
    "print('Max time: ', df['tweet_time_year'].max())"
   ]
  },
  {
   "cell_type": "code",
   "execution_count": 31,
   "id": "80008671-8b51-4d60-a356-c7d0ae1462db",
   "metadata": {},
   "outputs": [
    {
     "name": "stdout",
     "output_type": "stream",
     "text": [
      "Min account creation date : 2009-09-06\n"
     ]
    }
   ],
   "source": [
    "print('Min account creation date :',\n",
    "      df['account_creation_date'].min())"
   ]
  },
  {
   "cell_type": "code",
   "execution_count": 34,
   "id": "f5b1484e-a9bb-44c7-b9df-0423deba669d",
   "metadata": {},
   "outputs": [
    {
     "data": {
      "text/plain": [
       "array([72037886])"
      ]
     },
     "execution_count": 34,
     "metadata": {},
     "output_type": "execute_result"
    }
   ],
   "source": [
    "df.loc[df['account_creation_date'] == df['account_creation_date'].min()]['userid'].unique()"
   ]
  },
  {
   "cell_type": "code",
   "execution_count": 35,
   "id": "84e1bd26-7e5c-4e6e-8e96-54358367383b",
   "metadata": {},
   "outputs": [],
   "source": [
    "df_user = df.loc[df['userid'] == 72037886]"
   ]
  },
  {
   "cell_type": "code",
   "execution_count": 47,
   "id": "750372eb-69a9-4584-b7f0-29c6668723bc",
   "metadata": {},
   "outputs": [
    {
     "data": {
      "text/plain": [
       "array(['2018-01-02', '2017-02-25', '2018-06-13', ..., '2016-10-09',\n",
       "       '2020-05-14', '2020-03-19'], dtype=object)"
      ]
     },
     "execution_count": 47,
     "metadata": {},
     "output_type": "execute_result"
    }
   ],
   "source": [
    "df_user['tweet_time_year'].unique()"
   ]
  },
  {
   "cell_type": "code",
   "execution_count": 42,
   "id": "0db9ff12-6c92-4f1a-b4c5-adff93ea6e08",
   "metadata": {},
   "outputs": [
    {
     "data": {
      "text/plain": [
       "array(['2020-10-07'], dtype=object)"
      ]
     },
     "execution_count": 42,
     "metadata": {},
     "output_type": "execute_result"
    }
   ],
   "source": [
    " df.loc[df['userid'] == 1313773810504654849]['account_creation_date'].unique()"
   ]
  },
  {
   "cell_type": "code",
   "execution_count": 46,
   "id": "ef54dbb2-40a8-46d8-80ca-2181d2f69fd6",
   "metadata": {},
   "outputs": [
    {
     "data": {
      "text/plain": [
       "array(['2020-10-08', '2020-10-15', '2020-10-16', '2020-10-12',\n",
       "       '2020-10-18', '2020-10-07', '2020-10-09', '2020-10-20',\n",
       "       '2020-10-11', '2020-10-14', '2020-10-13', '2020-10-10',\n",
       "       '2020-10-17', '2020-10-19'], dtype=object)"
      ]
     },
     "execution_count": 46,
     "metadata": {},
     "output_type": "execute_result"
    }
   ],
   "source": [
    "df.loc[df['userid'] == 1313773810504654849]['tweet_time_year'].unique()"
   ]
  },
  {
   "cell_type": "code",
   "execution_count": 45,
   "id": "f542652a-5987-422b-b93f-0b6571e9a931",
   "metadata": {},
   "outputs": [],
   "source": [
    "## This shows that the data is the whole timeline of all the accounts\n",
    "# that were suspended"
   ]
  },
  {
   "cell_type": "markdown",
   "id": "e794dea8-fe34-4e2d-b609-1983a49a7182",
   "metadata": {},
   "source": [
    "##### **Testing for control dataset**"
   ]
  },
  {
   "cell_type": "code",
   "execution_count": 51,
   "id": "90df3e52-057b-432d-8f88-98292998a235",
   "metadata": {},
   "outputs": [],
   "source": [
    "type_of = 'control'\n",
    "\n",
    "df_control = st.read_ops_control_data(data_path['ops'],\n",
    "                                data_path['control'], \n",
    "                             [type_of])['control']"
   ]
  },
  {
   "cell_type": "code",
   "execution_count": 56,
   "id": "a51414be-d5bf-42db-be1e-639dfb6f66d7",
   "metadata": {},
   "outputs": [
    {
     "data": {
      "text/plain": [
       "Index(['account_creation_date', 'user_display_name', 'userid',\n",
       "       'user_screen_name', 'user_profile_url', 'user_profile_description',\n",
       "       'follower_count', 'following_count', 'user_reported_location',\n",
       "       'tweetid', 'tweet_text', 'tweet_language', 'geo', 'place',\n",
       "       'in_reply_to_tweetid', 'in_reply_to_screen_name', 'in_reply_to_userid',\n",
       "       'tweet_time', 'user_mentions', 'hashtags', 'symbols', 'urls',\n",
       "       'tweet_client_name', 'is_retweet', 'retweeted_tweetid',\n",
       "       'retweeted_user_id', 'tweet_time_year'],\n",
       "      dtype='object')"
      ]
     },
     "execution_count": 56,
     "metadata": {},
     "output_type": "execute_result"
    }
   ],
   "source": [
    "df_control.columns"
   ]
  },
  {
   "cell_type": "code",
   "execution_count": 54,
   "id": "bebe9f0d-0f41-4fef-8d5c-36add341db71",
   "metadata": {},
   "outputs": [
    {
     "name": "stdout",
     "output_type": "stream",
     "text": [
      "Min time:  2010-10-21 00:34:24+00:00\n",
      "Max time:  2020-12-27 23:59:58+00:00\n"
     ]
    }
   ],
   "source": [
    "print('Min time: ', df_control['tweet_time'].min())\n",
    "print('Max time: ', df_control['tweet_time'].max())"
   ]
  },
  {
   "cell_type": "code",
   "execution_count": 57,
   "id": "77e63f73-5b45-4375-b547-15da5492ff3b",
   "metadata": {},
   "outputs": [
    {
     "name": "stdout",
     "output_type": "stream",
     "text": [
      "Min account creation date : Fri Apr 01 03:04:52 +0000 2016\n"
     ]
    }
   ],
   "source": [
    "print('Min account creation date :',\n",
    "      df_control['account_creation_date'].min())"
   ]
  },
  {
   "cell_type": "code",
   "execution_count": 60,
   "id": "25419006-5a8c-44f5-86bc-2dd71857c102",
   "metadata": {},
   "outputs": [
    {
     "name": "stdout",
     "output_type": "stream",
     "text": [
      "<class 'pandas.core.frame.DataFrame'>\n",
      "RangeIndex: 729241 entries, 0 to 729240\n",
      "Data columns (total 27 columns):\n",
      " #   Column                    Non-Null Count   Dtype              \n",
      "---  ------                    --------------   -----              \n",
      " 0   account_creation_date     729241 non-null  object             \n",
      " 1   user_display_name         729241 non-null  object             \n",
      " 2   userid                    729241 non-null  object             \n",
      " 3   user_screen_name          729241 non-null  object             \n",
      " 4   user_profile_url          729241 non-null  object             \n",
      " 5   user_profile_description  729241 non-null  object             \n",
      " 6   follower_count            729241 non-null  int64              \n",
      " 7   following_count           729241 non-null  int64              \n",
      " 8   user_reported_location    729241 non-null  object             \n",
      " 9   tweetid                   729241 non-null  object             \n",
      " 10  tweet_text                729241 non-null  object             \n",
      " 11  tweet_language            729241 non-null  object             \n",
      " 12  geo                       0 non-null       object             \n",
      " 13  place                     12016 non-null   object             \n",
      " 14  in_reply_to_tweetid       61339 non-null   object             \n",
      " 15  in_reply_to_screen_name   57406 non-null   object             \n",
      " 16  in_reply_to_userid        72074 non-null   object             \n",
      " 17  tweet_time                729241 non-null  datetime64[ns, UTC]\n",
      " 18  user_mentions             729241 non-null  object             \n",
      " 19  hashtags                  729241 non-null  object             \n",
      " 20  symbols                   729241 non-null  object             \n",
      " 21  urls                      729241 non-null  object             \n",
      " 22  tweet_client_name         729241 non-null  object             \n",
      " 23  is_retweet                729241 non-null  bool               \n",
      " 24  retweeted_tweetid         729241 non-null  object             \n",
      " 25  retweeted_user_id         729241 non-null  object             \n",
      " 26  tweet_time_year           729241 non-null  object             \n",
      "dtypes: bool(1), datetime64[ns, UTC](1), int64(2), object(23)\n",
      "memory usage: 145.4+ MB\n"
     ]
    }
   ],
   "source": [
    "df_control.info()"
   ]
  },
  {
   "cell_type": "code",
   "execution_count": 62,
   "id": "00021fcd-6a1a-4693-8e5d-6fba2c943b35",
   "metadata": {},
   "outputs": [],
   "source": [
    "# df_control['account_creation_date'] = pd.to_datetime(df_control['account_creation_date'], \n",
    "#                                         format=\"%Y-%m-%d, %H:%M:%S\")"
   ]
  },
  {
   "cell_type": "code",
   "execution_count": 65,
   "id": "3482ded1-1f5e-4529-80e9-57ff00faf30b",
   "metadata": {},
   "outputs": [
    {
     "data": {
      "text/html": [
       "<div>\n",
       "<style scoped>\n",
       "    .dataframe tbody tr th:only-of-type {\n",
       "        vertical-align: middle;\n",
       "    }\n",
       "\n",
       "    .dataframe tbody tr th {\n",
       "        vertical-align: top;\n",
       "    }\n",
       "\n",
       "    .dataframe thead th {\n",
       "        text-align: right;\n",
       "    }\n",
       "</style>\n",
       "<table border=\"1\" class=\"dataframe\">\n",
       "  <thead>\n",
       "    <tr style=\"text-align: right;\">\n",
       "      <th></th>\n",
       "      <th>account_creation_date</th>\n",
       "      <th>user_display_name</th>\n",
       "      <th>userid</th>\n",
       "      <th>user_screen_name</th>\n",
       "      <th>user_profile_url</th>\n",
       "      <th>user_profile_description</th>\n",
       "      <th>follower_count</th>\n",
       "      <th>following_count</th>\n",
       "      <th>user_reported_location</th>\n",
       "      <th>tweetid</th>\n",
       "      <th>...</th>\n",
       "      <th>tweet_time</th>\n",
       "      <th>user_mentions</th>\n",
       "      <th>hashtags</th>\n",
       "      <th>symbols</th>\n",
       "      <th>urls</th>\n",
       "      <th>tweet_client_name</th>\n",
       "      <th>is_retweet</th>\n",
       "      <th>retweeted_tweetid</th>\n",
       "      <th>retweeted_user_id</th>\n",
       "      <th>tweet_time_year</th>\n",
       "    </tr>\n",
       "  </thead>\n",
       "  <tbody>\n",
       "    <tr>\n",
       "      <th>728608</th>\n",
       "      <td>Thu Apr 30 13:15:41 +0000 2020</td>\n",
       "      <td>News Sound Bites</td>\n",
       "      <td>1255848224574763009</td>\n",
       "      <td>bites_sound</td>\n",
       "      <td></td>\n",
       "      <td>A 🤖 curating news that keeps you informed with...</td>\n",
       "      <td>57</td>\n",
       "      <td>18</td>\n",
       "      <td>0</td>\n",
       "      <td>1343345914820370432</td>\n",
       "      <td>...</td>\n",
       "      <td>2020-12-27 23:59:58+00:00</td>\n",
       "      <td>[{'id': '256833444', 'screen_name': 'Annastaci...</td>\n",
       "      <td>[]</td>\n",
       "      <td>[]</td>\n",
       "      <td>[]</td>\n",
       "      <td>Twitter</td>\n",
       "      <td>True</td>\n",
       "      <td>1343333089360003073</td>\n",
       "      <td>256833444</td>\n",
       "      <td>2020-12-27</td>\n",
       "    </tr>\n",
       "    <tr>\n",
       "      <th>728707</th>\n",
       "      <td>Sat Jul 11 04:26:01 +0000 2009</td>\n",
       "      <td>Ray Chick</td>\n",
       "      <td>55756918</td>\n",
       "      <td>chickr</td>\n",
       "      <td>http://t.co/8Vtaab2DwA</td>\n",
       "      <td></td>\n",
       "      <td>184</td>\n",
       "      <td>721</td>\n",
       "      <td>Colorado</td>\n",
       "      <td>1343345913977163776</td>\n",
       "      <td>...</td>\n",
       "      <td>2020-12-27 23:59:58+00:00</td>\n",
       "      <td>[{'id': '18166778', 'screen_name': 'Jim_Jordan...</td>\n",
       "      <td>[{'text': 'COVID19', 'indices': [20, 28]}]</td>\n",
       "      <td>[]</td>\n",
       "      <td>[]</td>\n",
       "      <td>Twitter Web App</td>\n",
       "      <td>True</td>\n",
       "      <td>1343266698745491456</td>\n",
       "      <td>18166778</td>\n",
       "      <td>2020-12-27</td>\n",
       "    </tr>\n",
       "    <tr>\n",
       "      <th>728723</th>\n",
       "      <td>Fri Apr 25 20:18:17 +0000 2008</td>\n",
       "      <td>dar_bish</td>\n",
       "      <td>14533436</td>\n",
       "      <td>dar_bish0</td>\n",
       "      <td></td>\n",
       "      <td></td>\n",
       "      <td>52</td>\n",
       "      <td>128</td>\n",
       "      <td>Washington, DC</td>\n",
       "      <td>1343345912509308929</td>\n",
       "      <td>...</td>\n",
       "      <td>2020-12-27 23:59:58+00:00</td>\n",
       "      <td>[{'id': '12272322', 'screen_name': 'PoliticsRe...</td>\n",
       "      <td>[{'text': 'COVID19', 'indices': [51, 59]}]</td>\n",
       "      <td>[]</td>\n",
       "      <td>[]</td>\n",
       "      <td>Twitter for iPhone</td>\n",
       "      <td>True</td>\n",
       "      <td>1343333495985352704</td>\n",
       "      <td>12272322</td>\n",
       "      <td>2020-12-27</td>\n",
       "    </tr>\n",
       "    <tr>\n",
       "      <th>728735</th>\n",
       "      <td>Mon May 30 15:50:26 +0000 2011</td>\n",
       "      <td>bitcoin connection</td>\n",
       "      <td>307956719</td>\n",
       "      <td>bitcoinconnect1</td>\n",
       "      <td>http://t.co/8fW7QtwhKR</td>\n",
       "      <td></td>\n",
       "      <td>66</td>\n",
       "      <td>0</td>\n",
       "      <td>0</td>\n",
       "      <td>1343345912165371904</td>\n",
       "      <td>...</td>\n",
       "      <td>2020-12-27 23:59:58+00:00</td>\n",
       "      <td>[]</td>\n",
       "      <td>[{'text': 'nintendoswitch', 'indices': [110, 1...</td>\n",
       "      <td>[]</td>\n",
       "      <td>[{'url': 'https://t.co/T9ZWaoBmzN', 'expanded_...</td>\n",
       "      <td>Twitter Web App</td>\n",
       "      <td>False</td>\n",
       "      <td>0</td>\n",
       "      <td>0</td>\n",
       "      <td>2020-12-27</td>\n",
       "    </tr>\n",
       "    <tr>\n",
       "      <th>728737</th>\n",
       "      <td>Wed Feb 25 18:48:36 +0000 2009</td>\n",
       "      <td>Felicia Dugan</td>\n",
       "      <td>21901162</td>\n",
       "      <td>themessage8</td>\n",
       "      <td></td>\n",
       "      <td>Dog Lover and Rescuer, Hope dealer, Giving bac...</td>\n",
       "      <td>1868</td>\n",
       "      <td>2236</td>\n",
       "      <td>Tulsa, Oklahoma</td>\n",
       "      <td>1343345911297142785</td>\n",
       "      <td>...</td>\n",
       "      <td>2020-12-27 23:59:58+00:00</td>\n",
       "      <td>[{'id': '1275285589818998786', 'screen_name': ...</td>\n",
       "      <td>[{'text': 'COVID19', 'indices': [105, 113]}]</td>\n",
       "      <td>[]</td>\n",
       "      <td>[]</td>\n",
       "      <td>Twitter for iPhone</td>\n",
       "      <td>True</td>\n",
       "      <td>1343342548027322369</td>\n",
       "      <td>1275285589818998786</td>\n",
       "      <td>2020-12-27</td>\n",
       "    </tr>\n",
       "  </tbody>\n",
       "</table>\n",
       "<p>5 rows × 27 columns</p>\n",
       "</div>"
      ],
      "text/plain": [
       "                 account_creation_date   user_display_name  \\\n",
       "728608  Thu Apr 30 13:15:41 +0000 2020    News Sound Bites   \n",
       "728707  Sat Jul 11 04:26:01 +0000 2009           Ray Chick   \n",
       "728723  Fri Apr 25 20:18:17 +0000 2008            dar_bish   \n",
       "728735  Mon May 30 15:50:26 +0000 2011  bitcoin connection   \n",
       "728737  Wed Feb 25 18:48:36 +0000 2009       Felicia Dugan   \n",
       "\n",
       "                     userid user_screen_name        user_profile_url  \\\n",
       "728608  1255848224574763009      bites_sound                           \n",
       "728707             55756918           chickr  http://t.co/8Vtaab2DwA   \n",
       "728723             14533436        dar_bish0                           \n",
       "728735            307956719  bitcoinconnect1  http://t.co/8fW7QtwhKR   \n",
       "728737             21901162      themessage8                           \n",
       "\n",
       "                                 user_profile_description  follower_count  \\\n",
       "728608  A 🤖 curating news that keeps you informed with...              57   \n",
       "728707                                                                184   \n",
       "728723                                                                 52   \n",
       "728735                                                                 66   \n",
       "728737  Dog Lover and Rescuer, Hope dealer, Giving bac...            1868   \n",
       "\n",
       "        following_count user_reported_location              tweetid  ...  \\\n",
       "728608               18                      0  1343345914820370432  ...   \n",
       "728707              721               Colorado  1343345913977163776  ...   \n",
       "728723              128         Washington, DC  1343345912509308929  ...   \n",
       "728735                0                      0  1343345912165371904  ...   \n",
       "728737             2236        Tulsa, Oklahoma  1343345911297142785  ...   \n",
       "\n",
       "                      tweet_time  \\\n",
       "728608 2020-12-27 23:59:58+00:00   \n",
       "728707 2020-12-27 23:59:58+00:00   \n",
       "728723 2020-12-27 23:59:58+00:00   \n",
       "728735 2020-12-27 23:59:58+00:00   \n",
       "728737 2020-12-27 23:59:58+00:00   \n",
       "\n",
       "                                            user_mentions  \\\n",
       "728608  [{'id': '256833444', 'screen_name': 'Annastaci...   \n",
       "728707  [{'id': '18166778', 'screen_name': 'Jim_Jordan...   \n",
       "728723  [{'id': '12272322', 'screen_name': 'PoliticsRe...   \n",
       "728735                                                 []   \n",
       "728737  [{'id': '1275285589818998786', 'screen_name': ...   \n",
       "\n",
       "                                                 hashtags symbols  \\\n",
       "728608                                                 []      []   \n",
       "728707         [{'text': 'COVID19', 'indices': [20, 28]}]      []   \n",
       "728723         [{'text': 'COVID19', 'indices': [51, 59]}]      []   \n",
       "728735  [{'text': 'nintendoswitch', 'indices': [110, 1...      []   \n",
       "728737       [{'text': 'COVID19', 'indices': [105, 113]}]      []   \n",
       "\n",
       "                                                     urls   tweet_client_name  \\\n",
       "728608                                                 []             Twitter   \n",
       "728707                                                 []     Twitter Web App   \n",
       "728723                                                 []  Twitter for iPhone   \n",
       "728735  [{'url': 'https://t.co/T9ZWaoBmzN', 'expanded_...     Twitter Web App   \n",
       "728737                                                 []  Twitter for iPhone   \n",
       "\n",
       "       is_retweet    retweeted_tweetid    retweeted_user_id tweet_time_year  \n",
       "728608       True  1343333089360003073            256833444      2020-12-27  \n",
       "728707       True  1343266698745491456             18166778      2020-12-27  \n",
       "728723       True  1343333495985352704             12272322      2020-12-27  \n",
       "728735      False                    0                    0      2020-12-27  \n",
       "728737       True  1343342548027322369  1275285589818998786      2020-12-27  \n",
       "\n",
       "[5 rows x 27 columns]"
      ]
     },
     "execution_count": 65,
     "metadata": {},
     "output_type": "execute_result"
    }
   ],
   "source": [
    "df_control.loc[df_control['tweet_time'] == df_control['tweet_time'].max()]"
   ]
  },
  {
   "cell_type": "code",
   "execution_count": 69,
   "id": "b5523b25-355f-49e8-b8f9-23c56610f5b9",
   "metadata": {},
   "outputs": [
    {
     "data": {
      "text/plain": [
       "728608    2020-12-27\n",
       "728609    2020-12-27\n",
       "728610    2020-12-27\n",
       "728611    2020-12-27\n",
       "728612    2020-12-27\n",
       "             ...    \n",
       "728702    2020-12-27\n",
       "728703    2020-12-27\n",
       "728704    2020-12-27\n",
       "728705    2020-12-27\n",
       "728706    2020-12-27\n",
       "Name: tweet_time_year, Length: 99, dtype: object"
      ]
     },
     "execution_count": 69,
     "metadata": {},
     "output_type": "execute_result"
    }
   ],
   "source": [
    "df_control.loc[df_control['userid'] == '1255848224574763009']['tweet_time_year']"
   ]
  },
  {
   "cell_type": "code",
   "execution_count": 70,
   "id": "769614c1-3dbb-45fb-9636-0e21c04d3d2f",
   "metadata": {},
   "outputs": [],
   "source": [
    "## Maximum 100 tweets that were posted on the same day using same hashtags"
   ]
  },
  {
   "cell_type": "code",
   "execution_count": null,
   "id": "566ce050-05ac-4d45-ac3b-35588684d943",
   "metadata": {},
   "outputs": [],
   "source": []
  }
 ],
 "metadata": {
  "kernelspec": {
   "display_name": "Python 3 (ipykernel)",
   "language": "python",
   "name": "python3"
  },
  "language_info": {
   "codemirror_mode": {
    "name": "ipython",
    "version": 3
   },
   "file_extension": ".py",
   "mimetype": "text/x-python",
   "name": "python",
   "nbconvert_exporter": "python",
   "pygments_lexer": "ipython3",
   "version": "3.9.1"
  }
 },
 "nbformat": 4,
 "nbformat_minor": 5
}
